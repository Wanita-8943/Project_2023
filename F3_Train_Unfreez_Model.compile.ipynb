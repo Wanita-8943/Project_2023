{
  "nbformat": 4,
  "nbformat_minor": 0,
  "metadata": {
    "colab": {
      "provenance": [],
      "include_colab_link": true
    },
    "kernelspec": {
      "name": "python3",
      "display_name": "Python 3"
    },
    "language_info": {
      "name": "python"
    },
    "accelerator": "GPU",
    "gpuClass": "standard"
  },
  "cells": [
    {
      "cell_type": "markdown",
      "metadata": {
        "id": "view-in-github",
        "colab_type": "text"
      },
      "source": [
        "<a href=\"https://colab.research.google.com/github/Wanita-8943/Project_2023/blob/main/F3_Train_Unfreez_Model.compile.ipynb\" target=\"_parent\"><img src=\"https://colab.research.google.com/assets/colab-badge.svg\" alt=\"Open In Colab\"/></a>"
      ]
    },
    {
      "cell_type": "code",
      "execution_count": 1,
      "metadata": {
        "id": "KKSs7cyoPHcD"
      },
      "outputs": [],
      "source": [
        "import pandas as pd\n",
        "import shutil"
      ]
    },
    {
      "cell_type": "code",
      "source": [
        "from google.colab import drive\n",
        "drive.mount('/content/drive')"
      ],
      "metadata": {
        "colab": {
          "base_uri": "https://localhost:8080/"
        },
        "id": "7LoeZxmVPMxp",
        "outputId": "47a12a48-f11b-49e7-8ba9-d426c17f0e80"
      },
      "execution_count": 2,
      "outputs": [
        {
          "output_type": "stream",
          "name": "stdout",
          "text": [
            "Mounted at /content/drive\n"
          ]
        }
      ]
    },
    {
      "cell_type": "code",
      "source": [
        "from tensorflow.keras import models\n",
        "from tensorflow.keras import layers\n",
        "from tensorflow.keras import optimizers\n",
        "import os\n",
        "import glob\n",
        "import shutil\n",
        "import sys\n",
        "import numpy as np\n",
        "from skimage.io import imread\n",
        "import matplotlib.pyplot as plt\n",
        "from IPython.display import Image\n",
        "%matplotlib inline"
      ],
      "metadata": {
        "id": "1pX9g1HxPM2f"
      },
      "execution_count": 3,
      "outputs": []
    },
    {
      "cell_type": "code",
      "source": [
        "batch_size = 16\n",
        "width = 150\n",
        "height = 150\n",
        "epochs = 250\n",
        "NUM_TRAIN = 1425\n",
        "NUM_TEST = 475\n",
        "dropout_rate = 0.2\n",
        "input_shape = (height, width, 3)"
      ],
      "metadata": {
        "id": "eSFtvGyvPM6O"
      },
      "execution_count": 4,
      "outputs": []
    },
    {
      "cell_type": "code",
      "source": [
        "#ดึงข้อมูลใน Github มาใช้\n",
        "import os\n",
        "%cd /content\n",
        "if not os.path.isdir(\"efficientnet_keras_transfer_learning\"):\n",
        " !git clone https://github.com/Wanita-8943/efficientnet_keras_transfer_learning\n",
        "%cd efficientnet_keras_transfer_learning/"
      ],
      "metadata": {
        "colab": {
          "base_uri": "https://localhost:8080/"
        },
        "id": "lb4K4CsMPNAW",
        "outputId": "10d8196e-7ed3-4084-d075-7a2f20df3dd1"
      },
      "execution_count": 5,
      "outputs": [
        {
          "output_type": "stream",
          "name": "stdout",
          "text": [
            "/content\n",
            "Cloning into 'efficientnet_keras_transfer_learning'...\n",
            "remote: Enumerating objects: 837, done.\u001b[K\n",
            "remote: Counting objects: 100% (359/359), done.\u001b[K\n",
            "remote: Compressing objects: 100% (124/124), done.\u001b[K\n",
            "remote: Total 837 (delta 255), reused 328 (delta 235), pack-reused 478\u001b[K\n",
            "Receiving objects: 100% (837/837), 13.82 MiB | 10.12 MiB/s, done.\n",
            "Resolving deltas: 100% (495/495), done.\n",
            "/content/efficientnet_keras_transfer_learning\n"
          ]
        }
      ]
    },
    {
      "cell_type": "code",
      "source": [
        "# Options: EfficientNetB0, EfficientNetB1, EfficientNetB2, EfficientNetB3\n",
        "# Higher the number, the more complex the model is.\n",
        "from efficientnet import EfficientNetB0 as Net\n",
        "from efficientnet import center_crop_and_resize, preprocess_input"
      ],
      "metadata": {
        "id": "eyBg0dLKPND3"
      },
      "execution_count": 6,
      "outputs": []
    },
    {
      "cell_type": "code",
      "source": [
        "# loading pretrained conv base model\n",
        "# โหลดโมเดล มาโดยตัด output ของโมเดลออก เเต่ยังใช้ input อันเดิม\n",
        "# เเละโหลด weight ของโมเดล มาด้วยที่ชื่อว่า imagenet\n",
        "conv_base = Net(weights='imagenet', include_top=False, input_shape=input_shape)"
      ],
      "metadata": {
        "colab": {
          "base_uri": "https://localhost:8080/"
        },
        "id": "vk9pa3wQGZSz",
        "outputId": "1e89cfa9-8980-4623-ecac-3c0b510465d4"
      },
      "execution_count": 7,
      "outputs": [
        {
          "output_type": "stream",
          "name": "stderr",
          "text": [
            "WARNING:tensorflow:From /usr/local/lib/python3.8/dist-packages/tensorflow/python/autograph/pyct/static_analysis/liveness.py:83: Analyzer.lamba_check (from tensorflow.python.autograph.pyct.static_analysis.liveness) is deprecated and will be removed after 2023-09-23.\n",
            "Instructions for updating:\n",
            "Lambda fuctions will be no more assumed to be used in the statement where they are used, or at least in the same block. https://github.com/tensorflow/tensorflow/issues/56089\n"
          ]
        },
        {
          "output_type": "stream",
          "name": "stdout",
          "text": [
            "Downloading data from https://github.com/qubvel/efficientnet/releases/download/v0.0.1/efficientnet-b0_imagenet_1000_notop.h5\n",
            "16717576/16717576 [==============================] - 4s 0us/step\n"
          ]
        }
      ]
    },
    {
      "cell_type": "code",
      "source": [
        "base_dir = '/content/drive/MyDrive/TVT_Female125'\n",
        "os.makedirs(base_dir, exist_ok=True)\n",
        "\n",
        "# Directories for our training,\n",
        "# validation and test splits\n",
        "train_dir = os.path.join(base_dir, 'train')\n",
        "os.makedirs(train_dir, exist_ok=True)\n",
        "validation_dir = os.path.join(base_dir, 'validation')\n",
        "os.makedirs(validation_dir, exist_ok=True)\n",
        "test_dir = os.path.join(base_dir, 'test')\n",
        "os.makedirs(test_dir, exist_ok=True)"
      ],
      "metadata": {
        "id": "Jwpq_-KvPef8"
      },
      "execution_count": 8,
      "outputs": []
    },
    {
      "cell_type": "markdown",
      "source": [
        "#load model"
      ],
      "metadata": {
        "id": "od-ZSNm5PoGy"
      }
    },
    {
      "cell_type": "code",
      "source": [
        "import sys\n",
        "sys.path.append('/content/drive/MyDrive/cut_panoramic/Model/Classification/Female/22_รอบที่2_Flimpano_Female125_250.h5')\n",
        "\n",
        "from efficientnet.layers import Swish, DropConnect\n",
        "from efficientnet.model import ConvKernalInitializer\n",
        "from tensorflow.keras.utils import get_custom_objects\n",
        "\n",
        "get_custom_objects().update({\n",
        "    'ConvKernalInitializer': ConvKernalInitializer,\n",
        "    'Swish': Swish,\n",
        "    'DropConnect':DropConnect\n",
        "})"
      ],
      "metadata": {
        "id": "n5iPL5MNPkhE"
      },
      "execution_count": 9,
      "outputs": []
    },
    {
      "cell_type": "code",
      "source": [
        "#load model \n",
        "from tensorflow.keras.models import load_model\n",
        "model = load_model('/content/drive/MyDrive/cut_panoramic/Model/Classification/Female/22_รอบที่2_Flimpano_Female125_250.h5')\n",
        "height = width = model.input_shape[1]"
      ],
      "metadata": {
        "id": "plYz49xMPkly"
      },
      "execution_count": 10,
      "outputs": []
    },
    {
      "cell_type": "code",
      "source": [
        "model.summary()"
      ],
      "metadata": {
        "colab": {
          "base_uri": "https://localhost:8080/"
        },
        "id": "z6IOPBflFbvc",
        "outputId": "753aea7d-d82b-49b2-a2c4-21983714c275"
      },
      "execution_count": 11,
      "outputs": [
        {
          "output_type": "stream",
          "name": "stdout",
          "text": [
            "Model: \"sequential_2\"\n",
            "_________________________________________________________________\n",
            " Layer (type)                Output Shape              Param #   \n",
            "=================================================================\n",
            " efficientnet-b0 (Functional  (None, 5, 5, 1280)       4049564   \n",
            " )                                                               \n",
            "                                                                 \n",
            " gap (GlobalMaxPooling2D)    (None, 1280)              0         \n",
            "                                                                 \n",
            " dropout_out (Dropout)       (None, 1280)              0         \n",
            "                                                                 \n",
            " fc_out (Dense)              (None, 19)                24339     \n",
            "                                                                 \n",
            "=================================================================\n",
            "Total params: 4,073,903\n",
            "Trainable params: 24,339\n",
            "Non-trainable params: 4,049,564\n",
            "_________________________________________________________________\n"
          ]
        }
      ]
    },
    {
      "cell_type": "code",
      "source": [
        "# Train ด้วย ImageDataGenerator ของ Keras ซึ่งจะเพิ่มข้อมูลเสริมระหว่างการฝึกเพื่อลดโอกาสเกิด overfitting\n",
        "#overfitting เกิดจากข้อมูลที่ซับซ้อนกันเกินไป\n",
        "from tensorflow.keras.preprocessing.image import ImageDataGenerator\n",
        "\n",
        "train_datagen = ImageDataGenerator(\n",
        "      rescale=1./255, #โมเดลส่วนใหญ่ต้องใช้ RGB ในช่วง 0–1\n",
        "      rotation_range=40,\n",
        "      width_shift_range=0.2,\n",
        "      height_shift_range=0.2,\n",
        "      shear_range=0.2,\n",
        "      zoom_range=0.2,\n",
        "      horizontal_flip=True,\n",
        "      fill_mode='nearest')\n",
        "\n",
        "# Note that the validation data should not be augmented!\n",
        "test_datagen = ImageDataGenerator(rescale=1./255)\n",
        "\n",
        "train_generator = train_datagen.flow_from_directory(\n",
        "        # This is the target directory #ไดเรกเป้าหมาย\n",
        "        train_dir,\n",
        "        # รูปภาพทั้งหมดจะถูกปรับขนาดตามความสูงและความกว้างของเป้าหมาย\n",
        "        target_size=(height, width),\n",
        "        batch_size=batch_size,\n",
        "        # Since we use categorical_crossentropy loss, we need categorical labels\n",
        "        #เนื่องจากเราใช้ categorical_crossentropy loss เราจึงต้องมีป้ายกำกับตามหมวดหมู่\n",
        "        class_mode='categorical')\n",
        "\n",
        "validation_generator = test_datagen.flow_from_directory( #การดึงภาพจาก Directory มาเข้าโมเดล \n",
        "        validation_dir,\n",
        "        target_size=(height, width),\n",
        "        batch_size=batch_size,\n",
        "        class_mode='categorical')"
      ],
      "metadata": {
        "colab": {
          "base_uri": "https://localhost:8080/"
        },
        "id": "KBMZbdr2Pgw4",
        "outputId": "8c9b0fd6-bf46-4a04-8ba1-9b22e99c2ac8"
      },
      "execution_count": 12,
      "outputs": [
        {
          "output_type": "stream",
          "name": "stdout",
          "text": [
            "Found 1425 images belonging to 19 classes.\n",
            "Found 475 images belonging to 19 classes.\n"
          ]
        }
      ]
    },
    {
      "cell_type": "code",
      "source": [
        "# multiply_16\n",
        "# set 'multiply_16' and following layers trainable\n",
        "model.trainable = True\n",
        "\n",
        "set_trainable = False\n",
        "for layer in conv_base.layers:\n",
        "    if layer.name == 'multiply_16':\n",
        "        set_trainable = True\n",
        "    if set_trainable:\n",
        "        layer.trainable = True\n",
        "    else:\n",
        "        layer.trainable = False  "
      ],
      "metadata": {
        "id": "RAGlQawVGb3R"
      },
      "execution_count": 13,
      "outputs": []
    },
    {
      "cell_type": "code",
      "source": [
        "model.summary()"
      ],
      "metadata": {
        "colab": {
          "base_uri": "https://localhost:8080/"
        },
        "id": "FIwnHnfbGlKR",
        "outputId": "057fffd3-561d-42ca-983b-07b56ef7aed8"
      },
      "execution_count": 14,
      "outputs": [
        {
          "output_type": "stream",
          "name": "stdout",
          "text": [
            "Model: \"sequential_2\"\n",
            "_________________________________________________________________\n",
            " Layer (type)                Output Shape              Param #   \n",
            "=================================================================\n",
            " efficientnet-b0 (Functional  (None, 5, 5, 1280)       4049564   \n",
            " )                                                               \n",
            "                                                                 \n",
            " gap (GlobalMaxPooling2D)    (None, 1280)              0         \n",
            "                                                                 \n",
            " dropout_out (Dropout)       (None, 1280)              0         \n",
            "                                                                 \n",
            " fc_out (Dense)              (None, 19)                24339     \n",
            "                                                                 \n",
            "=================================================================\n",
            "Total params: 4,073,903\n",
            "Trainable params: 4,031,887\n",
            "Non-trainable params: 42,016\n",
            "_________________________________________________________________\n"
          ]
        }
      ]
    },
    {
      "cell_type": "code",
      "source": [
        "model.compile(loss='categorical_crossentropy',\n",
        "              optimizer=optimizers.RMSprop(learning_rate=2e-5),\n",
        "              metrics=['acc'])\n",
        "history = model.fit_generator(\n",
        "      train_generator,\n",
        "      steps_per_epoch= NUM_TRAIN //batch_size,\n",
        "      epochs=epochs,\n",
        "      validation_data=validation_generator,\n",
        "      validation_steps= NUM_TEST //batch_size,\n",
        "      verbose=1,\n",
        "      use_multiprocessing=True,\n",
        "      workers=4)"
      ],
      "metadata": {
        "colab": {
          "base_uri": "https://localhost:8080/"
        },
        "id": "C9Cf1dwyP1PD",
        "outputId": "971bee2b-0095-4e7f-e446-d0332aaa313c"
      },
      "execution_count": 15,
      "outputs": [
        {
          "output_type": "stream",
          "name": "stderr",
          "text": [
            "<ipython-input-15-95ae5648fc7b>:4: UserWarning: `Model.fit_generator` is deprecated and will be removed in a future version. Please use `Model.fit`, which supports generators.\n",
            "  history = model.fit_generator(\n"
          ]
        },
        {
          "output_type": "stream",
          "name": "stdout",
          "text": [
            "Epoch 1/250\n",
            "89/89 [==============================] - 440s 4s/step - loss: 17.5402 - acc: 0.0561 - val_loss: 5.0137 - val_acc: 0.0991\n",
            "Epoch 2/250\n",
            "89/89 [==============================] - 28s 300ms/step - loss: 9.7664 - acc: 0.0788 - val_loss: 7.3498 - val_acc: 0.1034\n",
            "Epoch 3/250\n",
            "89/89 [==============================] - 28s 295ms/step - loss: 5.8743 - acc: 0.1072 - val_loss: 7.7090 - val_acc: 0.0905\n",
            "Epoch 4/250\n",
            "89/89 [==============================] - 28s 297ms/step - loss: 4.4727 - acc: 0.1363 - val_loss: 7.2338 - val_acc: 0.1013\n",
            "Epoch 5/250\n",
            "89/89 [==============================] - 27s 299ms/step - loss: 4.0142 - acc: 0.1590 - val_loss: 6.4405 - val_acc: 0.1056\n",
            "Epoch 6/250\n",
            "89/89 [==============================] - 27s 292ms/step - loss: 3.8931 - acc: 0.1462 - val_loss: 6.1601 - val_acc: 0.1164\n",
            "Epoch 7/250\n",
            "89/89 [==============================] - 27s 294ms/step - loss: 3.6587 - acc: 0.1568 - val_loss: 5.1116 - val_acc: 0.1164\n",
            "Epoch 8/250\n",
            "89/89 [==============================] - 27s 292ms/step - loss: 3.5365 - acc: 0.1753 - val_loss: 3.8091 - val_acc: 0.1315\n",
            "Epoch 9/250\n",
            "89/89 [==============================] - 26s 288ms/step - loss: 3.5962 - acc: 0.1583 - val_loss: 3.4568 - val_acc: 0.1487\n",
            "Epoch 10/250\n",
            "89/89 [==============================] - 27s 292ms/step - loss: 3.3378 - acc: 0.1817 - val_loss: 3.5523 - val_acc: 0.1444\n",
            "Epoch 11/250\n",
            "89/89 [==============================] - 28s 308ms/step - loss: 3.2965 - acc: 0.1746 - val_loss: 3.6827 - val_acc: 0.1401\n",
            "Epoch 12/250\n",
            "89/89 [==============================] - 27s 300ms/step - loss: 3.2254 - acc: 0.1767 - val_loss: 3.8103 - val_acc: 0.1509\n",
            "Epoch 13/250\n",
            "89/89 [==============================] - 28s 304ms/step - loss: 3.1314 - acc: 0.1710 - val_loss: 3.8812 - val_acc: 0.1487\n",
            "Epoch 14/250\n",
            "89/89 [==============================] - 28s 308ms/step - loss: 3.1284 - acc: 0.1838 - val_loss: 3.9369 - val_acc: 0.1401\n",
            "Epoch 15/250\n",
            "89/89 [==============================] - 27s 295ms/step - loss: 3.0926 - acc: 0.1881 - val_loss: 3.8235 - val_acc: 0.1444\n",
            "Epoch 16/250\n",
            "89/89 [==============================] - 28s 308ms/step - loss: 3.0850 - acc: 0.1902 - val_loss: 3.8396 - val_acc: 0.1509\n",
            "Epoch 17/250\n",
            "89/89 [==============================] - 28s 308ms/step - loss: 2.9615 - acc: 0.2009 - val_loss: 3.8053 - val_acc: 0.1379\n",
            "Epoch 18/250\n",
            "89/89 [==============================] - 28s 312ms/step - loss: 2.9257 - acc: 0.1930 - val_loss: 3.8598 - val_acc: 0.1487\n",
            "Epoch 19/250\n",
            "89/89 [==============================] - 28s 312ms/step - loss: 2.9031 - acc: 0.1930 - val_loss: 3.8422 - val_acc: 0.1379\n",
            "Epoch 20/250\n",
            "89/89 [==============================] - 29s 313ms/step - loss: 2.8686 - acc: 0.1831 - val_loss: 3.7483 - val_acc: 0.1422\n",
            "Epoch 21/250\n",
            "89/89 [==============================] - 29s 315ms/step - loss: 2.8035 - acc: 0.2037 - val_loss: 3.7399 - val_acc: 0.1401\n",
            "Epoch 22/250\n",
            "89/89 [==============================] - 28s 313ms/step - loss: 2.7336 - acc: 0.1994 - val_loss: 3.5365 - val_acc: 0.1444\n",
            "Epoch 23/250\n",
            "89/89 [==============================] - 28s 307ms/step - loss: 2.7024 - acc: 0.2143 - val_loss: 3.4967 - val_acc: 0.1509\n",
            "Epoch 24/250\n",
            "89/89 [==============================] - 29s 313ms/step - loss: 2.7181 - acc: 0.2129 - val_loss: 3.4305 - val_acc: 0.1681\n",
            "Epoch 25/250\n",
            "89/89 [==============================] - 29s 314ms/step - loss: 2.6181 - acc: 0.2058 - val_loss: 3.3719 - val_acc: 0.1659\n",
            "Epoch 26/250\n",
            "89/89 [==============================] - 29s 313ms/step - loss: 2.5880 - acc: 0.2342 - val_loss: 3.4048 - val_acc: 0.1616\n",
            "Epoch 27/250\n",
            "89/89 [==============================] - 24s 259ms/step - loss: 2.5110 - acc: 0.2250 - val_loss: 3.5734 - val_acc: 0.1552\n",
            "Epoch 28/250\n",
            "89/89 [==============================] - 29s 321ms/step - loss: 2.4580 - acc: 0.2257 - val_loss: 3.5527 - val_acc: 0.1530\n",
            "Epoch 29/250\n",
            "89/89 [==============================] - 29s 316ms/step - loss: 2.4366 - acc: 0.2257 - val_loss: 3.5219 - val_acc: 0.1379\n",
            "Epoch 30/250\n",
            "89/89 [==============================] - 29s 313ms/step - loss: 2.4853 - acc: 0.2264 - val_loss: 3.5492 - val_acc: 0.1444\n",
            "Epoch 31/250\n",
            "89/89 [==============================] - 28s 303ms/step - loss: 2.4619 - acc: 0.2569 - val_loss: 3.4468 - val_acc: 0.1552\n",
            "Epoch 32/250\n",
            "89/89 [==============================] - 28s 305ms/step - loss: 2.3379 - acc: 0.2385 - val_loss: 3.3779 - val_acc: 0.1379\n",
            "Epoch 33/250\n",
            "89/89 [==============================] - 28s 310ms/step - loss: 2.4458 - acc: 0.2335 - val_loss: 3.3568 - val_acc: 0.1358\n",
            "Epoch 34/250\n",
            "89/89 [==============================] - 29s 315ms/step - loss: 2.3217 - acc: 0.2427 - val_loss: 3.3689 - val_acc: 0.1444\n",
            "Epoch 35/250\n",
            "89/89 [==============================] - 29s 319ms/step - loss: 2.3110 - acc: 0.2463 - val_loss: 3.3599 - val_acc: 0.1444\n",
            "Epoch 36/250\n",
            "89/89 [==============================] - 29s 317ms/step - loss: 2.3638 - acc: 0.2420 - val_loss: 3.2150 - val_acc: 0.1444\n",
            "Epoch 37/250\n",
            "89/89 [==============================] - 29s 322ms/step - loss: 2.2813 - acc: 0.2583 - val_loss: 3.3020 - val_acc: 0.1444\n",
            "Epoch 38/250\n",
            "89/89 [==============================] - 28s 309ms/step - loss: 2.2720 - acc: 0.2556 - val_loss: 3.2940 - val_acc: 0.1422\n",
            "Epoch 39/250\n",
            "89/89 [==============================] - 29s 314ms/step - loss: 2.2453 - acc: 0.2505 - val_loss: 3.2665 - val_acc: 0.1379\n",
            "Epoch 40/250\n",
            "89/89 [==============================] - 29s 313ms/step - loss: 2.2064 - acc: 0.2740 - val_loss: 3.1800 - val_acc: 0.1401\n",
            "Epoch 41/250\n",
            "89/89 [==============================] - 29s 315ms/step - loss: 2.1815 - acc: 0.2555 - val_loss: 3.3339 - val_acc: 0.1422\n",
            "Epoch 42/250\n",
            "89/89 [==============================] - 29s 317ms/step - loss: 2.1929 - acc: 0.2775 - val_loss: 3.3011 - val_acc: 0.1422\n",
            "Epoch 43/250\n",
            "89/89 [==============================] - 28s 311ms/step - loss: 2.1895 - acc: 0.2605 - val_loss: 3.3141 - val_acc: 0.1466\n",
            "Epoch 44/250\n",
            "89/89 [==============================] - 29s 316ms/step - loss: 2.1321 - acc: 0.3038 - val_loss: 3.1771 - val_acc: 0.1509\n",
            "Epoch 45/250\n",
            "89/89 [==============================] - 29s 317ms/step - loss: 2.1027 - acc: 0.2967 - val_loss: 3.2746 - val_acc: 0.1530\n",
            "Epoch 46/250\n",
            "89/89 [==============================] - 28s 312ms/step - loss: 2.1283 - acc: 0.2782 - val_loss: 3.1537 - val_acc: 0.1487\n",
            "Epoch 47/250\n",
            "89/89 [==============================] - 29s 315ms/step - loss: 2.1099 - acc: 0.2818 - val_loss: 3.1608 - val_acc: 0.1422\n",
            "Epoch 48/250\n",
            "89/89 [==============================] - 28s 304ms/step - loss: 2.1263 - acc: 0.2846 - val_loss: 3.2002 - val_acc: 0.1509\n",
            "Epoch 49/250\n",
            "89/89 [==============================] - 29s 317ms/step - loss: 2.0894 - acc: 0.2945 - val_loss: 3.1775 - val_acc: 0.1487\n",
            "Epoch 50/250\n",
            "89/89 [==============================] - 29s 322ms/step - loss: 2.0272 - acc: 0.3066 - val_loss: 3.1719 - val_acc: 0.1466\n",
            "Epoch 51/250\n",
            "89/89 [==============================] - 24s 260ms/step - loss: 2.0543 - acc: 0.2747 - val_loss: 3.1645 - val_acc: 0.1466\n",
            "Epoch 52/250\n",
            "89/89 [==============================] - 27s 291ms/step - loss: 2.0269 - acc: 0.3023 - val_loss: 3.1814 - val_acc: 0.1509\n",
            "Epoch 53/250\n",
            "89/89 [==============================] - 23s 246ms/step - loss: 2.0184 - acc: 0.3002 - val_loss: 3.3832 - val_acc: 0.1422\n",
            "Epoch 54/250\n",
            "89/89 [==============================] - 27s 291ms/step - loss: 2.0244 - acc: 0.2896 - val_loss: 3.2799 - val_acc: 0.1401\n",
            "Epoch 55/250\n",
            "89/89 [==============================] - 27s 295ms/step - loss: 1.9981 - acc: 0.3066 - val_loss: 3.1529 - val_acc: 0.1509\n",
            "Epoch 56/250\n",
            "89/89 [==============================] - 27s 293ms/step - loss: 2.0059 - acc: 0.3009 - val_loss: 3.1838 - val_acc: 0.1552\n",
            "Epoch 57/250\n",
            "89/89 [==============================] - 23s 248ms/step - loss: 2.0021 - acc: 0.2945 - val_loss: 3.1417 - val_acc: 0.1530\n",
            "Epoch 58/250\n",
            "89/89 [==============================] - 24s 261ms/step - loss: 1.9594 - acc: 0.3293 - val_loss: 3.2080 - val_acc: 0.1401\n",
            "Epoch 59/250\n",
            "89/89 [==============================] - 28s 310ms/step - loss: 1.9473 - acc: 0.3130 - val_loss: 3.1326 - val_acc: 0.1422\n",
            "Epoch 60/250\n",
            "89/89 [==============================] - 27s 300ms/step - loss: 1.9642 - acc: 0.3286 - val_loss: 3.1288 - val_acc: 0.1444\n",
            "Epoch 61/250\n",
            "89/89 [==============================] - 29s 316ms/step - loss: 1.9326 - acc: 0.3272 - val_loss: 3.0692 - val_acc: 0.1530\n",
            "Epoch 62/250\n",
            "89/89 [==============================] - 29s 318ms/step - loss: 1.9256 - acc: 0.3265 - val_loss: 3.0081 - val_acc: 0.1509\n",
            "Epoch 63/250\n",
            "89/89 [==============================] - 29s 318ms/step - loss: 1.9155 - acc: 0.3208 - val_loss: 3.0320 - val_acc: 0.1422\n",
            "Epoch 64/250\n",
            "89/89 [==============================] - 29s 317ms/step - loss: 1.9270 - acc: 0.3109 - val_loss: 3.1144 - val_acc: 0.1509\n",
            "Epoch 65/250\n",
            "89/89 [==============================] - 29s 315ms/step - loss: 1.8778 - acc: 0.3478 - val_loss: 3.0641 - val_acc: 0.1422\n",
            "Epoch 66/250\n",
            "89/89 [==============================] - 29s 318ms/step - loss: 1.8475 - acc: 0.3357 - val_loss: 3.0530 - val_acc: 0.1358\n",
            "Epoch 67/250\n",
            "89/89 [==============================] - 29s 314ms/step - loss: 1.9009 - acc: 0.3251 - val_loss: 3.1082 - val_acc: 0.1487\n",
            "Epoch 68/250\n",
            "89/89 [==============================] - 28s 311ms/step - loss: 1.8566 - acc: 0.3534 - val_loss: 3.1118 - val_acc: 0.1336\n",
            "Epoch 69/250\n",
            "89/89 [==============================] - 29s 318ms/step - loss: 1.8777 - acc: 0.3478 - val_loss: 3.2402 - val_acc: 0.1379\n",
            "Epoch 70/250\n",
            "89/89 [==============================] - 29s 322ms/step - loss: 1.8981 - acc: 0.3400 - val_loss: 3.2777 - val_acc: 0.1401\n",
            "Epoch 71/250\n",
            "89/89 [==============================] - 29s 318ms/step - loss: 1.8062 - acc: 0.3605 - val_loss: 3.2402 - val_acc: 0.1358\n",
            "Epoch 72/250\n",
            "89/89 [==============================] - 29s 322ms/step - loss: 1.8594 - acc: 0.3527 - val_loss: 3.0695 - val_acc: 0.1487\n",
            "Epoch 73/250\n",
            "89/89 [==============================] - 29s 321ms/step - loss: 1.8179 - acc: 0.3641 - val_loss: 3.1175 - val_acc: 0.1444\n",
            "Epoch 74/250\n",
            "89/89 [==============================] - 29s 315ms/step - loss: 1.8298 - acc: 0.3442 - val_loss: 3.0882 - val_acc: 0.1379\n",
            "Epoch 75/250\n",
            "89/89 [==============================] - 29s 321ms/step - loss: 1.8031 - acc: 0.3542 - val_loss: 3.1717 - val_acc: 0.1401\n",
            "Epoch 76/250\n",
            "89/89 [==============================] - 29s 320ms/step - loss: 1.7905 - acc: 0.3598 - val_loss: 3.1964 - val_acc: 0.1401\n",
            "Epoch 77/250\n",
            "89/89 [==============================] - 29s 314ms/step - loss: 1.7543 - acc: 0.3747 - val_loss: 3.2692 - val_acc: 0.1487\n",
            "Epoch 78/250\n",
            "89/89 [==============================] - 29s 315ms/step - loss: 1.7474 - acc: 0.3783 - val_loss: 3.2674 - val_acc: 0.1466\n",
            "Epoch 79/250\n",
            "89/89 [==============================] - 28s 312ms/step - loss: 1.8096 - acc: 0.3669 - val_loss: 3.2763 - val_acc: 0.1573\n",
            "Epoch 80/250\n",
            "89/89 [==============================] - 28s 311ms/step - loss: 1.7252 - acc: 0.4074 - val_loss: 3.1280 - val_acc: 0.1530\n",
            "Epoch 81/250\n",
            "89/89 [==============================] - 28s 311ms/step - loss: 1.7193 - acc: 0.3911 - val_loss: 3.0518 - val_acc: 0.1552\n",
            "Epoch 82/250\n",
            "89/89 [==============================] - 29s 314ms/step - loss: 1.7333 - acc: 0.3747 - val_loss: 3.0910 - val_acc: 0.1552\n",
            "Epoch 83/250\n",
            "89/89 [==============================] - 29s 317ms/step - loss: 1.7422 - acc: 0.3811 - val_loss: 3.1600 - val_acc: 0.1487\n",
            "Epoch 84/250\n",
            "89/89 [==============================] - 28s 296ms/step - loss: 1.7343 - acc: 0.4031 - val_loss: 3.3364 - val_acc: 0.1552\n",
            "Epoch 85/250\n",
            "89/89 [==============================] - 28s 297ms/step - loss: 1.6725 - acc: 0.3996 - val_loss: 3.2393 - val_acc: 0.1681\n",
            "Epoch 86/250\n",
            "89/89 [==============================] - 23s 243ms/step - loss: 1.6923 - acc: 0.3925 - val_loss: 3.1446 - val_acc: 0.1616\n",
            "Epoch 87/250\n",
            "89/89 [==============================] - 28s 307ms/step - loss: 1.6390 - acc: 0.4109 - val_loss: 3.1825 - val_acc: 0.1638\n",
            "Epoch 88/250\n",
            "89/89 [==============================] - 29s 320ms/step - loss: 1.6735 - acc: 0.3982 - val_loss: 3.0203 - val_acc: 0.1638\n",
            "Epoch 89/250\n",
            "89/89 [==============================] - 29s 313ms/step - loss: 1.6536 - acc: 0.4131 - val_loss: 3.0999 - val_acc: 0.1552\n",
            "Epoch 90/250\n",
            "89/89 [==============================] - 28s 307ms/step - loss: 1.6607 - acc: 0.4131 - val_loss: 3.1849 - val_acc: 0.1616\n",
            "Epoch 91/250\n",
            "89/89 [==============================] - 29s 315ms/step - loss: 1.6528 - acc: 0.4102 - val_loss: 3.1582 - val_acc: 0.1659\n",
            "Epoch 92/250\n",
            "89/89 [==============================] - 28s 305ms/step - loss: 1.6402 - acc: 0.4145 - val_loss: 3.2530 - val_acc: 0.1659\n",
            "Epoch 93/250\n",
            "89/89 [==============================] - 28s 305ms/step - loss: 1.6406 - acc: 0.4095 - val_loss: 3.2371 - val_acc: 0.1638\n",
            "Epoch 94/250\n",
            "89/89 [==============================] - 29s 312ms/step - loss: 1.5835 - acc: 0.4329 - val_loss: 3.4266 - val_acc: 0.1530\n",
            "Epoch 95/250\n",
            "89/89 [==============================] - 28s 302ms/step - loss: 1.5975 - acc: 0.4414 - val_loss: 3.2594 - val_acc: 0.1573\n",
            "Epoch 96/250\n",
            "89/89 [==============================] - 28s 297ms/step - loss: 1.5749 - acc: 0.4585 - val_loss: 3.3636 - val_acc: 0.1616\n",
            "Epoch 97/250\n",
            "89/89 [==============================] - 23s 241ms/step - loss: 1.6141 - acc: 0.4244 - val_loss: 3.2934 - val_acc: 0.1659\n",
            "Epoch 98/250\n",
            "89/89 [==============================] - 27s 297ms/step - loss: 1.6083 - acc: 0.4365 - val_loss: 3.1347 - val_acc: 0.1595\n",
            "Epoch 99/250\n",
            "89/89 [==============================] - 27s 295ms/step - loss: 1.5235 - acc: 0.4677 - val_loss: 3.2572 - val_acc: 0.1616\n",
            "Epoch 100/250\n",
            "89/89 [==============================] - 30s 325ms/step - loss: 1.5333 - acc: 0.4542 - val_loss: 3.1788 - val_acc: 0.1659\n",
            "Epoch 101/250\n",
            "89/89 [==============================] - 29s 312ms/step - loss: 1.5608 - acc: 0.4393 - val_loss: 3.2801 - val_acc: 0.1573\n",
            "Epoch 102/250\n",
            "89/89 [==============================] - 29s 315ms/step - loss: 1.5449 - acc: 0.4443 - val_loss: 3.1468 - val_acc: 0.1659\n",
            "Epoch 103/250\n",
            "89/89 [==============================] - 29s 317ms/step - loss: 1.5138 - acc: 0.4578 - val_loss: 3.2184 - val_acc: 0.1573\n",
            "Epoch 104/250\n",
            "89/89 [==============================] - 28s 311ms/step - loss: 1.5285 - acc: 0.4407 - val_loss: 3.4782 - val_acc: 0.1552\n",
            "Epoch 105/250\n",
            "89/89 [==============================] - 29s 317ms/step - loss: 1.5440 - acc: 0.4599 - val_loss: 3.4578 - val_acc: 0.1595\n",
            "Epoch 106/250\n",
            "89/89 [==============================] - 29s 317ms/step - loss: 1.5199 - acc: 0.4542 - val_loss: 3.4264 - val_acc: 0.1638\n",
            "Epoch 107/250\n",
            "89/89 [==============================] - 29s 314ms/step - loss: 1.5089 - acc: 0.4528 - val_loss: 3.3967 - val_acc: 0.1573\n",
            "Epoch 108/250\n",
            "89/89 [==============================] - 28s 307ms/step - loss: 1.5212 - acc: 0.4677 - val_loss: 3.3016 - val_acc: 0.1703\n",
            "Epoch 109/250\n",
            "89/89 [==============================] - 28s 309ms/step - loss: 1.4751 - acc: 0.4755 - val_loss: 3.4105 - val_acc: 0.1509\n",
            "Epoch 110/250\n",
            "89/89 [==============================] - 29s 312ms/step - loss: 1.4792 - acc: 0.4791 - val_loss: 3.3471 - val_acc: 0.1573\n",
            "Epoch 111/250\n",
            "89/89 [==============================] - 29s 315ms/step - loss: 1.4536 - acc: 0.4975 - val_loss: 3.2991 - val_acc: 0.1509\n",
            "Epoch 112/250\n",
            "89/89 [==============================] - 29s 316ms/step - loss: 1.4525 - acc: 0.4727 - val_loss: 3.2278 - val_acc: 0.1530\n",
            "Epoch 113/250\n",
            "89/89 [==============================] - 29s 316ms/step - loss: 1.4732 - acc: 0.4741 - val_loss: 3.2186 - val_acc: 0.1552\n",
            "Epoch 114/250\n",
            "89/89 [==============================] - 29s 319ms/step - loss: 1.4527 - acc: 0.5082 - val_loss: 3.3906 - val_acc: 0.1552\n",
            "Epoch 115/250\n",
            "89/89 [==============================] - 24s 258ms/step - loss: 1.4299 - acc: 0.4925 - val_loss: 3.3567 - val_acc: 0.1552\n",
            "Epoch 116/250\n",
            "89/89 [==============================] - 29s 313ms/step - loss: 1.4066 - acc: 0.5082 - val_loss: 3.3779 - val_acc: 0.1595\n",
            "Epoch 117/250\n",
            "89/89 [==============================] - 29s 317ms/step - loss: 1.4184 - acc: 0.4982 - val_loss: 3.3982 - val_acc: 0.1573\n",
            "Epoch 118/250\n",
            "89/89 [==============================] - 29s 317ms/step - loss: 1.3826 - acc: 0.5216 - val_loss: 3.2411 - val_acc: 0.1659\n",
            "Epoch 119/250\n",
            "89/89 [==============================] - 29s 316ms/step - loss: 1.3729 - acc: 0.5224 - val_loss: 3.3303 - val_acc: 0.1616\n",
            "Epoch 120/250\n",
            "89/89 [==============================] - 29s 318ms/step - loss: 1.3868 - acc: 0.5202 - val_loss: 3.2626 - val_acc: 0.1595\n",
            "Epoch 121/250\n",
            "89/89 [==============================] - 29s 316ms/step - loss: 1.3991 - acc: 0.5110 - val_loss: 3.3216 - val_acc: 0.1530\n",
            "Epoch 122/250\n",
            "89/89 [==============================] - 29s 317ms/step - loss: 1.3932 - acc: 0.4968 - val_loss: 3.3439 - val_acc: 0.1552\n",
            "Epoch 123/250\n",
            "89/89 [==============================] - 29s 318ms/step - loss: 1.3492 - acc: 0.5245 - val_loss: 3.3724 - val_acc: 0.1573\n",
            "Epoch 124/250\n",
            "89/89 [==============================] - 29s 317ms/step - loss: 1.3300 - acc: 0.5394 - val_loss: 3.4151 - val_acc: 0.1659\n",
            "Epoch 125/250\n",
            "89/89 [==============================] - 29s 320ms/step - loss: 1.3349 - acc: 0.5422 - val_loss: 3.4408 - val_acc: 0.1595\n",
            "Epoch 126/250\n",
            "89/89 [==============================] - 29s 318ms/step - loss: 1.3238 - acc: 0.5351 - val_loss: 3.5764 - val_acc: 0.1530\n",
            "Epoch 127/250\n",
            "89/89 [==============================] - 28s 311ms/step - loss: 1.3319 - acc: 0.5231 - val_loss: 3.6250 - val_acc: 0.1573\n",
            "Epoch 128/250\n",
            "89/89 [==============================] - 24s 267ms/step - loss: 1.3156 - acc: 0.5231 - val_loss: 3.5264 - val_acc: 0.1616\n",
            "Epoch 129/250\n",
            "89/89 [==============================] - 22s 238ms/step - loss: 1.3270 - acc: 0.5458 - val_loss: 3.4754 - val_acc: 0.1638\n",
            "Epoch 130/250\n",
            "89/89 [==============================] - 28s 309ms/step - loss: 1.3134 - acc: 0.5344 - val_loss: 3.6298 - val_acc: 0.1573\n",
            "Epoch 131/250\n",
            "89/89 [==============================] - 23s 251ms/step - loss: 1.3112 - acc: 0.5486 - val_loss: 3.5978 - val_acc: 0.1552\n",
            "Epoch 132/250\n",
            "89/89 [==============================] - 24s 263ms/step - loss: 1.2930 - acc: 0.5600 - val_loss: 3.5992 - val_acc: 0.1681\n",
            "Epoch 133/250\n",
            "89/89 [==============================] - 27s 292ms/step - loss: 1.2729 - acc: 0.5408 - val_loss: 3.4218 - val_acc: 0.1638\n",
            "Epoch 134/250\n",
            "89/89 [==============================] - 28s 302ms/step - loss: 1.2901 - acc: 0.5515 - val_loss: 3.4676 - val_acc: 0.1595\n",
            "Epoch 135/250\n",
            "89/89 [==============================] - 29s 314ms/step - loss: 1.2424 - acc: 0.5763 - val_loss: 3.6244 - val_acc: 0.1616\n",
            "Epoch 136/250\n",
            "89/89 [==============================] - 28s 308ms/step - loss: 1.2367 - acc: 0.5699 - val_loss: 3.6741 - val_acc: 0.1616\n",
            "Epoch 137/250\n",
            "89/89 [==============================] - 24s 261ms/step - loss: 1.2407 - acc: 0.5593 - val_loss: 3.6381 - val_acc: 0.1552\n",
            "Epoch 138/250\n",
            "89/89 [==============================] - 29s 315ms/step - loss: 1.2547 - acc: 0.5571 - val_loss: 3.5859 - val_acc: 0.1659\n",
            "Epoch 139/250\n",
            "89/89 [==============================] - 29s 318ms/step - loss: 1.2698 - acc: 0.5522 - val_loss: 3.6337 - val_acc: 0.1552\n",
            "Epoch 140/250\n",
            "89/89 [==============================] - 29s 316ms/step - loss: 1.1718 - acc: 0.6104 - val_loss: 3.6815 - val_acc: 0.1530\n",
            "Epoch 141/250\n",
            "89/89 [==============================] - 28s 309ms/step - loss: 1.1955 - acc: 0.5969 - val_loss: 3.7538 - val_acc: 0.1509\n",
            "Epoch 142/250\n",
            "89/89 [==============================] - 29s 312ms/step - loss: 1.1614 - acc: 0.5969 - val_loss: 3.7949 - val_acc: 0.1509\n",
            "Epoch 143/250\n",
            "89/89 [==============================] - 29s 317ms/step - loss: 1.2243 - acc: 0.5791 - val_loss: 3.9621 - val_acc: 0.1530\n",
            "Epoch 144/250\n",
            "89/89 [==============================] - 29s 317ms/step - loss: 1.1991 - acc: 0.5720 - val_loss: 3.8194 - val_acc: 0.1659\n",
            "Epoch 145/250\n",
            "89/89 [==============================] - 29s 317ms/step - loss: 1.1100 - acc: 0.6229 - val_loss: 3.9106 - val_acc: 0.1616\n",
            "Epoch 146/250\n",
            "89/89 [==============================] - 29s 316ms/step - loss: 1.1744 - acc: 0.5940 - val_loss: 3.9166 - val_acc: 0.1638\n",
            "Epoch 147/250\n",
            "89/89 [==============================] - 29s 322ms/step - loss: 1.1445 - acc: 0.5912 - val_loss: 3.9778 - val_acc: 0.1552\n",
            "Epoch 148/250\n",
            "89/89 [==============================] - 28s 312ms/step - loss: 1.1642 - acc: 0.5933 - val_loss: 3.9323 - val_acc: 0.1681\n",
            "Epoch 149/250\n",
            "89/89 [==============================] - 29s 316ms/step - loss: 1.1241 - acc: 0.6153 - val_loss: 3.8469 - val_acc: 0.1638\n",
            "Epoch 150/250\n",
            "89/89 [==============================] - 24s 259ms/step - loss: 1.0936 - acc: 0.6260 - val_loss: 3.8980 - val_acc: 0.1659\n",
            "Epoch 151/250\n",
            "89/89 [==============================] - 29s 314ms/step - loss: 1.1282 - acc: 0.6089 - val_loss: 3.8533 - val_acc: 0.1595\n",
            "Epoch 152/250\n",
            "89/89 [==============================] - 24s 262ms/step - loss: 1.0891 - acc: 0.6111 - val_loss: 3.8257 - val_acc: 0.1595\n",
            "Epoch 153/250\n",
            "89/89 [==============================] - 29s 317ms/step - loss: 1.0970 - acc: 0.6146 - val_loss: 3.9222 - val_acc: 0.1573\n",
            "Epoch 154/250\n",
            "89/89 [==============================] - 29s 316ms/step - loss: 1.0812 - acc: 0.6246 - val_loss: 4.0373 - val_acc: 0.1573\n",
            "Epoch 155/250\n",
            "89/89 [==============================] - 29s 316ms/step - loss: 1.0721 - acc: 0.6366 - val_loss: 4.0589 - val_acc: 0.1638\n",
            "Epoch 156/250\n",
            "89/89 [==============================] - 29s 316ms/step - loss: 1.0476 - acc: 0.6366 - val_loss: 3.9663 - val_acc: 0.1724\n",
            "Epoch 157/250\n",
            "89/89 [==============================] - 29s 314ms/step - loss: 1.0702 - acc: 0.6366 - val_loss: 3.9549 - val_acc: 0.1638\n",
            "Epoch 158/250\n",
            "89/89 [==============================] - 29s 323ms/step - loss: 1.0579 - acc: 0.6288 - val_loss: 3.8311 - val_acc: 0.1530\n",
            "Epoch 159/250\n",
            "89/89 [==============================] - 29s 316ms/step - loss: 1.0034 - acc: 0.6615 - val_loss: 3.9153 - val_acc: 0.1724\n",
            "Epoch 160/250\n",
            "89/89 [==============================] - 29s 315ms/step - loss: 1.0127 - acc: 0.6508 - val_loss: 4.0266 - val_acc: 0.1638\n",
            "Epoch 161/250\n",
            "89/89 [==============================] - 24s 263ms/step - loss: 1.0518 - acc: 0.6444 - val_loss: 4.0159 - val_acc: 0.1616\n",
            "Epoch 162/250\n",
            "89/89 [==============================] - 27s 293ms/step - loss: 0.9934 - acc: 0.6508 - val_loss: 4.0946 - val_acc: 0.1466\n",
            "Epoch 163/250\n",
            "89/89 [==============================] - 27s 296ms/step - loss: 1.0243 - acc: 0.6629 - val_loss: 3.9986 - val_acc: 0.1724\n",
            "Epoch 164/250\n",
            "89/89 [==============================] - 28s 311ms/step - loss: 0.9932 - acc: 0.6622 - val_loss: 4.0308 - val_acc: 0.1616\n",
            "Epoch 165/250\n",
            "89/89 [==============================] - 28s 310ms/step - loss: 1.0158 - acc: 0.6388 - val_loss: 3.9532 - val_acc: 0.1530\n",
            "Epoch 166/250\n",
            "89/89 [==============================] - 29s 318ms/step - loss: 1.0504 - acc: 0.6338 - val_loss: 3.7422 - val_acc: 0.1573\n",
            "Epoch 167/250\n",
            "89/89 [==============================] - 29s 317ms/step - loss: 0.9796 - acc: 0.6671 - val_loss: 3.8643 - val_acc: 0.1552\n",
            "Epoch 168/250\n",
            "89/89 [==============================] - 26s 287ms/step - loss: 0.9799 - acc: 0.6395 - val_loss: 4.0490 - val_acc: 0.1638\n",
            "Epoch 169/250\n",
            "89/89 [==============================] - 28s 304ms/step - loss: 0.9319 - acc: 0.6820 - val_loss: 3.8985 - val_acc: 0.1638\n",
            "Epoch 170/250\n",
            "89/89 [==============================] - 29s 313ms/step - loss: 0.9500 - acc: 0.6735 - val_loss: 3.9232 - val_acc: 0.1573\n",
            "Epoch 171/250\n",
            "89/89 [==============================] - 29s 316ms/step - loss: 0.9402 - acc: 0.6706 - val_loss: 4.0034 - val_acc: 0.1681\n",
            "Epoch 172/250\n",
            "89/89 [==============================] - 29s 316ms/step - loss: 0.8989 - acc: 0.6899 - val_loss: 4.0613 - val_acc: 0.1573\n",
            "Epoch 173/250\n",
            "89/89 [==============================] - 29s 321ms/step - loss: 0.9345 - acc: 0.6707 - val_loss: 4.0394 - val_acc: 0.1573\n",
            "Epoch 174/250\n",
            "89/89 [==============================] - 25s 268ms/step - loss: 0.9545 - acc: 0.6700 - val_loss: 3.9934 - val_acc: 0.1616\n",
            "Epoch 175/250\n",
            "89/89 [==============================] - 23s 245ms/step - loss: 0.9014 - acc: 0.6927 - val_loss: 4.0448 - val_acc: 0.1552\n",
            "Epoch 176/250\n",
            "89/89 [==============================] - 28s 309ms/step - loss: 0.9387 - acc: 0.6799 - val_loss: 4.0949 - val_acc: 0.1638\n",
            "Epoch 177/250\n",
            "89/89 [==============================] - 29s 313ms/step - loss: 0.8473 - acc: 0.6913 - val_loss: 4.1906 - val_acc: 0.1573\n",
            "Epoch 178/250\n",
            "89/89 [==============================] - 29s 316ms/step - loss: 0.8307 - acc: 0.7232 - val_loss: 4.3476 - val_acc: 0.1552\n",
            "Epoch 179/250\n",
            "89/89 [==============================] - 29s 315ms/step - loss: 0.8823 - acc: 0.6913 - val_loss: 4.1923 - val_acc: 0.1552\n",
            "Epoch 180/250\n",
            "89/89 [==============================] - 30s 329ms/step - loss: 0.8639 - acc: 0.7048 - val_loss: 4.3886 - val_acc: 0.1573\n",
            "Epoch 181/250\n",
            "89/89 [==============================] - 28s 310ms/step - loss: 0.8367 - acc: 0.7140 - val_loss: 4.3863 - val_acc: 0.1552\n",
            "Epoch 182/250\n",
            "89/89 [==============================] - 29s 317ms/step - loss: 0.8588 - acc: 0.7154 - val_loss: 4.3386 - val_acc: 0.1659\n",
            "Epoch 183/250\n",
            "89/89 [==============================] - 28s 312ms/step - loss: 0.8833 - acc: 0.7026 - val_loss: 4.2657 - val_acc: 0.1616\n",
            "Epoch 184/250\n",
            "89/89 [==============================] - 29s 318ms/step - loss: 0.8717 - acc: 0.6920 - val_loss: 4.3893 - val_acc: 0.1595\n",
            "Epoch 185/250\n",
            "89/89 [==============================] - 28s 309ms/step - loss: 0.8119 - acc: 0.7154 - val_loss: 4.2124 - val_acc: 0.1681\n",
            "Epoch 186/250\n",
            "89/89 [==============================] - 24s 261ms/step - loss: 0.8186 - acc: 0.7211 - val_loss: 4.2304 - val_acc: 0.1595\n",
            "Epoch 187/250\n",
            "89/89 [==============================] - 28s 312ms/step - loss: 0.7693 - acc: 0.7232 - val_loss: 4.3589 - val_acc: 0.1616\n",
            "Epoch 188/250\n",
            "89/89 [==============================] - 29s 320ms/step - loss: 0.8311 - acc: 0.7239 - val_loss: 4.4239 - val_acc: 0.1573\n",
            "Epoch 189/250\n",
            "89/89 [==============================] - 25s 268ms/step - loss: 0.8345 - acc: 0.7119 - val_loss: 4.3806 - val_acc: 0.1595\n",
            "Epoch 190/250\n",
            "89/89 [==============================] - 29s 316ms/step - loss: 0.7833 - acc: 0.7402 - val_loss: 4.3849 - val_acc: 0.1509\n",
            "Epoch 191/250\n",
            "89/89 [==============================] - 29s 320ms/step - loss: 0.7757 - acc: 0.7339 - val_loss: 4.3115 - val_acc: 0.1724\n",
            "Epoch 192/250\n",
            "89/89 [==============================] - 31s 341ms/step - loss: 0.7806 - acc: 0.7289 - val_loss: 4.4194 - val_acc: 0.1681\n",
            "Epoch 193/250\n",
            "89/89 [==============================] - 28s 306ms/step - loss: 0.7780 - acc: 0.7388 - val_loss: 4.4804 - val_acc: 0.1681\n",
            "Epoch 194/250\n",
            "89/89 [==============================] - 28s 311ms/step - loss: 0.7525 - acc: 0.7339 - val_loss: 4.5112 - val_acc: 0.1681\n",
            "Epoch 195/250\n",
            "89/89 [==============================] - 29s 315ms/step - loss: 0.7338 - acc: 0.7402 - val_loss: 4.4752 - val_acc: 0.1638\n",
            "Epoch 196/250\n",
            "89/89 [==============================] - 29s 316ms/step - loss: 0.7445 - acc: 0.7431 - val_loss: 4.3409 - val_acc: 0.1659\n",
            "Epoch 197/250\n",
            "89/89 [==============================] - 24s 258ms/step - loss: 0.7241 - acc: 0.7594 - val_loss: 4.4617 - val_acc: 0.1659\n",
            "Epoch 198/250\n",
            "89/89 [==============================] - 29s 318ms/step - loss: 0.7050 - acc: 0.7523 - val_loss: 4.5278 - val_acc: 0.1767\n",
            "Epoch 199/250\n",
            "89/89 [==============================] - 29s 319ms/step - loss: 0.6989 - acc: 0.7551 - val_loss: 4.4536 - val_acc: 0.1638\n",
            "Epoch 200/250\n",
            "89/89 [==============================] - 29s 318ms/step - loss: 0.6973 - acc: 0.7566 - val_loss: 4.4946 - val_acc: 0.1659\n",
            "Epoch 201/250\n",
            "89/89 [==============================] - 29s 315ms/step - loss: 0.6853 - acc: 0.7779 - val_loss: 4.6197 - val_acc: 0.1595\n",
            "Epoch 202/250\n",
            "89/89 [==============================] - 29s 320ms/step - loss: 0.7298 - acc: 0.7509 - val_loss: 4.5579 - val_acc: 0.1509\n",
            "Epoch 203/250\n",
            "89/89 [==============================] - 29s 319ms/step - loss: 0.6958 - acc: 0.7693 - val_loss: 4.3456 - val_acc: 0.1616\n",
            "Epoch 204/250\n",
            "89/89 [==============================] - 29s 316ms/step - loss: 0.6859 - acc: 0.7573 - val_loss: 4.4411 - val_acc: 0.1509\n",
            "Epoch 205/250\n",
            "89/89 [==============================] - 30s 332ms/step - loss: 0.6452 - acc: 0.7750 - val_loss: 4.5490 - val_acc: 0.1616\n",
            "Epoch 206/250\n",
            "89/89 [==============================] - 23s 251ms/step - loss: 0.7221 - acc: 0.7523 - val_loss: 4.5915 - val_acc: 0.1616\n",
            "Epoch 207/250\n",
            "89/89 [==============================] - 29s 324ms/step - loss: 0.6570 - acc: 0.7736 - val_loss: 4.6498 - val_acc: 0.1573\n",
            "Epoch 208/250\n",
            "89/89 [==============================] - 29s 320ms/step - loss: 0.6543 - acc: 0.7686 - val_loss: 4.7500 - val_acc: 0.1616\n",
            "Epoch 209/250\n",
            "89/89 [==============================] - 29s 321ms/step - loss: 0.6353 - acc: 0.7807 - val_loss: 4.7269 - val_acc: 0.1509\n",
            "Epoch 210/250\n",
            "89/89 [==============================] - 30s 327ms/step - loss: 0.6677 - acc: 0.7700 - val_loss: 4.6613 - val_acc: 0.1552\n",
            "Epoch 211/250\n",
            "89/89 [==============================] - 29s 315ms/step - loss: 0.6656 - acc: 0.7622 - val_loss: 4.7428 - val_acc: 0.1573\n",
            "Epoch 212/250\n",
            "89/89 [==============================] - 29s 322ms/step - loss: 0.6472 - acc: 0.7750 - val_loss: 4.6128 - val_acc: 0.1595\n",
            "Epoch 213/250\n",
            "89/89 [==============================] - 29s 319ms/step - loss: 0.6373 - acc: 0.7736 - val_loss: 4.6886 - val_acc: 0.1552\n",
            "Epoch 214/250\n",
            "89/89 [==============================] - 30s 324ms/step - loss: 0.6040 - acc: 0.7821 - val_loss: 4.6763 - val_acc: 0.1573\n",
            "Epoch 215/250\n",
            "89/89 [==============================] - 29s 315ms/step - loss: 0.6172 - acc: 0.7864 - val_loss: 4.6046 - val_acc: 0.1638\n",
            "Epoch 216/250\n",
            "89/89 [==============================] - 24s 264ms/step - loss: 0.6065 - acc: 0.7906 - val_loss: 4.6838 - val_acc: 0.1616\n",
            "Epoch 217/250\n",
            "89/89 [==============================] - 31s 338ms/step - loss: 0.6356 - acc: 0.7750 - val_loss: 4.6639 - val_acc: 0.1659\n",
            "Epoch 218/250\n",
            "89/89 [==============================] - 29s 315ms/step - loss: 0.5746 - acc: 0.8055 - val_loss: 4.8206 - val_acc: 0.1703\n",
            "Epoch 219/250\n",
            "89/89 [==============================] - 29s 312ms/step - loss: 0.5699 - acc: 0.7963 - val_loss: 4.6783 - val_acc: 0.1552\n",
            "Epoch 220/250\n",
            "89/89 [==============================] - 29s 324ms/step - loss: 0.6088 - acc: 0.7899 - val_loss: 4.5838 - val_acc: 0.1724\n",
            "Epoch 221/250\n",
            "89/89 [==============================] - 29s 314ms/step - loss: 0.5392 - acc: 0.8183 - val_loss: 4.7274 - val_acc: 0.1681\n",
            "Epoch 222/250\n",
            "89/89 [==============================] - 29s 310ms/step - loss: 0.5868 - acc: 0.8041 - val_loss: 4.8461 - val_acc: 0.1703\n",
            "Epoch 223/250\n",
            "89/89 [==============================] - 29s 304ms/step - loss: 0.5341 - acc: 0.8197 - val_loss: 4.6966 - val_acc: 0.1853\n",
            "Epoch 224/250\n",
            "89/89 [==============================] - 29s 305ms/step - loss: 0.5543 - acc: 0.8027 - val_loss: 4.8254 - val_acc: 0.1724\n",
            "Epoch 225/250\n",
            "89/89 [==============================] - 28s 298ms/step - loss: 0.5474 - acc: 0.8219 - val_loss: 4.8665 - val_acc: 0.1767\n",
            "Epoch 226/250\n",
            "89/89 [==============================] - 23s 245ms/step - loss: 0.5336 - acc: 0.8169 - val_loss: 4.8068 - val_acc: 0.1746\n",
            "Epoch 227/250\n",
            "89/89 [==============================] - 28s 308ms/step - loss: 0.5724 - acc: 0.8048 - val_loss: 4.8477 - val_acc: 0.1789\n",
            "Epoch 228/250\n",
            "89/89 [==============================] - 29s 313ms/step - loss: 0.5969 - acc: 0.7956 - val_loss: 5.0804 - val_acc: 0.1767\n",
            "Epoch 229/250\n",
            "89/89 [==============================] - 31s 343ms/step - loss: 0.5579 - acc: 0.7970 - val_loss: 4.9875 - val_acc: 0.1810\n",
            "Epoch 230/250\n",
            "89/89 [==============================] - 29s 319ms/step - loss: 0.5695 - acc: 0.8098 - val_loss: 4.9424 - val_acc: 0.1659\n",
            "Epoch 231/250\n",
            "89/89 [==============================] - 29s 320ms/step - loss: 0.5166 - acc: 0.8275 - val_loss: 5.0897 - val_acc: 0.1681\n",
            "Epoch 232/250\n",
            "89/89 [==============================] - 29s 321ms/step - loss: 0.4909 - acc: 0.8223 - val_loss: 4.9610 - val_acc: 0.1703\n",
            "Epoch 233/250\n",
            "89/89 [==============================] - 29s 321ms/step - loss: 0.5155 - acc: 0.8254 - val_loss: 5.1202 - val_acc: 0.1659\n",
            "Epoch 234/250\n",
            "89/89 [==============================] - 30s 325ms/step - loss: 0.5165 - acc: 0.8197 - val_loss: 5.2593 - val_acc: 0.1767\n",
            "Epoch 235/250\n",
            "89/89 [==============================] - 29s 318ms/step - loss: 0.4658 - acc: 0.8448 - val_loss: 5.3108 - val_acc: 0.1616\n",
            "Epoch 236/250\n",
            "89/89 [==============================] - 29s 318ms/step - loss: 0.5484 - acc: 0.8183 - val_loss: 5.0505 - val_acc: 0.1703\n",
            "Epoch 237/250\n",
            "89/89 [==============================] - 29s 316ms/step - loss: 0.4935 - acc: 0.8318 - val_loss: 5.2563 - val_acc: 0.1552\n",
            "Epoch 238/250\n",
            "89/89 [==============================] - 29s 321ms/step - loss: 0.4700 - acc: 0.8403 - val_loss: 5.1016 - val_acc: 0.1703\n",
            "Epoch 239/250\n",
            "89/89 [==============================] - 29s 316ms/step - loss: 0.5253 - acc: 0.8148 - val_loss: 5.0020 - val_acc: 0.1703\n",
            "Epoch 240/250\n",
            "89/89 [==============================] - 29s 313ms/step - loss: 0.5068 - acc: 0.8325 - val_loss: 5.0099 - val_acc: 0.1724\n",
            "Epoch 241/250\n",
            "89/89 [==============================] - 26s 274ms/step - loss: 0.4854 - acc: 0.8396 - val_loss: 4.8887 - val_acc: 0.1789\n",
            "Epoch 242/250\n",
            "89/89 [==============================] - 29s 318ms/step - loss: 0.4671 - acc: 0.8375 - val_loss: 4.7848 - val_acc: 0.1875\n",
            "Epoch 243/250\n",
            "89/89 [==============================] - 29s 320ms/step - loss: 0.4790 - acc: 0.8424 - val_loss: 4.9552 - val_acc: 0.1918\n",
            "Epoch 244/250\n",
            "89/89 [==============================] - 29s 318ms/step - loss: 0.4456 - acc: 0.8517 - val_loss: 5.0461 - val_acc: 0.1832\n",
            "Epoch 245/250\n",
            "89/89 [==============================] - 29s 315ms/step - loss: 0.4651 - acc: 0.8488 - val_loss: 5.1675 - val_acc: 0.1703\n",
            "Epoch 246/250\n",
            "89/89 [==============================] - 24s 260ms/step - loss: 0.4287 - acc: 0.8573 - val_loss: 5.4224 - val_acc: 0.1573\n",
            "Epoch 247/250\n",
            "89/89 [==============================] - 29s 314ms/step - loss: 0.4387 - acc: 0.8545 - val_loss: 5.3835 - val_acc: 0.1659\n",
            "Epoch 248/250\n",
            "89/89 [==============================] - 29s 314ms/step - loss: 0.5070 - acc: 0.8304 - val_loss: 5.4317 - val_acc: 0.1552\n",
            "Epoch 249/250\n",
            "89/89 [==============================] - 29s 317ms/step - loss: 0.4181 - acc: 0.8502 - val_loss: 5.2944 - val_acc: 0.1789\n",
            "Epoch 250/250\n",
            "89/89 [==============================] - 29s 317ms/step - loss: 0.4484 - acc: 0.8403 - val_loss: 5.4248 - val_acc: 0.1703\n"
          ]
        }
      ]
    },
    {
      "cell_type": "code",
      "source": [
        "acc = history.history['acc']\n",
        "val_acc = history.history['val_acc']\n",
        "loss = history.history['loss']\n",
        "val_loss = history.history['val_loss']\n",
        "\n",
        "epochs_x = range(len(acc))\n",
        "\n",
        "plt.plot(epochs_x, acc, 'mo', label='Training acc')\n",
        "plt.plot(epochs_x, val_acc, 'k', label='Validation acc')\n",
        "plt.title('Training and validation accuracy')\n",
        "plt.legend()\n",
        "\n",
        "plt.figure()\n",
        "\n",
        "plt.plot(epochs_x, loss, 'mo', label='Training loss')\n",
        "plt.plot(epochs_x, val_loss, 'k', label='Validation loss')\n",
        "plt.title('Training and validation loss')\n",
        "plt.legend()\n",
        "\n",
        "plt.show()"
      ],
      "metadata": {
        "id": "kwylTJpTP5XI",
        "colab": {
          "base_uri": "https://localhost:8080/",
          "height": 545
        },
        "outputId": "127e334c-1cdf-4644-d1c4-3dd453aae1e8"
      },
      "execution_count": 16,
      "outputs": [
        {
          "output_type": "display_data",
          "data": {
            "text/plain": [
              "<Figure size 432x288 with 1 Axes>"
            ],
            "image/png": "[encoded data removed]"
          },
          "metadata": {
            "needs_background": "light"
          }
        },
        {
          "output_type": "display_data",
          "data": {
            "text/plain": [
              "<Figure size 432x288 with 1 Axes>"
            ],
            "image/png": "[encoded data removed]"
          },
          "metadata": {
            "needs_background": "light"
          }
        }
      ]
    },
    {
      "cell_type": "markdown",
      "source": [
        "#Download the model"
      ],
      "metadata": {
        "id": "lD-vKaoHQAFd"
      }
    },
    {
      "cell_type": "code",
      "source": [
        "os.makedirs('/content/drive/My Drive/cut_panoramic/Model', exist_ok=True)\n",
        "model.save('/content/drive/My Drive/cut_panoramic/Model//Classification/Female/New_33_รอบที่3_Flimpano_Female125_250_New_Unfreez.h5')"
      ],
      "metadata": {
        "id": "74dL7-HLP_Sh"
      },
      "execution_count": 17,
      "outputs": []
    },
    {
      "cell_type": "code",
      "source": [
        "# from google.colab import files\n",
        "# files.download('/content/drive/My Drive/cut_panoramic/Model/33_รอบที่3_Flimpano_Female125_250.h5')"
      ],
      "metadata": {
        "id": "qcPW-brHQDpc"
      },
      "execution_count": null,
      "outputs": []
    }
  ]
}