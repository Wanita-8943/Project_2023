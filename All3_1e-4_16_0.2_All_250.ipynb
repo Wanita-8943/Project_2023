{
  "nbformat": 4,
  "nbformat_minor": 0,
  "metadata": {
    "colab": {
      "provenance": [],
      "include_colab_link": true
    },
    "kernelspec": {
      "name": "python3",
      "display_name": "Python 3"
    },
    "language_info": {
      "name": "python"
    },
    "accelerator": "GPU",
    "gpuClass": "standard"
  },
  "cells": [
    {
      "cell_type": "markdown",
      "metadata": {
        "id": "view-in-github",
        "colab_type": "text"
      },
      "source": [
        "<a href=\"https://colab.research.google.com/github/Wanita-8943/Project_2023/blob/main/All3_1e-4_16_0.2_All_250.ipynb\" target=\"_parent\"><img src=\"https://colab.research.google.com/assets/colab-badge.svg\" alt=\"Open In Colab\"/></a>"
      ]
    },
    {
      "cell_type": "markdown",
      "source": [
        "#เรียกใช้ CSV"
      ],
      "metadata": {
        "id": "ow7eWoNw6U-c"
      }
    },
    {
      "cell_type": "code",
      "execution_count": 1,
      "metadata": {
        "id": "z8o_VVNXzcL8"
      },
      "outputs": [],
      "source": [
        "import pandas as pd\n",
        "import shutil"
      ]
    },
    {
      "cell_type": "code",
      "source": [
        "from google.colab import drive\n",
        "drive.mount('/content/drive')"
      ],
      "metadata": {
        "colab": {
          "base_uri": "https://localhost:8080/"
        },
        "id": "1_2Fe8u81d5r",
        "outputId": "8cd4fb47-a693-4f41-96c6-8c242403aa50"
      },
      "execution_count": 2,
      "outputs": [
        {
          "output_type": "stream",
          "name": "stdout",
          "text": [
            "Mounted at /content/drive\n"
          ]
        }
      ]
    },
    {
      "cell_type": "markdown",
      "source": [
        "#Imports"
      ],
      "metadata": {
        "id": "5qxePnnn7TGW"
      }
    },
    {
      "cell_type": "code",
      "source": [
        "from tensorflow.keras import models\n",
        "from tensorflow.keras import layers\n",
        "from tensorflow.keras import optimizers\n",
        "import os\n",
        "import glob\n",
        "import shutil\n",
        "import sys\n",
        "import numpy as np\n",
        "from skimage.io import imread\n",
        "import matplotlib.pyplot as plt\n",
        "from IPython.display import Image\n",
        "%matplotlib inline"
      ],
      "metadata": {
        "id": "D-hCRloc3t39"
      },
      "execution_count": 3,
      "outputs": []
    },
    {
      "cell_type": "code",
      "source": [
        "import tensorflow as tf\n",
        "from tensorflow.keras import Sequential\n",
        "from tensorflow.keras.layers import Dense\n",
        "from tensorflow.keras.optimizers import Adam\n",
        "from tensorflow.keras import backend as K"
      ],
      "metadata": {
        "id": "YZWXwjXeGxZP"
      },
      "execution_count": 4,
      "outputs": []
    },
    {
      "cell_type": "markdown",
      "source": [
        "#กำหนดค่าพารามิเตอร์\n"
      ],
      "metadata": {
        "id": "RooqSdBc7QHC"
      }
    },
    {
      "cell_type": "code",
      "source": [
        "batch_size = 16\n",
        "width = 150\n",
        "height = 150\n",
        "epochs = 250\n",
        "NUM_TRAIN = 2850\n",
        "NUM_TEST = 950\n",
        "dropout_rate = 0.2\n",
        "input_shape = (height, width, 3)"
      ],
      "metadata": {
        "id": "thDb7U9B3xOo"
      },
      "execution_count": 5,
      "outputs": []
    },
    {
      "cell_type": "markdown",
      "source": [
        "#Clone efficientnet repo\n"
      ],
      "metadata": {
        "id": "pumGmy6f3eSW"
      }
    },
    {
      "cell_type": "code",
      "source": [
        "#ดึงข้อมูลใน Github มาใช้\n",
        "import os\n",
        "%cd /content\n",
        "if not os.path.isdir(\"efficientnet_keras_transfer_learning\"):\n",
        " !git clone https://github.com/Wanita-8943/efficientnet_keras_transfer_learning\n",
        "%cd efficientnet_keras_transfer_learning/\n"
      ],
      "metadata": {
        "colab": {
          "base_uri": "https://localhost:8080/"
        },
        "id": "P7iy2f8n16p0",
        "outputId": "6ba92e04-cb78-4463-b0b0-b89faaea1593"
      },
      "execution_count": 6,
      "outputs": [
        {
          "output_type": "stream",
          "name": "stdout",
          "text": [
            "/content\n",
            "Cloning into 'efficientnet_keras_transfer_learning'...\n",
            "remote: Enumerating objects: 837, done.\u001b[K\n",
            "remote: Counting objects: 100% (359/359), done.\u001b[K\n",
            "remote: Compressing objects: 100% (124/124), done.\u001b[K\n",
            "remote: Total 837 (delta 255), reused 328 (delta 235), pack-reused 478\u001b[K\n",
            "Receiving objects: 100% (837/837), 13.82 MiB | 5.14 MiB/s, done.\n",
            "Resolving deltas: 100% (495/495), done.\n",
            "/content/efficientnet_keras_transfer_learning\n"
          ]
        }
      ]
    },
    {
      "cell_type": "code",
      "source": [
        "# Options: EfficientNetB0, EfficientNetB1, EfficientNetB2, EfficientNetB3\n",
        "# Higher the number, the more complex the model is.\n",
        "from efficientnet import EfficientNetB0 as Net\n",
        "from efficientnet import center_crop_and_resize, preprocess_input"
      ],
      "metadata": {
        "id": "tjZBRnfo3bN0"
      },
      "execution_count": 7,
      "outputs": []
    },
    {
      "cell_type": "markdown",
      "source": [
        "#load model\n"
      ],
      "metadata": {
        "id": "PdNWyD-QYkzK"
      }
    },
    {
      "cell_type": "code",
      "source": [
        "import sys\n",
        "sys.path.append('/content/drive/MyDrive/cut_panoramic/Model/2Re_All_1G_1e-4_16_0.2_250.h5')\n",
        "\n",
        "from efficientnet.layers import Swish, DropConnect\n",
        "from efficientnet.model import ConvKernalInitializer\n",
        "from tensorflow.keras.utils import get_custom_objects\n",
        "\n",
        "get_custom_objects().update({\n",
        "    'ConvKernalInitializer': ConvKernalInitializer,\n",
        "    'Swish': Swish,\n",
        "    'DropConnect':DropConnect\n",
        "})"
      ],
      "metadata": {
        "id": "_gPnx2UvYf5A"
      },
      "execution_count": 8,
      "outputs": []
    },
    {
      "cell_type": "code",
      "source": [
        "#load model \n",
        "from tensorflow.keras.models import load_model\n",
        "model = load_model('/content/drive/MyDrive/cut_panoramic/Model/2Re_All_1G_1e-4_16_0.2_250.h5')\n",
        "height = width = model.input_shape[1]"
      ],
      "metadata": {
        "id": "Nu93WzFUYm9e",
        "colab": {
          "base_uri": "https://localhost:8080/"
        },
        "outputId": "b75d6eb5-34b3-4db0-bb14-422cd84a7ad1"
      },
      "execution_count": 9,
      "outputs": [
        {
          "output_type": "stream",
          "name": "stderr",
          "text": [
            "WARNING:tensorflow:From /usr/local/lib/python3.8/dist-packages/tensorflow/python/autograph/pyct/static_analysis/liveness.py:83: Analyzer.lamba_check (from tensorflow.python.autograph.pyct.static_analysis.liveness) is deprecated and will be removed after 2023-09-23.\n",
            "Instructions for updating:\n",
            "Lambda fuctions will be no more assumed to be used in the statement where they are used, or at least in the same block. https://github.com/tensorflow/tensorflow/issues/56089\n"
          ]
        }
      ]
    },
    {
      "cell_type": "code",
      "source": [
        "model.summary()"
      ],
      "metadata": {
        "id": "gp5EbyyXYvc6",
        "colab": {
          "base_uri": "https://localhost:8080/"
        },
        "outputId": "4d1516e0-feb0-451e-908d-aa818523aa28"
      },
      "execution_count": 10,
      "outputs": [
        {
          "output_type": "stream",
          "name": "stdout",
          "text": [
            "Model: \"sequential\"\n",
            "_________________________________________________________________\n",
            " Layer (type)                Output Shape              Param #   \n",
            "=================================================================\n",
            " efficientnet-b0 (Functional  (None, 5, 5, 1280)       4049564   \n",
            " )                                                               \n",
            "                                                                 \n",
            " gap (GlobalMaxPooling2D)    (None, 1280)              0         \n",
            "                                                                 \n",
            " dropout_out (Dropout)       (None, 1280)              0         \n",
            "                                                                 \n",
            " fc_out (Dense)              (None, 19)                24339     \n",
            "                                                                 \n",
            " dense (Dense)               (None, 1)                 20        \n",
            "                                                                 \n",
            "=================================================================\n",
            "Total params: 4,073,923\n",
            "Trainable params: 24,359\n",
            "Non-trainable params: 4,049,564\n",
            "_________________________________________________________________\n"
          ]
        }
      ]
    },
    {
      "cell_type": "code",
      "source": [
        "df = pd.read_csv (r'/content/drive/MyDrive/cut_panoramic/Data/All_Re.csv')\n",
        "df"
      ],
      "metadata": {
        "id": "q1Dc131_Y3uA",
        "colab": {
          "base_uri": "https://localhost:8080/",
          "height": 661
        },
        "outputId": "30c439c3-0b70-4140-8b74-9f0f04aaa7f6"
      },
      "execution_count": 11,
      "outputs": [
        {
          "output_type": "execute_result",
          "data": {
            "text/plain": [
              "      Fig_Age  Fig_Person_Sex  Age(year) Class  Class_Re       Filename  \\\n",
              "0           1               1          7  Y07F         1         V1.jpg   \n",
              "1           2               1          7  Y07F         1    Flip_V1.jpg   \n",
              "2           3               2          7  Y07F         1         V2.jpg   \n",
              "3           4               2          7  Y07F         1    Flip_V2.jpg   \n",
              "4           5               3          7  Y07F         1         V3.jpg   \n",
              "...       ...             ...        ...   ...       ...            ...   \n",
              "4745      121              77         25  Y25M        19  Flip_J463.jpg   \n",
              "4746      122              78         25  Y25M        19       J464.jpg   \n",
              "4747      123              78         25  Y25M        19  Flip_J464.jpg   \n",
              "4748      124              79         25  Y25M        19       J465.jpg   \n",
              "4749      125              79         25  Y25M        19  Flip_J465.jpg   \n",
              "\n",
              "                                          Path_filename     Sex Floder  \n",
              "0     /content/drive/My Drive/TVT_Gender/train/Femal...  Female   Both  \n",
              "1     /content/drive/My Drive/TVT_Gender/train/Femal...  Female   Both  \n",
              "2     /content/drive/My Drive/TVT_Gender/train/Femal...  Female   Both  \n",
              "3     /content/drive/My Drive/TVT_Gender/train/Femal...  Female   Both  \n",
              "4     /content/drive/My Drive/TVT_Gender/train/Femal...  Female   Both  \n",
              "...                                                 ...     ...    ...  \n",
              "4745  /content/drive/My Drive/TVT_Gender/test/Male/F...    Male   Both  \n",
              "4746  /content/drive/My Drive/TVT_Gender/test/Male/J...    Male   Both  \n",
              "4747  /content/drive/My Drive/TVT_Gender/test/Male/F...    Male   Both  \n",
              "4748  /content/drive/My Drive/TVT_Gender/test/Male/J...    Male   Both  \n",
              "4749  /content/drive/My Drive/TVT_Gender/test/Male/F...    Male   Both  \n",
              "\n",
              "[4750 rows x 9 columns]"
            ],
            "text/html": [
              "\n",
              "  <div id=\"df-a6cd675e-f199-4154-b306-0dae8047eb52\">\n",
              "    <div class=\"colab-df-container\">\n",
              "      <div>\n",
              "<style scoped>\n",
              "    .dataframe tbody tr th:only-of-type {\n",
              "        vertical-align: middle;\n",
              "    }\n",
              "\n",
              "    .dataframe tbody tr th {\n",
              "        vertical-align: top;\n",
              "    }\n",
              "\n",
              "    .dataframe thead th {\n",
              "        text-align: right;\n",
              "    }\n",
              "</style>\n",
              "<table border=\"1\" class=\"dataframe\">\n",
              "  <thead>\n",
              "    <tr style=\"text-align: right;\">\n",
              "      <th></th>\n",
              "      <th>Fig_Age</th>\n",
              "      <th>Fig_Person_Sex</th>\n",
              "      <th>Age(year)</th>\n",
              "      <th>Class</th>\n",
              "      <th>Class_Re</th>\n",
              "      <th>Filename</th>\n",
              "      <th>Path_filename</th>\n",
              "      <th>Sex</th>\n",
              "      <th>Floder</th>\n",
              "    </tr>\n",
              "  </thead>\n",
              "  <tbody>\n",
              "    <tr>\n",
              "      <th>0</th>\n",
              "      <td>1</td>\n",
              "      <td>1</td>\n",
              "      <td>7</td>\n",
              "      <td>Y07F</td>\n",
              "      <td>1</td>\n",
              "      <td>V1.jpg</td>\n",
              "      <td>/content/drive/My Drive/TVT_Gender/train/Femal...</td>\n",
              "      <td>Female</td>\n",
              "      <td>Both</td>\n",
              "    </tr>\n",
              "    <tr>\n",
              "      <th>1</th>\n",
              "      <td>2</td>\n",
              "      <td>1</td>\n",
              "      <td>7</td>\n",
              "      <td>Y07F</td>\n",
              "      <td>1</td>\n",
              "      <td>Flip_V1.jpg</td>\n",
              "      <td>/content/drive/My Drive/TVT_Gender/train/Femal...</td>\n",
              "      <td>Female</td>\n",
              "      <td>Both</td>\n",
              "    </tr>\n",
              "    <tr>\n",
              "      <th>2</th>\n",
              "      <td>3</td>\n",
              "      <td>2</td>\n",
              "      <td>7</td>\n",
              "      <td>Y07F</td>\n",
              "      <td>1</td>\n",
              "      <td>V2.jpg</td>\n",
              "      <td>/content/drive/My Drive/TVT_Gender/train/Femal...</td>\n",
              "      <td>Female</td>\n",
              "      <td>Both</td>\n",
              "    </tr>\n",
              "    <tr>\n",
              "      <th>3</th>\n",
              "      <td>4</td>\n",
              "      <td>2</td>\n",
              "      <td>7</td>\n",
              "      <td>Y07F</td>\n",
              "      <td>1</td>\n",
              "      <td>Flip_V2.jpg</td>\n",
              "      <td>/content/drive/My Drive/TVT_Gender/train/Femal...</td>\n",
              "      <td>Female</td>\n",
              "      <td>Both</td>\n",
              "    </tr>\n",
              "    <tr>\n",
              "      <th>4</th>\n",
              "      <td>5</td>\n",
              "      <td>3</td>\n",
              "      <td>7</td>\n",
              "      <td>Y07F</td>\n",
              "      <td>1</td>\n",
              "      <td>V3.jpg</td>\n",
              "      <td>/content/drive/My Drive/TVT_Gender/train/Femal...</td>\n",
              "      <td>Female</td>\n",
              "      <td>Both</td>\n",
              "    </tr>\n",
              "    <tr>\n",
              "      <th>...</th>\n",
              "      <td>...</td>\n",
              "      <td>...</td>\n",
              "      <td>...</td>\n",
              "      <td>...</td>\n",
              "      <td>...</td>\n",
              "      <td>...</td>\n",
              "      <td>...</td>\n",
              "      <td>...</td>\n",
              "      <td>...</td>\n",
              "    </tr>\n",
              "    <tr>\n",
              "      <th>4745</th>\n",
              "      <td>121</td>\n",
              "      <td>77</td>\n",
              "      <td>25</td>\n",
              "      <td>Y25M</td>\n",
              "      <td>19</td>\n",
              "      <td>Flip_J463.jpg</td>\n",
              "      <td>/content/drive/My Drive/TVT_Gender/test/Male/F...</td>\n",
              "      <td>Male</td>\n",
              "      <td>Both</td>\n",
              "    </tr>\n",
              "    <tr>\n",
              "      <th>4746</th>\n",
              "      <td>122</td>\n",
              "      <td>78</td>\n",
              "      <td>25</td>\n",
              "      <td>Y25M</td>\n",
              "      <td>19</td>\n",
              "      <td>J464.jpg</td>\n",
              "      <td>/content/drive/My Drive/TVT_Gender/test/Male/J...</td>\n",
              "      <td>Male</td>\n",
              "      <td>Both</td>\n",
              "    </tr>\n",
              "    <tr>\n",
              "      <th>4747</th>\n",
              "      <td>123</td>\n",
              "      <td>78</td>\n",
              "      <td>25</td>\n",
              "      <td>Y25M</td>\n",
              "      <td>19</td>\n",
              "      <td>Flip_J464.jpg</td>\n",
              "      <td>/content/drive/My Drive/TVT_Gender/test/Male/F...</td>\n",
              "      <td>Male</td>\n",
              "      <td>Both</td>\n",
              "    </tr>\n",
              "    <tr>\n",
              "      <th>4748</th>\n",
              "      <td>124</td>\n",
              "      <td>79</td>\n",
              "      <td>25</td>\n",
              "      <td>Y25M</td>\n",
              "      <td>19</td>\n",
              "      <td>J465.jpg</td>\n",
              "      <td>/content/drive/My Drive/TVT_Gender/test/Male/J...</td>\n",
              "      <td>Male</td>\n",
              "      <td>Both</td>\n",
              "    </tr>\n",
              "    <tr>\n",
              "      <th>4749</th>\n",
              "      <td>125</td>\n",
              "      <td>79</td>\n",
              "      <td>25</td>\n",
              "      <td>Y25M</td>\n",
              "      <td>19</td>\n",
              "      <td>Flip_J465.jpg</td>\n",
              "      <td>/content/drive/My Drive/TVT_Gender/test/Male/F...</td>\n",
              "      <td>Male</td>\n",
              "      <td>Both</td>\n",
              "    </tr>\n",
              "  </tbody>\n",
              "</table>\n",
              "<p>4750 rows × 9 columns</p>\n",
              "</div>\n",
              "      <button class=\"colab-df-convert\" onclick=\"convertToInteractive('df-a6cd675e-f199-4154-b306-0dae8047eb52')\"\n",
              "              title=\"Convert this dataframe to an interactive table.\"\n",
              "              style=\"display:none;\">\n",
              "        \n",
              "  <svg xmlns=\"http://www.w3.org/2000/svg\" height=\"24px\"viewBox=\"0 0 24 24\"\n",
              "       width=\"24px\">\n",
              "    <path d=\"M0 0h24v24H0V0z\" fill=\"none\"/>\n",
              "    <path d=\"M18.56 5.44l.94 2.06.94-2.06 2.06-.94-2.06-.94-.94-2.06-.94 2.06-2.06.94zm-11 1L8.5 8.5l.94-2.06 2.06-.94-2.06-.94L8.5 2.5l-.94 2.06-2.06.94zm10 10l.94 2.06.94-2.06 2.06-.94-2.06-.94-.94-2.06-.94 2.06-2.06.94z\"/><path d=\"M17.41 7.96l-1.37-1.37c-.4-.4-.92-.59-1.43-.59-.52 0-1.04.2-1.43.59L10.3 9.45l-7.72 7.72c-.78.78-.78 2.05 0 2.83L4 21.41c.39.39.9.59 1.41.59.51 0 1.02-.2 1.41-.59l7.78-7.78 2.81-2.81c.8-.78.8-2.07 0-2.86zM5.41 20L4 18.59l7.72-7.72 1.47 1.35L5.41 20z\"/>\n",
              "  </svg>\n",
              "      </button>\n",
              "      \n",
              "  <style>\n",
              "    .colab-df-container {\n",
              "      display:flex;\n",
              "      flex-wrap:wrap;\n",
              "      gap: 12px;\n",
              "    }\n",
              "\n",
              "    .colab-df-convert {\n",
              "      background-color: #E8F0FE;\n",
              "      border: none;\n",
              "      border-radius: 50%;\n",
              "      cursor: pointer;\n",
              "      display: none;\n",
              "      fill: #1967D2;\n",
              "      height: 32px;\n",
              "      padding: 0 0 0 0;\n",
              "      width: 32px;\n",
              "    }\n",
              "\n",
              "    .colab-df-convert:hover {\n",
              "      background-color: #E2EBFA;\n",
              "      box-shadow: 0px 1px 2px rgba(60, 64, 67, 0.3), 0px 1px 3px 1px rgba(60, 64, 67, 0.15);\n",
              "      fill: #174EA6;\n",
              "    }\n",
              "\n",
              "    [theme=dark] .colab-df-convert {\n",
              "      background-color: #3B4455;\n",
              "      fill: #D2E3FC;\n",
              "    }\n",
              "\n",
              "    [theme=dark] .colab-df-convert:hover {\n",
              "      background-color: #434B5C;\n",
              "      box-shadow: 0px 1px 3px 1px rgba(0, 0, 0, 0.15);\n",
              "      filter: drop-shadow(0px 1px 2px rgba(0, 0, 0, 0.3));\n",
              "      fill: #FFFFFF;\n",
              "    }\n",
              "  </style>\n",
              "\n",
              "      <script>\n",
              "        const buttonEl =\n",
              "          document.querySelector('#df-a6cd675e-f199-4154-b306-0dae8047eb52 button.colab-df-convert');\n",
              "        buttonEl.style.display =\n",
              "          google.colab.kernel.accessAllowed ? 'block' : 'none';\n",
              "\n",
              "        async function convertToInteractive(key) {\n",
              "          const element = document.querySelector('#df-a6cd675e-f199-4154-b306-0dae8047eb52');\n",
              "          const dataTable =\n",
              "            await google.colab.kernel.invokeFunction('convertToInteractive',\n",
              "                                                     [key], {});\n",
              "          if (!dataTable) return;\n",
              "\n",
              "          const docLinkHtml = 'Like what you see? Visit the ' +\n",
              "            '<a target=\"_blank\" href=https://colab.research.google.com/notebooks/data_table.ipynb>data table notebook</a>'\n",
              "            + ' to learn more about interactive tables.';\n",
              "          element.innerHTML = '';\n",
              "          dataTable['output_type'] = 'display_data';\n",
              "          await google.colab.output.renderOutput(dataTable, element);\n",
              "          const docLink = document.createElement('div');\n",
              "          docLink.innerHTML = docLinkHtml;\n",
              "          element.appendChild(docLink);\n",
              "        }\n",
              "      </script>\n",
              "    </div>\n",
              "  </div>\n",
              "  "
            ]
          },
          "metadata": {},
          "execution_count": 11
        }
      ]
    },
    {
      "cell_type": "code",
      "source": [
        "train = df[df['Fig_Age'].between(1,75)]\n",
        "val = df[df['Fig_Age'].between(76,100)]"
      ],
      "metadata": {
        "id": "Z1zBw01Gl8Ac"
      },
      "execution_count": 12,
      "outputs": []
    },
    {
      "cell_type": "code",
      "source": [
        "DATA_PATH = \"/content/drive/My Drive/TVT_Gender\"\n",
        "os.chdir(DATA_PATH)\n",
        "train_dir = os.path.join(DATA_PATH, 'train')\n",
        "print(train_dir)\n",
        "validation_dir = os.path.join(DATA_PATH, 'validation')\n",
        "print(validation_dir)"
      ],
      "metadata": {
        "colab": {
          "base_uri": "https://localhost:8080/"
        },
        "id": "QL0g-8iOnMC4",
        "outputId": "f0e44bbd-3f25-4cc6-a6fe-b02b12d8bfd8"
      },
      "execution_count": 13,
      "outputs": [
        {
          "output_type": "stream",
          "name": "stdout",
          "text": [
            "/content/drive/My Drive/TVT_Gender/train\n",
            "/content/drive/My Drive/TVT_Gender/validation\n"
          ]
        }
      ]
    },
    {
      "cell_type": "markdown",
      "source": [
        "\n",
        "#Train"
      ],
      "metadata": {
        "id": "bWEnlTSwazL5"
      }
    },
    {
      "cell_type": "code",
      "source": [
        "# Train ด้วย ImageDataGenerator ของ Keras ซึ่งจะเพิ่มข้อมูลเสริมระหว่างการฝึกเพื่อลดโอกาสเกิด overfitting\n",
        "#overfitting เกิดจากข้อมูลที่ซับซ้อนกันเกินไป\n",
        "from tensorflow.keras.preprocessing.image import ImageDataGenerator\n",
        "\n",
        "train_datagen = ImageDataGenerator(\n",
        "      rescale=1./255, #โมเดลส่วนใหญ่ต้องใช้ RGB ในช่วง 0–1\n",
        "      rotation_range=40,\n",
        "      width_shift_range=0.2,\n",
        "      height_shift_range=0.2,\n",
        "      shear_range=0.2,\n",
        "      zoom_range=0.2,\n",
        "      horizontal_flip=True,\n",
        "      fill_mode='nearest')\n",
        "\n",
        "# Note that the validation data should not be augmented!\n",
        "test_datagen = ImageDataGenerator(rescale=1./255)"
      ],
      "metadata": {
        "id": "xGPrsn9no_pa"
      },
      "execution_count": 14,
      "outputs": []
    },
    {
      "cell_type": "code",
      "source": [
        "train_generator = train_datagen.flow_from_dataframe(\n",
        "        dataframe = train,\n",
        "        directory = train_dir,\n",
        "        x_col = 'Path_filename',\n",
        "        y_col = 'Class_Re',\n",
        "        class_mode = 'other',\n",
        "        target_size=(height, width),\n",
        "        batch_size=batch_size)\n",
        "\n",
        "validation_generator = test_datagen.flow_from_dataframe(\n",
        "        dataframe = val,\n",
        "        directory = validation_dir,\n",
        "        x_col = 'Path_filename',\n",
        "        y_col = 'Class_Re',\n",
        "        class_mode = 'other',\n",
        "        target_size=(height, width),\n",
        "        batch_size=batch_size)"
      ],
      "metadata": {
        "colab": {
          "base_uri": "https://localhost:8080/"
        },
        "id": "8nVlmAszntK_",
        "outputId": "fcc39762-b2f8-4dbd-8c21-539038c4f98e"
      },
      "execution_count": 15,
      "outputs": [
        {
          "output_type": "stream",
          "name": "stdout",
          "text": [
            "Found 2850 validated image filenames.\n",
            "Found 950 validated image filenames.\n"
          ]
        }
      ]
    },
    {
      "cell_type": "code",
      "source": [
        "model.compile(loss='mse',\n",
        "          optimizer=Adam(learning_rate=1e-4),\n",
        "          metrics=['mae'])\n",
        "history = model.fit_generator(\n",
        "      train_generator,\n",
        "      steps_per_epoch= NUM_TRAIN //batch_size,\n",
        "      epochs=epochs,\n",
        "      validation_data=validation_generator,\n",
        "      validation_steps= NUM_TEST //batch_size,\n",
        "      verbose=1,\n",
        "      use_multiprocessing=True,\n",
        "      workers=4)"
      ],
      "metadata": {
        "id": "N6qUmmF856ZE",
        "outputId": "62759e8b-aced-42e0-9fb6-933ca7853b7a",
        "colab": {
          "base_uri": "https://localhost:8080/"
        }
      },
      "execution_count": 16,
      "outputs": [
        {
          "output_type": "stream",
          "name": "stderr",
          "text": [
            "<ipython-input-16-f59104fd3985>:4: UserWarning: `Model.fit_generator` is deprecated and will be removed in a future version. Please use `Model.fit`, which supports generators.\n",
            "  history = model.fit_generator(\n"
          ]
        },
        {
          "output_type": "stream",
          "name": "stdout",
          "text": [
            "Epoch 1/250\n",
            "178/178 [==============================] - 779s 4s/step - loss: 30.0585 - mae: 4.7415 - val_loss: 29.9576 - val_mae: 4.7331\n",
            "Epoch 2/250\n",
            "178/178 [==============================] - 44s 243ms/step - loss: 29.9335 - mae: 4.7315 - val_loss: 29.9703 - val_mae: 4.7353\n",
            "Epoch 3/250\n",
            "178/178 [==============================] - 44s 245ms/step - loss: 29.9463 - mae: 4.7323 - val_loss: 30.0901 - val_mae: 4.7469\n",
            "Epoch 4/250\n",
            "178/178 [==============================] - 44s 245ms/step - loss: 30.0097 - mae: 4.7379 - val_loss: 30.0074 - val_mae: 4.7363\n",
            "Epoch 5/250\n",
            "178/178 [==============================] - 44s 241ms/step - loss: 30.0215 - mae: 4.7376 - val_loss: 29.9289 - val_mae: 4.7299\n",
            "Epoch 6/250\n",
            "178/178 [==============================] - 44s 242ms/step - loss: 29.9936 - mae: 4.7365 - val_loss: 30.0095 - val_mae: 4.7384\n",
            "Epoch 7/250\n",
            "178/178 [==============================] - 43s 237ms/step - loss: 30.0049 - mae: 4.7387 - val_loss: 30.1122 - val_mae: 4.7480\n",
            "Epoch 8/250\n",
            "178/178 [==============================] - 45s 248ms/step - loss: 29.9846 - mae: 4.7361 - val_loss: 29.9332 - val_mae: 4.7300\n",
            "Epoch 9/250\n",
            "178/178 [==============================] - 40s 218ms/step - loss: 30.0068 - mae: 4.7365 - val_loss: 30.0180 - val_mae: 4.7385\n",
            "Epoch 10/250\n",
            "178/178 [==============================] - 42s 234ms/step - loss: 30.0105 - mae: 4.7380 - val_loss: 29.8772 - val_mae: 4.7247\n",
            "Epoch 11/250\n",
            "178/178 [==============================] - 44s 244ms/step - loss: 29.9917 - mae: 4.7362 - val_loss: 30.0042 - val_mae: 4.7332\n",
            "Epoch 12/250\n",
            "178/178 [==============================] - 43s 241ms/step - loss: 29.9928 - mae: 4.7359 - val_loss: 29.9926 - val_mae: 4.7364\n",
            "Epoch 13/250\n",
            "178/178 [==============================] - 46s 253ms/step - loss: 29.9927 - mae: 4.7359 - val_loss: 29.9895 - val_mae: 4.7333\n",
            "Epoch 14/250\n",
            "178/178 [==============================] - 44s 244ms/step - loss: 29.9365 - mae: 4.7304 - val_loss: 30.0468 - val_mae: 4.7418\n",
            "Epoch 15/250\n",
            "178/178 [==============================] - 46s 250ms/step - loss: 30.0529 - mae: 4.7451 - val_loss: 29.9671 - val_mae: 4.7344\n",
            "Epoch 16/250\n",
            "178/178 [==============================] - 44s 239ms/step - loss: 29.9911 - mae: 4.7363 - val_loss: 29.9237 - val_mae: 4.7311\n",
            "Epoch 17/250\n",
            "178/178 [==============================] - 45s 250ms/step - loss: 29.9800 - mae: 4.7352 - val_loss: 30.0255 - val_mae: 4.7396\n",
            "Epoch 18/250\n",
            "178/178 [==============================] - 42s 233ms/step - loss: 30.0512 - mae: 4.7427 - val_loss: 30.0086 - val_mae: 4.7375\n",
            "Epoch 19/250\n",
            "178/178 [==============================] - 43s 241ms/step - loss: 30.0020 - mae: 4.7387 - val_loss: 29.9649 - val_mae: 4.7343\n",
            "Epoch 20/250\n",
            "178/178 [==============================] - 46s 256ms/step - loss: 30.0108 - mae: 4.7376 - val_loss: 30.1261 - val_mae: 4.7512\n",
            "Epoch 21/250\n",
            "178/178 [==============================] - 44s 244ms/step - loss: 29.9631 - mae: 4.7324 - val_loss: 30.0327 - val_mae: 4.7385\n",
            "Epoch 22/250\n",
            "178/178 [==============================] - 43s 237ms/step - loss: 30.0276 - mae: 4.7388 - val_loss: 30.0266 - val_mae: 4.7386\n",
            "Epoch 23/250\n",
            "178/178 [==============================] - 44s 240ms/step - loss: 30.0343 - mae: 4.7434 - val_loss: 29.9048 - val_mae: 4.7269\n",
            "Epoch 24/250\n",
            "178/178 [==============================] - 42s 233ms/step - loss: 29.9477 - mae: 4.7325 - val_loss: 30.0042 - val_mae: 4.7416\n",
            "Epoch 25/250\n",
            "178/178 [==============================] - 42s 231ms/step - loss: 30.0198 - mae: 4.7402 - val_loss: 29.9259 - val_mae: 4.7289\n",
            "Epoch 26/250\n",
            "178/178 [==============================] - 41s 230ms/step - loss: 29.9547 - mae: 4.7316 - val_loss: 30.0678 - val_mae: 4.7438\n",
            "Epoch 27/250\n",
            "178/178 [==============================] - 44s 246ms/step - loss: 30.0379 - mae: 4.7415 - val_loss: 30.1282 - val_mae: 4.7491\n",
            "Epoch 28/250\n",
            "178/178 [==============================] - 47s 261ms/step - loss: 30.0111 - mae: 4.7386 - val_loss: 30.0201 - val_mae: 4.7405\n",
            "Epoch 29/250\n",
            "178/178 [==============================] - 43s 232ms/step - loss: 30.0367 - mae: 4.7401 - val_loss: 29.9312 - val_mae: 4.7321\n",
            "Epoch 30/250\n",
            "178/178 [==============================] - 43s 238ms/step - loss: 30.0497 - mae: 4.7422 - val_loss: 29.8909 - val_mae: 4.7258\n",
            "Epoch 31/250\n",
            "178/178 [==============================] - 44s 243ms/step - loss: 29.9312 - mae: 4.7314 - val_loss: 30.0116 - val_mae: 4.7385\n",
            "Epoch 32/250\n",
            "178/178 [==============================] - 44s 242ms/step - loss: 30.0498 - mae: 4.7404 - val_loss: 29.9430 - val_mae: 4.7290\n",
            "Epoch 33/250\n",
            "178/178 [==============================] - 43s 236ms/step - loss: 30.0122 - mae: 4.7369 - val_loss: 30.0276 - val_mae: 4.7395\n",
            "Epoch 34/250\n",
            "178/178 [==============================] - 42s 230ms/step - loss: 29.9746 - mae: 4.7346 - val_loss: 29.8823 - val_mae: 4.7237\n",
            "Epoch 35/250\n",
            "178/178 [==============================] - 46s 256ms/step - loss: 29.9986 - mae: 4.7359 - val_loss: 30.0340 - val_mae: 4.7396\n",
            "Epoch 36/250\n",
            "178/178 [==============================] - 40s 221ms/step - loss: 29.9237 - mae: 4.7302 - val_loss: 29.9619 - val_mae: 4.7311\n",
            "Epoch 37/250\n",
            "178/178 [==============================] - 43s 239ms/step - loss: 30.0061 - mae: 4.7377 - val_loss: 30.0646 - val_mae: 4.7428\n",
            "Epoch 38/250\n",
            "178/178 [==============================] - 44s 242ms/step - loss: 30.0390 - mae: 4.7412 - val_loss: 30.0221 - val_mae: 4.7406\n",
            "Epoch 39/250\n",
            "178/178 [==============================] - 45s 251ms/step - loss: 30.0127 - mae: 4.7380 - val_loss: 30.1197 - val_mae: 4.7469\n",
            "Epoch 40/250\n",
            "178/178 [==============================] - 44s 242ms/step - loss: 30.0321 - mae: 4.7397 - val_loss: 29.9491 - val_mae: 4.7332\n",
            "Epoch 41/250\n",
            "178/178 [==============================] - 44s 244ms/step - loss: 30.0189 - mae: 4.7379 - val_loss: 30.0180 - val_mae: 4.7385\n",
            "Epoch 42/250\n",
            "178/178 [==============================] - 46s 255ms/step - loss: 30.0103 - mae: 4.7376 - val_loss: 30.0128 - val_mae: 4.7395\n",
            "Epoch 43/250\n",
            "178/178 [==============================] - 44s 243ms/step - loss: 29.9668 - mae: 4.7331 - val_loss: 30.0065 - val_mae: 4.7417\n",
            "Epoch 44/250\n",
            "178/178 [==============================] - 43s 239ms/step - loss: 29.9783 - mae: 4.7334 - val_loss: 29.7937 - val_mae: 4.7174\n",
            "Epoch 45/250\n",
            "178/178 [==============================] - 45s 246ms/step - loss: 29.9978 - mae: 4.7359 - val_loss: 29.9863 - val_mae: 4.7343\n",
            "Epoch 46/250\n",
            "178/178 [==============================] - 45s 249ms/step - loss: 30.0342 - mae: 4.7413 - val_loss: 29.9767 - val_mae: 4.7333\n",
            "Epoch 47/250\n",
            "178/178 [==============================] - 45s 247ms/step - loss: 30.0302 - mae: 4.7402 - val_loss: 30.0393 - val_mae: 4.7449\n",
            "Epoch 48/250\n",
            "178/178 [==============================] - 44s 245ms/step - loss: 29.9906 - mae: 4.7338 - val_loss: 30.0784 - val_mae: 4.7460\n",
            "Epoch 49/250\n",
            "178/178 [==============================] - 43s 236ms/step - loss: 29.9583 - mae: 4.7331 - val_loss: 30.0605 - val_mae: 4.7428\n",
            "Epoch 50/250\n",
            "178/178 [==============================] - 44s 241ms/step - loss: 30.0207 - mae: 4.7377 - val_loss: 29.9801 - val_mae: 4.7343\n",
            "Epoch 51/250\n",
            "178/178 [==============================] - 42s 233ms/step - loss: 30.0504 - mae: 4.7433 - val_loss: 29.9122 - val_mae: 4.7258\n",
            "Epoch 52/250\n",
            "178/178 [==============================] - 44s 241ms/step - loss: 30.0749 - mae: 4.7443 - val_loss: 30.0234 - val_mae: 4.7374\n",
            "Epoch 53/250\n",
            "178/178 [==============================] - 44s 242ms/step - loss: 29.9890 - mae: 4.7363 - val_loss: 29.8737 - val_mae: 4.7258\n",
            "Epoch 54/250\n",
            "178/178 [==============================] - 45s 247ms/step - loss: 30.0178 - mae: 4.7390 - val_loss: 29.9301 - val_mae: 4.7290\n",
            "Epoch 55/250\n",
            "178/178 [==============================] - 44s 245ms/step - loss: 29.9989 - mae: 4.7376 - val_loss: 30.1060 - val_mae: 4.7502\n",
            "Epoch 56/250\n",
            "178/178 [==============================] - 46s 255ms/step - loss: 30.0335 - mae: 4.7397 - val_loss: 30.0001 - val_mae: 4.7375\n",
            "Epoch 57/250\n",
            "178/178 [==============================] - 42s 234ms/step - loss: 29.9880 - mae: 4.7359 - val_loss: 30.0053 - val_mae: 4.7343\n",
            "Epoch 58/250\n",
            "178/178 [==============================] - 42s 233ms/step - loss: 29.9824 - mae: 4.7351 - val_loss: 29.9598 - val_mae: 4.7333\n",
            "Epoch 59/250\n",
            "178/178 [==============================] - 41s 229ms/step - loss: 29.9978 - mae: 4.7359 - val_loss: 30.0666 - val_mae: 4.7470\n",
            "Epoch 60/250\n",
            "178/178 [==============================] - 45s 248ms/step - loss: 30.0281 - mae: 4.7401 - val_loss: 30.0825 - val_mae: 4.7438\n",
            "Epoch 61/250\n",
            "178/178 [==============================] - 46s 256ms/step - loss: 29.9981 - mae: 4.7355 - val_loss: 30.0910 - val_mae: 4.7502\n",
            "Epoch 62/250\n",
            "178/178 [==============================] - 43s 236ms/step - loss: 30.0482 - mae: 4.7440 - val_loss: 30.0446 - val_mae: 4.7396\n",
            "Epoch 63/250\n",
            "178/178 [==============================] - 45s 250ms/step - loss: 29.9838 - mae: 4.7351 - val_loss: 30.0032 - val_mae: 4.7363\n",
            "Epoch 64/250\n",
            "178/178 [==============================] - 45s 248ms/step - loss: 30.0306 - mae: 4.7390 - val_loss: 29.8983 - val_mae: 4.7268\n",
            "Epoch 65/250\n",
            "178/178 [==============================] - 45s 248ms/step - loss: 30.0433 - mae: 4.7418 - val_loss: 30.0540 - val_mae: 4.7427\n",
            "Epoch 66/250\n",
            "178/178 [==============================] - 44s 246ms/step - loss: 29.9154 - mae: 4.7302 - val_loss: 29.9354 - val_mae: 4.7320\n",
            "Epoch 67/250\n",
            "178/178 [==============================] - 43s 236ms/step - loss: 30.0261 - mae: 4.7401 - val_loss: 30.0614 - val_mae: 4.7416\n",
            "Epoch 68/250\n",
            "178/178 [==============================] - 44s 246ms/step - loss: 29.9685 - mae: 4.7341 - val_loss: 29.9163 - val_mae: 4.7321\n",
            "Epoch 69/250\n",
            "178/178 [==============================] - 44s 246ms/step - loss: 29.8961 - mae: 4.7274 - val_loss: 29.9714 - val_mae: 4.7320\n",
            "Epoch 70/250\n",
            "178/178 [==============================] - 46s 257ms/step - loss: 30.0525 - mae: 4.7425 - val_loss: 29.9587 - val_mae: 4.7320\n",
            "Epoch 71/250\n",
            "178/178 [==============================] - 45s 249ms/step - loss: 30.0585 - mae: 4.7443 - val_loss: 30.1292 - val_mae: 4.7479\n",
            "Epoch 72/250\n",
            "178/178 [==============================] - 46s 249ms/step - loss: 30.0108 - mae: 4.7383 - val_loss: 29.9810 - val_mae: 4.7374\n",
            "Epoch 73/250\n",
            "178/178 [==============================] - 40s 224ms/step - loss: 29.9580 - mae: 4.7334 - val_loss: 30.0371 - val_mae: 4.7427\n",
            "Epoch 74/250\n",
            "178/178 [==============================] - 42s 232ms/step - loss: 30.0245 - mae: 4.7393 - val_loss: 29.8729 - val_mae: 4.7246\n",
            "Epoch 75/250\n",
            "178/178 [==============================] - 42s 235ms/step - loss: 30.0192 - mae: 4.7396 - val_loss: 29.9619 - val_mae: 4.7310\n",
            "Epoch 76/250\n",
            "178/178 [==============================] - 45s 251ms/step - loss: 29.9755 - mae: 4.7354 - val_loss: 30.0424 - val_mae: 4.7416\n",
            "Epoch 77/250\n",
            "178/178 [==============================] - 44s 242ms/step - loss: 29.9927 - mae: 4.7358 - val_loss: 29.9025 - val_mae: 4.7310\n",
            "Epoch 78/250\n",
            "178/178 [==============================] - 46s 257ms/step - loss: 29.9201 - mae: 4.7294 - val_loss: 29.9407 - val_mae: 4.7310\n",
            "Epoch 79/250\n",
            "178/178 [==============================] - 44s 244ms/step - loss: 30.0196 - mae: 4.7366 - val_loss: 30.0064 - val_mae: 4.7374\n",
            "Epoch 80/250\n",
            "178/178 [==============================] - 44s 242ms/step - loss: 29.9729 - mae: 4.7337 - val_loss: 30.0857 - val_mae: 4.7448\n",
            "Epoch 81/250\n",
            "178/178 [==============================] - 45s 248ms/step - loss: 29.9801 - mae: 4.7338 - val_loss: 30.1249 - val_mae: 4.7501\n",
            "Epoch 82/250\n",
            "178/178 [==============================] - 39s 211ms/step - loss: 29.9736 - mae: 4.7352 - val_loss: 30.0594 - val_mae: 4.7438\n",
            "Epoch 83/250\n",
            "178/178 [==============================] - 42s 234ms/step - loss: 29.9854 - mae: 4.7355 - val_loss: 30.0360 - val_mae: 4.7374\n",
            "Epoch 84/250\n",
            "178/178 [==============================] - 44s 245ms/step - loss: 30.0545 - mae: 4.7422 - val_loss: 30.0921 - val_mae: 4.7469\n",
            "Epoch 85/250\n",
            "178/178 [==============================] - 45s 249ms/step - loss: 29.9741 - mae: 4.7347 - val_loss: 29.9809 - val_mae: 4.7374\n",
            "Epoch 86/250\n",
            "178/178 [==============================] - 45s 250ms/step - loss: 30.0342 - mae: 4.7412 - val_loss: 30.0318 - val_mae: 4.7374\n",
            "Epoch 87/250\n",
            "178/178 [==============================] - 47s 263ms/step - loss: 30.0571 - mae: 4.7429 - val_loss: 29.9883 - val_mae: 4.7385\n",
            "Epoch 88/250\n",
            "178/178 [==============================] - 45s 249ms/step - loss: 30.0022 - mae: 4.7359 - val_loss: 30.0042 - val_mae: 4.7416\n",
            "Epoch 89/250\n",
            "178/178 [==============================] - 45s 247ms/step - loss: 29.9922 - mae: 4.7365 - val_loss: 30.0763 - val_mae: 4.7480\n",
            "Epoch 90/250\n",
            "178/178 [==============================] - 45s 248ms/step - loss: 29.9964 - mae: 4.7365 - val_loss: 29.9512 - val_mae: 4.7331\n",
            "Epoch 91/250\n",
            "178/178 [==============================] - 43s 234ms/step - loss: 29.9919 - mae: 4.7341 - val_loss: 29.9206 - val_mae: 4.7300\n",
            "Epoch 92/250\n",
            "178/178 [==============================] - 45s 250ms/step - loss: 29.9945 - mae: 4.7362 - val_loss: 30.0826 - val_mae: 4.7437\n",
            "Epoch 93/250\n",
            "178/178 [==============================] - 44s 242ms/step - loss: 29.9799 - mae: 4.7333 - val_loss: 29.8951 - val_mae: 4.7257\n",
            "Epoch 94/250\n",
            "178/178 [==============================] - 43s 238ms/step - loss: 30.0597 - mae: 4.7421 - val_loss: 30.0615 - val_mae: 4.7416\n",
            "Epoch 95/250\n",
            "178/178 [==============================] - 43s 238ms/step - loss: 30.0498 - mae: 4.7411 - val_loss: 30.0043 - val_mae: 4.7373\n",
            "Epoch 96/250\n",
            "178/178 [==============================] - 44s 244ms/step - loss: 30.0183 - mae: 4.7379 - val_loss: 29.9767 - val_mae: 4.7395\n",
            "Epoch 97/250\n",
            "178/178 [==============================] - 44s 242ms/step - loss: 30.0173 - mae: 4.7376 - val_loss: 29.9788 - val_mae: 4.7331\n",
            "Epoch 98/250\n",
            "178/178 [==============================] - 43s 236ms/step - loss: 30.0309 - mae: 4.7408 - val_loss: 30.1599 - val_mae: 4.7554\n",
            "Epoch 99/250\n",
            "178/178 [==============================] - 43s 236ms/step - loss: 30.0962 - mae: 4.7461 - val_loss: 30.0721 - val_mae: 4.7480\n",
            "Epoch 100/250\n",
            "178/178 [==============================] - 46s 256ms/step - loss: 30.0446 - mae: 4.7412 - val_loss: 30.0519 - val_mae: 4.7427\n",
            "Epoch 101/250\n",
            "178/178 [==============================] - 43s 242ms/step - loss: 29.9994 - mae: 4.7362 - val_loss: 30.0667 - val_mae: 4.7449\n",
            "Epoch 102/250\n",
            "178/178 [==============================] - 46s 254ms/step - loss: 29.9777 - mae: 4.7356 - val_loss: 29.9927 - val_mae: 4.7386\n",
            "Epoch 103/250\n",
            "178/178 [==============================] - 44s 242ms/step - loss: 29.9686 - mae: 4.7356 - val_loss: 29.8572 - val_mae: 4.7237\n",
            "Epoch 104/250\n",
            "178/178 [==============================] - 46s 249ms/step - loss: 29.9391 - mae: 4.7312 - val_loss: 30.0858 - val_mae: 4.7469\n",
            "Epoch 105/250\n",
            "178/178 [==============================] - 42s 234ms/step - loss: 30.0007 - mae: 4.7358 - val_loss: 29.8517 - val_mae: 4.7225\n",
            "Epoch 106/250\n",
            "178/178 [==============================] - 44s 241ms/step - loss: 30.0313 - mae: 4.7390 - val_loss: 29.9376 - val_mae: 4.7279\n",
            "Epoch 107/250\n",
            "178/178 [==============================] - 45s 252ms/step - loss: 29.9198 - mae: 4.7291 - val_loss: 29.9810 - val_mae: 4.7353\n",
            "Epoch 108/250\n",
            "178/178 [==============================] - 43s 236ms/step - loss: 30.0881 - mae: 4.7465 - val_loss: 30.0307 - val_mae: 4.7385\n",
            "Epoch 109/250\n",
            "178/178 [==============================] - 43s 236ms/step - loss: 30.0749 - mae: 4.7454 - val_loss: 29.9895 - val_mae: 4.7353\n",
            "Epoch 110/250\n",
            "178/178 [==============================] - 45s 248ms/step - loss: 30.0338 - mae: 4.7415 - val_loss: 29.9755 - val_mae: 4.7342\n",
            "Epoch 111/250\n",
            "178/178 [==============================] - 44s 246ms/step - loss: 29.9692 - mae: 4.7342 - val_loss: 30.0339 - val_mae: 4.7438\n",
            "Epoch 112/250\n",
            "178/178 [==============================] - 45s 252ms/step - loss: 30.0032 - mae: 4.7363 - val_loss: 30.1536 - val_mae: 4.7534\n",
            "Epoch 113/250\n",
            "178/178 [==============================] - 43s 235ms/step - loss: 30.0253 - mae: 4.7408 - val_loss: 30.1748 - val_mae: 4.7597\n",
            "Epoch 114/250\n",
            "178/178 [==============================] - 42s 231ms/step - loss: 29.9504 - mae: 4.7337 - val_loss: 29.9960 - val_mae: 4.7332\n",
            "Epoch 115/250\n",
            "178/178 [==============================] - 47s 262ms/step - loss: 30.0535 - mae: 4.7422 - val_loss: 29.9494 - val_mae: 4.7311\n",
            "Epoch 116/250\n",
            "178/178 [==============================] - 45s 248ms/step - loss: 30.0825 - mae: 4.7457 - val_loss: 30.1706 - val_mae: 4.7596\n",
            "Epoch 117/250\n",
            "178/178 [==============================] - 47s 260ms/step - loss: 30.0040 - mae: 4.7365 - val_loss: 30.0371 - val_mae: 4.7427\n",
            "Epoch 118/250\n",
            "178/178 [==============================] - 44s 246ms/step - loss: 30.0369 - mae: 4.7405 - val_loss: 30.0094 - val_mae: 4.7406\n",
            "Epoch 119/250\n",
            "178/178 [==============================] - 45s 249ms/step - loss: 29.9939 - mae: 4.7356 - val_loss: 29.9418 - val_mae: 4.7343\n",
            "Epoch 120/250\n",
            "178/178 [==============================] - 45s 247ms/step - loss: 30.0110 - mae: 4.7386 - val_loss: 30.0402 - val_mae: 4.7396\n",
            "Epoch 121/250\n",
            "178/178 [==============================] - 43s 237ms/step - loss: 29.9982 - mae: 4.7362 - val_loss: 29.9131 - val_mae: 4.7289\n",
            "Epoch 122/250\n",
            "178/178 [==============================] - 43s 240ms/step - loss: 30.0066 - mae: 4.7377 - val_loss: 29.9841 - val_mae: 4.7364\n",
            "Epoch 123/250\n",
            "178/178 [==============================] - 45s 248ms/step - loss: 30.0077 - mae: 4.7381 - val_loss: 29.9440 - val_mae: 4.7301\n",
            "Epoch 124/250\n",
            "178/178 [==============================] - 44s 246ms/step - loss: 30.0221 - mae: 4.7405 - val_loss: 30.0307 - val_mae: 4.7385\n",
            "Epoch 125/250\n",
            "178/178 [==============================] - 44s 245ms/step - loss: 29.9512 - mae: 4.7323 - val_loss: 30.0573 - val_mae: 4.7438\n",
            "Epoch 126/250\n",
            "178/178 [==============================] - 44s 246ms/step - loss: 30.0588 - mae: 4.7426 - val_loss: 29.9428 - val_mae: 4.7290\n",
            "Epoch 127/250\n",
            "178/178 [==============================] - 44s 243ms/step - loss: 30.0172 - mae: 4.7383 - val_loss: 30.0127 - val_mae: 4.7395\n",
            "Epoch 128/250\n",
            "178/178 [==============================] - 43s 233ms/step - loss: 30.0595 - mae: 4.7426 - val_loss: 30.0212 - val_mae: 4.7374\n",
            "Epoch 129/250\n",
            "178/178 [==============================] - 40s 220ms/step - loss: 30.0090 - mae: 4.7379 - val_loss: 29.9428 - val_mae: 4.7310\n",
            "Epoch 130/250\n",
            "178/178 [==============================] - 42s 236ms/step - loss: 29.9842 - mae: 4.7345 - val_loss: 29.9385 - val_mae: 4.7289\n",
            "Epoch 131/250\n",
            "178/178 [==============================] - 46s 256ms/step - loss: 30.0560 - mae: 4.7419 - val_loss: 30.0295 - val_mae: 4.7375\n",
            "Epoch 132/250\n",
            "178/178 [==============================] - 44s 244ms/step - loss: 29.9528 - mae: 4.7330 - val_loss: 29.9460 - val_mae: 4.7300\n",
            "Epoch 133/250\n",
            "178/178 [==============================] - 45s 247ms/step - loss: 30.0304 - mae: 4.7411 - val_loss: 29.9980 - val_mae: 4.7374\n",
            "Epoch 134/250\n",
            "178/178 [==============================] - 46s 257ms/step - loss: 30.0003 - mae: 4.7376 - val_loss: 30.0382 - val_mae: 4.7395\n",
            "Epoch 135/250\n",
            "178/178 [==============================] - 44s 245ms/step - loss: 29.9872 - mae: 4.7352 - val_loss: 29.9894 - val_mae: 4.7352\n",
            "Epoch 136/250\n",
            "178/178 [==============================] - 44s 243ms/step - loss: 30.0584 - mae: 4.7436 - val_loss: 29.9714 - val_mae: 4.7363\n",
            "Epoch 137/250\n",
            "178/178 [==============================] - 44s 240ms/step - loss: 29.9730 - mae: 4.7358 - val_loss: 30.0042 - val_mae: 4.7352\n",
            "Epoch 138/250\n",
            "178/178 [==============================] - 45s 246ms/step - loss: 30.0141 - mae: 4.7393 - val_loss: 30.0403 - val_mae: 4.7394\n",
            "Epoch 139/250\n",
            "178/178 [==============================] - 44s 246ms/step - loss: 30.0195 - mae: 4.7386 - val_loss: 29.9110 - val_mae: 4.7288\n",
            "Epoch 140/250\n",
            "178/178 [==============================] - 45s 252ms/step - loss: 29.9985 - mae: 4.7358 - val_loss: 30.0624 - val_mae: 4.7448\n",
            "Epoch 141/250\n",
            "178/178 [==============================] - 45s 250ms/step - loss: 29.9619 - mae: 4.7316 - val_loss: 29.9545 - val_mae: 4.7320\n",
            "Epoch 142/250\n",
            "178/178 [==============================] - 45s 249ms/step - loss: 30.0217 - mae: 4.7387 - val_loss: 29.9937 - val_mae: 4.7331\n",
            "Epoch 143/250\n",
            "178/178 [==============================] - 45s 248ms/step - loss: 29.9780 - mae: 4.7350 - val_loss: 29.8920 - val_mae: 4.7267\n",
            "Epoch 144/250\n",
            "178/178 [==============================] - 46s 252ms/step - loss: 29.9857 - mae: 4.7344 - val_loss: 30.0795 - val_mae: 4.7447\n",
            "Epoch 145/250\n",
            "178/178 [==============================] - 39s 214ms/step - loss: 30.0522 - mae: 4.7415 - val_loss: 30.0138 - val_mae: 4.7384\n",
            "Epoch 146/250\n",
            "178/178 [==============================] - 44s 243ms/step - loss: 30.0390 - mae: 4.7424 - val_loss: 30.0339 - val_mae: 4.7415\n",
            "Epoch 147/250\n",
            "178/178 [==============================] - 44s 239ms/step - loss: 30.1060 - mae: 4.7474 - val_loss: 29.8761 - val_mae: 4.7236\n",
            "Epoch 148/250\n",
            "178/178 [==============================] - 43s 235ms/step - loss: 29.9693 - mae: 4.7327 - val_loss: 30.1070 - val_mae: 4.7469\n",
            "Epoch 149/250\n",
            "178/178 [==============================] - 43s 238ms/step - loss: 30.0119 - mae: 4.7394 - val_loss: 29.9946 - val_mae: 4.7342\n",
            "Epoch 150/250\n",
            "178/178 [==============================] - 47s 262ms/step - loss: 30.0111 - mae: 4.7387 - val_loss: 29.9895 - val_mae: 4.7332\n",
            "Epoch 151/250\n",
            "178/178 [==============================] - 47s 262ms/step - loss: 30.0448 - mae: 4.7389 - val_loss: 29.7775 - val_mae: 4.7162\n",
            "Epoch 152/250\n",
            "178/178 [==============================] - 45s 253ms/step - loss: 30.0267 - mae: 4.7401 - val_loss: 29.9460 - val_mae: 4.7321\n",
            "Epoch 153/250\n",
            "178/178 [==============================] - 47s 262ms/step - loss: 29.9930 - mae: 4.7351 - val_loss: 30.0349 - val_mae: 4.7384\n",
            "Epoch 154/250\n",
            "178/178 [==============================] - 45s 248ms/step - loss: 30.0184 - mae: 4.7379 - val_loss: 30.0308 - val_mae: 4.7406\n",
            "Epoch 155/250\n",
            "178/178 [==============================] - 45s 248ms/step - loss: 30.0205 - mae: 4.7380 - val_loss: 29.9661 - val_mae: 4.7331\n",
            "Epoch 156/250\n",
            "178/178 [==============================] - 45s 247ms/step - loss: 30.0454 - mae: 4.7404 - val_loss: 30.1017 - val_mae: 4.7458\n",
            "Epoch 157/250\n",
            "178/178 [==============================] - 44s 242ms/step - loss: 29.9589 - mae: 4.7315 - val_loss: 29.9841 - val_mae: 4.7341\n",
            "Epoch 158/250\n",
            "178/178 [==============================] - 45s 250ms/step - loss: 29.9864 - mae: 4.7351 - val_loss: 29.8305 - val_mae: 4.7225\n",
            "Epoch 159/250\n",
            "178/178 [==============================] - 45s 251ms/step - loss: 30.0003 - mae: 4.7362 - val_loss: 30.0148 - val_mae: 4.7373\n",
            "Epoch 160/250\n",
            "178/178 [==============================] - 44s 245ms/step - loss: 29.9879 - mae: 4.7351 - val_loss: 30.0085 - val_mae: 4.7352\n",
            "Epoch 161/250\n",
            "178/178 [==============================] - 44s 237ms/step - loss: 30.0397 - mae: 4.7403 - val_loss: 30.0021 - val_mae: 4.7331\n",
            "Epoch 162/250\n",
            "178/178 [==============================] - 43s 236ms/step - loss: 29.9899 - mae: 4.7350 - val_loss: 29.8877 - val_mae: 4.7267\n",
            "Epoch 163/250\n",
            "178/178 [==============================] - 43s 240ms/step - loss: 29.9904 - mae: 4.7361 - val_loss: 29.9418 - val_mae: 4.7299\n",
            "Epoch 164/250\n",
            "178/178 [==============================] - 44s 244ms/step - loss: 30.0161 - mae: 4.7393 - val_loss: 30.0117 - val_mae: 4.7384\n",
            "Epoch 165/250\n",
            "178/178 [==============================] - 44s 245ms/step - loss: 30.0637 - mae: 4.7447 - val_loss: 29.9831 - val_mae: 4.7352\n",
            "Epoch 166/250\n",
            "178/178 [==============================] - 45s 249ms/step - loss: 29.9949 - mae: 4.7377 - val_loss: 29.9343 - val_mae: 4.7310\n",
            "Epoch 167/250\n",
            "178/178 [==============================] - 47s 259ms/step - loss: 29.9490 - mae: 4.7334 - val_loss: 30.0615 - val_mae: 4.7438\n",
            "Epoch 168/250\n",
            "178/178 [==============================] - 45s 249ms/step - loss: 29.9558 - mae: 4.7320 - val_loss: 30.0105 - val_mae: 4.7353\n",
            "Epoch 169/250\n",
            "178/178 [==============================] - 45s 244ms/step - loss: 29.9681 - mae: 4.7351 - val_loss: 29.9333 - val_mae: 4.7299\n",
            "Epoch 170/250\n",
            "178/178 [==============================] - 46s 257ms/step - loss: 29.9241 - mae: 4.7298 - val_loss: 30.0053 - val_mae: 4.7405\n",
            "Epoch 171/250\n",
            "178/178 [==============================] - 45s 249ms/step - loss: 29.9922 - mae: 4.7344 - val_loss: 29.9798 - val_mae: 4.7342\n",
            "Epoch 172/250\n",
            "178/178 [==============================] - 45s 249ms/step - loss: 29.9903 - mae: 4.7355 - val_loss: 29.9141 - val_mae: 4.7300\n",
            "Epoch 173/250\n",
            "178/178 [==============================] - 47s 259ms/step - loss: 30.0136 - mae: 4.7376 - val_loss: 30.0392 - val_mae: 4.7406\n",
            "Epoch 174/250\n",
            "178/178 [==============================] - 45s 250ms/step - loss: 29.9945 - mae: 4.7355 - val_loss: 30.0127 - val_mae: 4.7416\n",
            "Epoch 175/250\n",
            "178/178 [==============================] - 47s 259ms/step - loss: 29.8770 - mae: 4.7238 - val_loss: 29.9841 - val_mae: 4.7342\n",
            "Epoch 176/250\n",
            "178/178 [==============================] - 44s 243ms/step - loss: 29.9830 - mae: 4.7358 - val_loss: 30.0339 - val_mae: 4.7437\n",
            "Epoch 177/250\n",
            "178/178 [==============================] - 43s 240ms/step - loss: 30.0020 - mae: 4.7372 - val_loss: 29.9037 - val_mae: 4.7279\n",
            "Epoch 178/250\n",
            "178/178 [==============================] - 47s 263ms/step - loss: 29.9964 - mae: 4.7365 - val_loss: 29.9926 - val_mae: 4.7363\n",
            "Epoch 179/250\n",
            "178/178 [==============================] - 45s 248ms/step - loss: 30.0113 - mae: 4.7387 - val_loss: 30.0869 - val_mae: 4.7459\n",
            "Epoch 180/250\n",
            "178/178 [==============================] - 45s 247ms/step - loss: 29.9552 - mae: 4.7319 - val_loss: 29.9597 - val_mae: 4.7331\n",
            "Epoch 181/250\n",
            "178/178 [==============================] - 45s 251ms/step - loss: 30.0249 - mae: 4.7397 - val_loss: 29.9015 - val_mae: 4.7299\n",
            "Epoch 182/250\n",
            "178/178 [==============================] - 45s 249ms/step - loss: 29.9861 - mae: 4.7376 - val_loss: 29.9734 - val_mae: 4.7342\n",
            "Epoch 183/250\n",
            "178/178 [==============================] - 45s 245ms/step - loss: 29.9929 - mae: 4.7366 - val_loss: 30.0668 - val_mae: 4.7448\n",
            "Epoch 184/250\n",
            "178/178 [==============================] - 51s 281ms/step - loss: 29.9825 - mae: 4.7348 - val_loss: 30.0265 - val_mae: 4.7384\n",
            "Epoch 185/250\n",
            "178/178 [==============================] - 44s 245ms/step - loss: 29.9544 - mae: 4.7313 - val_loss: 30.0541 - val_mae: 4.7406\n",
            "Epoch 186/250\n",
            "178/178 [==============================] - 45s 250ms/step - loss: 30.0691 - mae: 4.7437 - val_loss: 29.9809 - val_mae: 4.7374\n",
            "Epoch 187/250\n",
            "178/178 [==============================] - 47s 259ms/step - loss: 29.9709 - mae: 4.7351 - val_loss: 30.0455 - val_mae: 4.7448\n",
            "Epoch 188/250\n",
            "178/178 [==============================] - 44s 243ms/step - loss: 29.9977 - mae: 4.7365 - val_loss: 30.0084 - val_mae: 4.7374\n",
            "Epoch 189/250\n",
            "178/178 [==============================] - 43s 235ms/step - loss: 29.9720 - mae: 4.7319 - val_loss: 30.0477 - val_mae: 4.7427\n",
            "Epoch 190/250\n",
            "178/178 [==============================] - 44s 245ms/step - loss: 30.0436 - mae: 4.7401 - val_loss: 29.9005 - val_mae: 4.7289\n",
            "Epoch 191/250\n",
            "178/178 [==============================] - 45s 251ms/step - loss: 29.9710 - mae: 4.7330 - val_loss: 30.0466 - val_mae: 4.7416\n",
            "Epoch 192/250\n",
            "178/178 [==============================] - 46s 252ms/step - loss: 29.9833 - mae: 4.7362 - val_loss: 29.9926 - val_mae: 4.7384\n",
            "Epoch 193/250\n",
            "178/178 [==============================] - 44s 246ms/step - loss: 29.9862 - mae: 4.7361 - val_loss: 30.0349 - val_mae: 4.7384\n",
            "Epoch 194/250\n",
            "178/178 [==============================] - 44s 241ms/step - loss: 30.0715 - mae: 4.7446 - val_loss: 29.9967 - val_mae: 4.7363\n",
            "Epoch 195/250\n",
            "178/178 [==============================] - 43s 236ms/step - loss: 30.0644 - mae: 4.7439 - val_loss: 30.0222 - val_mae: 4.7384\n",
            "Epoch 196/250\n",
            "178/178 [==============================] - 44s 241ms/step - loss: 29.9720 - mae: 4.7340 - val_loss: 30.0308 - val_mae: 4.7406\n",
            "Epoch 197/250\n",
            "178/178 [==============================] - 45s 248ms/step - loss: 29.9919 - mae: 4.7369 - val_loss: 29.9205 - val_mae: 4.7299\n",
            "Epoch 198/250\n",
            "178/178 [==============================] - 45s 248ms/step - loss: 30.0223 - mae: 4.7379 - val_loss: 30.0572 - val_mae: 4.7416\n",
            "Epoch 199/250\n",
            "178/178 [==============================] - 44s 245ms/step - loss: 30.0193 - mae: 4.7389 - val_loss: 29.9926 - val_mae: 4.7384\n",
            "Epoch 200/250\n",
            "178/178 [==============================] - 43s 236ms/step - loss: 29.9318 - mae: 4.7305 - val_loss: 29.9099 - val_mae: 4.7299\n",
            "Epoch 201/250\n",
            "178/178 [==============================] - 43s 237ms/step - loss: 30.0000 - mae: 4.7387 - val_loss: 29.8878 - val_mae: 4.7247\n",
            "Epoch 202/250\n",
            "178/178 [==============================] - 45s 247ms/step - loss: 30.0108 - mae: 4.7383 - val_loss: 29.9704 - val_mae: 4.7352\n",
            "Epoch 203/250\n",
            "178/178 [==============================] - 45s 249ms/step - loss: 30.0243 - mae: 4.7403 - val_loss: 30.0784 - val_mae: 4.7479\n",
            "Epoch 204/250\n",
            "178/178 [==============================] - 45s 247ms/step - loss: 29.9893 - mae: 4.7336 - val_loss: 30.0667 - val_mae: 4.7469\n",
            "Epoch 205/250\n",
            "178/178 [==============================] - 44s 245ms/step - loss: 30.0496 - mae: 4.7397 - val_loss: 30.1007 - val_mae: 4.7469\n",
            "Epoch 206/250\n",
            "178/178 [==============================] - 44s 240ms/step - loss: 29.9985 - mae: 4.7371 - val_loss: 30.0646 - val_mae: 4.7426\n",
            "Epoch 207/250\n",
            "178/178 [==============================] - 51s 276ms/step - loss: 29.9226 - mae: 4.7298 - val_loss: 29.9841 - val_mae: 4.7363\n",
            "Epoch 208/250\n",
            "178/178 [==============================] - 47s 259ms/step - loss: 30.0027 - mae: 4.7365 - val_loss: 30.0339 - val_mae: 4.7437\n",
            "Epoch 209/250\n",
            "178/178 [==============================] - 45s 248ms/step - loss: 29.9839 - mae: 4.7348 - val_loss: 30.1186 - val_mae: 4.7522\n",
            "Epoch 210/250\n",
            "178/178 [==============================] - 44s 245ms/step - loss: 30.0624 - mae: 4.7454 - val_loss: 29.9121 - val_mae: 4.7279\n",
            "Epoch 211/250\n",
            "178/178 [==============================] - 45s 246ms/step - loss: 30.0555 - mae: 4.7419 - val_loss: 29.9512 - val_mae: 4.7311\n",
            "Epoch 212/250\n",
            "178/178 [==============================] - 43s 236ms/step - loss: 30.0076 - mae: 4.7373 - val_loss: 29.9398 - val_mae: 4.7321\n",
            "Epoch 213/250\n",
            "178/178 [==============================] - 44s 242ms/step - loss: 30.0250 - mae: 4.7383 - val_loss: 30.0031 - val_mae: 4.7363\n",
            "Epoch 214/250\n",
            "178/178 [==============================] - 45s 248ms/step - loss: 30.1006 - mae: 4.7468 - val_loss: 30.0561 - val_mae: 4.7448\n",
            "Epoch 215/250\n",
            "178/178 [==============================] - 45s 247ms/step - loss: 30.0673 - mae: 4.7432 - val_loss: 29.8634 - val_mae: 4.7236\n",
            "Epoch 216/250\n",
            "178/178 [==============================] - 45s 248ms/step - loss: 30.0503 - mae: 4.7425 - val_loss: 30.0381 - val_mae: 4.7417\n",
            "Epoch 217/250\n",
            "178/178 [==============================] - 44s 244ms/step - loss: 30.0194 - mae: 4.7390 - val_loss: 30.0011 - val_mae: 4.7364\n",
            "Epoch 218/250\n",
            "178/178 [==============================] - 44s 237ms/step - loss: 29.9614 - mae: 4.7341 - val_loss: 30.0105 - val_mae: 4.7374\n",
            "Epoch 219/250\n",
            "178/178 [==============================] - 43s 238ms/step - loss: 29.9814 - mae: 4.7348 - val_loss: 29.9418 - val_mae: 4.7322\n",
            "Epoch 220/250\n",
            "178/178 [==============================] - 41s 223ms/step - loss: 30.0173 - mae: 4.7390 - val_loss: 29.9778 - val_mae: 4.7341\n",
            "Epoch 221/250\n",
            "178/178 [==============================] - 44s 244ms/step - loss: 29.9686 - mae: 4.7347 - val_loss: 30.0169 - val_mae: 4.7394\n",
            "Epoch 222/250\n",
            "178/178 [==============================] - 45s 248ms/step - loss: 29.9878 - mae: 4.7372 - val_loss: 30.0286 - val_mae: 4.7384\n",
            "Epoch 223/250\n",
            "178/178 [==============================] - 45s 247ms/step - loss: 30.0380 - mae: 4.7414 - val_loss: 29.9809 - val_mae: 4.7352\n",
            "Epoch 224/250\n",
            "178/178 [==============================] - 45s 248ms/step - loss: 29.9458 - mae: 4.7305 - val_loss: 29.9756 - val_mae: 4.7341\n",
            "Epoch 225/250\n",
            "178/178 [==============================] - 44s 242ms/step - loss: 30.0323 - mae: 4.7393 - val_loss: 29.9968 - val_mae: 4.7362\n",
            "Epoch 226/250\n",
            "178/178 [==============================] - 46s 252ms/step - loss: 30.0140 - mae: 4.7379 - val_loss: 29.9640 - val_mae: 4.7331\n",
            "Epoch 227/250\n",
            "178/178 [==============================] - 45s 249ms/step - loss: 29.9609 - mae: 4.7333 - val_loss: 30.1292 - val_mae: 4.7500\n",
            "Epoch 228/250\n",
            "178/178 [==============================] - 45s 248ms/step - loss: 29.9836 - mae: 4.7357 - val_loss: 30.0180 - val_mae: 4.7384\n",
            "Epoch 229/250\n",
            "178/178 [==============================] - 45s 247ms/step - loss: 30.0299 - mae: 4.7382 - val_loss: 30.0424 - val_mae: 4.7416\n",
            "Epoch 230/250\n",
            "178/178 [==============================] - 44s 244ms/step - loss: 30.0044 - mae: 4.7375 - val_loss: 29.9502 - val_mae: 4.7341\n",
            "Epoch 231/250\n",
            "178/178 [==============================] - 44s 244ms/step - loss: 29.9719 - mae: 4.7333 - val_loss: 29.9206 - val_mae: 4.7299\n",
            "Epoch 232/250\n",
            "178/178 [==============================] - 47s 255ms/step - loss: 30.0520 - mae: 4.7435 - val_loss: 29.9968 - val_mae: 4.7363\n",
            "Epoch 233/250\n",
            "178/178 [==============================] - 43s 237ms/step - loss: 30.0610 - mae: 4.7425 - val_loss: 29.9449 - val_mae: 4.7310\n",
            "Epoch 234/250\n",
            "178/178 [==============================] - 44s 241ms/step - loss: 30.0171 - mae: 4.7380 - val_loss: 30.1324 - val_mae: 4.7532\n",
            "Epoch 235/250\n",
            "178/178 [==============================] - 45s 248ms/step - loss: 29.9954 - mae: 4.7361 - val_loss: 29.9629 - val_mae: 4.7383\n",
            "Epoch 236/250\n",
            "178/178 [==============================] - 46s 253ms/step - loss: 30.0035 - mae: 4.7372 - val_loss: 29.9502 - val_mae: 4.7341\n",
            "Epoch 237/250\n",
            "178/178 [==============================] - 45s 248ms/step - loss: 29.9650 - mae: 4.7326 - val_loss: 30.0657 - val_mae: 4.7458\n",
            "Epoch 238/250\n",
            "178/178 [==============================] - 45s 247ms/step - loss: 30.0006 - mae: 4.7365 - val_loss: 29.9672 - val_mae: 4.7320\n",
            "Epoch 239/250\n",
            "178/178 [==============================] - 44s 238ms/step - loss: 30.0239 - mae: 4.7379 - val_loss: 29.9852 - val_mae: 4.7352\n",
            "Epoch 240/250\n",
            "178/178 [==============================] - 45s 248ms/step - loss: 29.9671 - mae: 4.7340 - val_loss: 29.9788 - val_mae: 4.7331\n",
            "Epoch 241/250\n",
            "178/178 [==============================] - 45s 249ms/step - loss: 30.0104 - mae: 4.7386 - val_loss: 29.9799 - val_mae: 4.7341\n",
            "Epoch 242/250\n",
            "178/178 [==============================] - 45s 249ms/step - loss: 29.9456 - mae: 4.7315 - val_loss: 29.8750 - val_mae: 4.7246\n",
            "Epoch 243/250\n",
            "178/178 [==============================] - 45s 250ms/step - loss: 29.9586 - mae: 4.7337 - val_loss: 29.9809 - val_mae: 4.7352\n",
            "Epoch 244/250\n",
            "178/178 [==============================] - 45s 251ms/step - loss: 29.9520 - mae: 4.7322 - val_loss: 29.9099 - val_mae: 4.7278\n",
            "Epoch 245/250\n",
            "178/178 [==============================] - 45s 243ms/step - loss: 30.0446 - mae: 4.7432 - val_loss: 29.9428 - val_mae: 4.7331\n",
            "Epoch 246/250\n",
            "178/178 [==============================] - 41s 226ms/step - loss: 30.0514 - mae: 4.7407 - val_loss: 29.9873 - val_mae: 4.7352\n",
            "Epoch 247/250\n",
            "178/178 [==============================] - 43s 237ms/step - loss: 29.9963 - mae: 4.7372 - val_loss: 29.9746 - val_mae: 4.7373\n",
            "Epoch 248/250\n",
            "178/178 [==============================] - 44s 244ms/step - loss: 29.9998 - mae: 4.7379 - val_loss: 30.0307 - val_mae: 4.7384\n",
            "Epoch 249/250\n",
            "178/178 [==============================] - 44s 246ms/step - loss: 29.9866 - mae: 4.7372 - val_loss: 30.0032 - val_mae: 4.7363\n",
            "Epoch 250/250\n",
            "178/178 [==============================] - 44s 245ms/step - loss: 29.9963 - mae: 4.7358 - val_loss: 30.1144 - val_mae: 4.7479\n"
          ]
        }
      ]
    },
    {
      "cell_type": "code",
      "source": [
        "loss = history.history['loss']\n",
        "val_loss = history.history['val_loss']\n",
        "mae = history.history['mae']\n",
        "val_mae = history.history['val_mae']\n",
        "\n",
        "\n",
        "epochs_x = range(len(loss))\n",
        "\n",
        "\n",
        "plt.plot(epochs_x, mae, 'o', color ='darkviolet', label='Training MAE')\n",
        "plt.plot(epochs_x, val_mae, 'k', label='Validation MAE')\n",
        "plt.title('Training and validation MeanAbsoluteError')\n",
        "plt.legend()\n",
        "\n",
        "plt.figure()\n",
        "plt.plot(epochs_x, loss, 'o', color ='darkviolet', label='Training loss')\n",
        "plt.plot(epochs_x, val_loss, 'k', label='Validation loss')\n",
        "plt.title('Training and validation loss')\n",
        "plt.legend()\n",
        "\n",
        "plt.show()"
      ],
      "metadata": {
        "id": "Y3K89-CM-dfg",
        "colab": {
          "base_uri": "https://localhost:8080/",
          "height": 545
        },
        "outputId": "b4cf31ea-17d7-46d3-b5ec-646aca136e61"
      },
      "execution_count": 17,
      "outputs": [
        {
          "output_type": "display_data",
          "data": {
            "text/plain": [
              "<Figure size 432x288 with 1 Axes>"
            ],
            "image/png": "[encoded data removed]"
          },
          "metadata": {
            "needs_background": "light"
          }
        },
        {
          "output_type": "display_data",
          "data": {
            "text/plain": [
              "<Figure size 432x288 with 1 Axes>"
            ],
            "image/png": "[encoded data removed]"
          },
          "metadata": {
            "needs_background": "light"
          }
        }
      ]
    },
    {
      "cell_type": "code",
      "source": [
        "epochs_x"
      ],
      "metadata": {
        "id": "N_sP_ZmSY-Jv",
        "colab": {
          "base_uri": "https://localhost:8080/"
        },
        "outputId": "9a3392f7-bb36-4a62-f639-dc6b2456f91b"
      },
      "execution_count": 18,
      "outputs": [
        {
          "output_type": "execute_result",
          "data": {
            "text/plain": [
              "range(0, 250)"
            ]
          },
          "metadata": {},
          "execution_count": 18
        }
      ]
    },
    {
      "cell_type": "markdown",
      "source": [
        "#Download the model\n"
      ],
      "metadata": {
        "id": "R19IJQSYoW7J"
      }
    },
    {
      "cell_type": "code",
      "source": [
        "os.makedirs('/content/drive/My Drive/cut_panoramic/Model', exist_ok=True)\n",
        "model.save('/content/drive/My Drive/cut_panoramic/Model/3Re_All_1G_1e-4_16_0.2_250.h5')"
      ],
      "metadata": {
        "id": "Zed4TdFcG2iJ"
      },
      "execution_count": 19,
      "outputs": []
    },
    {
      "cell_type": "markdown",
      "source": [],
      "metadata": {
        "id": "n5YxZ-5QjQ0-"
      }
    },
    {
      "cell_type": "code",
      "source": [
        "# from google.colab import files\n",
        "# files.download('/content/drive/My Drive/cut_panoramic/Model/1.1_รอบแรก_Flimpano_Male125_250.h5')"
      ],
      "metadata": {
        "id": "P5eMxm1NV-oY"
      },
      "execution_count": 20,
      "outputs": []
    },
    {
      "cell_type": "code",
      "source": [
        "\n"
      ],
      "metadata": {
        "id": "wY_pDlxkRwxS"
      },
      "execution_count": 20,
      "outputs": []
    }
  ]
}