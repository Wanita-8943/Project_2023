{
  "nbformat": 4,
  "nbformat_minor": 0,
  "metadata": {
    "colab": {
      "provenance": [],
      "include_colab_link": true
    },
    "kernelspec": {
      "name": "python3",
      "display_name": "Python 3"
    },
    "language_info": {
      "name": "python"
    },
    "accelerator": "GPU",
    "gpuClass": "standard"
  },
  "cells": [
    {
      "cell_type": "markdown",
      "metadata": {
        "id": "view-in-github",
        "colab_type": "text"
      },
      "source": [
        "<a href=\"https://colab.research.google.com/github/Wanita-8943/Project_2023/blob/main/%E0%B8%A3%E0%B8%AD%E0%B8%9A%E0%B8%97%E0%B8%B5%E0%B9%883_Train_Female125_250_New_Unfreez.ipynb\" target=\"_parent\"><img src=\"https://colab.research.google.com/assets/colab-badge.svg\" alt=\"Open In Colab\"/></a>"
      ]
    },
    {
      "cell_type": "code",
      "execution_count": 1,
      "metadata": {
        "id": "KKSs7cyoPHcD"
      },
      "outputs": [],
      "source": [
        "import pandas as pd\n",
        "import shutil"
      ]
    },
    {
      "cell_type": "code",
      "source": [
        "from google.colab import drive\n",
        "drive.mount('/content/drive')"
      ],
      "metadata": {
        "colab": {
          "base_uri": "https://localhost:8080/"
        },
        "id": "7LoeZxmVPMxp",
        "outputId": "5c843d38-fabf-48a7-cf5b-17dd65ab9388"
      },
      "execution_count": 2,
      "outputs": [
        {
          "output_type": "stream",
          "name": "stdout",
          "text": [
            "Mounted at /content/drive\n"
          ]
        }
      ]
    },
    {
      "cell_type": "code",
      "source": [
        "from tensorflow.keras import models\n",
        "from tensorflow.keras import layers\n",
        "from tensorflow.keras import optimizers\n",
        "import os\n",
        "import glob\n",
        "import shutil\n",
        "import sys\n",
        "import numpy as np\n",
        "from skimage.io import imread\n",
        "import matplotlib.pyplot as plt\n",
        "from IPython.display import Image\n",
        "%matplotlib inline"
      ],
      "metadata": {
        "id": "1pX9g1HxPM2f"
      },
      "execution_count": 3,
      "outputs": []
    },
    {
      "cell_type": "code",
      "source": [
        "batch_size = 16\n",
        "width = 150\n",
        "height = 150\n",
        "epochs = 250\n",
        "NUM_TRAIN = 1425\n",
        "NUM_TEST = 475\n",
        "dropout_rate = 0.2\n",
        "input_shape = (height, width, 3)"
      ],
      "metadata": {
        "id": "eSFtvGyvPM6O"
      },
      "execution_count": 4,
      "outputs": []
    },
    {
      "cell_type": "code",
      "source": [
        "#ดึงข้อมูลใน Github มาใช้\n",
        "import os\n",
        "%cd /content\n",
        "if not os.path.isdir(\"efficientnet_keras_transfer_learning\"):\n",
        " !git clone https://github.com/Wanita-8943/efficientnet_keras_transfer_learning\n",
        "%cd efficientnet_keras_transfer_learning/"
      ],
      "metadata": {
        "colab": {
          "base_uri": "https://localhost:8080/"
        },
        "id": "lb4K4CsMPNAW",
        "outputId": "fbd462ab-c4a6-40bb-bbf9-3edd4a975e6a"
      },
      "execution_count": 5,
      "outputs": [
        {
          "output_type": "stream",
          "name": "stdout",
          "text": [
            "/content\n",
            "Cloning into 'efficientnet_keras_transfer_learning'...\n",
            "remote: Enumerating objects: 837, done.\u001b[K\n",
            "remote: Counting objects: 100% (359/359), done.\u001b[K\n",
            "remote: Compressing objects: 100% (124/124), done.\u001b[K\n",
            "remote: Total 837 (delta 255), reused 328 (delta 235), pack-reused 478\u001b[K\n",
            "Receiving objects: 100% (837/837), 13.82 MiB | 11.63 MiB/s, done.\n",
            "Resolving deltas: 100% (495/495), done.\n",
            "/content/efficientnet_keras_transfer_learning\n"
          ]
        }
      ]
    },
    {
      "cell_type": "code",
      "source": [
        "# Options: EfficientNetB0, EfficientNetB1, EfficientNetB2, EfficientNetB3\n",
        "# Higher the number, the more complex the model is.\n",
        "from efficientnet import EfficientNetB0 as Net\n",
        "from efficientnet import center_crop_and_resize, preprocess_input"
      ],
      "metadata": {
        "id": "eyBg0dLKPND3"
      },
      "execution_count": 6,
      "outputs": []
    },
    {
      "cell_type": "code",
      "source": [
        "# loading pretrained conv base model\n",
        "# โหลดโมเดล มาโดยตัด output ของโมเดลออก เเต่ยังใช้ input อันเดิม\n",
        "# เเละโหลด weight ของโมเดล มาด้วยที่ชื่อว่า imagenet\n",
        "conv_base = Net(weights='imagenet', include_top=False, input_shape=input_shape)"
      ],
      "metadata": {
        "colab": {
          "base_uri": "https://localhost:8080/"
        },
        "id": "vk9pa3wQGZSz",
        "outputId": "494777d1-6897-444e-ea6a-dad22d75d6e8"
      },
      "execution_count": 7,
      "outputs": [
        {
          "output_type": "stream",
          "name": "stderr",
          "text": [
            "WARNING:tensorflow:From /usr/local/lib/python3.8/dist-packages/tensorflow/python/autograph/pyct/static_analysis/liveness.py:83: Analyzer.lamba_check (from tensorflow.python.autograph.pyct.static_analysis.liveness) is deprecated and will be removed after 2023-09-23.\n",
            "Instructions for updating:\n",
            "Lambda fuctions will be no more assumed to be used in the statement where they are used, or at least in the same block. https://github.com/tensorflow/tensorflow/issues/56089\n"
          ]
        },
        {
          "output_type": "stream",
          "name": "stdout",
          "text": [
            "Downloading data from https://github.com/qubvel/efficientnet/releases/download/v0.0.1/efficientnet-b0_imagenet_1000_notop.h5\n",
            "16717576/16717576 [==============================] - 1s 0us/step\n"
          ]
        }
      ]
    },
    {
      "cell_type": "code",
      "source": [
        "base_dir = '/content/drive/MyDrive/TVT_Female125'\n",
        "os.makedirs(base_dir, exist_ok=True)\n",
        "\n",
        "# Directories for our training,\n",
        "# validation and test splits\n",
        "train_dir = os.path.join(base_dir, 'train')\n",
        "os.makedirs(train_dir, exist_ok=True)\n",
        "validation_dir = os.path.join(base_dir, 'validation')\n",
        "os.makedirs(validation_dir, exist_ok=True)\n",
        "test_dir = os.path.join(base_dir, 'test')\n",
        "os.makedirs(test_dir, exist_ok=True)"
      ],
      "metadata": {
        "id": "Jwpq_-KvPef8"
      },
      "execution_count": 8,
      "outputs": []
    },
    {
      "cell_type": "markdown",
      "source": [
        "#load model"
      ],
      "metadata": {
        "id": "od-ZSNm5PoGy"
      }
    },
    {
      "cell_type": "code",
      "source": [
        "import sys\n",
        "sys.path.append('/content/drive/MyDrive/cut_panoramic/Model//Classification/Female/22_รอบที่2_Flimpano_Female125_250.h5')\n",
        "\n",
        "from efficientnet.layers import Swish, DropConnect\n",
        "from efficientnet.model import ConvKernalInitializer\n",
        "from tensorflow.keras.utils import get_custom_objects\n",
        "\n",
        "get_custom_objects().update({\n",
        "    'ConvKernalInitializer': ConvKernalInitializer,\n",
        "    'Swish': Swish,\n",
        "    'DropConnect':DropConnect\n",
        "})"
      ],
      "metadata": {
        "id": "n5iPL5MNPkhE"
      },
      "execution_count": 9,
      "outputs": []
    },
    {
      "cell_type": "code",
      "source": [
        "#load model \n",
        "from tensorflow.keras.models import load_model\n",
        "model = load_model('/content/drive/MyDrive/cut_panoramic/Model//Classification/Female/22_รอบที่2_Flimpano_Female125_250.h5')\n",
        "height = width = model.input_shape[1]"
      ],
      "metadata": {
        "id": "plYz49xMPkly"
      },
      "execution_count": 10,
      "outputs": []
    },
    {
      "cell_type": "code",
      "source": [
        "model.summary()"
      ],
      "metadata": {
        "colab": {
          "base_uri": "https://localhost:8080/"
        },
        "id": "z6IOPBflFbvc",
        "outputId": "30ab01a0-2e6c-4e00-c79e-4d5fe31df5fa"
      },
      "execution_count": 11,
      "outputs": [
        {
          "output_type": "stream",
          "name": "stdout",
          "text": [
            "Model: \"sequential_2\"\n",
            "_________________________________________________________________\n",
            " Layer (type)                Output Shape              Param #   \n",
            "=================================================================\n",
            " efficientnet-b0 (Functional  (None, 5, 5, 1280)       4049564   \n",
            " )                                                               \n",
            "                                                                 \n",
            " gap (GlobalMaxPooling2D)    (None, 1280)              0         \n",
            "                                                                 \n",
            " dropout_out (Dropout)       (None, 1280)              0         \n",
            "                                                                 \n",
            " fc_out (Dense)              (None, 19)                24339     \n",
            "                                                                 \n",
            "=================================================================\n",
            "Total params: 4,073,903\n",
            "Trainable params: 24,339\n",
            "Non-trainable params: 4,049,564\n",
            "_________________________________________________________________\n"
          ]
        }
      ]
    },
    {
      "cell_type": "code",
      "source": [
        "# Train ด้วย ImageDataGenerator ของ Keras ซึ่งจะเพิ่มข้อมูลเสริมระหว่างการฝึกเพื่อลดโอกาสเกิด overfitting\n",
        "#overfitting เกิดจากข้อมูลที่ซับซ้อนกันเกินไป\n",
        "from tensorflow.keras.preprocessing.image import ImageDataGenerator\n",
        "\n",
        "train_datagen = ImageDataGenerator(\n",
        "      rescale=1./255, #โมเดลส่วนใหญ่ต้องใช้ RGB ในช่วง 0–1\n",
        "      rotation_range=40,\n",
        "      width_shift_range=0.2,\n",
        "      height_shift_range=0.2,\n",
        "      shear_range=0.2,\n",
        "      zoom_range=0.2,\n",
        "      horizontal_flip=True,\n",
        "      fill_mode='nearest')\n",
        "\n",
        "# Note that the validation data should not be augmented!\n",
        "test_datagen = ImageDataGenerator(rescale=1./255)\n",
        "\n",
        "train_generator = train_datagen.flow_from_directory(\n",
        "        # This is the target directory #ไดเรกเป้าหมาย\n",
        "        train_dir,\n",
        "        # รูปภาพทั้งหมดจะถูกปรับขนาดตามความสูงและความกว้างของเป้าหมาย\n",
        "        target_size=(height, width),\n",
        "        batch_size=batch_size,\n",
        "        # Since we use categorical_crossentropy loss, we need categorical labels\n",
        "        #เนื่องจากเราใช้ categorical_crossentropy loss เราจึงต้องมีป้ายกำกับตามหมวดหมู่\n",
        "        class_mode='categorical')\n",
        "\n",
        "validation_generator = test_datagen.flow_from_directory( #การดึงภาพจาก Directory มาเข้าโมเดล \n",
        "        validation_dir,\n",
        "        target_size=(height, width),\n",
        "        batch_size=batch_size,\n",
        "        class_mode='categorical')"
      ],
      "metadata": {
        "colab": {
          "base_uri": "https://localhost:8080/"
        },
        "id": "KBMZbdr2Pgw4",
        "outputId": "550647b9-1672-4597-c1f5-8fd56edcc61f"
      },
      "execution_count": 12,
      "outputs": [
        {
          "output_type": "stream",
          "name": "stdout",
          "text": [
            "Found 1425 images belonging to 19 classes.\n",
            "Found 475 images belonging to 19 classes.\n"
          ]
        }
      ]
    },
    {
      "cell_type": "code",
      "source": [
        "# multiply_16\n",
        "# set 'multiply_16' and following layers trainable\n",
        "model.trainable = True\n",
        "\n",
        "set_trainable = False\n",
        "for layer in conv_base.layers:\n",
        "    if layer.name == 'multiply_16':\n",
        "        set_trainable = True\n",
        "    if set_trainable:\n",
        "        layer.trainable = True\n",
        "    else:\n",
        "        layer.trainable = False  "
      ],
      "metadata": {
        "id": "RAGlQawVGb3R"
      },
      "execution_count": 13,
      "outputs": []
    },
    {
      "cell_type": "code",
      "source": [
        "model.summary()"
      ],
      "metadata": {
        "colab": {
          "base_uri": "https://localhost:8080/"
        },
        "id": "FIwnHnfbGlKR",
        "outputId": "3dd33dcf-534b-43a4-e491-8c5ae180e29d"
      },
      "execution_count": 14,
      "outputs": [
        {
          "output_type": "stream",
          "name": "stdout",
          "text": [
            "Model: \"sequential_2\"\n",
            "_________________________________________________________________\n",
            " Layer (type)                Output Shape              Param #   \n",
            "=================================================================\n",
            " efficientnet-b0 (Functional  (None, 5, 5, 1280)       4049564   \n",
            " )                                                               \n",
            "                                                                 \n",
            " gap (GlobalMaxPooling2D)    (None, 1280)              0         \n",
            "                                                                 \n",
            " dropout_out (Dropout)       (None, 1280)              0         \n",
            "                                                                 \n",
            " fc_out (Dense)              (None, 19)                24339     \n",
            "                                                                 \n",
            "=================================================================\n",
            "Total params: 4,073,903\n",
            "Trainable params: 4,031,887\n",
            "Non-trainable params: 42,016\n",
            "_________________________________________________________________\n"
          ]
        }
      ]
    },
    {
      "cell_type": "code",
      "source": [
        "history = model.fit_generator(\n",
        "      train_generator,\n",
        "      steps_per_epoch= NUM_TRAIN //batch_size,\n",
        "      epochs=epochs,\n",
        "      validation_data=validation_generator,\n",
        "      validation_steps= NUM_TEST //batch_size,\n",
        "      verbose=1,\n",
        "      use_multiprocessing=True,\n",
        "      workers=4)"
      ],
      "metadata": {
        "colab": {
          "base_uri": "https://localhost:8080/"
        },
        "id": "C9Cf1dwyP1PD",
        "outputId": "14ff6732-1f47-41b6-dfac-529ea75b04b6"
      },
      "execution_count": 15,
      "outputs": [
        {
          "output_type": "stream",
          "name": "stderr",
          "text": [
            "<ipython-input-15-caa7b37242a8>:1: UserWarning: `Model.fit_generator` is deprecated and will be removed in a future version. Please use `Model.fit`, which supports generators.\n",
            "  history = model.fit_generator(\n"
          ]
        },
        {
          "output_type": "stream",
          "name": "stdout",
          "text": [
            "Epoch 1/250\n",
            "89/89 [==============================] - 183s 2s/step - loss: 2.3598 - acc: 0.2413 - val_loss: 2.6859 - val_acc: 0.1940\n",
            "Epoch 2/250\n",
            "89/89 [==============================] - 20s 217ms/step - loss: 2.4147 - acc: 0.2229 - val_loss: 2.6747 - val_acc: 0.2004\n",
            "Epoch 3/250\n",
            "89/89 [==============================] - 22s 236ms/step - loss: 2.4334 - acc: 0.2307 - val_loss: 2.7026 - val_acc: 0.1897\n",
            "Epoch 4/250\n",
            "89/89 [==============================] - 26s 288ms/step - loss: 2.3973 - acc: 0.2200 - val_loss: 2.7019 - val_acc: 0.1897\n",
            "Epoch 5/250\n",
            "89/89 [==============================] - 26s 292ms/step - loss: 2.3997 - acc: 0.2335 - val_loss: 2.6772 - val_acc: 0.1897\n",
            "Epoch 6/250\n",
            "89/89 [==============================] - 25s 273ms/step - loss: 2.4312 - acc: 0.2101 - val_loss: 2.6680 - val_acc: 0.1961\n",
            "Epoch 7/250\n",
            "89/89 [==============================] - 27s 293ms/step - loss: 2.3918 - acc: 0.2314 - val_loss: 2.6940 - val_acc: 0.1897\n",
            "Epoch 8/250\n",
            "89/89 [==============================] - 20s 218ms/step - loss: 2.4076 - acc: 0.2179 - val_loss: 2.6990 - val_acc: 0.1961\n",
            "Epoch 9/250\n",
            "89/89 [==============================] - 28s 306ms/step - loss: 2.4468 - acc: 0.2087 - val_loss: 2.6839 - val_acc: 0.1940\n",
            "Epoch 10/250\n",
            "89/89 [==============================] - 26s 288ms/step - loss: 2.4261 - acc: 0.1980 - val_loss: 2.6750 - val_acc: 0.1918\n",
            "Epoch 11/250\n",
            "89/89 [==============================] - 22s 239ms/step - loss: 2.4013 - acc: 0.2165 - val_loss: 2.6635 - val_acc: 0.1961\n",
            "Epoch 12/250\n",
            "89/89 [==============================] - 27s 300ms/step - loss: 2.3709 - acc: 0.2314 - val_loss: 2.6808 - val_acc: 0.1897\n",
            "Epoch 13/250\n",
            "89/89 [==============================] - 27s 300ms/step - loss: 2.3871 - acc: 0.2250 - val_loss: 2.6537 - val_acc: 0.2026\n",
            "Epoch 14/250\n",
            "89/89 [==============================] - 26s 287ms/step - loss: 2.3878 - acc: 0.2335 - val_loss: 2.6688 - val_acc: 0.2004\n",
            "Epoch 15/250\n",
            "89/89 [==============================] - 25s 271ms/step - loss: 2.3627 - acc: 0.2214 - val_loss: 2.6492 - val_acc: 0.1983\n",
            "Epoch 16/250\n",
            "89/89 [==============================] - 25s 273ms/step - loss: 2.3988 - acc: 0.2363 - val_loss: 2.6662 - val_acc: 0.1918\n",
            "Epoch 17/250\n",
            "89/89 [==============================] - 25s 280ms/step - loss: 2.3693 - acc: 0.2200 - val_loss: 2.6665 - val_acc: 0.1961\n",
            "Epoch 18/250\n",
            "89/89 [==============================] - 25s 273ms/step - loss: 2.4134 - acc: 0.2129 - val_loss: 2.6574 - val_acc: 0.2004\n",
            "Epoch 19/250\n",
            "89/89 [==============================] - 27s 295ms/step - loss: 2.3641 - acc: 0.2392 - val_loss: 2.6796 - val_acc: 0.1983\n",
            "Epoch 20/250\n",
            "89/89 [==============================] - 25s 270ms/step - loss: 2.4210 - acc: 0.1973 - val_loss: 2.7092 - val_acc: 0.1897\n",
            "Epoch 21/250\n",
            "89/89 [==============================] - 21s 231ms/step - loss: 2.4000 - acc: 0.2314 - val_loss: 2.6916 - val_acc: 0.1940\n",
            "Epoch 22/250\n",
            "89/89 [==============================] - 27s 303ms/step - loss: 2.4018 - acc: 0.2158 - val_loss: 2.6663 - val_acc: 0.1983\n",
            "Epoch 23/250\n",
            "89/89 [==============================] - 28s 312ms/step - loss: 2.3971 - acc: 0.2193 - val_loss: 2.6958 - val_acc: 0.1961\n",
            "Epoch 24/250\n",
            "89/89 [==============================] - 25s 276ms/step - loss: 2.3495 - acc: 0.2335 - val_loss: 2.6810 - val_acc: 0.1983\n",
            "Epoch 25/250\n",
            "89/89 [==============================] - 26s 284ms/step - loss: 2.3898 - acc: 0.2342 - val_loss: 2.6854 - val_acc: 0.1961\n",
            "Epoch 26/250\n",
            "89/89 [==============================] - 24s 269ms/step - loss: 2.4680 - acc: 0.2087 - val_loss: 2.6816 - val_acc: 0.1940\n",
            "Epoch 27/250\n",
            "89/89 [==============================] - 26s 289ms/step - loss: 2.3445 - acc: 0.2221 - val_loss: 2.6947 - val_acc: 0.1961\n",
            "Epoch 28/250\n",
            "89/89 [==============================] - 26s 276ms/step - loss: 2.3581 - acc: 0.2335 - val_loss: 2.6752 - val_acc: 0.2047\n",
            "Epoch 29/250\n",
            "89/89 [==============================] - 26s 289ms/step - loss: 2.3606 - acc: 0.2221 - val_loss: 2.6857 - val_acc: 0.1983\n",
            "Epoch 30/250\n",
            "89/89 [==============================] - 25s 272ms/step - loss: 2.3763 - acc: 0.2314 - val_loss: 2.6809 - val_acc: 0.1961\n",
            "Epoch 31/250\n",
            "89/89 [==============================] - 26s 290ms/step - loss: 2.4053 - acc: 0.2285 - val_loss: 2.7017 - val_acc: 0.1897\n",
            "Epoch 32/250\n",
            "89/89 [==============================] - 29s 318ms/step - loss: 2.3610 - acc: 0.2264 - val_loss: 2.6862 - val_acc: 0.1853\n",
            "Epoch 33/250\n",
            "89/89 [==============================] - 26s 290ms/step - loss: 2.3531 - acc: 0.2314 - val_loss: 2.6920 - val_acc: 0.1918\n",
            "Epoch 34/250\n",
            "89/89 [==============================] - 25s 274ms/step - loss: 2.3553 - acc: 0.2370 - val_loss: 2.6653 - val_acc: 0.1853\n",
            "Epoch 35/250\n",
            "89/89 [==============================] - 26s 289ms/step - loss: 2.3832 - acc: 0.2172 - val_loss: 2.6849 - val_acc: 0.1875\n",
            "Epoch 36/250\n",
            "89/89 [==============================] - 26s 290ms/step - loss: 2.4090 - acc: 0.2200 - val_loss: 2.6946 - val_acc: 0.1940\n",
            "Epoch 37/250\n",
            "89/89 [==============================] - 27s 300ms/step - loss: 2.3610 - acc: 0.2356 - val_loss: 2.6964 - val_acc: 0.1918\n",
            "Epoch 38/250\n",
            "89/89 [==============================] - 27s 293ms/step - loss: 2.4086 - acc: 0.2158 - val_loss: 2.7040 - val_acc: 0.2026\n",
            "Epoch 39/250\n",
            "89/89 [==============================] - 25s 277ms/step - loss: 2.3843 - acc: 0.2328 - val_loss: 2.6759 - val_acc: 0.2004\n",
            "Epoch 40/250\n",
            "89/89 [==============================] - 25s 273ms/step - loss: 2.4037 - acc: 0.2278 - val_loss: 2.6948 - val_acc: 0.1961\n",
            "Epoch 41/250\n",
            "89/89 [==============================] - 29s 319ms/step - loss: 2.3664 - acc: 0.2257 - val_loss: 2.6973 - val_acc: 0.1918\n",
            "Epoch 42/250\n",
            "89/89 [==============================] - 25s 274ms/step - loss: 2.3714 - acc: 0.2250 - val_loss: 2.6843 - val_acc: 0.1918\n",
            "Epoch 43/250\n",
            "89/89 [==============================] - 27s 296ms/step - loss: 2.4050 - acc: 0.2321 - val_loss: 2.6687 - val_acc: 0.2004\n",
            "Epoch 44/250\n",
            "89/89 [==============================] - 27s 294ms/step - loss: 2.3549 - acc: 0.2420 - val_loss: 2.6589 - val_acc: 0.2047\n",
            "Epoch 45/250\n",
            "89/89 [==============================] - 29s 320ms/step - loss: 2.4025 - acc: 0.2292 - val_loss: 2.6707 - val_acc: 0.2004\n",
            "Epoch 46/250\n",
            "89/89 [==============================] - 26s 285ms/step - loss: 2.3718 - acc: 0.2158 - val_loss: 2.6387 - val_acc: 0.2047\n",
            "Epoch 47/250\n",
            "89/89 [==============================] - 20s 218ms/step - loss: 2.3928 - acc: 0.2328 - val_loss: 2.6844 - val_acc: 0.2026\n",
            "Epoch 48/250\n",
            "89/89 [==============================] - 26s 281ms/step - loss: 2.3787 - acc: 0.2328 - val_loss: 2.7003 - val_acc: 0.1940\n",
            "Epoch 49/250\n",
            "89/89 [==============================] - 26s 284ms/step - loss: 2.3576 - acc: 0.2307 - val_loss: 2.6923 - val_acc: 0.1961\n",
            "Epoch 50/250\n",
            "89/89 [==============================] - 27s 297ms/step - loss: 2.3855 - acc: 0.2314 - val_loss: 2.7078 - val_acc: 0.2026\n",
            "Epoch 51/250\n",
            "89/89 [==============================] - 29s 315ms/step - loss: 2.3228 - acc: 0.2576 - val_loss: 2.7090 - val_acc: 0.1961\n",
            "Epoch 52/250\n",
            "89/89 [==============================] - 25s 271ms/step - loss: 2.3752 - acc: 0.2257 - val_loss: 2.6885 - val_acc: 0.2004\n",
            "Epoch 53/250\n",
            "89/89 [==============================] - 25s 269ms/step - loss: 2.3536 - acc: 0.2434 - val_loss: 2.6964 - val_acc: 0.1897\n",
            "Epoch 54/250\n",
            "89/89 [==============================] - 25s 269ms/step - loss: 2.3998 - acc: 0.2101 - val_loss: 2.7049 - val_acc: 0.1961\n",
            "Epoch 55/250\n",
            "89/89 [==============================] - 25s 274ms/step - loss: 2.3982 - acc: 0.2179 - val_loss: 2.6841 - val_acc: 0.1875\n",
            "Epoch 56/250\n",
            "89/89 [==============================] - 22s 243ms/step - loss: 2.3993 - acc: 0.2278 - val_loss: 2.6882 - val_acc: 0.1918\n",
            "Epoch 57/250\n",
            "89/89 [==============================] - 20s 216ms/step - loss: 2.3210 - acc: 0.2271 - val_loss: 2.7028 - val_acc: 0.1853\n",
            "Epoch 58/250\n",
            "89/89 [==============================] - 27s 296ms/step - loss: 2.3571 - acc: 0.2441 - val_loss: 2.7001 - val_acc: 0.1918\n",
            "Epoch 59/250\n",
            "89/89 [==============================] - 25s 275ms/step - loss: 2.3330 - acc: 0.2477 - val_loss: 2.6884 - val_acc: 0.1961\n",
            "Epoch 60/250\n",
            "89/89 [==============================] - 25s 271ms/step - loss: 2.3200 - acc: 0.2221 - val_loss: 2.6886 - val_acc: 0.1853\n",
            "Epoch 61/250\n",
            "89/89 [==============================] - 25s 269ms/step - loss: 2.3570 - acc: 0.2399 - val_loss: 2.7089 - val_acc: 0.1918\n",
            "Epoch 62/250\n",
            "89/89 [==============================] - 24s 266ms/step - loss: 2.3715 - acc: 0.2300 - val_loss: 2.6692 - val_acc: 0.1961\n",
            "Epoch 63/250\n",
            "89/89 [==============================] - 25s 276ms/step - loss: 2.3333 - acc: 0.2300 - val_loss: 2.6921 - val_acc: 0.2004\n",
            "Epoch 64/250\n",
            "89/89 [==============================] - 27s 296ms/step - loss: 2.3336 - acc: 0.2328 - val_loss: 2.6774 - val_acc: 0.1918\n",
            "Epoch 65/250\n",
            "89/89 [==============================] - 25s 278ms/step - loss: 2.3603 - acc: 0.2307 - val_loss: 2.6861 - val_acc: 0.1875\n",
            "Epoch 66/250\n",
            "89/89 [==============================] - 28s 308ms/step - loss: 2.3536 - acc: 0.2321 - val_loss: 2.6828 - val_acc: 0.1983\n",
            "Epoch 67/250\n",
            "89/89 [==============================] - 25s 269ms/step - loss: 2.3450 - acc: 0.2300 - val_loss: 2.6841 - val_acc: 0.2004\n",
            "Epoch 68/250\n",
            "89/89 [==============================] - 25s 271ms/step - loss: 2.3468 - acc: 0.2328 - val_loss: 2.7136 - val_acc: 0.1897\n",
            "Epoch 69/250\n",
            "89/89 [==============================] - 25s 271ms/step - loss: 2.3817 - acc: 0.2179 - val_loss: 2.6812 - val_acc: 0.1897\n",
            "Epoch 70/250\n",
            "89/89 [==============================] - 20s 215ms/step - loss: 2.3684 - acc: 0.2172 - val_loss: 2.6919 - val_acc: 0.1961\n",
            "Epoch 71/250\n",
            "89/89 [==============================] - 24s 266ms/step - loss: 2.3698 - acc: 0.2271 - val_loss: 2.6803 - val_acc: 0.1918\n",
            "Epoch 72/250\n",
            "89/89 [==============================] - 25s 277ms/step - loss: 2.3437 - acc: 0.2207 - val_loss: 2.7139 - val_acc: 0.1875\n",
            "Epoch 73/250\n",
            "89/89 [==============================] - 25s 271ms/step - loss: 2.3578 - acc: 0.2307 - val_loss: 2.7131 - val_acc: 0.1918\n",
            "Epoch 74/250\n",
            "89/89 [==============================] - 25s 272ms/step - loss: 2.3397 - acc: 0.2413 - val_loss: 2.7295 - val_acc: 0.1875\n",
            "Epoch 75/250\n",
            "89/89 [==============================] - 25s 273ms/step - loss: 2.3278 - acc: 0.2456 - val_loss: 2.6957 - val_acc: 0.1875\n",
            "Epoch 76/250\n",
            "89/89 [==============================] - 25s 272ms/step - loss: 2.3761 - acc: 0.2179 - val_loss: 2.7271 - val_acc: 0.1918\n",
            "Epoch 77/250\n",
            "89/89 [==============================] - 26s 274ms/step - loss: 2.2958 - acc: 0.2548 - val_loss: 2.7189 - val_acc: 0.1832\n",
            "Epoch 78/250\n",
            "89/89 [==============================] - 25s 272ms/step - loss: 2.3829 - acc: 0.2264 - val_loss: 2.7288 - val_acc: 0.1940\n",
            "Epoch 79/250\n",
            "89/89 [==============================] - 26s 274ms/step - loss: 2.2757 - acc: 0.2498 - val_loss: 2.7265 - val_acc: 0.1897\n",
            "Epoch 80/250\n",
            "89/89 [==============================] - 25s 272ms/step - loss: 2.3438 - acc: 0.2264 - val_loss: 2.6992 - val_acc: 0.1918\n",
            "Epoch 81/250\n",
            "89/89 [==============================] - 27s 292ms/step - loss: 2.3346 - acc: 0.2307 - val_loss: 2.6949 - val_acc: 0.1853\n",
            "Epoch 82/250\n",
            "89/89 [==============================] - 25s 273ms/step - loss: 2.3374 - acc: 0.2441 - val_loss: 2.7052 - val_acc: 0.1875\n",
            "Epoch 83/250\n",
            "89/89 [==============================] - 26s 283ms/step - loss: 2.3284 - acc: 0.2363 - val_loss: 2.7001 - val_acc: 0.1961\n",
            "Epoch 84/250\n",
            "89/89 [==============================] - 25s 273ms/step - loss: 2.2980 - acc: 0.2498 - val_loss: 2.7009 - val_acc: 0.1940\n",
            "Epoch 85/250\n",
            "89/89 [==============================] - 25s 276ms/step - loss: 2.2954 - acc: 0.2427 - val_loss: 2.7020 - val_acc: 0.1940\n",
            "Epoch 86/250\n",
            "89/89 [==============================] - 25s 271ms/step - loss: 2.3818 - acc: 0.2200 - val_loss: 2.7190 - val_acc: 0.1875\n",
            "Epoch 87/250\n",
            "89/89 [==============================] - 25s 274ms/step - loss: 2.3221 - acc: 0.2370 - val_loss: 2.6948 - val_acc: 0.2026\n",
            "Epoch 88/250\n",
            "89/89 [==============================] - 25s 271ms/step - loss: 2.3733 - acc: 0.2328 - val_loss: 2.6917 - val_acc: 0.1897\n",
            "Epoch 89/250\n",
            "89/89 [==============================] - 25s 273ms/step - loss: 2.3127 - acc: 0.2385 - val_loss: 2.6843 - val_acc: 0.1918\n",
            "Epoch 90/250\n",
            "89/89 [==============================] - 27s 297ms/step - loss: 2.3452 - acc: 0.2399 - val_loss: 2.7159 - val_acc: 0.1961\n",
            "Epoch 91/250\n",
            "89/89 [==============================] - 26s 289ms/step - loss: 2.3773 - acc: 0.2356 - val_loss: 2.7178 - val_acc: 0.1918\n",
            "Epoch 92/250\n",
            "89/89 [==============================] - 27s 294ms/step - loss: 2.3344 - acc: 0.2271 - val_loss: 2.6978 - val_acc: 0.2004\n",
            "Epoch 93/250\n",
            "89/89 [==============================] - 20s 219ms/step - loss: 2.3248 - acc: 0.2307 - val_loss: 2.7136 - val_acc: 0.1832\n",
            "Epoch 94/250\n",
            "89/89 [==============================] - 21s 222ms/step - loss: 2.3751 - acc: 0.2101 - val_loss: 2.7143 - val_acc: 0.1853\n",
            "Epoch 95/250\n",
            "89/89 [==============================] - 25s 270ms/step - loss: 2.3370 - acc: 0.2250 - val_loss: 2.7277 - val_acc: 0.1875\n",
            "Epoch 96/250\n",
            "89/89 [==============================] - 25s 272ms/step - loss: 2.3497 - acc: 0.2292 - val_loss: 2.7089 - val_acc: 0.1832\n",
            "Epoch 97/250\n",
            "89/89 [==============================] - 25s 272ms/step - loss: 2.3080 - acc: 0.2406 - val_loss: 2.7158 - val_acc: 0.1832\n",
            "Epoch 98/250\n",
            "89/89 [==============================] - 26s 275ms/step - loss: 2.3423 - acc: 0.2399 - val_loss: 2.7147 - val_acc: 0.1940\n",
            "Epoch 99/250\n",
            "89/89 [==============================] - 27s 293ms/step - loss: 2.3660 - acc: 0.2278 - val_loss: 2.6982 - val_acc: 0.1897\n",
            "Epoch 100/250\n",
            "89/89 [==============================] - 27s 298ms/step - loss: 2.3694 - acc: 0.2271 - val_loss: 2.7107 - val_acc: 0.1897\n",
            "Epoch 101/250\n",
            "89/89 [==============================] - 29s 320ms/step - loss: 2.2958 - acc: 0.2470 - val_loss: 2.7153 - val_acc: 0.1832\n",
            "Epoch 102/250\n",
            "89/89 [==============================] - 26s 292ms/step - loss: 2.3084 - acc: 0.2420 - val_loss: 2.6924 - val_acc: 0.1875\n",
            "Epoch 103/250\n",
            "89/89 [==============================] - 24s 268ms/step - loss: 2.2837 - acc: 0.2370 - val_loss: 2.6889 - val_acc: 0.1853\n",
            "Epoch 104/250\n",
            "89/89 [==============================] - 20s 219ms/step - loss: 2.3234 - acc: 0.2370 - val_loss: 2.7003 - val_acc: 0.1810\n",
            "Epoch 105/250\n",
            "89/89 [==============================] - 27s 295ms/step - loss: 2.3064 - acc: 0.2399 - val_loss: 2.7018 - val_acc: 0.1853\n",
            "Epoch 106/250\n",
            "89/89 [==============================] - 28s 310ms/step - loss: 2.3505 - acc: 0.2186 - val_loss: 2.7027 - val_acc: 0.1897\n",
            "Epoch 107/250\n",
            "89/89 [==============================] - 26s 289ms/step - loss: 2.3313 - acc: 0.2420 - val_loss: 2.7049 - val_acc: 0.1810\n",
            "Epoch 108/250\n",
            "89/89 [==============================] - 26s 289ms/step - loss: 2.3394 - acc: 0.2321 - val_loss: 2.6814 - val_acc: 0.1832\n",
            "Epoch 109/250\n",
            "89/89 [==============================] - 27s 296ms/step - loss: 2.3542 - acc: 0.2278 - val_loss: 2.6831 - val_acc: 0.1853\n",
            "Epoch 110/250\n",
            "89/89 [==============================] - 22s 242ms/step - loss: 2.3199 - acc: 0.2378 - val_loss: 2.6912 - val_acc: 0.1897\n",
            "Epoch 111/250\n",
            "89/89 [==============================] - 27s 294ms/step - loss: 2.3500 - acc: 0.2356 - val_loss: 2.6773 - val_acc: 0.1875\n",
            "Epoch 112/250\n",
            "89/89 [==============================] - 27s 292ms/step - loss: 2.3413 - acc: 0.2456 - val_loss: 2.6752 - val_acc: 0.1832\n",
            "Epoch 113/250\n",
            "89/89 [==============================] - 25s 271ms/step - loss: 2.3291 - acc: 0.2292 - val_loss: 2.6831 - val_acc: 0.1810\n",
            "Epoch 114/250\n",
            "89/89 [==============================] - 26s 290ms/step - loss: 2.3573 - acc: 0.2101 - val_loss: 2.7078 - val_acc: 0.1724\n",
            "Epoch 115/250\n",
            "89/89 [==============================] - 28s 308ms/step - loss: 2.3581 - acc: 0.2413 - val_loss: 2.6901 - val_acc: 0.1853\n",
            "Epoch 116/250\n",
            "89/89 [==============================] - 25s 274ms/step - loss: 2.2978 - acc: 0.2434 - val_loss: 2.6917 - val_acc: 0.1810\n",
            "Epoch 117/250\n",
            "89/89 [==============================] - 22s 240ms/step - loss: 2.3696 - acc: 0.2349 - val_loss: 2.6722 - val_acc: 0.1767\n",
            "Epoch 118/250\n",
            "89/89 [==============================] - 21s 233ms/step - loss: 2.3599 - acc: 0.2363 - val_loss: 2.6864 - val_acc: 0.1832\n",
            "Epoch 119/250\n",
            "89/89 [==============================] - 28s 312ms/step - loss: 2.3162 - acc: 0.2285 - val_loss: 2.6942 - val_acc: 0.1832\n",
            "Epoch 120/250\n",
            "89/89 [==============================] - 25s 275ms/step - loss: 2.3189 - acc: 0.2413 - val_loss: 2.6806 - val_acc: 0.1810\n",
            "Epoch 121/250\n",
            "89/89 [==============================] - 25s 269ms/step - loss: 2.3044 - acc: 0.2456 - val_loss: 2.6935 - val_acc: 0.1853\n",
            "Epoch 122/250\n",
            "89/89 [==============================] - 26s 281ms/step - loss: 2.2882 - acc: 0.2470 - val_loss: 2.6907 - val_acc: 0.1875\n",
            "Epoch 123/250\n",
            "89/89 [==============================] - 25s 276ms/step - loss: 2.3530 - acc: 0.2392 - val_loss: 2.6934 - val_acc: 0.1832\n",
            "Epoch 124/250\n",
            "89/89 [==============================] - 27s 302ms/step - loss: 2.3119 - acc: 0.2392 - val_loss: 2.7090 - val_acc: 0.1961\n",
            "Epoch 125/250\n",
            "89/89 [==============================] - 25s 279ms/step - loss: 2.3439 - acc: 0.2441 - val_loss: 2.7100 - val_acc: 0.1897\n",
            "Epoch 126/250\n",
            "89/89 [==============================] - 21s 225ms/step - loss: 2.3459 - acc: 0.2378 - val_loss: 2.6928 - val_acc: 0.1832\n",
            "Epoch 127/250\n",
            "89/89 [==============================] - 27s 292ms/step - loss: 2.3322 - acc: 0.2399 - val_loss: 2.7096 - val_acc: 0.1875\n",
            "Epoch 128/250\n",
            "89/89 [==============================] - 27s 297ms/step - loss: 2.3599 - acc: 0.2300 - val_loss: 2.7307 - val_acc: 0.1810\n",
            "Epoch 129/250\n",
            "89/89 [==============================] - 29s 321ms/step - loss: 2.2898 - acc: 0.2626 - val_loss: 2.7318 - val_acc: 0.1767\n",
            "Epoch 130/250\n",
            "89/89 [==============================] - 25s 273ms/step - loss: 2.3515 - acc: 0.2378 - val_loss: 2.6942 - val_acc: 0.1853\n",
            "Epoch 131/250\n",
            "89/89 [==============================] - 27s 293ms/step - loss: 2.3112 - acc: 0.2378 - val_loss: 2.7118 - val_acc: 0.1832\n",
            "Epoch 132/250\n",
            "89/89 [==============================] - 27s 293ms/step - loss: 2.3224 - acc: 0.2243 - val_loss: 2.7367 - val_acc: 0.1875\n",
            "Epoch 133/250\n",
            "89/89 [==============================] - 28s 308ms/step - loss: 2.3027 - acc: 0.2541 - val_loss: 2.7213 - val_acc: 0.1810\n",
            "Epoch 134/250\n",
            "89/89 [==============================] - 25s 279ms/step - loss: 2.2966 - acc: 0.2512 - val_loss: 2.7063 - val_acc: 0.1897\n",
            "Epoch 135/250\n",
            "89/89 [==============================] - 26s 289ms/step - loss: 2.3344 - acc: 0.2321 - val_loss: 2.7076 - val_acc: 0.1918\n",
            "Epoch 136/250\n",
            "89/89 [==============================] - 25s 279ms/step - loss: 2.2896 - acc: 0.2363 - val_loss: 2.7098 - val_acc: 0.1897\n",
            "Epoch 137/250\n",
            "89/89 [==============================] - 26s 288ms/step - loss: 2.3226 - acc: 0.2257 - val_loss: 2.6985 - val_acc: 0.1875\n",
            "Epoch 138/250\n",
            "89/89 [==============================] - 23s 255ms/step - loss: 2.3475 - acc: 0.2356 - val_loss: 2.6853 - val_acc: 0.1918\n",
            "Epoch 139/250\n",
            "89/89 [==============================] - 25s 281ms/step - loss: 2.3059 - acc: 0.2378 - val_loss: 2.6857 - val_acc: 0.1983\n",
            "Epoch 140/250\n",
            "89/89 [==============================] - 26s 290ms/step - loss: 2.3168 - acc: 0.2527 - val_loss: 2.6741 - val_acc: 0.1875\n",
            "Epoch 141/250\n",
            "89/89 [==============================] - 21s 225ms/step - loss: 2.3496 - acc: 0.2356 - val_loss: 2.6761 - val_acc: 0.1918\n",
            "Epoch 142/250\n",
            "89/89 [==============================] - 26s 282ms/step - loss: 2.2998 - acc: 0.2420 - val_loss: 2.6864 - val_acc: 0.1961\n",
            "Epoch 143/250\n",
            "89/89 [==============================] - 26s 279ms/step - loss: 2.3114 - acc: 0.2363 - val_loss: 2.6902 - val_acc: 0.1918\n",
            "Epoch 144/250\n",
            "89/89 [==============================] - 25s 277ms/step - loss: 2.3100 - acc: 0.2385 - val_loss: 2.7112 - val_acc: 0.1875\n",
            "Epoch 145/250\n",
            "89/89 [==============================] - 25s 276ms/step - loss: 2.3548 - acc: 0.2378 - val_loss: 2.7191 - val_acc: 0.1810\n",
            "Epoch 146/250\n",
            "89/89 [==============================] - 21s 227ms/step - loss: 2.3201 - acc: 0.2441 - val_loss: 2.6957 - val_acc: 0.1961\n",
            "Epoch 147/250\n",
            "89/89 [==============================] - 20s 224ms/step - loss: 2.3385 - acc: 0.2456 - val_loss: 2.6882 - val_acc: 0.1897\n",
            "Epoch 148/250\n",
            "89/89 [==============================] - 29s 306ms/step - loss: 2.2794 - acc: 0.2406 - val_loss: 2.7050 - val_acc: 0.1832\n",
            "Epoch 149/250\n",
            "89/89 [==============================] - 26s 279ms/step - loss: 2.2874 - acc: 0.2527 - val_loss: 2.6770 - val_acc: 0.1810\n",
            "Epoch 150/250\n",
            "89/89 [==============================] - 27s 292ms/step - loss: 2.3261 - acc: 0.2349 - val_loss: 2.7001 - val_acc: 0.1918\n",
            "Epoch 151/250\n",
            "89/89 [==============================] - 27s 297ms/step - loss: 2.2564 - acc: 0.2541 - val_loss: 2.7318 - val_acc: 0.1789\n",
            "Epoch 152/250\n",
            "89/89 [==============================] - 27s 300ms/step - loss: 2.3136 - acc: 0.2200 - val_loss: 2.7040 - val_acc: 0.1853\n",
            "Epoch 153/250\n",
            "89/89 [==============================] - 28s 312ms/step - loss: 2.3049 - acc: 0.2399 - val_loss: 2.7249 - val_acc: 0.1875\n",
            "Epoch 154/250\n",
            "89/89 [==============================] - 25s 274ms/step - loss: 2.2966 - acc: 0.2434 - val_loss: 2.7452 - val_acc: 0.1832\n",
            "Epoch 155/250\n",
            "89/89 [==============================] - 27s 297ms/step - loss: 2.2894 - acc: 0.2477 - val_loss: 2.7407 - val_acc: 0.1767\n",
            "Epoch 156/250\n",
            "89/89 [==============================] - 27s 301ms/step - loss: 2.2794 - acc: 0.2463 - val_loss: 2.7083 - val_acc: 0.1810\n",
            "Epoch 157/250\n",
            "89/89 [==============================] - 29s 315ms/step - loss: 2.3400 - acc: 0.2434 - val_loss: 2.7308 - val_acc: 0.1810\n",
            "Epoch 158/250\n",
            "89/89 [==============================] - 26s 281ms/step - loss: 2.2930 - acc: 0.2406 - val_loss: 2.7417 - val_acc: 0.1832\n",
            "Epoch 159/250\n",
            "89/89 [==============================] - 25s 273ms/step - loss: 2.2512 - acc: 0.2569 - val_loss: 2.7148 - val_acc: 0.1897\n",
            "Epoch 160/250\n",
            "89/89 [==============================] - 26s 285ms/step - loss: 2.2808 - acc: 0.2434 - val_loss: 2.7221 - val_acc: 0.1940\n",
            "Epoch 161/250\n",
            "89/89 [==============================] - 20s 221ms/step - loss: 2.3033 - acc: 0.2441 - val_loss: 2.7021 - val_acc: 0.1940\n",
            "Epoch 162/250\n",
            "89/89 [==============================] - 29s 315ms/step - loss: 2.2944 - acc: 0.2505 - val_loss: 2.6986 - val_acc: 0.1875\n",
            "Epoch 163/250\n",
            "89/89 [==============================] - 27s 289ms/step - loss: 2.3113 - acc: 0.2413 - val_loss: 2.7033 - val_acc: 0.1746\n",
            "Epoch 164/250\n",
            "89/89 [==============================] - 26s 282ms/step - loss: 2.2835 - acc: 0.2598 - val_loss: 2.6882 - val_acc: 0.1940\n",
            "Epoch 165/250\n",
            "89/89 [==============================] - 20s 217ms/step - loss: 2.3085 - acc: 0.2328 - val_loss: 2.7108 - val_acc: 0.1832\n",
            "Epoch 166/250\n",
            "89/89 [==============================] - 26s 281ms/step - loss: 2.3422 - acc: 0.2349 - val_loss: 2.7249 - val_acc: 0.1789\n",
            "Epoch 167/250\n",
            "89/89 [==============================] - 28s 308ms/step - loss: 2.3186 - acc: 0.2463 - val_loss: 2.7243 - val_acc: 0.1853\n",
            "Epoch 168/250\n",
            "89/89 [==============================] - 21s 228ms/step - loss: 2.2766 - acc: 0.2434 - val_loss: 2.6981 - val_acc: 0.1918\n",
            "Epoch 169/250\n",
            "89/89 [==============================] - 27s 283ms/step - loss: 2.2866 - acc: 0.2427 - val_loss: 2.7042 - val_acc: 0.1897\n",
            "Epoch 170/250\n",
            "89/89 [==============================] - 27s 292ms/step - loss: 2.3094 - acc: 0.2342 - val_loss: 2.7061 - val_acc: 0.1875\n",
            "Epoch 171/250\n",
            "89/89 [==============================] - 22s 234ms/step - loss: 2.2740 - acc: 0.2413 - val_loss: 2.7077 - val_acc: 0.1810\n",
            "Epoch 172/250\n",
            "89/89 [==============================] - 26s 279ms/step - loss: 2.2814 - acc: 0.2548 - val_loss: 2.6933 - val_acc: 0.1875\n",
            "Epoch 173/250\n",
            "89/89 [==============================] - 27s 297ms/step - loss: 2.3018 - acc: 0.2541 - val_loss: 2.7082 - val_acc: 0.1832\n",
            "Epoch 174/250\n",
            "89/89 [==============================] - 26s 284ms/step - loss: 2.2614 - acc: 0.2477 - val_loss: 2.6726 - val_acc: 0.1853\n",
            "Epoch 175/250\n",
            "89/89 [==============================] - 27s 286ms/step - loss: 2.2681 - acc: 0.2505 - val_loss: 2.7072 - val_acc: 0.1853\n",
            "Epoch 176/250\n",
            "89/89 [==============================] - 28s 308ms/step - loss: 2.3034 - acc: 0.2392 - val_loss: 2.7002 - val_acc: 0.1789\n",
            "Epoch 177/250\n",
            "89/89 [==============================] - 27s 290ms/step - loss: 2.3212 - acc: 0.2285 - val_loss: 2.6868 - val_acc: 0.1897\n",
            "Epoch 178/250\n",
            "89/89 [==============================] - 27s 294ms/step - loss: 2.3029 - acc: 0.2711 - val_loss: 2.7189 - val_acc: 0.1810\n",
            "Epoch 179/250\n",
            "89/89 [==============================] - 26s 289ms/step - loss: 2.2847 - acc: 0.2512 - val_loss: 2.7173 - val_acc: 0.1853\n",
            "Epoch 180/250\n",
            "89/89 [==============================] - 27s 297ms/step - loss: 2.2732 - acc: 0.2569 - val_loss: 2.7043 - val_acc: 0.1724\n",
            "Epoch 181/250\n",
            "89/89 [==============================] - 27s 294ms/step - loss: 2.2898 - acc: 0.2264 - val_loss: 2.7309 - val_acc: 0.1810\n",
            "Epoch 182/250\n",
            "89/89 [==============================] - 27s 291ms/step - loss: 2.3227 - acc: 0.2342 - val_loss: 2.7002 - val_acc: 0.1875\n",
            "Epoch 183/250\n",
            "89/89 [==============================] - 22s 236ms/step - loss: 2.2998 - acc: 0.2420 - val_loss: 2.6757 - val_acc: 0.1897\n",
            "Epoch 184/250\n",
            "89/89 [==============================] - 28s 301ms/step - loss: 2.2788 - acc: 0.2512 - val_loss: 2.6748 - val_acc: 0.1875\n",
            "Epoch 185/250\n",
            "89/89 [==============================] - 27s 302ms/step - loss: 2.3333 - acc: 0.2250 - val_loss: 2.6873 - val_acc: 0.1875\n",
            "Epoch 186/250\n",
            "89/89 [==============================] - 29s 326ms/step - loss: 2.2974 - acc: 0.2385 - val_loss: 2.7111 - val_acc: 0.1724\n",
            "Epoch 187/250\n",
            "89/89 [==============================] - 23s 249ms/step - loss: 2.2634 - acc: 0.2434 - val_loss: 2.7113 - val_acc: 0.1832\n",
            "Epoch 188/250\n",
            "89/89 [==============================] - 25s 279ms/step - loss: 2.3025 - acc: 0.2349 - val_loss: 2.7141 - val_acc: 0.1853\n",
            "Epoch 189/250\n",
            "89/89 [==============================] - 25s 278ms/step - loss: 2.3038 - acc: 0.2590 - val_loss: 2.6840 - val_acc: 0.1875\n",
            "Epoch 190/250\n",
            "89/89 [==============================] - 21s 225ms/step - loss: 2.3070 - acc: 0.2356 - val_loss: 2.6855 - val_acc: 0.1853\n",
            "Epoch 191/250\n",
            "89/89 [==============================] - 27s 299ms/step - loss: 2.3611 - acc: 0.2356 - val_loss: 2.7031 - val_acc: 0.1853\n",
            "Epoch 192/250\n",
            "89/89 [==============================] - 27s 295ms/step - loss: 2.3148 - acc: 0.2449 - val_loss: 2.7150 - val_acc: 0.1810\n",
            "Epoch 193/250\n",
            "89/89 [==============================] - 26s 291ms/step - loss: 2.3045 - acc: 0.2207 - val_loss: 2.7027 - val_acc: 0.1767\n",
            "Epoch 194/250\n",
            "89/89 [==============================] - 25s 276ms/step - loss: 2.3244 - acc: 0.2562 - val_loss: 2.7205 - val_acc: 0.1875\n",
            "Epoch 195/250\n",
            "89/89 [==============================] - 29s 325ms/step - loss: 2.2771 - acc: 0.2626 - val_loss: 2.7046 - val_acc: 0.1789\n",
            "Epoch 196/250\n",
            "89/89 [==============================] - 27s 291ms/step - loss: 2.2841 - acc: 0.2434 - val_loss: 2.6944 - val_acc: 0.1832\n",
            "Epoch 197/250\n",
            "89/89 [==============================] - 27s 295ms/step - loss: 2.2680 - acc: 0.2342 - val_loss: 2.6869 - val_acc: 0.1918\n",
            "Epoch 198/250\n",
            "89/89 [==============================] - 26s 285ms/step - loss: 2.2875 - acc: 0.2569 - val_loss: 2.7010 - val_acc: 0.1875\n",
            "Epoch 199/250\n",
            "89/89 [==============================] - 29s 326ms/step - loss: 2.3095 - acc: 0.2413 - val_loss: 2.7298 - val_acc: 0.1810\n",
            "Epoch 200/250\n",
            "89/89 [==============================] - 27s 292ms/step - loss: 2.2523 - acc: 0.2434 - val_loss: 2.7025 - val_acc: 0.1810\n",
            "Epoch 201/250\n",
            "89/89 [==============================] - 26s 283ms/step - loss: 2.3032 - acc: 0.2328 - val_loss: 2.7183 - val_acc: 0.1853\n",
            "Epoch 202/250\n",
            "89/89 [==============================] - 20s 222ms/step - loss: 2.2524 - acc: 0.2505 - val_loss: 2.7091 - val_acc: 0.1832\n",
            "Epoch 203/250\n",
            "89/89 [==============================] - 27s 295ms/step - loss: 2.2980 - acc: 0.2484 - val_loss: 2.6837 - val_acc: 0.1810\n",
            "Epoch 204/250\n",
            "89/89 [==============================] - 27s 296ms/step - loss: 2.2833 - acc: 0.2420 - val_loss: 2.6967 - val_acc: 0.1875\n",
            "Epoch 205/250\n",
            "89/89 [==============================] - 30s 328ms/step - loss: 2.3167 - acc: 0.2321 - val_loss: 2.7466 - val_acc: 0.1832\n",
            "Epoch 206/250\n",
            "89/89 [==============================] - 26s 286ms/step - loss: 2.2474 - acc: 0.2626 - val_loss: 2.6964 - val_acc: 0.1853\n",
            "Epoch 207/250\n",
            "89/89 [==============================] - 27s 298ms/step - loss: 2.2571 - acc: 0.2470 - val_loss: 2.7018 - val_acc: 0.1810\n",
            "Epoch 208/250\n",
            "89/89 [==============================] - 27s 294ms/step - loss: 2.2508 - acc: 0.2512 - val_loss: 2.7146 - val_acc: 0.1832\n",
            "Epoch 209/250\n",
            "89/89 [==============================] - 27s 300ms/step - loss: 2.3225 - acc: 0.2349 - val_loss: 2.7154 - val_acc: 0.1789\n",
            "Epoch 210/250\n",
            "89/89 [==============================] - 27s 302ms/step - loss: 2.2668 - acc: 0.2491 - val_loss: 2.7123 - val_acc: 0.1832\n",
            "Epoch 211/250\n",
            "89/89 [==============================] - 27s 294ms/step - loss: 2.3070 - acc: 0.2470 - val_loss: 2.7088 - val_acc: 0.1789\n",
            "Epoch 212/250\n",
            "89/89 [==============================] - 27s 300ms/step - loss: 2.2421 - acc: 0.2470 - val_loss: 2.7346 - val_acc: 0.1789\n",
            "Epoch 213/250\n",
            "89/89 [==============================] - 27s 300ms/step - loss: 2.2556 - acc: 0.2484 - val_loss: 2.7282 - val_acc: 0.1767\n",
            "Epoch 214/250\n",
            "89/89 [==============================] - 26s 284ms/step - loss: 2.3285 - acc: 0.2449 - val_loss: 2.7012 - val_acc: 0.1789\n",
            "Epoch 215/250\n",
            "89/89 [==============================] - 26s 282ms/step - loss: 2.2795 - acc: 0.2363 - val_loss: 2.7134 - val_acc: 0.1832\n",
            "Epoch 216/250\n",
            "89/89 [==============================] - 25s 276ms/step - loss: 2.2987 - acc: 0.2583 - val_loss: 2.7208 - val_acc: 0.1767\n",
            "Epoch 217/250\n",
            "89/89 [==============================] - 25s 275ms/step - loss: 2.2972 - acc: 0.2363 - val_loss: 2.7149 - val_acc: 0.1681\n",
            "Epoch 218/250\n",
            "89/89 [==============================] - 21s 223ms/step - loss: 2.2926 - acc: 0.2399 - val_loss: 2.6834 - val_acc: 0.1853\n",
            "Epoch 219/250\n",
            "89/89 [==============================] - 27s 297ms/step - loss: 2.2700 - acc: 0.2484 - val_loss: 2.6804 - val_acc: 0.1810\n",
            "Epoch 220/250\n",
            "89/89 [==============================] - 25s 276ms/step - loss: 2.2596 - acc: 0.2640 - val_loss: 2.6919 - val_acc: 0.1832\n",
            "Epoch 221/250\n",
            "89/89 [==============================] - 26s 280ms/step - loss: 2.2482 - acc: 0.2569 - val_loss: 2.6918 - val_acc: 0.1940\n",
            "Epoch 222/250\n",
            "89/89 [==============================] - 25s 277ms/step - loss: 2.2486 - acc: 0.2576 - val_loss: 2.6823 - val_acc: 0.1940\n",
            "Epoch 223/250\n",
            "89/89 [==============================] - 25s 277ms/step - loss: 2.2672 - acc: 0.2449 - val_loss: 2.7021 - val_acc: 0.1746\n",
            "Epoch 224/250\n",
            "89/89 [==============================] - 25s 280ms/step - loss: 2.2987 - acc: 0.2527 - val_loss: 2.6996 - val_acc: 0.1853\n",
            "Epoch 225/250\n",
            "89/89 [==============================] - 25s 277ms/step - loss: 2.2833 - acc: 0.2541 - val_loss: 2.7063 - val_acc: 0.1918\n",
            "Epoch 226/250\n",
            "89/89 [==============================] - 21s 221ms/step - loss: 2.2683 - acc: 0.2335 - val_loss: 2.6914 - val_acc: 0.1832\n",
            "Epoch 227/250\n",
            "89/89 [==============================] - 20s 222ms/step - loss: 2.2625 - acc: 0.2548 - val_loss: 2.7058 - val_acc: 0.1875\n",
            "Epoch 228/250\n",
            "89/89 [==============================] - 28s 303ms/step - loss: 2.2541 - acc: 0.2356 - val_loss: 2.6988 - val_acc: 0.1897\n",
            "Epoch 229/250\n",
            "89/89 [==============================] - 28s 305ms/step - loss: 2.2728 - acc: 0.2449 - val_loss: 2.6851 - val_acc: 0.1810\n",
            "Epoch 230/250\n",
            "89/89 [==============================] - 29s 319ms/step - loss: 2.2973 - acc: 0.2420 - val_loss: 2.6898 - val_acc: 0.1724\n",
            "Epoch 231/250\n",
            "89/89 [==============================] - 21s 224ms/step - loss: 2.2712 - acc: 0.2605 - val_loss: 2.6708 - val_acc: 0.1810\n",
            "Epoch 232/250\n",
            "89/89 [==============================] - 27s 288ms/step - loss: 2.2673 - acc: 0.2470 - val_loss: 2.7154 - val_acc: 0.1746\n",
            "Epoch 233/250\n",
            "89/89 [==============================] - 28s 304ms/step - loss: 2.2652 - acc: 0.2427 - val_loss: 2.6906 - val_acc: 0.1918\n",
            "Epoch 234/250\n",
            "89/89 [==============================] - 28s 306ms/step - loss: 2.2528 - acc: 0.2605 - val_loss: 2.7147 - val_acc: 0.1875\n",
            "Epoch 235/250\n",
            "89/89 [==============================] - 24s 258ms/step - loss: 2.2940 - acc: 0.2661 - val_loss: 2.6963 - val_acc: 0.1789\n",
            "Epoch 236/250\n",
            "89/89 [==============================] - 26s 283ms/step - loss: 2.3204 - acc: 0.2378 - val_loss: 2.7113 - val_acc: 0.1789\n",
            "Epoch 237/250\n",
            "89/89 [==============================] - 27s 292ms/step - loss: 2.2614 - acc: 0.2456 - val_loss: 2.6869 - val_acc: 0.1767\n",
            "Epoch 238/250\n",
            "89/89 [==============================] - 25s 277ms/step - loss: 2.2732 - acc: 0.2441 - val_loss: 2.6729 - val_acc: 0.1918\n",
            "Epoch 239/250\n",
            "89/89 [==============================] - 21s 224ms/step - loss: 2.2820 - acc: 0.2491 - val_loss: 2.6941 - val_acc: 0.1789\n",
            "Epoch 240/250\n",
            "89/89 [==============================] - 27s 300ms/step - loss: 2.2592 - acc: 0.2576 - val_loss: 2.7042 - val_acc: 0.1767\n",
            "Epoch 241/250\n",
            "89/89 [==============================] - 24s 265ms/step - loss: 2.2708 - acc: 0.2420 - val_loss: 2.7357 - val_acc: 0.1724\n",
            "Epoch 242/250\n",
            "89/89 [==============================] - 27s 295ms/step - loss: 2.2230 - acc: 0.2555 - val_loss: 2.6936 - val_acc: 0.1875\n",
            "Epoch 243/250\n",
            "89/89 [==============================] - 27s 297ms/step - loss: 2.2072 - acc: 0.2576 - val_loss: 2.6968 - val_acc: 0.1767\n",
            "Epoch 244/250\n",
            "89/89 [==============================] - 26s 286ms/step - loss: 2.2395 - acc: 0.2463 - val_loss: 2.7007 - val_acc: 0.1853\n",
            "Epoch 245/250\n",
            "89/89 [==============================] - 25s 280ms/step - loss: 2.3062 - acc: 0.2477 - val_loss: 2.6836 - val_acc: 0.1875\n",
            "Epoch 246/250\n",
            "89/89 [==============================] - 25s 279ms/step - loss: 2.2582 - acc: 0.2463 - val_loss: 2.6995 - val_acc: 0.1853\n",
            "Epoch 247/250\n",
            "89/89 [==============================] - 25s 279ms/step - loss: 2.2373 - acc: 0.2612 - val_loss: 2.7079 - val_acc: 0.1789\n",
            "Epoch 248/250\n",
            "89/89 [==============================] - 20s 218ms/step - loss: 2.2875 - acc: 0.2385 - val_loss: 2.7020 - val_acc: 0.1875\n",
            "Epoch 249/250\n",
            "89/89 [==============================] - 27s 301ms/step - loss: 2.2541 - acc: 0.2491 - val_loss: 2.7126 - val_acc: 0.1940\n",
            "Epoch 250/250\n",
            "89/89 [==============================] - 27s 297ms/step - loss: 2.2762 - acc: 0.2520 - val_loss: 2.6843 - val_acc: 0.1918\n"
          ]
        }
      ]
    },
    {
      "cell_type": "code",
      "source": [
        "acc = history.history['acc']\n",
        "val_acc = history.history['val_acc']\n",
        "loss = history.history['loss']\n",
        "val_loss = history.history['val_loss']\n",
        "\n",
        "epochs_x = range(len(acc))\n",
        "\n",
        "plt.plot(epochs_x, acc, 'mo', label='Training acc')\n",
        "plt.plot(epochs_x, val_acc, 'k', label='Validation acc')\n",
        "plt.title('Training and validation accuracy')\n",
        "plt.legend()\n",
        "\n",
        "plt.figure()\n",
        "\n",
        "plt.plot(epochs_x, loss, 'mo', label='Training loss')\n",
        "plt.plot(epochs_x, val_loss, 'k', label='Validation loss')\n",
        "plt.title('Training and validation loss')\n",
        "plt.legend()\n",
        "\n",
        "plt.show()"
      ],
      "metadata": {
        "id": "kwylTJpTP5XI",
        "colab": {
          "base_uri": "https://localhost:8080/",
          "height": 545
        },
        "outputId": "65b8217d-67de-4356-da0a-77c62faec4a5"
      },
      "execution_count": 16,
      "outputs": [
        {
          "output_type": "display_data",
          "data": {
            "text/plain": [
              "<Figure size 432x288 with 1 Axes>"
            ],
            "image/png": "[encoded data removed]"
          },
          "metadata": {
            "needs_background": "light"
          }
        },
        {
          "output_type": "display_data",
          "data": {
            "text/plain": [
              "<Figure size 432x288 with 1 Axes>"
            ],
            "image/png": "[encoded data removed]"
          },
          "metadata": {
            "needs_background": "light"
          }
        }
      ]
    },
    {
      "cell_type": "markdown",
      "source": [
        "#Download the model"
      ],
      "metadata": {
        "id": "lD-vKaoHQAFd"
      }
    },
    {
      "cell_type": "code",
      "source": [
        "os.makedirs('/content/drive/My Drive/cut_panoramic/Model', exist_ok=True)\n",
        "model.save('/content/drive/My Drive/cut_panoramic/Model//Classification/Female/33_รอบที่3_Flimpano_Female125_250_New_Unfreez.h5')"
      ],
      "metadata": {
        "id": "74dL7-HLP_Sh"
      },
      "execution_count": 17,
      "outputs": []
    },
    {
      "cell_type": "code",
      "source": [
        "# from google.colab import files\n",
        "# files.download('/content/drive/My Drive/cut_panoramic/Model/33_รอบที่3_Flimpano_Female125_250.h5')"
      ],
      "metadata": {
        "id": "qcPW-brHQDpc"
      },
      "execution_count": 18,
      "outputs": []
    }
  ]
}