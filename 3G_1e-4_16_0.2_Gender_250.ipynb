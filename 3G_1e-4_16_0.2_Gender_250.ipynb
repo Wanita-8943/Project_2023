{
  "nbformat": 4,
  "nbformat_minor": 0,
  "metadata": {
    "colab": {
      "provenance": [],
      "include_colab_link": true
    },
    "kernelspec": {
      "name": "python3",
      "display_name": "Python 3"
    },
    "language_info": {
      "name": "python"
    },
    "accelerator": "GPU",
    "gpuClass": "standard"
  },
  "cells": [
    {
      "cell_type": "markdown",
      "metadata": {
        "id": "view-in-github",
        "colab_type": "text"
      },
      "source": [
        "<a href=\"https://colab.research.google.com/github/Wanita-8943/Project_2023/blob/main/3G_1e-4_16_0.2_Gender_250.ipynb\" target=\"_parent\"><img src=\"https://colab.research.google.com/assets/colab-badge.svg\" alt=\"Open In Colab\"/></a>"
      ]
    },
    {
      "cell_type": "markdown",
      "source": [
        "#เรียกใช้ CSV"
      ],
      "metadata": {
        "id": "ow7eWoNw6U-c"
      }
    },
    {
      "cell_type": "code",
      "execution_count": 1,
      "metadata": {
        "id": "z8o_VVNXzcL8"
      },
      "outputs": [],
      "source": [
        "import pandas as pd\n",
        "import shutil"
      ]
    },
    {
      "cell_type": "code",
      "source": [
        "from google.colab import drive\n",
        "drive.mount('/content/drive')"
      ],
      "metadata": {
        "colab": {
          "base_uri": "https://localhost:8080/"
        },
        "id": "1_2Fe8u81d5r",
        "outputId": "24428714-9c0a-43fb-e5f5-42d947c96d5a"
      },
      "execution_count": 2,
      "outputs": [
        {
          "output_type": "stream",
          "name": "stdout",
          "text": [
            "Mounted at /content/drive\n"
          ]
        }
      ]
    },
    {
      "cell_type": "markdown",
      "source": [
        "#Imports"
      ],
      "metadata": {
        "id": "5qxePnnn7TGW"
      }
    },
    {
      "cell_type": "code",
      "source": [
        "from tensorflow.keras import models\n",
        "from tensorflow.keras import layers\n",
        "from tensorflow.keras import optimizers\n",
        "import os\n",
        "import glob\n",
        "import shutil\n",
        "import sys\n",
        "import numpy as np\n",
        "from skimage.io import imread\n",
        "import matplotlib.pyplot as plt\n",
        "from IPython.display import Image\n",
        "%matplotlib inline"
      ],
      "metadata": {
        "id": "D-hCRloc3t39"
      },
      "execution_count": 3,
      "outputs": []
    },
    {
      "cell_type": "code",
      "source": [
        "import tensorflow as tf\n",
        "from tensorflow.keras import Sequential\n",
        "from tensorflow.keras.layers import Dense\n",
        "from tensorflow.keras.optimizers import Adam\n",
        "from tensorflow.keras import backend as K"
      ],
      "metadata": {
        "id": "YZWXwjXeGxZP"
      },
      "execution_count": 4,
      "outputs": []
    },
    {
      "cell_type": "markdown",
      "source": [
        "#กำหนดค่าพารามิเตอร์\n"
      ],
      "metadata": {
        "id": "RooqSdBc7QHC"
      }
    },
    {
      "cell_type": "code",
      "source": [
        "batch_size = 16\n",
        "width = 150\n",
        "height = 150\n",
        "epochs = 250\n",
        "NUM_TRAIN = 2850\n",
        "NUM_TEST = 950\n",
        "dropout_rate = 0.2\n",
        "input_shape = (height, width, 3)"
      ],
      "metadata": {
        "id": "thDb7U9B3xOo"
      },
      "execution_count": 5,
      "outputs": []
    },
    {
      "cell_type": "markdown",
      "source": [
        "#Clone efficientnet repo\n"
      ],
      "metadata": {
        "id": "pumGmy6f3eSW"
      }
    },
    {
      "cell_type": "code",
      "source": [
        "#ดึงข้อมูลใน Github มาใช้\n",
        "import os\n",
        "%cd /content\n",
        "if not os.path.isdir(\"efficientnet_keras_transfer_learning\"):\n",
        " !git clone https://github.com/Wanita-8943/efficientnet_keras_transfer_learning\n",
        "%cd efficientnet_keras_transfer_learning/\n"
      ],
      "metadata": {
        "colab": {
          "base_uri": "https://localhost:8080/"
        },
        "id": "P7iy2f8n16p0",
        "outputId": "f470f070-3246-4921-d71a-4b6ff57dcc06"
      },
      "execution_count": 6,
      "outputs": [
        {
          "output_type": "stream",
          "name": "stdout",
          "text": [
            "/content\n",
            "Cloning into 'efficientnet_keras_transfer_learning'...\n",
            "remote: Enumerating objects: 837, done.\u001b[K\n",
            "remote: Counting objects: 100% (359/359), done.\u001b[K\n",
            "remote: Compressing objects: 100% (124/124), done.\u001b[K\n",
            "remote: Total 837 (delta 255), reused 328 (delta 235), pack-reused 478\u001b[K\n",
            "Receiving objects: 100% (837/837), 13.82 MiB | 3.43 MiB/s, done.\n",
            "Resolving deltas: 100% (495/495), done.\n",
            "/content/efficientnet_keras_transfer_learning\n"
          ]
        }
      ]
    },
    {
      "cell_type": "code",
      "source": [
        "# Options: EfficientNetB0, EfficientNetB1, EfficientNetB2, EfficientNetB3\n",
        "# Higher the number, the more complex the model is.\n",
        "from efficientnet import EfficientNetB0 as Net\n",
        "from efficientnet import center_crop_and_resize, preprocess_input"
      ],
      "metadata": {
        "id": "tjZBRnfo3bN0"
      },
      "execution_count": 7,
      "outputs": []
    },
    {
      "cell_type": "markdown",
      "source": [
        "#load model\n"
      ],
      "metadata": {
        "id": "PdNWyD-QYkzK"
      }
    },
    {
      "cell_type": "code",
      "source": [
        "import sys\n",
        "sys.path.append('/content/drive/MyDrive/cut_panoramic/Model/1G_1e-4_16_0.2_Gender_250.h5')\n",
        "\n",
        "from efficientnet.layers import Swish, DropConnect\n",
        "from efficientnet.model import ConvKernalInitializer\n",
        "from tensorflow.keras.utils import get_custom_objects\n",
        "\n",
        "get_custom_objects().update({\n",
        "    'ConvKernalInitializer': ConvKernalInitializer,\n",
        "    'Swish': Swish,\n",
        "    'DropConnect':DropConnect\n",
        "})"
      ],
      "metadata": {
        "id": "_gPnx2UvYf5A"
      },
      "execution_count": 8,
      "outputs": []
    },
    {
      "cell_type": "code",
      "source": [
        "#load model \n",
        "from tensorflow.keras.models import load_model\n",
        "model = load_model('/content/drive/MyDrive/cut_panoramic/Model/1G_1e-4_16_0.2_Gender_250.h5')\n",
        "height = width = model.input_shape[1]"
      ],
      "metadata": {
        "id": "Nu93WzFUYm9e",
        "colab": {
          "base_uri": "https://localhost:8080/"
        },
        "outputId": "741374d1-e7c5-4b21-9861-570da2ad6de2"
      },
      "execution_count": 9,
      "outputs": [
        {
          "output_type": "stream",
          "name": "stderr",
          "text": [
            "WARNING:tensorflow:From /usr/local/lib/python3.8/dist-packages/tensorflow/python/autograph/pyct/static_analysis/liveness.py:83: Analyzer.lamba_check (from tensorflow.python.autograph.pyct.static_analysis.liveness) is deprecated and will be removed after 2023-09-23.\n",
            "Instructions for updating:\n",
            "Lambda fuctions will be no more assumed to be used in the statement where they are used, or at least in the same block. https://github.com/tensorflow/tensorflow/issues/56089\n"
          ]
        }
      ]
    },
    {
      "cell_type": "code",
      "source": [
        "model.summary()"
      ],
      "metadata": {
        "id": "gp5EbyyXYvc6",
        "colab": {
          "base_uri": "https://localhost:8080/"
        },
        "outputId": "2ec90401-f35c-4c35-ddde-14786e40d404"
      },
      "execution_count": 10,
      "outputs": [
        {
          "output_type": "stream",
          "name": "stdout",
          "text": [
            "Model: \"sequential\"\n",
            "_________________________________________________________________\n",
            " Layer (type)                Output Shape              Param #   \n",
            "=================================================================\n",
            " efficientnet-b0 (Functional  (None, 5, 5, 1280)       4049564   \n",
            " )                                                               \n",
            "                                                                 \n",
            " gap (GlobalMaxPooling2D)    (None, 1280)              0         \n",
            "                                                                 \n",
            " dropout_out (Dropout)       (None, 1280)              0         \n",
            "                                                                 \n",
            " fc_out (Dense)              (None, 2)                 2562      \n",
            "                                                                 \n",
            " dense (Dense)               (None, 1)                 3         \n",
            "                                                                 \n",
            "=================================================================\n",
            "Total params: 4,052,129\n",
            "Trainable params: 2,565\n",
            "Non-trainable params: 4,049,564\n",
            "_________________________________________________________________\n"
          ]
        }
      ]
    },
    {
      "cell_type": "code",
      "source": [
        "df = pd.read_csv (r'/content/drive/MyDrive/cut_panoramic/Data/New_Data_Gender.csv')\n",
        "df"
      ],
      "metadata": {
        "id": "q1Dc131_Y3uA",
        "colab": {
          "base_uri": "https://localhost:8080/",
          "height": 424
        },
        "outputId": "72b6d123-3298-4433-ea3f-1d0dbd6cb6d8"
      },
      "execution_count": 11,
      "outputs": [
        {
          "output_type": "execute_result",
          "data": {
            "text/plain": [
              "      Fig_Age  Fig_Person_Sex  Age(year) Class  Class_Re       Filename  \\\n",
              "0           1               1          7  Y07F         0         V1.jpg   \n",
              "1           2               1          7  Y07F         0    Flip_V1.jpg   \n",
              "2           3               2          7  Y07F         0         V2.jpg   \n",
              "3           4               2          7  Y07F         0    Flip_V2.jpg   \n",
              "4           5               3          7  Y07F         0         V3.jpg   \n",
              "...       ...             ...        ...   ...       ...            ...   \n",
              "4745      121              77         25  Y25M         1  Flip_J463.jpg   \n",
              "4746      122              78         25  Y25M         1       J464.jpg   \n",
              "4747      123              78         25  Y25M         1  Flip_J464.jpg   \n",
              "4748      124              79         25  Y25M         1       J465.jpg   \n",
              "4749      125              79         25  Y25M         1  Flip_J465.jpg   \n",
              "\n",
              "                                          Path_filename     Sex Floder  \n",
              "0     /content/drive/My Drive/TVT_Gender/train/Femal...  Female   Both  \n",
              "1     /content/drive/My Drive/TVT_Gender/train/Femal...  Female   Both  \n",
              "2     /content/drive/My Drive/TVT_Gender/train/Femal...  Female   Both  \n",
              "3     /content/drive/My Drive/TVT_Gender/train/Femal...  Female   Both  \n",
              "4     /content/drive/My Drive/TVT_Gender/train/Femal...  Female   Both  \n",
              "...                                                 ...     ...    ...  \n",
              "4745  /content/drive/My Drive/TVT_Gender/test/Male/F...    Male   Both  \n",
              "4746  /content/drive/My Drive/TVT_Gender/test/Male/J...    Male   Both  \n",
              "4747  /content/drive/My Drive/TVT_Gender/test/Male/F...    Male   Both  \n",
              "4748  /content/drive/My Drive/TVT_Gender/test/Male/J...    Male   Both  \n",
              "4749  /content/drive/My Drive/TVT_Gender/test/Male/F...    Male   Both  \n",
              "\n",
              "[4750 rows x 9 columns]"
            ],
            "text/html": [
              "\n",
              "  <div id=\"df-92a3da66-8c14-4656-b2c4-d7a1f1f3547d\">\n",
              "    <div class=\"colab-df-container\">\n",
              "      <div>\n",
              "<style scoped>\n",
              "    .dataframe tbody tr th:only-of-type {\n",
              "        vertical-align: middle;\n",
              "    }\n",
              "\n",
              "    .dataframe tbody tr th {\n",
              "        vertical-align: top;\n",
              "    }\n",
              "\n",
              "    .dataframe thead th {\n",
              "        text-align: right;\n",
              "    }\n",
              "</style>\n",
              "<table border=\"1\" class=\"dataframe\">\n",
              "  <thead>\n",
              "    <tr style=\"text-align: right;\">\n",
              "      <th></th>\n",
              "      <th>Fig_Age</th>\n",
              "      <th>Fig_Person_Sex</th>\n",
              "      <th>Age(year)</th>\n",
              "      <th>Class</th>\n",
              "      <th>Class_Re</th>\n",
              "      <th>Filename</th>\n",
              "      <th>Path_filename</th>\n",
              "      <th>Sex</th>\n",
              "      <th>Floder</th>\n",
              "    </tr>\n",
              "  </thead>\n",
              "  <tbody>\n",
              "    <tr>\n",
              "      <th>0</th>\n",
              "      <td>1</td>\n",
              "      <td>1</td>\n",
              "      <td>7</td>\n",
              "      <td>Y07F</td>\n",
              "      <td>0</td>\n",
              "      <td>V1.jpg</td>\n",
              "      <td>/content/drive/My Drive/TVT_Gender/train/Femal...</td>\n",
              "      <td>Female</td>\n",
              "      <td>Both</td>\n",
              "    </tr>\n",
              "    <tr>\n",
              "      <th>1</th>\n",
              "      <td>2</td>\n",
              "      <td>1</td>\n",
              "      <td>7</td>\n",
              "      <td>Y07F</td>\n",
              "      <td>0</td>\n",
              "      <td>Flip_V1.jpg</td>\n",
              "      <td>/content/drive/My Drive/TVT_Gender/train/Femal...</td>\n",
              "      <td>Female</td>\n",
              "      <td>Both</td>\n",
              "    </tr>\n",
              "    <tr>\n",
              "      <th>2</th>\n",
              "      <td>3</td>\n",
              "      <td>2</td>\n",
              "      <td>7</td>\n",
              "      <td>Y07F</td>\n",
              "      <td>0</td>\n",
              "      <td>V2.jpg</td>\n",
              "      <td>/content/drive/My Drive/TVT_Gender/train/Femal...</td>\n",
              "      <td>Female</td>\n",
              "      <td>Both</td>\n",
              "    </tr>\n",
              "    <tr>\n",
              "      <th>3</th>\n",
              "      <td>4</td>\n",
              "      <td>2</td>\n",
              "      <td>7</td>\n",
              "      <td>Y07F</td>\n",
              "      <td>0</td>\n",
              "      <td>Flip_V2.jpg</td>\n",
              "      <td>/content/drive/My Drive/TVT_Gender/train/Femal...</td>\n",
              "      <td>Female</td>\n",
              "      <td>Both</td>\n",
              "    </tr>\n",
              "    <tr>\n",
              "      <th>4</th>\n",
              "      <td>5</td>\n",
              "      <td>3</td>\n",
              "      <td>7</td>\n",
              "      <td>Y07F</td>\n",
              "      <td>0</td>\n",
              "      <td>V3.jpg</td>\n",
              "      <td>/content/drive/My Drive/TVT_Gender/train/Femal...</td>\n",
              "      <td>Female</td>\n",
              "      <td>Both</td>\n",
              "    </tr>\n",
              "    <tr>\n",
              "      <th>...</th>\n",
              "      <td>...</td>\n",
              "      <td>...</td>\n",
              "      <td>...</td>\n",
              "      <td>...</td>\n",
              "      <td>...</td>\n",
              "      <td>...</td>\n",
              "      <td>...</td>\n",
              "      <td>...</td>\n",
              "      <td>...</td>\n",
              "    </tr>\n",
              "    <tr>\n",
              "      <th>4745</th>\n",
              "      <td>121</td>\n",
              "      <td>77</td>\n",
              "      <td>25</td>\n",
              "      <td>Y25M</td>\n",
              "      <td>1</td>\n",
              "      <td>Flip_J463.jpg</td>\n",
              "      <td>/content/drive/My Drive/TVT_Gender/test/Male/F...</td>\n",
              "      <td>Male</td>\n",
              "      <td>Both</td>\n",
              "    </tr>\n",
              "    <tr>\n",
              "      <th>4746</th>\n",
              "      <td>122</td>\n",
              "      <td>78</td>\n",
              "      <td>25</td>\n",
              "      <td>Y25M</td>\n",
              "      <td>1</td>\n",
              "      <td>J464.jpg</td>\n",
              "      <td>/content/drive/My Drive/TVT_Gender/test/Male/J...</td>\n",
              "      <td>Male</td>\n",
              "      <td>Both</td>\n",
              "    </tr>\n",
              "    <tr>\n",
              "      <th>4747</th>\n",
              "      <td>123</td>\n",
              "      <td>78</td>\n",
              "      <td>25</td>\n",
              "      <td>Y25M</td>\n",
              "      <td>1</td>\n",
              "      <td>Flip_J464.jpg</td>\n",
              "      <td>/content/drive/My Drive/TVT_Gender/test/Male/F...</td>\n",
              "      <td>Male</td>\n",
              "      <td>Both</td>\n",
              "    </tr>\n",
              "    <tr>\n",
              "      <th>4748</th>\n",
              "      <td>124</td>\n",
              "      <td>79</td>\n",
              "      <td>25</td>\n",
              "      <td>Y25M</td>\n",
              "      <td>1</td>\n",
              "      <td>J465.jpg</td>\n",
              "      <td>/content/drive/My Drive/TVT_Gender/test/Male/J...</td>\n",
              "      <td>Male</td>\n",
              "      <td>Both</td>\n",
              "    </tr>\n",
              "    <tr>\n",
              "      <th>4749</th>\n",
              "      <td>125</td>\n",
              "      <td>79</td>\n",
              "      <td>25</td>\n",
              "      <td>Y25M</td>\n",
              "      <td>1</td>\n",
              "      <td>Flip_J465.jpg</td>\n",
              "      <td>/content/drive/My Drive/TVT_Gender/test/Male/F...</td>\n",
              "      <td>Male</td>\n",
              "      <td>Both</td>\n",
              "    </tr>\n",
              "  </tbody>\n",
              "</table>\n",
              "<p>4750 rows × 9 columns</p>\n",
              "</div>\n",
              "      <button class=\"colab-df-convert\" onclick=\"convertToInteractive('df-92a3da66-8c14-4656-b2c4-d7a1f1f3547d')\"\n",
              "              title=\"Convert this dataframe to an interactive table.\"\n",
              "              style=\"display:none;\">\n",
              "        \n",
              "  <svg xmlns=\"http://www.w3.org/2000/svg\" height=\"24px\"viewBox=\"0 0 24 24\"\n",
              "       width=\"24px\">\n",
              "    <path d=\"M0 0h24v24H0V0z\" fill=\"none\"/>\n",
              "    <path d=\"M18.56 5.44l.94 2.06.94-2.06 2.06-.94-2.06-.94-.94-2.06-.94 2.06-2.06.94zm-11 1L8.5 8.5l.94-2.06 2.06-.94-2.06-.94L8.5 2.5l-.94 2.06-2.06.94zm10 10l.94 2.06.94-2.06 2.06-.94-2.06-.94-.94-2.06-.94 2.06-2.06.94z\"/><path d=\"M17.41 7.96l-1.37-1.37c-.4-.4-.92-.59-1.43-.59-.52 0-1.04.2-1.43.59L10.3 9.45l-7.72 7.72c-.78.78-.78 2.05 0 2.83L4 21.41c.39.39.9.59 1.41.59.51 0 1.02-.2 1.41-.59l7.78-7.78 2.81-2.81c.8-.78.8-2.07 0-2.86zM5.41 20L4 18.59l7.72-7.72 1.47 1.35L5.41 20z\"/>\n",
              "  </svg>\n",
              "      </button>\n",
              "      \n",
              "  <style>\n",
              "    .colab-df-container {\n",
              "      display:flex;\n",
              "      flex-wrap:wrap;\n",
              "      gap: 12px;\n",
              "    }\n",
              "\n",
              "    .colab-df-convert {\n",
              "      background-color: #E8F0FE;\n",
              "      border: none;\n",
              "      border-radius: 50%;\n",
              "      cursor: pointer;\n",
              "      display: none;\n",
              "      fill: #1967D2;\n",
              "      height: 32px;\n",
              "      padding: 0 0 0 0;\n",
              "      width: 32px;\n",
              "    }\n",
              "\n",
              "    .colab-df-convert:hover {\n",
              "      background-color: #E2EBFA;\n",
              "      box-shadow: 0px 1px 2px rgba(60, 64, 67, 0.3), 0px 1px 3px 1px rgba(60, 64, 67, 0.15);\n",
              "      fill: #174EA6;\n",
              "    }\n",
              "\n",
              "    [theme=dark] .colab-df-convert {\n",
              "      background-color: #3B4455;\n",
              "      fill: #D2E3FC;\n",
              "    }\n",
              "\n",
              "    [theme=dark] .colab-df-convert:hover {\n",
              "      background-color: #434B5C;\n",
              "      box-shadow: 0px 1px 3px 1px rgba(0, 0, 0, 0.15);\n",
              "      filter: drop-shadow(0px 1px 2px rgba(0, 0, 0, 0.3));\n",
              "      fill: #FFFFFF;\n",
              "    }\n",
              "  </style>\n",
              "\n",
              "      <script>\n",
              "        const buttonEl =\n",
              "          document.querySelector('#df-92a3da66-8c14-4656-b2c4-d7a1f1f3547d button.colab-df-convert');\n",
              "        buttonEl.style.display =\n",
              "          google.colab.kernel.accessAllowed ? 'block' : 'none';\n",
              "\n",
              "        async function convertToInteractive(key) {\n",
              "          const element = document.querySelector('#df-92a3da66-8c14-4656-b2c4-d7a1f1f3547d');\n",
              "          const dataTable =\n",
              "            await google.colab.kernel.invokeFunction('convertToInteractive',\n",
              "                                                     [key], {});\n",
              "          if (!dataTable) return;\n",
              "\n",
              "          const docLinkHtml = 'Like what you see? Visit the ' +\n",
              "            '<a target=\"_blank\" href=https://colab.research.google.com/notebooks/data_table.ipynb>data table notebook</a>'\n",
              "            + ' to learn more about interactive tables.';\n",
              "          element.innerHTML = '';\n",
              "          dataTable['output_type'] = 'display_data';\n",
              "          await google.colab.output.renderOutput(dataTable, element);\n",
              "          const docLink = document.createElement('div');\n",
              "          docLink.innerHTML = docLinkHtml;\n",
              "          element.appendChild(docLink);\n",
              "        }\n",
              "      </script>\n",
              "    </div>\n",
              "  </div>\n",
              "  "
            ]
          },
          "metadata": {},
          "execution_count": 11
        }
      ]
    },
    {
      "cell_type": "code",
      "source": [
        "train = df[df['Fig_Age'].between(1,75)]\n",
        "val = df[df['Fig_Age'].between(76,100)]"
      ],
      "metadata": {
        "id": "Z1zBw01Gl8Ac"
      },
      "execution_count": 12,
      "outputs": []
    },
    {
      "cell_type": "code",
      "source": [
        "DATA_PATH = \"/content/drive/My Drive/TVT_Gender\"\n",
        "os.chdir(DATA_PATH)\n",
        "train_dir = os.path.join(DATA_PATH, 'train')\n",
        "print(train_dir)\n",
        "validation_dir = os.path.join(DATA_PATH, 'validation')\n",
        "print(validation_dir)"
      ],
      "metadata": {
        "colab": {
          "base_uri": "https://localhost:8080/"
        },
        "id": "QL0g-8iOnMC4",
        "outputId": "384f4dee-f5ba-4cce-8028-3ee68d1faf48"
      },
      "execution_count": 13,
      "outputs": [
        {
          "output_type": "stream",
          "name": "stdout",
          "text": [
            "/content/drive/My Drive/TVT_Gender/train\n",
            "/content/drive/My Drive/TVT_Gender/validation\n"
          ]
        }
      ]
    },
    {
      "cell_type": "markdown",
      "source": [
        "\n",
        "#Train"
      ],
      "metadata": {
        "id": "bWEnlTSwazL5"
      }
    },
    {
      "cell_type": "code",
      "source": [
        "# Train ด้วย ImageDataGenerator ของ Keras ซึ่งจะเพิ่มข้อมูลเสริมระหว่างการฝึกเพื่อลดโอกาสเกิด overfitting\n",
        "#overfitting เกิดจากข้อมูลที่ซับซ้อนกันเกินไป\n",
        "from tensorflow.keras.preprocessing.image import ImageDataGenerator\n",
        "\n",
        "train_datagen = ImageDataGenerator(\n",
        "      rescale=1./255, #โมเดลส่วนใหญ่ต้องใช้ RGB ในช่วง 0–1\n",
        "      rotation_range=40,\n",
        "      width_shift_range=0.2,\n",
        "      height_shift_range=0.2,\n",
        "      shear_range=0.2,\n",
        "      zoom_range=0.2,\n",
        "      horizontal_flip=True,\n",
        "      fill_mode='nearest')\n",
        "\n",
        "# Note that the validation data should not be augmented!\n",
        "test_datagen = ImageDataGenerator(rescale=1./255)"
      ],
      "metadata": {
        "id": "xGPrsn9no_pa"
      },
      "execution_count": 14,
      "outputs": []
    },
    {
      "cell_type": "code",
      "source": [
        "train_generator = train_datagen.flow_from_dataframe(\n",
        "        dataframe = train,\n",
        "        directory = train_dir,\n",
        "        x_col = 'Path_filename',\n",
        "        y_col = 'Class_Re',\n",
        "        class_mode = 'other',\n",
        "        target_size=(height, width),\n",
        "        batch_size=batch_size)\n",
        "\n",
        "validation_generator = test_datagen.flow_from_dataframe(\n",
        "        dataframe = val,\n",
        "        directory = validation_dir,\n",
        "        x_col = 'Path_filename',\n",
        "        y_col = 'Class_Re',\n",
        "        class_mode = 'other',\n",
        "        target_size=(height, width),\n",
        "        batch_size=batch_size)"
      ],
      "metadata": {
        "colab": {
          "base_uri": "https://localhost:8080/"
        },
        "id": "8nVlmAszntK_",
        "outputId": "870cd2f4-b923-4487-f75b-6aadadf0eb80"
      },
      "execution_count": 15,
      "outputs": [
        {
          "output_type": "stream",
          "name": "stdout",
          "text": [
            "Found 2850 validated image filenames.\n",
            "Found 950 validated image filenames.\n"
          ]
        }
      ]
    },
    {
      "cell_type": "code",
      "source": [
        "model.compile(loss='mse',\n",
        "          optimizer=Adam(learning_rate=1e-4),\n",
        "          metrics=['mae'])\n",
        "history = model.fit_generator(\n",
        "      train_generator,\n",
        "      steps_per_epoch= NUM_TRAIN //batch_size,\n",
        "      epochs=epochs,\n",
        "      validation_data=validation_generator,\n",
        "      validation_steps= NUM_TEST //batch_size,\n",
        "      verbose=1,\n",
        "      use_multiprocessing=True,\n",
        "      workers=4)"
      ],
      "metadata": {
        "id": "N6qUmmF856ZE",
        "outputId": "7b0ba8be-5ab0-4b09-9a18-3f9b554db06f",
        "colab": {
          "base_uri": "https://localhost:8080/"
        }
      },
      "execution_count": 16,
      "outputs": [
        {
          "output_type": "stream",
          "name": "stderr",
          "text": [
            "<ipython-input-16-f59104fd3985>:4: UserWarning: `Model.fit_generator` is deprecated and will be removed in a future version. Please use `Model.fit`, which supports generators.\n",
            "  history = model.fit_generator(\n"
          ]
        },
        {
          "output_type": "stream",
          "name": "stdout",
          "text": [
            "Epoch 1/250\n",
            "178/178 [==============================] - 472s 3s/step - loss: 0.2117 - mae: 0.4151 - val_loss: 0.1799 - val_mae: 0.3708\n",
            "Epoch 2/250\n",
            "178/178 [==============================] - 42s 234ms/step - loss: 0.2082 - mae: 0.4115 - val_loss: 0.1787 - val_mae: 0.3722\n",
            "Epoch 3/250\n",
            "178/178 [==============================] - 43s 240ms/step - loss: 0.2088 - mae: 0.4111 - val_loss: 0.1761 - val_mae: 0.3745\n",
            "Epoch 4/250\n",
            "178/178 [==============================] - 43s 239ms/step - loss: 0.2077 - mae: 0.4116 - val_loss: 0.1861 - val_mae: 0.3719\n",
            "Epoch 5/250\n",
            "178/178 [==============================] - 44s 242ms/step - loss: 0.2105 - mae: 0.4150 - val_loss: 0.1986 - val_mae: 0.3761\n",
            "Epoch 6/250\n",
            "178/178 [==============================] - 44s 246ms/step - loss: 0.2091 - mae: 0.4108 - val_loss: 0.1762 - val_mae: 0.3734\n",
            "Epoch 7/250\n",
            "178/178 [==============================] - 43s 234ms/step - loss: 0.2094 - mae: 0.4139 - val_loss: 0.1754 - val_mae: 0.3714\n",
            "Epoch 8/250\n",
            "178/178 [==============================] - 42s 232ms/step - loss: 0.2067 - mae: 0.4091 - val_loss: 0.1808 - val_mae: 0.3721\n",
            "Epoch 9/250\n",
            "178/178 [==============================] - 43s 239ms/step - loss: 0.2116 - mae: 0.4168 - val_loss: 0.1820 - val_mae: 0.3727\n",
            "Epoch 10/250\n",
            "178/178 [==============================] - 44s 246ms/step - loss: 0.2112 - mae: 0.4156 - val_loss: 0.1811 - val_mae: 0.3734\n",
            "Epoch 11/250\n",
            "178/178 [==============================] - 44s 243ms/step - loss: 0.2132 - mae: 0.4180 - val_loss: 0.1786 - val_mae: 0.3722\n",
            "Epoch 12/250\n",
            "178/178 [==============================] - 44s 240ms/step - loss: 0.2051 - mae: 0.4089 - val_loss: 0.2070 - val_mae: 0.3834\n",
            "Epoch 13/250\n",
            "178/178 [==============================] - 42s 232ms/step - loss: 0.2077 - mae: 0.4101 - val_loss: 0.1824 - val_mae: 0.3749\n",
            "Epoch 14/250\n",
            "178/178 [==============================] - 44s 247ms/step - loss: 0.2131 - mae: 0.4183 - val_loss: 0.1821 - val_mae: 0.3750\n",
            "Epoch 15/250\n",
            "178/178 [==============================] - 44s 245ms/step - loss: 0.2075 - mae: 0.4109 - val_loss: 0.1828 - val_mae: 0.3755\n",
            "Epoch 16/250\n",
            "178/178 [==============================] - 44s 246ms/step - loss: 0.2061 - mae: 0.4096 - val_loss: 0.1826 - val_mae: 0.3750\n",
            "Epoch 17/250\n",
            "178/178 [==============================] - 43s 235ms/step - loss: 0.2077 - mae: 0.4114 - val_loss: 0.1794 - val_mae: 0.3738\n",
            "Epoch 18/250\n",
            "178/178 [==============================] - 42s 234ms/step - loss: 0.2072 - mae: 0.4101 - val_loss: 0.1833 - val_mae: 0.3750\n",
            "Epoch 19/250\n",
            "178/178 [==============================] - 44s 247ms/step - loss: 0.2005 - mae: 0.4022 - val_loss: 0.1784 - val_mae: 0.3735\n",
            "Epoch 20/250\n",
            "178/178 [==============================] - 44s 244ms/step - loss: 0.2080 - mae: 0.4121 - val_loss: 0.1805 - val_mae: 0.3746\n",
            "Epoch 21/250\n",
            "178/178 [==============================] - 44s 244ms/step - loss: 0.2072 - mae: 0.4105 - val_loss: 0.1793 - val_mae: 0.3745\n",
            "Epoch 22/250\n",
            "178/178 [==============================] - 43s 237ms/step - loss: 0.2063 - mae: 0.4101 - val_loss: 0.1990 - val_mae: 0.3847\n",
            "Epoch 23/250\n",
            "178/178 [==============================] - 42s 233ms/step - loss: 0.2103 - mae: 0.4133 - val_loss: 0.1953 - val_mae: 0.3837\n",
            "Epoch 24/250\n",
            "178/178 [==============================] - 44s 245ms/step - loss: 0.2055 - mae: 0.4096 - val_loss: 0.1765 - val_mae: 0.3748\n",
            "Epoch 25/250\n",
            "178/178 [==============================] - 45s 247ms/step - loss: 0.2049 - mae: 0.4081 - val_loss: 0.1789 - val_mae: 0.3751\n",
            "Epoch 26/250\n",
            "178/178 [==============================] - 39s 216ms/step - loss: 0.2107 - mae: 0.4146 - val_loss: 0.1954 - val_mae: 0.3839\n",
            "Epoch 27/250\n",
            "178/178 [==============================] - 44s 246ms/step - loss: 0.2041 - mae: 0.4081 - val_loss: 0.1880 - val_mae: 0.3805\n",
            "Epoch 28/250\n",
            "178/178 [==============================] - 44s 243ms/step - loss: 0.2113 - mae: 0.4151 - val_loss: 0.1870 - val_mae: 0.3804\n",
            "Epoch 29/250\n",
            "178/178 [==============================] - 44s 245ms/step - loss: 0.2070 - mae: 0.4110 - val_loss: 0.1894 - val_mae: 0.3817\n",
            "Epoch 30/250\n",
            "178/178 [==============================] - 43s 233ms/step - loss: 0.2034 - mae: 0.4070 - val_loss: 0.1756 - val_mae: 0.3745\n",
            "Epoch 31/250\n",
            "178/178 [==============================] - 43s 237ms/step - loss: 0.2061 - mae: 0.4102 - val_loss: 0.1858 - val_mae: 0.3813\n",
            "Epoch 32/250\n",
            "178/178 [==============================] - 43s 236ms/step - loss: 0.2147 - mae: 0.4206 - val_loss: 0.1784 - val_mae: 0.3773\n",
            "Epoch 33/250\n",
            "178/178 [==============================] - 43s 238ms/step - loss: 0.2109 - mae: 0.4152 - val_loss: 0.1879 - val_mae: 0.3838\n",
            "Epoch 34/250\n",
            "178/178 [==============================] - 44s 245ms/step - loss: 0.2019 - mae: 0.4073 - val_loss: 0.2058 - val_mae: 0.3957\n",
            "Epoch 35/250\n",
            "178/178 [==============================] - 44s 244ms/step - loss: 0.2096 - mae: 0.4136 - val_loss: 0.1886 - val_mae: 0.3847\n",
            "Epoch 36/250\n",
            "178/178 [==============================] - 44s 245ms/step - loss: 0.2063 - mae: 0.4103 - val_loss: 0.1954 - val_mae: 0.3885\n",
            "Epoch 37/250\n",
            "178/178 [==============================] - 45s 246ms/step - loss: 0.2101 - mae: 0.4150 - val_loss: 0.1882 - val_mae: 0.3842\n",
            "Epoch 38/250\n",
            "178/178 [==============================] - 44s 245ms/step - loss: 0.2041 - mae: 0.4087 - val_loss: 0.2025 - val_mae: 0.3938\n",
            "Epoch 39/250\n",
            "178/178 [==============================] - 44s 242ms/step - loss: 0.2007 - mae: 0.4048 - val_loss: 0.2025 - val_mae: 0.3941\n",
            "Epoch 40/250\n",
            "178/178 [==============================] - 43s 237ms/step - loss: 0.2080 - mae: 0.4122 - val_loss: 0.1933 - val_mae: 0.3880\n",
            "Epoch 41/250\n",
            "178/178 [==============================] - 43s 241ms/step - loss: 0.2065 - mae: 0.4112 - val_loss: 0.1983 - val_mae: 0.3920\n",
            "Epoch 42/250\n",
            "178/178 [==============================] - 44s 244ms/step - loss: 0.2084 - mae: 0.4134 - val_loss: 0.1876 - val_mae: 0.3842\n",
            "Epoch 43/250\n",
            "178/178 [==============================] - 44s 246ms/step - loss: 0.2076 - mae: 0.4129 - val_loss: 0.1981 - val_mae: 0.3913\n",
            "Epoch 44/250\n",
            "178/178 [==============================] - 45s 246ms/step - loss: 0.2069 - mae: 0.4101 - val_loss: 0.1871 - val_mae: 0.3836\n",
            "Epoch 45/250\n",
            "178/178 [==============================] - 45s 249ms/step - loss: 0.2056 - mae: 0.4104 - val_loss: 0.2111 - val_mae: 0.4012\n",
            "Epoch 46/250\n",
            "178/178 [==============================] - 45s 249ms/step - loss: 0.2092 - mae: 0.4143 - val_loss: 0.1795 - val_mae: 0.3794\n",
            "Epoch 47/250\n",
            "178/178 [==============================] - 44s 241ms/step - loss: 0.2076 - mae: 0.4127 - val_loss: 0.1930 - val_mae: 0.3891\n",
            "Epoch 48/250\n",
            "178/178 [==============================] - 45s 250ms/step - loss: 0.2013 - mae: 0.4076 - val_loss: 0.1874 - val_mae: 0.3849\n",
            "Epoch 49/250\n",
            "178/178 [==============================] - 46s 253ms/step - loss: 0.2006 - mae: 0.4041 - val_loss: 0.2027 - val_mae: 0.3953\n",
            "Epoch 50/250\n",
            "178/178 [==============================] - 45s 250ms/step - loss: 0.2050 - mae: 0.4086 - val_loss: 0.1819 - val_mae: 0.3804\n",
            "Epoch 51/250\n",
            "178/178 [==============================] - 45s 253ms/step - loss: 0.2061 - mae: 0.4085 - val_loss: 0.1836 - val_mae: 0.3813\n",
            "Epoch 52/250\n",
            "178/178 [==============================] - 46s 250ms/step - loss: 0.2073 - mae: 0.4121 - val_loss: 0.1952 - val_mae: 0.3901\n",
            "Epoch 53/250\n",
            "178/178 [==============================] - 44s 240ms/step - loss: 0.2073 - mae: 0.4126 - val_loss: 0.1873 - val_mae: 0.3841\n",
            "Epoch 54/250\n",
            "178/178 [==============================] - 45s 249ms/step - loss: 0.2027 - mae: 0.4067 - val_loss: 0.1840 - val_mae: 0.3825\n",
            "Epoch 55/250\n",
            "178/178 [==============================] - 46s 254ms/step - loss: 0.2069 - mae: 0.4126 - val_loss: 0.2034 - val_mae: 0.3967\n",
            "Epoch 56/250\n",
            "178/178 [==============================] - 45s 252ms/step - loss: 0.2059 - mae: 0.4107 - val_loss: 0.1873 - val_mae: 0.3857\n",
            "Epoch 57/250\n",
            "178/178 [==============================] - 45s 250ms/step - loss: 0.2073 - mae: 0.4122 - val_loss: 0.1824 - val_mae: 0.3814\n",
            "Epoch 58/250\n",
            "178/178 [==============================] - 45s 246ms/step - loss: 0.2042 - mae: 0.4096 - val_loss: 0.1827 - val_mae: 0.3819\n",
            "Epoch 59/250\n",
            "178/178 [==============================] - 43s 238ms/step - loss: 0.2109 - mae: 0.4164 - val_loss: 0.1827 - val_mae: 0.3823\n",
            "Epoch 60/250\n",
            "178/178 [==============================] - 45s 252ms/step - loss: 0.2126 - mae: 0.4184 - val_loss: 0.1900 - val_mae: 0.3883\n",
            "Epoch 61/250\n",
            "178/178 [==============================] - 46s 255ms/step - loss: 0.2100 - mae: 0.4162 - val_loss: 0.2008 - val_mae: 0.3964\n",
            "Epoch 62/250\n",
            "178/178 [==============================] - 46s 253ms/step - loss: 0.2058 - mae: 0.4115 - val_loss: 0.1892 - val_mae: 0.3877\n",
            "Epoch 63/250\n",
            "178/178 [==============================] - 46s 255ms/step - loss: 0.2083 - mae: 0.4138 - val_loss: 0.1931 - val_mae: 0.3910\n",
            "Epoch 64/250\n",
            "178/178 [==============================] - 46s 254ms/step - loss: 0.2088 - mae: 0.4165 - val_loss: 0.1866 - val_mae: 0.3867\n",
            "Epoch 65/250\n",
            "178/178 [==============================] - 45s 245ms/step - loss: 0.2082 - mae: 0.4136 - val_loss: 0.2066 - val_mae: 0.4021\n",
            "Epoch 66/250\n",
            "178/178 [==============================] - 45s 251ms/step - loss: 0.2043 - mae: 0.4101 - val_loss: 0.1948 - val_mae: 0.3919\n",
            "Epoch 67/250\n",
            "178/178 [==============================] - 47s 258ms/step - loss: 0.2110 - mae: 0.4175 - val_loss: 0.2023 - val_mae: 0.3983\n",
            "Epoch 68/250\n",
            "178/178 [==============================] - 46s 257ms/step - loss: 0.2086 - mae: 0.4154 - val_loss: 0.2118 - val_mae: 0.4051\n",
            "Epoch 69/250\n",
            "178/178 [==============================] - 45s 252ms/step - loss: 0.2044 - mae: 0.4112 - val_loss: 0.1873 - val_mae: 0.3867\n",
            "Epoch 70/250\n",
            "178/178 [==============================] - 45s 252ms/step - loss: 0.2064 - mae: 0.4133 - val_loss: 0.2003 - val_mae: 0.3968\n",
            "Epoch 71/250\n",
            "178/178 [==============================] - 43s 236ms/step - loss: 0.2061 - mae: 0.4133 - val_loss: 0.1862 - val_mae: 0.3866\n",
            "Epoch 72/250\n",
            "178/178 [==============================] - 46s 253ms/step - loss: 0.2094 - mae: 0.4157 - val_loss: 0.1878 - val_mae: 0.3883\n",
            "Epoch 73/250\n",
            "178/178 [==============================] - 44s 243ms/step - loss: 0.2086 - mae: 0.4153 - val_loss: 0.1875 - val_mae: 0.3879\n",
            "Epoch 74/250\n",
            "178/178 [==============================] - 44s 242ms/step - loss: 0.2048 - mae: 0.4111 - val_loss: 0.1894 - val_mae: 0.3891\n",
            "Epoch 75/250\n",
            "178/178 [==============================] - 45s 249ms/step - loss: 0.2071 - mae: 0.4142 - val_loss: 0.1909 - val_mae: 0.3906\n",
            "Epoch 76/250\n",
            "178/178 [==============================] - 45s 250ms/step - loss: 0.2061 - mae: 0.4133 - val_loss: 0.2056 - val_mae: 0.4034\n",
            "Epoch 77/250\n",
            "178/178 [==============================] - 46s 256ms/step - loss: 0.2050 - mae: 0.4112 - val_loss: 0.1872 - val_mae: 0.3885\n",
            "Epoch 78/250\n",
            "178/178 [==============================] - 48s 266ms/step - loss: 0.2097 - mae: 0.4165 - val_loss: 0.1994 - val_mae: 0.3988\n",
            "Epoch 79/250\n",
            "178/178 [==============================] - 48s 262ms/step - loss: 0.2065 - mae: 0.4127 - val_loss: 0.2014 - val_mae: 0.4006\n",
            "Epoch 80/250\n",
            "178/178 [==============================] - 46s 255ms/step - loss: 0.2034 - mae: 0.4109 - val_loss: 0.2098 - val_mae: 0.4071\n",
            "Epoch 81/250\n",
            "178/178 [==============================] - 48s 264ms/step - loss: 0.2053 - mae: 0.4118 - val_loss: 0.1986 - val_mae: 0.3976\n",
            "Epoch 82/250\n",
            "178/178 [==============================] - 47s 261ms/step - loss: 0.2032 - mae: 0.4077 - val_loss: 0.1971 - val_mae: 0.3957\n",
            "Epoch 83/250\n",
            "178/178 [==============================] - 46s 258ms/step - loss: 0.2013 - mae: 0.4079 - val_loss: 0.1944 - val_mae: 0.3922\n",
            "Epoch 84/250\n",
            "178/178 [==============================] - 47s 258ms/step - loss: 0.2100 - mae: 0.4153 - val_loss: 0.2087 - val_mae: 0.4049\n",
            "Epoch 85/250\n",
            "178/178 [==============================] - 46s 251ms/step - loss: 0.2031 - mae: 0.4085 - val_loss: 0.1868 - val_mae: 0.3863\n",
            "Epoch 86/250\n",
            "178/178 [==============================] - 47s 260ms/step - loss: 0.2060 - mae: 0.4115 - val_loss: 0.2102 - val_mae: 0.4060\n",
            "Epoch 87/250\n",
            "178/178 [==============================] - 47s 262ms/step - loss: 0.2093 - mae: 0.4147 - val_loss: 0.2168 - val_mae: 0.4113\n",
            "Epoch 88/250\n",
            "178/178 [==============================] - 43s 235ms/step - loss: 0.2067 - mae: 0.4116 - val_loss: 0.1977 - val_mae: 0.3966\n",
            "Epoch 89/250\n",
            "178/178 [==============================] - 48s 263ms/step - loss: 0.2046 - mae: 0.4104 - val_loss: 0.2136 - val_mae: 0.4097\n",
            "Epoch 90/250\n",
            "178/178 [==============================] - 47s 263ms/step - loss: 0.2049 - mae: 0.4090 - val_loss: 0.1900 - val_mae: 0.3909\n",
            "Epoch 91/250\n",
            "178/178 [==============================] - 47s 259ms/step - loss: 0.2043 - mae: 0.4090 - val_loss: 0.2013 - val_mae: 0.3997\n",
            "Epoch 92/250\n",
            "178/178 [==============================] - 42s 230ms/step - loss: 0.2046 - mae: 0.4084 - val_loss: 0.1940 - val_mae: 0.3932\n",
            "Epoch 93/250\n",
            "178/178 [==============================] - 45s 250ms/step - loss: 0.2007 - mae: 0.4065 - val_loss: 0.1968 - val_mae: 0.3955\n",
            "Epoch 94/250\n",
            "178/178 [==============================] - 46s 253ms/step - loss: 0.2045 - mae: 0.4094 - val_loss: 0.1947 - val_mae: 0.3933\n",
            "Epoch 95/250\n",
            "178/178 [==============================] - 45s 252ms/step - loss: 0.2024 - mae: 0.4066 - val_loss: 0.1988 - val_mae: 0.3967\n",
            "Epoch 96/250\n",
            "178/178 [==============================] - 46s 255ms/step - loss: 0.2024 - mae: 0.4063 - val_loss: 0.2007 - val_mae: 0.3975\n",
            "Epoch 97/250\n",
            "178/178 [==============================] - 45s 250ms/step - loss: 0.2057 - mae: 0.4102 - val_loss: 0.2034 - val_mae: 0.3999\n",
            "Epoch 98/250\n",
            "178/178 [==============================] - 46s 253ms/step - loss: 0.2077 - mae: 0.4129 - val_loss: 0.1924 - val_mae: 0.3904\n",
            "Epoch 99/250\n",
            "178/178 [==============================] - 44s 239ms/step - loss: 0.2103 - mae: 0.4157 - val_loss: 0.1855 - val_mae: 0.3851\n",
            "Epoch 100/250\n",
            "178/178 [==============================] - 43s 238ms/step - loss: 0.2051 - mae: 0.4107 - val_loss: 0.1828 - val_mae: 0.3825\n",
            "Epoch 101/250\n",
            "178/178 [==============================] - 44s 247ms/step - loss: 0.2078 - mae: 0.4117 - val_loss: 0.1829 - val_mae: 0.3831\n",
            "Epoch 102/250\n",
            "178/178 [==============================] - 45s 250ms/step - loss: 0.2069 - mae: 0.4128 - val_loss: 0.1844 - val_mae: 0.3841\n",
            "Epoch 103/250\n",
            "178/178 [==============================] - 45s 251ms/step - loss: 0.2075 - mae: 0.4123 - val_loss: 0.1886 - val_mae: 0.3889\n",
            "Epoch 104/250\n",
            "178/178 [==============================] - 46s 254ms/step - loss: 0.2092 - mae: 0.4132 - val_loss: 0.2055 - val_mae: 0.4034\n",
            "Epoch 105/250\n",
            "178/178 [==============================] - 45s 250ms/step - loss: 0.2022 - mae: 0.4075 - val_loss: 0.2086 - val_mae: 0.4048\n",
            "Epoch 106/250\n",
            "178/178 [==============================] - 44s 241ms/step - loss: 0.2012 - mae: 0.4062 - val_loss: 0.1972 - val_mae: 0.3951\n",
            "Epoch 107/250\n",
            "178/178 [==============================] - 44s 245ms/step - loss: 0.2062 - mae: 0.4109 - val_loss: 0.1895 - val_mae: 0.3891\n",
            "Epoch 108/250\n",
            "178/178 [==============================] - 46s 252ms/step - loss: 0.2017 - mae: 0.4055 - val_loss: 0.1863 - val_mae: 0.3864\n",
            "Epoch 109/250\n",
            "178/178 [==============================] - 46s 257ms/step - loss: 0.1993 - mae: 0.4035 - val_loss: 0.1821 - val_mae: 0.3819\n",
            "Epoch 110/250\n",
            "178/178 [==============================] - 45s 251ms/step - loss: 0.1982 - mae: 0.4008 - val_loss: 0.1901 - val_mae: 0.3889\n",
            "Epoch 111/250\n",
            "178/178 [==============================] - 45s 246ms/step - loss: 0.2065 - mae: 0.4106 - val_loss: 0.2059 - val_mae: 0.4025\n",
            "Epoch 112/250\n",
            "178/178 [==============================] - 42s 231ms/step - loss: 0.2073 - mae: 0.4119 - val_loss: 0.1816 - val_mae: 0.3809\n",
            "Epoch 113/250\n",
            "178/178 [==============================] - 45s 247ms/step - loss: 0.2122 - mae: 0.4174 - val_loss: 0.2053 - val_mae: 0.4020\n",
            "Epoch 114/250\n",
            "178/178 [==============================] - 45s 250ms/step - loss: 0.2038 - mae: 0.4078 - val_loss: 0.1860 - val_mae: 0.3855\n",
            "Epoch 115/250\n",
            "178/178 [==============================] - 46s 253ms/step - loss: 0.2081 - mae: 0.4125 - val_loss: 0.2059 - val_mae: 0.4028\n",
            "Epoch 116/250\n",
            "178/178 [==============================] - 45s 247ms/step - loss: 0.2056 - mae: 0.4087 - val_loss: 0.1816 - val_mae: 0.3813\n",
            "Epoch 117/250\n",
            "178/178 [==============================] - 45s 248ms/step - loss: 0.2028 - mae: 0.4084 - val_loss: 0.1859 - val_mae: 0.3849\n",
            "Epoch 118/250\n",
            "178/178 [==============================] - 44s 239ms/step - loss: 0.2032 - mae: 0.4077 - val_loss: 0.1955 - val_mae: 0.3932\n",
            "Epoch 119/250\n",
            "178/178 [==============================] - 43s 238ms/step - loss: 0.2036 - mae: 0.4079 - val_loss: 0.1922 - val_mae: 0.3904\n",
            "Epoch 120/250\n",
            "178/178 [==============================] - 44s 246ms/step - loss: 0.2087 - mae: 0.4129 - val_loss: 0.2132 - val_mae: 0.4077\n",
            "Epoch 121/250\n",
            "178/178 [==============================] - 45s 250ms/step - loss: 0.2086 - mae: 0.4127 - val_loss: 0.1900 - val_mae: 0.3899\n",
            "Epoch 122/250\n",
            "178/178 [==============================] - 45s 250ms/step - loss: 0.2048 - mae: 0.4095 - val_loss: 0.1933 - val_mae: 0.3935\n",
            "Epoch 123/250\n",
            "178/178 [==============================] - 46s 252ms/step - loss: 0.2056 - mae: 0.4099 - val_loss: 0.1887 - val_mae: 0.3891\n",
            "Epoch 124/250\n",
            "178/178 [==============================] - 45s 246ms/step - loss: 0.2032 - mae: 0.4063 - val_loss: 0.1884 - val_mae: 0.3887\n",
            "Epoch 125/250\n",
            "178/178 [==============================] - 44s 242ms/step - loss: 0.2034 - mae: 0.4076 - val_loss: 0.1863 - val_mae: 0.3874\n",
            "Epoch 126/250\n",
            "178/178 [==============================] - 45s 251ms/step - loss: 0.2016 - mae: 0.4064 - val_loss: 0.1881 - val_mae: 0.3882\n",
            "Epoch 127/250\n",
            "178/178 [==============================] - 45s 250ms/step - loss: 0.2080 - mae: 0.4119 - val_loss: 0.1929 - val_mae: 0.3932\n",
            "Epoch 128/250\n",
            "178/178 [==============================] - 41s 225ms/step - loss: 0.2096 - mae: 0.4152 - val_loss: 0.2020 - val_mae: 0.4018\n",
            "Epoch 129/250\n",
            "178/178 [==============================] - 46s 252ms/step - loss: 0.2103 - mae: 0.4149 - val_loss: 0.1998 - val_mae: 0.4006\n",
            "Epoch 130/250\n",
            "178/178 [==============================] - 45s 248ms/step - loss: 0.2007 - mae: 0.4068 - val_loss: 0.1867 - val_mae: 0.3881\n",
            "Epoch 131/250\n",
            "178/178 [==============================] - 45s 252ms/step - loss: 0.2019 - mae: 0.4067 - val_loss: 0.1862 - val_mae: 0.3871\n",
            "Epoch 132/250\n",
            "178/178 [==============================] - 45s 248ms/step - loss: 0.2008 - mae: 0.4068 - val_loss: 0.1847 - val_mae: 0.3853\n",
            "Epoch 133/250\n",
            "178/178 [==============================] - 44s 246ms/step - loss: 0.2051 - mae: 0.4090 - val_loss: 0.2060 - val_mae: 0.4037\n",
            "Epoch 134/250\n",
            "178/178 [==============================] - 44s 242ms/step - loss: 0.2028 - mae: 0.4065 - val_loss: 0.1832 - val_mae: 0.3830\n",
            "Epoch 135/250\n",
            "178/178 [==============================] - 43s 236ms/step - loss: 0.2046 - mae: 0.4097 - val_loss: 0.1856 - val_mae: 0.3853\n",
            "Epoch 136/250\n",
            "178/178 [==============================] - 45s 252ms/step - loss: 0.2017 - mae: 0.4067 - val_loss: 0.2035 - val_mae: 0.4009\n",
            "Epoch 137/250\n",
            "178/178 [==============================] - 45s 250ms/step - loss: 0.2075 - mae: 0.4117 - val_loss: 0.1931 - val_mae: 0.3915\n",
            "Epoch 138/250\n",
            "178/178 [==============================] - 45s 247ms/step - loss: 0.2041 - mae: 0.4076 - val_loss: 0.1890 - val_mae: 0.3889\n",
            "Epoch 139/250\n",
            "178/178 [==============================] - 45s 248ms/step - loss: 0.2038 - mae: 0.4080 - val_loss: 0.1876 - val_mae: 0.3873\n",
            "Epoch 140/250\n",
            "178/178 [==============================] - 44s 242ms/step - loss: 0.2041 - mae: 0.4091 - val_loss: 0.2038 - val_mae: 0.4017\n",
            "Epoch 141/250\n",
            "178/178 [==============================] - 43s 238ms/step - loss: 0.2069 - mae: 0.4119 - val_loss: 0.1880 - val_mae: 0.3878\n",
            "Epoch 142/250\n",
            "178/178 [==============================] - 44s 246ms/step - loss: 0.2045 - mae: 0.4089 - val_loss: 0.2148 - val_mae: 0.4099\n",
            "Epoch 143/250\n",
            "178/178 [==============================] - 44s 246ms/step - loss: 0.2100 - mae: 0.4139 - val_loss: 0.2023 - val_mae: 0.4002\n",
            "Epoch 144/250\n",
            "178/178 [==============================] - 44s 244ms/step - loss: 0.2052 - mae: 0.4091 - val_loss: 0.1860 - val_mae: 0.3865\n",
            "Epoch 145/250\n",
            "178/178 [==============================] - 43s 237ms/step - loss: 0.2060 - mae: 0.4094 - val_loss: 0.2018 - val_mae: 0.4005\n",
            "Epoch 146/250\n",
            "178/178 [==============================] - 43s 235ms/step - loss: 0.2023 - mae: 0.4077 - val_loss: 0.1932 - val_mae: 0.3927\n",
            "Epoch 147/250\n",
            "178/178 [==============================] - 44s 241ms/step - loss: 0.2053 - mae: 0.4110 - val_loss: 0.1872 - val_mae: 0.3874\n",
            "Epoch 148/250\n",
            "178/178 [==============================] - 44s 245ms/step - loss: 0.2055 - mae: 0.4095 - val_loss: 0.1942 - val_mae: 0.3935\n",
            "Epoch 149/250\n",
            "178/178 [==============================] - 45s 249ms/step - loss: 0.1984 - mae: 0.4030 - val_loss: 0.1851 - val_mae: 0.3856\n",
            "Epoch 150/250\n",
            "178/178 [==============================] - 44s 246ms/step - loss: 0.2022 - mae: 0.4063 - val_loss: 0.1909 - val_mae: 0.3897\n",
            "Epoch 151/250\n",
            "178/178 [==============================] - 44s 246ms/step - loss: 0.1985 - mae: 0.4017 - val_loss: 0.2016 - val_mae: 0.3984\n",
            "Epoch 152/250\n",
            "178/178 [==============================] - 46s 253ms/step - loss: 0.2044 - mae: 0.4079 - val_loss: 0.1851 - val_mae: 0.3843\n",
            "Epoch 153/250\n",
            "178/178 [==============================] - 44s 241ms/step - loss: 0.2041 - mae: 0.4079 - val_loss: 0.1851 - val_mae: 0.3845\n",
            "Epoch 154/250\n",
            "178/178 [==============================] - 43s 239ms/step - loss: 0.2082 - mae: 0.4122 - val_loss: 0.1808 - val_mae: 0.3806\n",
            "Epoch 155/250\n",
            "178/178 [==============================] - 43s 240ms/step - loss: 0.2046 - mae: 0.4091 - val_loss: 0.1848 - val_mae: 0.3845\n",
            "Epoch 156/250\n",
            "178/178 [==============================] - 46s 255ms/step - loss: 0.2033 - mae: 0.4069 - val_loss: 0.1839 - val_mae: 0.3830\n",
            "Epoch 157/250\n",
            "178/178 [==============================] - 46s 254ms/step - loss: 0.2077 - mae: 0.4097 - val_loss: 0.1841 - val_mae: 0.3835\n",
            "Epoch 158/250\n",
            "178/178 [==============================] - 45s 247ms/step - loss: 0.2133 - mae: 0.4189 - val_loss: 0.1940 - val_mae: 0.3929\n",
            "Epoch 159/250\n",
            "178/178 [==============================] - 44s 241ms/step - loss: 0.2038 - mae: 0.4078 - val_loss: 0.1869 - val_mae: 0.3868\n",
            "Epoch 160/250\n",
            "178/178 [==============================] - 43s 240ms/step - loss: 0.2071 - mae: 0.4119 - val_loss: 0.2004 - val_mae: 0.3986\n",
            "Epoch 161/250\n",
            "178/178 [==============================] - 45s 250ms/step - loss: 0.1997 - mae: 0.4044 - val_loss: 0.1796 - val_mae: 0.3788\n",
            "Epoch 162/250\n",
            "178/178 [==============================] - 45s 252ms/step - loss: 0.2052 - mae: 0.4072 - val_loss: 0.1906 - val_mae: 0.3895\n",
            "Epoch 163/250\n",
            "178/178 [==============================] - 45s 251ms/step - loss: 0.2053 - mae: 0.4091 - val_loss: 0.2190 - val_mae: 0.4122\n",
            "Epoch 164/250\n",
            "178/178 [==============================] - 45s 250ms/step - loss: 0.2066 - mae: 0.4126 - val_loss: 0.1955 - val_mae: 0.3932\n",
            "Epoch 165/250\n",
            "178/178 [==============================] - 46s 256ms/step - loss: 0.2052 - mae: 0.4093 - val_loss: 0.1903 - val_mae: 0.3886\n",
            "Epoch 166/250\n",
            "178/178 [==============================] - 46s 251ms/step - loss: 0.2063 - mae: 0.4098 - val_loss: 0.1897 - val_mae: 0.3885\n",
            "Epoch 167/250\n",
            "178/178 [==============================] - 48s 265ms/step - loss: 0.2073 - mae: 0.4103 - val_loss: 0.1829 - val_mae: 0.3838\n",
            "Epoch 168/250\n",
            "178/178 [==============================] - 47s 259ms/step - loss: 0.2063 - mae: 0.4105 - val_loss: 0.1846 - val_mae: 0.3854\n",
            "Epoch 169/250\n",
            "178/178 [==============================] - 46s 253ms/step - loss: 0.2102 - mae: 0.4153 - val_loss: 0.1875 - val_mae: 0.3883\n",
            "Epoch 170/250\n",
            "178/178 [==============================] - 46s 249ms/step - loss: 0.2059 - mae: 0.4118 - val_loss: 0.2085 - val_mae: 0.4060\n",
            "Epoch 171/250\n",
            "178/178 [==============================] - 44s 245ms/step - loss: 0.2031 - mae: 0.4077 - val_loss: 0.2027 - val_mae: 0.4011\n",
            "Epoch 172/250\n",
            "178/178 [==============================] - 46s 258ms/step - loss: 0.2009 - mae: 0.4056 - val_loss: 0.1819 - val_mae: 0.3827\n",
            "Epoch 173/250\n",
            "178/178 [==============================] - 46s 254ms/step - loss: 0.2059 - mae: 0.4096 - val_loss: 0.1973 - val_mae: 0.3970\n",
            "Epoch 174/250\n",
            "178/178 [==============================] - 46s 253ms/step - loss: 0.2043 - mae: 0.4073 - val_loss: 0.1983 - val_mae: 0.3971\n",
            "Epoch 175/250\n",
            "178/178 [==============================] - 44s 242ms/step - loss: 0.2038 - mae: 0.4077 - val_loss: 0.2070 - val_mae: 0.4040\n",
            "Epoch 176/250\n",
            "178/178 [==============================] - 45s 251ms/step - loss: 0.2023 - mae: 0.4066 - val_loss: 0.1862 - val_mae: 0.3853\n",
            "Epoch 177/250\n",
            "178/178 [==============================] - 42s 231ms/step - loss: 0.2099 - mae: 0.4148 - val_loss: 0.2004 - val_mae: 0.3992\n",
            "Epoch 178/250\n",
            "178/178 [==============================] - 46s 255ms/step - loss: 0.2076 - mae: 0.4132 - val_loss: 0.1934 - val_mae: 0.3932\n",
            "Epoch 179/250\n",
            "178/178 [==============================] - 46s 253ms/step - loss: 0.2024 - mae: 0.4058 - val_loss: 0.1975 - val_mae: 0.3972\n",
            "Epoch 180/250\n",
            "178/178 [==============================] - 44s 242ms/step - loss: 0.2035 - mae: 0.4086 - val_loss: 0.2011 - val_mae: 0.3992\n",
            "Epoch 181/250\n",
            "178/178 [==============================] - 46s 256ms/step - loss: 0.2018 - mae: 0.4061 - val_loss: 0.1892 - val_mae: 0.3900\n",
            "Epoch 182/250\n",
            "178/178 [==============================] - 49s 272ms/step - loss: 0.2035 - mae: 0.4080 - val_loss: 0.1941 - val_mae: 0.3946\n",
            "Epoch 183/250\n",
            "178/178 [==============================] - 46s 256ms/step - loss: 0.2051 - mae: 0.4105 - val_loss: 0.1866 - val_mae: 0.3877\n",
            "Epoch 184/250\n",
            "178/178 [==============================] - 46s 254ms/step - loss: 0.2037 - mae: 0.4087 - val_loss: 0.1914 - val_mae: 0.3921\n",
            "Epoch 185/250\n",
            "178/178 [==============================] - 46s 256ms/step - loss: 0.2069 - mae: 0.4111 - val_loss: 0.2013 - val_mae: 0.4001\n",
            "Epoch 186/250\n",
            "178/178 [==============================] - 46s 255ms/step - loss: 0.2067 - mae: 0.4121 - val_loss: 0.1978 - val_mae: 0.3967\n",
            "Epoch 187/250\n",
            "178/178 [==============================] - 46s 254ms/step - loss: 0.2012 - mae: 0.4062 - val_loss: 0.1889 - val_mae: 0.3885\n",
            "Epoch 188/250\n",
            "178/178 [==============================] - 45s 251ms/step - loss: 0.2054 - mae: 0.4081 - val_loss: 0.1914 - val_mae: 0.3899\n",
            "Epoch 189/250\n",
            "178/178 [==============================] - 49s 273ms/step - loss: 0.2042 - mae: 0.4082 - val_loss: 0.1959 - val_mae: 0.3942\n",
            "Epoch 190/250\n",
            "178/178 [==============================] - 47s 258ms/step - loss: 0.2022 - mae: 0.4064 - val_loss: 0.2017 - val_mae: 0.3990\n",
            "Epoch 191/250\n",
            "178/178 [==============================] - 46s 257ms/step - loss: 0.2083 - mae: 0.4128 - val_loss: 0.1945 - val_mae: 0.3937\n",
            "Epoch 192/250\n",
            "178/178 [==============================] - 46s 254ms/step - loss: 0.2084 - mae: 0.4134 - val_loss: 0.2140 - val_mae: 0.4108\n",
            "Epoch 193/250\n",
            "178/178 [==============================] - 45s 247ms/step - loss: 0.2055 - mae: 0.4096 - val_loss: 0.2071 - val_mae: 0.4044\n",
            "Epoch 194/250\n",
            "178/178 [==============================] - 45s 247ms/step - loss: 0.2058 - mae: 0.4119 - val_loss: 0.1926 - val_mae: 0.3923\n",
            "Epoch 195/250\n",
            "178/178 [==============================] - 48s 267ms/step - loss: 0.2065 - mae: 0.4103 - val_loss: 0.1890 - val_mae: 0.3890\n",
            "Epoch 196/250\n",
            "178/178 [==============================] - 47s 258ms/step - loss: 0.2065 - mae: 0.4105 - val_loss: 0.2043 - val_mae: 0.4019\n",
            "Epoch 197/250\n",
            "178/178 [==============================] - 46s 255ms/step - loss: 0.2103 - mae: 0.4160 - val_loss: 0.1887 - val_mae: 0.3884\n",
            "Epoch 198/250\n",
            "178/178 [==============================] - 46s 251ms/step - loss: 0.2036 - mae: 0.4094 - val_loss: 0.1860 - val_mae: 0.3863\n",
            "Epoch 199/250\n",
            "178/178 [==============================] - 46s 254ms/step - loss: 0.2093 - mae: 0.4143 - val_loss: 0.1814 - val_mae: 0.3814\n",
            "Epoch 200/250\n",
            "178/178 [==============================] - 46s 257ms/step - loss: 0.2032 - mae: 0.4087 - val_loss: 0.1886 - val_mae: 0.3891\n",
            "Epoch 201/250\n",
            "178/178 [==============================] - 47s 259ms/step - loss: 0.2042 - mae: 0.4087 - val_loss: 0.1875 - val_mae: 0.3878\n",
            "Epoch 202/250\n",
            "178/178 [==============================] - 48s 267ms/step - loss: 0.2077 - mae: 0.4135 - val_loss: 0.1890 - val_mae: 0.3893\n",
            "Epoch 203/250\n",
            "178/178 [==============================] - 47s 259ms/step - loss: 0.2030 - mae: 0.4080 - val_loss: 0.1938 - val_mae: 0.3931\n",
            "Epoch 204/250\n",
            "178/178 [==============================] - 46s 251ms/step - loss: 0.2112 - mae: 0.4165 - val_loss: 0.2025 - val_mae: 0.4003\n",
            "Epoch 205/250\n",
            "178/178 [==============================] - 45s 251ms/step - loss: 0.2046 - mae: 0.4099 - val_loss: 0.1814 - val_mae: 0.3825\n",
            "Epoch 206/250\n",
            "178/178 [==============================] - 47s 259ms/step - loss: 0.2091 - mae: 0.4150 - val_loss: 0.1813 - val_mae: 0.3819\n",
            "Epoch 207/250\n",
            "178/178 [==============================] - 47s 259ms/step - loss: 0.2081 - mae: 0.4139 - val_loss: 0.1867 - val_mae: 0.3879\n",
            "Epoch 208/250\n",
            "178/178 [==============================] - 46s 257ms/step - loss: 0.2005 - mae: 0.4069 - val_loss: 0.1897 - val_mae: 0.3908\n",
            "Epoch 209/250\n",
            "178/178 [==============================] - 48s 261ms/step - loss: 0.2030 - mae: 0.4088 - val_loss: 0.1898 - val_mae: 0.3909\n",
            "Epoch 210/250\n",
            "178/178 [==============================] - 48s 264ms/step - loss: 0.2043 - mae: 0.4104 - val_loss: 0.1828 - val_mae: 0.3839\n",
            "Epoch 211/250\n",
            "178/178 [==============================] - 45s 251ms/step - loss: 0.2014 - mae: 0.4060 - val_loss: 0.1959 - val_mae: 0.3959\n",
            "Epoch 212/250\n",
            "178/178 [==============================] - 43s 237ms/step - loss: 0.2028 - mae: 0.4083 - val_loss: 0.1916 - val_mae: 0.3921\n",
            "Epoch 213/250\n",
            "178/178 [==============================] - 46s 255ms/step - loss: 0.2028 - mae: 0.4088 - val_loss: 0.1876 - val_mae: 0.3878\n",
            "Epoch 214/250\n",
            "178/178 [==============================] - 47s 259ms/step - loss: 0.2025 - mae: 0.4054 - val_loss: 0.1821 - val_mae: 0.3819\n",
            "Epoch 215/250\n",
            "178/178 [==============================] - 47s 257ms/step - loss: 0.2034 - mae: 0.4065 - val_loss: 0.1951 - val_mae: 0.3943\n",
            "Epoch 216/250\n",
            "178/178 [==============================] - 47s 258ms/step - loss: 0.2051 - mae: 0.4091 - val_loss: 0.1871 - val_mae: 0.3869\n",
            "Epoch 217/250\n",
            "178/178 [==============================] - 45s 246ms/step - loss: 0.2104 - mae: 0.4159 - val_loss: 0.1950 - val_mae: 0.3942\n",
            "Epoch 218/250\n",
            "178/178 [==============================] - 52s 290ms/step - loss: 0.2063 - mae: 0.4126 - val_loss: 0.1958 - val_mae: 0.3949\n",
            "Epoch 219/250\n",
            "178/178 [==============================] - 47s 259ms/step - loss: 0.2018 - mae: 0.4069 - val_loss: 0.1880 - val_mae: 0.3882\n",
            "Epoch 220/250\n",
            "178/178 [==============================] - 47s 260ms/step - loss: 0.2030 - mae: 0.4079 - val_loss: 0.1826 - val_mae: 0.3826\n",
            "Epoch 221/250\n",
            "178/178 [==============================] - 47s 258ms/step - loss: 0.2030 - mae: 0.4070 - val_loss: 0.1812 - val_mae: 0.3805\n",
            "Epoch 222/250\n",
            "178/178 [==============================] - 47s 258ms/step - loss: 0.2028 - mae: 0.4069 - val_loss: 0.1856 - val_mae: 0.3851\n",
            "Epoch 223/250\n",
            "178/178 [==============================] - 45s 249ms/step - loss: 0.2056 - mae: 0.4077 - val_loss: 0.1804 - val_mae: 0.3793\n",
            "Epoch 224/250\n",
            "178/178 [==============================] - 48s 266ms/step - loss: 0.2016 - mae: 0.4061 - val_loss: 0.1823 - val_mae: 0.3814\n",
            "Epoch 225/250\n",
            "178/178 [==============================] - 47s 263ms/step - loss: 0.2047 - mae: 0.4083 - val_loss: 0.1914 - val_mae: 0.3899\n",
            "Epoch 226/250\n",
            "178/178 [==============================] - 47s 260ms/step - loss: 0.2081 - mae: 0.4118 - val_loss: 0.1944 - val_mae: 0.3927\n",
            "Epoch 227/250\n",
            "178/178 [==============================] - 47s 261ms/step - loss: 0.2045 - mae: 0.4093 - val_loss: 0.1999 - val_mae: 0.3979\n",
            "Epoch 228/250\n",
            "178/178 [==============================] - 45s 250ms/step - loss: 0.2023 - mae: 0.4064 - val_loss: 0.2024 - val_mae: 0.3991\n",
            "Epoch 229/250\n",
            "178/178 [==============================] - 47s 262ms/step - loss: 0.2008 - mae: 0.4046 - val_loss: 0.1831 - val_mae: 0.3808\n",
            "178/178 [==============================] - ETA: 0s - loss: 0.2008 - mae: 0.4046Epoch 230/250\n",
            "178/178 [==============================] - 48s 265ms/step - loss: 0.2020 - mae: 0.4039 - val_loss: 0.1798 - val_mae: 0.3768\n",
            "Epoch 231/250\n",
            "178/178 [==============================] - 47s 260ms/step - loss: 0.2039 - mae: 0.4076 - val_loss: 0.1894 - val_mae: 0.3871\n",
            "Epoch 232/250\n",
            "178/178 [==============================] - 49s 269ms/step - loss: 0.2103 - mae: 0.4117 - val_loss: 0.2008 - val_mae: 0.3981\n",
            "Epoch 233/250\n",
            "178/178 [==============================] - 47s 255ms/step - loss: 0.2062 - mae: 0.4094 - val_loss: 0.1896 - val_mae: 0.3877\n",
            "Epoch 234/250\n",
            "178/178 [==============================] - 47s 261ms/step - loss: 0.2007 - mae: 0.4047 - val_loss: 0.1849 - val_mae: 0.3831\n",
            "Epoch 235/250\n",
            "178/178 [==============================] - 48s 267ms/step - loss: 0.2073 - mae: 0.4118 - val_loss: 0.1873 - val_mae: 0.3854\n",
            "Epoch 236/250\n",
            "178/178 [==============================] - 47s 263ms/step - loss: 0.2027 - mae: 0.4059 - val_loss: 0.1886 - val_mae: 0.3869\n",
            "Epoch 237/250\n",
            "178/178 [==============================] - 47s 261ms/step - loss: 0.2035 - mae: 0.4078 - val_loss: 0.1978 - val_mae: 0.3952\n",
            "Epoch 238/250\n",
            "178/178 [==============================] - 46s 254ms/step - loss: 0.2008 - mae: 0.4049 - val_loss: 0.1941 - val_mae: 0.3924\n",
            "Epoch 239/250\n",
            "178/178 [==============================] - 48s 263ms/step - loss: 0.1996 - mae: 0.4029 - val_loss: 0.1925 - val_mae: 0.3904\n",
            "Epoch 240/250\n",
            "178/178 [==============================] - 48s 265ms/step - loss: 0.2021 - mae: 0.4064 - val_loss: 0.1856 - val_mae: 0.3840\n",
            "Epoch 241/250\n",
            "178/178 [==============================] - 47s 263ms/step - loss: 0.2075 - mae: 0.4109 - val_loss: 0.1905 - val_mae: 0.3884\n",
            "Epoch 242/250\n",
            "178/178 [==============================] - 47s 262ms/step - loss: 0.2049 - mae: 0.4075 - val_loss: 0.2121 - val_mae: 0.4068\n",
            "Epoch 243/250\n",
            "178/178 [==============================] - 42s 227ms/step - loss: 0.2040 - mae: 0.4076 - val_loss: 0.2051 - val_mae: 0.4010\n",
            "Epoch 244/250\n",
            "178/178 [==============================] - 47s 262ms/step - loss: 0.2055 - mae: 0.4106 - val_loss: 0.1864 - val_mae: 0.3847\n",
            "Epoch 245/250\n",
            "178/178 [==============================] - 47s 255ms/step - loss: 0.2054 - mae: 0.4087 - val_loss: 0.1979 - val_mae: 0.3951\n",
            "Epoch 246/250\n",
            "178/178 [==============================] - 48s 266ms/step - loss: 0.2006 - mae: 0.4037 - val_loss: 0.1820 - val_mae: 0.3800\n",
            "Epoch 247/250\n",
            "178/178 [==============================] - 50s 274ms/step - loss: 0.2072 - mae: 0.4117 - val_loss: 0.1922 - val_mae: 0.3905\n",
            "Epoch 248/250\n",
            "178/178 [==============================] - 47s 261ms/step - loss: 0.2051 - mae: 0.4088 - val_loss: 0.1866 - val_mae: 0.3851\n",
            "Epoch 249/250\n",
            "178/178 [==============================] - 46s 257ms/step - loss: 0.2060 - mae: 0.4085 - val_loss: 0.2057 - val_mae: 0.4029\n",
            "Epoch 250/250\n",
            "178/178 [==============================] - 46s 252ms/step - loss: 0.2040 - mae: 0.4079 - val_loss: 0.1980 - val_mae: 0.3962\n"
          ]
        }
      ]
    },
    {
      "cell_type": "code",
      "source": [
        "loss = history.history['loss']\n",
        "val_loss = history.history['val_loss']\n",
        "mae = history.history['mae']\n",
        "val_mae = history.history['val_mae']\n",
        "\n",
        "\n",
        "epochs_x = range(len(loss))\n",
        "\n",
        "\n",
        "plt.plot(epochs_x, mae, 'go', label='Training MAE')\n",
        "plt.plot(epochs_x, val_mae, 'k', label='Validation MAE')\n",
        "plt.title('Training and validation MeanAbsoluteError')\n",
        "plt.legend()\n",
        "\n",
        "plt.figure()\n",
        "plt.plot(epochs_x, loss, 'go', label='Training loss')\n",
        "plt.plot(epochs_x, val_loss, 'k', label='Validation loss')\n",
        "plt.title('Training and validation loss')\n",
        "plt.legend()\n",
        "\n",
        "plt.show()"
      ],
      "metadata": {
        "id": "Y3K89-CM-dfg",
        "colab": {
          "base_uri": "https://localhost:8080/",
          "height": 545
        },
        "outputId": "6247fe15-fa75-48a6-d94d-156f2043722c"
      },
      "execution_count": 17,
      "outputs": [
        {
          "output_type": "display_data",
          "data": {
            "text/plain": [
              "<Figure size 432x288 with 1 Axes>"
            ],
            "image/png": "[encoded data removed]"
          },
          "metadata": {
            "needs_background": "light"
          }
        },
        {
          "output_type": "display_data",
          "data": {
            "text/plain": [
              "<Figure size 432x288 with 1 Axes>"
            ],
            "image/png": "[encoded data removed]"
          },
          "metadata": {
            "needs_background": "light"
          }
        }
      ]
    },
    {
      "cell_type": "code",
      "source": [
        "epochs_x"
      ],
      "metadata": {
        "id": "N_sP_ZmSY-Jv",
        "colab": {
          "base_uri": "https://localhost:8080/"
        },
        "outputId": "e4b0a117-6c7c-41ba-93b5-0a0e53a85bfc"
      },
      "execution_count": 18,
      "outputs": [
        {
          "output_type": "execute_result",
          "data": {
            "text/plain": [
              "range(0, 250)"
            ]
          },
          "metadata": {},
          "execution_count": 18
        }
      ]
    },
    {
      "cell_type": "markdown",
      "source": [
        "#Download the model\n"
      ],
      "metadata": {
        "id": "R19IJQSYoW7J"
      }
    },
    {
      "cell_type": "code",
      "source": [
        "os.makedirs('/content/drive/My Drive/cut_panoramic/Model', exist_ok=True)\n",
        "model.save('/content/drive/My Drive/cut_panoramic/Model/2G_1e-4_16_0.2_Gender_250.h5')"
      ],
      "metadata": {
        "id": "Zed4TdFcG2iJ"
      },
      "execution_count": 19,
      "outputs": []
    },
    {
      "cell_type": "markdown",
      "source": [],
      "metadata": {
        "id": "n5YxZ-5QjQ0-"
      }
    },
    {
      "cell_type": "code",
      "source": [
        "# from google.colab import files\n",
        "# files.download('/content/drive/My Drive/cut_panoramic/Model/1.1_รอบแรก_Flimpano_Male125_250.h5')"
      ],
      "metadata": {
        "id": "P5eMxm1NV-oY"
      },
      "execution_count": 20,
      "outputs": []
    },
    {
      "cell_type": "code",
      "source": [
        "\n"
      ],
      "metadata": {
        "id": "wY_pDlxkRwxS"
      },
      "execution_count": 20,
      "outputs": []
    }
  ]
}