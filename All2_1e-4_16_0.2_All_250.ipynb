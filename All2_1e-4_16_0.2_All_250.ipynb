{
  "nbformat": 4,
  "nbformat_minor": 0,
  "metadata": {
    "colab": {
      "provenance": [],
      "include_colab_link": true
    },
    "kernelspec": {
      "name": "python3",
      "display_name": "Python 3"
    },
    "language_info": {
      "name": "python"
    },
    "accelerator": "GPU",
    "gpuClass": "standard"
  },
  "cells": [
    {
      "cell_type": "markdown",
      "metadata": {
        "id": "view-in-github",
        "colab_type": "text"
      },
      "source": [
        "<a href=\"https://colab.research.google.com/github/Wanita-8943/Project_2023/blob/main/All2_1e-4_16_0.2_All_250.ipynb\" target=\"_parent\"><img src=\"https://colab.research.google.com/assets/colab-badge.svg\" alt=\"Open In Colab\"/></a>"
      ]
    },
    {
      "cell_type": "markdown",
      "source": [
        "#เรียกใช้ CSV"
      ],
      "metadata": {
        "id": "ow7eWoNw6U-c"
      }
    },
    {
      "cell_type": "code",
      "execution_count": 1,
      "metadata": {
        "id": "z8o_VVNXzcL8"
      },
      "outputs": [],
      "source": [
        "import pandas as pd\n",
        "import shutil"
      ]
    },
    {
      "cell_type": "code",
      "source": [
        "from google.colab import drive\n",
        "drive.mount('/content/drive')"
      ],
      "metadata": {
        "colab": {
          "base_uri": "https://localhost:8080/"
        },
        "id": "1_2Fe8u81d5r",
        "outputId": "a881c416-a014-42bc-c47d-bfe6489aabf1"
      },
      "execution_count": 3,
      "outputs": [
        {
          "output_type": "stream",
          "name": "stdout",
          "text": [
            "Mounted at /content/drive\n"
          ]
        }
      ]
    },
    {
      "cell_type": "markdown",
      "source": [
        "#Imports"
      ],
      "metadata": {
        "id": "5qxePnnn7TGW"
      }
    },
    {
      "cell_type": "code",
      "source": [
        "from tensorflow.keras import models\n",
        "from tensorflow.keras import layers\n",
        "from tensorflow.keras import optimizers\n",
        "import os\n",
        "import glob\n",
        "import shutil\n",
        "import sys\n",
        "import numpy as np\n",
        "from skimage.io import imread\n",
        "import matplotlib.pyplot as plt\n",
        "from IPython.display import Image\n",
        "%matplotlib inline"
      ],
      "metadata": {
        "id": "D-hCRloc3t39"
      },
      "execution_count": 4,
      "outputs": []
    },
    {
      "cell_type": "code",
      "source": [
        "import tensorflow as tf\n",
        "from tensorflow.keras import Sequential\n",
        "from tensorflow.keras.layers import Dense\n",
        "from tensorflow.keras.optimizers import Adam\n",
        "from tensorflow.keras import backend as K"
      ],
      "metadata": {
        "id": "YZWXwjXeGxZP"
      },
      "execution_count": 5,
      "outputs": []
    },
    {
      "cell_type": "markdown",
      "source": [
        "#กำหนดค่าพารามิเตอร์\n"
      ],
      "metadata": {
        "id": "RooqSdBc7QHC"
      }
    },
    {
      "cell_type": "code",
      "source": [
        "batch_size = 16\n",
        "width = 150\n",
        "height = 150\n",
        "epochs = 250\n",
        "NUM_TRAIN = 2850\n",
        "NUM_TEST = 950\n",
        "dropout_rate = 0.2\n",
        "input_shape = (height, width, 3)"
      ],
      "metadata": {
        "id": "thDb7U9B3xOo"
      },
      "execution_count": 6,
      "outputs": []
    },
    {
      "cell_type": "markdown",
      "source": [
        "#Clone efficientnet repo\n"
      ],
      "metadata": {
        "id": "pumGmy6f3eSW"
      }
    },
    {
      "cell_type": "code",
      "source": [
        "#ดึงข้อมูลใน Github มาใช้\n",
        "import os\n",
        "%cd /content\n",
        "if not os.path.isdir(\"efficientnet_keras_transfer_learning\"):\n",
        " !git clone https://github.com/Wanita-8943/efficientnet_keras_transfer_learning\n",
        "%cd efficientnet_keras_transfer_learning/\n"
      ],
      "metadata": {
        "colab": {
          "base_uri": "https://localhost:8080/"
        },
        "id": "P7iy2f8n16p0",
        "outputId": "8a2c65aa-f145-4fd7-fd30-1baae4790a6e"
      },
      "execution_count": 7,
      "outputs": [
        {
          "output_type": "stream",
          "name": "stdout",
          "text": [
            "/content\n",
            "Cloning into 'efficientnet_keras_transfer_learning'...\n",
            "remote: Enumerating objects: 837, done.\u001b[K\n",
            "remote: Counting objects: 100% (359/359), done.\u001b[K\n",
            "remote: Compressing objects: 100% (124/124), done.\u001b[K\n",
            "remote: Total 837 (delta 255), reused 328 (delta 235), pack-reused 478\u001b[K\n",
            "Receiving objects: 100% (837/837), 13.82 MiB | 20.84 MiB/s, done.\n",
            "Resolving deltas: 100% (495/495), done.\n",
            "/content/efficientnet_keras_transfer_learning\n"
          ]
        }
      ]
    },
    {
      "cell_type": "code",
      "source": [
        "# Options: EfficientNetB0, EfficientNetB1, EfficientNetB2, EfficientNetB3\n",
        "# Higher the number, the more complex the model is.\n",
        "from efficientnet import EfficientNetB0 as Net\n",
        "from efficientnet import center_crop_and_resize, preprocess_input"
      ],
      "metadata": {
        "id": "tjZBRnfo3bN0"
      },
      "execution_count": 8,
      "outputs": []
    },
    {
      "cell_type": "markdown",
      "source": [
        "#load model\n"
      ],
      "metadata": {
        "id": "PdNWyD-QYkzK"
      }
    },
    {
      "cell_type": "code",
      "source": [
        "import sys\n",
        "sys.path.append('/content/drive/MyDrive/cut_panoramic/Model/1Re_All_1G_1e-4_16_0.2_250.h5')\n",
        "\n",
        "from efficientnet.layers import Swish, DropConnect\n",
        "from efficientnet.model import ConvKernalInitializer\n",
        "from tensorflow.keras.utils import get_custom_objects\n",
        "\n",
        "get_custom_objects().update({\n",
        "    'ConvKernalInitializer': ConvKernalInitializer,\n",
        "    'Swish': Swish,\n",
        "    'DropConnect':DropConnect\n",
        "})"
      ],
      "metadata": {
        "id": "_gPnx2UvYf5A"
      },
      "execution_count": 9,
      "outputs": []
    },
    {
      "cell_type": "code",
      "source": [
        "#load model \n",
        "from tensorflow.keras.models import load_model\n",
        "model = load_model('/content/drive/MyDrive/cut_panoramic/Model/1Re_All_1G_1e-4_16_0.2_250.h5')\n",
        "height = width = model.input_shape[1]"
      ],
      "metadata": {
        "id": "Nu93WzFUYm9e",
        "colab": {
          "base_uri": "https://localhost:8080/"
        },
        "outputId": "99f5a774-09ca-4c9e-d58d-08f6e19307b5"
      },
      "execution_count": 10,
      "outputs": [
        {
          "output_type": "stream",
          "name": "stderr",
          "text": [
            "WARNING:tensorflow:From /usr/local/lib/python3.8/dist-packages/tensorflow/python/autograph/pyct/static_analysis/liveness.py:83: Analyzer.lamba_check (from tensorflow.python.autograph.pyct.static_analysis.liveness) is deprecated and will be removed after 2023-09-23.\n",
            "Instructions for updating:\n",
            "Lambda fuctions will be no more assumed to be used in the statement where they are used, or at least in the same block. https://github.com/tensorflow/tensorflow/issues/56089\n"
          ]
        }
      ]
    },
    {
      "cell_type": "code",
      "source": [
        "model.summary()"
      ],
      "metadata": {
        "id": "gp5EbyyXYvc6",
        "colab": {
          "base_uri": "https://localhost:8080/"
        },
        "outputId": "92d1066d-babb-4d64-e6af-a8815aa2de8f"
      },
      "execution_count": 11,
      "outputs": [
        {
          "output_type": "stream",
          "name": "stdout",
          "text": [
            "Model: \"sequential\"\n",
            "_________________________________________________________________\n",
            " Layer (type)                Output Shape              Param #   \n",
            "=================================================================\n",
            " efficientnet-b0 (Functional  (None, 5, 5, 1280)       4049564   \n",
            " )                                                               \n",
            "                                                                 \n",
            " gap (GlobalMaxPooling2D)    (None, 1280)              0         \n",
            "                                                                 \n",
            " dropout_out (Dropout)       (None, 1280)              0         \n",
            "                                                                 \n",
            " fc_out (Dense)              (None, 19)                24339     \n",
            "                                                                 \n",
            " dense (Dense)               (None, 1)                 20        \n",
            "                                                                 \n",
            "=================================================================\n",
            "Total params: 4,073,923\n",
            "Trainable params: 24,359\n",
            "Non-trainable params: 4,049,564\n",
            "_________________________________________________________________\n"
          ]
        }
      ]
    },
    {
      "cell_type": "code",
      "source": [
        "df = pd.read_csv (r'/content/drive/MyDrive/cut_panoramic/Data/All_Re.csv')\n",
        "df"
      ],
      "metadata": {
        "id": "q1Dc131_Y3uA",
        "colab": {
          "base_uri": "https://localhost:8080/",
          "height": 423
        },
        "outputId": "78c6f1b7-0071-48f9-8cf1-897a55d7e154"
      },
      "execution_count": 13,
      "outputs": [
        {
          "output_type": "execute_result",
          "data": {
            "text/plain": [
              "      Fig_Age  Fig_Person_Sex  Age(year) Class  Class_Re       Filename  \\\n",
              "0           1               1          7  Y07F         1         V1.jpg   \n",
              "1           2               1          7  Y07F         1    Flip_V1.jpg   \n",
              "2           3               2          7  Y07F         1         V2.jpg   \n",
              "3           4               2          7  Y07F         1    Flip_V2.jpg   \n",
              "4           5               3          7  Y07F         1         V3.jpg   \n",
              "...       ...             ...        ...   ...       ...            ...   \n",
              "4745      121              77         25  Y25M        19  Flip_J463.jpg   \n",
              "4746      122              78         25  Y25M        19       J464.jpg   \n",
              "4747      123              78         25  Y25M        19  Flip_J464.jpg   \n",
              "4748      124              79         25  Y25M        19       J465.jpg   \n",
              "4749      125              79         25  Y25M        19  Flip_J465.jpg   \n",
              "\n",
              "                                          Path_filename     Sex Floder  \n",
              "0     /content/drive/My Drive/TVT_Gender/train/Femal...  Female   Both  \n",
              "1     /content/drive/My Drive/TVT_Gender/train/Femal...  Female   Both  \n",
              "2     /content/drive/My Drive/TVT_Gender/train/Femal...  Female   Both  \n",
              "3     /content/drive/My Drive/TVT_Gender/train/Femal...  Female   Both  \n",
              "4     /content/drive/My Drive/TVT_Gender/train/Femal...  Female   Both  \n",
              "...                                                 ...     ...    ...  \n",
              "4745  /content/drive/My Drive/TVT_Gender/test/Male/F...    Male   Both  \n",
              "4746  /content/drive/My Drive/TVT_Gender/test/Male/J...    Male   Both  \n",
              "4747  /content/drive/My Drive/TVT_Gender/test/Male/F...    Male   Both  \n",
              "4748  /content/drive/My Drive/TVT_Gender/test/Male/J...    Male   Both  \n",
              "4749  /content/drive/My Drive/TVT_Gender/test/Male/F...    Male   Both  \n",
              "\n",
              "[4750 rows x 9 columns]"
            ],
            "text/html": [
              "\n",
              "  <div id=\"df-fec5882f-51ad-4e79-8dae-9748e5ea0874\">\n",
              "    <div class=\"colab-df-container\">\n",
              "      <div>\n",
              "<style scoped>\n",
              "    .dataframe tbody tr th:only-of-type {\n",
              "        vertical-align: middle;\n",
              "    }\n",
              "\n",
              "    .dataframe tbody tr th {\n",
              "        vertical-align: top;\n",
              "    }\n",
              "\n",
              "    .dataframe thead th {\n",
              "        text-align: right;\n",
              "    }\n",
              "</style>\n",
              "<table border=\"1\" class=\"dataframe\">\n",
              "  <thead>\n",
              "    <tr style=\"text-align: right;\">\n",
              "      <th></th>\n",
              "      <th>Fig_Age</th>\n",
              "      <th>Fig_Person_Sex</th>\n",
              "      <th>Age(year)</th>\n",
              "      <th>Class</th>\n",
              "      <th>Class_Re</th>\n",
              "      <th>Filename</th>\n",
              "      <th>Path_filename</th>\n",
              "      <th>Sex</th>\n",
              "      <th>Floder</th>\n",
              "    </tr>\n",
              "  </thead>\n",
              "  <tbody>\n",
              "    <tr>\n",
              "      <th>0</th>\n",
              "      <td>1</td>\n",
              "      <td>1</td>\n",
              "      <td>7</td>\n",
              "      <td>Y07F</td>\n",
              "      <td>1</td>\n",
              "      <td>V1.jpg</td>\n",
              "      <td>/content/drive/My Drive/TVT_Gender/train/Femal...</td>\n",
              "      <td>Female</td>\n",
              "      <td>Both</td>\n",
              "    </tr>\n",
              "    <tr>\n",
              "      <th>1</th>\n",
              "      <td>2</td>\n",
              "      <td>1</td>\n",
              "      <td>7</td>\n",
              "      <td>Y07F</td>\n",
              "      <td>1</td>\n",
              "      <td>Flip_V1.jpg</td>\n",
              "      <td>/content/drive/My Drive/TVT_Gender/train/Femal...</td>\n",
              "      <td>Female</td>\n",
              "      <td>Both</td>\n",
              "    </tr>\n",
              "    <tr>\n",
              "      <th>2</th>\n",
              "      <td>3</td>\n",
              "      <td>2</td>\n",
              "      <td>7</td>\n",
              "      <td>Y07F</td>\n",
              "      <td>1</td>\n",
              "      <td>V2.jpg</td>\n",
              "      <td>/content/drive/My Drive/TVT_Gender/train/Femal...</td>\n",
              "      <td>Female</td>\n",
              "      <td>Both</td>\n",
              "    </tr>\n",
              "    <tr>\n",
              "      <th>3</th>\n",
              "      <td>4</td>\n",
              "      <td>2</td>\n",
              "      <td>7</td>\n",
              "      <td>Y07F</td>\n",
              "      <td>1</td>\n",
              "      <td>Flip_V2.jpg</td>\n",
              "      <td>/content/drive/My Drive/TVT_Gender/train/Femal...</td>\n",
              "      <td>Female</td>\n",
              "      <td>Both</td>\n",
              "    </tr>\n",
              "    <tr>\n",
              "      <th>4</th>\n",
              "      <td>5</td>\n",
              "      <td>3</td>\n",
              "      <td>7</td>\n",
              "      <td>Y07F</td>\n",
              "      <td>1</td>\n",
              "      <td>V3.jpg</td>\n",
              "      <td>/content/drive/My Drive/TVT_Gender/train/Femal...</td>\n",
              "      <td>Female</td>\n",
              "      <td>Both</td>\n",
              "    </tr>\n",
              "    <tr>\n",
              "      <th>...</th>\n",
              "      <td>...</td>\n",
              "      <td>...</td>\n",
              "      <td>...</td>\n",
              "      <td>...</td>\n",
              "      <td>...</td>\n",
              "      <td>...</td>\n",
              "      <td>...</td>\n",
              "      <td>...</td>\n",
              "      <td>...</td>\n",
              "    </tr>\n",
              "    <tr>\n",
              "      <th>4745</th>\n",
              "      <td>121</td>\n",
              "      <td>77</td>\n",
              "      <td>25</td>\n",
              "      <td>Y25M</td>\n",
              "      <td>19</td>\n",
              "      <td>Flip_J463.jpg</td>\n",
              "      <td>/content/drive/My Drive/TVT_Gender/test/Male/F...</td>\n",
              "      <td>Male</td>\n",
              "      <td>Both</td>\n",
              "    </tr>\n",
              "    <tr>\n",
              "      <th>4746</th>\n",
              "      <td>122</td>\n",
              "      <td>78</td>\n",
              "      <td>25</td>\n",
              "      <td>Y25M</td>\n",
              "      <td>19</td>\n",
              "      <td>J464.jpg</td>\n",
              "      <td>/content/drive/My Drive/TVT_Gender/test/Male/J...</td>\n",
              "      <td>Male</td>\n",
              "      <td>Both</td>\n",
              "    </tr>\n",
              "    <tr>\n",
              "      <th>4747</th>\n",
              "      <td>123</td>\n",
              "      <td>78</td>\n",
              "      <td>25</td>\n",
              "      <td>Y25M</td>\n",
              "      <td>19</td>\n",
              "      <td>Flip_J464.jpg</td>\n",
              "      <td>/content/drive/My Drive/TVT_Gender/test/Male/F...</td>\n",
              "      <td>Male</td>\n",
              "      <td>Both</td>\n",
              "    </tr>\n",
              "    <tr>\n",
              "      <th>4748</th>\n",
              "      <td>124</td>\n",
              "      <td>79</td>\n",
              "      <td>25</td>\n",
              "      <td>Y25M</td>\n",
              "      <td>19</td>\n",
              "      <td>J465.jpg</td>\n",
              "      <td>/content/drive/My Drive/TVT_Gender/test/Male/J...</td>\n",
              "      <td>Male</td>\n",
              "      <td>Both</td>\n",
              "    </tr>\n",
              "    <tr>\n",
              "      <th>4749</th>\n",
              "      <td>125</td>\n",
              "      <td>79</td>\n",
              "      <td>25</td>\n",
              "      <td>Y25M</td>\n",
              "      <td>19</td>\n",
              "      <td>Flip_J465.jpg</td>\n",
              "      <td>/content/drive/My Drive/TVT_Gender/test/Male/F...</td>\n",
              "      <td>Male</td>\n",
              "      <td>Both</td>\n",
              "    </tr>\n",
              "  </tbody>\n",
              "</table>\n",
              "<p>4750 rows × 9 columns</p>\n",
              "</div>\n",
              "      <button class=\"colab-df-convert\" onclick=\"convertToInteractive('df-fec5882f-51ad-4e79-8dae-9748e5ea0874')\"\n",
              "              title=\"Convert this dataframe to an interactive table.\"\n",
              "              style=\"display:none;\">\n",
              "        \n",
              "  <svg xmlns=\"http://www.w3.org/2000/svg\" height=\"24px\"viewBox=\"0 0 24 24\"\n",
              "       width=\"24px\">\n",
              "    <path d=\"M0 0h24v24H0V0z\" fill=\"none\"/>\n",
              "    <path d=\"M18.56 5.44l.94 2.06.94-2.06 2.06-.94-2.06-.94-.94-2.06-.94 2.06-2.06.94zm-11 1L8.5 8.5l.94-2.06 2.06-.94-2.06-.94L8.5 2.5l-.94 2.06-2.06.94zm10 10l.94 2.06.94-2.06 2.06-.94-2.06-.94-.94-2.06-.94 2.06-2.06.94z\"/><path d=\"M17.41 7.96l-1.37-1.37c-.4-.4-.92-.59-1.43-.59-.52 0-1.04.2-1.43.59L10.3 9.45l-7.72 7.72c-.78.78-.78 2.05 0 2.83L4 21.41c.39.39.9.59 1.41.59.51 0 1.02-.2 1.41-.59l7.78-7.78 2.81-2.81c.8-.78.8-2.07 0-2.86zM5.41 20L4 18.59l7.72-7.72 1.47 1.35L5.41 20z\"/>\n",
              "  </svg>\n",
              "      </button>\n",
              "      \n",
              "  <style>\n",
              "    .colab-df-container {\n",
              "      display:flex;\n",
              "      flex-wrap:wrap;\n",
              "      gap: 12px;\n",
              "    }\n",
              "\n",
              "    .colab-df-convert {\n",
              "      background-color: #E8F0FE;\n",
              "      border: none;\n",
              "      border-radius: 50%;\n",
              "      cursor: pointer;\n",
              "      display: none;\n",
              "      fill: #1967D2;\n",
              "      height: 32px;\n",
              "      padding: 0 0 0 0;\n",
              "      width: 32px;\n",
              "    }\n",
              "\n",
              "    .colab-df-convert:hover {\n",
              "      background-color: #E2EBFA;\n",
              "      box-shadow: 0px 1px 2px rgba(60, 64, 67, 0.3), 0px 1px 3px 1px rgba(60, 64, 67, 0.15);\n",
              "      fill: #174EA6;\n",
              "    }\n",
              "\n",
              "    [theme=dark] .colab-df-convert {\n",
              "      background-color: #3B4455;\n",
              "      fill: #D2E3FC;\n",
              "    }\n",
              "\n",
              "    [theme=dark] .colab-df-convert:hover {\n",
              "      background-color: #434B5C;\n",
              "      box-shadow: 0px 1px 3px 1px rgba(0, 0, 0, 0.15);\n",
              "      filter: drop-shadow(0px 1px 2px rgba(0, 0, 0, 0.3));\n",
              "      fill: #FFFFFF;\n",
              "    }\n",
              "  </style>\n",
              "\n",
              "      <script>\n",
              "        const buttonEl =\n",
              "          document.querySelector('#df-fec5882f-51ad-4e79-8dae-9748e5ea0874 button.colab-df-convert');\n",
              "        buttonEl.style.display =\n",
              "          google.colab.kernel.accessAllowed ? 'block' : 'none';\n",
              "\n",
              "        async function convertToInteractive(key) {\n",
              "          const element = document.querySelector('#df-fec5882f-51ad-4e79-8dae-9748e5ea0874');\n",
              "          const dataTable =\n",
              "            await google.colab.kernel.invokeFunction('convertToInteractive',\n",
              "                                                     [key], {});\n",
              "          if (!dataTable) return;\n",
              "\n",
              "          const docLinkHtml = 'Like what you see? Visit the ' +\n",
              "            '<a target=\"_blank\" href=https://colab.research.google.com/notebooks/data_table.ipynb>data table notebook</a>'\n",
              "            + ' to learn more about interactive tables.';\n",
              "          element.innerHTML = '';\n",
              "          dataTable['output_type'] = 'display_data';\n",
              "          await google.colab.output.renderOutput(dataTable, element);\n",
              "          const docLink = document.createElement('div');\n",
              "          docLink.innerHTML = docLinkHtml;\n",
              "          element.appendChild(docLink);\n",
              "        }\n",
              "      </script>\n",
              "    </div>\n",
              "  </div>\n",
              "  "
            ]
          },
          "metadata": {},
          "execution_count": 13
        }
      ]
    },
    {
      "cell_type": "code",
      "source": [
        "train = df[df['Fig_Age'].between(1,75)]\n",
        "val = df[df['Fig_Age'].between(76,100)]"
      ],
      "metadata": {
        "id": "Z1zBw01Gl8Ac"
      },
      "execution_count": 14,
      "outputs": []
    },
    {
      "cell_type": "code",
      "source": [
        "DATA_PATH = \"/content/drive/My Drive/TVT_Gender\"\n",
        "os.chdir(DATA_PATH)\n",
        "train_dir = os.path.join(DATA_PATH, 'train')\n",
        "print(train_dir)\n",
        "validation_dir = os.path.join(DATA_PATH, 'validation')\n",
        "print(validation_dir)"
      ],
      "metadata": {
        "colab": {
          "base_uri": "https://localhost:8080/"
        },
        "id": "QL0g-8iOnMC4",
        "outputId": "f100d74c-ea0f-4b47-80fd-ae77ad5fb3fb"
      },
      "execution_count": 15,
      "outputs": [
        {
          "output_type": "stream",
          "name": "stdout",
          "text": [
            "/content/drive/My Drive/TVT_Gender/train\n",
            "/content/drive/My Drive/TVT_Gender/validation\n"
          ]
        }
      ]
    },
    {
      "cell_type": "markdown",
      "source": [
        "\n",
        "#Train"
      ],
      "metadata": {
        "id": "bWEnlTSwazL5"
      }
    },
    {
      "cell_type": "code",
      "source": [
        "# Train ด้วย ImageDataGenerator ของ Keras ซึ่งจะเพิ่มข้อมูลเสริมระหว่างการฝึกเพื่อลดโอกาสเกิด overfitting\n",
        "#overfitting เกิดจากข้อมูลที่ซับซ้อนกันเกินไป\n",
        "from tensorflow.keras.preprocessing.image import ImageDataGenerator\n",
        "\n",
        "train_datagen = ImageDataGenerator(\n",
        "      rescale=1./255, #โมเดลส่วนใหญ่ต้องใช้ RGB ในช่วง 0–1\n",
        "      rotation_range=40,\n",
        "      width_shift_range=0.2,\n",
        "      height_shift_range=0.2,\n",
        "      shear_range=0.2,\n",
        "      zoom_range=0.2,\n",
        "      horizontal_flip=True,\n",
        "      fill_mode='nearest')\n",
        "\n",
        "# Note that the validation data should not be augmented!\n",
        "test_datagen = ImageDataGenerator(rescale=1./255)"
      ],
      "metadata": {
        "id": "xGPrsn9no_pa"
      },
      "execution_count": 16,
      "outputs": []
    },
    {
      "cell_type": "code",
      "source": [
        "train_generator = train_datagen.flow_from_dataframe(\n",
        "        dataframe = train,\n",
        "        directory = train_dir,\n",
        "        x_col = 'Path_filename',\n",
        "        y_col = 'Class_Re',\n",
        "        class_mode = 'other',\n",
        "        target_size=(height, width),\n",
        "        batch_size=batch_size)\n",
        "\n",
        "validation_generator = test_datagen.flow_from_dataframe(\n",
        "        dataframe = val,\n",
        "        directory = validation_dir,\n",
        "        x_col = 'Path_filename',\n",
        "        y_col = 'Class_Re',\n",
        "        class_mode = 'other',\n",
        "        target_size=(height, width),\n",
        "        batch_size=batch_size)"
      ],
      "metadata": {
        "colab": {
          "base_uri": "https://localhost:8080/"
        },
        "id": "8nVlmAszntK_",
        "outputId": "873a0226-6d1e-4db5-e4c6-00d451549136"
      },
      "execution_count": 17,
      "outputs": [
        {
          "output_type": "stream",
          "name": "stdout",
          "text": [
            "Found 2850 validated image filenames.\n",
            "Found 950 validated image filenames.\n"
          ]
        }
      ]
    },
    {
      "cell_type": "code",
      "source": [
        "model.compile(loss='mse',\n",
        "          optimizer=Adam(learning_rate=1e-4),\n",
        "          metrics=['mae'])\n",
        "history = model.fit_generator(\n",
        "      train_generator,\n",
        "      steps_per_epoch= NUM_TRAIN //batch_size,\n",
        "      epochs=epochs,\n",
        "      validation_data=validation_generator,\n",
        "      validation_steps= NUM_TEST //batch_size,\n",
        "      verbose=1,\n",
        "      use_multiprocessing=True,\n",
        "      workers=4)"
      ],
      "metadata": {
        "id": "N6qUmmF856ZE",
        "outputId": "bae40cac-0463-49c1-9bee-2798322c8360",
        "colab": {
          "base_uri": "https://localhost:8080/"
        }
      },
      "execution_count": 18,
      "outputs": [
        {
          "output_type": "stream",
          "name": "stderr",
          "text": [
            "<ipython-input-18-f59104fd3985>:4: UserWarning: `Model.fit_generator` is deprecated and will be removed in a future version. Please use `Model.fit`, which supports generators.\n",
            "  history = model.fit_generator(\n"
          ]
        },
        {
          "output_type": "stream",
          "name": "stdout",
          "text": [
            "Epoch 1/250\n",
            "178/178 [==============================] - 233s 1s/step - loss: 31.8524 - mae: 4.8445 - val_loss: 32.0440 - val_mae: 4.8645\n",
            "Epoch 2/250\n",
            "178/178 [==============================] - 44s 243ms/step - loss: 31.8091 - mae: 4.8449 - val_loss: 31.8960 - val_mae: 4.8512\n",
            "Epoch 3/250\n",
            "178/178 [==============================] - 44s 246ms/step - loss: 31.8045 - mae: 4.8438 - val_loss: 31.7447 - val_mae: 4.8423\n",
            "Epoch 4/250\n",
            "178/178 [==============================] - 43s 239ms/step - loss: 31.7243 - mae: 4.8391 - val_loss: 31.5700 - val_mae: 4.8293\n",
            "Epoch 5/250\n",
            "178/178 [==============================] - 43s 235ms/step - loss: 31.6627 - mae: 4.8361 - val_loss: 31.6397 - val_mae: 4.8353\n",
            "Epoch 6/250\n",
            "178/178 [==============================] - 44s 241ms/step - loss: 31.6158 - mae: 4.8340 - val_loss: 31.5702 - val_mae: 4.8330\n",
            "Epoch 7/250\n",
            "178/178 [==============================] - 42s 232ms/step - loss: 31.5342 - mae: 4.8282 - val_loss: 31.5333 - val_mae: 4.8263\n",
            "Epoch 8/250\n",
            "178/178 [==============================] - 43s 236ms/step - loss: 31.4294 - mae: 4.8176 - val_loss: 31.3005 - val_mae: 4.8068\n",
            "Epoch 9/250\n",
            "178/178 [==============================] - 45s 252ms/step - loss: 31.4272 - mae: 4.8225 - val_loss: 31.2211 - val_mae: 4.8015\n",
            "Epoch 10/250\n",
            "178/178 [==============================] - 43s 241ms/step - loss: 31.3878 - mae: 4.8194 - val_loss: 31.3694 - val_mae: 4.8170\n",
            "Epoch 11/250\n",
            "178/178 [==============================] - 43s 241ms/step - loss: 31.2573 - mae: 4.8095 - val_loss: 31.1856 - val_mae: 4.8020\n",
            "Epoch 12/250\n",
            "178/178 [==============================] - 45s 252ms/step - loss: 31.2307 - mae: 4.8061 - val_loss: 31.1828 - val_mae: 4.8025\n",
            "Epoch 13/250\n",
            "178/178 [==============================] - 42s 230ms/step - loss: 31.2965 - mae: 4.8135 - val_loss: 31.2190 - val_mae: 4.8044\n",
            "Epoch 14/250\n",
            "178/178 [==============================] - 42s 231ms/step - loss: 31.1151 - mae: 4.7983 - val_loss: 31.2368 - val_mae: 4.8076\n",
            "Epoch 15/250\n",
            "178/178 [==============================] - 45s 251ms/step - loss: 31.1938 - mae: 4.8040 - val_loss: 31.1260 - val_mae: 4.7999\n",
            "Epoch 16/250\n",
            "178/178 [==============================] - 43s 240ms/step - loss: 31.0534 - mae: 4.7923 - val_loss: 31.0002 - val_mae: 4.7872\n",
            "Epoch 17/250\n",
            "178/178 [==============================] - 41s 230ms/step - loss: 31.0324 - mae: 4.7914 - val_loss: 31.0421 - val_mae: 4.7914\n",
            "Epoch 18/250\n",
            "178/178 [==============================] - 42s 231ms/step - loss: 31.0161 - mae: 4.7908 - val_loss: 31.0703 - val_mae: 4.8002\n",
            "Epoch 19/250\n",
            "178/178 [==============================] - 43s 240ms/step - loss: 30.9780 - mae: 4.7905 - val_loss: 31.0126 - val_mae: 4.7958\n",
            "Epoch 20/250\n",
            "178/178 [==============================] - 42s 233ms/step - loss: 30.9006 - mae: 4.7840 - val_loss: 30.8349 - val_mae: 4.7811\n",
            "Epoch 21/250\n",
            "178/178 [==============================] - 43s 240ms/step - loss: 30.9214 - mae: 4.7896 - val_loss: 30.9689 - val_mae: 4.7971\n",
            "Epoch 22/250\n",
            "178/178 [==============================] - 46s 253ms/step - loss: 30.8101 - mae: 4.7822 - val_loss: 30.9156 - val_mae: 4.7899\n",
            "Epoch 23/250\n",
            "178/178 [==============================] - 44s 243ms/step - loss: 30.8782 - mae: 4.7905 - val_loss: 30.9028 - val_mae: 4.7942\n",
            "Epoch 24/250\n",
            "178/178 [==============================] - 43s 237ms/step - loss: 30.7832 - mae: 4.7831 - val_loss: 30.8411 - val_mae: 4.7901\n",
            "Epoch 25/250\n",
            "178/178 [==============================] - 44s 243ms/step - loss: 30.7521 - mae: 4.7821 - val_loss: 30.7447 - val_mae: 4.7801\n",
            "Epoch 26/250\n",
            "178/178 [==============================] - 42s 232ms/step - loss: 30.7042 - mae: 4.7805 - val_loss: 30.8078 - val_mae: 4.7921\n",
            "Epoch 27/250\n",
            "178/178 [==============================] - 43s 239ms/step - loss: 30.7143 - mae: 4.7804 - val_loss: 30.6385 - val_mae: 4.7767\n",
            "Epoch 28/250\n",
            "178/178 [==============================] - 45s 250ms/step - loss: 30.6179 - mae: 4.7751 - val_loss: 30.7050 - val_mae: 4.7839\n",
            "Epoch 29/250\n",
            "178/178 [==============================] - 42s 232ms/step - loss: 30.5936 - mae: 4.7758 - val_loss: 30.6025 - val_mae: 4.7771\n",
            "Epoch 30/250\n",
            "178/178 [==============================] - 43s 239ms/step - loss: 30.5815 - mae: 4.7750 - val_loss: 30.6249 - val_mae: 4.7811\n",
            "Epoch 31/250\n",
            "178/178 [==============================] - 44s 241ms/step - loss: 30.6611 - mae: 4.7861 - val_loss: 30.6135 - val_mae: 4.7807\n",
            "Epoch 32/250\n",
            "178/178 [==============================] - 43s 235ms/step - loss: 30.6531 - mae: 4.7853 - val_loss: 30.6085 - val_mae: 4.7846\n",
            "Epoch 33/250\n",
            "178/178 [==============================] - 42s 232ms/step - loss: 30.5485 - mae: 4.7764 - val_loss: 30.5079 - val_mae: 4.7727\n",
            "Epoch 34/250\n",
            "178/178 [==============================] - 44s 241ms/step - loss: 30.5348 - mae: 4.7773 - val_loss: 30.5025 - val_mae: 4.7727\n",
            "Epoch 35/250\n",
            "178/178 [==============================] - 42s 230ms/step - loss: 30.3647 - mae: 4.7620 - val_loss: 30.4204 - val_mae: 4.7693\n",
            "Epoch 36/250\n",
            "178/178 [==============================] - 40s 220ms/step - loss: 30.4640 - mae: 4.7726 - val_loss: 30.3524 - val_mae: 4.7622\n",
            "Epoch 37/250\n",
            "178/178 [==============================] - 46s 255ms/step - loss: 30.4218 - mae: 4.7717 - val_loss: 30.3949 - val_mae: 4.7650\n",
            "Epoch 38/250\n",
            "178/178 [==============================] - 43s 241ms/step - loss: 30.3868 - mae: 4.7677 - val_loss: 30.3924 - val_mae: 4.7686\n",
            "Epoch 39/250\n",
            "178/178 [==============================] - 43s 240ms/step - loss: 30.4299 - mae: 4.7739 - val_loss: 30.4013 - val_mae: 4.7705\n",
            "Epoch 40/250\n",
            "178/178 [==============================] - 42s 231ms/step - loss: 30.4019 - mae: 4.7710 - val_loss: 30.3468 - val_mae: 4.7657\n",
            "Epoch 41/250\n",
            "178/178 [==============================] - 42s 230ms/step - loss: 30.4294 - mae: 4.7732 - val_loss: 30.3442 - val_mae: 4.7669\n",
            "Epoch 42/250\n",
            "178/178 [==============================] - 42s 230ms/step - loss: 30.3091 - mae: 4.7642 - val_loss: 30.2267 - val_mae: 4.7566\n",
            "Epoch 43/250\n",
            "178/178 [==============================] - 41s 227ms/step - loss: 30.3384 - mae: 4.7678 - val_loss: 30.2918 - val_mae: 4.7664\n",
            "Epoch 44/250\n",
            "178/178 [==============================] - 43s 239ms/step - loss: 30.3671 - mae: 4.7702 - val_loss: 30.2380 - val_mae: 4.7593\n",
            "Epoch 45/250\n",
            "178/178 [==============================] - 44s 242ms/step - loss: 30.2813 - mae: 4.7639 - val_loss: 30.3877 - val_mae: 4.7758\n",
            "Epoch 46/250\n",
            "178/178 [==============================] - 43s 234ms/step - loss: 30.2764 - mae: 4.7621 - val_loss: 30.3163 - val_mae: 4.7687\n",
            "Epoch 47/250\n",
            "178/178 [==============================] - 40s 219ms/step - loss: 30.3148 - mae: 4.7686 - val_loss: 30.2083 - val_mae: 4.7563\n",
            "Epoch 48/250\n",
            "178/178 [==============================] - 41s 229ms/step - loss: 30.2419 - mae: 4.7591 - val_loss: 30.3492 - val_mae: 4.7716\n",
            "Epoch 49/250\n",
            "178/178 [==============================] - 42s 234ms/step - loss: 30.2654 - mae: 4.7637 - val_loss: 30.2035 - val_mae: 4.7583\n",
            "Epoch 50/250\n",
            "178/178 [==============================] - 46s 253ms/step - loss: 30.1614 - mae: 4.7568 - val_loss: 30.2834 - val_mae: 4.7693\n",
            "Epoch 51/250\n",
            "178/178 [==============================] - 43s 241ms/step - loss: 30.1183 - mae: 4.7512 - val_loss: 30.2213 - val_mae: 4.7603\n",
            "Epoch 52/250\n",
            "178/178 [==============================] - 43s 240ms/step - loss: 30.2267 - mae: 4.7622 - val_loss: 30.2074 - val_mae: 4.7616\n",
            "Epoch 53/250\n",
            "178/178 [==============================] - 44s 242ms/step - loss: 30.2410 - mae: 4.7645 - val_loss: 30.1777 - val_mae: 4.7593\n",
            "Epoch 54/250\n",
            "178/178 [==============================] - 46s 253ms/step - loss: 30.2228 - mae: 4.7634 - val_loss: 30.0902 - val_mae: 4.7478\n",
            "Epoch 55/250\n",
            "178/178 [==============================] - 40s 219ms/step - loss: 30.2200 - mae: 4.7629 - val_loss: 30.2225 - val_mae: 4.7612\n",
            "Epoch 56/250\n",
            "178/178 [==============================] - 43s 239ms/step - loss: 30.2336 - mae: 4.7633 - val_loss: 30.1444 - val_mae: 4.7588\n",
            "Epoch 57/250\n",
            "178/178 [==============================] - 43s 241ms/step - loss: 30.2560 - mae: 4.7664 - val_loss: 30.2712 - val_mae: 4.7674\n",
            "Epoch 58/250\n",
            "178/178 [==============================] - 43s 239ms/step - loss: 30.1695 - mae: 4.7577 - val_loss: 30.0769 - val_mae: 4.7512\n",
            "Epoch 59/250\n",
            "178/178 [==============================] - 43s 242ms/step - loss: 30.1720 - mae: 4.7600 - val_loss: 30.1990 - val_mae: 4.7590\n",
            "Epoch 60/250\n",
            "178/178 [==============================] - 43s 240ms/step - loss: 30.1910 - mae: 4.7615 - val_loss: 30.1470 - val_mae: 4.7569\n",
            "Epoch 61/250\n",
            "178/178 [==============================] - 43s 239ms/step - loss: 30.1199 - mae: 4.7542 - val_loss: 30.1495 - val_mae: 4.7585\n",
            "Epoch 62/250\n",
            "178/178 [==============================] - 43s 235ms/step - loss: 30.1417 - mae: 4.7585 - val_loss: 30.1925 - val_mae: 4.7633\n",
            "Epoch 63/250\n",
            "178/178 [==============================] - 42s 232ms/step - loss: 30.0669 - mae: 4.7489 - val_loss: 29.9931 - val_mae: 4.7447\n",
            "Epoch 64/250\n",
            "178/178 [==============================] - 42s 231ms/step - loss: 30.1465 - mae: 4.7581 - val_loss: 30.1772 - val_mae: 4.7580\n",
            "Epoch 65/250\n",
            "178/178 [==============================] - 44s 243ms/step - loss: 30.0669 - mae: 4.7494 - val_loss: 30.2337 - val_mae: 4.7686\n",
            "Epoch 66/250\n",
            "178/178 [==============================] - 43s 241ms/step - loss: 30.0946 - mae: 4.7520 - val_loss: 29.9896 - val_mae: 4.7452\n",
            "Epoch 67/250\n",
            "178/178 [==============================] - 44s 242ms/step - loss: 30.0961 - mae: 4.7520 - val_loss: 30.1108 - val_mae: 4.7537\n",
            "Epoch 68/250\n",
            "178/178 [==============================] - 42s 230ms/step - loss: 30.1295 - mae: 4.7560 - val_loss: 29.9718 - val_mae: 4.7433\n",
            "Epoch 69/250\n",
            "178/178 [==============================] - 42s 230ms/step - loss: 30.0171 - mae: 4.7447 - val_loss: 30.2533 - val_mae: 4.7720\n",
            "Epoch 70/250\n",
            "178/178 [==============================] - 43s 233ms/step - loss: 30.0642 - mae: 4.7503 - val_loss: 30.0768 - val_mae: 4.7502\n",
            "Epoch 71/250\n",
            "178/178 [==============================] - 43s 239ms/step - loss: 30.0523 - mae: 4.7500 - val_loss: 30.0579 - val_mae: 4.7468\n",
            "Epoch 72/250\n",
            "178/178 [==============================] - 43s 241ms/step - loss: 30.0688 - mae: 4.7507 - val_loss: 30.0292 - val_mae: 4.7455\n",
            "Epoch 73/250\n",
            "178/178 [==============================] - 45s 250ms/step - loss: 30.0620 - mae: 4.7496 - val_loss: 30.0816 - val_mae: 4.7542\n",
            "Epoch 74/250\n",
            "178/178 [==============================] - 39s 213ms/step - loss: 30.1113 - mae: 4.7544 - val_loss: 30.0433 - val_mae: 4.7464\n",
            "Epoch 75/250\n",
            "178/178 [==============================] - 43s 239ms/step - loss: 30.1467 - mae: 4.7589 - val_loss: 30.1106 - val_mae: 4.7545\n",
            "Epoch 76/250\n",
            "178/178 [==============================] - 42s 231ms/step - loss: 30.1118 - mae: 4.7546 - val_loss: 30.1428 - val_mae: 4.7584\n",
            "Epoch 77/250\n",
            "178/178 [==============================] - 44s 239ms/step - loss: 30.1133 - mae: 4.7549 - val_loss: 30.1519 - val_mae: 4.7586\n",
            "Epoch 78/250\n",
            "178/178 [==============================] - 41s 228ms/step - loss: 30.0403 - mae: 4.7475 - val_loss: 30.1672 - val_mae: 4.7583\n",
            "Epoch 79/250\n",
            "178/178 [==============================] - 43s 240ms/step - loss: 30.0952 - mae: 4.7532 - val_loss: 30.0289 - val_mae: 4.7473\n",
            "Epoch 80/250\n",
            "178/178 [==============================] - 43s 240ms/step - loss: 30.0767 - mae: 4.7506 - val_loss: 30.0196 - val_mae: 4.7439\n",
            "Epoch 81/250\n",
            "178/178 [==============================] - 45s 251ms/step - loss: 30.0526 - mae: 4.7503 - val_loss: 30.0048 - val_mae: 4.7468\n",
            "Epoch 82/250\n",
            "178/178 [==============================] - 43s 238ms/step - loss: 30.1074 - mae: 4.7528 - val_loss: 30.0116 - val_mae: 4.7439\n",
            "Epoch 83/250\n",
            "178/178 [==============================] - 42s 230ms/step - loss: 30.0641 - mae: 4.7503 - val_loss: 30.0040 - val_mae: 4.7441\n",
            "Epoch 84/250\n",
            "178/178 [==============================] - 45s 251ms/step - loss: 30.1124 - mae: 4.7550 - val_loss: 30.1108 - val_mae: 4.7537\n",
            "Epoch 85/250\n",
            "178/178 [==============================] - 43s 240ms/step - loss: 30.0012 - mae: 4.7437 - val_loss: 30.1207 - val_mae: 4.7542\n",
            "Epoch 86/250\n",
            "178/178 [==============================] - 43s 241ms/step - loss: 30.0096 - mae: 4.7459 - val_loss: 30.0743 - val_mae: 4.7495\n",
            "Epoch 87/250\n",
            "178/178 [==============================] - 43s 241ms/step - loss: 30.0807 - mae: 4.7501 - val_loss: 29.8762 - val_mae: 4.7323\n",
            "Epoch 88/250\n",
            "178/178 [==============================] - 45s 249ms/step - loss: 29.9880 - mae: 4.7434 - val_loss: 30.1096 - val_mae: 4.7577\n",
            "Epoch 89/250\n",
            "178/178 [==============================] - 43s 234ms/step - loss: 30.0294 - mae: 4.7464 - val_loss: 30.0246 - val_mae: 4.7485\n",
            "Epoch 90/250\n",
            "178/178 [==============================] - 42s 231ms/step - loss: 30.0565 - mae: 4.7489 - val_loss: 29.9885 - val_mae: 4.7427\n",
            "Epoch 91/250\n",
            "178/178 [==============================] - 42s 235ms/step - loss: 30.0319 - mae: 4.7482 - val_loss: 30.0375 - val_mae: 4.7503\n",
            "Epoch 92/250\n",
            "178/178 [==============================] - 45s 250ms/step - loss: 30.0315 - mae: 4.7452 - val_loss: 30.0603 - val_mae: 4.7494\n",
            "Epoch 93/250\n",
            "178/178 [==============================] - 43s 241ms/step - loss: 30.0857 - mae: 4.7538 - val_loss: 30.0035 - val_mae: 4.7449\n",
            "Epoch 94/250\n",
            "178/178 [==============================] - 43s 240ms/step - loss: 30.0238 - mae: 4.7467 - val_loss: 30.0409 - val_mae: 4.7507\n",
            "Epoch 95/250\n",
            "178/178 [==============================] - 45s 250ms/step - loss: 29.9913 - mae: 4.7413 - val_loss: 30.0133 - val_mae: 4.7463\n",
            "Epoch 96/250\n",
            "178/178 [==============================] - 41s 229ms/step - loss: 30.0109 - mae: 4.7442 - val_loss: 29.9837 - val_mae: 4.7408\n",
            "Epoch 97/250\n",
            "178/178 [==============================] - 37s 205ms/step - loss: 30.0301 - mae: 4.7459 - val_loss: 29.9571 - val_mae: 4.7367\n",
            "Epoch 98/250\n",
            "178/178 [==============================] - 41s 222ms/step - loss: 29.9987 - mae: 4.7412 - val_loss: 29.9838 - val_mae: 4.7391\n",
            "Epoch 99/250\n",
            "178/178 [==============================] - 45s 250ms/step - loss: 30.0776 - mae: 4.7506 - val_loss: 30.1008 - val_mae: 4.7503\n",
            "Epoch 100/250\n",
            "178/178 [==============================] - 43s 236ms/step - loss: 30.0557 - mae: 4.7499 - val_loss: 30.0096 - val_mae: 4.7409\n",
            "Epoch 101/250\n",
            "178/178 [==============================] - 42s 231ms/step - loss: 30.0752 - mae: 4.7492 - val_loss: 30.0494 - val_mae: 4.7468\n",
            "Epoch 102/250\n",
            "178/178 [==============================] - 43s 240ms/step - loss: 29.9825 - mae: 4.7408 - val_loss: 29.9937 - val_mae: 4.7393\n",
            "Epoch 103/250\n",
            "178/178 [==============================] - 45s 251ms/step - loss: 30.0298 - mae: 4.7467 - val_loss: 29.9606 - val_mae: 4.7381\n",
            "Epoch 104/250\n",
            "178/178 [==============================] - 43s 240ms/step - loss: 30.0230 - mae: 4.7456 - val_loss: 29.8528 - val_mae: 4.7291\n",
            "Epoch 105/250\n",
            "178/178 [==============================] - 43s 239ms/step - loss: 30.0518 - mae: 4.7488 - val_loss: 29.9701 - val_mae: 4.7412\n",
            "Epoch 106/250\n",
            "178/178 [==============================] - 44s 243ms/step - loss: 30.0011 - mae: 4.7438 - val_loss: 30.0984 - val_mae: 4.7488\n",
            "Epoch 107/250\n",
            "178/178 [==============================] - 45s 249ms/step - loss: 30.0068 - mae: 4.7443 - val_loss: 30.0734 - val_mae: 4.7512\n",
            "Epoch 108/250\n",
            "178/178 [==============================] - 42s 230ms/step - loss: 30.0805 - mae: 4.7486 - val_loss: 29.9207 - val_mae: 4.7357\n",
            "Epoch 109/250\n",
            "178/178 [==============================] - 42s 230ms/step - loss: 29.9371 - mae: 4.7357 - val_loss: 30.1143 - val_mae: 4.7560\n",
            "Epoch 110/250\n",
            "178/178 [==============================] - 44s 242ms/step - loss: 30.0470 - mae: 4.7472 - val_loss: 29.7755 - val_mae: 4.7213\n",
            "Epoch 111/250\n",
            "178/178 [==============================] - 44s 242ms/step - loss: 30.0093 - mae: 4.7438 - val_loss: 30.1104 - val_mae: 4.7514\n",
            "Epoch 112/250\n",
            "178/178 [==============================] - 43s 232ms/step - loss: 30.0092 - mae: 4.7430 - val_loss: 29.9778 - val_mae: 4.7369\n",
            "Epoch 113/250\n",
            "178/178 [==============================] - 42s 230ms/step - loss: 30.0387 - mae: 4.7467 - val_loss: 29.9733 - val_mae: 4.7347\n",
            "Epoch 114/250\n",
            "178/178 [==============================] - 44s 242ms/step - loss: 30.0126 - mae: 4.7414 - val_loss: 29.9481 - val_mae: 4.7364\n",
            "Epoch 115/250\n",
            "178/178 [==============================] - 42s 230ms/step - loss: 29.9805 - mae: 4.7403 - val_loss: 29.9104 - val_mae: 4.7362\n",
            "Epoch 116/250\n",
            "178/178 [==============================] - 42s 231ms/step - loss: 29.9927 - mae: 4.7398 - val_loss: 30.0778 - val_mae: 4.7497\n",
            "Epoch 117/250\n",
            "178/178 [==============================] - 42s 234ms/step - loss: 29.9540 - mae: 4.7365 - val_loss: 29.8619 - val_mae: 4.7264\n",
            "Epoch 118/250\n",
            "178/178 [==============================] - 44s 241ms/step - loss: 29.9679 - mae: 4.7372 - val_loss: 30.0071 - val_mae: 4.7420\n",
            "Epoch 119/250\n",
            "178/178 [==============================] - 39s 213ms/step - loss: 29.9593 - mae: 4.7371 - val_loss: 30.0033 - val_mae: 4.7423\n",
            "Epoch 120/250\n",
            "178/178 [==============================] - 42s 232ms/step - loss: 29.9700 - mae: 4.7369 - val_loss: 29.9336 - val_mae: 4.7335\n",
            "Epoch 121/250\n",
            "178/178 [==============================] - 43s 236ms/step - loss: 30.0282 - mae: 4.7451 - val_loss: 29.9304 - val_mae: 4.7356\n",
            "Epoch 122/250\n",
            "178/178 [==============================] - 44s 243ms/step - loss: 30.0255 - mae: 4.7428 - val_loss: 30.0188 - val_mae: 4.7405\n",
            "Epoch 123/250\n",
            "178/178 [==============================] - 43s 241ms/step - loss: 29.9990 - mae: 4.7419 - val_loss: 30.0600 - val_mae: 4.7459\n",
            "Epoch 124/250\n",
            "178/178 [==============================] - 43s 238ms/step - loss: 30.0150 - mae: 4.7440 - val_loss: 29.9952 - val_mae: 4.7374\n",
            "Epoch 125/250\n",
            "178/178 [==============================] - 42s 229ms/step - loss: 30.0144 - mae: 4.7416 - val_loss: 30.0793 - val_mae: 4.7475\n",
            "Epoch 126/250\n",
            "178/178 [==============================] - 44s 241ms/step - loss: 30.0106 - mae: 4.7407 - val_loss: 30.0220 - val_mae: 4.7385\n",
            "Epoch 127/250\n",
            "178/178 [==============================] - 42s 232ms/step - loss: 29.9740 - mae: 4.7368 - val_loss: 30.0526 - val_mae: 4.7442\n",
            "Epoch 128/250\n",
            "178/178 [==============================] - 43s 240ms/step - loss: 30.0442 - mae: 4.7445 - val_loss: 30.0526 - val_mae: 4.7441\n",
            "Epoch 129/250\n",
            "178/178 [==============================] - 43s 239ms/step - loss: 29.9749 - mae: 4.7370 - val_loss: 29.9401 - val_mae: 4.7322\n",
            "Epoch 130/250\n",
            "178/178 [==============================] - 46s 254ms/step - loss: 29.9792 - mae: 4.7379 - val_loss: 29.9964 - val_mae: 4.7364\n",
            "Epoch 131/250\n",
            "178/178 [==============================] - 44s 242ms/step - loss: 30.0507 - mae: 4.7458 - val_loss: 30.0546 - val_mae: 4.7441\n",
            "Epoch 132/250\n",
            "178/178 [==============================] - 44s 240ms/step - loss: 29.9217 - mae: 4.7325 - val_loss: 29.9367 - val_mae: 4.7323\n",
            "Epoch 133/250\n",
            "178/178 [==============================] - 43s 235ms/step - loss: 30.0173 - mae: 4.7401 - val_loss: 29.9867 - val_mae: 4.7355\n",
            "Epoch 134/250\n",
            "178/178 [==============================] - 42s 231ms/step - loss: 30.0660 - mae: 4.7454 - val_loss: 29.9305 - val_mae: 4.7308\n",
            "Epoch 135/250\n",
            "178/178 [==============================] - 42s 234ms/step - loss: 29.9970 - mae: 4.7395 - val_loss: 29.9542 - val_mae: 4.7319\n",
            "Epoch 136/250\n",
            "178/178 [==============================] - 43s 238ms/step - loss: 30.0401 - mae: 4.7444 - val_loss: 30.1139 - val_mae: 4.7508\n",
            "Epoch 137/250\n",
            "178/178 [==============================] - 46s 253ms/step - loss: 30.0691 - mae: 4.7471 - val_loss: 29.9779 - val_mae: 4.7347\n",
            "Epoch 138/250\n",
            "178/178 [==============================] - 43s 240ms/step - loss: 30.0104 - mae: 4.7389 - val_loss: 29.9795 - val_mae: 4.7401\n",
            "Epoch 139/250\n",
            "178/178 [==============================] - 44s 237ms/step - loss: 29.9531 - mae: 4.7339 - val_loss: 30.0197 - val_mae: 4.7401\n",
            "Epoch 140/250\n",
            "178/178 [==============================] - 42s 230ms/step - loss: 29.9617 - mae: 4.7346 - val_loss: 29.9658 - val_mae: 4.7337\n",
            "Epoch 141/250\n",
            "178/178 [==============================] - 44s 243ms/step - loss: 30.0482 - mae: 4.7444 - val_loss: 29.9944 - val_mae: 4.7399\n",
            "Epoch 142/250\n",
            "178/178 [==============================] - 44s 241ms/step - loss: 30.0505 - mae: 4.7450 - val_loss: 30.0152 - val_mae: 4.7410\n",
            "Epoch 143/250\n",
            "178/178 [==============================] - 44s 242ms/step - loss: 29.9515 - mae: 4.7341 - val_loss: 30.0215 - val_mae: 4.7387\n",
            "Epoch 144/250\n",
            "178/178 [==============================] - 44s 243ms/step - loss: 29.9946 - mae: 4.7403 - val_loss: 30.0829 - val_mae: 4.7474\n",
            "Epoch 145/250\n",
            "178/178 [==============================] - 46s 253ms/step - loss: 30.0186 - mae: 4.7427 - val_loss: 29.8650 - val_mae: 4.7271\n",
            "Epoch 146/250\n",
            "178/178 [==============================] - 44s 243ms/step - loss: 29.8868 - mae: 4.7285 - val_loss: 30.1323 - val_mae: 4.7534\n",
            "Epoch 147/250\n",
            "178/178 [==============================] - 44s 242ms/step - loss: 30.0327 - mae: 4.7427 - val_loss: 29.9724 - val_mae: 4.7347\n",
            "Epoch 148/250\n",
            "178/178 [==============================] - 42s 232ms/step - loss: 30.0291 - mae: 4.7419 - val_loss: 30.0397 - val_mae: 4.7438\n",
            "Epoch 149/250\n",
            "178/178 [==============================] - 42s 231ms/step - loss: 30.0069 - mae: 4.7404 - val_loss: 29.9848 - val_mae: 4.7386\n",
            "Epoch 150/250\n",
            "178/178 [==============================] - 41s 229ms/step - loss: 29.9843 - mae: 4.7383 - val_loss: 30.0861 - val_mae: 4.7482\n",
            "Epoch 151/250\n",
            "178/178 [==============================] - 45s 251ms/step - loss: 30.0098 - mae: 4.7393 - val_loss: 30.0259 - val_mae: 4.7396\n",
            "Epoch 152/250\n",
            "178/178 [==============================] - 44s 243ms/step - loss: 29.9976 - mae: 4.7386 - val_loss: 30.0718 - val_mae: 4.7446\n",
            "Epoch 153/250\n",
            "178/178 [==============================] - 44s 242ms/step - loss: 29.9705 - mae: 4.7374 - val_loss: 29.9052 - val_mae: 4.7298\n",
            "Epoch 154/250\n",
            "178/178 [==============================] - 44s 242ms/step - loss: 29.9758 - mae: 4.7357 - val_loss: 29.8768 - val_mae: 4.7266\n",
            "Epoch 155/250\n",
            "178/178 [==============================] - 42s 230ms/step - loss: 30.0636 - mae: 4.7443 - val_loss: 29.9646 - val_mae: 4.7329\n",
            "Epoch 156/250\n",
            "178/178 [==============================] - 42s 231ms/step - loss: 29.9499 - mae: 4.7325 - val_loss: 29.9549 - val_mae: 4.7360\n",
            "Epoch 157/250\n",
            "178/178 [==============================] - 42s 231ms/step - loss: 30.0790 - mae: 4.7482 - val_loss: 29.9964 - val_mae: 4.7370\n",
            "Epoch 158/250\n",
            "178/178 [==============================] - 45s 251ms/step - loss: 29.9379 - mae: 4.7319 - val_loss: 30.0570 - val_mae: 4.7464\n",
            "Epoch 159/250\n",
            "178/178 [==============================] - 44s 244ms/step - loss: 30.0241 - mae: 4.7414 - val_loss: 29.9266 - val_mae: 4.7296\n",
            "Epoch 160/250\n",
            "178/178 [==============================] - 44s 242ms/step - loss: 30.0376 - mae: 4.7432 - val_loss: 29.8392 - val_mae: 4.7220\n",
            "Epoch 161/250\n",
            "178/178 [==============================] - 42s 232ms/step - loss: 29.9704 - mae: 4.7342 - val_loss: 29.9570 - val_mae: 4.7347\n",
            "Epoch 162/250\n",
            "178/178 [==============================] - 43s 240ms/step - loss: 29.9855 - mae: 4.7378 - val_loss: 29.9966 - val_mae: 4.7348\n",
            "Epoch 163/250\n",
            "178/178 [==============================] - 44s 243ms/step - loss: 30.0079 - mae: 4.7381 - val_loss: 29.9859 - val_mae: 4.7347\n",
            "Epoch 164/250\n",
            "178/178 [==============================] - 44s 242ms/step - loss: 30.0011 - mae: 4.7388 - val_loss: 30.0278 - val_mae: 4.7410\n",
            "Epoch 165/250\n",
            "178/178 [==============================] - 45s 251ms/step - loss: 29.9257 - mae: 4.7310 - val_loss: 30.0051 - val_mae: 4.7377\n",
            "Epoch 166/250\n",
            "178/178 [==============================] - 42s 231ms/step - loss: 30.0680 - mae: 4.7461 - val_loss: 29.8732 - val_mae: 4.7261\n",
            "Epoch 167/250\n",
            "178/178 [==============================] - 42s 230ms/step - loss: 29.9691 - mae: 4.7369 - val_loss: 29.9823 - val_mae: 4.7376\n",
            "Epoch 168/250\n",
            "178/178 [==============================] - 46s 255ms/step - loss: 30.0565 - mae: 4.7452 - val_loss: 30.0413 - val_mae: 4.7418\n",
            "Epoch 169/250\n",
            "178/178 [==============================] - 44s 244ms/step - loss: 30.0137 - mae: 4.7393 - val_loss: 29.9596 - val_mae: 4.7355\n",
            "Epoch 170/250\n",
            "178/178 [==============================] - 44s 242ms/step - loss: 30.0375 - mae: 4.7410 - val_loss: 30.0079 - val_mae: 4.7396\n",
            "Epoch 171/250\n",
            "178/178 [==============================] - 45s 251ms/step - loss: 30.0233 - mae: 4.7398 - val_loss: 29.9756 - val_mae: 4.7344\n",
            "Epoch 172/250\n",
            "178/178 [==============================] - 43s 233ms/step - loss: 29.9966 - mae: 4.7366 - val_loss: 29.8461 - val_mae: 4.7237\n",
            "Epoch 173/250\n",
            "178/178 [==============================] - 43s 238ms/step - loss: 30.0527 - mae: 4.7437 - val_loss: 30.0660 - val_mae: 4.7419\n",
            "Epoch 174/250\n",
            "178/178 [==============================] - 45s 252ms/step - loss: 29.9995 - mae: 4.7352 - val_loss: 30.0817 - val_mae: 4.7459\n",
            "Epoch 175/250\n",
            "178/178 [==============================] - 44s 241ms/step - loss: 29.9452 - mae: 4.7309 - val_loss: 29.8585 - val_mae: 4.7247\n",
            "Epoch 176/250\n",
            "178/178 [==============================] - 43s 235ms/step - loss: 29.9851 - mae: 4.7351 - val_loss: 29.9820 - val_mae: 4.7343\n",
            "Epoch 177/250\n",
            "178/178 [==============================] - 42s 229ms/step - loss: 29.9673 - mae: 4.7347 - val_loss: 30.1022 - val_mae: 4.7511\n",
            "Epoch 178/250\n",
            "178/178 [==============================] - 44s 242ms/step - loss: 30.0289 - mae: 4.7382 - val_loss: 30.0326 - val_mae: 4.7394\n",
            "Epoch 179/250\n",
            "178/178 [==============================] - 42s 234ms/step - loss: 29.9853 - mae: 4.7371 - val_loss: 30.0271 - val_mae: 4.7425\n",
            "Epoch 180/250\n",
            "178/178 [==============================] - 44s 241ms/step - loss: 29.9694 - mae: 4.7342 - val_loss: 30.0511 - val_mae: 4.7404\n",
            "Epoch 181/250\n",
            "178/178 [==============================] - 45s 251ms/step - loss: 29.9251 - mae: 4.7293 - val_loss: 29.9714 - val_mae: 4.7371\n",
            "Epoch 182/250\n",
            "178/178 [==============================] - 43s 240ms/step - loss: 29.9908 - mae: 4.7371 - val_loss: 30.1218 - val_mae: 4.7520\n",
            "Epoch 183/250\n",
            "178/178 [==============================] - 43s 234ms/step - loss: 30.0012 - mae: 4.7363 - val_loss: 29.9920 - val_mae: 4.7361\n",
            "Epoch 184/250\n",
            "178/178 [==============================] - 40s 221ms/step - loss: 29.9816 - mae: 4.7359 - val_loss: 29.9031 - val_mae: 4.7276\n",
            "Epoch 185/250\n",
            "178/178 [==============================] - 44s 243ms/step - loss: 29.9668 - mae: 4.7345 - val_loss: 29.9014 - val_mae: 4.7286\n",
            "Epoch 186/250\n",
            "178/178 [==============================] - 42s 232ms/step - loss: 29.9622 - mae: 4.7348 - val_loss: 30.0492 - val_mae: 4.7402\n",
            "Epoch 187/250\n",
            "178/178 [==============================] - 42s 235ms/step - loss: 29.9947 - mae: 4.7365 - val_loss: 29.9468 - val_mae: 4.7296\n",
            "Epoch 188/250\n",
            "178/178 [==============================] - 44s 242ms/step - loss: 30.0556 - mae: 4.7456 - val_loss: 30.1356 - val_mae: 4.7508\n",
            "Epoch 189/250\n",
            "178/178 [==============================] - 44s 244ms/step - loss: 30.0176 - mae: 4.7380 - val_loss: 29.9939 - val_mae: 4.7381\n",
            "Epoch 190/250\n",
            "178/178 [==============================] - 44s 242ms/step - loss: 29.9567 - mae: 4.7327 - val_loss: 30.0407 - val_mae: 4.7412\n",
            "Epoch 191/250\n",
            "178/178 [==============================] - 43s 237ms/step - loss: 30.0184 - mae: 4.7393 - val_loss: 29.8835 - val_mae: 4.7254\n",
            "Epoch 192/250\n",
            "178/178 [==============================] - 42s 231ms/step - loss: 30.0064 - mae: 4.7389 - val_loss: 29.8838 - val_mae: 4.7265\n",
            "Epoch 193/250\n",
            "178/178 [==============================] - 44s 244ms/step - loss: 29.9587 - mae: 4.7337 - val_loss: 30.0121 - val_mae: 4.7391\n",
            "Epoch 194/250\n",
            "178/178 [==============================] - 44s 243ms/step - loss: 29.9462 - mae: 4.7322 - val_loss: 30.1077 - val_mae: 4.7476\n",
            "Epoch 195/250\n",
            "178/178 [==============================] - 44s 242ms/step - loss: 30.0254 - mae: 4.7400 - val_loss: 29.9230 - val_mae: 4.7315\n",
            "Epoch 196/250\n",
            "178/178 [==============================] - 44s 243ms/step - loss: 30.0415 - mae: 4.7409 - val_loss: 30.0544 - val_mae: 4.7432\n",
            "Epoch 197/250\n",
            "178/178 [==============================] - 42s 233ms/step - loss: 30.0011 - mae: 4.7367 - val_loss: 30.0128 - val_mae: 4.7379\n",
            "Epoch 198/250\n",
            "178/178 [==============================] - 42s 232ms/step - loss: 30.0391 - mae: 4.7419 - val_loss: 30.1059 - val_mae: 4.7462\n",
            "Epoch 199/250\n",
            "178/178 [==============================] - 42s 235ms/step - loss: 30.0581 - mae: 4.7450 - val_loss: 29.9280 - val_mae: 4.7293\n",
            "Epoch 200/250\n",
            "178/178 [==============================] - 44s 242ms/step - loss: 30.0121 - mae: 4.7383 - val_loss: 29.9216 - val_mae: 4.7293\n",
            "Epoch 201/250\n",
            "178/178 [==============================] - 44s 243ms/step - loss: 29.9946 - mae: 4.7352 - val_loss: 30.1010 - val_mae: 4.7474\n",
            "Epoch 202/250\n",
            "178/178 [==============================] - 44s 246ms/step - loss: 30.0043 - mae: 4.7370 - val_loss: 29.8777 - val_mae: 4.7251\n",
            "Epoch 203/250\n",
            "178/178 [==============================] - 45s 246ms/step - loss: 29.9462 - mae: 4.7309 - val_loss: 29.8049 - val_mae: 4.7186\n",
            "Epoch 204/250\n",
            "178/178 [==============================] - 43s 236ms/step - loss: 29.9292 - mae: 4.7302 - val_loss: 30.0847 - val_mae: 4.7419\n",
            "Epoch 205/250\n",
            "178/178 [==============================] - 42s 234ms/step - loss: 30.0324 - mae: 4.7394 - val_loss: 29.9671 - val_mae: 4.7345\n",
            "Epoch 206/250\n",
            "178/178 [==============================] - 42s 234ms/step - loss: 30.0271 - mae: 4.7403 - val_loss: 30.0117 - val_mae: 4.7366\n",
            "Epoch 207/250\n",
            "178/178 [==============================] - 42s 233ms/step - loss: 30.0676 - mae: 4.7432 - val_loss: 30.0317 - val_mae: 4.7419\n",
            "Epoch 208/250\n",
            "178/178 [==============================] - 44s 245ms/step - loss: 29.9841 - mae: 4.7371 - val_loss: 30.1336 - val_mae: 4.7503\n",
            "Epoch 209/250\n",
            "178/178 [==============================] - 44s 245ms/step - loss: 30.0280 - mae: 4.7400 - val_loss: 29.9565 - val_mae: 4.7324\n",
            "Epoch 210/250\n",
            "178/178 [==============================] - 44s 239ms/step - loss: 30.0510 - mae: 4.7428 - val_loss: 30.0401 - val_mae: 4.7419\n",
            "Epoch 211/250\n",
            "178/178 [==============================] - 42s 232ms/step - loss: 30.0374 - mae: 4.7417 - val_loss: 30.1166 - val_mae: 4.7503\n",
            "Epoch 212/250\n",
            "178/178 [==============================] - 44s 243ms/step - loss: 30.0224 - mae: 4.7382 - val_loss: 29.9788 - val_mae: 4.7355\n",
            "Epoch 213/250\n",
            "178/178 [==============================] - 44s 243ms/step - loss: 29.9959 - mae: 4.7364 - val_loss: 30.0826 - val_mae: 4.7440\n",
            "Epoch 214/250\n",
            "178/178 [==============================] - 44s 244ms/step - loss: 29.9996 - mae: 4.7378 - val_loss: 30.0775 - val_mae: 4.7450\n",
            "Epoch 215/250\n",
            "178/178 [==============================] - 44s 241ms/step - loss: 29.9673 - mae: 4.7353 - val_loss: 30.0764 - val_mae: 4.7439\n",
            "Epoch 216/250\n",
            "178/178 [==============================] - 42s 232ms/step - loss: 30.0130 - mae: 4.7392 - val_loss: 29.9515 - val_mae: 4.7312\n",
            "Epoch 217/250\n",
            "178/178 [==============================] - 42s 231ms/step - loss: 30.0351 - mae: 4.7409 - val_loss: 29.9862 - val_mae: 4.7344\n",
            "Epoch 218/250\n",
            "178/178 [==============================] - 44s 245ms/step - loss: 29.9492 - mae: 4.7310 - val_loss: 30.0435 - val_mae: 4.7386\n",
            "Epoch 219/250\n",
            "178/178 [==============================] - 44s 244ms/step - loss: 29.9572 - mae: 4.7327 - val_loss: 29.8232 - val_mae: 4.7195\n",
            "Epoch 220/250\n",
            "178/178 [==============================] - 43s 232ms/step - loss: 30.0173 - mae: 4.7391 - val_loss: 30.0954 - val_mae: 4.7480\n",
            "Epoch 221/250\n",
            "178/178 [==============================] - 42s 232ms/step - loss: 30.0417 - mae: 4.7412 - val_loss: 30.0317 - val_mae: 4.7396\n",
            "Epoch 222/250\n",
            "178/178 [==============================] - 42s 234ms/step - loss: 29.9336 - mae: 4.7309 - val_loss: 29.9745 - val_mae: 4.7374\n",
            "Epoch 223/250\n",
            "178/178 [==============================] - 44s 242ms/step - loss: 29.9730 - mae: 4.7345 - val_loss: 29.9493 - val_mae: 4.7354\n",
            "Epoch 224/250\n",
            "178/178 [==============================] - 44s 243ms/step - loss: 29.9707 - mae: 4.7342 - val_loss: 30.0434 - val_mae: 4.7407\n",
            "Epoch 225/250\n",
            "178/178 [==============================] - 44s 241ms/step - loss: 30.0101 - mae: 4.7377 - val_loss: 29.8284 - val_mae: 4.7206\n",
            "Epoch 226/250\n",
            "178/178 [==============================] - 43s 240ms/step - loss: 29.9829 - mae: 4.7353 - val_loss: 30.0764 - val_mae: 4.7503\n",
            "Epoch 227/250\n",
            "178/178 [==============================] - 43s 234ms/step - loss: 29.9976 - mae: 4.7362 - val_loss: 29.9883 - val_mae: 4.7343\n",
            "Epoch 228/250\n",
            "178/178 [==============================] - 42s 231ms/step - loss: 29.9576 - mae: 4.7324 - val_loss: 29.8472 - val_mae: 4.7226\n",
            "Epoch 229/250\n",
            "178/178 [==============================] - 42s 230ms/step - loss: 29.9251 - mae: 4.7295 - val_loss: 30.0232 - val_mae: 4.7395\n",
            "Epoch 230/250\n",
            "178/178 [==============================] - 42s 232ms/step - loss: 29.9535 - mae: 4.7337 - val_loss: 30.0509 - val_mae: 4.7395\n",
            "Epoch 231/250\n",
            "178/178 [==============================] - 42s 234ms/step - loss: 29.9958 - mae: 4.7366 - val_loss: 30.0488 - val_mae: 4.7417\n",
            "Epoch 232/250\n",
            "178/178 [==============================] - 43s 239ms/step - loss: 30.0219 - mae: 4.7405 - val_loss: 29.8899 - val_mae: 4.7289\n",
            "Epoch 233/250\n",
            "178/178 [==============================] - 40s 220ms/step - loss: 29.9619 - mae: 4.7344 - val_loss: 30.0085 - val_mae: 4.7352\n",
            "Epoch 234/250\n",
            "178/178 [==============================] - 44s 241ms/step - loss: 30.0168 - mae: 4.7387 - val_loss: 30.0350 - val_mae: 4.7384\n",
            "Epoch 235/250\n",
            "178/178 [==============================] - 44s 244ms/step - loss: 30.0027 - mae: 4.7379 - val_loss: 30.0222 - val_mae: 4.7363\n",
            "Epoch 236/250\n",
            "178/178 [==============================] - 44s 244ms/step - loss: 29.9575 - mae: 4.7337 - val_loss: 29.9735 - val_mae: 4.7363\n",
            "Epoch 237/250\n",
            "178/178 [==============================] - 46s 253ms/step - loss: 29.9890 - mae: 4.7340 - val_loss: 29.8942 - val_mae: 4.7268\n",
            "Epoch 238/250\n",
            "178/178 [==============================] - 42s 232ms/step - loss: 30.0246 - mae: 4.7393 - val_loss: 30.0298 - val_mae: 4.7374\n",
            "Epoch 239/250\n",
            "178/178 [==============================] - 44s 242ms/step - loss: 29.9925 - mae: 4.7361 - val_loss: 30.1398 - val_mae: 4.7501\n",
            "Epoch 240/250\n",
            "178/178 [==============================] - 44s 244ms/step - loss: 30.0098 - mae: 4.7372 - val_loss: 30.0679 - val_mae: 4.7438\n",
            "Epoch 241/250\n",
            "178/178 [==============================] - 44s 243ms/step - loss: 30.0009 - mae: 4.7376 - val_loss: 29.8125 - val_mae: 4.7193\n",
            "Epoch 242/250\n",
            "178/178 [==============================] - 40s 221ms/step - loss: 29.9850 - mae: 4.7351 - val_loss: 30.0169 - val_mae: 4.7395\n",
            "Epoch 243/250\n",
            "178/178 [==============================] - 40s 222ms/step - loss: 29.9614 - mae: 4.7340 - val_loss: 29.9290 - val_mae: 4.7321\n",
            "Epoch 244/250\n",
            "178/178 [==============================] - 43s 240ms/step - loss: 29.9960 - mae: 4.7382 - val_loss: 29.9629 - val_mae: 4.7342\n",
            "Epoch 245/250\n",
            "178/178 [==============================] - 44s 241ms/step - loss: 29.9890 - mae: 4.7361 - val_loss: 30.0053 - val_mae: 4.7363\n",
            "Epoch 246/250\n",
            "178/178 [==============================] - 44s 244ms/step - loss: 29.9857 - mae: 4.7350 - val_loss: 30.1186 - val_mae: 4.7479\n",
            "Epoch 247/250\n",
            "178/178 [==============================] - 44s 243ms/step - loss: 29.9912 - mae: 4.7359 - val_loss: 30.0635 - val_mae: 4.7437\n",
            "Epoch 248/250\n",
            "178/178 [==============================] - 44s 243ms/step - loss: 29.9914 - mae: 4.7351 - val_loss: 29.9809 - val_mae: 4.7352\n",
            "Epoch 249/250\n",
            "178/178 [==============================] - 44s 242ms/step - loss: 29.9724 - mae: 4.7337 - val_loss: 29.9364 - val_mae: 4.7331\n",
            "Epoch 250/250\n",
            "178/178 [==============================] - 43s 241ms/step - loss: 30.0390 - mae: 4.7404 - val_loss: 30.0286 - val_mae: 4.7405\n"
          ]
        }
      ]
    },
    {
      "cell_type": "code",
      "source": [
        "loss = history.history['loss']\n",
        "val_loss = history.history['val_loss']\n",
        "mae = history.history['mae']\n",
        "val_mae = history.history['val_mae']\n",
        "\n",
        "\n",
        "epochs_x = range(len(loss))\n",
        "\n",
        "\n",
        "plt.plot(epochs_x, mae, 'o', color ='darkviolet', label='Training MAE')\n",
        "plt.plot(epochs_x, val_mae, 'k', label='Validation MAE')\n",
        "plt.title('Training and validation MeanAbsoluteError')\n",
        "plt.legend()\n",
        "\n",
        "plt.figure()\n",
        "plt.plot(epochs_x, loss, 'o', color ='darkviolet', label='Training loss')\n",
        "plt.plot(epochs_x, val_loss, 'k', label='Validation loss')\n",
        "plt.title('Training and validation loss')\n",
        "plt.legend()\n",
        "\n",
        "plt.show()"
      ],
      "metadata": {
        "id": "Y3K89-CM-dfg",
        "colab": {
          "base_uri": "https://localhost:8080/",
          "height": 545
        },
        "outputId": "6d152033-fc75-42f1-bc3e-a0b4121ab8d6"
      },
      "execution_count": 19,
      "outputs": [
        {
          "output_type": "display_data",
          "data": {
            "text/plain": [
              "<Figure size 432x288 with 1 Axes>"
            ],
            "image/png": "[encoded data removed]"
          },
          "metadata": {
            "needs_background": "light"
          }
        },
        {
          "output_type": "display_data",
          "data": {
            "text/plain": [
              "<Figure size 432x288 with 1 Axes>"
            ],
            "image/png": "[encoded data removed]"
          },
          "metadata": {
            "needs_background": "light"
          }
        }
      ]
    },
    {
      "cell_type": "code",
      "source": [
        "epochs_x"
      ],
      "metadata": {
        "id": "N_sP_ZmSY-Jv",
        "colab": {
          "base_uri": "https://localhost:8080/"
        },
        "outputId": "7ebfba17-0b1b-48ef-9ff6-aa0663872788"
      },
      "execution_count": 20,
      "outputs": [
        {
          "output_type": "execute_result",
          "data": {
            "text/plain": [
              "range(0, 250)"
            ]
          },
          "metadata": {},
          "execution_count": 20
        }
      ]
    },
    {
      "cell_type": "markdown",
      "source": [
        "#Download the model\n"
      ],
      "metadata": {
        "id": "R19IJQSYoW7J"
      }
    },
    {
      "cell_type": "code",
      "source": [
        "os.makedirs('/content/drive/My Drive/cut_panoramic/Model', exist_ok=True)\n",
        "model.save('/content/drive/My Drive/cut_panoramic/Model/2Re_All_1G_1e-4_16_0.2_250.h5')"
      ],
      "metadata": {
        "id": "Zed4TdFcG2iJ"
      },
      "execution_count": 21,
      "outputs": []
    },
    {
      "cell_type": "markdown",
      "source": [],
      "metadata": {
        "id": "n5YxZ-5QjQ0-"
      }
    },
    {
      "cell_type": "code",
      "source": [
        "# from google.colab import files\n",
        "# files.download('/content/drive/My Drive/cut_panoramic/Model/1.1_รอบแรก_Flimpano_Male125_250.h5')"
      ],
      "metadata": {
        "id": "P5eMxm1NV-oY"
      },
      "execution_count": null,
      "outputs": []
    },
    {
      "cell_type": "code",
      "source": [
        "\n"
      ],
      "metadata": {
        "id": "wY_pDlxkRwxS"
      },
      "execution_count": null,
      "outputs": []
    }
  ]
}