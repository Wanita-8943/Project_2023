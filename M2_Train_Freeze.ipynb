{
  "nbformat": 4,
  "nbformat_minor": 0,
  "metadata": {
    "colab": {
      "provenance": [],
      "include_colab_link": true
    },
    "kernelspec": {
      "name": "python3",
      "display_name": "Python 3"
    },
    "language_info": {
      "name": "python"
    },
    "accelerator": "GPU",
    "gpuClass": "standard"
  },
  "cells": [
    {
      "cell_type": "markdown",
      "metadata": {
        "id": "view-in-github",
        "colab_type": "text"
      },
      "source": [
        "<a href=\"https://colab.research.google.com/github/Wanita-8943/Project_2023/blob/main/M2_Train_Freeze.ipynb\" target=\"_parent\"><img src=\"https://colab.research.google.com/assets/colab-badge.svg\" alt=\"Open In Colab\"/></a>"
      ]
    },
    {
      "cell_type": "code",
      "execution_count": 1,
      "metadata": {
        "id": "KKSs7cyoPHcD"
      },
      "outputs": [],
      "source": [
        "import pandas as pd\n",
        "import shutil"
      ]
    },
    {
      "cell_type": "code",
      "source": [
        "from google.colab import drive\n",
        "drive.mount('/content/drive')"
      ],
      "metadata": {
        "colab": {
          "base_uri": "https://localhost:8080/"
        },
        "id": "7LoeZxmVPMxp",
        "outputId": "aa738f4b-3488-47fb-a866-a8a8bcd97c9f"
      },
      "execution_count": 2,
      "outputs": [
        {
          "output_type": "stream",
          "name": "stdout",
          "text": [
            "Mounted at /content/drive\n"
          ]
        }
      ]
    },
    {
      "cell_type": "code",
      "source": [
        "from tensorflow.keras import models\n",
        "from tensorflow.keras import layers\n",
        "from tensorflow.keras import optimizers\n",
        "import os\n",
        "import glob\n",
        "import shutil\n",
        "import sys\n",
        "import numpy as np\n",
        "from skimage.io import imread\n",
        "import matplotlib.pyplot as plt\n",
        "from IPython.display import Image\n",
        "%matplotlib inline"
      ],
      "metadata": {
        "id": "1pX9g1HxPM2f"
      },
      "execution_count": 3,
      "outputs": []
    },
    {
      "cell_type": "code",
      "source": [
        "batch_size = 16\n",
        "width = 150\n",
        "height = 150\n",
        "epochs = 250\n",
        "NUM_TRAIN = 1425\n",
        "NUM_TEST = 475\n",
        "dropout_rate = 0.2\n",
        "input_shape = (height, width, 3)"
      ],
      "metadata": {
        "id": "eSFtvGyvPM6O"
      },
      "execution_count": 4,
      "outputs": []
    },
    {
      "cell_type": "code",
      "source": [
        "#ดึงข้อมูลใน Github มาใช้\n",
        "import os\n",
        "%cd /content\n",
        "if not os.path.isdir(\"efficientnet_keras_transfer_learning\"):\n",
        " !git clone https://github.com/Wanita-8943/efficientnet_keras_transfer_learning\n",
        "%cd efficientnet_keras_transfer_learning/"
      ],
      "metadata": {
        "colab": {
          "base_uri": "https://localhost:8080/"
        },
        "id": "lb4K4CsMPNAW",
        "outputId": "5fd79c9f-7783-41a6-aaaf-c4f2d7394ce8"
      },
      "execution_count": 5,
      "outputs": [
        {
          "output_type": "stream",
          "name": "stdout",
          "text": [
            "/content\n",
            "Cloning into 'efficientnet_keras_transfer_learning'...\n",
            "remote: Enumerating objects: 837, done.\u001b[K\n",
            "remote: Total 837 (delta 0), reused 0 (delta 0), pack-reused 837\u001b[K\n",
            "Receiving objects: 100% (837/837), 13.85 MiB | 30.91 MiB/s, done.\n",
            "Resolving deltas: 100% (497/497), done.\n",
            "/content/efficientnet_keras_transfer_learning\n"
          ]
        }
      ]
    },
    {
      "cell_type": "code",
      "source": [
        "# Options: EfficientNetB0, EfficientNetB1, EfficientNetB2, EfficientNetB3\n",
        "# Higher the number, the more complex the model is.\n",
        "from efficientnet import EfficientNetB0 as Net\n",
        "from efficientnet import center_crop_and_resize, preprocess_input"
      ],
      "metadata": {
        "id": "eyBg0dLKPND3"
      },
      "execution_count": 6,
      "outputs": []
    },
    {
      "cell_type": "code",
      "source": [
        "base_dir = '/content/drive/MyDrive/TVT_Male125'\n",
        "os.makedirs(base_dir, exist_ok=True)\n",
        "\n",
        "# Directories for our training,\n",
        "# validation and test splits\n",
        "train_dir = os.path.join(base_dir, 'train')\n",
        "os.makedirs(train_dir, exist_ok=True)\n",
        "validation_dir = os.path.join(base_dir, 'validation')\n",
        "os.makedirs(validation_dir, exist_ok=True)\n",
        "test_dir = os.path.join(base_dir, 'test')\n",
        "os.makedirs(test_dir, exist_ok=True)"
      ],
      "metadata": {
        "id": "Jwpq_-KvPef8"
      },
      "execution_count": 7,
      "outputs": []
    },
    {
      "cell_type": "markdown",
      "source": [
        "#load model"
      ],
      "metadata": {
        "id": "od-ZSNm5PoGy"
      }
    },
    {
      "cell_type": "code",
      "source": [
        "import sys\n",
        "sys.path.append('/content/drive/MyDrive/cut_panoramic/Model/Classification/Male/11_รอบแรก_Flimpano_Male125_250.h5')\n",
        "\n",
        "from efficientnet.layers import Swish, DropConnect\n",
        "from efficientnet.model import ConvKernalInitializer\n",
        "from tensorflow.keras.utils import get_custom_objects\n",
        "\n",
        "get_custom_objects().update({\n",
        "    'ConvKernalInitializer': ConvKernalInitializer,\n",
        "    'Swish': Swish,\n",
        "    'DropConnect':DropConnect\n",
        "})"
      ],
      "metadata": {
        "id": "n5iPL5MNPkhE"
      },
      "execution_count": 8,
      "outputs": []
    },
    {
      "cell_type": "code",
      "source": [
        "#load model \n",
        "from tensorflow.keras.models import load_model\n",
        "model = load_model('/content/drive/MyDrive/cut_panoramic/Model/Classification/Male/11_รอบแรก_Flimpano_Male125_250.h5')\n",
        "height = width = model.input_shape[1]"
      ],
      "metadata": {
        "id": "plYz49xMPkly",
        "colab": {
          "base_uri": "https://localhost:8080/"
        },
        "outputId": "2564d88b-32da-4fbc-9bd3-8eef31162a4a"
      },
      "execution_count": 9,
      "outputs": [
        {
          "output_type": "stream",
          "name": "stderr",
          "text": [
            "WARNING:tensorflow:From /usr/local/lib/python3.8/dist-packages/tensorflow/python/autograph/pyct/static_analysis/liveness.py:83: Analyzer.lamba_check (from tensorflow.python.autograph.pyct.static_analysis.liveness) is deprecated and will be removed after 2023-09-23.\n",
            "Instructions for updating:\n",
            "Lambda fuctions will be no more assumed to be used in the statement where they are used, or at least in the same block. https://github.com/tensorflow/tensorflow/issues/56089\n"
          ]
        }
      ]
    },
    {
      "cell_type": "code",
      "source": [
        "model.summary()"
      ],
      "metadata": {
        "colab": {
          "base_uri": "https://localhost:8080/"
        },
        "id": "z6IOPBflFbvc",
        "outputId": "5b0b5476-d2c9-47e9-8193-7e3d8d17cc2f"
      },
      "execution_count": 10,
      "outputs": [
        {
          "output_type": "stream",
          "name": "stdout",
          "text": [
            "Model: \"sequential\"\n",
            "_________________________________________________________________\n",
            " Layer (type)                Output Shape              Param #   \n",
            "=================================================================\n",
            " efficientnet-b0 (Functional  (None, 5, 5, 1280)       4049564   \n",
            " )                                                               \n",
            "                                                                 \n",
            " gap (GlobalMaxPooling2D)    (None, 1280)              0         \n",
            "                                                                 \n",
            " dropout_out (Dropout)       (None, 1280)              0         \n",
            "                                                                 \n",
            " fc_out (Dense)              (None, 19)                24339     \n",
            "                                                                 \n",
            "=================================================================\n",
            "Total params: 4,073,903\n",
            "Trainable params: 24,339\n",
            "Non-trainable params: 4,049,564\n",
            "_________________________________________________________________\n"
          ]
        }
      ]
    },
    {
      "cell_type": "code",
      "source": [
        "# Train ด้วย ImageDataGenerator ของ Keras ซึ่งจะเพิ่มข้อมูลเสริมระหว่างการฝึกเพื่อลดโอกาสเกิด overfitting\n",
        "#overfitting เกิดจากข้อมูลที่ซับซ้อนกันเกินไป\n",
        "from tensorflow.keras.preprocessing.image import ImageDataGenerator\n",
        "\n",
        "train_datagen = ImageDataGenerator(\n",
        "      rescale=1./255, #โมเดลส่วนใหญ่ต้องใช้ RGB ในช่วง 0–1\n",
        "      rotation_range=40,\n",
        "      width_shift_range=0.2,\n",
        "      height_shift_range=0.2,\n",
        "      shear_range=0.2,\n",
        "      zoom_range=0.2,\n",
        "      horizontal_flip=True,\n",
        "      fill_mode='nearest')\n",
        "\n",
        "# Note that the validation data should not be augmented!\n",
        "test_datagen = ImageDataGenerator(rescale=1./255)\n",
        "\n",
        "train_generator = train_datagen.flow_from_directory(\n",
        "        # This is the target directory #ไดเรกเป้าหมาย\n",
        "        train_dir,\n",
        "        # รูปภาพทั้งหมดจะถูกปรับขนาดตามความสูงและความกว้างของเป้าหมาย\n",
        "        target_size=(height, width),\n",
        "        batch_size=batch_size,\n",
        "        # Since we use categorical_crossentropy loss, we need categorical labels\n",
        "        #เนื่องจากเราใช้ categorical_crossentropy loss เราจึงต้องมีป้ายกำกับตามหมวดหมู่\n",
        "        class_mode='categorical')\n",
        "\n",
        "validation_generator = test_datagen.flow_from_directory( #การดึงภาพจาก Directory มาเข้าโมเดล \n",
        "        validation_dir,\n",
        "        target_size=(height, width),\n",
        "        batch_size=batch_size,\n",
        "        class_mode='categorical')"
      ],
      "metadata": {
        "colab": {
          "base_uri": "https://localhost:8080/"
        },
        "id": "KBMZbdr2Pgw4",
        "outputId": "635e7263-1fc1-4d4a-d751-ef505edff1c5"
      },
      "execution_count": 11,
      "outputs": [
        {
          "output_type": "stream",
          "name": "stdout",
          "text": [
            "Found 1425 images belonging to 19 classes.\n",
            "Found 475 images belonging to 19 classes.\n"
          ]
        }
      ]
    },
    {
      "cell_type": "code",
      "source": [
        "model.compile(loss='categorical_crossentropy',\n",
        "              optimizer=optimizers.RMSprop(learning_rate=2e-5),\n",
        "              metrics=['acc'])\n",
        "history = model.fit_generator(\n",
        "      train_generator,\n",
        "      steps_per_epoch= NUM_TRAIN //batch_size,\n",
        "      epochs=epochs,\n",
        "      validation_data=validation_generator,\n",
        "      validation_steps= NUM_TEST //batch_size,\n",
        "      verbose=1,\n",
        "      use_multiprocessing=True,\n",
        "      workers=4)"
      ],
      "metadata": {
        "colab": {
          "base_uri": "https://localhost:8080/"
        },
        "id": "C9Cf1dwyP1PD",
        "outputId": "e308ad2f-df2a-46eb-ed8c-6868374d1793"
      },
      "execution_count": 12,
      "outputs": [
        {
          "output_type": "stream",
          "name": "stderr",
          "text": [
            "<ipython-input-12-95ae5648fc7b>:4: UserWarning: `Model.fit_generator` is deprecated and will be removed in a future version. Please use `Model.fit`, which supports generators.\n",
            "  history = model.fit_generator(\n"
          ]
        },
        {
          "output_type": "stream",
          "name": "stdout",
          "text": [
            "Epoch 1/250\n",
            "89/89 [==============================] - 137s 1s/step - loss: 2.6427 - acc: 0.1625 - val_loss: 2.6341 - val_acc: 0.1810\n",
            "Epoch 2/250\n",
            "89/89 [==============================] - 26s 291ms/step - loss: 2.6249 - acc: 0.1881 - val_loss: 2.6363 - val_acc: 0.1789\n",
            "Epoch 3/250\n",
            "89/89 [==============================] - 20s 222ms/step - loss: 2.6156 - acc: 0.1859 - val_loss: 2.6126 - val_acc: 0.1810\n",
            "Epoch 4/250\n",
            "89/89 [==============================] - 26s 283ms/step - loss: 2.6267 - acc: 0.1845 - val_loss: 2.6191 - val_acc: 0.1810\n",
            "Epoch 5/250\n",
            "89/89 [==============================] - 26s 277ms/step - loss: 2.5943 - acc: 0.1739 - val_loss: 2.6246 - val_acc: 0.1853\n",
            "Epoch 6/250\n",
            "89/89 [==============================] - 25s 278ms/step - loss: 2.6025 - acc: 0.1732 - val_loss: 2.6584 - val_acc: 0.1810\n",
            "Epoch 7/250\n",
            "89/89 [==============================] - 27s 297ms/step - loss: 2.6334 - acc: 0.1824 - val_loss: 2.6498 - val_acc: 0.1832\n",
            "Epoch 8/250\n",
            "89/89 [==============================] - 25s 275ms/step - loss: 2.5852 - acc: 0.1753 - val_loss: 2.6519 - val_acc: 0.1810\n",
            "Epoch 9/250\n",
            "89/89 [==============================] - 21s 223ms/step - loss: 2.6351 - acc: 0.1945 - val_loss: 2.6655 - val_acc: 0.1789\n",
            "Epoch 10/250\n",
            "89/89 [==============================] - 25s 275ms/step - loss: 2.5952 - acc: 0.1796 - val_loss: 2.6452 - val_acc: 0.1832\n",
            "Epoch 11/250\n",
            "89/89 [==============================] - 26s 291ms/step - loss: 2.6241 - acc: 0.1810 - val_loss: 2.6544 - val_acc: 0.1832\n",
            "Epoch 12/250\n",
            "89/89 [==============================] - 27s 297ms/step - loss: 2.6461 - acc: 0.1817 - val_loss: 2.6286 - val_acc: 0.1832\n",
            "Epoch 13/250\n",
            "89/89 [==============================] - 27s 298ms/step - loss: 2.5799 - acc: 0.2065 - val_loss: 2.6366 - val_acc: 0.1767\n",
            "Epoch 14/250\n",
            "89/89 [==============================] - 20s 223ms/step - loss: 2.6039 - acc: 0.1854 - val_loss: 2.6405 - val_acc: 0.1789\n",
            "Epoch 15/250\n",
            "89/89 [==============================] - 28s 309ms/step - loss: 2.6176 - acc: 0.1874 - val_loss: 2.6323 - val_acc: 0.1767\n",
            "Epoch 16/250\n",
            "89/89 [==============================] - 22s 242ms/step - loss: 2.5914 - acc: 0.1859 - val_loss: 2.6419 - val_acc: 0.1746\n",
            "Epoch 17/250\n",
            "89/89 [==============================] - 25s 275ms/step - loss: 2.6139 - acc: 0.1881 - val_loss: 2.6321 - val_acc: 0.1810\n",
            "Epoch 18/250\n",
            "89/89 [==============================] - 20s 219ms/step - loss: 2.6277 - acc: 0.1803 - val_loss: 2.6371 - val_acc: 0.1767\n",
            "Epoch 19/250\n",
            "89/89 [==============================] - 27s 297ms/step - loss: 2.5637 - acc: 0.2044 - val_loss: 2.6477 - val_acc: 0.1767\n",
            "Epoch 20/250\n",
            "89/89 [==============================] - 22s 243ms/step - loss: 2.5692 - acc: 0.1888 - val_loss: 2.6465 - val_acc: 0.1832\n",
            "Epoch 21/250\n",
            "89/89 [==============================] - 25s 276ms/step - loss: 2.5565 - acc: 0.1973 - val_loss: 2.6418 - val_acc: 0.1853\n",
            "Epoch 22/250\n",
            "89/89 [==============================] - 26s 281ms/step - loss: 2.5264 - acc: 0.1867 - val_loss: 2.6209 - val_acc: 0.1897\n",
            "Epoch 23/250\n",
            "89/89 [==============================] - 25s 275ms/step - loss: 2.5981 - acc: 0.1973 - val_loss: 2.6188 - val_acc: 0.1832\n",
            "Epoch 24/250\n",
            "89/89 [==============================] - 25s 277ms/step - loss: 2.5666 - acc: 0.1874 - val_loss: 2.6440 - val_acc: 0.1789\n",
            "Epoch 25/250\n",
            "89/89 [==============================] - 25s 276ms/step - loss: 2.5466 - acc: 0.1916 - val_loss: 2.6143 - val_acc: 0.1789\n",
            "Epoch 26/250\n",
            "89/89 [==============================] - 26s 289ms/step - loss: 2.6089 - acc: 0.1696 - val_loss: 2.6063 - val_acc: 0.1853\n",
            "Epoch 27/250\n",
            "89/89 [==============================] - 26s 281ms/step - loss: 2.5699 - acc: 0.2143 - val_loss: 2.5866 - val_acc: 0.1853\n",
            "Epoch 28/250\n",
            "89/89 [==============================] - 25s 274ms/step - loss: 2.6294 - acc: 0.1831 - val_loss: 2.6211 - val_acc: 0.1832\n",
            "Epoch 29/250\n",
            "89/89 [==============================] - 27s 293ms/step - loss: 2.5270 - acc: 0.1973 - val_loss: 2.6110 - val_acc: 0.1789\n",
            "Epoch 30/250\n",
            "89/89 [==============================] - 27s 292ms/step - loss: 2.5628 - acc: 0.1831 - val_loss: 2.6133 - val_acc: 0.1746\n",
            "Epoch 31/250\n",
            "89/89 [==============================] - 22s 238ms/step - loss: 2.5690 - acc: 0.1895 - val_loss: 2.6369 - val_acc: 0.1767\n",
            "Epoch 32/250\n",
            "89/89 [==============================] - 27s 297ms/step - loss: 2.5782 - acc: 0.1746 - val_loss: 2.6511 - val_acc: 0.1789\n",
            "Epoch 33/250\n",
            "89/89 [==============================] - 26s 282ms/step - loss: 2.5427 - acc: 0.1987 - val_loss: 2.6560 - val_acc: 0.1681\n",
            "Epoch 34/250\n",
            "89/89 [==============================] - 25s 275ms/step - loss: 2.5469 - acc: 0.2058 - val_loss: 2.6346 - val_acc: 0.1746\n",
            "Epoch 35/250\n",
            "89/89 [==============================] - 26s 289ms/step - loss: 2.5760 - acc: 0.1938 - val_loss: 2.6294 - val_acc: 0.1789\n",
            "Epoch 36/250\n",
            "89/89 [==============================] - 27s 292ms/step - loss: 2.5593 - acc: 0.1874 - val_loss: 2.6159 - val_acc: 0.1789\n",
            "Epoch 37/250\n",
            "89/89 [==============================] - 26s 284ms/step - loss: 2.5700 - acc: 0.1810 - val_loss: 2.6347 - val_acc: 0.1767\n",
            "Epoch 38/250\n",
            "89/89 [==============================] - 26s 291ms/step - loss: 2.5711 - acc: 0.1909 - val_loss: 2.6510 - val_acc: 0.1724\n",
            "Epoch 39/250\n",
            "89/89 [==============================] - 20s 217ms/step - loss: 2.5755 - acc: 0.1852 - val_loss: 2.6380 - val_acc: 0.1853\n",
            "Epoch 40/250\n",
            "89/89 [==============================] - 26s 282ms/step - loss: 2.5948 - acc: 0.1767 - val_loss: 2.6284 - val_acc: 0.1789\n",
            "Epoch 41/250\n",
            "89/89 [==============================] - 25s 274ms/step - loss: 2.5722 - acc: 0.1789 - val_loss: 2.6369 - val_acc: 0.1724\n",
            "Epoch 42/250\n",
            "89/89 [==============================] - 26s 285ms/step - loss: 2.6233 - acc: 0.1753 - val_loss: 2.6419 - val_acc: 0.1681\n",
            "Epoch 43/250\n",
            "89/89 [==============================] - 26s 278ms/step - loss: 2.5633 - acc: 0.1994 - val_loss: 2.6124 - val_acc: 0.1832\n",
            "Epoch 44/250\n",
            "89/89 [==============================] - 25s 276ms/step - loss: 2.5566 - acc: 0.1895 - val_loss: 2.6316 - val_acc: 0.1746\n",
            "Epoch 45/250\n",
            "89/89 [==============================] - 25s 275ms/step - loss: 2.5342 - acc: 0.1909 - val_loss: 2.6343 - val_acc: 0.1724\n",
            "Epoch 46/250\n",
            "89/89 [==============================] - 20s 220ms/step - loss: 2.4992 - acc: 0.2023 - val_loss: 2.6269 - val_acc: 0.1703\n",
            "Epoch 47/250\n",
            "89/89 [==============================] - 27s 298ms/step - loss: 2.5753 - acc: 0.1895 - val_loss: 2.6456 - val_acc: 0.1703\n",
            "Epoch 48/250\n",
            "89/89 [==============================] - 27s 298ms/step - loss: 2.5008 - acc: 0.2122 - val_loss: 2.6094 - val_acc: 0.1703\n",
            "Epoch 49/250\n",
            "89/89 [==============================] - 27s 298ms/step - loss: 2.5234 - acc: 0.2030 - val_loss: 2.6248 - val_acc: 0.1681\n",
            "Epoch 50/250\n",
            "89/89 [==============================] - 27s 299ms/step - loss: 2.5235 - acc: 0.2044 - val_loss: 2.6242 - val_acc: 0.1746\n",
            "Epoch 51/250\n",
            "89/89 [==============================] - 27s 297ms/step - loss: 2.5441 - acc: 0.1710 - val_loss: 2.6188 - val_acc: 0.1767\n",
            "Epoch 52/250\n",
            "89/89 [==============================] - 27s 297ms/step - loss: 2.5131 - acc: 0.1874 - val_loss: 2.6344 - val_acc: 0.1638\n",
            "Epoch 53/250\n",
            "89/89 [==============================] - 27s 298ms/step - loss: 2.5068 - acc: 0.1980 - val_loss: 2.6158 - val_acc: 0.1746\n",
            "Epoch 54/250\n",
            "89/89 [==============================] - 27s 299ms/step - loss: 2.5227 - acc: 0.1852 - val_loss: 2.6247 - val_acc: 0.1724\n",
            "Epoch 55/250\n",
            "89/89 [==============================] - 27s 302ms/step - loss: 2.4910 - acc: 0.2150 - val_loss: 2.6261 - val_acc: 0.1724\n",
            "Epoch 56/250\n",
            "89/89 [==============================] - 26s 281ms/step - loss: 2.5799 - acc: 0.1732 - val_loss: 2.6215 - val_acc: 0.1724\n",
            "Epoch 57/250\n",
            "89/89 [==============================] - 20s 220ms/step - loss: 2.5285 - acc: 0.1881 - val_loss: 2.6210 - val_acc: 0.1724\n",
            "Epoch 58/250\n",
            "89/89 [==============================] - 27s 285ms/step - loss: 2.5383 - acc: 0.1952 - val_loss: 2.6265 - val_acc: 0.1746\n",
            "Epoch 59/250\n",
            "89/89 [==============================] - 27s 298ms/step - loss: 2.5268 - acc: 0.1980 - val_loss: 2.6208 - val_acc: 0.1638\n",
            "Epoch 60/250\n",
            "89/89 [==============================] - 23s 247ms/step - loss: 2.5809 - acc: 0.1923 - val_loss: 2.6123 - val_acc: 0.1703\n",
            "Epoch 61/250\n",
            "89/89 [==============================] - 27s 300ms/step - loss: 2.5123 - acc: 0.2115 - val_loss: 2.6089 - val_acc: 0.1724\n",
            "Epoch 62/250\n",
            "89/89 [==============================] - 27s 301ms/step - loss: 2.5213 - acc: 0.2009 - val_loss: 2.6222 - val_acc: 0.1724\n",
            "Epoch 63/250\n",
            "89/89 [==============================] - 27s 302ms/step - loss: 2.5646 - acc: 0.1994 - val_loss: 2.6139 - val_acc: 0.1767\n",
            "Epoch 64/250\n",
            "89/89 [==============================] - 26s 290ms/step - loss: 2.5268 - acc: 0.1930 - val_loss: 2.6304 - val_acc: 0.1703\n",
            "Epoch 65/250\n",
            "89/89 [==============================] - 26s 282ms/step - loss: 2.4548 - acc: 0.2186 - val_loss: 2.6223 - val_acc: 0.1810\n",
            "Epoch 66/250\n",
            "89/89 [==============================] - 25s 279ms/step - loss: 2.5394 - acc: 0.1980 - val_loss: 2.6307 - val_acc: 0.1681\n",
            "Epoch 67/250\n",
            "89/89 [==============================] - 27s 292ms/step - loss: 2.5229 - acc: 0.1945 - val_loss: 2.6356 - val_acc: 0.1681\n",
            "Epoch 68/250\n",
            "89/89 [==============================] - 27s 297ms/step - loss: 2.5374 - acc: 0.2122 - val_loss: 2.6390 - val_acc: 0.1616\n",
            "Epoch 69/250\n",
            "89/89 [==============================] - 27s 295ms/step - loss: 2.5220 - acc: 0.1838 - val_loss: 2.6404 - val_acc: 0.1638\n",
            "Epoch 70/250\n",
            "89/89 [==============================] - 25s 278ms/step - loss: 2.5874 - acc: 0.1952 - val_loss: 2.6326 - val_acc: 0.1681\n",
            "Epoch 71/250\n",
            "89/89 [==============================] - 25s 276ms/step - loss: 2.5500 - acc: 0.2016 - val_loss: 2.6335 - val_acc: 0.1681\n",
            "Epoch 72/250\n",
            "89/89 [==============================] - 26s 281ms/step - loss: 2.5124 - acc: 0.2030 - val_loss: 2.6372 - val_acc: 0.1681\n",
            "Epoch 73/250\n",
            "89/89 [==============================] - 27s 298ms/step - loss: 2.5744 - acc: 0.1817 - val_loss: 2.6211 - val_acc: 0.1724\n",
            "Epoch 74/250\n",
            "89/89 [==============================] - 27s 300ms/step - loss: 2.5660 - acc: 0.1689 - val_loss: 2.6148 - val_acc: 0.1703\n",
            "Epoch 75/250\n",
            "89/89 [==============================] - 26s 284ms/step - loss: 2.4727 - acc: 0.2001 - val_loss: 2.6196 - val_acc: 0.1767\n",
            "Epoch 76/250\n",
            "89/89 [==============================] - 20s 223ms/step - loss: 2.5347 - acc: 0.1980 - val_loss: 2.6339 - val_acc: 0.1746\n",
            "Epoch 77/250\n",
            "89/89 [==============================] - 27s 290ms/step - loss: 2.5157 - acc: 0.1931 - val_loss: 2.6362 - val_acc: 0.1746\n",
            "Epoch 78/250\n",
            "89/89 [==============================] - 27s 294ms/step - loss: 2.5157 - acc: 0.2186 - val_loss: 2.6258 - val_acc: 0.1746\n",
            "Epoch 79/250\n",
            "89/89 [==============================] - 27s 298ms/step - loss: 2.5273 - acc: 0.1902 - val_loss: 2.6358 - val_acc: 0.1703\n",
            "Epoch 80/250\n",
            "89/89 [==============================] - 26s 287ms/step - loss: 2.5030 - acc: 0.1824 - val_loss: 2.6219 - val_acc: 0.1724\n",
            "Epoch 81/250\n",
            "89/89 [==============================] - 27s 292ms/step - loss: 2.5038 - acc: 0.2058 - val_loss: 2.6054 - val_acc: 0.1746\n",
            "Epoch 82/250\n",
            "89/89 [==============================] - 27s 300ms/step - loss: 2.4840 - acc: 0.1902 - val_loss: 2.6505 - val_acc: 0.1573\n",
            "Epoch 83/250\n",
            "89/89 [==============================] - 27s 300ms/step - loss: 2.5287 - acc: 0.1945 - val_loss: 2.6195 - val_acc: 0.1659\n",
            "Epoch 84/250\n",
            "89/89 [==============================] - 26s 286ms/step - loss: 2.4840 - acc: 0.2136 - val_loss: 2.6179 - val_acc: 0.1767\n",
            "Epoch 85/250\n",
            "89/89 [==============================] - 27s 298ms/step - loss: 2.4362 - acc: 0.2257 - val_loss: 2.6204 - val_acc: 0.1724\n",
            "Epoch 86/250\n",
            "89/89 [==============================] - 27s 298ms/step - loss: 2.4669 - acc: 0.2023 - val_loss: 2.5954 - val_acc: 0.1767\n",
            "Epoch 87/250\n",
            "89/89 [==============================] - 21s 225ms/step - loss: 2.4389 - acc: 0.2087 - val_loss: 2.6301 - val_acc: 0.1746\n",
            "Epoch 88/250\n",
            "89/89 [==============================] - 27s 301ms/step - loss: 2.4641 - acc: 0.1945 - val_loss: 2.6388 - val_acc: 0.1724\n",
            "Epoch 89/250\n",
            "89/89 [==============================] - 27s 298ms/step - loss: 2.4728 - acc: 0.2108 - val_loss: 2.6339 - val_acc: 0.1810\n",
            "Epoch 90/250\n",
            "89/89 [==============================] - 27s 298ms/step - loss: 2.4546 - acc: 0.2200 - val_loss: 2.6104 - val_acc: 0.1810\n",
            "Epoch 91/250\n",
            "89/89 [==============================] - 26s 290ms/step - loss: 2.5213 - acc: 0.1859 - val_loss: 2.6283 - val_acc: 0.1810\n",
            "Epoch 92/250\n",
            "89/89 [==============================] - 25s 277ms/step - loss: 2.5335 - acc: 0.1980 - val_loss: 2.6191 - val_acc: 0.1767\n",
            "Epoch 93/250\n",
            "89/89 [==============================] - 25s 276ms/step - loss: 2.5262 - acc: 0.1930 - val_loss: 2.6229 - val_acc: 0.1789\n",
            "Epoch 94/250\n",
            "89/89 [==============================] - 27s 293ms/step - loss: 2.4604 - acc: 0.1980 - val_loss: 2.6140 - val_acc: 0.1767\n",
            "Epoch 95/250\n",
            "89/89 [==============================] - 25s 274ms/step - loss: 2.5149 - acc: 0.1980 - val_loss: 2.6097 - val_acc: 0.1681\n",
            "Epoch 96/250\n",
            "89/89 [==============================] - 27s 292ms/step - loss: 2.5150 - acc: 0.1930 - val_loss: 2.6329 - val_acc: 0.1703\n",
            "Epoch 97/250\n",
            "89/89 [==============================] - 21s 225ms/step - loss: 2.4914 - acc: 0.1902 - val_loss: 2.6302 - val_acc: 0.1746\n",
            "Epoch 98/250\n",
            "89/89 [==============================] - 27s 295ms/step - loss: 2.4753 - acc: 0.1987 - val_loss: 2.6301 - val_acc: 0.1746\n",
            "Epoch 99/250\n",
            "89/89 [==============================] - 27s 298ms/step - loss: 2.4424 - acc: 0.2150 - val_loss: 2.6289 - val_acc: 0.1746\n",
            "Epoch 100/250\n",
            "89/89 [==============================] - 22s 237ms/step - loss: 2.5297 - acc: 0.2001 - val_loss: 2.6246 - val_acc: 0.1810\n",
            "Epoch 101/250\n",
            "89/89 [==============================] - 27s 296ms/step - loss: 2.4537 - acc: 0.2115 - val_loss: 2.6088 - val_acc: 0.1853\n",
            "Epoch 102/250\n",
            "89/89 [==============================] - 25s 278ms/step - loss: 2.4801 - acc: 0.1945 - val_loss: 2.6155 - val_acc: 0.1724\n",
            "Epoch 103/250\n",
            "89/89 [==============================] - 28s 312ms/step - loss: 2.4921 - acc: 0.1881 - val_loss: 2.6176 - val_acc: 0.1767\n",
            "Epoch 104/250\n",
            "89/89 [==============================] - 27s 302ms/step - loss: 2.5179 - acc: 0.1888 - val_loss: 2.6274 - val_acc: 0.1724\n",
            "Epoch 105/250\n",
            "89/89 [==============================] - 27s 299ms/step - loss: 2.4788 - acc: 0.2094 - val_loss: 2.6320 - val_acc: 0.1703\n",
            "Epoch 106/250\n",
            "89/89 [==============================] - 27s 303ms/step - loss: 2.4891 - acc: 0.2001 - val_loss: 2.6308 - val_acc: 0.1810\n",
            "Epoch 107/250\n",
            "89/89 [==============================] - 27s 297ms/step - loss: 2.4970 - acc: 0.1994 - val_loss: 2.6159 - val_acc: 0.1724\n",
            "Epoch 108/250\n",
            "89/89 [==============================] - 25s 278ms/step - loss: 2.4391 - acc: 0.2072 - val_loss: 2.6251 - val_acc: 0.1703\n",
            "Epoch 109/250\n",
            "89/89 [==============================] - 22s 245ms/step - loss: 2.4760 - acc: 0.2129 - val_loss: 2.6263 - val_acc: 0.1746\n",
            "Epoch 110/250\n",
            "89/89 [==============================] - 25s 278ms/step - loss: 2.5059 - acc: 0.2030 - val_loss: 2.6233 - val_acc: 0.1767\n",
            "Epoch 111/250\n",
            "89/89 [==============================] - 26s 280ms/step - loss: 2.4339 - acc: 0.2150 - val_loss: 2.6161 - val_acc: 0.1659\n",
            "Epoch 112/250\n",
            "89/89 [==============================] - 25s 274ms/step - loss: 2.4764 - acc: 0.2065 - val_loss: 2.6212 - val_acc: 0.1810\n",
            "Epoch 113/250\n",
            "89/89 [==============================] - 21s 222ms/step - loss: 2.4646 - acc: 0.2023 - val_loss: 2.6264 - val_acc: 0.1810\n",
            "Epoch 114/250\n",
            "89/89 [==============================] - 26s 281ms/step - loss: 2.4644 - acc: 0.2108 - val_loss: 2.6375 - val_acc: 0.1703\n",
            "Epoch 115/250\n",
            "89/89 [==============================] - 27s 297ms/step - loss: 2.4912 - acc: 0.2101 - val_loss: 2.6334 - val_acc: 0.1746\n",
            "Epoch 116/250\n",
            "89/89 [==============================] - 27s 299ms/step - loss: 2.4678 - acc: 0.2051 - val_loss: 2.5986 - val_acc: 0.1789\n",
            "Epoch 117/250\n",
            "89/89 [==============================] - 27s 300ms/step - loss: 2.4824 - acc: 0.1895 - val_loss: 2.6136 - val_acc: 0.1789\n",
            "Epoch 118/250\n",
            "89/89 [==============================] - 26s 281ms/step - loss: 2.4393 - acc: 0.2165 - val_loss: 2.6337 - val_acc: 0.1767\n",
            "Epoch 119/250\n",
            "89/89 [==============================] - 27s 298ms/step - loss: 2.4714 - acc: 0.2023 - val_loss: 2.6342 - val_acc: 0.1724\n",
            "Epoch 120/250\n",
            "89/89 [==============================] - 27s 301ms/step - loss: 2.4524 - acc: 0.2122 - val_loss: 2.6181 - val_acc: 0.1789\n",
            "Epoch 121/250\n",
            "89/89 [==============================] - 26s 290ms/step - loss: 2.4570 - acc: 0.2165 - val_loss: 2.6140 - val_acc: 0.1746\n",
            "Epoch 122/250\n",
            "89/89 [==============================] - 27s 296ms/step - loss: 2.4455 - acc: 0.2115 - val_loss: 2.6389 - val_acc: 0.1789\n",
            "Epoch 123/250\n",
            "89/89 [==============================] - 27s 302ms/step - loss: 2.4371 - acc: 0.2271 - val_loss: 2.6390 - val_acc: 0.1767\n",
            "Epoch 124/250\n",
            "89/89 [==============================] - 27s 300ms/step - loss: 2.5162 - acc: 0.1980 - val_loss: 2.6305 - val_acc: 0.1724\n",
            "Epoch 125/250\n",
            "89/89 [==============================] - 26s 290ms/step - loss: 2.4836 - acc: 0.1867 - val_loss: 2.6329 - val_acc: 0.1767\n",
            "Epoch 126/250\n",
            "89/89 [==============================] - 27s 296ms/step - loss: 2.4265 - acc: 0.2108 - val_loss: 2.6271 - val_acc: 0.1681\n",
            "Epoch 127/250\n",
            "89/89 [==============================] - 21s 232ms/step - loss: 2.4084 - acc: 0.2136 - val_loss: 2.6226 - val_acc: 0.1789\n",
            "Epoch 128/250\n",
            "89/89 [==============================] - 27s 300ms/step - loss: 2.3730 - acc: 0.1966 - val_loss: 2.6296 - val_acc: 0.1681\n",
            "Epoch 129/250\n",
            "89/89 [==============================] - 25s 279ms/step - loss: 2.4738 - acc: 0.2037 - val_loss: 2.6327 - val_acc: 0.1703\n",
            "Epoch 130/250\n",
            "89/89 [==============================] - 25s 278ms/step - loss: 2.4312 - acc: 0.2016 - val_loss: 2.6165 - val_acc: 0.1767\n",
            "Epoch 131/250\n",
            "89/89 [==============================] - 27s 293ms/step - loss: 2.4700 - acc: 0.2009 - val_loss: 2.6279 - val_acc: 0.1724\n",
            "Epoch 132/250\n",
            "89/89 [==============================] - 21s 226ms/step - loss: 2.4262 - acc: 0.2136 - val_loss: 2.6159 - val_acc: 0.1789\n",
            "Epoch 133/250\n",
            "89/89 [==============================] - 26s 284ms/step - loss: 2.4634 - acc: 0.2150 - val_loss: 2.6082 - val_acc: 0.1746\n",
            "Epoch 134/250\n",
            "89/89 [==============================] - 27s 288ms/step - loss: 2.4579 - acc: 0.1980 - val_loss: 2.6371 - val_acc: 0.1853\n",
            "Epoch 135/250\n",
            "89/89 [==============================] - 26s 281ms/step - loss: 2.4487 - acc: 0.2150 - val_loss: 2.6211 - val_acc: 0.1810\n",
            "Epoch 136/250\n",
            "89/89 [==============================] - 27s 288ms/step - loss: 2.4403 - acc: 0.2101 - val_loss: 2.6448 - val_acc: 0.1703\n",
            "Epoch 137/250\n",
            "89/89 [==============================] - 27s 298ms/step - loss: 2.4235 - acc: 0.2136 - val_loss: 2.6375 - val_acc: 0.1789\n",
            "Epoch 138/250\n",
            "89/89 [==============================] - 27s 301ms/step - loss: 2.4710 - acc: 0.2079 - val_loss: 2.6329 - val_acc: 0.1810\n",
            "Epoch 139/250\n",
            "89/89 [==============================] - 27s 298ms/step - loss: 2.4206 - acc: 0.2129 - val_loss: 2.6546 - val_acc: 0.1832\n",
            "Epoch 140/250\n",
            "89/89 [==============================] - 26s 289ms/step - loss: 2.4211 - acc: 0.2158 - val_loss: 2.6252 - val_acc: 0.1746\n",
            "Epoch 141/250\n",
            "89/89 [==============================] - 25s 273ms/step - loss: 2.4259 - acc: 0.2193 - val_loss: 2.6369 - val_acc: 0.1767\n",
            "Epoch 142/250\n",
            "89/89 [==============================] - 25s 276ms/step - loss: 2.3900 - acc: 0.2179 - val_loss: 2.6263 - val_acc: 0.1918\n",
            "Epoch 143/250\n",
            "89/89 [==============================] - 25s 276ms/step - loss: 2.4306 - acc: 0.2179 - val_loss: 2.6327 - val_acc: 0.1767\n",
            "Epoch 144/250\n",
            "89/89 [==============================] - 25s 278ms/step - loss: 2.4219 - acc: 0.2264 - val_loss: 2.6332 - val_acc: 0.1789\n",
            "Epoch 145/250\n",
            "89/89 [==============================] - 25s 279ms/step - loss: 2.4162 - acc: 0.2257 - val_loss: 2.6288 - val_acc: 0.1853\n",
            "Epoch 146/250\n",
            "89/89 [==============================] - 25s 277ms/step - loss: 2.4372 - acc: 0.2122 - val_loss: 2.6266 - val_acc: 0.1810\n",
            "Epoch 147/250\n",
            "89/89 [==============================] - 25s 280ms/step - loss: 2.4332 - acc: 0.1952 - val_loss: 2.6129 - val_acc: 0.1853\n",
            "Epoch 148/250\n",
            "89/89 [==============================] - 27s 302ms/step - loss: 2.4282 - acc: 0.2030 - val_loss: 2.6111 - val_acc: 0.1767\n",
            "Epoch 149/250\n",
            "89/89 [==============================] - 26s 288ms/step - loss: 2.4611 - acc: 0.2122 - val_loss: 2.6145 - val_acc: 0.1897\n",
            "Epoch 150/250\n",
            "89/89 [==============================] - 27s 299ms/step - loss: 2.3949 - acc: 0.2122 - val_loss: 2.6234 - val_acc: 0.1897\n",
            "Epoch 151/250\n",
            "89/89 [==============================] - 27s 300ms/step - loss: 2.4304 - acc: 0.2236 - val_loss: 2.6178 - val_acc: 0.1810\n",
            "Epoch 152/250\n",
            "89/89 [==============================] - 26s 289ms/step - loss: 2.3955 - acc: 0.2271 - val_loss: 2.6171 - val_acc: 0.1832\n",
            "Epoch 153/250\n",
            "89/89 [==============================] - 27s 300ms/step - loss: 2.4590 - acc: 0.1867 - val_loss: 2.6345 - val_acc: 0.1810\n",
            "Epoch 154/250\n",
            "89/89 [==============================] - 27s 297ms/step - loss: 2.4687 - acc: 0.2094 - val_loss: 2.6476 - val_acc: 0.1767\n",
            "Epoch 155/250\n",
            "89/89 [==============================] - 27s 293ms/step - loss: 2.4050 - acc: 0.2236 - val_loss: 2.6318 - val_acc: 0.1767\n",
            "Epoch 156/250\n",
            "89/89 [==============================] - 22s 245ms/step - loss: 2.4517 - acc: 0.1916 - val_loss: 2.6130 - val_acc: 0.1810\n",
            "Epoch 157/250\n",
            "89/89 [==============================] - 25s 279ms/step - loss: 2.3786 - acc: 0.2278 - val_loss: 2.6469 - val_acc: 0.1810\n",
            "Epoch 158/250\n",
            "89/89 [==============================] - 25s 277ms/step - loss: 2.4656 - acc: 0.1867 - val_loss: 2.6590 - val_acc: 0.1832\n",
            "Epoch 159/250\n",
            "89/89 [==============================] - 25s 279ms/step - loss: 2.4405 - acc: 0.2037 - val_loss: 2.6401 - val_acc: 0.1832\n",
            "Epoch 160/250\n",
            "89/89 [==============================] - 26s 282ms/step - loss: 2.4283 - acc: 0.2094 - val_loss: 2.6538 - val_acc: 0.1789\n",
            "Epoch 161/250\n",
            "89/89 [==============================] - 27s 302ms/step - loss: 2.4258 - acc: 0.2072 - val_loss: 2.6262 - val_acc: 0.1767\n",
            "Epoch 162/250\n",
            "89/89 [==============================] - 27s 291ms/step - loss: 2.4583 - acc: 0.2136 - val_loss: 2.6482 - val_acc: 0.1746\n",
            "Epoch 163/250\n",
            "89/89 [==============================] - 27s 299ms/step - loss: 2.4392 - acc: 0.2101 - val_loss: 2.6535 - val_acc: 0.1832\n",
            "Epoch 164/250\n",
            "89/89 [==============================] - 28s 303ms/step - loss: 2.3980 - acc: 0.2122 - val_loss: 2.6360 - val_acc: 0.1832\n",
            "Epoch 165/250\n",
            "89/89 [==============================] - 27s 293ms/step - loss: 2.4447 - acc: 0.2072 - val_loss: 2.6392 - val_acc: 0.1789\n",
            "Epoch 166/250\n",
            "89/89 [==============================] - 27s 301ms/step - loss: 2.3597 - acc: 0.2179 - val_loss: 2.6285 - val_acc: 0.1746\n",
            "Epoch 167/250\n",
            "89/89 [==============================] - 27s 295ms/step - loss: 2.4885 - acc: 0.1966 - val_loss: 2.6478 - val_acc: 0.1767\n",
            "Epoch 168/250\n",
            "89/89 [==============================] - 28s 303ms/step - loss: 2.4088 - acc: 0.2065 - val_loss: 2.6448 - val_acc: 0.1767\n",
            "Epoch 169/250\n",
            "89/89 [==============================] - 27s 301ms/step - loss: 2.4530 - acc: 0.1987 - val_loss: 2.6552 - val_acc: 0.1810\n",
            "Epoch 170/250\n",
            "89/89 [==============================] - 21s 234ms/step - loss: 2.4452 - acc: 0.1959 - val_loss: 2.6471 - val_acc: 0.1767\n",
            "Epoch 171/250\n",
            "89/89 [==============================] - 26s 275ms/step - loss: 2.3985 - acc: 0.2328 - val_loss: 2.6433 - val_acc: 0.1767\n",
            "Epoch 172/250\n",
            "89/89 [==============================] - 25s 279ms/step - loss: 2.3762 - acc: 0.2307 - val_loss: 2.6215 - val_acc: 0.1832\n",
            "Epoch 173/250\n",
            "89/89 [==============================] - 25s 278ms/step - loss: 2.3767 - acc: 0.2321 - val_loss: 2.6374 - val_acc: 0.1703\n",
            "Epoch 174/250\n",
            "89/89 [==============================] - 20s 221ms/step - loss: 2.4117 - acc: 0.2079 - val_loss: 2.6162 - val_acc: 0.1810\n",
            "Epoch 175/250\n",
            "89/89 [==============================] - 27s 301ms/step - loss: 2.4088 - acc: 0.2221 - val_loss: 2.6375 - val_acc: 0.1810\n",
            "Epoch 176/250\n",
            "89/89 [==============================] - 22s 243ms/step - loss: 2.4137 - acc: 0.2108 - val_loss: 2.6226 - val_acc: 0.1853\n",
            "Epoch 177/250\n",
            "89/89 [==============================] - 27s 299ms/step - loss: 2.4089 - acc: 0.2143 - val_loss: 2.6452 - val_acc: 0.1767\n",
            "Epoch 178/250\n",
            "89/89 [==============================] - 27s 301ms/step - loss: 2.4193 - acc: 0.2129 - val_loss: 2.6354 - val_acc: 0.1853\n",
            "Epoch 179/250\n",
            "89/89 [==============================] - 28s 302ms/step - loss: 2.4039 - acc: 0.2129 - val_loss: 2.6144 - val_acc: 0.1789\n",
            "Epoch 180/250\n",
            "89/89 [==============================] - 27s 301ms/step - loss: 2.4481 - acc: 0.2094 - val_loss: 2.6275 - val_acc: 0.1789\n",
            "Epoch 181/250\n",
            "89/89 [==============================] - 27s 295ms/step - loss: 2.3940 - acc: 0.2236 - val_loss: 2.6327 - val_acc: 0.1746\n",
            "Epoch 182/250\n",
            "89/89 [==============================] - 26s 281ms/step - loss: 2.3913 - acc: 0.2271 - val_loss: 2.6336 - val_acc: 0.1659\n",
            "Epoch 183/250\n",
            "89/89 [==============================] - 27s 294ms/step - loss: 2.3850 - acc: 0.2023 - val_loss: 2.6406 - val_acc: 0.1767\n",
            "Epoch 184/250\n",
            "89/89 [==============================] - 26s 282ms/step - loss: 2.3602 - acc: 0.2165 - val_loss: 2.6585 - val_acc: 0.1767\n",
            "Epoch 185/250\n",
            "89/89 [==============================] - 25s 279ms/step - loss: 2.3842 - acc: 0.2101 - val_loss: 2.6532 - val_acc: 0.1810\n",
            "Epoch 186/250\n",
            "89/89 [==============================] - 27s 291ms/step - loss: 2.4060 - acc: 0.2143 - val_loss: 2.6453 - val_acc: 0.1789\n",
            "Epoch 187/250\n",
            "89/89 [==============================] - 27s 301ms/step - loss: 2.4287 - acc: 0.2193 - val_loss: 2.6429 - val_acc: 0.1789\n",
            "Epoch 188/250\n",
            "89/89 [==============================] - 26s 289ms/step - loss: 2.3719 - acc: 0.2207 - val_loss: 2.6538 - val_acc: 0.1724\n",
            "Epoch 189/250\n",
            "89/89 [==============================] - 28s 303ms/step - loss: 2.4178 - acc: 0.2229 - val_loss: 2.6461 - val_acc: 0.1810\n",
            "Epoch 190/250\n",
            "89/89 [==============================] - 26s 287ms/step - loss: 2.4136 - acc: 0.2129 - val_loss: 2.6203 - val_acc: 0.1810\n",
            "Epoch 191/250\n",
            "89/89 [==============================] - 27s 298ms/step - loss: 2.4483 - acc: 0.1980 - val_loss: 2.6407 - val_acc: 0.1746\n",
            "Epoch 192/250\n",
            "89/89 [==============================] - 27s 301ms/step - loss: 2.3833 - acc: 0.2250 - val_loss: 2.6527 - val_acc: 0.1767\n",
            "Epoch 193/250\n",
            "89/89 [==============================] - 27s 293ms/step - loss: 2.3800 - acc: 0.2285 - val_loss: 2.6516 - val_acc: 0.1703\n",
            "Epoch 194/250\n",
            "89/89 [==============================] - 27s 297ms/step - loss: 2.3589 - acc: 0.2136 - val_loss: 2.6338 - val_acc: 0.1789\n",
            "Epoch 195/250\n",
            "89/89 [==============================] - 27s 298ms/step - loss: 2.3885 - acc: 0.2193 - val_loss: 2.6296 - val_acc: 0.1789\n",
            "Epoch 196/250\n",
            "89/89 [==============================] - 26s 290ms/step - loss: 2.4045 - acc: 0.2115 - val_loss: 2.6340 - val_acc: 0.1703\n",
            "Epoch 197/250\n",
            "89/89 [==============================] - 25s 279ms/step - loss: 2.4195 - acc: 0.2037 - val_loss: 2.6258 - val_acc: 0.1703\n",
            "Epoch 198/250\n",
            "89/89 [==============================] - 21s 226ms/step - loss: 2.3440 - acc: 0.2370 - val_loss: 2.6397 - val_acc: 0.1703\n",
            "Epoch 199/250\n",
            "89/89 [==============================] - 27s 291ms/step - loss: 2.3498 - acc: 0.2292 - val_loss: 2.6329 - val_acc: 0.1767\n",
            "Epoch 200/250\n",
            "89/89 [==============================] - 26s 280ms/step - loss: 2.3703 - acc: 0.2229 - val_loss: 2.6398 - val_acc: 0.1767\n",
            "Epoch 201/250\n",
            "89/89 [==============================] - 21s 224ms/step - loss: 2.4151 - acc: 0.2058 - val_loss: 2.6488 - val_acc: 0.1789\n",
            "Epoch 202/250\n",
            "89/89 [==============================] - 26s 284ms/step - loss: 2.3472 - acc: 0.2200 - val_loss: 2.6341 - val_acc: 0.1789\n",
            "Epoch 203/250\n",
            "89/89 [==============================] - 26s 281ms/step - loss: 2.4005 - acc: 0.2356 - val_loss: 2.6575 - val_acc: 0.1724\n",
            "Epoch 204/250\n",
            "89/89 [==============================] - 27s 299ms/step - loss: 2.3799 - acc: 0.2200 - val_loss: 2.6395 - val_acc: 0.1832\n",
            "Epoch 205/250\n",
            "89/89 [==============================] - 26s 287ms/step - loss: 2.4002 - acc: 0.2136 - val_loss: 2.6391 - val_acc: 0.1724\n",
            "Epoch 206/250\n",
            "89/89 [==============================] - 26s 282ms/step - loss: 2.3554 - acc: 0.2392 - val_loss: 2.6587 - val_acc: 0.1832\n",
            "Epoch 207/250\n",
            "89/89 [==============================] - 28s 305ms/step - loss: 2.3902 - acc: 0.2150 - val_loss: 2.6430 - val_acc: 0.1832\n",
            "Epoch 208/250\n",
            "89/89 [==============================] - 27s 297ms/step - loss: 2.3839 - acc: 0.2122 - val_loss: 2.6467 - val_acc: 0.1767\n",
            "Epoch 209/250\n",
            "89/89 [==============================] - 26s 283ms/step - loss: 2.3648 - acc: 0.2214 - val_loss: 2.6533 - val_acc: 0.1810\n",
            "Epoch 210/250\n",
            "89/89 [==============================] - 23s 246ms/step - loss: 2.3718 - acc: 0.2243 - val_loss: 2.6532 - val_acc: 0.1746\n",
            "Epoch 211/250\n",
            "89/89 [==============================] - 26s 282ms/step - loss: 2.3675 - acc: 0.2278 - val_loss: 2.6409 - val_acc: 0.1789\n",
            "Epoch 212/250\n",
            "89/89 [==============================] - 26s 284ms/step - loss: 2.4089 - acc: 0.2186 - val_loss: 2.6661 - val_acc: 0.1789\n",
            "Epoch 213/250\n",
            "89/89 [==============================] - 22s 226ms/step - loss: 2.3724 - acc: 0.2072 - val_loss: 2.6678 - val_acc: 0.1724\n",
            "Epoch 214/250\n",
            "89/89 [==============================] - 27s 293ms/step - loss: 2.3585 - acc: 0.2243 - val_loss: 2.6328 - val_acc: 0.1853\n",
            "Epoch 215/250\n",
            "89/89 [==============================] - 21s 226ms/step - loss: 2.3395 - acc: 0.2370 - val_loss: 2.6733 - val_acc: 0.1703\n",
            "Epoch 216/250\n",
            "89/89 [==============================] - 26s 283ms/step - loss: 2.3703 - acc: 0.2257 - val_loss: 2.6355 - val_acc: 0.1789\n",
            "Epoch 217/250\n",
            "89/89 [==============================] - 27s 295ms/step - loss: 2.3996 - acc: 0.2165 - val_loss: 2.6113 - val_acc: 0.1810\n",
            "Epoch 218/250\n",
            "89/89 [==============================] - 27s 295ms/step - loss: 2.3980 - acc: 0.2250 - val_loss: 2.6661 - val_acc: 0.1703\n",
            "Epoch 219/250\n",
            "89/89 [==============================] - 26s 282ms/step - loss: 2.4025 - acc: 0.2229 - val_loss: 2.6461 - val_acc: 0.1703\n",
            "Epoch 220/250\n",
            "89/89 [==============================] - 27s 300ms/step - loss: 2.3762 - acc: 0.2342 - val_loss: 2.6630 - val_acc: 0.1724\n",
            "Epoch 221/250\n",
            "89/89 [==============================] - 26s 282ms/step - loss: 2.3746 - acc: 0.2165 - val_loss: 2.6545 - val_acc: 0.1724\n",
            "Epoch 222/250\n",
            "89/89 [==============================] - 27s 300ms/step - loss: 2.3627 - acc: 0.2356 - val_loss: 2.6508 - val_acc: 0.1789\n",
            "Epoch 223/250\n",
            "89/89 [==============================] - 26s 287ms/step - loss: 2.3673 - acc: 0.2321 - val_loss: 2.6405 - val_acc: 0.1746\n",
            "Epoch 224/250\n",
            "89/89 [==============================] - 27s 302ms/step - loss: 2.3937 - acc: 0.2285 - val_loss: 2.6529 - val_acc: 0.1724\n",
            "Epoch 225/250\n",
            "89/89 [==============================] - 27s 300ms/step - loss: 2.3756 - acc: 0.2335 - val_loss: 2.6303 - val_acc: 0.1810\n",
            "Epoch 226/250\n",
            "89/89 [==============================] - 26s 281ms/step - loss: 2.3513 - acc: 0.2229 - val_loss: 2.6567 - val_acc: 0.1767\n",
            "Epoch 227/250\n",
            "89/89 [==============================] - 26s 280ms/step - loss: 2.4022 - acc: 0.1952 - val_loss: 2.6420 - val_acc: 0.1810\n",
            "Epoch 228/250\n",
            "89/89 [==============================] - 26s 279ms/step - loss: 2.3934 - acc: 0.2065 - val_loss: 2.6484 - val_acc: 0.1789\n",
            "Epoch 229/250\n",
            "89/89 [==============================] - 25s 279ms/step - loss: 2.3252 - acc: 0.2370 - val_loss: 2.6489 - val_acc: 0.1746\n",
            "Epoch 230/250\n",
            "89/89 [==============================] - 25s 279ms/step - loss: 2.3157 - acc: 0.2300 - val_loss: 2.6461 - val_acc: 0.1746\n",
            "Epoch 231/250\n",
            "89/89 [==============================] - 26s 280ms/step - loss: 2.3599 - acc: 0.2229 - val_loss: 2.6530 - val_acc: 0.1810\n",
            "Epoch 232/250\n",
            "89/89 [==============================] - 21s 228ms/step - loss: 2.3884 - acc: 0.2356 - val_loss: 2.6783 - val_acc: 0.1724\n",
            "Epoch 233/250\n",
            "89/89 [==============================] - 27s 301ms/step - loss: 2.3995 - acc: 0.2079 - val_loss: 2.6708 - val_acc: 0.1659\n",
            "Epoch 234/250\n",
            "89/89 [==============================] - 28s 303ms/step - loss: 2.4255 - acc: 0.2214 - val_loss: 2.6453 - val_acc: 0.1703\n",
            "Epoch 235/250\n",
            "89/89 [==============================] - 26s 287ms/step - loss: 2.3440 - acc: 0.2342 - val_loss: 2.6608 - val_acc: 0.1767\n",
            "Epoch 236/250\n",
            "89/89 [==============================] - 26s 282ms/step - loss: 2.3783 - acc: 0.2108 - val_loss: 2.6347 - val_acc: 0.1767\n",
            "Epoch 237/250\n",
            "89/89 [==============================] - 28s 305ms/step - loss: 2.3043 - acc: 0.2243 - val_loss: 2.6388 - val_acc: 0.1703\n",
            "Epoch 238/250\n",
            "89/89 [==============================] - 27s 303ms/step - loss: 2.3358 - acc: 0.2292 - val_loss: 2.6488 - val_acc: 0.1746\n",
            "Epoch 239/250\n",
            "89/89 [==============================] - 27s 301ms/step - loss: 2.3536 - acc: 0.2214 - val_loss: 2.6290 - val_acc: 0.1638\n",
            "Epoch 240/250\n",
            "89/89 [==============================] - 27s 297ms/step - loss: 2.3701 - acc: 0.2300 - val_loss: 2.6566 - val_acc: 0.1789\n",
            "Epoch 241/250\n",
            "89/89 [==============================] - 26s 282ms/step - loss: 2.3545 - acc: 0.2264 - val_loss: 2.6432 - val_acc: 0.1767\n",
            "Epoch 242/250\n",
            "89/89 [==============================] - 26s 282ms/step - loss: 2.3240 - acc: 0.2449 - val_loss: 2.6608 - val_acc: 0.1767\n",
            "Epoch 243/250\n",
            "89/89 [==============================] - 27s 301ms/step - loss: 2.3448 - acc: 0.2300 - val_loss: 2.6543 - val_acc: 0.1789\n",
            "Epoch 244/250\n",
            "89/89 [==============================] - 27s 300ms/step - loss: 2.3488 - acc: 0.2207 - val_loss: 2.6670 - val_acc: 0.1659\n",
            "Epoch 245/250\n",
            "89/89 [==============================] - 27s 300ms/step - loss: 2.3111 - acc: 0.2413 - val_loss: 2.6809 - val_acc: 0.1659\n",
            "Epoch 246/250\n",
            "89/89 [==============================] - 28s 304ms/step - loss: 2.3327 - acc: 0.2300 - val_loss: 2.6661 - val_acc: 0.1724\n",
            "Epoch 247/250\n",
            "89/89 [==============================] - 27s 302ms/step - loss: 2.3250 - acc: 0.2335 - val_loss: 2.6631 - val_acc: 0.1810\n",
            "Epoch 248/250\n",
            "89/89 [==============================] - 28s 304ms/step - loss: 2.3851 - acc: 0.2328 - val_loss: 2.6621 - val_acc: 0.1681\n",
            "Epoch 249/250\n",
            "89/89 [==============================] - 27s 292ms/step - loss: 2.3989 - acc: 0.2087 - val_loss: 2.6433 - val_acc: 0.1767\n",
            "Epoch 250/250\n",
            "89/89 [==============================] - 26s 281ms/step - loss: 2.4090 - acc: 0.2172 - val_loss: 2.6560 - val_acc: 0.1724\n"
          ]
        }
      ]
    },
    {
      "cell_type": "code",
      "source": [
        "acc = history.history['acc']\n",
        "val_acc = history.history['val_acc']\n",
        "loss = history.history['loss']\n",
        "val_loss = history.history['val_loss']\n",
        "\n",
        "epochs_x = range(len(acc))\n",
        "\n",
        "plt.plot(epochs_x, acc, 'co', label='Training acc')\n",
        "plt.plot(epochs_x, val_acc, 'k', label='Validation acc')\n",
        "plt.title('Training and validation accuracy')\n",
        "plt.legend()\n",
        "\n",
        "plt.figure()\n",
        "\n",
        "plt.plot(epochs_x, loss, 'co', label='Training loss')\n",
        "plt.plot(epochs_x, val_loss, 'k', label='Validation loss')\n",
        "plt.title('Training and validation loss')\n",
        "plt.legend()\n",
        "\n",
        "plt.show()"
      ],
      "metadata": {
        "id": "kwylTJpTP5XI",
        "colab": {
          "base_uri": "https://localhost:8080/",
          "height": 545
        },
        "outputId": "4d4027b8-502b-4e8e-9534-912edb0cdcee"
      },
      "execution_count": 13,
      "outputs": [
        {
          "output_type": "display_data",
          "data": {
            "text/plain": [
              "<Figure size 432x288 with 1 Axes>"
            ],
            "image/png": "[encoded data removed]"
          },
          "metadata": {
            "needs_background": "light"
          }
        },
        {
          "output_type": "display_data",
          "data": {
            "text/plain": [
              "<Figure size 432x288 with 1 Axes>"
            ],
            "image/png": "[encoded data removed]"
          },
          "metadata": {
            "needs_background": "light"
          }
        }
      ]
    },
    {
      "cell_type": "markdown",
      "source": [
        "#Download the model"
      ],
      "metadata": {
        "id": "lD-vKaoHQAFd"
      }
    },
    {
      "cell_type": "code",
      "source": [
        "os.makedirs('/content/drive/My Drive/cut_panoramic/Model', exist_ok=True)\n",
        "model.save('/content/drive/My Drive/cut_panoramic/Model/Classification/Male/M2_Train_Freeze.h5')"
      ],
      "metadata": {
        "id": "74dL7-HLP_Sh"
      },
      "execution_count": 14,
      "outputs": []
    },
    {
      "cell_type": "code",
      "source": [
        "# from google.colab import files\n",
        "# files.download('/content/drive/My Drive/cut_panoramic/Model/2.2_รอบที่2_Flimpano_Male125_250.h5')"
      ],
      "metadata": {
        "id": "qcPW-brHQDpc"
      },
      "execution_count": 15,
      "outputs": []
    },
    {
      "cell_type": "code",
      "source": [],
      "metadata": {
        "id": "swFWe5619e7a"
      },
      "execution_count": 15,
      "outputs": []
    }
  ]
}