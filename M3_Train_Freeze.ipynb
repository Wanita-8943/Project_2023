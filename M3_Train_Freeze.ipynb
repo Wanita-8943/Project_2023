{
  "nbformat": 4,
  "nbformat_minor": 0,
  "metadata": {
    "colab": {
      "provenance": [],
      "include_colab_link": true
    },
    "kernelspec": {
      "name": "python3",
      "display_name": "Python 3"
    },
    "language_info": {
      "name": "python"
    },
    "accelerator": "GPU",
    "gpuClass": "standard"
  },
  "cells": [
    {
      "cell_type": "markdown",
      "metadata": {
        "id": "view-in-github",
        "colab_type": "text"
      },
      "source": [
        "<a href=\"https://colab.research.google.com/github/Wanita-8943/Project_2023/blob/main/M3_Train_Freeze.ipynb\" target=\"_parent\"><img src=\"https://colab.research.google.com/assets/colab-badge.svg\" alt=\"Open In Colab\"/></a>"
      ]
    },
    {
      "cell_type": "code",
      "execution_count": 1,
      "metadata": {
        "id": "KKSs7cyoPHcD"
      },
      "outputs": [],
      "source": [
        "import pandas as pd\n",
        "import shutil"
      ]
    },
    {
      "cell_type": "code",
      "source": [
        "from google.colab import drive\n",
        "drive.mount('/content/drive')"
      ],
      "metadata": {
        "colab": {
          "base_uri": "https://localhost:8080/"
        },
        "id": "7LoeZxmVPMxp",
        "outputId": "24b00eac-2c70-41dd-e790-e57e695d49be"
      },
      "execution_count": 2,
      "outputs": [
        {
          "output_type": "stream",
          "name": "stdout",
          "text": [
            "Mounted at /content/drive\n"
          ]
        }
      ]
    },
    {
      "cell_type": "code",
      "source": [
        "from tensorflow.keras import models\n",
        "from tensorflow.keras import layers\n",
        "from tensorflow.keras import optimizers\n",
        "import os\n",
        "import glob\n",
        "import shutil\n",
        "import sys\n",
        "import numpy as np\n",
        "from skimage.io import imread\n",
        "import matplotlib.pyplot as plt\n",
        "from IPython.display import Image\n",
        "%matplotlib inline"
      ],
      "metadata": {
        "id": "1pX9g1HxPM2f"
      },
      "execution_count": 3,
      "outputs": []
    },
    {
      "cell_type": "code",
      "source": [
        "batch_size = 16\n",
        "width = 150\n",
        "height = 150\n",
        "epochs = 250\n",
        "NUM_TRAIN = 1425\n",
        "NUM_TEST = 475\n",
        "dropout_rate = 0.2\n",
        "input_shape = (height, width, 3)"
      ],
      "metadata": {
        "id": "eSFtvGyvPM6O"
      },
      "execution_count": 4,
      "outputs": []
    },
    {
      "cell_type": "code",
      "source": [
        "#ดึงข้อมูลใน Github มาใช้\n",
        "import os\n",
        "%cd /content\n",
        "if not os.path.isdir(\"efficientnet_keras_transfer_learning\"):\n",
        " !git clone https://github.com/Wanita-8943/efficientnet_keras_transfer_learning\n",
        "%cd efficientnet_keras_transfer_learning/"
      ],
      "metadata": {
        "colab": {
          "base_uri": "https://localhost:8080/"
        },
        "id": "lb4K4CsMPNAW",
        "outputId": "cc049ad7-fe42-43e4-9bd8-fa03c2557863"
      },
      "execution_count": 5,
      "outputs": [
        {
          "output_type": "stream",
          "name": "stdout",
          "text": [
            "/content\n",
            "Cloning into 'efficientnet_keras_transfer_learning'...\n",
            "remote: Enumerating objects: 837, done.\u001b[K\n",
            "remote: Total 837 (delta 0), reused 0 (delta 0), pack-reused 837\u001b[K\n",
            "Receiving objects: 100% (837/837), 13.85 MiB | 21.66 MiB/s, done.\n",
            "Resolving deltas: 100% (497/497), done.\n",
            "/content/efficientnet_keras_transfer_learning\n"
          ]
        }
      ]
    },
    {
      "cell_type": "code",
      "source": [
        "# Options: EfficientNetB0, EfficientNetB1, EfficientNetB2, EfficientNetB3\n",
        "# Higher the number, the more complex the model is.\n",
        "from efficientnet import EfficientNetB0 as Net\n",
        "from efficientnet import center_crop_and_resize, preprocess_input"
      ],
      "metadata": {
        "id": "eyBg0dLKPND3"
      },
      "execution_count": 6,
      "outputs": []
    },
    {
      "cell_type": "code",
      "source": [
        "base_dir = '/content/drive/MyDrive/TVT_Male125'\n",
        "os.makedirs(base_dir, exist_ok=True)\n",
        "\n",
        "# Directories for our training,\n",
        "# validation and test splits\n",
        "train_dir = os.path.join(base_dir, 'train')\n",
        "os.makedirs(train_dir, exist_ok=True)\n",
        "validation_dir = os.path.join(base_dir, 'validation')\n",
        "os.makedirs(validation_dir, exist_ok=True)\n",
        "test_dir = os.path.join(base_dir, 'test')\n",
        "os.makedirs(test_dir, exist_ok=True)"
      ],
      "metadata": {
        "id": "Jwpq_-KvPef8"
      },
      "execution_count": 7,
      "outputs": []
    },
    {
      "cell_type": "markdown",
      "source": [
        "#load model"
      ],
      "metadata": {
        "id": "od-ZSNm5PoGy"
      }
    },
    {
      "cell_type": "code",
      "source": [
        "import sys\n",
        "sys.path.append('/content/drive/MyDrive/cut_panoramic/Model/Classification/Male/M2_Train_Freeze.h5')\n",
        "\n",
        "from efficientnet.layers import Swish, DropConnect\n",
        "from efficientnet.model import ConvKernalInitializer\n",
        "from tensorflow.keras.utils import get_custom_objects\n",
        "\n",
        "get_custom_objects().update({\n",
        "    'ConvKernalInitializer': ConvKernalInitializer,\n",
        "    'Swish': Swish,\n",
        "    'DropConnect':DropConnect\n",
        "})"
      ],
      "metadata": {
        "id": "n5iPL5MNPkhE"
      },
      "execution_count": 8,
      "outputs": []
    },
    {
      "cell_type": "code",
      "source": [
        "#load model \n",
        "from tensorflow.keras.models import load_model\n",
        "model = load_model('/content/drive/MyDrive/cut_panoramic/Model/Classification/Male/M2_Train_Freeze.h5')\n",
        "height = width = model.input_shape[1]"
      ],
      "metadata": {
        "id": "plYz49xMPkly",
        "colab": {
          "base_uri": "https://localhost:8080/"
        },
        "outputId": "0827b572-0cc4-4aad-818b-e7108324a7a7"
      },
      "execution_count": 9,
      "outputs": [
        {
          "output_type": "stream",
          "name": "stderr",
          "text": [
            "WARNING:tensorflow:From /usr/local/lib/python3.8/dist-packages/tensorflow/python/autograph/pyct/static_analysis/liveness.py:83: Analyzer.lamba_check (from tensorflow.python.autograph.pyct.static_analysis.liveness) is deprecated and will be removed after 2023-09-23.\n",
            "Instructions for updating:\n",
            "Lambda fuctions will be no more assumed to be used in the statement where they are used, or at least in the same block. https://github.com/tensorflow/tensorflow/issues/56089\n"
          ]
        }
      ]
    },
    {
      "cell_type": "code",
      "source": [
        "model.summary()"
      ],
      "metadata": {
        "colab": {
          "base_uri": "https://localhost:8080/"
        },
        "id": "z6IOPBflFbvc",
        "outputId": "38f487c1-bcf7-4ceb-eb2d-9b741624a9a4"
      },
      "execution_count": 10,
      "outputs": [
        {
          "output_type": "stream",
          "name": "stdout",
          "text": [
            "Model: \"sequential\"\n",
            "_________________________________________________________________\n",
            " Layer (type)                Output Shape              Param #   \n",
            "=================================================================\n",
            " efficientnet-b0 (Functional  (None, 5, 5, 1280)       4049564   \n",
            " )                                                               \n",
            "                                                                 \n",
            " gap (GlobalMaxPooling2D)    (None, 1280)              0         \n",
            "                                                                 \n",
            " dropout_out (Dropout)       (None, 1280)              0         \n",
            "                                                                 \n",
            " fc_out (Dense)              (None, 19)                24339     \n",
            "                                                                 \n",
            "=================================================================\n",
            "Total params: 4,073,903\n",
            "Trainable params: 24,339\n",
            "Non-trainable params: 4,049,564\n",
            "_________________________________________________________________\n"
          ]
        }
      ]
    },
    {
      "cell_type": "code",
      "source": [
        "# Train ด้วย ImageDataGenerator ของ Keras ซึ่งจะเพิ่มข้อมูลเสริมระหว่างการฝึกเพื่อลดโอกาสเกิด overfitting\n",
        "#overfitting เกิดจากข้อมูลที่ซับซ้อนกันเกินไป\n",
        "from tensorflow.keras.preprocessing.image import ImageDataGenerator\n",
        "\n",
        "train_datagen = ImageDataGenerator(\n",
        "      rescale=1./255, #โมเดลส่วนใหญ่ต้องใช้ RGB ในช่วง 0–1\n",
        "      rotation_range=40,\n",
        "      width_shift_range=0.2,\n",
        "      height_shift_range=0.2,\n",
        "      shear_range=0.2,\n",
        "      zoom_range=0.2,\n",
        "      horizontal_flip=True,\n",
        "      fill_mode='nearest')\n",
        "\n",
        "# Note that the validation data should not be augmented!\n",
        "test_datagen = ImageDataGenerator(rescale=1./255)\n",
        "\n",
        "train_generator = train_datagen.flow_from_directory(\n",
        "        # This is the target directory #ไดเรกเป้าหมาย\n",
        "        train_dir,\n",
        "        # รูปภาพทั้งหมดจะถูกปรับขนาดตามความสูงและความกว้างของเป้าหมาย\n",
        "        target_size=(height, width),\n",
        "        batch_size=batch_size,\n",
        "        # Since we use categorical_crossentropy loss, we need categorical labels\n",
        "        #เนื่องจากเราใช้ categorical_crossentropy loss เราจึงต้องมีป้ายกำกับตามหมวดหมู่\n",
        "        class_mode='categorical')\n",
        "\n",
        "validation_generator = test_datagen.flow_from_directory( #การดึงภาพจาก Directory มาเข้าโมเดล \n",
        "        validation_dir,\n",
        "        target_size=(height, width),\n",
        "        batch_size=batch_size,\n",
        "        class_mode='categorical')"
      ],
      "metadata": {
        "colab": {
          "base_uri": "https://localhost:8080/"
        },
        "id": "KBMZbdr2Pgw4",
        "outputId": "81320fe5-61fd-44a1-b192-8e4d1796eff7"
      },
      "execution_count": 11,
      "outputs": [
        {
          "output_type": "stream",
          "name": "stdout",
          "text": [
            "Found 1425 images belonging to 19 classes.\n",
            "Found 475 images belonging to 19 classes.\n"
          ]
        }
      ]
    },
    {
      "cell_type": "code",
      "source": [
        "model.compile(loss='categorical_crossentropy',\n",
        "              optimizer=optimizers.RMSprop(learning_rate=2e-5),\n",
        "              metrics=['acc'])\n",
        "history = model.fit_generator(\n",
        "      train_generator,\n",
        "      steps_per_epoch= NUM_TRAIN //batch_size,\n",
        "      epochs=epochs,\n",
        "      validation_data=validation_generator,\n",
        "      validation_steps= NUM_TEST //batch_size,\n",
        "      verbose=1,\n",
        "      use_multiprocessing=True,\n",
        "      workers=4)"
      ],
      "metadata": {
        "colab": {
          "base_uri": "https://localhost:8080/"
        },
        "id": "C9Cf1dwyP1PD",
        "outputId": "26fc7254-c310-41aa-d2cc-e6cfa069b717"
      },
      "execution_count": 12,
      "outputs": [
        {
          "output_type": "stream",
          "name": "stderr",
          "text": [
            "<ipython-input-12-95ae5648fc7b>:4: UserWarning: `Model.fit_generator` is deprecated and will be removed in a future version. Please use `Model.fit`, which supports generators.\n",
            "  history = model.fit_generator(\n"
          ]
        },
        {
          "output_type": "stream",
          "name": "stdout",
          "text": [
            "Epoch 1/250\n",
            "89/89 [==============================] - 224s 2s/step - loss: 2.3682 - acc: 0.2122 - val_loss: 2.6584 - val_acc: 0.1681\n",
            "Epoch 2/250\n",
            "89/89 [==============================] - 27s 291ms/step - loss: 2.3406 - acc: 0.2427 - val_loss: 2.6702 - val_acc: 0.1659\n",
            "Epoch 3/250\n",
            "89/89 [==============================] - 21s 233ms/step - loss: 2.3299 - acc: 0.2292 - val_loss: 2.6439 - val_acc: 0.1659\n",
            "Epoch 4/250\n",
            "89/89 [==============================] - 28s 307ms/step - loss: 2.3710 - acc: 0.2193 - val_loss: 2.6541 - val_acc: 0.1746\n",
            "Epoch 5/250\n",
            "89/89 [==============================] - 23s 247ms/step - loss: 2.3745 - acc: 0.2136 - val_loss: 2.6504 - val_acc: 0.1746\n",
            "Epoch 6/250\n",
            "89/89 [==============================] - 23s 248ms/step - loss: 2.3273 - acc: 0.2300 - val_loss: 2.6641 - val_acc: 0.1703\n",
            "Epoch 7/250\n",
            "89/89 [==============================] - 30s 324ms/step - loss: 2.3151 - acc: 0.2349 - val_loss: 2.6497 - val_acc: 0.1746\n",
            "Epoch 8/250\n",
            "89/89 [==============================] - 28s 300ms/step - loss: 2.3528 - acc: 0.2193 - val_loss: 2.6429 - val_acc: 0.1703\n",
            "Epoch 9/250\n",
            "89/89 [==============================] - 32s 357ms/step - loss: 2.3693 - acc: 0.2314 - val_loss: 2.6675 - val_acc: 0.1659\n",
            "Epoch 10/250\n",
            "89/89 [==============================] - 26s 290ms/step - loss: 2.3521 - acc: 0.2264 - val_loss: 2.6763 - val_acc: 0.1638\n",
            "Epoch 11/250\n",
            "89/89 [==============================] - 22s 238ms/step - loss: 2.3379 - acc: 0.2292 - val_loss: 2.6443 - val_acc: 0.1746\n",
            "Epoch 12/250\n",
            "89/89 [==============================] - 28s 314ms/step - loss: 2.3232 - acc: 0.2441 - val_loss: 2.6502 - val_acc: 0.1724\n",
            "Epoch 13/250\n",
            "89/89 [==============================] - 29s 323ms/step - loss: 2.3819 - acc: 0.2356 - val_loss: 2.6456 - val_acc: 0.1681\n",
            "Epoch 14/250\n",
            "89/89 [==============================] - 28s 311ms/step - loss: 2.2884 - acc: 0.2370 - val_loss: 2.6709 - val_acc: 0.1703\n",
            "Epoch 15/250\n",
            "89/89 [==============================] - 28s 309ms/step - loss: 2.3069 - acc: 0.2285 - val_loss: 2.6580 - val_acc: 0.1703\n",
            "Epoch 16/250\n",
            "89/89 [==============================] - 27s 299ms/step - loss: 2.2863 - acc: 0.2285 - val_loss: 2.6174 - val_acc: 0.1746\n",
            "Epoch 17/250\n",
            "89/89 [==============================] - 27s 294ms/step - loss: 2.3440 - acc: 0.2136 - val_loss: 2.6761 - val_acc: 0.1703\n",
            "Epoch 18/250\n",
            "89/89 [==============================] - 26s 291ms/step - loss: 2.3561 - acc: 0.2165 - val_loss: 2.6597 - val_acc: 0.1638\n",
            "Epoch 19/250\n",
            "89/89 [==============================] - 27s 292ms/step - loss: 2.3304 - acc: 0.2370 - val_loss: 2.6574 - val_acc: 0.1724\n",
            "Epoch 20/250\n",
            "89/89 [==============================] - 27s 293ms/step - loss: 2.3637 - acc: 0.2193 - val_loss: 2.6722 - val_acc: 0.1703\n",
            "Epoch 21/250\n",
            "89/89 [==============================] - 27s 293ms/step - loss: 2.3023 - acc: 0.2356 - val_loss: 2.6602 - val_acc: 0.1659\n",
            "Epoch 22/250\n",
            "89/89 [==============================] - 27s 300ms/step - loss: 2.3044 - acc: 0.2292 - val_loss: 2.6667 - val_acc: 0.1616\n",
            "Epoch 23/250\n",
            "89/89 [==============================] - 28s 307ms/step - loss: 2.3524 - acc: 0.2193 - val_loss: 2.6443 - val_acc: 0.1638\n",
            "Epoch 24/250\n",
            "89/89 [==============================] - 28s 310ms/step - loss: 2.3408 - acc: 0.2108 - val_loss: 2.6429 - val_acc: 0.1703\n",
            "Epoch 25/250\n",
            "89/89 [==============================] - 27s 302ms/step - loss: 2.3545 - acc: 0.2136 - val_loss: 2.6585 - val_acc: 0.1681\n",
            "Epoch 26/250\n",
            "89/89 [==============================] - 27s 299ms/step - loss: 2.3553 - acc: 0.2172 - val_loss: 2.6486 - val_acc: 0.1724\n",
            "Epoch 27/250\n",
            "89/89 [==============================] - 27s 293ms/step - loss: 2.3631 - acc: 0.2214 - val_loss: 2.6622 - val_acc: 0.1703\n",
            "Epoch 28/250\n",
            "89/89 [==============================] - 27s 294ms/step - loss: 2.3293 - acc: 0.2300 - val_loss: 2.6329 - val_acc: 0.1659\n",
            "Epoch 29/250\n",
            "89/89 [==============================] - 27s 293ms/step - loss: 2.3366 - acc: 0.2292 - val_loss: 2.6441 - val_acc: 0.1616\n",
            "Epoch 30/250\n",
            "89/89 [==============================] - 27s 290ms/step - loss: 2.3672 - acc: 0.2292 - val_loss: 2.6547 - val_acc: 0.1703\n",
            "Epoch 31/250\n",
            "89/89 [==============================] - 28s 306ms/step - loss: 2.3472 - acc: 0.2292 - val_loss: 2.6631 - val_acc: 0.1638\n",
            "Epoch 32/250\n",
            "89/89 [==============================] - 28s 303ms/step - loss: 2.3545 - acc: 0.2172 - val_loss: 2.6459 - val_acc: 0.1659\n",
            "Epoch 33/250\n",
            "89/89 [==============================] - 27s 295ms/step - loss: 2.3149 - acc: 0.2328 - val_loss: 2.6395 - val_acc: 0.1703\n",
            "Epoch 34/250\n",
            "89/89 [==============================] - 29s 315ms/step - loss: 2.3368 - acc: 0.2420 - val_loss: 2.6547 - val_acc: 0.1746\n",
            "Epoch 35/250\n",
            "89/89 [==============================] - 29s 314ms/step - loss: 2.2758 - acc: 0.2250 - val_loss: 2.6351 - val_acc: 0.1703\n",
            "Epoch 36/250\n",
            "89/89 [==============================] - 28s 304ms/step - loss: 2.3180 - acc: 0.2392 - val_loss: 2.6490 - val_acc: 0.1703\n",
            "Epoch 37/250\n",
            "89/89 [==============================] - 27s 296ms/step - loss: 2.3090 - acc: 0.2385 - val_loss: 2.6468 - val_acc: 0.1724\n",
            "Epoch 38/250\n",
            "89/89 [==============================] - 22s 236ms/step - loss: 2.3171 - acc: 0.2158 - val_loss: 2.6415 - val_acc: 0.1746\n",
            "Epoch 39/250\n",
            "89/89 [==============================] - 23s 241ms/step - loss: 2.3739 - acc: 0.2058 - val_loss: 2.6467 - val_acc: 0.1703\n",
            "Epoch 40/250\n",
            "89/89 [==============================] - 28s 312ms/step - loss: 2.3353 - acc: 0.2335 - val_loss: 2.6224 - val_acc: 0.1789\n",
            "Epoch 41/250\n",
            "89/89 [==============================] - 28s 308ms/step - loss: 2.3507 - acc: 0.2087 - val_loss: 2.6593 - val_acc: 0.1746\n",
            "Epoch 42/250\n",
            "89/89 [==============================] - 23s 252ms/step - loss: 2.3440 - acc: 0.2243 - val_loss: 2.6654 - val_acc: 0.1681\n",
            "Epoch 43/250\n",
            "89/89 [==============================] - 27s 290ms/step - loss: 2.2698 - acc: 0.2385 - val_loss: 2.6510 - val_acc: 0.1767\n",
            "Epoch 44/250\n",
            "89/89 [==============================] - 26s 291ms/step - loss: 2.3343 - acc: 0.2349 - val_loss: 2.6373 - val_acc: 0.1703\n",
            "Epoch 45/250\n",
            "89/89 [==============================] - 27s 292ms/step - loss: 2.3297 - acc: 0.2264 - val_loss: 2.6712 - val_acc: 0.1703\n",
            "Epoch 46/250\n",
            "89/89 [==============================] - 26s 289ms/step - loss: 2.2898 - acc: 0.2548 - val_loss: 2.6619 - val_acc: 0.1703\n",
            "Epoch 47/250\n",
            "89/89 [==============================] - 27s 291ms/step - loss: 2.2736 - acc: 0.2463 - val_loss: 2.6747 - val_acc: 0.1746\n",
            "Epoch 48/250\n",
            "89/89 [==============================] - 27s 302ms/step - loss: 2.3009 - acc: 0.2434 - val_loss: 2.6533 - val_acc: 0.1659\n",
            "Epoch 49/250\n",
            "89/89 [==============================] - 28s 309ms/step - loss: 2.3457 - acc: 0.2150 - val_loss: 2.6734 - val_acc: 0.1595\n",
            "Epoch 50/250\n",
            "89/89 [==============================] - 26s 290ms/step - loss: 2.3336 - acc: 0.2328 - val_loss: 2.6705 - val_acc: 0.1616\n",
            "Epoch 51/250\n",
            "89/89 [==============================] - 26s 292ms/step - loss: 2.3201 - acc: 0.2378 - val_loss: 2.6637 - val_acc: 0.1853\n",
            "Epoch 52/250\n",
            "89/89 [==============================] - 26s 288ms/step - loss: 2.3228 - acc: 0.2207 - val_loss: 2.6856 - val_acc: 0.1659\n",
            "Epoch 53/250\n",
            "89/89 [==============================] - 22s 235ms/step - loss: 2.2755 - acc: 0.2548 - val_loss: 2.6621 - val_acc: 0.1616\n",
            "Epoch 54/250\n",
            "89/89 [==============================] - 27s 302ms/step - loss: 2.2785 - acc: 0.2541 - val_loss: 2.6735 - val_acc: 0.1724\n",
            "Epoch 55/250\n",
            "89/89 [==============================] - 28s 306ms/step - loss: 2.2994 - acc: 0.2427 - val_loss: 2.6583 - val_acc: 0.1746\n",
            "Epoch 56/250\n",
            "89/89 [==============================] - 28s 303ms/step - loss: 2.3138 - acc: 0.2328 - val_loss: 2.6721 - val_acc: 0.1638\n",
            "Epoch 57/250\n",
            "89/89 [==============================] - 27s 297ms/step - loss: 2.3271 - acc: 0.2335 - val_loss: 2.6642 - val_acc: 0.1616\n",
            "Epoch 58/250\n",
            "89/89 [==============================] - 28s 309ms/step - loss: 2.2563 - acc: 0.2434 - val_loss: 2.6539 - val_acc: 0.1638\n",
            "Epoch 59/250\n",
            "89/89 [==============================] - 28s 303ms/step - loss: 2.3179 - acc: 0.2321 - val_loss: 2.6843 - val_acc: 0.1595\n",
            "Epoch 60/250\n",
            "89/89 [==============================] - 28s 306ms/step - loss: 2.3404 - acc: 0.2456 - val_loss: 2.6617 - val_acc: 0.1703\n",
            "Epoch 61/250\n",
            "89/89 [==============================] - 28s 309ms/step - loss: 2.3344 - acc: 0.2392 - val_loss: 2.6827 - val_acc: 0.1573\n",
            "Epoch 62/250\n",
            "89/89 [==============================] - 28s 304ms/step - loss: 2.3335 - acc: 0.2356 - val_loss: 2.6656 - val_acc: 0.1595\n",
            "Epoch 63/250\n",
            "89/89 [==============================] - 29s 314ms/step - loss: 2.2854 - acc: 0.2349 - val_loss: 2.6709 - val_acc: 0.1659\n",
            "Epoch 64/250\n",
            "89/89 [==============================] - 28s 304ms/step - loss: 2.2957 - acc: 0.2392 - val_loss: 2.6890 - val_acc: 0.1595\n",
            "Epoch 65/250\n",
            "89/89 [==============================] - 28s 308ms/step - loss: 2.3085 - acc: 0.2406 - val_loss: 2.6776 - val_acc: 0.1573\n",
            "Epoch 66/250\n",
            "89/89 [==============================] - 28s 305ms/step - loss: 2.3117 - acc: 0.2314 - val_loss: 2.6588 - val_acc: 0.1681\n",
            "Epoch 67/250\n",
            "89/89 [==============================] - 28s 305ms/step - loss: 2.3159 - acc: 0.2434 - val_loss: 2.6644 - val_acc: 0.1616\n",
            "Epoch 68/250\n",
            "89/89 [==============================] - 27s 298ms/step - loss: 2.3016 - acc: 0.2278 - val_loss: 2.6566 - val_acc: 0.1659\n",
            "Epoch 69/250\n",
            "89/89 [==============================] - 27s 292ms/step - loss: 2.3163 - acc: 0.2214 - val_loss: 2.6540 - val_acc: 0.1767\n",
            "Epoch 70/250\n",
            "89/89 [==============================] - 27s 292ms/step - loss: 2.3223 - acc: 0.2342 - val_loss: 2.6703 - val_acc: 0.1638\n",
            "Epoch 71/250\n",
            "89/89 [==============================] - 26s 289ms/step - loss: 2.3566 - acc: 0.2143 - val_loss: 2.6677 - val_acc: 0.1659\n",
            "Epoch 72/250\n",
            "89/89 [==============================] - 27s 292ms/step - loss: 2.3084 - acc: 0.2328 - val_loss: 2.6674 - val_acc: 0.1746\n",
            "Epoch 73/250\n",
            "89/89 [==============================] - 27s 291ms/step - loss: 2.2935 - acc: 0.2406 - val_loss: 2.6906 - val_acc: 0.1638\n",
            "Epoch 74/250\n",
            "89/89 [==============================] - 27s 302ms/step - loss: 2.3176 - acc: 0.2406 - val_loss: 2.6895 - val_acc: 0.1659\n",
            "Epoch 75/250\n",
            "89/89 [==============================] - 28s 311ms/step - loss: 2.2882 - acc: 0.2356 - val_loss: 2.6904 - val_acc: 0.1659\n",
            "Epoch 76/250\n",
            "89/89 [==============================] - 27s 297ms/step - loss: 2.2170 - acc: 0.2548 - val_loss: 2.6833 - val_acc: 0.1724\n",
            "Epoch 77/250\n",
            "89/89 [==============================] - 28s 306ms/step - loss: 2.3314 - acc: 0.2186 - val_loss: 2.6991 - val_acc: 0.1638\n",
            "Epoch 78/250\n",
            "89/89 [==============================] - 28s 309ms/step - loss: 2.3244 - acc: 0.2257 - val_loss: 2.6931 - val_acc: 0.1681\n",
            "Epoch 79/250\n",
            "89/89 [==============================] - 28s 307ms/step - loss: 2.3109 - acc: 0.2434 - val_loss: 2.6866 - val_acc: 0.1616\n",
            "Epoch 80/250\n",
            "89/89 [==============================] - 27s 291ms/step - loss: 2.3045 - acc: 0.2278 - val_loss: 2.6939 - val_acc: 0.1724\n",
            "Epoch 81/250\n",
            "89/89 [==============================] - 28s 308ms/step - loss: 2.2612 - acc: 0.2392 - val_loss: 2.6814 - val_acc: 0.1595\n",
            "Epoch 82/250\n",
            "89/89 [==============================] - 27s 297ms/step - loss: 2.2900 - acc: 0.2278 - val_loss: 2.6671 - val_acc: 0.1724\n",
            "Epoch 83/250\n",
            "89/89 [==============================] - 28s 306ms/step - loss: 2.2922 - acc: 0.2385 - val_loss: 2.6570 - val_acc: 0.1681\n",
            "Epoch 84/250\n",
            "89/89 [==============================] - 29s 315ms/step - loss: 2.3235 - acc: 0.2321 - val_loss: 2.6644 - val_acc: 0.1659\n",
            "Epoch 85/250\n",
            "89/89 [==============================] - 28s 303ms/step - loss: 2.3058 - acc: 0.2385 - val_loss: 2.6823 - val_acc: 0.1681\n",
            "Epoch 86/250\n",
            "89/89 [==============================] - 26s 280ms/step - loss: 2.2749 - acc: 0.2406 - val_loss: 2.6696 - val_acc: 0.1595\n",
            "Epoch 87/250\n",
            "89/89 [==============================] - 27s 289ms/step - loss: 2.2825 - acc: 0.2378 - val_loss: 2.6932 - val_acc: 0.1616\n",
            "Epoch 88/250\n",
            "89/89 [==============================] - 26s 289ms/step - loss: 2.2746 - acc: 0.2307 - val_loss: 2.6843 - val_acc: 0.1616\n",
            "Epoch 89/250\n",
            "89/89 [==============================] - 27s 293ms/step - loss: 2.2877 - acc: 0.2449 - val_loss: 2.6403 - val_acc: 0.1573\n",
            "Epoch 90/250\n",
            "89/89 [==============================] - 26s 290ms/step - loss: 2.3545 - acc: 0.2441 - val_loss: 2.6594 - val_acc: 0.1681\n",
            "Epoch 91/250\n",
            "89/89 [==============================] - 27s 293ms/step - loss: 2.3217 - acc: 0.2250 - val_loss: 2.6842 - val_acc: 0.1681\n",
            "Epoch 92/250\n",
            "89/89 [==============================] - 22s 234ms/step - loss: 2.2949 - acc: 0.2214 - val_loss: 2.6997 - val_acc: 0.1681\n",
            "Epoch 93/250\n",
            "89/89 [==============================] - 28s 302ms/step - loss: 2.3385 - acc: 0.2250 - val_loss: 2.6878 - val_acc: 0.1659\n",
            "Epoch 94/250\n",
            "89/89 [==============================] - 23s 247ms/step - loss: 2.2982 - acc: 0.2264 - val_loss: 2.6738 - val_acc: 0.1659\n",
            "Epoch 95/250\n",
            "89/89 [==============================] - 27s 301ms/step - loss: 2.3069 - acc: 0.2285 - val_loss: 2.6901 - val_acc: 0.1616\n",
            "Epoch 96/250\n",
            "89/89 [==============================] - 28s 304ms/step - loss: 2.2563 - acc: 0.2498 - val_loss: 2.6741 - val_acc: 0.1616\n",
            "Epoch 97/250\n",
            "89/89 [==============================] - 27s 300ms/step - loss: 2.3181 - acc: 0.2236 - val_loss: 2.7111 - val_acc: 0.1681\n",
            "Epoch 98/250\n",
            "89/89 [==============================] - 29s 315ms/step - loss: 2.2349 - acc: 0.2590 - val_loss: 2.6695 - val_acc: 0.1638\n",
            "Epoch 99/250\n",
            "89/89 [==============================] - 28s 308ms/step - loss: 2.2607 - acc: 0.2378 - val_loss: 2.6801 - val_acc: 0.1595\n",
            "Epoch 100/250\n",
            "89/89 [==============================] - 28s 303ms/step - loss: 2.3093 - acc: 0.2122 - val_loss: 2.6977 - val_acc: 0.1724\n",
            "Epoch 101/250\n",
            "89/89 [==============================] - 31s 336ms/step - loss: 2.2479 - acc: 0.2562 - val_loss: 2.6619 - val_acc: 0.1703\n",
            "Epoch 102/250\n",
            "89/89 [==============================] - 28s 302ms/step - loss: 2.2964 - acc: 0.2477 - val_loss: 2.6501 - val_acc: 0.1659\n",
            "Epoch 103/250\n",
            "89/89 [==============================] - 26s 287ms/step - loss: 2.2745 - acc: 0.2321 - val_loss: 2.6624 - val_acc: 0.1573\n",
            "Epoch 104/250\n",
            "89/89 [==============================] - 29s 320ms/step - loss: 2.3166 - acc: 0.2385 - val_loss: 2.6781 - val_acc: 0.1573\n",
            "Epoch 105/250\n",
            "89/89 [==============================] - 28s 304ms/step - loss: 2.2957 - acc: 0.2413 - val_loss: 2.6688 - val_acc: 0.1659\n",
            "Epoch 106/250\n",
            "89/89 [==============================] - 27s 293ms/step - loss: 2.2796 - acc: 0.2321 - val_loss: 2.6702 - val_acc: 0.1659\n",
            "Epoch 107/250\n",
            "89/89 [==============================] - 28s 309ms/step - loss: 2.2887 - acc: 0.2449 - val_loss: 2.6842 - val_acc: 0.1552\n",
            "Epoch 108/250\n",
            "89/89 [==============================] - 28s 309ms/step - loss: 2.2791 - acc: 0.2349 - val_loss: 2.6972 - val_acc: 0.1552\n",
            "Epoch 109/250\n",
            "89/89 [==============================] - 23s 251ms/step - loss: 2.2485 - acc: 0.2527 - val_loss: 2.6902 - val_acc: 0.1638\n",
            "Epoch 110/250\n",
            "89/89 [==============================] - 22s 236ms/step - loss: 2.2557 - acc: 0.2434 - val_loss: 2.7056 - val_acc: 0.1616\n",
            "Epoch 111/250\n",
            "89/89 [==============================] - 27s 290ms/step - loss: 2.2418 - acc: 0.2477 - val_loss: 2.6920 - val_acc: 0.1616\n",
            "Epoch 112/250\n",
            "89/89 [==============================] - 27s 296ms/step - loss: 2.3076 - acc: 0.2221 - val_loss: 2.6769 - val_acc: 0.1638\n",
            "Epoch 113/250\n",
            "89/89 [==============================] - 22s 237ms/step - loss: 2.2748 - acc: 0.2458 - val_loss: 2.7078 - val_acc: 0.1509\n",
            "Epoch 114/250\n",
            "89/89 [==============================] - 23s 240ms/step - loss: 2.2594 - acc: 0.2491 - val_loss: 2.7202 - val_acc: 0.1616\n",
            "Epoch 115/250\n",
            "89/89 [==============================] - 30s 319ms/step - loss: 2.2735 - acc: 0.2392 - val_loss: 2.6891 - val_acc: 0.1638\n",
            "Epoch 116/250\n",
            "89/89 [==============================] - 26s 290ms/step - loss: 2.3012 - acc: 0.2363 - val_loss: 2.7174 - val_acc: 0.1552\n",
            "Epoch 117/250\n",
            "89/89 [==============================] - 22s 240ms/step - loss: 2.3189 - acc: 0.2200 - val_loss: 2.7173 - val_acc: 0.1509\n",
            "Epoch 118/250\n",
            "89/89 [==============================] - 28s 306ms/step - loss: 2.2496 - acc: 0.2491 - val_loss: 2.6968 - val_acc: 0.1616\n",
            "Epoch 119/250\n",
            "89/89 [==============================] - 28s 310ms/step - loss: 2.2342 - acc: 0.2576 - val_loss: 2.7027 - val_acc: 0.1616\n",
            "Epoch 120/250\n",
            "89/89 [==============================] - 27s 295ms/step - loss: 2.2918 - acc: 0.2363 - val_loss: 2.6615 - val_acc: 0.1616\n",
            "Epoch 121/250\n",
            "89/89 [==============================] - 24s 262ms/step - loss: 2.2778 - acc: 0.2441 - val_loss: 2.6919 - val_acc: 0.1573\n",
            "Epoch 122/250\n",
            "89/89 [==============================] - 27s 293ms/step - loss: 2.2504 - acc: 0.2427 - val_loss: 2.6904 - val_acc: 0.1724\n",
            "Epoch 123/250\n",
            "89/89 [==============================] - 27s 291ms/step - loss: 2.2611 - acc: 0.2535 - val_loss: 2.6657 - val_acc: 0.1616\n",
            "Epoch 124/250\n",
            "89/89 [==============================] - 28s 306ms/step - loss: 2.3174 - acc: 0.2335 - val_loss: 2.6939 - val_acc: 0.1659\n",
            "Epoch 125/250\n",
            "89/89 [==============================] - 23s 252ms/step - loss: 2.2864 - acc: 0.2363 - val_loss: 2.6969 - val_acc: 0.1509\n",
            "Epoch 126/250\n",
            "89/89 [==============================] - 22s 233ms/step - loss: 2.2162 - acc: 0.2548 - val_loss: 2.6983 - val_acc: 0.1573\n",
            "Epoch 127/250\n",
            "89/89 [==============================] - 27s 291ms/step - loss: 2.2544 - acc: 0.2363 - val_loss: 2.6869 - val_acc: 0.1638\n",
            "Epoch 128/250\n",
            "89/89 [==============================] - 26s 290ms/step - loss: 2.2349 - acc: 0.2555 - val_loss: 2.6998 - val_acc: 0.1724\n",
            "Epoch 129/250\n",
            "89/89 [==============================] - 22s 236ms/step - loss: 2.2935 - acc: 0.2349 - val_loss: 2.6758 - val_acc: 0.1616\n",
            "Epoch 130/250\n",
            "89/89 [==============================] - 28s 312ms/step - loss: 2.2727 - acc: 0.2491 - val_loss: 2.6659 - val_acc: 0.1552\n",
            "Epoch 131/250\n",
            "89/89 [==============================] - 31s 338ms/step - loss: 2.2791 - acc: 0.2370 - val_loss: 2.7070 - val_acc: 0.1681\n",
            "Epoch 132/250\n",
            "89/89 [==============================] - 28s 313ms/step - loss: 2.2988 - acc: 0.2250 - val_loss: 2.7165 - val_acc: 0.1552\n",
            "Epoch 133/250\n",
            "89/89 [==============================] - 29s 315ms/step - loss: 2.2692 - acc: 0.2441 - val_loss: 2.7132 - val_acc: 0.1659\n",
            "Epoch 134/250\n",
            "89/89 [==============================] - 29s 314ms/step - loss: 2.2745 - acc: 0.2321 - val_loss: 2.7116 - val_acc: 0.1638\n",
            "Epoch 135/250\n",
            "89/89 [==============================] - 28s 313ms/step - loss: 2.2082 - acc: 0.2505 - val_loss: 2.6832 - val_acc: 0.1681\n",
            "Epoch 136/250\n",
            "89/89 [==============================] - 29s 318ms/step - loss: 2.2774 - acc: 0.2434 - val_loss: 2.6762 - val_acc: 0.1746\n",
            "Epoch 137/250\n",
            "89/89 [==============================] - 29s 320ms/step - loss: 2.2527 - acc: 0.2484 - val_loss: 2.6988 - val_acc: 0.1681\n",
            "Epoch 138/250\n",
            "89/89 [==============================] - 29s 315ms/step - loss: 2.2858 - acc: 0.2186 - val_loss: 2.7256 - val_acc: 0.1659\n",
            "Epoch 139/250\n",
            "89/89 [==============================] - 28s 309ms/step - loss: 2.2800 - acc: 0.2342 - val_loss: 2.7087 - val_acc: 0.1659\n",
            "Epoch 140/250\n",
            "89/89 [==============================] - 27s 297ms/step - loss: 2.2419 - acc: 0.2633 - val_loss: 2.6985 - val_acc: 0.1681\n",
            "Epoch 141/250\n",
            "89/89 [==============================] - 27s 292ms/step - loss: 2.2198 - acc: 0.2520 - val_loss: 2.6991 - val_acc: 0.1638\n",
            "Epoch 142/250\n",
            "89/89 [==============================] - 27s 291ms/step - loss: 2.2424 - acc: 0.2633 - val_loss: 2.7231 - val_acc: 0.1616\n",
            "Epoch 143/250\n",
            "89/89 [==============================] - 27s 292ms/step - loss: 2.2170 - acc: 0.2541 - val_loss: 2.7250 - val_acc: 0.1595\n",
            "Epoch 144/250\n",
            "89/89 [==============================] - 27s 300ms/step - loss: 2.2580 - acc: 0.2456 - val_loss: 2.7222 - val_acc: 0.1595\n",
            "Epoch 145/250\n",
            "89/89 [==============================] - 28s 309ms/step - loss: 2.2878 - acc: 0.2257 - val_loss: 2.7032 - val_acc: 0.1659\n",
            "Epoch 146/250\n",
            "89/89 [==============================] - 27s 291ms/step - loss: 2.2871 - acc: 0.2335 - val_loss: 2.7113 - val_acc: 0.1681\n",
            "Epoch 147/250\n",
            "89/89 [==============================] - 27s 296ms/step - loss: 2.2541 - acc: 0.2449 - val_loss: 2.7354 - val_acc: 0.1659\n",
            "Epoch 148/250\n",
            "89/89 [==============================] - 28s 307ms/step - loss: 2.2306 - acc: 0.2576 - val_loss: 2.7267 - val_acc: 0.1616\n",
            "Epoch 149/250\n",
            "89/89 [==============================] - 28s 311ms/step - loss: 2.2491 - acc: 0.2399 - val_loss: 2.6960 - val_acc: 0.1746\n",
            "Epoch 150/250\n",
            "89/89 [==============================] - 28s 304ms/step - loss: 2.2538 - acc: 0.2505 - val_loss: 2.7055 - val_acc: 0.1789\n",
            "Epoch 151/250\n",
            "89/89 [==============================] - 28s 312ms/step - loss: 2.2538 - acc: 0.2491 - val_loss: 2.6947 - val_acc: 0.1789\n",
            "Epoch 152/250\n",
            "89/89 [==============================] - 28s 305ms/step - loss: 2.2712 - acc: 0.2356 - val_loss: 2.7107 - val_acc: 0.1616\n",
            "Epoch 153/250\n",
            "89/89 [==============================] - 28s 308ms/step - loss: 2.2657 - acc: 0.2449 - val_loss: 2.6968 - val_acc: 0.1616\n",
            "Epoch 154/250\n",
            "89/89 [==============================] - 28s 312ms/step - loss: 2.2414 - acc: 0.2612 - val_loss: 2.7129 - val_acc: 0.1746\n",
            "Epoch 155/250\n",
            "89/89 [==============================] - 28s 309ms/step - loss: 2.2441 - acc: 0.2292 - val_loss: 2.7113 - val_acc: 0.1810\n",
            "Epoch 156/250\n",
            "89/89 [==============================] - 29s 314ms/step - loss: 2.2509 - acc: 0.2392 - val_loss: 2.6944 - val_acc: 0.1746\n",
            "Epoch 157/250\n",
            "89/89 [==============================] - 28s 310ms/step - loss: 2.2594 - acc: 0.2449 - val_loss: 2.6989 - val_acc: 0.1789\n",
            "Epoch 158/250\n",
            "89/89 [==============================] - 23s 254ms/step - loss: 2.2594 - acc: 0.2349 - val_loss: 2.6992 - val_acc: 0.1789\n",
            "Epoch 159/250\n",
            "89/89 [==============================] - 22s 237ms/step - loss: 2.3059 - acc: 0.2314 - val_loss: 2.7187 - val_acc: 0.1659\n",
            "Epoch 160/250\n",
            "89/89 [==============================] - 27s 295ms/step - loss: 2.2143 - acc: 0.2548 - val_loss: 2.6981 - val_acc: 0.1681\n",
            "Epoch 161/250\n",
            "89/89 [==============================] - 27s 292ms/step - loss: 2.2803 - acc: 0.2328 - val_loss: 2.7134 - val_acc: 0.1681\n",
            "Epoch 162/250\n",
            "89/89 [==============================] - 27s 291ms/step - loss: 2.2221 - acc: 0.2520 - val_loss: 2.7026 - val_acc: 0.1681\n",
            "Epoch 163/250\n",
            "89/89 [==============================] - 28s 306ms/step - loss: 2.2215 - acc: 0.2583 - val_loss: 2.7275 - val_acc: 0.1681\n",
            "Epoch 164/250\n",
            "89/89 [==============================] - 28s 307ms/step - loss: 2.2655 - acc: 0.2392 - val_loss: 2.6992 - val_acc: 0.1810\n",
            "Epoch 165/250\n",
            "89/89 [==============================] - 31s 338ms/step - loss: 2.2448 - acc: 0.2378 - val_loss: 2.6977 - val_acc: 0.1681\n",
            "Epoch 166/250\n",
            "89/89 [==============================] - 27s 292ms/step - loss: 2.2896 - acc: 0.2349 - val_loss: 2.7233 - val_acc: 0.1616\n",
            "Epoch 167/250\n",
            "89/89 [==============================] - 28s 312ms/step - loss: 2.2194 - acc: 0.2527 - val_loss: 2.7202 - val_acc: 0.1573\n",
            "Epoch 168/250\n",
            "89/89 [==============================] - 24s 258ms/step - loss: 2.2550 - acc: 0.2477 - val_loss: 2.7322 - val_acc: 0.1595\n",
            "Epoch 169/250\n",
            "89/89 [==============================] - 28s 306ms/step - loss: 2.2888 - acc: 0.2413 - val_loss: 2.7179 - val_acc: 0.1724\n",
            "Epoch 170/250\n",
            "89/89 [==============================] - 28s 303ms/step - loss: 2.2071 - acc: 0.2555 - val_loss: 2.7084 - val_acc: 0.1767\n",
            "Epoch 171/250\n",
            "89/89 [==============================] - 28s 308ms/step - loss: 2.2604 - acc: 0.2441 - val_loss: 2.6947 - val_acc: 0.1616\n",
            "Epoch 172/250\n",
            "89/89 [==============================] - 28s 304ms/step - loss: 2.2677 - acc: 0.2370 - val_loss: 2.6977 - val_acc: 0.1573\n",
            "Epoch 173/250\n",
            "89/89 [==============================] - 28s 310ms/step - loss: 2.2613 - acc: 0.2583 - val_loss: 2.6953 - val_acc: 0.1616\n",
            "Epoch 174/250\n",
            "89/89 [==============================] - 24s 259ms/step - loss: 2.2325 - acc: 0.2413 - val_loss: 2.7106 - val_acc: 0.1638\n",
            "Epoch 175/250\n",
            "89/89 [==============================] - 27s 291ms/step - loss: 2.2382 - acc: 0.2590 - val_loss: 2.7109 - val_acc: 0.1703\n",
            "Epoch 176/250\n",
            "89/89 [==============================] - 27s 293ms/step - loss: 2.2333 - acc: 0.2605 - val_loss: 2.7270 - val_acc: 0.1595\n",
            "Epoch 177/250\n",
            "89/89 [==============================] - 21s 232ms/step - loss: 2.2437 - acc: 0.2321 - val_loss: 2.7152 - val_acc: 0.1638\n",
            "Epoch 178/250\n",
            "89/89 [==============================] - 27s 300ms/step - loss: 2.1959 - acc: 0.2661 - val_loss: 2.7305 - val_acc: 0.1595\n",
            "Epoch 179/250\n",
            "89/89 [==============================] - 27s 300ms/step - loss: 2.2791 - acc: 0.2463 - val_loss: 2.7117 - val_acc: 0.1681\n",
            "Epoch 180/250\n",
            "89/89 [==============================] - 29s 316ms/step - loss: 2.3007 - acc: 0.2296 - val_loss: 2.7111 - val_acc: 0.1659\n",
            "Epoch 181/250\n",
            "89/89 [==============================] - 31s 338ms/step - loss: 2.2607 - acc: 0.2392 - val_loss: 2.7090 - val_acc: 0.1767\n",
            "Epoch 182/250\n",
            "89/89 [==============================] - 27s 308ms/step - loss: 2.2654 - acc: 0.2399 - val_loss: 2.6932 - val_acc: 0.1703\n",
            "Epoch 183/250\n",
            "89/89 [==============================] - 27s 299ms/step - loss: 2.2540 - acc: 0.2449 - val_loss: 2.7032 - val_acc: 0.1638\n",
            "Epoch 184/250\n",
            "89/89 [==============================] - 27s 299ms/step - loss: 2.2612 - acc: 0.2193 - val_loss: 2.6755 - val_acc: 0.1616\n",
            "Epoch 185/250\n",
            "89/89 [==============================] - 28s 311ms/step - loss: 2.2765 - acc: 0.2441 - val_loss: 2.6777 - val_acc: 0.1659\n",
            "Epoch 186/250\n",
            "89/89 [==============================] - 27s 301ms/step - loss: 2.2866 - acc: 0.2292 - val_loss: 2.6675 - val_acc: 0.1573\n",
            "Epoch 187/250\n",
            "89/89 [==============================] - 28s 306ms/step - loss: 2.2567 - acc: 0.2427 - val_loss: 2.7028 - val_acc: 0.1573\n",
            "Epoch 188/250\n",
            "89/89 [==============================] - 27s 293ms/step - loss: 2.2544 - acc: 0.2427 - val_loss: 2.7003 - val_acc: 0.1573\n",
            "Epoch 189/250\n",
            "89/89 [==============================] - 28s 311ms/step - loss: 2.2265 - acc: 0.2441 - val_loss: 2.6822 - val_acc: 0.1595\n",
            "Epoch 190/250\n",
            "89/89 [==============================] - 23s 256ms/step - loss: 2.2351 - acc: 0.2534 - val_loss: 2.6691 - val_acc: 0.1638\n",
            "Epoch 191/250\n",
            "89/89 [==============================] - 27s 292ms/step - loss: 2.2478 - acc: 0.2349 - val_loss: 2.6746 - val_acc: 0.1595\n",
            "Epoch 192/250\n",
            "89/89 [==============================] - 22s 241ms/step - loss: 2.2483 - acc: 0.2562 - val_loss: 2.6686 - val_acc: 0.1616\n",
            "Epoch 193/250\n",
            "89/89 [==============================] - 28s 313ms/step - loss: 2.2205 - acc: 0.2732 - val_loss: 2.6950 - val_acc: 0.1724\n",
            "Epoch 194/250\n",
            "89/89 [==============================] - 28s 311ms/step - loss: 2.2871 - acc: 0.2328 - val_loss: 2.6985 - val_acc: 0.1595\n",
            "Epoch 195/250\n",
            "89/89 [==============================] - 28s 313ms/step - loss: 2.2302 - acc: 0.2420 - val_loss: 2.6759 - val_acc: 0.1595\n",
            "Epoch 196/250\n",
            "89/89 [==============================] - 29s 313ms/step - loss: 2.2349 - acc: 0.2569 - val_loss: 2.7284 - val_acc: 0.1552\n",
            "Epoch 197/250\n",
            "89/89 [==============================] - 28s 312ms/step - loss: 2.2554 - acc: 0.2463 - val_loss: 2.6919 - val_acc: 0.1616\n",
            "Epoch 198/250\n",
            "89/89 [==============================] - 28s 314ms/step - loss: 2.2656 - acc: 0.2470 - val_loss: 2.7103 - val_acc: 0.1638\n",
            "Epoch 199/250\n",
            "89/89 [==============================] - 31s 343ms/step - loss: 2.2388 - acc: 0.2541 - val_loss: 2.7360 - val_acc: 0.1681\n",
            "Epoch 200/250\n",
            "89/89 [==============================] - 29s 316ms/step - loss: 2.2314 - acc: 0.2470 - val_loss: 2.7249 - val_acc: 0.1724\n",
            "Epoch 201/250\n",
            "89/89 [==============================] - 28s 312ms/step - loss: 2.1691 - acc: 0.2619 - val_loss: 2.7319 - val_acc: 0.1638\n",
            "Epoch 202/250\n",
            "89/89 [==============================] - 28s 309ms/step - loss: 2.2041 - acc: 0.2654 - val_loss: 2.7288 - val_acc: 0.1681\n",
            "Epoch 203/250\n",
            "89/89 [==============================] - 28s 310ms/step - loss: 2.2224 - acc: 0.2356 - val_loss: 2.6976 - val_acc: 0.1616\n",
            "Epoch 204/250\n",
            "89/89 [==============================] - 28s 309ms/step - loss: 2.2566 - acc: 0.2463 - val_loss: 2.6820 - val_acc: 0.1703\n",
            "Epoch 205/250\n",
            "89/89 [==============================] - 29s 314ms/step - loss: 2.2557 - acc: 0.2335 - val_loss: 2.7086 - val_acc: 0.1724\n",
            "Epoch 206/250\n",
            "89/89 [==============================] - 28s 309ms/step - loss: 2.2079 - acc: 0.2569 - val_loss: 2.7040 - val_acc: 0.1595\n",
            "Epoch 207/250\n",
            "89/89 [==============================] - 28s 306ms/step - loss: 2.2325 - acc: 0.2491 - val_loss: 2.6875 - val_acc: 0.1703\n",
            "Epoch 208/250\n",
            "89/89 [==============================] - 28s 305ms/step - loss: 2.2593 - acc: 0.2491 - val_loss: 2.7191 - val_acc: 0.1703\n",
            "Epoch 209/250\n",
            "89/89 [==============================] - 28s 310ms/step - loss: 2.2615 - acc: 0.2363 - val_loss: 2.7180 - val_acc: 0.1681\n",
            "Epoch 210/250\n",
            "89/89 [==============================] - 27s 292ms/step - loss: 2.2409 - acc: 0.2392 - val_loss: 2.7191 - val_acc: 0.1681\n",
            "Epoch 211/250\n",
            "89/89 [==============================] - 29s 314ms/step - loss: 2.2630 - acc: 0.2477 - val_loss: 2.6852 - val_acc: 0.1616\n",
            "Epoch 212/250\n",
            "89/89 [==============================] - 28s 307ms/step - loss: 2.2562 - acc: 0.2491 - val_loss: 2.7142 - val_acc: 0.1638\n",
            "Epoch 213/250\n",
            "89/89 [==============================] - 27s 300ms/step - loss: 2.2677 - acc: 0.2420 - val_loss: 2.7361 - val_acc: 0.1681\n",
            "Epoch 214/250\n",
            "89/89 [==============================] - 30s 330ms/step - loss: 2.2023 - acc: 0.2619 - val_loss: 2.7192 - val_acc: 0.1638\n",
            "Epoch 215/250\n",
            "89/89 [==============================] - 28s 309ms/step - loss: 2.2045 - acc: 0.2555 - val_loss: 2.6949 - val_acc: 0.1616\n",
            "Epoch 216/250\n",
            "89/89 [==============================] - 28s 306ms/step - loss: 2.2257 - acc: 0.2605 - val_loss: 2.7119 - val_acc: 0.1659\n",
            "Epoch 217/250\n",
            "89/89 [==============================] - 31s 338ms/step - loss: 2.2168 - acc: 0.2470 - val_loss: 2.6939 - val_acc: 0.1659\n",
            "Epoch 218/250\n",
            "89/89 [==============================] - 28s 305ms/step - loss: 2.1945 - acc: 0.2598 - val_loss: 2.6993 - val_acc: 0.1659\n",
            "Epoch 219/250\n",
            "89/89 [==============================] - 28s 308ms/step - loss: 2.2368 - acc: 0.2370 - val_loss: 2.7150 - val_acc: 0.1638\n",
            "Epoch 220/250\n",
            "89/89 [==============================] - 31s 341ms/step - loss: 2.2554 - acc: 0.2541 - val_loss: 2.7123 - val_acc: 0.1724\n",
            "Epoch 221/250\n",
            "89/89 [==============================] - 30s 326ms/step - loss: 2.2459 - acc: 0.2456 - val_loss: 2.6869 - val_acc: 0.1638\n",
            "Epoch 222/250\n",
            "89/89 [==============================] - 28s 305ms/step - loss: 2.2200 - acc: 0.2498 - val_loss: 2.6910 - val_acc: 0.1703\n",
            "Epoch 223/250\n",
            "89/89 [==============================] - 29s 318ms/step - loss: 2.2857 - acc: 0.2285 - val_loss: 2.7243 - val_acc: 0.1638\n",
            "Epoch 224/250\n",
            "89/89 [==============================] - 29s 315ms/step - loss: 2.2246 - acc: 0.2498 - val_loss: 2.7317 - val_acc: 0.1703\n",
            "Epoch 225/250\n",
            "89/89 [==============================] - 28s 311ms/step - loss: 2.3095 - acc: 0.2307 - val_loss: 2.7327 - val_acc: 0.1746\n",
            "Epoch 226/250\n",
            "89/89 [==============================] - 28s 312ms/step - loss: 2.2575 - acc: 0.2413 - val_loss: 2.7273 - val_acc: 0.1724\n",
            "Epoch 227/250\n",
            "89/89 [==============================] - 28s 307ms/step - loss: 2.1925 - acc: 0.2569 - val_loss: 2.7307 - val_acc: 0.1681\n",
            "Epoch 228/250\n",
            "89/89 [==============================] - 29s 315ms/step - loss: 2.1894 - acc: 0.2633 - val_loss: 2.7272 - val_acc: 0.1703\n",
            "Epoch 229/250\n",
            "89/89 [==============================] - 29s 314ms/step - loss: 2.2235 - acc: 0.2399 - val_loss: 2.7138 - val_acc: 0.1746\n",
            "Epoch 230/250\n",
            "89/89 [==============================] - 28s 311ms/step - loss: 2.2095 - acc: 0.2491 - val_loss: 2.7095 - val_acc: 0.1746\n",
            "Epoch 231/250\n",
            "89/89 [==============================] - 28s 309ms/step - loss: 2.2436 - acc: 0.2626 - val_loss: 2.7300 - val_acc: 0.1703\n",
            "Epoch 232/250\n",
            "89/89 [==============================] - 28s 309ms/step - loss: 2.2440 - acc: 0.2612 - val_loss: 2.7213 - val_acc: 0.1659\n",
            "Epoch 233/250\n",
            "89/89 [==============================] - 31s 340ms/step - loss: 2.1853 - acc: 0.2562 - val_loss: 2.7123 - val_acc: 0.1681\n",
            "Epoch 234/250\n",
            "89/89 [==============================] - 22s 238ms/step - loss: 2.2045 - acc: 0.2541 - val_loss: 2.7267 - val_acc: 0.1638\n",
            "Epoch 235/250\n",
            "89/89 [==============================] - 24s 261ms/step - loss: 2.1928 - acc: 0.2541 - val_loss: 2.7375 - val_acc: 0.1616\n",
            "Epoch 236/250\n",
            "89/89 [==============================] - 29s 319ms/step - loss: 2.2364 - acc: 0.2520 - val_loss: 2.7022 - val_acc: 0.1595\n",
            "Epoch 237/250\n",
            "89/89 [==============================] - 29s 318ms/step - loss: 2.1796 - acc: 0.2583 - val_loss: 2.7215 - val_acc: 0.1659\n",
            "Epoch 238/250\n",
            "89/89 [==============================] - 29s 313ms/step - loss: 2.2339 - acc: 0.2640 - val_loss: 2.6720 - val_acc: 0.1681\n",
            "Epoch 239/250\n",
            "89/89 [==============================] - 29s 314ms/step - loss: 2.2249 - acc: 0.2576 - val_loss: 2.7079 - val_acc: 0.1681\n",
            "Epoch 240/250\n",
            "89/89 [==============================] - 24s 263ms/step - loss: 2.1915 - acc: 0.2669 - val_loss: 2.7139 - val_acc: 0.1638\n",
            "Epoch 241/250\n",
            "89/89 [==============================] - 28s 298ms/step - loss: 2.2360 - acc: 0.2491 - val_loss: 2.7183 - val_acc: 0.1659\n",
            "Epoch 242/250\n",
            "89/89 [==============================] - 27s 295ms/step - loss: 2.2295 - acc: 0.2548 - val_loss: 2.7181 - val_acc: 0.1552\n",
            "Epoch 243/250\n",
            "89/89 [==============================] - 28s 304ms/step - loss: 2.2171 - acc: 0.2612 - val_loss: 2.7013 - val_acc: 0.1638\n",
            "Epoch 244/250\n",
            "89/89 [==============================] - 27s 297ms/step - loss: 2.2036 - acc: 0.2534 - val_loss: 2.7044 - val_acc: 0.1681\n",
            "Epoch 245/250\n",
            "89/89 [==============================] - 29s 313ms/step - loss: 2.1950 - acc: 0.2555 - val_loss: 2.7096 - val_acc: 0.1703\n",
            "Epoch 246/250\n",
            "89/89 [==============================] - 28s 312ms/step - loss: 2.1895 - acc: 0.2598 - val_loss: 2.7134 - val_acc: 0.1746\n",
            "Epoch 247/250\n",
            "89/89 [==============================] - 29s 316ms/step - loss: 2.2413 - acc: 0.2569 - val_loss: 2.7289 - val_acc: 0.1595\n",
            "Epoch 248/250\n",
            "89/89 [==============================] - 29s 314ms/step - loss: 2.1462 - acc: 0.2633 - val_loss: 2.6664 - val_acc: 0.1659\n",
            "Epoch 249/250\n",
            "89/89 [==============================] - 28s 313ms/step - loss: 2.2349 - acc: 0.2434 - val_loss: 2.7024 - val_acc: 0.1659\n",
            "Epoch 250/250\n",
            "89/89 [==============================] - 29s 315ms/step - loss: 2.2058 - acc: 0.2388 - val_loss: 2.7021 - val_acc: 0.1638\n"
          ]
        }
      ]
    },
    {
      "cell_type": "code",
      "source": [
        "acc = history.history['acc']\n",
        "val_acc = history.history['val_acc']\n",
        "loss = history.history['loss']\n",
        "val_loss = history.history['val_loss']\n",
        "\n",
        "epochs_x = range(len(acc))\n",
        "\n",
        "plt.plot(epochs_x, acc, 'co', label='Training acc')\n",
        "plt.plot(epochs_x, val_acc, 'k', label='Validation acc')\n",
        "plt.title('Training and validation accuracy')\n",
        "plt.legend()\n",
        "\n",
        "plt.figure()\n",
        "\n",
        "plt.plot(epochs_x, loss, 'co', label='Training loss')\n",
        "plt.plot(epochs_x, val_loss, 'k', label='Validation loss')\n",
        "plt.title('Training and validation loss')\n",
        "plt.legend()\n",
        "\n",
        "plt.show()"
      ],
      "metadata": {
        "id": "kwylTJpTP5XI",
        "colab": {
          "base_uri": "https://localhost:8080/",
          "height": 545
        },
        "outputId": "f07dc30d-6cb9-4081-b152-29b9b4ff606a"
      },
      "execution_count": 13,
      "outputs": [
        {
          "output_type": "display_data",
          "data": {
            "text/plain": [
              "<Figure size 432x288 with 1 Axes>"
            ],
            "image/png": "[encoded data removed]"
          },
          "metadata": {
            "needs_background": "light"
          }
        },
        {
          "output_type": "display_data",
          "data": {
            "text/plain": [
              "<Figure size 432x288 with 1 Axes>"
            ],
            "image/png": "[encoded data removed]"
          },
          "metadata": {
            "needs_background": "light"
          }
        }
      ]
    },
    {
      "cell_type": "markdown",
      "source": [
        "#Download the model"
      ],
      "metadata": {
        "id": "lD-vKaoHQAFd"
      }
    },
    {
      "cell_type": "code",
      "source": [
        "os.makedirs('/content/drive/My Drive/cut_panoramic/Model', exist_ok=True)\n",
        "model.save('/content/drive/My Drive/cut_panoramic/Model/Classification/Male/M3_Train_Freeze.h5')"
      ],
      "metadata": {
        "id": "74dL7-HLP_Sh"
      },
      "execution_count": 14,
      "outputs": []
    },
    {
      "cell_type": "code",
      "source": [
        "# from google.colab import files\n",
        "# files.download('/content/drive/My Drive/cut_panoramic/Model/2.2_รอบที่2_Flimpano_Male125_250.h5')"
      ],
      "metadata": {
        "id": "qcPW-brHQDpc"
      },
      "execution_count": 15,
      "outputs": []
    },
    {
      "cell_type": "code",
      "source": [],
      "metadata": {
        "id": "swFWe5619e7a"
      },
      "execution_count": 15,
      "outputs": []
    }
  ]
}