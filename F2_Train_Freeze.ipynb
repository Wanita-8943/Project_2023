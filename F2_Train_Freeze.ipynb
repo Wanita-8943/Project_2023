{
  "nbformat": 4,
  "nbformat_minor": 0,
  "metadata": {
    "colab": {
      "provenance": [],
      "include_colab_link": true
    },
    "kernelspec": {
      "name": "python3",
      "display_name": "Python 3"
    },
    "language_info": {
      "name": "python"
    },
    "accelerator": "GPU",
    "gpuClass": "standard"
  },
  "cells": [
    {
      "cell_type": "markdown",
      "metadata": {
        "id": "view-in-github",
        "colab_type": "text"
      },
      "source": [
        "<a href=\"https://colab.research.google.com/github/Wanita-8943/Project_2023/blob/main/F2_Train_Freeze.ipynb\" target=\"_parent\"><img src=\"https://colab.research.google.com/assets/colab-badge.svg\" alt=\"Open In Colab\"/></a>"
      ]
    },
    {
      "cell_type": "code",
      "execution_count": 1,
      "metadata": {
        "id": "KKSs7cyoPHcD"
      },
      "outputs": [],
      "source": [
        "import pandas as pd\n",
        "import shutil"
      ]
    },
    {
      "cell_type": "code",
      "source": [
        "from google.colab import drive\n",
        "drive.mount('/content/drive')"
      ],
      "metadata": {
        "colab": {
          "base_uri": "https://localhost:8080/"
        },
        "id": "7LoeZxmVPMxp",
        "outputId": "047e6c04-3215-4bb3-90f8-ce68f56e367f"
      },
      "execution_count": 2,
      "outputs": [
        {
          "output_type": "stream",
          "name": "stdout",
          "text": [
            "Mounted at /content/drive\n"
          ]
        }
      ]
    },
    {
      "cell_type": "code",
      "source": [
        "from tensorflow.keras import models\n",
        "from tensorflow.keras import layers\n",
        "from tensorflow.keras import optimizers\n",
        "import os\n",
        "import glob\n",
        "import shutil\n",
        "import sys\n",
        "import numpy as np\n",
        "from skimage.io import imread\n",
        "import matplotlib.pyplot as plt\n",
        "from IPython.display import Image\n",
        "%matplotlib inline"
      ],
      "metadata": {
        "id": "1pX9g1HxPM2f"
      },
      "execution_count": 3,
      "outputs": []
    },
    {
      "cell_type": "code",
      "source": [
        "batch_size = 16\n",
        "width = 150\n",
        "height = 150\n",
        "epochs = 250\n",
        "NUM_TRAIN = 1425\n",
        "NUM_TEST = 475\n",
        "dropout_rate = 0.2\n",
        "input_shape = (height, width, 3)"
      ],
      "metadata": {
        "id": "eSFtvGyvPM6O"
      },
      "execution_count": 4,
      "outputs": []
    },
    {
      "cell_type": "code",
      "source": [
        "#ดึงข้อมูลใน Github มาใช้\n",
        "import os\n",
        "%cd /content\n",
        "if not os.path.isdir(\"efficientnet_keras_transfer_learning\"):\n",
        " !git clone https://github.com/Wanita-8943/efficientnet_keras_transfer_learning\n",
        "%cd efficientnet_keras_transfer_learning/"
      ],
      "metadata": {
        "colab": {
          "base_uri": "https://localhost:8080/"
        },
        "id": "lb4K4CsMPNAW",
        "outputId": "7fc55ac0-d84b-4961-8676-06c3596df89a"
      },
      "execution_count": 5,
      "outputs": [
        {
          "output_type": "stream",
          "name": "stdout",
          "text": [
            "/content\n",
            "Cloning into 'efficientnet_keras_transfer_learning'...\n",
            "remote: Enumerating objects: 837, done.\u001b[K\n",
            "remote: Total 837 (delta 0), reused 0 (delta 0), pack-reused 837\u001b[K\n",
            "Receiving objects: 100% (837/837), 13.85 MiB | 18.17 MiB/s, done.\n",
            "Resolving deltas: 100% (497/497), done.\n",
            "/content/efficientnet_keras_transfer_learning\n"
          ]
        }
      ]
    },
    {
      "cell_type": "code",
      "source": [
        "# Options: EfficientNetB0, EfficientNetB1, EfficientNetB2, EfficientNetB3\n",
        "# Higher the number, the more complex the model is.\n",
        "from efficientnet import EfficientNetB0 as Net\n",
        "from efficientnet import center_crop_and_resize, preprocess_input"
      ],
      "metadata": {
        "id": "eyBg0dLKPND3"
      },
      "execution_count": 6,
      "outputs": []
    },
    {
      "cell_type": "code",
      "source": [
        "base_dir = '/content/drive/MyDrive/TVT_Female125'\n",
        "os.makedirs(base_dir, exist_ok=True)\n",
        "\n",
        "# Directories for our training,\n",
        "# validation and test splits\n",
        "train_dir = os.path.join(base_dir, 'train')\n",
        "os.makedirs(train_dir, exist_ok=True)\n",
        "validation_dir = os.path.join(base_dir, 'validation')\n",
        "os.makedirs(validation_dir, exist_ok=True)\n",
        "test_dir = os.path.join(base_dir, 'test')\n",
        "os.makedirs(test_dir, exist_ok=True)"
      ],
      "metadata": {
        "id": "Jwpq_-KvPef8"
      },
      "execution_count": 7,
      "outputs": []
    },
    {
      "cell_type": "markdown",
      "source": [
        "#load model"
      ],
      "metadata": {
        "id": "od-ZSNm5PoGy"
      }
    },
    {
      "cell_type": "code",
      "source": [
        "import sys\n",
        "sys.path.append('/content/drive/MyDrive/cut_panoramic/Model/Classification/Female/11_รอบแรก_Flimpano_Female125_250.h5')\n",
        "\n",
        "from efficientnet.layers import Swish, DropConnect\n",
        "from efficientnet.model import ConvKernalInitializer\n",
        "from tensorflow.keras.utils import get_custom_objects\n",
        "\n",
        "get_custom_objects().update({\n",
        "    'ConvKernalInitializer': ConvKernalInitializer,\n",
        "    'Swish': Swish,\n",
        "    'DropConnect':DropConnect\n",
        "})"
      ],
      "metadata": {
        "id": "n5iPL5MNPkhE"
      },
      "execution_count": 8,
      "outputs": []
    },
    {
      "cell_type": "code",
      "source": [
        "#load model \n",
        "from tensorflow.keras.models import load_model\n",
        "model = load_model('/content/drive/MyDrive/cut_panoramic/Model/Classification/Female/11_รอบแรก_Flimpano_Female125_250.h5')\n",
        "height = width = model.input_shape[1]"
      ],
      "metadata": {
        "id": "plYz49xMPkly",
        "colab": {
          "base_uri": "https://localhost:8080/"
        },
        "outputId": "6ba5dee5-f262-4ec5-a8c6-f93a813dbe2f"
      },
      "execution_count": 9,
      "outputs": [
        {
          "output_type": "stream",
          "name": "stderr",
          "text": [
            "WARNING:tensorflow:From /usr/local/lib/python3.8/dist-packages/tensorflow/python/autograph/pyct/static_analysis/liveness.py:83: Analyzer.lamba_check (from tensorflow.python.autograph.pyct.static_analysis.liveness) is deprecated and will be removed after 2023-09-23.\n",
            "Instructions for updating:\n",
            "Lambda fuctions will be no more assumed to be used in the statement where they are used, or at least in the same block. https://github.com/tensorflow/tensorflow/issues/56089\n"
          ]
        }
      ]
    },
    {
      "cell_type": "code",
      "source": [
        "model.summary()"
      ],
      "metadata": {
        "colab": {
          "base_uri": "https://localhost:8080/"
        },
        "id": "z6IOPBflFbvc",
        "outputId": "1e3a00e6-d50c-4e3d-ac74-6f6e98d0dc5f"
      },
      "execution_count": 10,
      "outputs": [
        {
          "output_type": "stream",
          "name": "stdout",
          "text": [
            "Model: \"sequential_2\"\n",
            "_________________________________________________________________\n",
            " Layer (type)                Output Shape              Param #   \n",
            "=================================================================\n",
            " efficientnet-b0 (Functional  (None, 5, 5, 1280)       4049564   \n",
            " )                                                               \n",
            "                                                                 \n",
            " gap (GlobalMaxPooling2D)    (None, 1280)              0         \n",
            "                                                                 \n",
            " dropout_out (Dropout)       (None, 1280)              0         \n",
            "                                                                 \n",
            " fc_out (Dense)              (None, 19)                24339     \n",
            "                                                                 \n",
            "=================================================================\n",
            "Total params: 4,073,903\n",
            "Trainable params: 24,339\n",
            "Non-trainable params: 4,049,564\n",
            "_________________________________________________________________\n"
          ]
        }
      ]
    },
    {
      "cell_type": "code",
      "source": [
        "# Train ด้วย ImageDataGenerator ของ Keras ซึ่งจะเพิ่มข้อมูลเสริมระหว่างการฝึกเพื่อลดโอกาสเกิด overfitting\n",
        "#overfitting เกิดจากข้อมูลที่ซับซ้อนกันเกินไป\n",
        "from tensorflow.keras.preprocessing.image import ImageDataGenerator\n",
        "\n",
        "train_datagen = ImageDataGenerator(\n",
        "      rescale=1./255, #โมเดลส่วนใหญ่ต้องใช้ RGB ในช่วง 0–1\n",
        "      rotation_range=40,\n",
        "      width_shift_range=0.2,\n",
        "      height_shift_range=0.2,\n",
        "      shear_range=0.2,\n",
        "      zoom_range=0.2,\n",
        "      horizontal_flip=True,\n",
        "      fill_mode='nearest')\n",
        "\n",
        "# Note that the validation data should not be augmented!\n",
        "test_datagen = ImageDataGenerator(rescale=1./255)\n",
        "\n",
        "train_generator = train_datagen.flow_from_directory(\n",
        "        # This is the target directory #ไดเรกเป้าหมาย\n",
        "        train_dir,\n",
        "        # รูปภาพทั้งหมดจะถูกปรับขนาดตามความสูงและความกว้างของเป้าหมาย\n",
        "        target_size=(height, width),\n",
        "        batch_size=batch_size,\n",
        "        # Since we use categorical_crossentropy loss, we need categorical labels\n",
        "        #เนื่องจากเราใช้ categorical_crossentropy loss เราจึงต้องมีป้ายกำกับตามหมวดหมู่\n",
        "        class_mode='categorical')\n",
        "\n",
        "validation_generator = test_datagen.flow_from_directory( #การดึงภาพจาก Directory มาเข้าโมเดล \n",
        "        validation_dir,\n",
        "        target_size=(height, width),\n",
        "        batch_size=batch_size,\n",
        "        class_mode='categorical')"
      ],
      "metadata": {
        "colab": {
          "base_uri": "https://localhost:8080/"
        },
        "id": "KBMZbdr2Pgw4",
        "outputId": "085ba891-d5f5-48ce-b34e-4bdb1e48d381"
      },
      "execution_count": 11,
      "outputs": [
        {
          "output_type": "stream",
          "name": "stdout",
          "text": [
            "Found 1425 images belonging to 19 classes.\n",
            "Found 475 images belonging to 19 classes.\n"
          ]
        }
      ]
    },
    {
      "cell_type": "code",
      "source": [
        "model.compile(loss='categorical_crossentropy',\n",
        "              optimizer=optimizers.RMSprop(learning_rate=2e-5),\n",
        "              metrics=['acc'])\n",
        "history = model.fit_generator(\n",
        "      train_generator,\n",
        "      steps_per_epoch= NUM_TRAIN //batch_size,\n",
        "      epochs=epochs,\n",
        "      validation_data=validation_generator,\n",
        "      validation_steps= NUM_TEST //batch_size,\n",
        "      verbose=1,\n",
        "      use_multiprocessing=True,\n",
        "      workers=4)"
      ],
      "metadata": {
        "colab": {
          "base_uri": "https://localhost:8080/"
        },
        "id": "C9Cf1dwyP1PD",
        "outputId": "aa940d40-a408-4e03-d733-68fbbc98134c"
      },
      "execution_count": 12,
      "outputs": [
        {
          "output_type": "stream",
          "name": "stderr",
          "text": [
            "<ipython-input-12-95ae5648fc7b>:4: UserWarning: `Model.fit_generator` is deprecated and will be removed in a future version. Please use `Model.fit`, which supports generators.\n",
            "  history = model.fit_generator(\n"
          ]
        },
        {
          "output_type": "stream",
          "name": "stdout",
          "text": [
            "Epoch 1/250\n",
            "89/89 [==============================] - 427s 5s/step - loss: 2.6203 - acc: 0.1902 - val_loss: 2.7096 - val_acc: 0.1681\n",
            "Epoch 2/250\n",
            "89/89 [==============================] - 25s 276ms/step - loss: 2.6341 - acc: 0.1987 - val_loss: 2.7232 - val_acc: 0.1703\n",
            "Epoch 3/250\n",
            "89/89 [==============================] - 25s 279ms/step - loss: 2.6637 - acc: 0.1831 - val_loss: 2.7324 - val_acc: 0.1681\n",
            "Epoch 4/250\n",
            "89/89 [==============================] - 22s 244ms/step - loss: 2.6614 - acc: 0.1952 - val_loss: 2.7284 - val_acc: 0.1724\n",
            "Epoch 5/250\n",
            "89/89 [==============================] - 22s 223ms/step - loss: 2.6784 - acc: 0.1859 - val_loss: 2.7371 - val_acc: 0.1616\n",
            "Epoch 6/250\n",
            "89/89 [==============================] - 25s 278ms/step - loss: 2.6843 - acc: 0.1739 - val_loss: 2.7178 - val_acc: 0.1659\n",
            "Epoch 7/250\n",
            "89/89 [==============================] - 28s 313ms/step - loss: 2.5979 - acc: 0.2108 - val_loss: 2.6937 - val_acc: 0.1746\n",
            "Epoch 8/250\n",
            "89/89 [==============================] - 26s 286ms/step - loss: 2.6815 - acc: 0.1938 - val_loss: 2.7032 - val_acc: 0.1703\n",
            "Epoch 9/250\n",
            "89/89 [==============================] - 26s 280ms/step - loss: 2.6870 - acc: 0.1852 - val_loss: 2.7266 - val_acc: 0.1638\n",
            "Epoch 10/250\n",
            "89/89 [==============================] - 28s 307ms/step - loss: 2.6139 - acc: 0.2079 - val_loss: 2.7013 - val_acc: 0.1767\n",
            "Epoch 11/250\n",
            "89/89 [==============================] - 26s 287ms/step - loss: 2.7012 - acc: 0.1753 - val_loss: 2.7152 - val_acc: 0.1746\n",
            "Epoch 12/250\n",
            "89/89 [==============================] - 27s 302ms/step - loss: 2.6323 - acc: 0.1845 - val_loss: 2.7065 - val_acc: 0.1703\n",
            "Epoch 13/250\n",
            "89/89 [==============================] - 27s 292ms/step - loss: 2.6795 - acc: 0.1852 - val_loss: 2.7131 - val_acc: 0.1724\n",
            "Epoch 14/250\n",
            "89/89 [==============================] - 26s 288ms/step - loss: 2.6427 - acc: 0.1699 - val_loss: 2.7081 - val_acc: 0.1767\n",
            "Epoch 15/250\n",
            "89/89 [==============================] - 26s 286ms/step - loss: 2.6370 - acc: 0.1902 - val_loss: 2.7274 - val_acc: 0.1724\n",
            "Epoch 16/250\n",
            "89/89 [==============================] - 27s 297ms/step - loss: 2.6360 - acc: 0.2016 - val_loss: 2.7059 - val_acc: 0.1746\n",
            "Epoch 17/250\n",
            "89/89 [==============================] - 26s 290ms/step - loss: 2.6122 - acc: 0.2009 - val_loss: 2.7023 - val_acc: 0.1767\n",
            "Epoch 18/250\n",
            "89/89 [==============================] - 26s 289ms/step - loss: 2.6657 - acc: 0.1923 - val_loss: 2.7045 - val_acc: 0.1659\n",
            "Epoch 19/250\n",
            "89/89 [==============================] - 28s 304ms/step - loss: 2.6922 - acc: 0.1710 - val_loss: 2.7094 - val_acc: 0.1746\n",
            "Epoch 20/250\n",
            "89/89 [==============================] - 27s 301ms/step - loss: 2.6096 - acc: 0.1852 - val_loss: 2.7188 - val_acc: 0.1746\n",
            "Epoch 21/250\n",
            "89/89 [==============================] - 28s 303ms/step - loss: 2.6667 - acc: 0.1689 - val_loss: 2.7079 - val_acc: 0.1724\n",
            "Epoch 22/250\n",
            "89/89 [==============================] - 26s 291ms/step - loss: 2.5919 - acc: 0.1902 - val_loss: 2.7210 - val_acc: 0.1746\n",
            "Epoch 23/250\n",
            "89/89 [==============================] - 26s 285ms/step - loss: 2.6589 - acc: 0.1718 - val_loss: 2.7129 - val_acc: 0.1703\n",
            "Epoch 24/250\n",
            "89/89 [==============================] - 28s 303ms/step - loss: 2.6187 - acc: 0.1895 - val_loss: 2.7176 - val_acc: 0.1746\n",
            "Epoch 25/250\n",
            "89/89 [==============================] - 26s 287ms/step - loss: 2.6321 - acc: 0.1817 - val_loss: 2.7096 - val_acc: 0.1724\n",
            "Epoch 26/250\n",
            "89/89 [==============================] - 26s 287ms/step - loss: 2.6629 - acc: 0.1852 - val_loss: 2.7275 - val_acc: 0.1703\n",
            "Epoch 27/250\n",
            "89/89 [==============================] - 28s 305ms/step - loss: 2.6579 - acc: 0.1966 - val_loss: 2.7138 - val_acc: 0.1724\n",
            "Epoch 28/250\n",
            "89/89 [==============================] - 27s 292ms/step - loss: 2.6598 - acc: 0.1909 - val_loss: 2.6853 - val_acc: 0.1810\n",
            "Epoch 29/250\n",
            "89/89 [==============================] - 26s 282ms/step - loss: 2.6101 - acc: 0.1952 - val_loss: 2.7059 - val_acc: 0.1703\n",
            "Epoch 30/250\n",
            "89/89 [==============================] - 26s 288ms/step - loss: 2.6334 - acc: 0.1874 - val_loss: 2.6893 - val_acc: 0.1638\n",
            "Epoch 31/250\n",
            "89/89 [==============================] - 27s 297ms/step - loss: 2.6211 - acc: 0.1959 - val_loss: 2.6967 - val_acc: 0.1746\n",
            "Epoch 32/250\n",
            "89/89 [==============================] - 27s 302ms/step - loss: 2.5978 - acc: 0.1810 - val_loss: 2.7031 - val_acc: 0.1724\n",
            "Epoch 33/250\n",
            "89/89 [==============================] - 27s 291ms/step - loss: 2.6413 - acc: 0.1689 - val_loss: 2.6775 - val_acc: 0.1767\n",
            "Epoch 34/250\n",
            "89/89 [==============================] - 21s 228ms/step - loss: 2.6224 - acc: 0.1852 - val_loss: 2.7228 - val_acc: 0.1681\n",
            "Epoch 35/250\n",
            "89/89 [==============================] - 27s 293ms/step - loss: 2.6019 - acc: 0.1987 - val_loss: 2.6931 - val_acc: 0.1724\n",
            "Epoch 36/250\n",
            "89/89 [==============================] - 28s 307ms/step - loss: 2.6288 - acc: 0.2030 - val_loss: 2.7023 - val_acc: 0.1789\n",
            "Epoch 37/250\n",
            "89/89 [==============================] - 28s 308ms/step - loss: 2.6129 - acc: 0.2044 - val_loss: 2.6928 - val_acc: 0.1789\n",
            "Epoch 38/250\n",
            "89/89 [==============================] - 28s 311ms/step - loss: 2.6296 - acc: 0.1959 - val_loss: 2.6772 - val_acc: 0.1746\n",
            "Epoch 39/250\n",
            "89/89 [==============================] - 28s 311ms/step - loss: 2.6421 - acc: 0.1852 - val_loss: 2.7139 - val_acc: 0.1703\n",
            "Epoch 40/250\n",
            "89/89 [==============================] - 28s 314ms/step - loss: 2.6142 - acc: 0.1923 - val_loss: 2.6968 - val_acc: 0.1746\n",
            "Epoch 41/250\n",
            "89/89 [==============================] - 23s 257ms/step - loss: 2.6518 - acc: 0.1902 - val_loss: 2.7106 - val_acc: 0.1703\n",
            "Epoch 42/250\n",
            "89/89 [==============================] - 26s 288ms/step - loss: 2.5924 - acc: 0.1852 - val_loss: 2.7147 - val_acc: 0.1703\n",
            "Epoch 43/250\n",
            "89/89 [==============================] - 26s 285ms/step - loss: 2.5828 - acc: 0.1845 - val_loss: 2.7138 - val_acc: 0.1638\n",
            "Epoch 44/250\n",
            "89/89 [==============================] - 26s 289ms/step - loss: 2.6078 - acc: 0.1980 - val_loss: 2.6931 - val_acc: 0.1724\n",
            "Epoch 45/250\n",
            "89/89 [==============================] - 27s 296ms/step - loss: 2.5903 - acc: 0.1980 - val_loss: 2.7082 - val_acc: 0.1746\n",
            "Epoch 46/250\n",
            "89/89 [==============================] - 27s 295ms/step - loss: 2.6209 - acc: 0.1867 - val_loss: 2.6904 - val_acc: 0.1703\n",
            "Epoch 47/250\n",
            "89/89 [==============================] - 29s 314ms/step - loss: 2.5618 - acc: 0.2001 - val_loss: 2.7062 - val_acc: 0.1746\n",
            "Epoch 48/250\n",
            "89/89 [==============================] - 28s 312ms/step - loss: 2.6058 - acc: 0.2037 - val_loss: 2.6935 - val_acc: 0.1767\n",
            "Epoch 49/250\n",
            "89/89 [==============================] - 28s 307ms/step - loss: 2.5587 - acc: 0.2172 - val_loss: 2.6851 - val_acc: 0.1746\n",
            "Epoch 50/250\n",
            "89/89 [==============================] - 28s 306ms/step - loss: 2.5696 - acc: 0.2058 - val_loss: 2.7105 - val_acc: 0.1681\n",
            "Epoch 51/250\n",
            "89/89 [==============================] - 28s 304ms/step - loss: 2.6065 - acc: 0.2030 - val_loss: 2.6914 - val_acc: 0.1703\n",
            "Epoch 52/250\n",
            "89/89 [==============================] - 28s 312ms/step - loss: 2.5944 - acc: 0.1909 - val_loss: 2.7100 - val_acc: 0.1789\n",
            "Epoch 53/250\n",
            "89/89 [==============================] - 27s 300ms/step - loss: 2.5848 - acc: 0.1767 - val_loss: 2.7120 - val_acc: 0.1703\n",
            "Epoch 54/250\n",
            "89/89 [==============================] - 23s 248ms/step - loss: 2.6163 - acc: 0.1888 - val_loss: 2.7305 - val_acc: 0.1681\n",
            "Epoch 55/250\n",
            "89/89 [==============================] - 22s 246ms/step - loss: 2.6040 - acc: 0.1859 - val_loss: 2.7010 - val_acc: 0.1703\n",
            "Epoch 56/250\n",
            "89/89 [==============================] - 27s 296ms/step - loss: 2.6251 - acc: 0.1888 - val_loss: 2.6899 - val_acc: 0.1853\n",
            "Epoch 57/250\n",
            "89/89 [==============================] - 27s 295ms/step - loss: 2.6049 - acc: 0.1959 - val_loss: 2.6947 - val_acc: 0.1789\n",
            "Epoch 58/250\n",
            "89/89 [==============================] - 27s 299ms/step - loss: 2.5302 - acc: 0.2165 - val_loss: 2.6922 - val_acc: 0.1767\n",
            "Epoch 59/250\n",
            "89/89 [==============================] - 27s 301ms/step - loss: 2.5837 - acc: 0.1973 - val_loss: 2.6997 - val_acc: 0.1767\n",
            "Epoch 60/250\n",
            "89/89 [==============================] - 27s 301ms/step - loss: 2.5873 - acc: 0.1831 - val_loss: 2.7062 - val_acc: 0.1767\n",
            "Epoch 61/250\n",
            "89/89 [==============================] - 26s 284ms/step - loss: 2.5888 - acc: 0.2016 - val_loss: 2.6952 - val_acc: 0.1789\n",
            "Epoch 62/250\n",
            "89/89 [==============================] - 23s 249ms/step - loss: 2.5992 - acc: 0.1930 - val_loss: 2.6967 - val_acc: 0.1767\n",
            "Epoch 63/250\n",
            "89/89 [==============================] - 27s 297ms/step - loss: 2.5810 - acc: 0.2030 - val_loss: 2.7005 - val_acc: 0.1767\n",
            "Epoch 64/250\n",
            "89/89 [==============================] - 27s 301ms/step - loss: 2.5987 - acc: 0.1859 - val_loss: 2.6973 - val_acc: 0.1724\n",
            "Epoch 65/250\n",
            "89/89 [==============================] - 27s 292ms/step - loss: 2.4801 - acc: 0.2193 - val_loss: 2.6736 - val_acc: 0.1832\n",
            "Epoch 66/250\n",
            "89/89 [==============================] - 28s 306ms/step - loss: 2.5959 - acc: 0.1930 - val_loss: 2.6803 - val_acc: 0.1832\n",
            "Epoch 67/250\n",
            "89/89 [==============================] - 28s 308ms/step - loss: 2.5430 - acc: 0.2016 - val_loss: 2.6815 - val_acc: 0.1832\n",
            "Epoch 68/250\n",
            "89/89 [==============================] - 28s 302ms/step - loss: 2.5756 - acc: 0.1980 - val_loss: 2.6783 - val_acc: 0.1832\n",
            "Epoch 69/250\n",
            "89/89 [==============================] - 28s 305ms/step - loss: 2.5744 - acc: 0.1881 - val_loss: 2.7055 - val_acc: 0.1810\n",
            "Epoch 70/250\n",
            "89/89 [==============================] - 26s 288ms/step - loss: 2.5455 - acc: 0.2072 - val_loss: 2.6970 - val_acc: 0.1789\n",
            "Epoch 71/250\n",
            "89/89 [==============================] - 27s 298ms/step - loss: 2.5557 - acc: 0.1959 - val_loss: 2.6830 - val_acc: 0.1810\n",
            "Epoch 72/250\n",
            "89/89 [==============================] - 27s 302ms/step - loss: 2.5541 - acc: 0.2165 - val_loss: 2.7037 - val_acc: 0.1767\n",
            "Epoch 73/250\n",
            "89/89 [==============================] - 27s 300ms/step - loss: 2.6012 - acc: 0.1852 - val_loss: 2.7039 - val_acc: 0.1789\n",
            "Epoch 74/250\n",
            "89/89 [==============================] - 28s 305ms/step - loss: 2.6016 - acc: 0.1881 - val_loss: 2.7032 - val_acc: 0.1789\n",
            "Epoch 75/250\n",
            "89/89 [==============================] - 26s 287ms/step - loss: 2.5429 - acc: 0.2193 - val_loss: 2.7161 - val_acc: 0.1746\n",
            "Epoch 76/250\n",
            "89/89 [==============================] - 27s 300ms/step - loss: 2.5945 - acc: 0.1923 - val_loss: 2.7116 - val_acc: 0.1767\n",
            "Epoch 77/250\n",
            "89/89 [==============================] - 27s 296ms/step - loss: 2.5057 - acc: 0.2030 - val_loss: 2.7114 - val_acc: 0.1832\n",
            "Epoch 78/250\n",
            "89/89 [==============================] - 26s 289ms/step - loss: 2.5660 - acc: 0.2058 - val_loss: 2.7000 - val_acc: 0.1810\n",
            "Epoch 79/250\n",
            "89/89 [==============================] - 27s 294ms/step - loss: 2.5619 - acc: 0.2016 - val_loss: 2.7165 - val_acc: 0.1789\n",
            "Epoch 80/250\n",
            "89/89 [==============================] - 27s 298ms/step - loss: 2.5090 - acc: 0.2179 - val_loss: 2.7124 - val_acc: 0.1832\n",
            "Epoch 81/250\n",
            "89/89 [==============================] - 27s 301ms/step - loss: 2.5457 - acc: 0.1987 - val_loss: 2.7011 - val_acc: 0.1767\n",
            "Epoch 82/250\n",
            "89/89 [==============================] - 26s 287ms/step - loss: 2.5439 - acc: 0.1966 - val_loss: 2.7101 - val_acc: 0.1767\n",
            "Epoch 83/250\n",
            "89/89 [==============================] - 28s 304ms/step - loss: 2.5354 - acc: 0.2065 - val_loss: 2.7225 - val_acc: 0.1724\n",
            "Epoch 84/250\n",
            "89/89 [==============================] - 27s 298ms/step - loss: 2.5476 - acc: 0.1945 - val_loss: 2.7089 - val_acc: 0.1810\n",
            "Epoch 85/250\n",
            "89/89 [==============================] - 27s 296ms/step - loss: 2.6045 - acc: 0.1725 - val_loss: 2.7070 - val_acc: 0.1789\n",
            "Epoch 86/250\n",
            "89/89 [==============================] - 26s 288ms/step - loss: 2.5824 - acc: 0.1874 - val_loss: 2.7349 - val_acc: 0.1875\n",
            "Epoch 87/250\n",
            "89/89 [==============================] - 27s 297ms/step - loss: 2.5441 - acc: 0.2009 - val_loss: 2.7102 - val_acc: 0.1853\n",
            "Epoch 88/250\n",
            "89/89 [==============================] - 28s 303ms/step - loss: 2.5457 - acc: 0.1916 - val_loss: 2.7239 - val_acc: 0.1810\n",
            "Epoch 89/250\n",
            "89/89 [==============================] - 27s 292ms/step - loss: 2.5243 - acc: 0.1966 - val_loss: 2.7103 - val_acc: 0.1853\n",
            "Epoch 90/250\n",
            "89/89 [==============================] - 26s 281ms/step - loss: 2.5419 - acc: 0.1952 - val_loss: 2.7063 - val_acc: 0.1789\n",
            "Epoch 91/250\n",
            "89/89 [==============================] - 26s 282ms/step - loss: 2.5609 - acc: 0.2037 - val_loss: 2.6755 - val_acc: 0.1875\n",
            "Epoch 92/250\n",
            "89/89 [==============================] - 26s 283ms/step - loss: 2.5439 - acc: 0.1987 - val_loss: 2.7032 - val_acc: 0.1810\n",
            "Epoch 93/250\n",
            "89/89 [==============================] - 26s 286ms/step - loss: 2.5430 - acc: 0.1952 - val_loss: 2.7035 - val_acc: 0.1746\n",
            "Epoch 94/250\n",
            "89/89 [==============================] - 26s 284ms/step - loss: 2.4576 - acc: 0.2271 - val_loss: 2.6793 - val_acc: 0.1875\n",
            "Epoch 95/250\n",
            "89/89 [==============================] - 27s 296ms/step - loss: 2.5171 - acc: 0.2023 - val_loss: 2.7323 - val_acc: 0.1724\n",
            "Epoch 96/250\n",
            "89/89 [==============================] - 27s 294ms/step - loss: 2.5974 - acc: 0.1874 - val_loss: 2.7210 - val_acc: 0.1789\n",
            "Epoch 97/250\n",
            "89/89 [==============================] - 28s 306ms/step - loss: 2.5371 - acc: 0.2051 - val_loss: 2.7079 - val_acc: 0.1810\n",
            "Epoch 98/250\n",
            "89/89 [==============================] - 27s 300ms/step - loss: 2.5468 - acc: 0.2058 - val_loss: 2.6786 - val_acc: 0.1789\n",
            "Epoch 99/250\n",
            "89/89 [==============================] - 28s 304ms/step - loss: 2.5137 - acc: 0.1803 - val_loss: 2.6992 - val_acc: 0.1724\n",
            "Epoch 100/250\n",
            "89/89 [==============================] - 27s 301ms/step - loss: 2.4787 - acc: 0.2321 - val_loss: 2.7025 - val_acc: 0.1853\n",
            "Epoch 101/250\n",
            "89/89 [==============================] - 28s 306ms/step - loss: 2.4936 - acc: 0.2179 - val_loss: 2.7058 - val_acc: 0.1789\n",
            "Epoch 102/250\n",
            "89/89 [==============================] - 29s 323ms/step - loss: 2.5142 - acc: 0.2094 - val_loss: 2.6983 - val_acc: 0.1853\n",
            "Epoch 103/250\n",
            "89/89 [==============================] - 28s 313ms/step - loss: 2.5445 - acc: 0.1987 - val_loss: 2.6949 - val_acc: 0.1832\n",
            "Epoch 104/250\n",
            "89/89 [==============================] - 27s 299ms/step - loss: 2.5177 - acc: 0.2087 - val_loss: 2.7124 - val_acc: 0.1810\n",
            "Epoch 105/250\n",
            "89/89 [==============================] - 26s 287ms/step - loss: 2.5469 - acc: 0.1852 - val_loss: 2.7010 - val_acc: 0.1810\n",
            "Epoch 106/250\n",
            "89/89 [==============================] - 28s 310ms/step - loss: 2.5113 - acc: 0.2009 - val_loss: 2.7059 - val_acc: 0.1832\n",
            "Epoch 107/250\n",
            "89/89 [==============================] - 27s 301ms/step - loss: 2.4743 - acc: 0.1987 - val_loss: 2.7046 - val_acc: 0.1853\n",
            "Epoch 108/250\n",
            "89/89 [==============================] - 28s 308ms/step - loss: 2.5229 - acc: 0.1994 - val_loss: 2.7032 - val_acc: 0.1832\n",
            "Epoch 109/250\n",
            "89/89 [==============================] - 28s 304ms/step - loss: 2.5435 - acc: 0.2087 - val_loss: 2.6874 - val_acc: 0.1940\n",
            "Epoch 110/250\n",
            "89/89 [==============================] - 28s 313ms/step - loss: 2.5192 - acc: 0.2016 - val_loss: 2.7166 - val_acc: 0.1875\n",
            "Epoch 111/250\n",
            "89/89 [==============================] - 28s 303ms/step - loss: 2.5255 - acc: 0.1987 - val_loss: 2.7133 - val_acc: 0.1875\n",
            "Epoch 112/250\n",
            "89/89 [==============================] - 26s 290ms/step - loss: 2.5530 - acc: 0.1994 - val_loss: 2.7311 - val_acc: 0.1789\n",
            "Epoch 113/250\n",
            "89/89 [==============================] - 28s 305ms/step - loss: 2.5453 - acc: 0.1994 - val_loss: 2.7133 - val_acc: 0.1897\n",
            "Epoch 114/250\n",
            "89/89 [==============================] - 28s 310ms/step - loss: 2.5589 - acc: 0.2009 - val_loss: 2.7111 - val_acc: 0.1875\n",
            "Epoch 115/250\n",
            "89/89 [==============================] - 27s 296ms/step - loss: 2.5245 - acc: 0.1987 - val_loss: 2.7173 - val_acc: 0.1832\n",
            "Epoch 116/250\n",
            "89/89 [==============================] - 28s 307ms/step - loss: 2.5043 - acc: 0.2051 - val_loss: 2.7017 - val_acc: 0.1853\n",
            "Epoch 117/250\n",
            "89/89 [==============================] - 28s 303ms/step - loss: 2.5256 - acc: 0.1994 - val_loss: 2.7003 - val_acc: 0.1810\n",
            "Epoch 118/250\n",
            "89/89 [==============================] - 27s 296ms/step - loss: 2.5251 - acc: 0.2009 - val_loss: 2.6951 - val_acc: 0.1853\n",
            "Epoch 119/250\n",
            "89/89 [==============================] - 28s 305ms/step - loss: 2.4824 - acc: 0.2044 - val_loss: 2.6945 - val_acc: 0.1832\n",
            "Epoch 120/250\n",
            "89/89 [==============================] - 28s 306ms/step - loss: 2.5065 - acc: 0.2108 - val_loss: 2.6929 - val_acc: 0.1832\n",
            "Epoch 121/250\n",
            "89/89 [==============================] - 27s 302ms/step - loss: 2.4644 - acc: 0.1980 - val_loss: 2.7252 - val_acc: 0.1832\n",
            "Epoch 122/250\n",
            "89/89 [==============================] - 27s 296ms/step - loss: 2.4754 - acc: 0.2115 - val_loss: 2.7138 - val_acc: 0.1853\n",
            "Epoch 123/250\n",
            "89/89 [==============================] - 26s 286ms/step - loss: 2.5091 - acc: 0.2108 - val_loss: 2.7236 - val_acc: 0.1789\n",
            "Epoch 124/250\n",
            "89/89 [==============================] - 27s 299ms/step - loss: 2.5709 - acc: 0.2016 - val_loss: 2.7083 - val_acc: 0.1853\n",
            "Epoch 125/250\n",
            "89/89 [==============================] - 26s 285ms/step - loss: 2.4949 - acc: 0.2221 - val_loss: 2.7102 - val_acc: 0.1724\n",
            "Epoch 126/250\n",
            "89/89 [==============================] - 21s 233ms/step - loss: 2.5396 - acc: 0.1703 - val_loss: 2.7037 - val_acc: 0.1832\n",
            "Epoch 127/250\n",
            "89/89 [==============================] - 27s 302ms/step - loss: 2.4984 - acc: 0.2172 - val_loss: 2.7340 - val_acc: 0.1703\n",
            "Epoch 128/250\n",
            "89/89 [==============================] - 28s 305ms/step - loss: 2.4942 - acc: 0.1994 - val_loss: 2.7056 - val_acc: 0.1875\n",
            "Epoch 129/250\n",
            "89/89 [==============================] - 27s 300ms/step - loss: 2.4981 - acc: 0.2172 - val_loss: 2.7136 - val_acc: 0.1789\n",
            "Epoch 130/250\n",
            "89/89 [==============================] - 28s 309ms/step - loss: 2.5225 - acc: 0.2072 - val_loss: 2.7154 - val_acc: 0.1810\n",
            "Epoch 131/250\n",
            "89/89 [==============================] - 28s 306ms/step - loss: 2.5297 - acc: 0.2037 - val_loss: 2.7211 - val_acc: 0.1789\n",
            "Epoch 132/250\n",
            "89/89 [==============================] - 28s 306ms/step - loss: 2.5177 - acc: 0.2101 - val_loss: 2.7018 - val_acc: 0.1875\n",
            "Epoch 133/250\n",
            "89/89 [==============================] - 27s 295ms/step - loss: 2.4936 - acc: 0.2058 - val_loss: 2.7204 - val_acc: 0.1767\n",
            "Epoch 134/250\n",
            "89/89 [==============================] - 29s 318ms/step - loss: 2.4797 - acc: 0.2023 - val_loss: 2.7089 - val_acc: 0.1767\n",
            "Epoch 135/250\n",
            "89/89 [==============================] - 26s 290ms/step - loss: 2.4982 - acc: 0.2129 - val_loss: 2.7058 - val_acc: 0.1875\n",
            "Epoch 136/250\n",
            "89/89 [==============================] - 28s 306ms/step - loss: 2.4557 - acc: 0.2122 - val_loss: 2.7149 - val_acc: 0.1767\n",
            "Epoch 137/250\n",
            "89/89 [==============================] - 27s 291ms/step - loss: 2.5492 - acc: 0.1938 - val_loss: 2.7195 - val_acc: 0.1810\n",
            "Epoch 138/250\n",
            "89/89 [==============================] - 27s 302ms/step - loss: 2.4732 - acc: 0.2037 - val_loss: 2.7137 - val_acc: 0.1789\n",
            "Epoch 139/250\n",
            "89/89 [==============================] - 27s 290ms/step - loss: 2.4913 - acc: 0.2030 - val_loss: 2.6877 - val_acc: 0.1853\n",
            "Epoch 140/250\n",
            "89/89 [==============================] - 28s 303ms/step - loss: 2.4652 - acc: 0.2179 - val_loss: 2.6985 - val_acc: 0.1918\n",
            "Epoch 141/250\n",
            "89/89 [==============================] - 28s 308ms/step - loss: 2.4633 - acc: 0.2044 - val_loss: 2.7084 - val_acc: 0.1875\n",
            "Epoch 142/250\n",
            "89/89 [==============================] - 28s 306ms/step - loss: 2.5238 - acc: 0.2079 - val_loss: 2.7442 - val_acc: 0.1746\n",
            "Epoch 143/250\n",
            "89/89 [==============================] - 28s 308ms/step - loss: 2.4892 - acc: 0.2122 - val_loss: 2.7266 - val_acc: 0.1724\n",
            "Epoch 144/250\n",
            "89/89 [==============================] - 27s 292ms/step - loss: 2.4935 - acc: 0.1980 - val_loss: 2.7376 - val_acc: 0.1724\n",
            "Epoch 145/250\n",
            "89/89 [==============================] - 26s 287ms/step - loss: 2.4899 - acc: 0.2129 - val_loss: 2.7248 - val_acc: 0.1810\n",
            "Epoch 146/250\n",
            "89/89 [==============================] - 26s 284ms/step - loss: 2.4723 - acc: 0.2101 - val_loss: 2.7164 - val_acc: 0.1767\n",
            "Epoch 147/250\n",
            "89/89 [==============================] - 23s 246ms/step - loss: 2.5270 - acc: 0.1994 - val_loss: 2.7304 - val_acc: 0.1810\n",
            "Epoch 148/250\n",
            "89/89 [==============================] - 26s 284ms/step - loss: 2.4697 - acc: 0.2065 - val_loss: 2.7107 - val_acc: 0.1832\n",
            "Epoch 149/250\n",
            "89/89 [==============================] - 26s 284ms/step - loss: 2.4713 - acc: 0.2221 - val_loss: 2.7100 - val_acc: 0.1875\n",
            "Epoch 150/250\n",
            "89/89 [==============================] - 26s 287ms/step - loss: 2.4431 - acc: 0.2129 - val_loss: 2.7311 - val_acc: 0.1832\n",
            "Epoch 151/250\n",
            "89/89 [==============================] - 28s 303ms/step - loss: 2.5413 - acc: 0.2094 - val_loss: 2.7406 - val_acc: 0.1810\n",
            "Epoch 152/250\n",
            "89/89 [==============================] - 28s 303ms/step - loss: 2.4877 - acc: 0.2115 - val_loss: 2.7120 - val_acc: 0.1810\n",
            "Epoch 153/250\n",
            "89/89 [==============================] - 28s 306ms/step - loss: 2.4852 - acc: 0.2292 - val_loss: 2.7147 - val_acc: 0.1853\n",
            "Epoch 154/250\n",
            "89/89 [==============================] - 27s 299ms/step - loss: 2.5028 - acc: 0.2172 - val_loss: 2.7057 - val_acc: 0.1767\n",
            "Epoch 155/250\n",
            "89/89 [==============================] - 28s 303ms/step - loss: 2.4596 - acc: 0.2108 - val_loss: 2.7124 - val_acc: 0.1832\n",
            "Epoch 156/250\n",
            "89/89 [==============================] - 26s 291ms/step - loss: 2.4742 - acc: 0.2158 - val_loss: 2.7305 - val_acc: 0.1767\n",
            "Epoch 157/250\n",
            "89/89 [==============================] - 28s 306ms/step - loss: 2.5159 - acc: 0.2094 - val_loss: 2.7173 - val_acc: 0.1810\n",
            "Epoch 158/250\n",
            "89/89 [==============================] - 28s 305ms/step - loss: 2.4386 - acc: 0.2278 - val_loss: 2.7030 - val_acc: 0.1789\n",
            "Epoch 159/250\n",
            "89/89 [==============================] - 27s 294ms/step - loss: 2.5017 - acc: 0.2143 - val_loss: 2.6988 - val_acc: 0.1853\n",
            "Epoch 160/250\n",
            "89/89 [==============================] - 28s 309ms/step - loss: 2.5061 - acc: 0.2016 - val_loss: 2.7106 - val_acc: 0.1789\n",
            "Epoch 161/250\n",
            "89/89 [==============================] - 27s 299ms/step - loss: 2.5097 - acc: 0.2001 - val_loss: 2.7157 - val_acc: 0.1724\n",
            "Epoch 162/250\n",
            "89/89 [==============================] - 27s 295ms/step - loss: 2.5189 - acc: 0.2072 - val_loss: 2.6976 - val_acc: 0.1810\n",
            "Epoch 163/250\n",
            "89/89 [==============================] - 28s 306ms/step - loss: 2.5040 - acc: 0.2135 - val_loss: 2.7010 - val_acc: 0.1832\n",
            "Epoch 164/250\n",
            "89/89 [==============================] - 27s 296ms/step - loss: 2.4716 - acc: 0.1994 - val_loss: 2.7140 - val_acc: 0.1810\n",
            "Epoch 165/250\n",
            "89/89 [==============================] - 26s 283ms/step - loss: 2.4933 - acc: 0.2094 - val_loss: 2.7433 - val_acc: 0.1746\n",
            "Epoch 166/250\n",
            "89/89 [==============================] - 27s 301ms/step - loss: 2.4705 - acc: 0.1952 - val_loss: 2.7319 - val_acc: 0.1810\n",
            "Epoch 167/250\n",
            "89/89 [==============================] - 23s 252ms/step - loss: 2.4739 - acc: 0.2136 - val_loss: 2.7305 - val_acc: 0.1746\n",
            "Epoch 168/250\n",
            "89/89 [==============================] - 27s 300ms/step - loss: 2.4566 - acc: 0.2143 - val_loss: 2.7252 - val_acc: 0.1810\n",
            "Epoch 169/250\n",
            "89/89 [==============================] - 26s 284ms/step - loss: 2.4944 - acc: 0.2136 - val_loss: 2.6955 - val_acc: 0.1853\n",
            "Epoch 170/250\n",
            "89/89 [==============================] - 27s 302ms/step - loss: 2.4350 - acc: 0.2243 - val_loss: 2.7045 - val_acc: 0.1832\n",
            "Epoch 171/250\n",
            "89/89 [==============================] - 26s 289ms/step - loss: 2.4662 - acc: 0.2065 - val_loss: 2.7129 - val_acc: 0.1875\n",
            "Epoch 172/250\n",
            "89/89 [==============================] - 26s 285ms/step - loss: 2.4635 - acc: 0.1959 - val_loss: 2.7317 - val_acc: 0.1767\n",
            "Epoch 173/250\n",
            "89/89 [==============================] - 28s 309ms/step - loss: 2.4669 - acc: 0.2094 - val_loss: 2.7276 - val_acc: 0.1767\n",
            "Epoch 174/250\n",
            "89/89 [==============================] - 27s 301ms/step - loss: 2.4347 - acc: 0.2221 - val_loss: 2.7390 - val_acc: 0.1832\n",
            "Epoch 175/250\n",
            "89/89 [==============================] - 28s 302ms/step - loss: 2.4830 - acc: 0.2101 - val_loss: 2.7051 - val_acc: 0.1853\n",
            "Epoch 176/250\n",
            "89/89 [==============================] - 27s 300ms/step - loss: 2.4258 - acc: 0.2079 - val_loss: 2.6859 - val_acc: 0.1875\n",
            "Epoch 177/250\n",
            "89/89 [==============================] - 21s 230ms/step - loss: 2.4688 - acc: 0.2087 - val_loss: 2.6950 - val_acc: 0.1853\n",
            "Epoch 178/250\n",
            "89/89 [==============================] - 27s 289ms/step - loss: 2.4768 - acc: 0.2108 - val_loss: 2.7225 - val_acc: 0.1767\n",
            "Epoch 179/250\n",
            "89/89 [==============================] - 26s 285ms/step - loss: 2.4386 - acc: 0.2030 - val_loss: 2.7112 - val_acc: 0.1810\n",
            "Epoch 180/250\n",
            "89/89 [==============================] - 26s 285ms/step - loss: 2.4301 - acc: 0.2051 - val_loss: 2.7112 - val_acc: 0.1832\n",
            "Epoch 181/250\n",
            "89/89 [==============================] - 26s 285ms/step - loss: 2.4776 - acc: 0.2165 - val_loss: 2.7058 - val_acc: 0.1810\n",
            "Epoch 182/250\n",
            "89/89 [==============================] - 26s 284ms/step - loss: 2.4915 - acc: 0.2009 - val_loss: 2.7117 - val_acc: 0.1789\n",
            "Epoch 183/250\n",
            "89/89 [==============================] - 26s 281ms/step - loss: 2.4697 - acc: 0.2087 - val_loss: 2.7240 - val_acc: 0.1789\n",
            "Epoch 184/250\n",
            "89/89 [==============================] - 28s 310ms/step - loss: 2.4172 - acc: 0.2342 - val_loss: 2.7311 - val_acc: 0.1832\n",
            "Epoch 185/250\n",
            "89/89 [==============================] - 27s 294ms/step - loss: 2.4739 - acc: 0.2016 - val_loss: 2.7364 - val_acc: 0.1810\n",
            "Epoch 186/250\n",
            "89/89 [==============================] - 28s 307ms/step - loss: 2.4929 - acc: 0.2136 - val_loss: 2.7292 - val_acc: 0.1810\n",
            "Epoch 187/250\n",
            "89/89 [==============================] - 26s 288ms/step - loss: 2.4690 - acc: 0.2101 - val_loss: 2.7251 - val_acc: 0.1810\n",
            "Epoch 188/250\n",
            "89/89 [==============================] - 21s 229ms/step - loss: 2.3899 - acc: 0.2328 - val_loss: 2.7358 - val_acc: 0.1789\n",
            "Epoch 189/250\n",
            "89/89 [==============================] - 27s 300ms/step - loss: 2.4153 - acc: 0.2165 - val_loss: 2.7129 - val_acc: 0.1853\n",
            "Epoch 190/250\n",
            "89/89 [==============================] - 26s 290ms/step - loss: 2.4412 - acc: 0.2307 - val_loss: 2.6945 - val_acc: 0.1918\n",
            "Epoch 191/250\n",
            "89/89 [==============================] - 26s 282ms/step - loss: 2.4501 - acc: 0.2115 - val_loss: 2.7254 - val_acc: 0.1810\n",
            "Epoch 192/250\n",
            "89/89 [==============================] - 28s 302ms/step - loss: 2.4658 - acc: 0.2214 - val_loss: 2.7326 - val_acc: 0.1767\n",
            "Epoch 193/250\n",
            "89/89 [==============================] - 26s 287ms/step - loss: 2.4599 - acc: 0.2129 - val_loss: 2.6992 - val_acc: 0.1832\n",
            "Epoch 194/250\n",
            "89/89 [==============================] - 26s 287ms/step - loss: 2.4332 - acc: 0.2122 - val_loss: 2.7416 - val_acc: 0.1746\n",
            "Epoch 195/250\n",
            "89/89 [==============================] - 26s 286ms/step - loss: 2.4543 - acc: 0.2143 - val_loss: 2.6977 - val_acc: 0.1767\n",
            "Epoch 196/250\n",
            "89/89 [==============================] - 28s 303ms/step - loss: 2.4806 - acc: 0.2009 - val_loss: 2.7093 - val_acc: 0.1810\n",
            "Epoch 197/250\n",
            "89/89 [==============================] - 27s 300ms/step - loss: 2.4551 - acc: 0.2001 - val_loss: 2.7281 - val_acc: 0.1789\n",
            "Epoch 198/250\n",
            "89/89 [==============================] - 26s 290ms/step - loss: 2.4744 - acc: 0.1987 - val_loss: 2.7270 - val_acc: 0.1767\n",
            "Epoch 199/250\n",
            "89/89 [==============================] - 27s 298ms/step - loss: 2.3759 - acc: 0.2385 - val_loss: 2.7060 - val_acc: 0.1789\n",
            "Epoch 200/250\n",
            "89/89 [==============================] - 28s 306ms/step - loss: 2.4246 - acc: 0.2172 - val_loss: 2.7352 - val_acc: 0.1767\n",
            "Epoch 201/250\n",
            "89/89 [==============================] - 28s 306ms/step - loss: 2.4881 - acc: 0.2079 - val_loss: 2.7283 - val_acc: 0.1724\n",
            "Epoch 202/250\n",
            "89/89 [==============================] - 22s 235ms/step - loss: 2.4308 - acc: 0.2193 - val_loss: 2.7016 - val_acc: 0.1767\n",
            "Epoch 203/250\n",
            "89/89 [==============================] - 26s 282ms/step - loss: 2.4243 - acc: 0.2087 - val_loss: 2.7175 - val_acc: 0.1767\n",
            "Epoch 204/250\n",
            "89/89 [==============================] - 27s 293ms/step - loss: 2.4437 - acc: 0.2087 - val_loss: 2.6845 - val_acc: 0.1853\n",
            "Epoch 205/250\n",
            "89/89 [==============================] - 27s 285ms/step - loss: 2.4449 - acc: 0.2214 - val_loss: 2.7101 - val_acc: 0.1681\n",
            "Epoch 206/250\n",
            "89/89 [==============================] - 26s 284ms/step - loss: 2.4165 - acc: 0.2193 - val_loss: 2.7223 - val_acc: 0.1767\n",
            "Epoch 207/250\n",
            "89/89 [==============================] - 26s 285ms/step - loss: 2.4347 - acc: 0.2136 - val_loss: 2.7132 - val_acc: 0.1810\n",
            "Epoch 208/250\n",
            "89/89 [==============================] - 26s 287ms/step - loss: 2.3971 - acc: 0.2214 - val_loss: 2.7114 - val_acc: 0.1789\n",
            "Epoch 209/250\n",
            "89/89 [==============================] - 28s 311ms/step - loss: 2.4531 - acc: 0.2044 - val_loss: 2.6961 - val_acc: 0.1832\n",
            "Epoch 210/250\n",
            "89/89 [==============================] - 28s 308ms/step - loss: 2.4753 - acc: 0.2065 - val_loss: 2.6815 - val_acc: 0.1853\n",
            "Epoch 211/250\n",
            "89/89 [==============================] - 28s 309ms/step - loss: 2.4360 - acc: 0.2229 - val_loss: 2.7083 - val_acc: 0.1810\n",
            "Epoch 212/250\n",
            "89/89 [==============================] - 30s 328ms/step - loss: 2.4088 - acc: 0.2172 - val_loss: 2.6955 - val_acc: 0.1853\n",
            "Epoch 213/250\n",
            "89/89 [==============================] - 28s 303ms/step - loss: 2.4177 - acc: 0.2353 - val_loss: 2.7024 - val_acc: 0.1767\n",
            "Epoch 214/250\n",
            "89/89 [==============================] - 27s 298ms/step - loss: 2.4405 - acc: 0.2221 - val_loss: 2.6915 - val_acc: 0.1810\n",
            "Epoch 215/250\n",
            "89/89 [==============================] - 28s 303ms/step - loss: 2.4619 - acc: 0.2129 - val_loss: 2.6892 - val_acc: 0.1767\n",
            "Epoch 216/250\n",
            "89/89 [==============================] - 28s 314ms/step - loss: 2.4239 - acc: 0.2243 - val_loss: 2.6962 - val_acc: 0.1810\n",
            "Epoch 217/250\n",
            "89/89 [==============================] - 28s 307ms/step - loss: 2.3735 - acc: 0.2172 - val_loss: 2.7195 - val_acc: 0.1746\n",
            "Epoch 218/250\n",
            "89/89 [==============================] - 30s 328ms/step - loss: 2.4616 - acc: 0.2186 - val_loss: 2.7151 - val_acc: 0.1810\n",
            "Epoch 219/250\n",
            "89/89 [==============================] - 29s 315ms/step - loss: 2.4728 - acc: 0.2051 - val_loss: 2.7318 - val_acc: 0.1746\n",
            "Epoch 220/250\n",
            "89/89 [==============================] - 29s 323ms/step - loss: 2.4413 - acc: 0.2114 - val_loss: 2.7164 - val_acc: 0.1789\n",
            "Epoch 221/250\n",
            "89/89 [==============================] - 27s 299ms/step - loss: 2.3566 - acc: 0.2484 - val_loss: 2.7071 - val_acc: 0.1832\n",
            "Epoch 222/250\n",
            "89/89 [==============================] - 26s 290ms/step - loss: 2.3936 - acc: 0.2229 - val_loss: 2.7193 - val_acc: 0.1832\n",
            "Epoch 223/250\n",
            "89/89 [==============================] - 28s 311ms/step - loss: 2.4069 - acc: 0.2143 - val_loss: 2.7022 - val_acc: 0.1789\n",
            "Epoch 224/250\n",
            "89/89 [==============================] - 28s 303ms/step - loss: 2.4293 - acc: 0.2193 - val_loss: 2.7140 - val_acc: 0.1853\n",
            "Epoch 225/250\n",
            "89/89 [==============================] - 23s 252ms/step - loss: 2.4242 - acc: 0.2300 - val_loss: 2.6864 - val_acc: 0.1810\n",
            "Epoch 226/250\n",
            "89/89 [==============================] - 28s 305ms/step - loss: 2.4010 - acc: 0.2101 - val_loss: 2.6966 - val_acc: 0.1789\n",
            "Epoch 227/250\n",
            "89/89 [==============================] - 27s 299ms/step - loss: 2.4177 - acc: 0.2172 - val_loss: 2.7265 - val_acc: 0.1789\n",
            "Epoch 228/250\n",
            "89/89 [==============================] - 27s 298ms/step - loss: 2.4365 - acc: 0.2200 - val_loss: 2.7347 - val_acc: 0.1810\n",
            "Epoch 229/250\n",
            "89/89 [==============================] - 28s 302ms/step - loss: 2.4480 - acc: 0.2079 - val_loss: 2.7262 - val_acc: 0.1789\n",
            "Epoch 230/250\n",
            "89/89 [==============================] - 26s 289ms/step - loss: 2.4079 - acc: 0.2236 - val_loss: 2.7094 - val_acc: 0.1789\n",
            "Epoch 231/250\n",
            "89/89 [==============================] - 27s 290ms/step - loss: 2.4150 - acc: 0.2001 - val_loss: 2.7425 - val_acc: 0.1810\n",
            "Epoch 232/250\n",
            "89/89 [==============================] - 27s 296ms/step - loss: 2.3907 - acc: 0.2399 - val_loss: 2.7031 - val_acc: 0.1832\n",
            "Epoch 233/250\n",
            "89/89 [==============================] - 27s 295ms/step - loss: 2.4350 - acc: 0.2058 - val_loss: 2.7067 - val_acc: 0.1789\n",
            "Epoch 234/250\n",
            "89/89 [==============================] - 28s 311ms/step - loss: 2.4013 - acc: 0.2243 - val_loss: 2.7222 - val_acc: 0.1810\n",
            "Epoch 235/250\n",
            "89/89 [==============================] - 27s 297ms/step - loss: 2.4192 - acc: 0.2292 - val_loss: 2.7052 - val_acc: 0.1789\n",
            "Epoch 236/250\n",
            "89/89 [==============================] - 27s 290ms/step - loss: 2.3818 - acc: 0.2207 - val_loss: 2.7194 - val_acc: 0.1724\n",
            "Epoch 237/250\n",
            "89/89 [==============================] - 27s 294ms/step - loss: 2.4235 - acc: 0.2079 - val_loss: 2.7191 - val_acc: 0.1832\n",
            "Epoch 238/250\n",
            "89/89 [==============================] - 28s 303ms/step - loss: 2.4072 - acc: 0.2136 - val_loss: 2.7039 - val_acc: 0.1767\n",
            "Epoch 239/250\n",
            "89/89 [==============================] - 27s 291ms/step - loss: 2.4481 - acc: 0.2193 - val_loss: 2.7250 - val_acc: 0.1767\n",
            "Epoch 240/250\n",
            "89/89 [==============================] - 28s 312ms/step - loss: 2.3806 - acc: 0.2321 - val_loss: 2.7204 - val_acc: 0.1832\n",
            "Epoch 241/250\n",
            "89/89 [==============================] - 28s 306ms/step - loss: 2.4169 - acc: 0.2108 - val_loss: 2.7088 - val_acc: 0.1832\n",
            "Epoch 242/250\n",
            "89/89 [==============================] - 28s 305ms/step - loss: 2.4440 - acc: 0.2122 - val_loss: 2.7017 - val_acc: 0.1853\n",
            "Epoch 243/250\n",
            "89/89 [==============================] - 28s 309ms/step - loss: 2.4218 - acc: 0.2072 - val_loss: 2.7101 - val_acc: 0.1875\n",
            "Epoch 244/250\n",
            "89/89 [==============================] - 27s 297ms/step - loss: 2.3896 - acc: 0.2207 - val_loss: 2.7238 - val_acc: 0.1789\n",
            "Epoch 245/250\n",
            "89/89 [==============================] - 28s 313ms/step - loss: 2.3954 - acc: 0.2236 - val_loss: 2.7153 - val_acc: 0.1810\n",
            "Epoch 246/250\n",
            "89/89 [==============================] - 26s 289ms/step - loss: 2.4161 - acc: 0.2136 - val_loss: 2.7068 - val_acc: 0.1853\n",
            "Epoch 247/250\n",
            "89/89 [==============================] - 28s 307ms/step - loss: 2.3353 - acc: 0.2314 - val_loss: 2.7308 - val_acc: 0.1832\n",
            "Epoch 248/250\n",
            "89/89 [==============================] - 27s 298ms/step - loss: 2.3826 - acc: 0.2300 - val_loss: 2.7173 - val_acc: 0.1897\n",
            "Epoch 249/250\n",
            "89/89 [==============================] - 27s 293ms/step - loss: 2.3799 - acc: 0.2087 - val_loss: 2.7196 - val_acc: 0.1918\n",
            "Epoch 250/250\n",
            "89/89 [==============================] - 22s 238ms/step - loss: 2.3836 - acc: 0.2271 - val_loss: 2.7389 - val_acc: 0.1810\n"
          ]
        }
      ]
    },
    {
      "cell_type": "code",
      "source": [
        "acc = history.history['acc']\n",
        "val_acc = history.history['val_acc']\n",
        "loss = history.history['loss']\n",
        "val_loss = history.history['val_loss']\n",
        "\n",
        "epochs_x = range(len(acc))\n",
        "\n",
        "plt.plot(epochs_x, acc, 'mo', label='Training acc')\n",
        "plt.plot(epochs_x, val_acc, 'k', label='Validation acc')\n",
        "plt.title('Training and validation accuracy')\n",
        "plt.legend()\n",
        "\n",
        "plt.figure()\n",
        "\n",
        "plt.plot(epochs_x, loss, 'mo', label='Training loss')\n",
        "plt.plot(epochs_x, val_loss, 'k', label='Validation loss')\n",
        "plt.title('Training and validation loss')\n",
        "plt.legend()\n",
        "\n",
        "plt.show()"
      ],
      "metadata": {
        "id": "kwylTJpTP5XI",
        "colab": {
          "base_uri": "https://localhost:8080/",
          "height": 545
        },
        "outputId": "090b8c9e-fecf-42ea-dbd9-419f97f2705c"
      },
      "execution_count": 13,
      "outputs": [
        {
          "output_type": "display_data",
          "data": {
            "text/plain": [
              "<Figure size 432x288 with 1 Axes>"
            ],
            "image/png": "[encoded data removed]"
          },
          "metadata": {
            "needs_background": "light"
          }
        },
        {
          "output_type": "display_data",
          "data": {
            "text/plain": [
              "<Figure size 432x288 with 1 Axes>"
            ],
            "image/png": "[encoded data removed]"
          },
          "metadata": {
            "needs_background": "light"
          }
        }
      ]
    },
    {
      "cell_type": "markdown",
      "source": [
        "#Download the model"
      ],
      "metadata": {
        "id": "lD-vKaoHQAFd"
      }
    },
    {
      "cell_type": "code",
      "source": [
        "os.makedirs('/content/drive/My Drive/cut_panoramic/Model', exist_ok=True)\n",
        "model.save('/content/drive/My Drive/cut_panoramic/Model/Classification/Female/F2_Train_Freeze.h5')"
      ],
      "metadata": {
        "id": "74dL7-HLP_Sh"
      },
      "execution_count": 14,
      "outputs": []
    },
    {
      "cell_type": "code",
      "source": [
        "# from google.colab import files\n",
        "# files.download('/content/drive/My Drive/cut_panoramic/Model/22_รอบที่2_Flimpano_Female125_250.h5')"
      ],
      "metadata": {
        "id": "qcPW-brHQDpc"
      },
      "execution_count": 15,
      "outputs": []
    }
  ]
}