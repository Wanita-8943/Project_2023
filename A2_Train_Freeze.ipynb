{
  "nbformat": 4,
  "nbformat_minor": 0,
  "metadata": {
    "colab": {
      "provenance": [],
      "include_colab_link": true
    },
    "kernelspec": {
      "name": "python3",
      "display_name": "Python 3"
    },
    "language_info": {
      "name": "python"
    },
    "accelerator": "GPU",
    "gpuClass": "standard"
  },
  "cells": [
    {
      "cell_type": "markdown",
      "metadata": {
        "id": "view-in-github",
        "colab_type": "text"
      },
      "source": [
        "<a href=\"https://colab.research.google.com/github/Wanita-8943/Project_2023/blob/main/A2_Train_Freeze.ipynb\" target=\"_parent\"><img src=\"https://colab.research.google.com/assets/colab-badge.svg\" alt=\"Open In Colab\"/></a>"
      ]
    },
    {
      "cell_type": "markdown",
      "source": [
        "#เรียกใช้ CSV"
      ],
      "metadata": {
        "id": "ow7eWoNw6U-c"
      }
    },
    {
      "cell_type": "code",
      "execution_count": 1,
      "metadata": {
        "id": "z8o_VVNXzcL8"
      },
      "outputs": [],
      "source": [
        "import pandas as pd\n",
        "import shutil"
      ]
    },
    {
      "cell_type": "code",
      "source": [
        "from google.colab import drive\n",
        "drive.mount('/content/drive')"
      ],
      "metadata": {
        "colab": {
          "base_uri": "https://localhost:8080/"
        },
        "id": "1_2Fe8u81d5r",
        "outputId": "4aec1b42-284b-4bb2-fb70-93b5b06cb08d"
      },
      "execution_count": 2,
      "outputs": [
        {
          "output_type": "stream",
          "name": "stdout",
          "text": [
            "Mounted at /content/drive\n"
          ]
        }
      ]
    },
    {
      "cell_type": "markdown",
      "source": [
        "#Imports"
      ],
      "metadata": {
        "id": "5qxePnnn7TGW"
      }
    },
    {
      "cell_type": "code",
      "source": [
        "from tensorflow.keras import models\n",
        "from tensorflow.keras import layers\n",
        "from tensorflow.keras import optimizers\n",
        "import os\n",
        "import glob\n",
        "import shutil\n",
        "import sys\n",
        "import numpy as np\n",
        "from skimage.io import imread\n",
        "import matplotlib.pyplot as plt\n",
        "from IPython.display import Image\n",
        "%matplotlib inline"
      ],
      "metadata": {
        "id": "D-hCRloc3t39"
      },
      "execution_count": 3,
      "outputs": []
    },
    {
      "cell_type": "code",
      "source": [
        "import tensorflow as tf\n",
        "from tensorflow.keras import Sequential\n",
        "from tensorflow.keras.layers import Dense\n",
        "from tensorflow.keras.optimizers import Adam\n",
        "from tensorflow.keras import backend as K"
      ],
      "metadata": {
        "id": "YZWXwjXeGxZP"
      },
      "execution_count": 4,
      "outputs": []
    },
    {
      "cell_type": "markdown",
      "source": [
        "#กำหนดค่าพารามิเตอร์\n"
      ],
      "metadata": {
        "id": "RooqSdBc7QHC"
      }
    },
    {
      "cell_type": "code",
      "source": [
        "batch_size = 16\n",
        "width = 150\n",
        "height = 150\n",
        "epochs = 250\n",
        "NUM_TRAIN = 2850\n",
        "NUM_TEST = 950\n",
        "dropout_rate = 0.2\n",
        "input_shape = (height, width, 3)"
      ],
      "metadata": {
        "id": "thDb7U9B3xOo"
      },
      "execution_count": 5,
      "outputs": []
    },
    {
      "cell_type": "markdown",
      "source": [
        "#Clone efficientnet repo\n"
      ],
      "metadata": {
        "id": "pumGmy6f3eSW"
      }
    },
    {
      "cell_type": "code",
      "source": [
        "#ดึงข้อมูลใน Github มาใช้\n",
        "import os\n",
        "%cd /content\n",
        "if not os.path.isdir(\"efficientnet_keras_transfer_learning\"):\n",
        " !git clone https://github.com/Wanita-8943/efficientnet_keras_transfer_learning\n",
        "%cd efficientnet_keras_transfer_learning/\n"
      ],
      "metadata": {
        "colab": {
          "base_uri": "https://localhost:8080/"
        },
        "id": "P7iy2f8n16p0",
        "outputId": "33a1cccc-8aea-489b-93d5-7f543d8846c1"
      },
      "execution_count": 6,
      "outputs": [
        {
          "output_type": "stream",
          "name": "stdout",
          "text": [
            "/content\n",
            "Cloning into 'efficientnet_keras_transfer_learning'...\n",
            "remote: Enumerating objects: 837, done.\u001b[K\n",
            "remote: Counting objects: 100% (359/359), done.\u001b[K\n",
            "remote: Compressing objects: 100% (124/124), done.\u001b[K\n",
            "remote: Total 837 (delta 255), reused 328 (delta 235), pack-reused 478\u001b[K\n",
            "Receiving objects: 100% (837/837), 13.82 MiB | 1.21 MiB/s, done.\n",
            "Resolving deltas: 100% (495/495), done.\n",
            "/content/efficientnet_keras_transfer_learning\n"
          ]
        }
      ]
    },
    {
      "cell_type": "code",
      "source": [
        "# Options: EfficientNetB0, EfficientNetB1, EfficientNetB2, EfficientNetB3\n",
        "# Higher the number, the more complex the model is.\n",
        "from efficientnet import EfficientNetB0 as Net\n",
        "from efficientnet import center_crop_and_resize, preprocess_input"
      ],
      "metadata": {
        "id": "tjZBRnfo3bN0"
      },
      "execution_count": 7,
      "outputs": []
    },
    {
      "cell_type": "markdown",
      "source": [
        "#load model\n"
      ],
      "metadata": {
        "id": "PdNWyD-QYkzK"
      }
    },
    {
      "cell_type": "code",
      "source": [
        "import sys\n",
        "sys.path.append('/content/drive/MyDrive/cut_panoramic/Model/1Re_All_1G_1e-4_16_0.2_250.h5')\n",
        "\n",
        "from efficientnet.layers import Swish, DropConnect\n",
        "from efficientnet.model import ConvKernalInitializer\n",
        "from tensorflow.keras.utils import get_custom_objects\n",
        "\n",
        "get_custom_objects().update({\n",
        "    'ConvKernalInitializer': ConvKernalInitializer,\n",
        "    'Swish': Swish,\n",
        "    'DropConnect':DropConnect\n",
        "})"
      ],
      "metadata": {
        "id": "_gPnx2UvYf5A"
      },
      "execution_count": 8,
      "outputs": []
    },
    {
      "cell_type": "code",
      "source": [
        "#load model \n",
        "from tensorflow.keras.models import load_model\n",
        "model = load_model('/content/drive/MyDrive/cut_panoramic/Model/1Re_All_1G_1e-4_16_0.2_250.h5')\n",
        "height = width = model.input_shape[1]"
      ],
      "metadata": {
        "id": "Nu93WzFUYm9e",
        "colab": {
          "base_uri": "https://localhost:8080/"
        },
        "outputId": "029381d3-9469-44db-df3c-8fbe669f9b8e"
      },
      "execution_count": 9,
      "outputs": [
        {
          "output_type": "stream",
          "name": "stderr",
          "text": [
            "WARNING:tensorflow:From /usr/local/lib/python3.8/dist-packages/tensorflow/python/autograph/pyct/static_analysis/liveness.py:83: Analyzer.lamba_check (from tensorflow.python.autograph.pyct.static_analysis.liveness) is deprecated and will be removed after 2023-09-23.\n",
            "Instructions for updating:\n",
            "Lambda fuctions will be no more assumed to be used in the statement where they are used, or at least in the same block. https://github.com/tensorflow/tensorflow/issues/56089\n"
          ]
        }
      ]
    },
    {
      "cell_type": "code",
      "source": [
        "model.summary()"
      ],
      "metadata": {
        "id": "gp5EbyyXYvc6",
        "colab": {
          "base_uri": "https://localhost:8080/"
        },
        "outputId": "e8f49f1c-ead8-4337-ab3d-c573f327239f"
      },
      "execution_count": 10,
      "outputs": [
        {
          "output_type": "stream",
          "name": "stdout",
          "text": [
            "Model: \"sequential\"\n",
            "_________________________________________________________________\n",
            " Layer (type)                Output Shape              Param #   \n",
            "=================================================================\n",
            " efficientnet-b0 (Functional  (None, 5, 5, 1280)       4049564   \n",
            " )                                                               \n",
            "                                                                 \n",
            " gap (GlobalMaxPooling2D)    (None, 1280)              0         \n",
            "                                                                 \n",
            " dropout_out (Dropout)       (None, 1280)              0         \n",
            "                                                                 \n",
            " fc_out (Dense)              (None, 19)                24339     \n",
            "                                                                 \n",
            " dense (Dense)               (None, 1)                 20        \n",
            "                                                                 \n",
            "=================================================================\n",
            "Total params: 4,073,923\n",
            "Trainable params: 24,359\n",
            "Non-trainable params: 4,049,564\n",
            "_________________________________________________________________\n"
          ]
        }
      ]
    },
    {
      "cell_type": "code",
      "source": [
        "df = pd.read_csv (r'/content/drive/MyDrive/cut_panoramic/Data/All_Re.csv')\n",
        "df"
      ],
      "metadata": {
        "id": "q1Dc131_Y3uA",
        "colab": {
          "base_uri": "https://localhost:8080/",
          "height": 661
        },
        "outputId": "ad146732-2de6-4422-a00b-82bdd6395802"
      },
      "execution_count": 11,
      "outputs": [
        {
          "output_type": "execute_result",
          "data": {
            "text/plain": [
              "      Fig_Age  Fig_Person_Sex  Age(year) Class  Class_Re       Filename  \\\n",
              "0           1               1          7  Y07F         1         V1.jpg   \n",
              "1           2               1          7  Y07F         1    Flip_V1.jpg   \n",
              "2           3               2          7  Y07F         1         V2.jpg   \n",
              "3           4               2          7  Y07F         1    Flip_V2.jpg   \n",
              "4           5               3          7  Y07F         1         V3.jpg   \n",
              "...       ...             ...        ...   ...       ...            ...   \n",
              "4745      121              77         25  Y25M        19  Flip_J463.jpg   \n",
              "4746      122              78         25  Y25M        19       J464.jpg   \n",
              "4747      123              78         25  Y25M        19  Flip_J464.jpg   \n",
              "4748      124              79         25  Y25M        19       J465.jpg   \n",
              "4749      125              79         25  Y25M        19  Flip_J465.jpg   \n",
              "\n",
              "                                          Path_filename     Sex Floder  \n",
              "0     /content/drive/My Drive/TVT_Gender/train/Femal...  Female   Both  \n",
              "1     /content/drive/My Drive/TVT_Gender/train/Femal...  Female   Both  \n",
              "2     /content/drive/My Drive/TVT_Gender/train/Femal...  Female   Both  \n",
              "3     /content/drive/My Drive/TVT_Gender/train/Femal...  Female   Both  \n",
              "4     /content/drive/My Drive/TVT_Gender/train/Femal...  Female   Both  \n",
              "...                                                 ...     ...    ...  \n",
              "4745  /content/drive/My Drive/TVT_Gender/test/Male/F...    Male   Both  \n",
              "4746  /content/drive/My Drive/TVT_Gender/test/Male/J...    Male   Both  \n",
              "4747  /content/drive/My Drive/TVT_Gender/test/Male/F...    Male   Both  \n",
              "4748  /content/drive/My Drive/TVT_Gender/test/Male/J...    Male   Both  \n",
              "4749  /content/drive/My Drive/TVT_Gender/test/Male/F...    Male   Both  \n",
              "\n",
              "[4750 rows x 9 columns]"
            ],
            "text/html": [
              "\n",
              "  <div id=\"df-4e58d814-e368-4933-98a0-f949765cab71\">\n",
              "    <div class=\"colab-df-container\">\n",
              "      <div>\n",
              "<style scoped>\n",
              "    .dataframe tbody tr th:only-of-type {\n",
              "        vertical-align: middle;\n",
              "    }\n",
              "\n",
              "    .dataframe tbody tr th {\n",
              "        vertical-align: top;\n",
              "    }\n",
              "\n",
              "    .dataframe thead th {\n",
              "        text-align: right;\n",
              "    }\n",
              "</style>\n",
              "<table border=\"1\" class=\"dataframe\">\n",
              "  <thead>\n",
              "    <tr style=\"text-align: right;\">\n",
              "      <th></th>\n",
              "      <th>Fig_Age</th>\n",
              "      <th>Fig_Person_Sex</th>\n",
              "      <th>Age(year)</th>\n",
              "      <th>Class</th>\n",
              "      <th>Class_Re</th>\n",
              "      <th>Filename</th>\n",
              "      <th>Path_filename</th>\n",
              "      <th>Sex</th>\n",
              "      <th>Floder</th>\n",
              "    </tr>\n",
              "  </thead>\n",
              "  <tbody>\n",
              "    <tr>\n",
              "      <th>0</th>\n",
              "      <td>1</td>\n",
              "      <td>1</td>\n",
              "      <td>7</td>\n",
              "      <td>Y07F</td>\n",
              "      <td>1</td>\n",
              "      <td>V1.jpg</td>\n",
              "      <td>/content/drive/My Drive/TVT_Gender/train/Femal...</td>\n",
              "      <td>Female</td>\n",
              "      <td>Both</td>\n",
              "    </tr>\n",
              "    <tr>\n",
              "      <th>1</th>\n",
              "      <td>2</td>\n",
              "      <td>1</td>\n",
              "      <td>7</td>\n",
              "      <td>Y07F</td>\n",
              "      <td>1</td>\n",
              "      <td>Flip_V1.jpg</td>\n",
              "      <td>/content/drive/My Drive/TVT_Gender/train/Femal...</td>\n",
              "      <td>Female</td>\n",
              "      <td>Both</td>\n",
              "    </tr>\n",
              "    <tr>\n",
              "      <th>2</th>\n",
              "      <td>3</td>\n",
              "      <td>2</td>\n",
              "      <td>7</td>\n",
              "      <td>Y07F</td>\n",
              "      <td>1</td>\n",
              "      <td>V2.jpg</td>\n",
              "      <td>/content/drive/My Drive/TVT_Gender/train/Femal...</td>\n",
              "      <td>Female</td>\n",
              "      <td>Both</td>\n",
              "    </tr>\n",
              "    <tr>\n",
              "      <th>3</th>\n",
              "      <td>4</td>\n",
              "      <td>2</td>\n",
              "      <td>7</td>\n",
              "      <td>Y07F</td>\n",
              "      <td>1</td>\n",
              "      <td>Flip_V2.jpg</td>\n",
              "      <td>/content/drive/My Drive/TVT_Gender/train/Femal...</td>\n",
              "      <td>Female</td>\n",
              "      <td>Both</td>\n",
              "    </tr>\n",
              "    <tr>\n",
              "      <th>4</th>\n",
              "      <td>5</td>\n",
              "      <td>3</td>\n",
              "      <td>7</td>\n",
              "      <td>Y07F</td>\n",
              "      <td>1</td>\n",
              "      <td>V3.jpg</td>\n",
              "      <td>/content/drive/My Drive/TVT_Gender/train/Femal...</td>\n",
              "      <td>Female</td>\n",
              "      <td>Both</td>\n",
              "    </tr>\n",
              "    <tr>\n",
              "      <th>...</th>\n",
              "      <td>...</td>\n",
              "      <td>...</td>\n",
              "      <td>...</td>\n",
              "      <td>...</td>\n",
              "      <td>...</td>\n",
              "      <td>...</td>\n",
              "      <td>...</td>\n",
              "      <td>...</td>\n",
              "      <td>...</td>\n",
              "    </tr>\n",
              "    <tr>\n",
              "      <th>4745</th>\n",
              "      <td>121</td>\n",
              "      <td>77</td>\n",
              "      <td>25</td>\n",
              "      <td>Y25M</td>\n",
              "      <td>19</td>\n",
              "      <td>Flip_J463.jpg</td>\n",
              "      <td>/content/drive/My Drive/TVT_Gender/test/Male/F...</td>\n",
              "      <td>Male</td>\n",
              "      <td>Both</td>\n",
              "    </tr>\n",
              "    <tr>\n",
              "      <th>4746</th>\n",
              "      <td>122</td>\n",
              "      <td>78</td>\n",
              "      <td>25</td>\n",
              "      <td>Y25M</td>\n",
              "      <td>19</td>\n",
              "      <td>J464.jpg</td>\n",
              "      <td>/content/drive/My Drive/TVT_Gender/test/Male/J...</td>\n",
              "      <td>Male</td>\n",
              "      <td>Both</td>\n",
              "    </tr>\n",
              "    <tr>\n",
              "      <th>4747</th>\n",
              "      <td>123</td>\n",
              "      <td>78</td>\n",
              "      <td>25</td>\n",
              "      <td>Y25M</td>\n",
              "      <td>19</td>\n",
              "      <td>Flip_J464.jpg</td>\n",
              "      <td>/content/drive/My Drive/TVT_Gender/test/Male/F...</td>\n",
              "      <td>Male</td>\n",
              "      <td>Both</td>\n",
              "    </tr>\n",
              "    <tr>\n",
              "      <th>4748</th>\n",
              "      <td>124</td>\n",
              "      <td>79</td>\n",
              "      <td>25</td>\n",
              "      <td>Y25M</td>\n",
              "      <td>19</td>\n",
              "      <td>J465.jpg</td>\n",
              "      <td>/content/drive/My Drive/TVT_Gender/test/Male/J...</td>\n",
              "      <td>Male</td>\n",
              "      <td>Both</td>\n",
              "    </tr>\n",
              "    <tr>\n",
              "      <th>4749</th>\n",
              "      <td>125</td>\n",
              "      <td>79</td>\n",
              "      <td>25</td>\n",
              "      <td>Y25M</td>\n",
              "      <td>19</td>\n",
              "      <td>Flip_J465.jpg</td>\n",
              "      <td>/content/drive/My Drive/TVT_Gender/test/Male/F...</td>\n",
              "      <td>Male</td>\n",
              "      <td>Both</td>\n",
              "    </tr>\n",
              "  </tbody>\n",
              "</table>\n",
              "<p>4750 rows × 9 columns</p>\n",
              "</div>\n",
              "      <button class=\"colab-df-convert\" onclick=\"convertToInteractive('df-4e58d814-e368-4933-98a0-f949765cab71')\"\n",
              "              title=\"Convert this dataframe to an interactive table.\"\n",
              "              style=\"display:none;\">\n",
              "        \n",
              "  <svg xmlns=\"http://www.w3.org/2000/svg\" height=\"24px\"viewBox=\"0 0 24 24\"\n",
              "       width=\"24px\">\n",
              "    <path d=\"M0 0h24v24H0V0z\" fill=\"none\"/>\n",
              "    <path d=\"M18.56 5.44l.94 2.06.94-2.06 2.06-.94-2.06-.94-.94-2.06-.94 2.06-2.06.94zm-11 1L8.5 8.5l.94-2.06 2.06-.94-2.06-.94L8.5 2.5l-.94 2.06-2.06.94zm10 10l.94 2.06.94-2.06 2.06-.94-2.06-.94-.94-2.06-.94 2.06-2.06.94z\"/><path d=\"M17.41 7.96l-1.37-1.37c-.4-.4-.92-.59-1.43-.59-.52 0-1.04.2-1.43.59L10.3 9.45l-7.72 7.72c-.78.78-.78 2.05 0 2.83L4 21.41c.39.39.9.59 1.41.59.51 0 1.02-.2 1.41-.59l7.78-7.78 2.81-2.81c.8-.78.8-2.07 0-2.86zM5.41 20L4 18.59l7.72-7.72 1.47 1.35L5.41 20z\"/>\n",
              "  </svg>\n",
              "      </button>\n",
              "      \n",
              "  <style>\n",
              "    .colab-df-container {\n",
              "      display:flex;\n",
              "      flex-wrap:wrap;\n",
              "      gap: 12px;\n",
              "    }\n",
              "\n",
              "    .colab-df-convert {\n",
              "      background-color: #E8F0FE;\n",
              "      border: none;\n",
              "      border-radius: 50%;\n",
              "      cursor: pointer;\n",
              "      display: none;\n",
              "      fill: #1967D2;\n",
              "      height: 32px;\n",
              "      padding: 0 0 0 0;\n",
              "      width: 32px;\n",
              "    }\n",
              "\n",
              "    .colab-df-convert:hover {\n",
              "      background-color: #E2EBFA;\n",
              "      box-shadow: 0px 1px 2px rgba(60, 64, 67, 0.3), 0px 1px 3px 1px rgba(60, 64, 67, 0.15);\n",
              "      fill: #174EA6;\n",
              "    }\n",
              "\n",
              "    [theme=dark] .colab-df-convert {\n",
              "      background-color: #3B4455;\n",
              "      fill: #D2E3FC;\n",
              "    }\n",
              "\n",
              "    [theme=dark] .colab-df-convert:hover {\n",
              "      background-color: #434B5C;\n",
              "      box-shadow: 0px 1px 3px 1px rgba(0, 0, 0, 0.15);\n",
              "      filter: drop-shadow(0px 1px 2px rgba(0, 0, 0, 0.3));\n",
              "      fill: #FFFFFF;\n",
              "    }\n",
              "  </style>\n",
              "\n",
              "      <script>\n",
              "        const buttonEl =\n",
              "          document.querySelector('#df-4e58d814-e368-4933-98a0-f949765cab71 button.colab-df-convert');\n",
              "        buttonEl.style.display =\n",
              "          google.colab.kernel.accessAllowed ? 'block' : 'none';\n",
              "\n",
              "        async function convertToInteractive(key) {\n",
              "          const element = document.querySelector('#df-4e58d814-e368-4933-98a0-f949765cab71');\n",
              "          const dataTable =\n",
              "            await google.colab.kernel.invokeFunction('convertToInteractive',\n",
              "                                                     [key], {});\n",
              "          if (!dataTable) return;\n",
              "\n",
              "          const docLinkHtml = 'Like what you see? Visit the ' +\n",
              "            '<a target=\"_blank\" href=https://colab.research.google.com/notebooks/data_table.ipynb>data table notebook</a>'\n",
              "            + ' to learn more about interactive tables.';\n",
              "          element.innerHTML = '';\n",
              "          dataTable['output_type'] = 'display_data';\n",
              "          await google.colab.output.renderOutput(dataTable, element);\n",
              "          const docLink = document.createElement('div');\n",
              "          docLink.innerHTML = docLinkHtml;\n",
              "          element.appendChild(docLink);\n",
              "        }\n",
              "      </script>\n",
              "    </div>\n",
              "  </div>\n",
              "  "
            ]
          },
          "metadata": {},
          "execution_count": 11
        }
      ]
    },
    {
      "cell_type": "code",
      "source": [
        "train = df[df['Fig_Age'].between(1,75)]\n",
        "val = df[df['Fig_Age'].between(76,100)]"
      ],
      "metadata": {
        "id": "Z1zBw01Gl8Ac"
      },
      "execution_count": 12,
      "outputs": []
    },
    {
      "cell_type": "code",
      "source": [
        "DATA_PATH = \"/content/drive/My Drive/TVT_Gender\"\n",
        "os.chdir(DATA_PATH)\n",
        "train_dir = os.path.join(DATA_PATH, 'train')\n",
        "print(train_dir)\n",
        "validation_dir = os.path.join(DATA_PATH, 'validation')\n",
        "print(validation_dir)"
      ],
      "metadata": {
        "colab": {
          "base_uri": "https://localhost:8080/"
        },
        "id": "QL0g-8iOnMC4",
        "outputId": "162f0d4e-090f-419c-b75e-f9e8d5cebb8b"
      },
      "execution_count": 13,
      "outputs": [
        {
          "output_type": "stream",
          "name": "stdout",
          "text": [
            "/content/drive/My Drive/TVT_Gender/train\n",
            "/content/drive/My Drive/TVT_Gender/validation\n"
          ]
        }
      ]
    },
    {
      "cell_type": "markdown",
      "source": [
        "\n",
        "#Train"
      ],
      "metadata": {
        "id": "bWEnlTSwazL5"
      }
    },
    {
      "cell_type": "code",
      "source": [
        "# Train ด้วย ImageDataGenerator ของ Keras ซึ่งจะเพิ่มข้อมูลเสริมระหว่างการฝึกเพื่อลดโอกาสเกิด overfitting\n",
        "#overfitting เกิดจากข้อมูลที่ซับซ้อนกันเกินไป\n",
        "from tensorflow.keras.preprocessing.image import ImageDataGenerator\n",
        "\n",
        "train_datagen = ImageDataGenerator(\n",
        "      rescale=1./255, #โมเดลส่วนใหญ่ต้องใช้ RGB ในช่วง 0–1\n",
        "      rotation_range=40,\n",
        "      width_shift_range=0.2,\n",
        "      height_shift_range=0.2,\n",
        "      shear_range=0.2,\n",
        "      zoom_range=0.2,\n",
        "      horizontal_flip=True,\n",
        "      fill_mode='nearest')\n",
        "\n",
        "# Note that the validation data should not be augmented!\n",
        "test_datagen = ImageDataGenerator(rescale=1./255)"
      ],
      "metadata": {
        "id": "xGPrsn9no_pa"
      },
      "execution_count": 14,
      "outputs": []
    },
    {
      "cell_type": "code",
      "source": [
        "train_generator = train_datagen.flow_from_dataframe(\n",
        "        dataframe = train,\n",
        "        directory = train_dir,\n",
        "        x_col = 'Path_filename',\n",
        "        y_col = 'Class_Re',\n",
        "        class_mode = 'other',\n",
        "        target_size=(height, width),\n",
        "        batch_size=batch_size)\n",
        "\n",
        "validation_generator = test_datagen.flow_from_dataframe(\n",
        "        dataframe = val,\n",
        "        directory = validation_dir,\n",
        "        x_col = 'Path_filename',\n",
        "        y_col = 'Class_Re',\n",
        "        class_mode = 'other',\n",
        "        target_size=(height, width),\n",
        "        batch_size=batch_size)"
      ],
      "metadata": {
        "colab": {
          "base_uri": "https://localhost:8080/"
        },
        "id": "8nVlmAszntK_",
        "outputId": "72b3aa40-d1bd-421f-e161-5066d534d6d9"
      },
      "execution_count": 15,
      "outputs": [
        {
          "output_type": "stream",
          "name": "stdout",
          "text": [
            "Found 2850 validated image filenames.\n",
            "Found 950 validated image filenames.\n"
          ]
        }
      ]
    },
    {
      "cell_type": "code",
      "source": [
        "history = model.fit_generator(\n",
        "      train_generator,\n",
        "      steps_per_epoch= NUM_TRAIN //batch_size,\n",
        "      epochs=epochs,\n",
        "      validation_data=validation_generator,\n",
        "      validation_steps= NUM_TEST //batch_size,\n",
        "      verbose=1,\n",
        "      use_multiprocessing=True,\n",
        "      workers=4)"
      ],
      "metadata": {
        "id": "N6qUmmF856ZE",
        "outputId": "a658c96e-3a93-4199-b8f9-b460a936aaa3",
        "colab": {
          "base_uri": "https://localhost:8080/"
        }
      },
      "execution_count": 16,
      "outputs": [
        {
          "output_type": "stream",
          "name": "stderr",
          "text": [
            "<ipython-input-16-caa7b37242a8>:1: UserWarning: `Model.fit_generator` is deprecated and will be removed in a future version. Please use `Model.fit`, which supports generators.\n",
            "  history = model.fit_generator(\n"
          ]
        },
        {
          "output_type": "stream",
          "name": "stdout",
          "text": [
            "Epoch 1/250\n",
            "178/178 [==============================] - 434s 2s/step - loss: 31.9463 - mae: 4.8526 - val_loss: 31.9672 - val_mae: 4.8554\n",
            "Epoch 2/250\n",
            "178/178 [==============================] - 48s 265ms/step - loss: 31.7792 - mae: 4.8385 - val_loss: 31.9088 - val_mae: 4.8533\n",
            "Epoch 3/250\n",
            "178/178 [==============================] - 49s 266ms/step - loss: 31.7886 - mae: 4.8432 - val_loss: 31.6018 - val_mae: 4.8253\n",
            "Epoch 4/250\n",
            "178/178 [==============================] - 44s 242ms/step - loss: 31.7470 - mae: 4.8403 - val_loss: 31.6601 - val_mae: 4.8312\n",
            "Epoch 5/250\n",
            "178/178 [==============================] - 43s 239ms/step - loss: 31.6502 - mae: 4.8338 - val_loss: 31.6690 - val_mae: 4.8328\n",
            "Epoch 6/250\n",
            "178/178 [==============================] - 44s 245ms/step - loss: 31.5338 - mae: 4.8255 - val_loss: 31.6756 - val_mae: 4.8408\n",
            "Epoch 7/250\n",
            "178/178 [==============================] - 40s 224ms/step - loss: 31.5940 - mae: 4.8301 - val_loss: 31.5187 - val_mae: 4.8286\n",
            "Epoch 8/250\n",
            "178/178 [==============================] - 45s 247ms/step - loss: 31.4441 - mae: 4.8196 - val_loss: 31.3843 - val_mae: 4.8125\n",
            "Epoch 9/250\n",
            "178/178 [==============================] - 44s 245ms/step - loss: 31.4387 - mae: 4.8201 - val_loss: 31.3990 - val_mae: 4.8168\n",
            "Epoch 10/250\n",
            "178/178 [==============================] - 44s 246ms/step - loss: 31.4097 - mae: 4.8198 - val_loss: 31.3488 - val_mae: 4.8151\n",
            "Epoch 11/250\n",
            "178/178 [==============================] - 44s 243ms/step - loss: 31.2946 - mae: 4.8097 - val_loss: 31.3398 - val_mae: 4.8134\n",
            "Epoch 12/250\n",
            "178/178 [==============================] - 42s 235ms/step - loss: 31.2854 - mae: 4.8095 - val_loss: 31.1752 - val_mae: 4.7986\n",
            "Epoch 13/250\n",
            "178/178 [==============================] - 44s 245ms/step - loss: 31.2175 - mae: 4.8049 - val_loss: 31.2093 - val_mae: 4.8061\n",
            "Epoch 14/250\n",
            "178/178 [==============================] - 44s 245ms/step - loss: 31.2319 - mae: 4.8083 - val_loss: 31.1366 - val_mae: 4.7996\n",
            "Epoch 15/250\n",
            "178/178 [==============================] - 44s 242ms/step - loss: 31.2034 - mae: 4.8065 - val_loss: 31.1865 - val_mae: 4.8035\n",
            "Epoch 16/250\n",
            "178/178 [==============================] - 43s 239ms/step - loss: 31.0937 - mae: 4.7952 - val_loss: 31.1145 - val_mae: 4.7973\n",
            "Epoch 17/250\n",
            "178/178 [==============================] - 43s 239ms/step - loss: 31.0401 - mae: 4.7923 - val_loss: 30.9763 - val_mae: 4.7877\n",
            "Epoch 18/250\n",
            "178/178 [==============================] - 44s 244ms/step - loss: 30.9699 - mae: 4.7866 - val_loss: 31.0554 - val_mae: 4.7943\n",
            "Epoch 19/250\n",
            "178/178 [==============================] - 44s 246ms/step - loss: 30.9310 - mae: 4.7841 - val_loss: 30.9980 - val_mae: 4.7964\n",
            "Epoch 20/250\n",
            "178/178 [==============================] - 44s 246ms/step - loss: 30.8750 - mae: 4.7823 - val_loss: 30.7538 - val_mae: 4.7733\n",
            "Epoch 21/250\n",
            "178/178 [==============================] - 44s 244ms/step - loss: 30.8710 - mae: 4.7849 - val_loss: 30.8574 - val_mae: 4.7847\n",
            "Epoch 22/250\n",
            "178/178 [==============================] - 44s 241ms/step - loss: 30.7797 - mae: 4.7784 - val_loss: 30.8171 - val_mae: 4.7824\n",
            "Epoch 23/250\n",
            "178/178 [==============================] - 42s 235ms/step - loss: 30.8547 - mae: 4.7862 - val_loss: 30.8431 - val_mae: 4.7849\n",
            "Epoch 24/250\n",
            "178/178 [==============================] - 43s 241ms/step - loss: 30.7780 - mae: 4.7831 - val_loss: 30.7434 - val_mae: 4.7818\n",
            "Epoch 25/250\n",
            "178/178 [==============================] - 44s 247ms/step - loss: 30.7847 - mae: 4.7858 - val_loss: 30.7332 - val_mae: 4.7816\n",
            "Epoch 26/250\n",
            "178/178 [==============================] - 40s 222ms/step - loss: 30.7618 - mae: 4.7858 - val_loss: 30.7377 - val_mae: 4.7833\n",
            "Epoch 27/250\n",
            "178/178 [==============================] - 45s 247ms/step - loss: 30.6552 - mae: 4.7764 - val_loss: 30.6269 - val_mae: 4.7721\n",
            "Epoch 28/250\n",
            "178/178 [==============================] - 44s 245ms/step - loss: 30.6569 - mae: 4.7771 - val_loss: 30.6778 - val_mae: 4.7833\n",
            "Epoch 29/250\n",
            "178/178 [==============================] - 45s 247ms/step - loss: 30.6231 - mae: 4.7772 - val_loss: 30.5837 - val_mae: 4.7743\n",
            "Epoch 30/250\n",
            "178/178 [==============================] - 45s 247ms/step - loss: 30.6634 - mae: 4.7845 - val_loss: 30.6222 - val_mae: 4.7829\n",
            "Epoch 31/250\n",
            "178/178 [==============================] - 44s 241ms/step - loss: 30.6010 - mae: 4.7776 - val_loss: 30.5652 - val_mae: 4.7757\n",
            "Epoch 32/250\n",
            "178/178 [==============================] - 43s 236ms/step - loss: 30.4700 - mae: 4.7691 - val_loss: 30.5686 - val_mae: 4.7738\n",
            "Epoch 33/250\n",
            "178/178 [==============================] - 44s 242ms/step - loss: 30.5705 - mae: 4.7769 - val_loss: 30.4983 - val_mae: 4.7739\n",
            "Epoch 34/250\n",
            "178/178 [==============================] - 44s 244ms/step - loss: 30.4949 - mae: 4.7735 - val_loss: 30.6161 - val_mae: 4.7857\n",
            "Epoch 35/250\n",
            "178/178 [==============================] - 44s 245ms/step - loss: 30.4481 - mae: 4.7691 - val_loss: 30.4236 - val_mae: 4.7682\n",
            "Epoch 36/250\n",
            "178/178 [==============================] - 44s 238ms/step - loss: 30.4283 - mae: 4.7672 - val_loss: 30.5708 - val_mae: 4.7836\n",
            "Epoch 37/250\n",
            "178/178 [==============================] - 43s 233ms/step - loss: 30.4458 - mae: 4.7723 - val_loss: 30.3342 - val_mae: 4.7613\n",
            "Epoch 38/250\n",
            "178/178 [==============================] - 42s 236ms/step - loss: 30.3828 - mae: 4.7678 - val_loss: 30.3990 - val_mae: 4.7694\n",
            "Epoch 39/250\n",
            "178/178 [==============================] - 44s 243ms/step - loss: 30.3800 - mae: 4.7678 - val_loss: 30.4202 - val_mae: 4.7710\n",
            "Epoch 40/250\n",
            "178/178 [==============================] - 44s 244ms/step - loss: 30.3599 - mae: 4.7686 - val_loss: 30.4245 - val_mae: 4.7755\n",
            "Epoch 41/250\n",
            "178/178 [==============================] - 44s 244ms/step - loss: 30.3422 - mae: 4.7662 - val_loss: 30.4831 - val_mae: 4.7836\n",
            "Epoch 42/250\n",
            "178/178 [==============================] - 44s 245ms/step - loss: 30.3015 - mae: 4.7641 - val_loss: 30.4105 - val_mae: 4.7739\n",
            "Epoch 43/250\n",
            "178/178 [==============================] - 44s 242ms/step - loss: 30.3185 - mae: 4.7656 - val_loss: 30.2343 - val_mae: 4.7591\n",
            "Epoch 44/250\n",
            "178/178 [==============================] - 44s 243ms/step - loss: 30.3026 - mae: 4.7650 - val_loss: 30.2667 - val_mae: 4.7637\n",
            "Epoch 45/250\n",
            "178/178 [==============================] - 43s 237ms/step - loss: 30.3171 - mae: 4.7667 - val_loss: 30.3676 - val_mae: 4.7746\n",
            "Epoch 46/250\n",
            "178/178 [==============================] - 42s 231ms/step - loss: 30.2846 - mae: 4.7643 - val_loss: 30.3549 - val_mae: 4.7689\n",
            "Epoch 47/250\n",
            "178/178 [==============================] - 42s 234ms/step - loss: 30.3064 - mae: 4.7665 - val_loss: 30.3056 - val_mae: 4.7648\n",
            "Epoch 48/250\n",
            "178/178 [==============================] - 44s 243ms/step - loss: 30.2494 - mae: 4.7613 - val_loss: 30.3602 - val_mae: 4.7717\n",
            "Epoch 49/250\n",
            "178/178 [==============================] - 44s 245ms/step - loss: 30.1847 - mae: 4.7564 - val_loss: 30.2000 - val_mae: 4.7573\n",
            "Epoch 50/250\n",
            "178/178 [==============================] - 43s 234ms/step - loss: 30.2292 - mae: 4.7618 - val_loss: 30.2818 - val_mae: 4.7631\n",
            "Epoch 51/250\n",
            "178/178 [==============================] - 43s 236ms/step - loss: 30.2702 - mae: 4.7651 - val_loss: 30.3172 - val_mae: 4.7678\n",
            "Epoch 52/250\n",
            "178/178 [==============================] - 43s 239ms/step - loss: 30.1957 - mae: 4.7582 - val_loss: 30.1841 - val_mae: 4.7576\n",
            "Epoch 53/250\n",
            "178/178 [==============================] - 44s 245ms/step - loss: 30.2423 - mae: 4.7650 - val_loss: 30.2871 - val_mae: 4.7657\n",
            "Epoch 54/250\n",
            "178/178 [==============================] - 45s 251ms/step - loss: 30.1431 - mae: 4.7547 - val_loss: 30.1805 - val_mae: 4.7575\n",
            "Epoch 55/250\n",
            "178/178 [==============================] - 44s 246ms/step - loss: 30.1153 - mae: 4.7517 - val_loss: 30.2535 - val_mae: 4.7666\n",
            "Epoch 56/250\n",
            "178/178 [==============================] - 44s 238ms/step - loss: 30.2324 - mae: 4.7650 - val_loss: 30.2709 - val_mae: 4.7668\n",
            "Epoch 57/250\n",
            "178/178 [==============================] - 42s 232ms/step - loss: 30.1981 - mae: 4.7600 - val_loss: 30.0777 - val_mae: 4.7482\n",
            "Epoch 58/250\n",
            "178/178 [==============================] - 42s 232ms/step - loss: 30.1485 - mae: 4.7562 - val_loss: 30.2265 - val_mae: 4.7650\n",
            "Epoch 59/250\n",
            "178/178 [==============================] - 44s 246ms/step - loss: 30.1442 - mae: 4.7563 - val_loss: 30.0674 - val_mae: 4.7476\n",
            "Epoch 60/250\n",
            "178/178 [==============================] - 44s 246ms/step - loss: 30.1472 - mae: 4.7575 - val_loss: 30.1573 - val_mae: 4.7622\n",
            "Epoch 61/250\n",
            "178/178 [==============================] - 44s 246ms/step - loss: 30.0917 - mae: 4.7510 - val_loss: 29.9824 - val_mae: 4.7424\n",
            "Epoch 62/250\n",
            "178/178 [==============================] - 43s 237ms/step - loss: 30.1572 - mae: 4.7571 - val_loss: 29.9734 - val_mae: 4.7441\n",
            "Epoch 63/250\n",
            "178/178 [==============================] - 42s 233ms/step - loss: 30.1613 - mae: 4.7581 - val_loss: 30.1507 - val_mae: 4.7585\n",
            "Epoch 64/250\n",
            "178/178 [==============================] - 45s 250ms/step - loss: 30.1749 - mae: 4.7623 - val_loss: 30.1863 - val_mae: 4.7617\n",
            "Epoch 65/250\n",
            "178/178 [==============================] - 45s 252ms/step - loss: 30.0940 - mae: 4.7525 - val_loss: 30.1308 - val_mae: 4.7568\n",
            "Epoch 66/250\n",
            "178/178 [==============================] - 44s 244ms/step - loss: 30.1550 - mae: 4.7597 - val_loss: 30.1279 - val_mae: 4.7547\n",
            "Epoch 67/250\n",
            "178/178 [==============================] - 39s 210ms/step - loss: 30.0713 - mae: 4.7501 - val_loss: 30.1118 - val_mae: 4.7557\n",
            "Epoch 68/250\n",
            "178/178 [==============================] - 44s 244ms/step - loss: 30.1016 - mae: 4.7528 - val_loss: 30.1888 - val_mae: 4.7596\n",
            "Epoch 69/250\n",
            "178/178 [==============================] - 44s 246ms/step - loss: 30.0794 - mae: 4.7512 - val_loss: 30.1132 - val_mae: 4.7555\n",
            "Epoch 70/250\n",
            "178/178 [==============================] - 44s 239ms/step - loss: 30.1446 - mae: 4.7587 - val_loss: 29.9735 - val_mae: 4.7443\n",
            "Epoch 71/250\n",
            "178/178 [==============================] - 42s 233ms/step - loss: 30.0942 - mae: 4.7532 - val_loss: 30.0603 - val_mae: 4.7494\n",
            "Epoch 72/250\n",
            "178/178 [==============================] - 43s 238ms/step - loss: 30.0690 - mae: 4.7511 - val_loss: 30.0123 - val_mae: 4.7456\n",
            "Epoch 73/250\n",
            "178/178 [==============================] - 44s 243ms/step - loss: 30.0275 - mae: 4.7459 - val_loss: 30.1316 - val_mae: 4.7528\n",
            "Epoch 74/250\n",
            "178/178 [==============================] - 44s 245ms/step - loss: 30.0467 - mae: 4.7490 - val_loss: 29.9814 - val_mae: 4.7429\n",
            "Epoch 75/250\n",
            "178/178 [==============================] - 45s 247ms/step - loss: 30.1084 - mae: 4.7569 - val_loss: 30.0965 - val_mae: 4.7520\n",
            "Epoch 76/250\n",
            "178/178 [==============================] - 45s 248ms/step - loss: 30.0882 - mae: 4.7525 - val_loss: 30.0599 - val_mae: 4.7490\n",
            "Epoch 77/250\n",
            "178/178 [==============================] - 45s 249ms/step - loss: 30.0618 - mae: 4.7492 - val_loss: 30.0886 - val_mae: 4.7529\n",
            "Epoch 78/250\n",
            "178/178 [==============================] - 46s 251ms/step - loss: 30.0476 - mae: 4.7473 - val_loss: 30.1436 - val_mae: 4.7558\n",
            "Epoch 79/250\n",
            "178/178 [==============================] - 44s 238ms/step - loss: 30.0608 - mae: 4.7493 - val_loss: 30.1428 - val_mae: 4.7549\n",
            "Epoch 80/250\n",
            "178/178 [==============================] - 41s 230ms/step - loss: 30.0054 - mae: 4.7459 - val_loss: 29.9467 - val_mae: 4.7394\n",
            "Epoch 81/250\n",
            "178/178 [==============================] - 45s 248ms/step - loss: 30.1163 - mae: 4.7552 - val_loss: 30.0134 - val_mae: 4.7438\n",
            "Epoch 82/250\n",
            "178/178 [==============================] - 45s 247ms/step - loss: 30.0415 - mae: 4.7491 - val_loss: 30.0428 - val_mae: 4.7472\n",
            "Epoch 83/250\n",
            "178/178 [==============================] - 45s 248ms/step - loss: 30.0422 - mae: 4.7467 - val_loss: 30.2055 - val_mae: 4.7692\n",
            "Epoch 84/250\n",
            "178/178 [==============================] - 45s 248ms/step - loss: 30.0631 - mae: 4.7489 - val_loss: 30.0726 - val_mae: 4.7512\n",
            "Epoch 85/250\n",
            "178/178 [==============================] - 44s 238ms/step - loss: 30.0070 - mae: 4.7446 - val_loss: 30.0977 - val_mae: 4.7567\n",
            "Epoch 86/250\n",
            "178/178 [==============================] - 43s 238ms/step - loss: 30.0269 - mae: 4.7469 - val_loss: 29.9348 - val_mae: 4.7364\n",
            "Epoch 87/250\n",
            "178/178 [==============================] - 43s 239ms/step - loss: 30.0308 - mae: 4.7477 - val_loss: 30.1009 - val_mae: 4.7514\n",
            "Epoch 88/250\n",
            "178/178 [==============================] - 44s 245ms/step - loss: 30.0942 - mae: 4.7528 - val_loss: 30.0295 - val_mae: 4.7433\n",
            "Epoch 89/250\n",
            "178/178 [==============================] - 45s 247ms/step - loss: 30.0239 - mae: 4.7446 - val_loss: 30.0170 - val_mae: 4.7464\n",
            "Epoch 90/250\n",
            "178/178 [==============================] - 45s 251ms/step - loss: 30.0145 - mae: 4.7442 - val_loss: 30.0149 - val_mae: 4.7438\n",
            "Epoch 91/250\n",
            "178/178 [==============================] - 46s 256ms/step - loss: 30.0266 - mae: 4.7465 - val_loss: 30.1323 - val_mae: 4.7563\n",
            "Epoch 92/250\n",
            "178/178 [==============================] - 44s 240ms/step - loss: 29.9998 - mae: 4.7430 - val_loss: 30.0287 - val_mae: 4.7469\n",
            "Epoch 93/250\n",
            "178/178 [==============================] - 44s 245ms/step - loss: 30.0554 - mae: 4.7494 - val_loss: 30.0373 - val_mae: 4.7477\n",
            "Epoch 94/250\n",
            "178/178 [==============================] - 46s 253ms/step - loss: 30.0234 - mae: 4.7454 - val_loss: 30.0273 - val_mae: 4.7418\n",
            "Epoch 95/250\n",
            "178/178 [==============================] - 46s 254ms/step - loss: 30.0199 - mae: 4.7469 - val_loss: 29.9584 - val_mae: 4.7366\n",
            "Epoch 96/250\n",
            "178/178 [==============================] - 45s 248ms/step - loss: 30.0259 - mae: 4.7460 - val_loss: 30.0842 - val_mae: 4.7492\n",
            "Epoch 97/250\n",
            "178/178 [==============================] - 44s 242ms/step - loss: 29.9717 - mae: 4.7406 - val_loss: 30.0505 - val_mae: 4.7451\n",
            "Epoch 98/250\n",
            "178/178 [==============================] - 43s 237ms/step - loss: 30.0141 - mae: 4.7429 - val_loss: 29.9473 - val_mae: 4.7392\n",
            "Epoch 99/250\n",
            "178/178 [==============================] - 44s 243ms/step - loss: 30.0740 - mae: 4.7489 - val_loss: 29.8874 - val_mae: 4.7331\n",
            "Epoch 100/250\n",
            "178/178 [==============================] - 39s 218ms/step - loss: 30.0661 - mae: 4.7495 - val_loss: 29.9201 - val_mae: 4.7327\n",
            "Epoch 101/250\n",
            "178/178 [==============================] - 43s 236ms/step - loss: 30.0588 - mae: 4.7471 - val_loss: 30.0691 - val_mae: 4.7474\n",
            "Epoch 102/250\n",
            "178/178 [==============================] - 44s 245ms/step - loss: 30.0639 - mae: 4.7497 - val_loss: 29.9160 - val_mae: 4.7336\n",
            "Epoch 103/250\n",
            "178/178 [==============================] - 45s 249ms/step - loss: 30.0377 - mae: 4.7456 - val_loss: 29.9814 - val_mae: 4.7404\n",
            "Epoch 104/250\n",
            "178/178 [==============================] - 45s 247ms/step - loss: 30.0225 - mae: 4.7443 - val_loss: 30.0598 - val_mae: 4.7470\n",
            "Epoch 105/250\n",
            "178/178 [==============================] - 44s 244ms/step - loss: 30.0653 - mae: 4.7483 - val_loss: 30.0332 - val_mae: 4.7453\n",
            "Epoch 106/250\n",
            "178/178 [==============================] - 41s 224ms/step - loss: 30.0346 - mae: 4.7450 - val_loss: 30.0610 - val_mae: 4.7489\n",
            "Epoch 107/250\n",
            "178/178 [==============================] - 43s 235ms/step - loss: 30.0808 - mae: 4.7486 - val_loss: 29.9517 - val_mae: 4.7389\n",
            "Epoch 108/250\n",
            "178/178 [==============================] - 44s 244ms/step - loss: 29.9852 - mae: 4.7404 - val_loss: 30.1141 - val_mae: 4.7540\n",
            "Epoch 109/250\n",
            "178/178 [==============================] - 45s 249ms/step - loss: 30.0363 - mae: 4.7434 - val_loss: 29.9911 - val_mae: 4.7420\n",
            "Epoch 110/250\n",
            "178/178 [==============================] - 45s 248ms/step - loss: 30.0344 - mae: 4.7447 - val_loss: 29.9072 - val_mae: 4.7336\n",
            "Epoch 111/250\n",
            "178/178 [==============================] - 45s 246ms/step - loss: 29.9327 - mae: 4.7346 - val_loss: 30.0637 - val_mae: 4.7436\n",
            "Epoch 112/250\n",
            "178/178 [==============================] - 44s 238ms/step - loss: 29.9919 - mae: 4.7407 - val_loss: 30.0267 - val_mae: 4.7432\n",
            "Epoch 113/250\n",
            "178/178 [==============================] - 43s 240ms/step - loss: 30.0213 - mae: 4.7446 - val_loss: 29.9718 - val_mae: 4.7386\n",
            "Epoch 114/250\n",
            "178/178 [==============================] - 45s 248ms/step - loss: 30.0138 - mae: 4.7429 - val_loss: 30.0205 - val_mae: 4.7409\n",
            "Epoch 115/250\n",
            "178/178 [==============================] - 45s 251ms/step - loss: 30.0152 - mae: 4.7430 - val_loss: 30.0433 - val_mae: 4.7452\n",
            "Epoch 116/250\n",
            "178/178 [==============================] - 47s 258ms/step - loss: 30.0543 - mae: 4.7453 - val_loss: 30.0810 - val_mae: 4.7461\n",
            "Epoch 117/250\n",
            "178/178 [==============================] - 44s 240ms/step - loss: 30.0124 - mae: 4.7398 - val_loss: 29.9730 - val_mae: 4.7420\n",
            "Epoch 118/250\n",
            "178/178 [==============================] - 39s 211ms/step - loss: 29.9767 - mae: 4.7384 - val_loss: 29.9988 - val_mae: 4.7422\n",
            "Epoch 119/250\n",
            "178/178 [==============================] - 45s 249ms/step - loss: 30.0510 - mae: 4.7459 - val_loss: 30.0389 - val_mae: 4.7461\n",
            "Epoch 120/250\n",
            "178/178 [==============================] - 44s 241ms/step - loss: 29.9956 - mae: 4.7398 - val_loss: 29.8293 - val_mae: 4.7266\n",
            "Epoch 121/250\n",
            "178/178 [==============================] - 46s 256ms/step - loss: 30.0633 - mae: 4.7454 - val_loss: 30.0816 - val_mae: 4.7482\n",
            "Epoch 122/250\n",
            "178/178 [==============================] - 45s 248ms/step - loss: 30.0233 - mae: 4.7430 - val_loss: 29.9214 - val_mae: 4.7350\n",
            "Epoch 123/250\n",
            "178/178 [==============================] - 45s 247ms/step - loss: 30.0041 - mae: 4.7394 - val_loss: 29.9776 - val_mae: 4.7372\n",
            "Epoch 124/250\n",
            "178/178 [==============================] - 46s 257ms/step - loss: 30.0602 - mae: 4.7483 - val_loss: 30.0226 - val_mae: 4.7416\n",
            "Epoch 125/250\n",
            "178/178 [==============================] - 45s 251ms/step - loss: 30.0232 - mae: 4.7420 - val_loss: 30.0411 - val_mae: 4.7423\n",
            "Epoch 126/250\n",
            "178/178 [==============================] - 43s 236ms/step - loss: 29.9563 - mae: 4.7371 - val_loss: 30.1117 - val_mae: 4.7517\n",
            "Epoch 127/250\n",
            "178/178 [==============================] - 44s 241ms/step - loss: 29.9611 - mae: 4.7370 - val_loss: 30.0863 - val_mae: 4.7514\n",
            "Epoch 128/250\n",
            "178/178 [==============================] - 45s 250ms/step - loss: 30.0000 - mae: 4.7394 - val_loss: 30.0530 - val_mae: 4.7442\n",
            "Epoch 129/250\n",
            "178/178 [==============================] - 46s 257ms/step - loss: 29.9729 - mae: 4.7366 - val_loss: 30.0537 - val_mae: 4.7462\n",
            "Epoch 130/250\n",
            "178/178 [==============================] - 44s 240ms/step - loss: 29.9718 - mae: 4.7360 - val_loss: 30.1128 - val_mae: 4.7503\n",
            "Epoch 131/250\n",
            "178/178 [==============================] - 45s 249ms/step - loss: 30.0644 - mae: 4.7481 - val_loss: 30.0343 - val_mae: 4.7419\n",
            "Epoch 132/250\n",
            "178/178 [==============================] - 45s 252ms/step - loss: 30.0091 - mae: 4.7388 - val_loss: 29.9395 - val_mae: 4.7352\n",
            "Epoch 133/250\n",
            "178/178 [==============================] - 45s 250ms/step - loss: 30.0308 - mae: 4.7439 - val_loss: 30.0188 - val_mae: 4.7395\n",
            "Epoch 134/250\n",
            "178/178 [==============================] - 45s 249ms/step - loss: 29.9579 - mae: 4.7350 - val_loss: 29.8426 - val_mae: 4.7234\n",
            "Epoch 135/250\n",
            "178/178 [==============================] - 47s 262ms/step - loss: 30.0641 - mae: 4.7468 - val_loss: 29.9308 - val_mae: 4.7338\n",
            "Epoch 136/250\n",
            "178/178 [==============================] - 44s 238ms/step - loss: 30.0002 - mae: 4.7402 - val_loss: 29.8996 - val_mae: 4.7338\n",
            "Epoch 137/250\n",
            "178/178 [==============================] - 44s 241ms/step - loss: 30.0172 - mae: 4.7407 - val_loss: 29.9085 - val_mae: 4.7318\n",
            "Epoch 138/250\n",
            "178/178 [==============================] - 45s 250ms/step - loss: 30.0267 - mae: 4.7419 - val_loss: 29.9003 - val_mae: 4.7328\n",
            "Epoch 139/250\n",
            "178/178 [==============================] - 45s 248ms/step - loss: 29.9645 - mae: 4.7348 - val_loss: 29.9356 - val_mae: 4.7307\n",
            "Epoch 140/250\n",
            "178/178 [==============================] - 45s 249ms/step - loss: 30.0089 - mae: 4.7375 - val_loss: 29.8956 - val_mae: 4.7282\n",
            "Epoch 141/250\n",
            "178/178 [==============================] - 44s 242ms/step - loss: 30.0161 - mae: 4.7392 - val_loss: 30.0162 - val_mae: 4.7472\n",
            "Epoch 142/250\n",
            "178/178 [==============================] - 43s 236ms/step - loss: 29.9632 - mae: 4.7363 - val_loss: 30.0191 - val_mae: 4.7410\n",
            "Epoch 143/250\n",
            "178/178 [==============================] - 41s 226ms/step - loss: 30.0189 - mae: 4.7405 - val_loss: 30.0927 - val_mae: 4.7451\n",
            "Epoch 144/250\n",
            "178/178 [==============================] - 45s 248ms/step - loss: 30.0158 - mae: 4.7408 - val_loss: 29.9698 - val_mae: 4.7346\n",
            "Epoch 145/250\n",
            "178/178 [==============================] - 44s 247ms/step - loss: 30.0093 - mae: 4.7390 - val_loss: 30.0604 - val_mae: 4.7471\n",
            "Epoch 146/250\n",
            "178/178 [==============================] - 44s 244ms/step - loss: 29.9430 - mae: 4.7332 - val_loss: 29.9932 - val_mae: 4.7396\n",
            "Epoch 147/250\n",
            "178/178 [==============================] - 44s 243ms/step - loss: 29.9403 - mae: 4.7341 - val_loss: 30.0093 - val_mae: 4.7429\n",
            "Epoch 148/250\n",
            "178/178 [==============================] - 42s 233ms/step - loss: 30.0102 - mae: 4.7419 - val_loss: 29.9861 - val_mae: 4.7374\n",
            "Epoch 149/250\n",
            "178/178 [==============================] - 44s 246ms/step - loss: 30.0242 - mae: 4.7414 - val_loss: 30.0519 - val_mae: 4.7467\n",
            "Epoch 150/250\n",
            "178/178 [==============================] - 46s 254ms/step - loss: 30.0051 - mae: 4.7381 - val_loss: 29.9885 - val_mae: 4.7362\n",
            "Epoch 151/250\n",
            "178/178 [==============================] - 45s 251ms/step - loss: 29.9683 - mae: 4.7353 - val_loss: 30.1422 - val_mae: 4.7530\n",
            "Epoch 152/250\n",
            "178/178 [==============================] - 44s 241ms/step - loss: 30.0027 - mae: 4.7394 - val_loss: 30.0794 - val_mae: 4.7458\n",
            "Epoch 153/250\n",
            "178/178 [==============================] - 43s 239ms/step - loss: 30.0076 - mae: 4.7402 - val_loss: 29.9473 - val_mae: 4.7338\n",
            "Epoch 154/250\n",
            "178/178 [==============================] - 45s 249ms/step - loss: 29.9852 - mae: 4.7383 - val_loss: 30.0528 - val_mae: 4.7447\n",
            "Epoch 155/250\n",
            "178/178 [==============================] - 45s 248ms/step - loss: 30.0639 - mae: 4.7467 - val_loss: 29.9248 - val_mae: 4.7349\n",
            "Epoch 156/250\n",
            "178/178 [==============================] - 45s 252ms/step - loss: 29.9776 - mae: 4.7369 - val_loss: 29.8923 - val_mae: 4.7274\n",
            "178/178 [==============================] - ETA: 0s - loss: 29.9776 - mae: 4.7369Epoch 157/250\n",
            "178/178 [==============================] - 45s 247ms/step - loss: 30.0492 - mae: 4.7433 - val_loss: 30.0569 - val_mae: 4.7464\n",
            "Epoch 158/250\n",
            "178/178 [==============================] - 44s 239ms/step - loss: 30.0201 - mae: 4.7403 - val_loss: 29.8679 - val_mae: 4.7241\n",
            "Epoch 159/250\n",
            "178/178 [==============================] - 43s 237ms/step - loss: 29.9257 - mae: 4.7310 - val_loss: 30.0062 - val_mae: 4.7401\n",
            "Epoch 160/250\n",
            "178/178 [==============================] - 44s 244ms/step - loss: 30.0399 - mae: 4.7407 - val_loss: 29.9495 - val_mae: 4.7337\n",
            "Epoch 161/250\n",
            "178/178 [==============================] - 46s 253ms/step - loss: 30.0456 - mae: 4.7426 - val_loss: 30.0697 - val_mae: 4.7453\n",
            "Epoch 162/250\n",
            "178/178 [==============================] - 45s 251ms/step - loss: 30.0495 - mae: 4.7422 - val_loss: 29.9967 - val_mae: 4.7378\n",
            "Epoch 163/250\n",
            "178/178 [==============================] - 45s 248ms/step - loss: 29.9479 - mae: 4.7337 - val_loss: 30.0794 - val_mae: 4.7464\n",
            "Epoch 164/250\n",
            "178/178 [==============================] - 45s 250ms/step - loss: 30.0230 - mae: 4.7408 - val_loss: 30.0532 - val_mae: 4.7441\n",
            "Epoch 165/250\n",
            "178/178 [==============================] - 45s 251ms/step - loss: 30.0613 - mae: 4.7459 - val_loss: 29.9426 - val_mae: 4.7334\n",
            "Epoch 166/250\n",
            "178/178 [==============================] - 44s 239ms/step - loss: 30.0575 - mae: 4.7429 - val_loss: 29.9490 - val_mae: 4.7355\n",
            "Epoch 167/250\n",
            "178/178 [==============================] - 43s 238ms/step - loss: 30.0481 - mae: 4.7440 - val_loss: 29.9992 - val_mae: 4.7345\n",
            "Epoch 168/250\n",
            "178/178 [==============================] - 46s 252ms/step - loss: 30.0320 - mae: 4.7420 - val_loss: 30.0759 - val_mae: 4.7460\n",
            "Epoch 169/250\n",
            "178/178 [==============================] - 45s 250ms/step - loss: 30.0208 - mae: 4.7392 - val_loss: 29.9941 - val_mae: 4.7355\n",
            "Epoch 170/250\n",
            "178/178 [==============================] - 41s 225ms/step - loss: 30.0508 - mae: 4.7434 - val_loss: 29.9564 - val_mae: 4.7334\n",
            "Epoch 171/250\n",
            "178/178 [==============================] - 46s 250ms/step - loss: 30.0507 - mae: 4.7433 - val_loss: 29.9746 - val_mae: 4.7375\n",
            "Epoch 172/250\n",
            "178/178 [==============================] - 48s 264ms/step - loss: 30.0241 - mae: 4.7408 - val_loss: 30.1154 - val_mae: 4.7512\n",
            "Epoch 173/250\n",
            "178/178 [==============================] - 45s 253ms/step - loss: 30.0422 - mae: 4.7419 - val_loss: 30.0637 - val_mae: 4.7438\n",
            "Epoch 174/250\n",
            "178/178 [==============================] - 45s 249ms/step - loss: 29.9890 - mae: 4.7372 - val_loss: 30.0209 - val_mae: 4.7396\n",
            "Epoch 175/250\n",
            "178/178 [==============================] - 44s 242ms/step - loss: 29.9575 - mae: 4.7348 - val_loss: 29.9333 - val_mae: 4.7310\n",
            "Epoch 176/250\n",
            "178/178 [==============================] - 45s 248ms/step - loss: 30.0150 - mae: 4.7386 - val_loss: 30.0888 - val_mae: 4.7510\n",
            "Epoch 177/250\n",
            "178/178 [==============================] - 46s 254ms/step - loss: 29.9813 - mae: 4.7357 - val_loss: 29.9366 - val_mae: 4.7289\n",
            "Epoch 178/250\n",
            "178/178 [==============================] - 47s 261ms/step - loss: 30.0294 - mae: 4.7399 - val_loss: 29.9624 - val_mae: 4.7330\n",
            "Epoch 179/250\n",
            "178/178 [==============================] - 45s 251ms/step - loss: 30.0461 - mae: 4.7431 - val_loss: 30.0556 - val_mae: 4.7447\n",
            "Epoch 180/250\n",
            "178/178 [==============================] - 45s 250ms/step - loss: 30.0429 - mae: 4.7399 - val_loss: 30.1319 - val_mae: 4.7510\n",
            "Epoch 181/250\n",
            "178/178 [==============================] - 44s 242ms/step - loss: 30.0183 - mae: 4.7389 - val_loss: 30.1080 - val_mae: 4.7500\n",
            "Epoch 182/250\n",
            "178/178 [==============================] - 43s 240ms/step - loss: 30.0533 - mae: 4.7441 - val_loss: 29.9414 - val_mae: 4.7309\n",
            "Epoch 183/250\n",
            "178/178 [==============================] - 46s 257ms/step - loss: 30.0252 - mae: 4.7407 - val_loss: 30.1589 - val_mae: 4.7573\n",
            "Epoch 184/250\n",
            "178/178 [==============================] - 46s 252ms/step - loss: 29.9614 - mae: 4.7360 - val_loss: 30.0418 - val_mae: 4.7425\n",
            "Epoch 185/250\n",
            "178/178 [==============================] - 45s 252ms/step - loss: 29.9650 - mae: 4.7349 - val_loss: 30.0505 - val_mae: 4.7435\n",
            "Epoch 186/250\n",
            "178/178 [==============================] - 46s 253ms/step - loss: 29.9730 - mae: 4.7381 - val_loss: 29.9760 - val_mae: 4.7330\n",
            "Epoch 187/250\n",
            "178/178 [==============================] - 45s 251ms/step - loss: 30.0178 - mae: 4.7398 - val_loss: 29.9847 - val_mae: 4.7371\n",
            "Epoch 188/250\n",
            "178/178 [==============================] - 45s 247ms/step - loss: 29.9619 - mae: 4.7341 - val_loss: 29.9738 - val_mae: 4.7371\n",
            "Epoch 189/250\n",
            "178/178 [==============================] - 44s 241ms/step - loss: 29.9557 - mae: 4.7324 - val_loss: 29.9582 - val_mae: 4.7340\n",
            "Epoch 190/250\n",
            "178/178 [==============================] - 46s 254ms/step - loss: 29.9856 - mae: 4.7357 - val_loss: 29.8905 - val_mae: 4.7276\n",
            "Epoch 191/250\n",
            "178/178 [==============================] - 46s 256ms/step - loss: 30.0367 - mae: 4.7404 - val_loss: 29.9637 - val_mae: 4.7351\n",
            "Epoch 192/250\n",
            "178/178 [==============================] - 46s 257ms/step - loss: 30.0393 - mae: 4.7426 - val_loss: 30.1246 - val_mae: 4.7499\n",
            "Epoch 193/250\n",
            "178/178 [==============================] - 45s 251ms/step - loss: 30.0009 - mae: 4.7370 - val_loss: 30.0009 - val_mae: 4.7392\n",
            "Epoch 194/250\n",
            "178/178 [==============================] - 45s 245ms/step - loss: 30.0146 - mae: 4.7390 - val_loss: 30.0189 - val_mae: 4.7392\n",
            "Epoch 195/250\n",
            "178/178 [==============================] - 44s 245ms/step - loss: 30.0242 - mae: 4.7401 - val_loss: 29.8546 - val_mae: 4.7243\n",
            "Epoch 196/250\n",
            "178/178 [==============================] - 46s 252ms/step - loss: 29.9885 - mae: 4.7358 - val_loss: 30.0949 - val_mae: 4.7476\n",
            "Epoch 197/250\n",
            "178/178 [==============================] - 46s 256ms/step - loss: 30.0257 - mae: 4.7404 - val_loss: 30.0872 - val_mae: 4.7465\n",
            "Epoch 198/250\n",
            "178/178 [==============================] - 46s 254ms/step - loss: 30.0272 - mae: 4.7396 - val_loss: 29.9920 - val_mae: 4.7380\n",
            "Epoch 199/250\n",
            "178/178 [==============================] - 46s 253ms/step - loss: 30.0148 - mae: 4.7378 - val_loss: 29.9833 - val_mae: 4.7358\n",
            "Epoch 200/250\n",
            "178/178 [==============================] - 45s 246ms/step - loss: 29.9940 - mae: 4.7361 - val_loss: 29.8112 - val_mae: 4.7200\n",
            "Epoch 201/250\n",
            "178/178 [==============================] - 45s 250ms/step - loss: 29.9791 - mae: 4.7353 - val_loss: 29.8802 - val_mae: 4.7241\n",
            "Epoch 202/250\n",
            "178/178 [==============================] - 45s 251ms/step - loss: 29.9560 - mae: 4.7325 - val_loss: 29.9537 - val_mae: 4.7337\n",
            "Epoch 203/250\n",
            "178/178 [==============================] - 45s 251ms/step - loss: 30.0095 - mae: 4.7395 - val_loss: 29.8808 - val_mae: 4.7272\n",
            "Epoch 204/250\n",
            "178/178 [==============================] - 47s 263ms/step - loss: 30.0340 - mae: 4.7429 - val_loss: 29.9633 - val_mae: 4.7304\n",
            "Epoch 205/250\n",
            "178/178 [==============================] - 45s 252ms/step - loss: 30.0391 - mae: 4.7422 - val_loss: 30.0829 - val_mae: 4.7463\n",
            "Epoch 206/250\n",
            "178/178 [==============================] - 45s 250ms/step - loss: 30.0678 - mae: 4.7426 - val_loss: 29.9599 - val_mae: 4.7336\n",
            "Epoch 207/250\n",
            "178/178 [==============================] - 44s 243ms/step - loss: 29.9936 - mae: 4.7355 - val_loss: 29.9988 - val_mae: 4.7410\n",
            "Epoch 208/250\n",
            "178/178 [==============================] - 46s 253ms/step - loss: 29.9537 - mae: 4.7337 - val_loss: 29.9433 - val_mae: 4.7324\n",
            "Epoch 209/250\n",
            "178/178 [==============================] - 46s 257ms/step - loss: 30.0360 - mae: 4.7411 - val_loss: 29.9630 - val_mae: 4.7324\n",
            "Epoch 210/250\n",
            "178/178 [==============================] - 46s 256ms/step - loss: 29.9520 - mae: 4.7340 - val_loss: 30.0171 - val_mae: 4.7377\n",
            "Epoch 211/250\n",
            "178/178 [==============================] - 46s 255ms/step - loss: 29.9998 - mae: 4.7383 - val_loss: 29.9548 - val_mae: 4.7345\n",
            "Epoch 212/250\n",
            "178/178 [==============================] - 45s 247ms/step - loss: 29.9985 - mae: 4.7375 - val_loss: 30.1412 - val_mae: 4.7515\n",
            "Epoch 213/250\n",
            "178/178 [==============================] - 46s 252ms/step - loss: 29.9215 - mae: 4.7290 - val_loss: 30.0446 - val_mae: 4.7419\n",
            "Epoch 214/250\n",
            "178/178 [==============================] - 45s 249ms/step - loss: 30.0063 - mae: 4.7382 - val_loss: 30.0614 - val_mae: 4.7419\n",
            "Epoch 215/250\n",
            "178/178 [==============================] - 46s 253ms/step - loss: 29.9868 - mae: 4.7365 - val_loss: 29.8145 - val_mae: 4.7217\n",
            "Epoch 216/250\n",
            "178/178 [==============================] - 47s 258ms/step - loss: 29.9715 - mae: 4.7351 - val_loss: 30.1453 - val_mae: 4.7536\n",
            "Epoch 217/250\n",
            "178/178 [==============================] - 46s 253ms/step - loss: 30.0038 - mae: 4.7371 - val_loss: 30.0741 - val_mae: 4.7461\n",
            "Epoch 218/250\n",
            "178/178 [==============================] - 45s 245ms/step - loss: 30.0300 - mae: 4.7399 - val_loss: 30.0563 - val_mae: 4.7429\n",
            "Epoch 219/250\n",
            "178/178 [==============================] - 47s 254ms/step - loss: 30.0518 - mae: 4.7427 - val_loss: 29.9239 - val_mae: 4.7291\n",
            "Epoch 220/250\n",
            "178/178 [==============================] - 46s 256ms/step - loss: 30.0221 - mae: 4.7384 - val_loss: 30.0794 - val_mae: 4.7471\n",
            "Epoch 221/250\n",
            "178/178 [==============================] - 45s 249ms/step - loss: 29.9210 - mae: 4.7303 - val_loss: 30.0848 - val_mae: 4.7438\n",
            "Epoch 222/250\n",
            "178/178 [==============================] - 45s 252ms/step - loss: 30.0302 - mae: 4.7408 - val_loss: 30.0064 - val_mae: 4.7353\n",
            "Epoch 223/250\n",
            "178/178 [==============================] - 45s 248ms/step - loss: 30.0665 - mae: 4.7425 - val_loss: 29.8570 - val_mae: 4.7236\n",
            "Epoch 224/250\n",
            "178/178 [==============================] - 45s 247ms/step - loss: 30.0683 - mae: 4.7451 - val_loss: 29.9713 - val_mae: 4.7343\n",
            "Epoch 225/250\n",
            "178/178 [==============================] - 43s 239ms/step - loss: 29.9665 - mae: 4.7340 - val_loss: 30.0116 - val_mae: 4.7363\n",
            "Epoch 226/250\n",
            "178/178 [==============================] - 46s 253ms/step - loss: 30.0020 - mae: 4.7351 - val_loss: 30.0032 - val_mae: 4.7363\n",
            "Epoch 227/250\n",
            "178/178 [==============================] - 46s 253ms/step - loss: 29.9206 - mae: 4.7313 - val_loss: 30.1028 - val_mae: 4.7470\n",
            "Epoch 228/250\n",
            "178/178 [==============================] - 45s 249ms/step - loss: 29.9443 - mae: 4.7317 - val_loss: 29.9599 - val_mae: 4.7332\n",
            "Epoch 229/250\n",
            "178/178 [==============================] - 46s 253ms/step - loss: 29.9909 - mae: 4.7351 - val_loss: 30.0021 - val_mae: 4.7353\n",
            "Epoch 230/250\n",
            "178/178 [==============================] - 44s 241ms/step - loss: 30.0711 - mae: 4.7443 - val_loss: 29.9841 - val_mae: 4.7342\n",
            "Epoch 231/250\n",
            "178/178 [==============================] - 45s 249ms/step - loss: 29.9543 - mae: 4.7319 - val_loss: 30.0488 - val_mae: 4.7395\n",
            "Epoch 232/250\n",
            "178/178 [==============================] - 45s 252ms/step - loss: 29.9780 - mae: 4.7365 - val_loss: 30.0382 - val_mae: 4.7416\n",
            "Epoch 233/250\n",
            "178/178 [==============================] - 45s 248ms/step - loss: 29.9989 - mae: 4.7368 - val_loss: 29.9767 - val_mae: 4.7331\n",
            "Epoch 234/250\n",
            "178/178 [==============================] - 48s 266ms/step - loss: 30.0521 - mae: 4.7400 - val_loss: 29.9121 - val_mae: 4.7257\n",
            "Epoch 235/250\n",
            "178/178 [==============================] - 46s 250ms/step - loss: 30.0146 - mae: 4.7379 - val_loss: 30.0138 - val_mae: 4.7384\n",
            "Epoch 236/250\n",
            "178/178 [==============================] - 44s 242ms/step - loss: 30.0319 - mae: 4.7397 - val_loss: 30.0434 - val_mae: 4.7426\n",
            "Epoch 237/250\n",
            "178/178 [==============================] - 45s 249ms/step - loss: 29.9575 - mae: 4.7329 - val_loss: 30.1059 - val_mae: 4.7458\n",
            "Epoch 238/250\n",
            "178/178 [==============================] - 45s 248ms/step - loss: 30.0176 - mae: 4.7386 - val_loss: 30.0816 - val_mae: 4.7447\n",
            "Epoch 239/250\n",
            "178/178 [==============================] - 45s 251ms/step - loss: 29.9822 - mae: 4.7365 - val_loss: 30.0296 - val_mae: 4.7394\n",
            "Epoch 240/250\n",
            "178/178 [==============================] - 45s 251ms/step - loss: 29.9660 - mae: 4.7343 - val_loss: 29.9820 - val_mae: 4.7363\n",
            "Epoch 241/250\n",
            "178/178 [==============================] - 45s 248ms/step - loss: 30.0384 - mae: 4.7411 - val_loss: 30.1748 - val_mae: 4.7574\n",
            "Epoch 242/250\n",
            "178/178 [==============================] - 44s 242ms/step - loss: 30.0020 - mae: 4.7386 - val_loss: 30.0614 - val_mae: 4.7415\n",
            "Epoch 243/250\n",
            "178/178 [==============================] - 44s 242ms/step - loss: 30.0229 - mae: 4.7397 - val_loss: 29.9152 - val_mae: 4.7289\n",
            "Epoch 244/250\n",
            "178/178 [==============================] - 44s 245ms/step - loss: 29.9697 - mae: 4.7337 - val_loss: 30.0265 - val_mae: 4.7405\n",
            "Epoch 245/250\n",
            "178/178 [==============================] - 45s 250ms/step - loss: 30.0570 - mae: 4.7435 - val_loss: 29.9153 - val_mae: 4.7267\n",
            "Epoch 246/250\n",
            "178/178 [==============================] - 45s 248ms/step - loss: 30.0105 - mae: 4.7379 - val_loss: 30.0053 - val_mae: 4.7342\n",
            "Epoch 247/250\n",
            "178/178 [==============================] - 46s 253ms/step - loss: 30.0153 - mae: 4.7386 - val_loss: 30.0636 - val_mae: 4.7437\n",
            "Epoch 248/250\n",
            "178/178 [==============================] - 45s 247ms/step - loss: 30.0041 - mae: 4.7386 - val_loss: 29.8750 - val_mae: 4.7225\n",
            "Epoch 249/250\n",
            "178/178 [==============================] - 44s 239ms/step - loss: 30.0161 - mae: 4.7372 - val_loss: 29.9015 - val_mae: 4.7278\n",
            "Epoch 250/250\n",
            "178/178 [==============================] - 44s 244ms/step - loss: 30.0052 - mae: 4.7354 - val_loss: 29.9735 - val_mae: 4.7342\n"
          ]
        }
      ]
    },
    {
      "cell_type": "code",
      "source": [
        "loss = history.history['loss']\n",
        "val_loss = history.history['val_loss']\n",
        "mae = history.history['mae']\n",
        "val_mae = history.history['val_mae']\n",
        "\n",
        "\n",
        "epochs_x = range(len(loss))\n",
        "\n",
        "\n",
        "plt.plot(epochs_x, mae, 'o', color ='darkviolet', label='Training MAE')\n",
        "plt.plot(epochs_x, val_mae, 'k', label='Validation MAE')\n",
        "plt.title('Training and validation MeanAbsoluteError')\n",
        "plt.legend()\n",
        "\n",
        "plt.figure()\n",
        "plt.plot(epochs_x, loss, 'o', color ='darkviolet', label='Training loss')\n",
        "plt.plot(epochs_x, val_loss, 'k', label='Validation loss')\n",
        "plt.title('Training and validation loss')\n",
        "plt.legend()\n",
        "\n",
        "plt.show()"
      ],
      "metadata": {
        "id": "Y3K89-CM-dfg",
        "colab": {
          "base_uri": "https://localhost:8080/",
          "height": 545
        },
        "outputId": "c7252595-e4d5-4a66-a61e-643219f0f3d1"
      },
      "execution_count": 17,
      "outputs": [
        {
          "output_type": "display_data",
          "data": {
            "text/plain": [
              "<Figure size 432x288 with 1 Axes>"
            ],
            "image/png": "[encoded data removed]"
          },
          "metadata": {
            "needs_background": "light"
          }
        },
        {
          "output_type": "display_data",
          "data": {
            "text/plain": [
              "<Figure size 432x288 with 1 Axes>"
            ],
            "image/png": "[encoded data removed]"
          },
          "metadata": {
            "needs_background": "light"
          }
        }
      ]
    },
    {
      "cell_type": "code",
      "source": [
        "epochs_x"
      ],
      "metadata": {
        "id": "N_sP_ZmSY-Jv",
        "colab": {
          "base_uri": "https://localhost:8080/"
        },
        "outputId": "114f8da6-802d-483f-b148-f366466bcfcb"
      },
      "execution_count": 18,
      "outputs": [
        {
          "output_type": "execute_result",
          "data": {
            "text/plain": [
              "range(0, 250)"
            ]
          },
          "metadata": {},
          "execution_count": 18
        }
      ]
    },
    {
      "cell_type": "markdown",
      "source": [
        "#Download the model\n"
      ],
      "metadata": {
        "id": "R19IJQSYoW7J"
      }
    },
    {
      "cell_type": "code",
      "source": [
        "os.makedirs('/content/drive/My Drive/cut_panoramic/Model', exist_ok=True)\n",
        "model.save('/content/drive/My Drive/cut_panoramic/Model/New_2Re_All_1G_1e-4_16_0.2_250.h5')"
      ],
      "metadata": {
        "id": "Zed4TdFcG2iJ"
      },
      "execution_count": 19,
      "outputs": []
    },
    {
      "cell_type": "markdown",
      "source": [],
      "metadata": {
        "id": "n5YxZ-5QjQ0-"
      }
    },
    {
      "cell_type": "code",
      "source": [
        "# from google.colab import files\n",
        "# files.download('/content/drive/My Drive/cut_panoramic/Model/1.1_รอบแรก_Flimpano_Male125_250.h5')"
      ],
      "metadata": {
        "id": "P5eMxm1NV-oY"
      },
      "execution_count": 20,
      "outputs": []
    },
    {
      "cell_type": "code",
      "source": [
        "\n"
      ],
      "metadata": {
        "id": "wY_pDlxkRwxS"
      },
      "execution_count": 20,
      "outputs": []
    }
  ]
}