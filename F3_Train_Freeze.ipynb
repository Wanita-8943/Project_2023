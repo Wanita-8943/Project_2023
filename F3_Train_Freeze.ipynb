{
  "nbformat": 4,
  "nbformat_minor": 0,
  "metadata": {
    "colab": {
      "provenance": [],
      "include_colab_link": true
    },
    "kernelspec": {
      "name": "python3",
      "display_name": "Python 3"
    },
    "language_info": {
      "name": "python"
    },
    "accelerator": "GPU",
    "gpuClass": "standard"
  },
  "cells": [
    {
      "cell_type": "markdown",
      "metadata": {
        "id": "view-in-github",
        "colab_type": "text"
      },
      "source": [
        "<a href=\"https://colab.research.google.com/github/Wanita-8943/Project_2023/blob/main/F3_Train_Freeze.ipynb\" target=\"_parent\"><img src=\"https://colab.research.google.com/assets/colab-badge.svg\" alt=\"Open In Colab\"/></a>"
      ]
    },
    {
      "cell_type": "code",
      "execution_count": 1,
      "metadata": {
        "id": "KKSs7cyoPHcD"
      },
      "outputs": [],
      "source": [
        "import pandas as pd\n",
        "import shutil"
      ]
    },
    {
      "cell_type": "code",
      "source": [
        "from google.colab import drive\n",
        "drive.mount('/content/drive')"
      ],
      "metadata": {
        "colab": {
          "base_uri": "https://localhost:8080/"
        },
        "id": "7LoeZxmVPMxp",
        "outputId": "39bc2507-6401-4b24-84fd-7d8790f58693"
      },
      "execution_count": 2,
      "outputs": [
        {
          "output_type": "stream",
          "name": "stdout",
          "text": [
            "Mounted at /content/drive\n"
          ]
        }
      ]
    },
    {
      "cell_type": "code",
      "source": [
        "from tensorflow.keras import models\n",
        "from tensorflow.keras import layers\n",
        "from tensorflow.keras import optimizers\n",
        "import os\n",
        "import glob\n",
        "import shutil\n",
        "import sys\n",
        "import numpy as np\n",
        "from skimage.io import imread\n",
        "import matplotlib.pyplot as plt\n",
        "from IPython.display import Image\n",
        "%matplotlib inline"
      ],
      "metadata": {
        "id": "1pX9g1HxPM2f"
      },
      "execution_count": 3,
      "outputs": []
    },
    {
      "cell_type": "code",
      "source": [
        "batch_size = 16\n",
        "width = 150\n",
        "height = 150\n",
        "epochs = 250\n",
        "NUM_TRAIN = 1425\n",
        "NUM_TEST = 475\n",
        "dropout_rate = 0.2\n",
        "input_shape = (height, width, 3)"
      ],
      "metadata": {
        "id": "eSFtvGyvPM6O"
      },
      "execution_count": 4,
      "outputs": []
    },
    {
      "cell_type": "code",
      "source": [
        "#ดึงข้อมูลใน Github มาใช้\n",
        "import os\n",
        "%cd /content\n",
        "if not os.path.isdir(\"efficientnet_keras_transfer_learning\"):\n",
        " !git clone https://github.com/Wanita-8943/efficientnet_keras_transfer_learning\n",
        "%cd efficientnet_keras_transfer_learning/"
      ],
      "metadata": {
        "colab": {
          "base_uri": "https://localhost:8080/"
        },
        "id": "lb4K4CsMPNAW",
        "outputId": "97e92720-aede-4647-e36d-0e818b8cc15c"
      },
      "execution_count": 5,
      "outputs": [
        {
          "output_type": "stream",
          "name": "stdout",
          "text": [
            "/content\n",
            "Cloning into 'efficientnet_keras_transfer_learning'...\n",
            "remote: Enumerating objects: 837, done.\u001b[K\n",
            "remote: Total 837 (delta 0), reused 0 (delta 0), pack-reused 837\u001b[K\n",
            "Receiving objects: 100% (837/837), 13.85 MiB | 32.54 MiB/s, done.\n",
            "Resolving deltas: 100% (497/497), done.\n",
            "/content/efficientnet_keras_transfer_learning\n"
          ]
        }
      ]
    },
    {
      "cell_type": "code",
      "source": [
        "# Options: EfficientNetB0, EfficientNetB1, EfficientNetB2, EfficientNetB3\n",
        "# Higher the number, the more complex the model is.\n",
        "from efficientnet import EfficientNetB0 as Net\n",
        "from efficientnet import center_crop_and_resize, preprocess_input"
      ],
      "metadata": {
        "id": "eyBg0dLKPND3"
      },
      "execution_count": 6,
      "outputs": []
    },
    {
      "cell_type": "code",
      "source": [
        "base_dir = '/content/drive/MyDrive/TVT_Female125'\n",
        "os.makedirs(base_dir, exist_ok=True)\n",
        "\n",
        "# Directories for our training,\n",
        "# validation and test splits\n",
        "train_dir = os.path.join(base_dir, 'train')\n",
        "os.makedirs(train_dir, exist_ok=True)\n",
        "validation_dir = os.path.join(base_dir, 'validation')\n",
        "os.makedirs(validation_dir, exist_ok=True)\n",
        "test_dir = os.path.join(base_dir, 'test')\n",
        "os.makedirs(test_dir, exist_ok=True)"
      ],
      "metadata": {
        "id": "Jwpq_-KvPef8"
      },
      "execution_count": 7,
      "outputs": []
    },
    {
      "cell_type": "markdown",
      "source": [
        "#load model"
      ],
      "metadata": {
        "id": "od-ZSNm5PoGy"
      }
    },
    {
      "cell_type": "code",
      "source": [
        "import sys\n",
        "sys.path.append('/content/drive/MyDrive/cut_panoramic/Model/Classification/Female/F2_Train_Freeze.h5')\n",
        "\n",
        "from efficientnet.layers import Swish, DropConnect\n",
        "from efficientnet.model import ConvKernalInitializer\n",
        "from tensorflow.keras.utils import get_custom_objects\n",
        "\n",
        "get_custom_objects().update({\n",
        "    'ConvKernalInitializer': ConvKernalInitializer,\n",
        "    'Swish': Swish,\n",
        "    'DropConnect':DropConnect\n",
        "})"
      ],
      "metadata": {
        "id": "n5iPL5MNPkhE"
      },
      "execution_count": 8,
      "outputs": []
    },
    {
      "cell_type": "code",
      "source": [
        "#load model \n",
        "from tensorflow.keras.models import load_model\n",
        "model = load_model('/content/drive/MyDrive/cut_panoramic/Model/Classification/Female/F2_Train_Freeze.h5')\n",
        "height = width = model.input_shape[1]"
      ],
      "metadata": {
        "id": "plYz49xMPkly",
        "colab": {
          "base_uri": "https://localhost:8080/"
        },
        "outputId": "ad55bfe8-b023-4982-eef2-25de83af99f7"
      },
      "execution_count": 9,
      "outputs": [
        {
          "output_type": "stream",
          "name": "stderr",
          "text": [
            "WARNING:tensorflow:From /usr/local/lib/python3.8/dist-packages/tensorflow/python/autograph/pyct/static_analysis/liveness.py:83: Analyzer.lamba_check (from tensorflow.python.autograph.pyct.static_analysis.liveness) is deprecated and will be removed after 2023-09-23.\n",
            "Instructions for updating:\n",
            "Lambda fuctions will be no more assumed to be used in the statement where they are used, or at least in the same block. https://github.com/tensorflow/tensorflow/issues/56089\n"
          ]
        }
      ]
    },
    {
      "cell_type": "code",
      "source": [
        "model.summary()"
      ],
      "metadata": {
        "colab": {
          "base_uri": "https://localhost:8080/"
        },
        "id": "z6IOPBflFbvc",
        "outputId": "a2990714-cc89-4121-cd1d-3e7605a865fa"
      },
      "execution_count": 10,
      "outputs": [
        {
          "output_type": "stream",
          "name": "stdout",
          "text": [
            "Model: \"sequential_2\"\n",
            "_________________________________________________________________\n",
            " Layer (type)                Output Shape              Param #   \n",
            "=================================================================\n",
            " efficientnet-b0 (Functional  (None, 5, 5, 1280)       4049564   \n",
            " )                                                               \n",
            "                                                                 \n",
            " gap (GlobalMaxPooling2D)    (None, 1280)              0         \n",
            "                                                                 \n",
            " dropout_out (Dropout)       (None, 1280)              0         \n",
            "                                                                 \n",
            " fc_out (Dense)              (None, 19)                24339     \n",
            "                                                                 \n",
            "=================================================================\n",
            "Total params: 4,073,903\n",
            "Trainable params: 24,339\n",
            "Non-trainable params: 4,049,564\n",
            "_________________________________________________________________\n"
          ]
        }
      ]
    },
    {
      "cell_type": "code",
      "source": [
        "# Train ด้วย ImageDataGenerator ของ Keras ซึ่งจะเพิ่มข้อมูลเสริมระหว่างการฝึกเพื่อลดโอกาสเกิด overfitting\n",
        "#overfitting เกิดจากข้อมูลที่ซับซ้อนกันเกินไป\n",
        "from tensorflow.keras.preprocessing.image import ImageDataGenerator\n",
        "\n",
        "train_datagen = ImageDataGenerator(\n",
        "      rescale=1./255, #โมเดลส่วนใหญ่ต้องใช้ RGB ในช่วง 0–1\n",
        "      rotation_range=40,\n",
        "      width_shift_range=0.2,\n",
        "      height_shift_range=0.2,\n",
        "      shear_range=0.2,\n",
        "      zoom_range=0.2,\n",
        "      horizontal_flip=True,\n",
        "      fill_mode='nearest')\n",
        "\n",
        "# Note that the validation data should not be augmented!\n",
        "test_datagen = ImageDataGenerator(rescale=1./255)\n",
        "\n",
        "train_generator = train_datagen.flow_from_directory(\n",
        "        # This is the target directory #ไดเรกเป้าหมาย\n",
        "        train_dir,\n",
        "        # รูปภาพทั้งหมดจะถูกปรับขนาดตามความสูงและความกว้างของเป้าหมาย\n",
        "        target_size=(height, width),\n",
        "        batch_size=batch_size,\n",
        "        # Since we use categorical_crossentropy loss, we need categorical labels\n",
        "        #เนื่องจากเราใช้ categorical_crossentropy loss เราจึงต้องมีป้ายกำกับตามหมวดหมู่\n",
        "        class_mode='categorical')\n",
        "\n",
        "validation_generator = test_datagen.flow_from_directory( #การดึงภาพจาก Directory มาเข้าโมเดล \n",
        "        validation_dir,\n",
        "        target_size=(height, width),\n",
        "        batch_size=batch_size,\n",
        "        class_mode='categorical')"
      ],
      "metadata": {
        "colab": {
          "base_uri": "https://localhost:8080/"
        },
        "id": "KBMZbdr2Pgw4",
        "outputId": "d7b12731-9b61-4d2a-8599-548e57fcba65"
      },
      "execution_count": 11,
      "outputs": [
        {
          "output_type": "stream",
          "name": "stdout",
          "text": [
            "Found 1425 images belonging to 19 classes.\n",
            "Found 475 images belonging to 19 classes.\n"
          ]
        }
      ]
    },
    {
      "cell_type": "code",
      "source": [
        "model.compile(loss='categorical_crossentropy',\n",
        "              optimizer=optimizers.RMSprop(learning_rate=2e-5),\n",
        "              metrics=['acc'])\n",
        "history = model.fit_generator(\n",
        "      train_generator,\n",
        "      steps_per_epoch= NUM_TRAIN //batch_size,\n",
        "      epochs=epochs,\n",
        "      validation_data=validation_generator,\n",
        "      validation_steps= NUM_TEST //batch_size,\n",
        "      verbose=1,\n",
        "      use_multiprocessing=True,\n",
        "      workers=4)"
      ],
      "metadata": {
        "colab": {
          "base_uri": "https://localhost:8080/"
        },
        "id": "C9Cf1dwyP1PD",
        "outputId": "e5daf3e7-cc4e-4a12-8d9a-d99870655927"
      },
      "execution_count": 12,
      "outputs": [
        {
          "output_type": "stream",
          "name": "stderr",
          "text": [
            "<ipython-input-12-95ae5648fc7b>:4: UserWarning: `Model.fit_generator` is deprecated and will be removed in a future version. Please use `Model.fit`, which supports generators.\n",
            "  history = model.fit_generator(\n"
          ]
        },
        {
          "output_type": "stream",
          "name": "stdout",
          "text": [
            "Epoch 1/250\n",
            "89/89 [==============================] - 103s 945ms/step - loss: 2.4426 - acc: 0.2129 - val_loss: 2.7376 - val_acc: 0.1853\n",
            "Epoch 2/250\n",
            "89/89 [==============================] - 25s 274ms/step - loss: 2.3555 - acc: 0.2257 - val_loss: 2.7153 - val_acc: 0.1853\n",
            "Epoch 3/250\n",
            "89/89 [==============================] - 26s 279ms/step - loss: 2.4093 - acc: 0.2179 - val_loss: 2.7368 - val_acc: 0.1724\n",
            "Epoch 4/250\n",
            "89/89 [==============================] - 25s 276ms/step - loss: 2.4015 - acc: 0.2449 - val_loss: 2.7257 - val_acc: 0.1789\n",
            "Epoch 5/250\n",
            "89/89 [==============================] - 25s 278ms/step - loss: 2.3293 - acc: 0.2512 - val_loss: 2.7228 - val_acc: 0.1810\n",
            "Epoch 6/250\n",
            "89/89 [==============================] - 26s 286ms/step - loss: 2.3579 - acc: 0.2434 - val_loss: 2.7146 - val_acc: 0.1875\n",
            "Epoch 7/250\n",
            "89/89 [==============================] - 25s 274ms/step - loss: 2.3744 - acc: 0.2193 - val_loss: 2.7535 - val_acc: 0.1897\n",
            "Epoch 8/250\n",
            "89/89 [==============================] - 25s 278ms/step - loss: 2.3934 - acc: 0.2243 - val_loss: 2.7178 - val_acc: 0.1940\n",
            "Epoch 9/250\n",
            "89/89 [==============================] - 21s 225ms/step - loss: 2.3759 - acc: 0.2179 - val_loss: 2.7054 - val_acc: 0.1897\n",
            "Epoch 10/250\n",
            "89/89 [==============================] - 26s 283ms/step - loss: 2.3912 - acc: 0.2264 - val_loss: 2.7013 - val_acc: 0.1940\n",
            "Epoch 11/250\n",
            "89/89 [==============================] - 26s 277ms/step - loss: 2.4218 - acc: 0.2229 - val_loss: 2.7221 - val_acc: 0.1853\n",
            "Epoch 12/250\n",
            "89/89 [==============================] - 25s 277ms/step - loss: 2.4012 - acc: 0.2257 - val_loss: 2.7436 - val_acc: 0.1810\n",
            "Epoch 13/250\n",
            "89/89 [==============================] - 25s 276ms/step - loss: 2.3813 - acc: 0.2328 - val_loss: 2.7351 - val_acc: 0.1832\n",
            "Epoch 14/250\n",
            "89/89 [==============================] - 25s 280ms/step - loss: 2.3635 - acc: 0.2324 - val_loss: 2.7271 - val_acc: 0.1832\n",
            "Epoch 15/250\n",
            "89/89 [==============================] - 20s 219ms/step - loss: 2.3603 - acc: 0.2406 - val_loss: 2.7219 - val_acc: 0.1832\n",
            "Epoch 16/250\n",
            "89/89 [==============================] - 26s 283ms/step - loss: 2.4122 - acc: 0.2094 - val_loss: 2.6995 - val_acc: 0.1875\n",
            "Epoch 17/250\n",
            "89/89 [==============================] - 26s 278ms/step - loss: 2.4318 - acc: 0.2136 - val_loss: 2.7083 - val_acc: 0.1789\n",
            "Epoch 18/250\n",
            "89/89 [==============================] - 25s 279ms/step - loss: 2.4052 - acc: 0.2250 - val_loss: 2.7471 - val_acc: 0.1897\n",
            "Epoch 19/250\n",
            "89/89 [==============================] - 25s 275ms/step - loss: 2.4029 - acc: 0.2221 - val_loss: 2.7113 - val_acc: 0.1853\n",
            "Epoch 20/250\n",
            "89/89 [==============================] - 27s 297ms/step - loss: 2.4061 - acc: 0.2353 - val_loss: 2.7275 - val_acc: 0.1767\n",
            "Epoch 21/250\n",
            "89/89 [==============================] - 21s 225ms/step - loss: 2.4000 - acc: 0.2200 - val_loss: 2.6975 - val_acc: 0.1853\n",
            "Epoch 22/250\n",
            "89/89 [==============================] - 26s 283ms/step - loss: 2.3974 - acc: 0.2193 - val_loss: 2.7498 - val_acc: 0.1853\n",
            "Epoch 23/250\n",
            "89/89 [==============================] - 20s 222ms/step - loss: 2.4215 - acc: 0.2278 - val_loss: 2.7307 - val_acc: 0.1810\n",
            "Epoch 24/250\n",
            "89/89 [==============================] - 27s 292ms/step - loss: 2.3286 - acc: 0.2314 - val_loss: 2.7239 - val_acc: 0.1853\n",
            "Epoch 25/250\n",
            "89/89 [==============================] - 20s 222ms/step - loss: 2.3860 - acc: 0.2257 - val_loss: 2.7265 - val_acc: 0.1810\n",
            "Epoch 26/250\n",
            "89/89 [==============================] - 26s 279ms/step - loss: 2.3811 - acc: 0.2264 - val_loss: 2.7250 - val_acc: 0.1853\n",
            "Epoch 27/250\n",
            "89/89 [==============================] - 25s 279ms/step - loss: 2.3976 - acc: 0.2172 - val_loss: 2.6987 - val_acc: 0.1853\n",
            "Epoch 28/250\n",
            "89/89 [==============================] - 25s 275ms/step - loss: 2.3785 - acc: 0.2165 - val_loss: 2.7113 - val_acc: 0.1789\n",
            "Epoch 29/250\n",
            "89/89 [==============================] - 26s 281ms/step - loss: 2.4191 - acc: 0.2349 - val_loss: 2.7123 - val_acc: 0.1832\n",
            "Epoch 30/250\n",
            "89/89 [==============================] - 27s 296ms/step - loss: 2.3753 - acc: 0.2307 - val_loss: 2.7057 - val_acc: 0.1897\n",
            "Epoch 31/250\n",
            "89/89 [==============================] - 27s 293ms/step - loss: 2.3606 - acc: 0.2221 - val_loss: 2.6939 - val_acc: 0.1810\n",
            "Epoch 32/250\n",
            "89/89 [==============================] - 27s 295ms/step - loss: 2.4013 - acc: 0.2243 - val_loss: 2.7097 - val_acc: 0.1875\n",
            "Epoch 33/250\n",
            "89/89 [==============================] - 27s 300ms/step - loss: 2.3785 - acc: 0.2413 - val_loss: 2.7064 - val_acc: 0.1940\n",
            "Epoch 34/250\n",
            "89/89 [==============================] - 26s 289ms/step - loss: 2.3704 - acc: 0.2250 - val_loss: 2.6979 - val_acc: 0.1810\n",
            "Epoch 35/250\n",
            "89/89 [==============================] - 27s 296ms/step - loss: 2.3474 - acc: 0.2399 - val_loss: 2.7196 - val_acc: 0.1853\n",
            "Epoch 36/250\n",
            "89/89 [==============================] - 26s 286ms/step - loss: 2.3577 - acc: 0.2335 - val_loss: 2.7157 - val_acc: 0.1853\n",
            "Epoch 37/250\n",
            "89/89 [==============================] - 25s 276ms/step - loss: 2.4180 - acc: 0.2200 - val_loss: 2.7152 - val_acc: 0.1810\n",
            "Epoch 38/250\n",
            "89/89 [==============================] - 27s 292ms/step - loss: 2.3421 - acc: 0.2214 - val_loss: 2.7117 - val_acc: 0.1810\n",
            "Epoch 39/250\n",
            "89/89 [==============================] - 26s 283ms/step - loss: 2.3595 - acc: 0.2512 - val_loss: 2.7080 - val_acc: 0.1789\n",
            "Epoch 40/250\n",
            "89/89 [==============================] - 27s 294ms/step - loss: 2.4297 - acc: 0.2271 - val_loss: 2.7226 - val_acc: 0.1810\n",
            "Epoch 41/250\n",
            "89/89 [==============================] - 22s 244ms/step - loss: 2.3840 - acc: 0.2186 - val_loss: 2.7366 - val_acc: 0.1897\n",
            "Epoch 42/250\n",
            "89/89 [==============================] - 25s 277ms/step - loss: 2.3955 - acc: 0.2314 - val_loss: 2.7278 - val_acc: 0.1897\n",
            "Epoch 43/250\n",
            "89/89 [==============================] - 20s 222ms/step - loss: 2.4044 - acc: 0.2143 - val_loss: 2.6998 - val_acc: 0.1853\n",
            "Epoch 44/250\n",
            "89/89 [==============================] - 27s 300ms/step - loss: 2.3627 - acc: 0.2115 - val_loss: 2.6854 - val_acc: 0.1918\n",
            "Epoch 45/250\n",
            "89/89 [==============================] - 22s 237ms/step - loss: 2.3562 - acc: 0.2278 - val_loss: 2.7252 - val_acc: 0.1832\n",
            "Epoch 46/250\n",
            "89/89 [==============================] - 22s 234ms/step - loss: 2.3646 - acc: 0.2378 - val_loss: 2.7143 - val_acc: 0.1897\n",
            "Epoch 47/250\n",
            "89/89 [==============================] - 27s 285ms/step - loss: 2.3375 - acc: 0.2456 - val_loss: 2.7063 - val_acc: 0.1897\n",
            "Epoch 48/250\n",
            "89/89 [==============================] - 27s 296ms/step - loss: 2.3441 - acc: 0.2342 - val_loss: 2.7164 - val_acc: 0.1875\n",
            "Epoch 49/250\n",
            "89/89 [==============================] - 22s 232ms/step - loss: 2.3533 - acc: 0.2278 - val_loss: 2.7312 - val_acc: 0.1789\n",
            "Epoch 50/250\n",
            "89/89 [==============================] - 26s 283ms/step - loss: 2.3435 - acc: 0.2449 - val_loss: 2.7174 - val_acc: 0.1810\n",
            "Epoch 51/250\n",
            "89/89 [==============================] - 25s 273ms/step - loss: 2.3787 - acc: 0.2292 - val_loss: 2.7174 - val_acc: 0.1810\n",
            "Epoch 52/250\n",
            "89/89 [==============================] - 20s 222ms/step - loss: 2.3387 - acc: 0.2406 - val_loss: 2.7065 - val_acc: 0.1853\n",
            "Epoch 53/250\n",
            "89/89 [==============================] - 22s 240ms/step - loss: 2.3427 - acc: 0.2491 - val_loss: 2.7112 - val_acc: 0.1832\n",
            "Epoch 54/250\n",
            "89/89 [==============================] - 27s 299ms/step - loss: 2.3472 - acc: 0.2285 - val_loss: 2.6954 - val_acc: 0.1832\n",
            "Epoch 55/250\n",
            "89/89 [==============================] - 22s 243ms/step - loss: 2.3457 - acc: 0.2193 - val_loss: 2.7050 - val_acc: 0.1810\n",
            "Epoch 56/250\n",
            "89/89 [==============================] - 27s 300ms/step - loss: 2.3619 - acc: 0.2363 - val_loss: 2.6913 - val_acc: 0.1897\n",
            "Epoch 57/250\n",
            "89/89 [==============================] - 26s 281ms/step - loss: 2.3668 - acc: 0.2456 - val_loss: 2.6966 - val_acc: 0.1832\n",
            "Epoch 58/250\n",
            "89/89 [==============================] - 27s 299ms/step - loss: 2.3917 - acc: 0.2129 - val_loss: 2.7097 - val_acc: 0.1789\n",
            "Epoch 59/250\n",
            "89/89 [==============================] - 25s 279ms/step - loss: 2.3261 - acc: 0.2285 - val_loss: 2.7135 - val_acc: 0.1767\n",
            "Epoch 60/250\n",
            "89/89 [==============================] - 25s 277ms/step - loss: 2.3625 - acc: 0.2449 - val_loss: 2.7121 - val_acc: 0.1832\n",
            "Epoch 61/250\n",
            "89/89 [==============================] - 22s 244ms/step - loss: 2.3649 - acc: 0.2271 - val_loss: 2.7187 - val_acc: 0.1875\n",
            "Epoch 62/250\n",
            "89/89 [==============================] - 27s 300ms/step - loss: 2.3636 - acc: 0.2250 - val_loss: 2.7004 - val_acc: 0.1853\n",
            "Epoch 63/250\n",
            "89/89 [==============================] - 22s 243ms/step - loss: 2.3454 - acc: 0.2406 - val_loss: 2.7104 - val_acc: 0.1832\n",
            "Epoch 64/250\n",
            "89/89 [==============================] - 27s 302ms/step - loss: 2.3692 - acc: 0.2158 - val_loss: 2.7052 - val_acc: 0.1875\n",
            "Epoch 65/250\n",
            "89/89 [==============================] - 27s 295ms/step - loss: 2.3628 - acc: 0.2349 - val_loss: 2.6876 - val_acc: 0.1832\n",
            "Epoch 66/250\n",
            "89/89 [==============================] - 26s 284ms/step - loss: 2.3514 - acc: 0.2534 - val_loss: 2.6880 - val_acc: 0.1875\n",
            "Epoch 67/250\n",
            "89/89 [==============================] - 20s 222ms/step - loss: 2.3875 - acc: 0.2292 - val_loss: 2.6916 - val_acc: 0.1746\n",
            "Epoch 68/250\n",
            "89/89 [==============================] - 27s 294ms/step - loss: 2.3358 - acc: 0.2307 - val_loss: 2.7093 - val_acc: 0.1789\n",
            "Epoch 69/250\n",
            "89/89 [==============================] - 27s 302ms/step - loss: 2.3408 - acc: 0.2236 - val_loss: 2.7272 - val_acc: 0.1767\n",
            "Epoch 70/250\n",
            "89/89 [==============================] - 27s 299ms/step - loss: 2.3642 - acc: 0.2236 - val_loss: 2.7205 - val_acc: 0.1810\n",
            "Epoch 71/250\n",
            "89/89 [==============================] - 22s 243ms/step - loss: 2.3448 - acc: 0.2257 - val_loss: 2.7118 - val_acc: 0.1832\n",
            "Epoch 72/250\n",
            "89/89 [==============================] - 25s 275ms/step - loss: 2.3702 - acc: 0.2335 - val_loss: 2.7107 - val_acc: 0.1767\n",
            "Epoch 73/250\n",
            "89/89 [==============================] - 26s 279ms/step - loss: 2.3412 - acc: 0.2356 - val_loss: 2.7101 - val_acc: 0.1810\n",
            "Epoch 74/250\n",
            "89/89 [==============================] - 24s 255ms/step - loss: 2.3488 - acc: 0.2314 - val_loss: 2.7161 - val_acc: 0.1810\n",
            "Epoch 75/250\n",
            "89/89 [==============================] - 26s 285ms/step - loss: 2.3680 - acc: 0.2285 - val_loss: 2.7065 - val_acc: 0.1853\n",
            "Epoch 76/250\n",
            "89/89 [==============================] - 27s 296ms/step - loss: 2.3623 - acc: 0.2392 - val_loss: 2.7111 - val_acc: 0.1853\n",
            "Epoch 77/250\n",
            "89/89 [==============================] - 27s 298ms/step - loss: 2.3433 - acc: 0.2314 - val_loss: 2.7061 - val_acc: 0.1810\n",
            "Epoch 78/250\n",
            "89/89 [==============================] - 26s 289ms/step - loss: 2.3595 - acc: 0.2370 - val_loss: 2.7121 - val_acc: 0.1789\n",
            "Epoch 79/250\n",
            "89/89 [==============================] - 27s 295ms/step - loss: 2.3510 - acc: 0.2342 - val_loss: 2.7264 - val_acc: 0.1789\n",
            "Epoch 80/250\n",
            "89/89 [==============================] - 22s 245ms/step - loss: 2.3513 - acc: 0.2314 - val_loss: 2.6722 - val_acc: 0.1810\n",
            "Epoch 81/250\n",
            "89/89 [==============================] - 25s 277ms/step - loss: 2.3399 - acc: 0.2271 - val_loss: 2.6946 - val_acc: 0.1746\n",
            "Epoch 82/250\n",
            "89/89 [==============================] - 26s 276ms/step - loss: 2.3185 - acc: 0.2512 - val_loss: 2.7077 - val_acc: 0.1832\n",
            "Epoch 83/250\n",
            "89/89 [==============================] - 25s 280ms/step - loss: 2.3294 - acc: 0.2271 - val_loss: 2.7326 - val_acc: 0.1681\n",
            "Epoch 84/250\n",
            "89/89 [==============================] - 21s 224ms/step - loss: 2.3287 - acc: 0.2250 - val_loss: 2.6978 - val_acc: 0.1875\n",
            "Epoch 85/250\n",
            "89/89 [==============================] - 27s 296ms/step - loss: 2.3322 - acc: 0.2463 - val_loss: 2.6936 - val_acc: 0.1832\n",
            "Epoch 86/250\n",
            "89/89 [==============================] - 26s 280ms/step - loss: 2.3243 - acc: 0.2292 - val_loss: 2.6910 - val_acc: 0.1767\n",
            "Epoch 87/250\n",
            "89/89 [==============================] - 27s 297ms/step - loss: 2.3389 - acc: 0.2214 - val_loss: 2.6872 - val_acc: 0.1789\n",
            "Epoch 88/250\n",
            "89/89 [==============================] - 29s 321ms/step - loss: 2.3220 - acc: 0.2370 - val_loss: 2.7228 - val_acc: 0.1789\n",
            "Epoch 89/250\n",
            "89/89 [==============================] - 25s 279ms/step - loss: 2.3150 - acc: 0.2406 - val_loss: 2.6852 - val_acc: 0.1767\n",
            "Epoch 90/250\n",
            "89/89 [==============================] - 27s 293ms/step - loss: 2.3080 - acc: 0.2349 - val_loss: 2.7325 - val_acc: 0.1703\n",
            "Epoch 91/250\n",
            "89/89 [==============================] - 22s 241ms/step - loss: 2.3431 - acc: 0.2399 - val_loss: 2.7229 - val_acc: 0.1767\n",
            "Epoch 92/250\n",
            "89/89 [==============================] - 25s 275ms/step - loss: 2.2993 - acc: 0.2406 - val_loss: 2.7049 - val_acc: 0.1810\n",
            "Epoch 93/250\n",
            "89/89 [==============================] - 28s 303ms/step - loss: 2.2968 - acc: 0.2527 - val_loss: 2.7169 - val_acc: 0.1681\n",
            "Epoch 94/250\n",
            "89/89 [==============================] - 25s 274ms/step - loss: 2.3342 - acc: 0.2385 - val_loss: 2.7152 - val_acc: 0.1703\n",
            "Epoch 95/250\n",
            "89/89 [==============================] - 27s 290ms/step - loss: 2.3185 - acc: 0.2427 - val_loss: 2.7113 - val_acc: 0.1724\n",
            "Epoch 96/250\n",
            "89/89 [==============================] - 26s 277ms/step - loss: 2.3248 - acc: 0.2363 - val_loss: 2.6856 - val_acc: 0.1853\n",
            "Epoch 97/250\n",
            "89/89 [==============================] - 25s 277ms/step - loss: 2.2772 - acc: 0.2470 - val_loss: 2.7096 - val_acc: 0.1789\n",
            "Epoch 98/250\n",
            "89/89 [==============================] - 26s 283ms/step - loss: 2.3531 - acc: 0.2314 - val_loss: 2.7053 - val_acc: 0.1853\n",
            "Epoch 99/250\n",
            "89/89 [==============================] - 25s 278ms/step - loss: 2.3330 - acc: 0.2363 - val_loss: 2.6980 - val_acc: 0.1810\n",
            "Epoch 100/250\n",
            "89/89 [==============================] - 27s 293ms/step - loss: 2.3308 - acc: 0.2271 - val_loss: 2.7461 - val_acc: 0.1810\n",
            "Epoch 101/250\n",
            "89/89 [==============================] - 26s 281ms/step - loss: 2.3385 - acc: 0.2335 - val_loss: 2.7240 - val_acc: 0.1810\n",
            "Epoch 102/250\n",
            "89/89 [==============================] - 25s 277ms/step - loss: 2.3356 - acc: 0.2314 - val_loss: 2.7180 - val_acc: 0.1681\n",
            "Epoch 103/250\n",
            "89/89 [==============================] - 27s 295ms/step - loss: 2.3353 - acc: 0.2363 - val_loss: 2.7215 - val_acc: 0.1767\n",
            "Epoch 104/250\n",
            "89/89 [==============================] - 27s 295ms/step - loss: 2.3472 - acc: 0.2477 - val_loss: 2.7328 - val_acc: 0.1767\n",
            "Epoch 105/250\n",
            "89/89 [==============================] - 26s 285ms/step - loss: 2.3597 - acc: 0.2264 - val_loss: 2.7477 - val_acc: 0.1703\n",
            "Epoch 106/250\n",
            "89/89 [==============================] - 26s 281ms/step - loss: 2.3467 - acc: 0.2278 - val_loss: 2.7189 - val_acc: 0.1853\n",
            "Epoch 107/250\n",
            "89/89 [==============================] - 27s 294ms/step - loss: 2.3082 - acc: 0.2434 - val_loss: 2.7133 - val_acc: 0.1789\n",
            "Epoch 108/250\n",
            "89/89 [==============================] - 28s 304ms/step - loss: 2.3667 - acc: 0.2292 - val_loss: 2.7274 - val_acc: 0.1746\n",
            "Epoch 109/250\n",
            "89/89 [==============================] - 27s 298ms/step - loss: 2.3416 - acc: 0.2363 - val_loss: 2.7378 - val_acc: 0.1789\n",
            "Epoch 110/250\n",
            "89/89 [==============================] - 21s 229ms/step - loss: 2.3651 - acc: 0.2271 - val_loss: 2.7342 - val_acc: 0.1767\n",
            "Epoch 111/250\n",
            "89/89 [==============================] - 27s 298ms/step - loss: 2.3430 - acc: 0.2307 - val_loss: 2.7388 - val_acc: 0.1767\n",
            "Epoch 112/250\n",
            "89/89 [==============================] - 23s 248ms/step - loss: 2.3190 - acc: 0.2378 - val_loss: 2.7181 - val_acc: 0.1767\n",
            "Epoch 113/250\n",
            "89/89 [==============================] - 27s 297ms/step - loss: 2.3262 - acc: 0.2328 - val_loss: 2.7332 - val_acc: 0.1810\n",
            "Epoch 114/250\n",
            "89/89 [==============================] - 27s 300ms/step - loss: 2.3378 - acc: 0.2342 - val_loss: 2.7243 - val_acc: 0.1767\n",
            "Epoch 115/250\n",
            "89/89 [==============================] - 27s 302ms/step - loss: 2.3303 - acc: 0.2342 - val_loss: 2.7413 - val_acc: 0.1724\n",
            "Epoch 116/250\n",
            "89/89 [==============================] - 29s 322ms/step - loss: 2.3314 - acc: 0.2434 - val_loss: 2.7216 - val_acc: 0.1832\n",
            "Epoch 117/250\n",
            "89/89 [==============================] - 20s 221ms/step - loss: 2.3466 - acc: 0.2370 - val_loss: 2.7271 - val_acc: 0.1789\n",
            "Epoch 118/250\n",
            "89/89 [==============================] - 27s 289ms/step - loss: 2.3476 - acc: 0.2236 - val_loss: 2.7082 - val_acc: 0.1724\n",
            "Epoch 119/250\n",
            "89/89 [==============================] - 27s 298ms/step - loss: 2.3573 - acc: 0.2335 - val_loss: 2.7132 - val_acc: 0.1703\n",
            "Epoch 120/250\n",
            "89/89 [==============================] - 27s 301ms/step - loss: 2.3528 - acc: 0.2221 - val_loss: 2.7070 - val_acc: 0.1789\n",
            "Epoch 121/250\n",
            "89/89 [==============================] - 27s 301ms/step - loss: 2.3900 - acc: 0.2108 - val_loss: 2.7127 - val_acc: 0.1767\n",
            "Epoch 122/250\n",
            "89/89 [==============================] - 27s 294ms/step - loss: 2.3094 - acc: 0.2378 - val_loss: 2.7328 - val_acc: 0.1767\n",
            "Epoch 123/250\n",
            "89/89 [==============================] - 25s 279ms/step - loss: 2.3222 - acc: 0.2477 - val_loss: 2.6855 - val_acc: 0.1875\n",
            "Epoch 124/250\n",
            "89/89 [==============================] - 26s 286ms/step - loss: 2.3326 - acc: 0.2477 - val_loss: 2.7062 - val_acc: 0.1832\n",
            "Epoch 125/250\n",
            "89/89 [==============================] - 22s 242ms/step - loss: 2.2979 - acc: 0.2378 - val_loss: 2.6895 - val_acc: 0.1789\n",
            "Epoch 126/250\n",
            "89/89 [==============================] - 23s 246ms/step - loss: 2.3592 - acc: 0.2136 - val_loss: 2.6980 - val_acc: 0.1767\n",
            "Epoch 127/250\n",
            "89/89 [==============================] - 27s 295ms/step - loss: 2.3160 - acc: 0.2470 - val_loss: 2.7348 - val_acc: 0.1703\n",
            "Epoch 128/250\n",
            "89/89 [==============================] - 26s 288ms/step - loss: 2.3318 - acc: 0.2427 - val_loss: 2.7298 - val_acc: 0.1767\n",
            "Epoch 129/250\n",
            "89/89 [==============================] - 26s 289ms/step - loss: 2.3128 - acc: 0.2484 - val_loss: 2.7072 - val_acc: 0.1810\n",
            "Epoch 130/250\n",
            "89/89 [==============================] - 27s 301ms/step - loss: 2.2844 - acc: 0.2456 - val_loss: 2.7283 - val_acc: 0.1810\n",
            "Epoch 131/250\n",
            "89/89 [==============================] - 21s 229ms/step - loss: 2.3122 - acc: 0.2328 - val_loss: 2.7522 - val_acc: 0.1659\n",
            "Epoch 132/250\n",
            "89/89 [==============================] - 21s 225ms/step - loss: 2.3324 - acc: 0.2292 - val_loss: 2.7787 - val_acc: 0.1767\n",
            "Epoch 133/250\n",
            "89/89 [==============================] - 27s 293ms/step - loss: 2.3003 - acc: 0.2399 - val_loss: 2.7458 - val_acc: 0.1810\n",
            "Epoch 134/250\n",
            "89/89 [==============================] - 24s 264ms/step - loss: 2.3432 - acc: 0.2328 - val_loss: 2.7310 - val_acc: 0.1724\n",
            "Epoch 135/250\n",
            "89/89 [==============================] - 26s 282ms/step - loss: 2.2919 - acc: 0.2598 - val_loss: 2.7399 - val_acc: 0.1767\n",
            "Epoch 136/250\n",
            "89/89 [==============================] - 27s 297ms/step - loss: 2.3282 - acc: 0.2484 - val_loss: 2.7092 - val_acc: 0.1810\n",
            "Epoch 137/250\n",
            "89/89 [==============================] - 22s 241ms/step - loss: 2.3088 - acc: 0.2271 - val_loss: 2.7345 - val_acc: 0.1789\n",
            "Epoch 138/250\n",
            "89/89 [==============================] - 25s 274ms/step - loss: 2.2958 - acc: 0.2491 - val_loss: 2.7543 - val_acc: 0.1681\n",
            "Epoch 139/250\n",
            "89/89 [==============================] - 26s 283ms/step - loss: 2.3226 - acc: 0.2378 - val_loss: 2.7303 - val_acc: 0.1767\n",
            "Epoch 140/250\n",
            "89/89 [==============================] - 27s 296ms/step - loss: 2.2824 - acc: 0.2498 - val_loss: 2.7568 - val_acc: 0.1724\n",
            "Epoch 141/250\n",
            "89/89 [==============================] - 22s 232ms/step - loss: 2.2957 - acc: 0.2512 - val_loss: 2.7297 - val_acc: 0.1832\n",
            "Epoch 142/250\n",
            "89/89 [==============================] - 26s 278ms/step - loss: 2.3241 - acc: 0.2363 - val_loss: 2.7277 - val_acc: 0.1789\n",
            "Epoch 143/250\n",
            "89/89 [==============================] - 26s 280ms/step - loss: 2.3150 - acc: 0.2278 - val_loss: 2.7198 - val_acc: 0.1810\n",
            "Epoch 144/250\n",
            "89/89 [==============================] - 26s 281ms/step - loss: 2.2998 - acc: 0.2356 - val_loss: 2.7322 - val_acc: 0.1767\n",
            "Epoch 145/250\n",
            "89/89 [==============================] - 26s 279ms/step - loss: 2.3188 - acc: 0.2370 - val_loss: 2.7304 - val_acc: 0.1810\n",
            "Epoch 146/250\n",
            "89/89 [==============================] - 26s 280ms/step - loss: 2.3172 - acc: 0.2527 - val_loss: 2.7468 - val_acc: 0.1724\n",
            "Epoch 147/250\n",
            "89/89 [==============================] - 26s 280ms/step - loss: 2.3200 - acc: 0.2349 - val_loss: 2.7331 - val_acc: 0.1789\n",
            "Epoch 148/250\n",
            "89/89 [==============================] - 26s 279ms/step - loss: 2.3135 - acc: 0.2349 - val_loss: 2.7135 - val_acc: 0.1789\n",
            "Epoch 149/250\n",
            "89/89 [==============================] - 26s 280ms/step - loss: 2.2975 - acc: 0.2463 - val_loss: 2.7547 - val_acc: 0.1703\n",
            "Epoch 150/250\n",
            "89/89 [==============================] - 25s 277ms/step - loss: 2.2988 - acc: 0.2605 - val_loss: 2.7470 - val_acc: 0.1659\n",
            "Epoch 151/250\n",
            "89/89 [==============================] - 26s 277ms/step - loss: 2.3321 - acc: 0.2349 - val_loss: 2.7473 - val_acc: 0.1659\n",
            "Epoch 152/250\n",
            "89/89 [==============================] - 25s 279ms/step - loss: 2.3140 - acc: 0.2378 - val_loss: 2.7393 - val_acc: 0.1789\n",
            "Epoch 153/250\n",
            "89/89 [==============================] - 26s 282ms/step - loss: 2.2710 - acc: 0.2385 - val_loss: 2.7438 - val_acc: 0.1767\n",
            "Epoch 154/250\n",
            "89/89 [==============================] - 25s 279ms/step - loss: 2.3012 - acc: 0.2399 - val_loss: 2.7209 - val_acc: 0.1832\n",
            "Epoch 155/250\n",
            "89/89 [==============================] - 25s 279ms/step - loss: 2.3119 - acc: 0.2392 - val_loss: 2.7201 - val_acc: 0.1746\n",
            "Epoch 156/250\n",
            "89/89 [==============================] - 26s 278ms/step - loss: 2.3295 - acc: 0.2328 - val_loss: 2.7114 - val_acc: 0.1724\n",
            "Epoch 157/250\n",
            "89/89 [==============================] - 22s 246ms/step - loss: 2.3062 - acc: 0.2498 - val_loss: 2.7094 - val_acc: 0.1767\n",
            "Epoch 158/250\n",
            "89/89 [==============================] - 21s 223ms/step - loss: 2.3401 - acc: 0.2378 - val_loss: 2.7354 - val_acc: 0.1703\n",
            "Epoch 159/250\n",
            "89/89 [==============================] - 27s 293ms/step - loss: 2.3127 - acc: 0.2577 - val_loss: 2.7338 - val_acc: 0.1832\n",
            "Epoch 160/250\n",
            "89/89 [==============================] - 26s 282ms/step - loss: 2.3239 - acc: 0.2413 - val_loss: 2.7270 - val_acc: 0.1724\n",
            "Epoch 161/250\n",
            "89/89 [==============================] - 20s 222ms/step - loss: 2.3166 - acc: 0.2463 - val_loss: 2.7287 - val_acc: 0.1789\n",
            "Epoch 162/250\n",
            "89/89 [==============================] - 27s 299ms/step - loss: 2.2919 - acc: 0.2669 - val_loss: 2.7395 - val_acc: 0.1724\n",
            "Epoch 163/250\n",
            "89/89 [==============================] - 27s 300ms/step - loss: 2.2882 - acc: 0.2520 - val_loss: 2.7320 - val_acc: 0.1810\n",
            "Epoch 164/250\n",
            "89/89 [==============================] - 27s 299ms/step - loss: 2.2734 - acc: 0.2576 - val_loss: 2.7287 - val_acc: 0.1832\n",
            "Epoch 165/250\n",
            "89/89 [==============================] - 27s 301ms/step - loss: 2.2809 - acc: 0.2349 - val_loss: 2.7267 - val_acc: 0.1746\n",
            "Epoch 166/250\n",
            "89/89 [==============================] - 26s 288ms/step - loss: 2.3180 - acc: 0.2420 - val_loss: 2.7179 - val_acc: 0.1789\n",
            "Epoch 167/250\n",
            "89/89 [==============================] - 27s 300ms/step - loss: 2.3060 - acc: 0.2427 - val_loss: 2.7267 - val_acc: 0.1832\n",
            "Epoch 168/250\n",
            "89/89 [==============================] - 27s 300ms/step - loss: 2.3298 - acc: 0.2307 - val_loss: 2.7055 - val_acc: 0.1767\n",
            "Epoch 169/250\n",
            "89/89 [==============================] - 26s 285ms/step - loss: 2.2740 - acc: 0.2633 - val_loss: 2.7388 - val_acc: 0.1810\n",
            "Epoch 170/250\n",
            "89/89 [==============================] - 27s 299ms/step - loss: 2.3038 - acc: 0.2378 - val_loss: 2.7339 - val_acc: 0.1832\n",
            "Epoch 171/250\n",
            "89/89 [==============================] - 28s 304ms/step - loss: 2.2918 - acc: 0.2399 - val_loss: 2.7479 - val_acc: 0.1789\n",
            "Epoch 172/250\n",
            "89/89 [==============================] - 29s 318ms/step - loss: 2.2990 - acc: 0.2420 - val_loss: 2.7209 - val_acc: 0.1810\n",
            "Epoch 173/250\n",
            "89/89 [==============================] - 26s 291ms/step - loss: 2.2918 - acc: 0.2392 - val_loss: 2.7334 - val_acc: 0.1724\n",
            "Epoch 174/250\n",
            "89/89 [==============================] - 23s 248ms/step - loss: 2.3127 - acc: 0.2250 - val_loss: 2.7303 - val_acc: 0.1810\n",
            "Epoch 175/250\n",
            "89/89 [==============================] - 27s 304ms/step - loss: 2.3143 - acc: 0.2250 - val_loss: 2.7455 - val_acc: 0.1940\n",
            "Epoch 176/250\n",
            "89/89 [==============================] - 26s 287ms/step - loss: 2.2526 - acc: 0.2548 - val_loss: 2.7391 - val_acc: 0.1767\n",
            "Epoch 177/250\n",
            "89/89 [==============================] - 25s 277ms/step - loss: 2.2992 - acc: 0.2385 - val_loss: 2.7247 - val_acc: 0.1767\n",
            "Epoch 178/250\n",
            "89/89 [==============================] - 21s 226ms/step - loss: 2.2837 - acc: 0.2463 - val_loss: 2.7642 - val_acc: 0.1746\n",
            "Epoch 179/250\n",
            "89/89 [==============================] - 26s 290ms/step - loss: 2.2888 - acc: 0.2569 - val_loss: 2.7428 - val_acc: 0.1810\n",
            "Epoch 180/250\n",
            "89/89 [==============================] - 27s 300ms/step - loss: 2.2751 - acc: 0.2534 - val_loss: 2.7128 - val_acc: 0.1810\n",
            "Epoch 181/250\n",
            "89/89 [==============================] - 26s 296ms/step - loss: 2.2945 - acc: 0.2434 - val_loss: 2.7026 - val_acc: 0.1853\n",
            "Epoch 182/250\n",
            "89/89 [==============================] - 26s 286ms/step - loss: 2.2644 - acc: 0.2654 - val_loss: 2.7118 - val_acc: 0.1789\n",
            "Epoch 183/250\n",
            "89/89 [==============================] - 26s 281ms/step - loss: 2.3227 - acc: 0.2378 - val_loss: 2.7147 - val_acc: 0.1853\n",
            "Epoch 184/250\n",
            "89/89 [==============================] - 21s 223ms/step - loss: 2.2767 - acc: 0.2626 - val_loss: 2.7304 - val_acc: 0.1918\n",
            "Epoch 185/250\n",
            "89/89 [==============================] - 26s 289ms/step - loss: 2.3051 - acc: 0.2491 - val_loss: 2.7264 - val_acc: 0.1789\n",
            "Epoch 186/250\n",
            "89/89 [==============================] - 27s 295ms/step - loss: 2.2797 - acc: 0.2562 - val_loss: 2.7277 - val_acc: 0.1681\n",
            "Epoch 187/250\n",
            "89/89 [==============================] - 26s 282ms/step - loss: 2.3024 - acc: 0.2434 - val_loss: 2.7351 - val_acc: 0.1810\n",
            "Epoch 188/250\n",
            "89/89 [==============================] - 22s 244ms/step - loss: 2.2511 - acc: 0.2569 - val_loss: 2.7140 - val_acc: 0.1810\n",
            "Epoch 189/250\n",
            "89/89 [==============================] - 30s 328ms/step - loss: 2.2886 - acc: 0.2420 - val_loss: 2.7403 - val_acc: 0.1789\n",
            "Epoch 190/250\n",
            "89/89 [==============================] - 26s 287ms/step - loss: 2.2702 - acc: 0.2470 - val_loss: 2.7367 - val_acc: 0.1746\n",
            "Epoch 191/250\n",
            "89/89 [==============================] - 28s 305ms/step - loss: 2.2734 - acc: 0.2555 - val_loss: 2.7261 - val_acc: 0.1767\n",
            "Epoch 192/250\n",
            "89/89 [==============================] - 28s 304ms/step - loss: 2.2235 - acc: 0.2633 - val_loss: 2.7163 - val_acc: 0.1832\n",
            "Epoch 193/250\n",
            "89/89 [==============================] - 27s 299ms/step - loss: 2.3260 - acc: 0.2420 - val_loss: 2.7316 - val_acc: 0.1810\n",
            "Epoch 194/250\n",
            "89/89 [==============================] - 27s 291ms/step - loss: 2.3051 - acc: 0.2335 - val_loss: 2.7333 - val_acc: 0.1746\n",
            "Epoch 195/250\n",
            "89/89 [==============================] - 26s 283ms/step - loss: 2.3031 - acc: 0.2321 - val_loss: 2.7374 - val_acc: 0.1789\n",
            "Epoch 196/250\n",
            "89/89 [==============================] - 26s 281ms/step - loss: 2.3236 - acc: 0.2385 - val_loss: 2.7124 - val_acc: 0.1703\n",
            "Epoch 197/250\n",
            "89/89 [==============================] - 26s 289ms/step - loss: 2.2412 - acc: 0.2683 - val_loss: 2.7018 - val_acc: 0.1746\n",
            "Epoch 198/250\n",
            "89/89 [==============================] - 26s 284ms/step - loss: 2.2801 - acc: 0.2378 - val_loss: 2.7168 - val_acc: 0.1746\n",
            "Epoch 199/250\n",
            "89/89 [==============================] - 27s 300ms/step - loss: 2.3103 - acc: 0.2456 - val_loss: 2.7132 - val_acc: 0.1681\n",
            "Epoch 200/250\n",
            "89/89 [==============================] - 26s 289ms/step - loss: 2.2992 - acc: 0.2356 - val_loss: 2.7233 - val_acc: 0.1767\n",
            "Epoch 201/250\n",
            "89/89 [==============================] - 22s 240ms/step - loss: 2.3202 - acc: 0.2314 - val_loss: 2.7317 - val_acc: 0.1746\n",
            "Epoch 202/250\n",
            "89/89 [==============================] - 27s 301ms/step - loss: 2.2914 - acc: 0.2527 - val_loss: 2.7384 - val_acc: 0.1832\n",
            "Epoch 203/250\n",
            "89/89 [==============================] - 28s 303ms/step - loss: 2.2629 - acc: 0.2576 - val_loss: 2.7371 - val_acc: 0.1810\n",
            "Epoch 204/250\n",
            "89/89 [==============================] - 28s 313ms/step - loss: 2.2633 - acc: 0.2449 - val_loss: 2.7497 - val_acc: 0.1746\n",
            "Epoch 205/250\n",
            "89/89 [==============================] - 26s 289ms/step - loss: 2.3224 - acc: 0.2385 - val_loss: 2.7154 - val_acc: 0.1789\n",
            "Epoch 206/250\n",
            "89/89 [==============================] - 28s 306ms/step - loss: 2.2787 - acc: 0.2484 - val_loss: 2.7442 - val_acc: 0.1767\n",
            "Epoch 207/250\n",
            "89/89 [==============================] - 26s 283ms/step - loss: 2.2932 - acc: 0.2229 - val_loss: 2.7356 - val_acc: 0.1832\n",
            "Epoch 208/250\n",
            "89/89 [==============================] - 25s 278ms/step - loss: 2.2956 - acc: 0.2356 - val_loss: 2.7304 - val_acc: 0.1810\n",
            "Epoch 209/250\n",
            "89/89 [==============================] - 29s 319ms/step - loss: 2.2721 - acc: 0.2633 - val_loss: 2.7289 - val_acc: 0.1767\n",
            "Epoch 210/250\n",
            "89/89 [==============================] - 27s 296ms/step - loss: 2.2945 - acc: 0.2456 - val_loss: 2.7431 - val_acc: 0.1789\n",
            "Epoch 211/250\n",
            "89/89 [==============================] - 26s 287ms/step - loss: 2.3195 - acc: 0.2427 - val_loss: 2.7528 - val_acc: 0.1875\n",
            "Epoch 212/250\n",
            "89/89 [==============================] - 26s 280ms/step - loss: 2.2130 - acc: 0.2569 - val_loss: 2.7389 - val_acc: 0.1853\n",
            "Epoch 213/250\n",
            "89/89 [==============================] - 26s 281ms/step - loss: 2.3148 - acc: 0.2335 - val_loss: 2.7287 - val_acc: 0.1789\n",
            "Epoch 214/250\n",
            "89/89 [==============================] - 22s 237ms/step - loss: 2.3102 - acc: 0.2456 - val_loss: 2.7342 - val_acc: 0.1810\n",
            "Epoch 215/250\n",
            "89/89 [==============================] - 28s 305ms/step - loss: 2.2830 - acc: 0.2427 - val_loss: 2.7681 - val_acc: 0.1767\n",
            "Epoch 216/250\n",
            "89/89 [==============================] - 28s 302ms/step - loss: 2.2558 - acc: 0.2520 - val_loss: 2.7283 - val_acc: 0.1832\n",
            "Epoch 217/250\n",
            "89/89 [==============================] - 27s 300ms/step - loss: 2.2932 - acc: 0.2363 - val_loss: 2.7276 - val_acc: 0.1832\n",
            "Epoch 218/250\n",
            "89/89 [==============================] - 27s 292ms/step - loss: 2.2808 - acc: 0.2491 - val_loss: 2.7204 - val_acc: 0.1897\n",
            "Epoch 219/250\n",
            "89/89 [==============================] - 23s 248ms/step - loss: 2.2769 - acc: 0.2590 - val_loss: 2.7285 - val_acc: 0.1767\n",
            "Epoch 220/250\n",
            "89/89 [==============================] - 28s 304ms/step - loss: 2.2706 - acc: 0.2456 - val_loss: 2.7424 - val_acc: 0.1746\n",
            "Epoch 221/250\n",
            "89/89 [==============================] - 29s 322ms/step - loss: 2.2577 - acc: 0.2619 - val_loss: 2.7129 - val_acc: 0.1961\n",
            "Epoch 222/250\n",
            "89/89 [==============================] - 27s 301ms/step - loss: 2.2882 - acc: 0.2505 - val_loss: 2.7250 - val_acc: 0.1789\n",
            "Epoch 223/250\n",
            "89/89 [==============================] - 27s 301ms/step - loss: 2.3121 - acc: 0.2356 - val_loss: 2.7386 - val_acc: 0.1810\n",
            "Epoch 224/250\n",
            "89/89 [==============================] - 28s 312ms/step - loss: 2.2870 - acc: 0.2463 - val_loss: 2.7305 - val_acc: 0.1789\n",
            "Epoch 225/250\n",
            "89/89 [==============================] - 27s 292ms/step - loss: 2.2715 - acc: 0.2512 - val_loss: 2.7033 - val_acc: 0.1767\n",
            "Epoch 226/250\n",
            "89/89 [==============================] - 27s 295ms/step - loss: 2.2565 - acc: 0.2562 - val_loss: 2.7084 - val_acc: 0.1853\n",
            "Epoch 227/250\n",
            "89/89 [==============================] - 29s 319ms/step - loss: 2.2952 - acc: 0.2427 - val_loss: 2.7237 - val_acc: 0.1789\n",
            "Epoch 228/250\n",
            "89/89 [==============================] - 28s 308ms/step - loss: 2.3142 - acc: 0.2392 - val_loss: 2.7151 - val_acc: 0.1703\n",
            "Epoch 229/250\n",
            "89/89 [==============================] - 27s 296ms/step - loss: 2.3175 - acc: 0.2427 - val_loss: 2.7253 - val_acc: 0.1746\n",
            "Epoch 230/250\n",
            "89/89 [==============================] - 26s 289ms/step - loss: 2.3338 - acc: 0.2321 - val_loss: 2.7125 - val_acc: 0.1810\n",
            "Epoch 231/250\n",
            "89/89 [==============================] - 28s 307ms/step - loss: 2.2426 - acc: 0.2484 - val_loss: 2.6942 - val_acc: 0.1832\n",
            "Epoch 232/250\n",
            "89/89 [==============================] - 26s 290ms/step - loss: 2.2622 - acc: 0.2534 - val_loss: 2.7412 - val_acc: 0.1767\n",
            "Epoch 233/250\n",
            "89/89 [==============================] - 21s 227ms/step - loss: 2.3123 - acc: 0.2463 - val_loss: 2.7123 - val_acc: 0.1746\n",
            "Epoch 234/250\n",
            "89/89 [==============================] - 28s 296ms/step - loss: 2.2609 - acc: 0.2470 - val_loss: 2.7115 - val_acc: 0.1746\n",
            "Epoch 235/250\n",
            "89/89 [==============================] - 27s 288ms/step - loss: 2.2542 - acc: 0.2598 - val_loss: 2.7433 - val_acc: 0.1746\n",
            "Epoch 236/250\n",
            "89/89 [==============================] - 27s 294ms/step - loss: 2.2035 - acc: 0.2640 - val_loss: 2.7434 - val_acc: 0.1810\n",
            "Epoch 237/250\n",
            "89/89 [==============================] - 27s 285ms/step - loss: 2.3091 - acc: 0.2647 - val_loss: 2.7482 - val_acc: 0.1832\n",
            "Epoch 238/250\n",
            "89/89 [==============================] - 27s 285ms/step - loss: 2.2371 - acc: 0.2548 - val_loss: 2.7419 - val_acc: 0.1832\n",
            "Epoch 239/250\n",
            "89/89 [==============================] - 22s 234ms/step - loss: 2.2501 - acc: 0.2576 - val_loss: 2.7336 - val_acc: 0.1810\n",
            "Epoch 240/250\n",
            "89/89 [==============================] - 27s 299ms/step - loss: 2.2485 - acc: 0.2647 - val_loss: 2.7254 - val_acc: 0.1810\n",
            "Epoch 241/250\n",
            "89/89 [==============================] - 22s 234ms/step - loss: 2.2848 - acc: 0.2285 - val_loss: 2.7453 - val_acc: 0.1746\n",
            "Epoch 242/250\n",
            "89/89 [==============================] - 27s 287ms/step - loss: 2.3028 - acc: 0.2413 - val_loss: 2.7189 - val_acc: 0.1810\n",
            "Epoch 243/250\n",
            "89/89 [==============================] - 26s 284ms/step - loss: 2.3191 - acc: 0.2335 - val_loss: 2.7346 - val_acc: 0.1767\n",
            "Epoch 244/250\n",
            "89/89 [==============================] - 26s 286ms/step - loss: 2.2571 - acc: 0.2647 - val_loss: 2.7593 - val_acc: 0.1789\n",
            "Epoch 245/250\n",
            "89/89 [==============================] - 27s 287ms/step - loss: 2.2736 - acc: 0.2413 - val_loss: 2.7484 - val_acc: 0.1724\n",
            "Epoch 246/250\n",
            "89/89 [==============================] - 27s 287ms/step - loss: 2.2706 - acc: 0.2491 - val_loss: 2.7328 - val_acc: 0.1810\n",
            "Epoch 247/250\n",
            "89/89 [==============================] - 26s 286ms/step - loss: 2.2907 - acc: 0.2363 - val_loss: 2.7502 - val_acc: 0.1789\n",
            "Epoch 248/250\n",
            "89/89 [==============================] - 26s 284ms/step - loss: 2.3059 - acc: 0.2314 - val_loss: 2.7423 - val_acc: 0.1746\n",
            "Epoch 249/250\n",
            "89/89 [==============================] - 27s 300ms/step - loss: 2.2735 - acc: 0.2527 - val_loss: 2.7212 - val_acc: 0.1746\n",
            "Epoch 250/250\n",
            "89/89 [==============================] - 28s 305ms/step - loss: 2.2380 - acc: 0.2633 - val_loss: 2.7528 - val_acc: 0.1616\n"
          ]
        }
      ]
    },
    {
      "cell_type": "code",
      "source": [
        "acc = history.history['acc']\n",
        "val_acc = history.history['val_acc']\n",
        "loss = history.history['loss']\n",
        "val_loss = history.history['val_loss']\n",
        "\n",
        "epochs_x = range(len(acc))\n",
        "\n",
        "plt.plot(epochs_x, acc, 'mo', label='Training acc')\n",
        "plt.plot(epochs_x, val_acc, 'k', label='Validation acc')\n",
        "plt.title('Training and validation accuracy')\n",
        "plt.legend()\n",
        "\n",
        "plt.figure()\n",
        "\n",
        "plt.plot(epochs_x, loss, 'mo', label='Training loss')\n",
        "plt.plot(epochs_x, val_loss, 'k', label='Validation loss')\n",
        "plt.title('Training and validation loss')\n",
        "plt.legend()\n",
        "\n",
        "plt.show()"
      ],
      "metadata": {
        "id": "kwylTJpTP5XI",
        "colab": {
          "base_uri": "https://localhost:8080/",
          "height": 545
        },
        "outputId": "5b3f2cfc-65c7-405e-94fe-760d41b1526f"
      },
      "execution_count": 13,
      "outputs": [
        {
          "output_type": "display_data",
          "data": {
            "text/plain": [
              "<Figure size 432x288 with 1 Axes>"
            ],
            "image/png": "[encoded data removed]"
          },
          "metadata": {
            "needs_background": "light"
          }
        },
        {
          "output_type": "display_data",
          "data": {
            "text/plain": [
              "<Figure size 432x288 with 1 Axes>"
            ],
            "image/png": "[encoded data removed]"
          },
          "metadata": {
            "needs_background": "light"
          }
        }
      ]
    },
    {
      "cell_type": "markdown",
      "source": [
        "#Download the model"
      ],
      "metadata": {
        "id": "lD-vKaoHQAFd"
      }
    },
    {
      "cell_type": "code",
      "source": [
        "os.makedirs('/content/drive/My Drive/cut_panoramic/Model', exist_ok=True)\n",
        "model.save('/content/drive/My Drive/cut_panoramic/Model/Classification/Female/F3_Train_Freeze.h5')"
      ],
      "metadata": {
        "id": "74dL7-HLP_Sh"
      },
      "execution_count": 14,
      "outputs": []
    },
    {
      "cell_type": "code",
      "source": [
        "# from google.colab import files\n",
        "# files.download('/content/drive/My Drive/cut_panoramic/Model/22_รอบที่2_Flimpano_Female125_250.h5')"
      ],
      "metadata": {
        "id": "qcPW-brHQDpc"
      },
      "execution_count": 15,
      "outputs": []
    }
  ]
}