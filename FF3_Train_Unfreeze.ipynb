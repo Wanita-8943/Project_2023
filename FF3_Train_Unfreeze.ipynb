{
  "nbformat": 4,
  "nbformat_minor": 0,
  "metadata": {
    "colab": {
      "provenance": [],
      "machine_shape": "hm",
      "include_colab_link": true
    },
    "kernelspec": {
      "name": "python3",
      "display_name": "Python 3"
    },
    "language_info": {
      "name": "python"
    },
    "accelerator": "GPU",
    "gpuClass": "standard"
  },
  "cells": [
    {
      "cell_type": "markdown",
      "metadata": {
        "id": "view-in-github",
        "colab_type": "text"
      },
      "source": [
        "<a href=\"https://colab.research.google.com/github/Wanita-8943/Project_2023/blob/main/FF3_Train_Unfreeze.ipynb\" target=\"_parent\"><img src=\"https://colab.research.google.com/assets/colab-badge.svg\" alt=\"Open In Colab\"/></a>"
      ]
    },
    {
      "cell_type": "code",
      "execution_count": 1,
      "metadata": {
        "id": "KKSs7cyoPHcD"
      },
      "outputs": [],
      "source": [
        "import pandas as pd\n",
        "import shutil"
      ]
    },
    {
      "cell_type": "code",
      "source": [
        "from google.colab import drive\n",
        "drive.mount('/content/drive')"
      ],
      "metadata": {
        "colab": {
          "base_uri": "https://localhost:8080/"
        },
        "id": "7LoeZxmVPMxp",
        "outputId": "b2ed9276-7a36-4ce2-b7e7-277fd0afc6c1"
      },
      "execution_count": 2,
      "outputs": [
        {
          "output_type": "stream",
          "name": "stdout",
          "text": [
            "Mounted at /content/drive\n"
          ]
        }
      ]
    },
    {
      "cell_type": "code",
      "source": [
        "from tensorflow.keras import models\n",
        "from tensorflow.keras import layers\n",
        "from tensorflow.keras import optimizers\n",
        "import os\n",
        "import glob\n",
        "import shutil\n",
        "import sys\n",
        "import numpy as np\n",
        "from skimage.io import imread\n",
        "import matplotlib.pyplot as plt\n",
        "from IPython.display import Image\n",
        "%matplotlib inline"
      ],
      "metadata": {
        "id": "1pX9g1HxPM2f"
      },
      "execution_count": 3,
      "outputs": []
    },
    {
      "cell_type": "code",
      "source": [
        "batch_size = 16\n",
        "width = 150\n",
        "height = 150\n",
        "epochs = 250\n",
        "NUM_TRAIN = 1425\n",
        "NUM_TEST = 475\n",
        "dropout_rate = 0.2\n",
        "input_shape = (height, width, 3)"
      ],
      "metadata": {
        "id": "eSFtvGyvPM6O"
      },
      "execution_count": 4,
      "outputs": []
    },
    {
      "cell_type": "code",
      "source": [
        "#ดึงข้อมูลใน Github มาใช้\n",
        "import os\n",
        "%cd /content\n",
        "if not os.path.isdir(\"efficientnet_keras_transfer_learning\"):\n",
        " !git clone https://github.com/Wanita-8943/efficientnet_keras_transfer_learning\n",
        "%cd efficientnet_keras_transfer_learning/"
      ],
      "metadata": {
        "colab": {
          "base_uri": "https://localhost:8080/"
        },
        "id": "lb4K4CsMPNAW",
        "outputId": "3c78bfa0-4e60-4826-d498-65320eb13992"
      },
      "execution_count": 5,
      "outputs": [
        {
          "output_type": "stream",
          "name": "stdout",
          "text": [
            "/content\n",
            "Cloning into 'efficientnet_keras_transfer_learning'...\n",
            "remote: Enumerating objects: 837, done.\u001b[K\n",
            "remote: Total 837 (delta 0), reused 0 (delta 0), pack-reused 837\u001b[K\n",
            "Receiving objects: 100% (837/837), 13.85 MiB | 35.83 MiB/s, done.\n",
            "Resolving deltas: 100% (497/497), done.\n",
            "/content/efficientnet_keras_transfer_learning\n"
          ]
        }
      ]
    },
    {
      "cell_type": "code",
      "source": [
        "# Options: EfficientNetB0, EfficientNetB1, EfficientNetB2, EfficientNetB3\n",
        "# Higher the number, the more complex the model is.\n",
        "from efficientnet import EfficientNetB0 as Net\n",
        "from efficientnet import center_crop_and_resize, preprocess_input"
      ],
      "metadata": {
        "id": "eyBg0dLKPND3"
      },
      "execution_count": 6,
      "outputs": []
    },
    {
      "cell_type": "code",
      "source": [
        "# loading pretrained conv base model\n",
        "# โหลดโมเดล มาโดยตัด output ของโมเดลออก เเต่ยังใช้ input อันเดิม\n",
        "# เเละโหลด weight ของโมเดล มาด้วยที่ชื่อว่า imagenet\n",
        "conv_base = Net(weights='imagenet', include_top=False, input_shape=input_shape)"
      ],
      "metadata": {
        "colab": {
          "base_uri": "https://localhost:8080/"
        },
        "id": "230z_Q-Jik-V",
        "outputId": "ced8620a-afe4-4e32-ba19-f02c19145784"
      },
      "execution_count": 7,
      "outputs": [
        {
          "output_type": "stream",
          "name": "stderr",
          "text": [
            "WARNING:tensorflow:From /usr/local/lib/python3.8/dist-packages/tensorflow/python/autograph/pyct/static_analysis/liveness.py:83: Analyzer.lamba_check (from tensorflow.python.autograph.pyct.static_analysis.liveness) is deprecated and will be removed after 2023-09-23.\n",
            "Instructions for updating:\n",
            "Lambda fuctions will be no more assumed to be used in the statement where they are used, or at least in the same block. https://github.com/tensorflow/tensorflow/issues/56089\n"
          ]
        },
        {
          "output_type": "stream",
          "name": "stdout",
          "text": [
            "Downloading data from https://github.com/qubvel/efficientnet/releases/download/v0.0.1/efficientnet-b0_imagenet_1000_notop.h5\n",
            "16717576/16717576 [==============================] - 0s 0us/step\n"
          ]
        }
      ]
    },
    {
      "cell_type": "code",
      "source": [
        "base_dir = '/content/drive/MyDrive/TVT_Female125'\n",
        "os.makedirs(base_dir, exist_ok=True)\n",
        "\n",
        "# Directories for our training,\n",
        "# validation and test splits\n",
        "train_dir = os.path.join(base_dir, 'train')\n",
        "os.makedirs(train_dir, exist_ok=True)\n",
        "validation_dir = os.path.join(base_dir, 'validation')\n",
        "os.makedirs(validation_dir, exist_ok=True)\n",
        "test_dir = os.path.join(base_dir, 'test')\n",
        "os.makedirs(test_dir, exist_ok=True)"
      ],
      "metadata": {
        "id": "Jwpq_-KvPef8"
      },
      "execution_count": 8,
      "outputs": []
    },
    {
      "cell_type": "markdown",
      "source": [
        "#load model"
      ],
      "metadata": {
        "id": "od-ZSNm5PoGy"
      }
    },
    {
      "cell_type": "code",
      "source": [
        "import sys\n",
        "sys.path.append('/content/drive/MyDrive/cut_panoramic/Model/Classification/Female/FF2_Train_Freeze.h5')\n",
        "\n",
        "from efficientnet.layers import Swish, DropConnect\n",
        "from efficientnet.model import ConvKernalInitializer\n",
        "from tensorflow.keras.utils import get_custom_objects\n",
        "\n",
        "get_custom_objects().update({\n",
        "    'ConvKernalInitializer': ConvKernalInitializer,\n",
        "    'Swish': Swish,\n",
        "    'DropConnect':DropConnect\n",
        "})"
      ],
      "metadata": {
        "id": "n5iPL5MNPkhE"
      },
      "execution_count": 9,
      "outputs": []
    },
    {
      "cell_type": "code",
      "source": [
        "#load model \n",
        "from tensorflow.keras.models import load_model\n",
        "model = load_model('/content/drive/MyDrive/cut_panoramic/Model/Classification/Female/FF2_Train_Freeze.h5')\n",
        "height = width = model.input_shape[1]"
      ],
      "metadata": {
        "id": "plYz49xMPkly"
      },
      "execution_count": 10,
      "outputs": []
    },
    {
      "cell_type": "code",
      "source": [
        "model.summary()"
      ],
      "metadata": {
        "colab": {
          "base_uri": "https://localhost:8080/"
        },
        "id": "z6IOPBflFbvc",
        "outputId": "fddb188d-29d6-4bb5-8bc6-165c644f0d5d"
      },
      "execution_count": 11,
      "outputs": [
        {
          "output_type": "stream",
          "name": "stdout",
          "text": [
            "Model: \"sequential_2\"\n",
            "_________________________________________________________________\n",
            " Layer (type)                Output Shape              Param #   \n",
            "=================================================================\n",
            " efficientnet-b0 (Functional  (None, 5, 5, 1280)       4049564   \n",
            " )                                                               \n",
            "                                                                 \n",
            " gap (GlobalMaxPooling2D)    (None, 1280)              0         \n",
            "                                                                 \n",
            " dropout_out (Dropout)       (None, 1280)              0         \n",
            "                                                                 \n",
            " fc_out (Dense)              (None, 19)                24339     \n",
            "                                                                 \n",
            "=================================================================\n",
            "Total params: 4,073,903\n",
            "Trainable params: 24,339\n",
            "Non-trainable params: 4,049,564\n",
            "_________________________________________________________________\n"
          ]
        }
      ]
    },
    {
      "cell_type": "code",
      "source": [
        "# Train ด้วย ImageDataGenerator ของ Keras ซึ่งจะเพิ่มข้อมูลเสริมระหว่างการฝึกเพื่อลดโอกาสเกิด overfitting\n",
        "#overfitting เกิดจากข้อมูลที่ซับซ้อนกันเกินไป\n",
        "from tensorflow.keras.preprocessing.image import ImageDataGenerator\n",
        "\n",
        "train_datagen = ImageDataGenerator(\n",
        "      rescale=1./255, #โมเดลส่วนใหญ่ต้องใช้ RGB ในช่วง 0–1\n",
        "      rotation_range=40,\n",
        "      width_shift_range=0.2,\n",
        "      height_shift_range=0.2,\n",
        "      shear_range=0.2,\n",
        "      zoom_range=0.2,\n",
        "      horizontal_flip=True,\n",
        "      fill_mode='nearest')\n",
        "\n",
        "# Note that the validation data should not be augmented!\n",
        "test_datagen = ImageDataGenerator(rescale=1./255)\n",
        "\n",
        "train_generator = train_datagen.flow_from_directory(\n",
        "        # This is the target directory #ไดเรกเป้าหมาย\n",
        "        train_dir,\n",
        "        # รูปภาพทั้งหมดจะถูกปรับขนาดตามความสูงและความกว้างของเป้าหมาย\n",
        "        target_size=(height, width),\n",
        "        batch_size=batch_size,\n",
        "        # Since we use categorical_crossentropy loss, we need categorical labels\n",
        "        #เนื่องจากเราใช้ categorical_crossentropy loss เราจึงต้องมีป้ายกำกับตามหมวดหมู่\n",
        "        class_mode='categorical')\n",
        "\n",
        "validation_generator = test_datagen.flow_from_directory( #การดึงภาพจาก Directory มาเข้าโมเดล \n",
        "        validation_dir,\n",
        "        target_size=(height, width),\n",
        "        batch_size=batch_size,\n",
        "        class_mode='categorical')"
      ],
      "metadata": {
        "colab": {
          "base_uri": "https://localhost:8080/"
        },
        "id": "KBMZbdr2Pgw4",
        "outputId": "14921806-2853-4f0a-b742-82458b93e903"
      },
      "execution_count": 12,
      "outputs": [
        {
          "output_type": "stream",
          "name": "stdout",
          "text": [
            "Found 1425 images belonging to 19 classes.\n",
            "Found 475 images belonging to 19 classes.\n"
          ]
        }
      ]
    },
    {
      "cell_type": "code",
      "source": [
        "# multiply_16\n",
        "# set 'multiply_16' and following layers trainable\n",
        "model.trainable = True\n",
        "\n",
        "set_trainable = False\n",
        "for layer in conv_base.layers:\n",
        "    if layer.name == 'multiply_16':\n",
        "        set_trainable = True\n",
        "    if set_trainable:\n",
        "        layer.trainable = True\n",
        "    else:\n",
        "        layer.trainable = False  \n",
        "     "
      ],
      "metadata": {
        "id": "aetuqyt6in4t"
      },
      "execution_count": 13,
      "outputs": []
    },
    {
      "cell_type": "code",
      "source": [
        "model.summary()"
      ],
      "metadata": {
        "colab": {
          "base_uri": "https://localhost:8080/"
        },
        "id": "XdKOYMYgisqd",
        "outputId": "8b9c8f3f-673f-48b0-9df8-0680b8d45f4b"
      },
      "execution_count": 14,
      "outputs": [
        {
          "output_type": "stream",
          "name": "stdout",
          "text": [
            "Model: \"sequential_2\"\n",
            "_________________________________________________________________\n",
            " Layer (type)                Output Shape              Param #   \n",
            "=================================================================\n",
            " efficientnet-b0 (Functional  (None, 5, 5, 1280)       4049564   \n",
            " )                                                               \n",
            "                                                                 \n",
            " gap (GlobalMaxPooling2D)    (None, 1280)              0         \n",
            "                                                                 \n",
            " dropout_out (Dropout)       (None, 1280)              0         \n",
            "                                                                 \n",
            " fc_out (Dense)              (None, 19)                24339     \n",
            "                                                                 \n",
            "=================================================================\n",
            "Total params: 4,073,903\n",
            "Trainable params: 4,031,887\n",
            "Non-trainable params: 42,016\n",
            "_________________________________________________________________\n"
          ]
        }
      ]
    },
    {
      "cell_type": "code",
      "source": [
        "history = model.fit_generator(\n",
        "      train_generator,\n",
        "      steps_per_epoch= NUM_TRAIN //batch_size,\n",
        "      epochs=epochs,\n",
        "      validation_data=validation_generator,\n",
        "      validation_steps= NUM_TEST //batch_size,\n",
        "      verbose=1,\n",
        "      use_multiprocessing=True,\n",
        "      workers=4)"
      ],
      "metadata": {
        "colab": {
          "base_uri": "https://localhost:8080/"
        },
        "id": "C9Cf1dwyP1PD",
        "outputId": "683242a4-e7ee-44b0-bb02-83425f63b298"
      },
      "execution_count": 15,
      "outputs": [
        {
          "output_type": "stream",
          "name": "stderr",
          "text": [
            "<ipython-input-15-caa7b37242a8>:1: UserWarning: `Model.fit_generator` is deprecated and will be removed in a future version. Please use `Model.fit`, which supports generators.\n",
            "  history = model.fit_generator(\n"
          ]
        },
        {
          "output_type": "stream",
          "name": "stdout",
          "text": [
            "Epoch 1/250\n",
            "89/89 [==============================] - 92s 881ms/step - loss: 2.4886 - acc: 0.2051 - val_loss: 2.7533 - val_acc: 0.1853\n",
            "Epoch 2/250\n",
            "89/89 [==============================] - 11s 114ms/step - loss: 2.4164 - acc: 0.2087 - val_loss: 2.7485 - val_acc: 0.1918\n",
            "Epoch 3/250\n",
            "89/89 [==============================] - 16s 172ms/step - loss: 2.4236 - acc: 0.2278 - val_loss: 2.7471 - val_acc: 0.1897\n",
            "Epoch 4/250\n",
            "89/89 [==============================] - 16s 171ms/step - loss: 2.4177 - acc: 0.2179 - val_loss: 2.7546 - val_acc: 0.1940\n",
            "Epoch 5/250\n",
            "89/89 [==============================] - 11s 115ms/step - loss: 2.4468 - acc: 0.2143 - val_loss: 2.7472 - val_acc: 0.1940\n",
            "Epoch 6/250\n",
            "89/89 [==============================] - 16s 172ms/step - loss: 2.4147 - acc: 0.2186 - val_loss: 2.7439 - val_acc: 0.2069\n",
            "Epoch 7/250\n",
            "89/89 [==============================] - 16s 174ms/step - loss: 2.4126 - acc: 0.2335 - val_loss: 2.7525 - val_acc: 0.1940\n",
            "Epoch 8/250\n",
            "89/89 [==============================] - 11s 117ms/step - loss: 2.3580 - acc: 0.2236 - val_loss: 2.7627 - val_acc: 0.1897\n",
            "Epoch 9/250\n",
            "89/89 [==============================] - 16s 172ms/step - loss: 2.3662 - acc: 0.2264 - val_loss: 2.7403 - val_acc: 0.1897\n",
            "Epoch 10/250\n",
            "89/89 [==============================] - 16s 173ms/step - loss: 2.3457 - acc: 0.2633 - val_loss: 2.7547 - val_acc: 0.1918\n",
            "Epoch 11/250\n",
            "89/89 [==============================] - 15s 167ms/step - loss: 2.4464 - acc: 0.2023 - val_loss: 2.7233 - val_acc: 0.1897\n",
            "Epoch 12/250\n",
            "89/89 [==============================] - 14s 150ms/step - loss: 2.3636 - acc: 0.2491 - val_loss: 2.7204 - val_acc: 0.1983\n",
            "Epoch 13/250\n",
            "89/89 [==============================] - 16s 172ms/step - loss: 2.3642 - acc: 0.2427 - val_loss: 2.7226 - val_acc: 0.2004\n",
            "Epoch 14/250\n",
            "89/89 [==============================] - 16s 175ms/step - loss: 2.3679 - acc: 0.2406 - val_loss: 2.7327 - val_acc: 0.1918\n",
            "Epoch 15/250\n",
            "89/89 [==============================] - 16s 174ms/step - loss: 2.3487 - acc: 0.2321 - val_loss: 2.7482 - val_acc: 0.1789\n",
            "Epoch 16/250\n",
            "89/89 [==============================] - 15s 165ms/step - loss: 2.3530 - acc: 0.2264 - val_loss: 2.7289 - val_acc: 0.1983\n",
            "Epoch 17/250\n",
            "89/89 [==============================] - 16s 170ms/step - loss: 2.3791 - acc: 0.2292 - val_loss: 2.7434 - val_acc: 0.1897\n",
            "Epoch 18/250\n",
            "89/89 [==============================] - 16s 174ms/step - loss: 2.3887 - acc: 0.2321 - val_loss: 2.7088 - val_acc: 0.1940\n",
            "Epoch 19/250\n",
            "89/89 [==============================] - 16s 174ms/step - loss: 2.3830 - acc: 0.2335 - val_loss: 2.7275 - val_acc: 0.1940\n",
            "Epoch 20/250\n",
            "89/89 [==============================] - 16s 174ms/step - loss: 2.3606 - acc: 0.2179 - val_loss: 2.7436 - val_acc: 0.1875\n",
            "Epoch 21/250\n",
            "89/89 [==============================] - 16s 168ms/step - loss: 2.3833 - acc: 0.2328 - val_loss: 2.7405 - val_acc: 0.1918\n",
            "Epoch 22/250\n",
            "89/89 [==============================] - 10s 111ms/step - loss: 2.3732 - acc: 0.2186 - val_loss: 2.7749 - val_acc: 0.1832\n",
            "Epoch 23/250\n",
            "89/89 [==============================] - 16s 168ms/step - loss: 2.3736 - acc: 0.2278 - val_loss: 2.7214 - val_acc: 0.1875\n",
            "Epoch 24/250\n",
            "89/89 [==============================] - 16s 170ms/step - loss: 2.4008 - acc: 0.2300 - val_loss: 2.7552 - val_acc: 0.1832\n",
            "Epoch 25/250\n",
            "89/89 [==============================] - 11s 119ms/step - loss: 2.4231 - acc: 0.2214 - val_loss: 2.7446 - val_acc: 0.1940\n",
            "Epoch 26/250\n",
            "89/89 [==============================] - 16s 172ms/step - loss: 2.3685 - acc: 0.2271 - val_loss: 2.7374 - val_acc: 0.1940\n",
            "Epoch 27/250\n",
            "89/89 [==============================] - 16s 176ms/step - loss: 2.3515 - acc: 0.2278 - val_loss: 2.7346 - val_acc: 0.1875\n",
            "Epoch 28/250\n",
            "89/89 [==============================] - 16s 170ms/step - loss: 2.3588 - acc: 0.2413 - val_loss: 2.7472 - val_acc: 0.1983\n",
            "Epoch 29/250\n",
            "89/89 [==============================] - 16s 174ms/step - loss: 2.3217 - acc: 0.2449 - val_loss: 2.6966 - val_acc: 0.1897\n",
            "Epoch 30/250\n",
            "89/89 [==============================] - 16s 171ms/step - loss: 2.4129 - acc: 0.2115 - val_loss: 2.7244 - val_acc: 0.1897\n",
            "Epoch 31/250\n",
            "89/89 [==============================] - 16s 171ms/step - loss: 2.4437 - acc: 0.2122 - val_loss: 2.7060 - val_acc: 0.1897\n",
            "Epoch 32/250\n",
            "89/89 [==============================] - 16s 175ms/step - loss: 2.3639 - acc: 0.2406 - val_loss: 2.7294 - val_acc: 0.1832\n",
            "Epoch 33/250\n",
            "89/89 [==============================] - 16s 176ms/step - loss: 2.3788 - acc: 0.2243 - val_loss: 2.7298 - val_acc: 0.1875\n",
            "Epoch 34/250\n",
            "89/89 [==============================] - 11s 119ms/step - loss: 2.3685 - acc: 0.2370 - val_loss: 2.7360 - val_acc: 0.1810\n",
            "Epoch 35/250\n",
            "89/89 [==============================] - 16s 174ms/step - loss: 2.3397 - acc: 0.2342 - val_loss: 2.7173 - val_acc: 0.1853\n",
            "Epoch 36/250\n",
            "89/89 [==============================] - 16s 174ms/step - loss: 2.3797 - acc: 0.2186 - val_loss: 2.7396 - val_acc: 0.1897\n",
            "Epoch 37/250\n",
            "89/89 [==============================] - 16s 170ms/step - loss: 2.3429 - acc: 0.2264 - val_loss: 2.7773 - val_acc: 0.1853\n",
            "Epoch 38/250\n",
            "89/89 [==============================] - 15s 166ms/step - loss: 2.3453 - acc: 0.2342 - val_loss: 2.7418 - val_acc: 0.1853\n",
            "Epoch 39/250\n",
            "89/89 [==============================] - 16s 172ms/step - loss: 2.3887 - acc: 0.2165 - val_loss: 2.7640 - val_acc: 0.1897\n",
            "Epoch 40/250\n",
            "89/89 [==============================] - 16s 174ms/step - loss: 2.3981 - acc: 0.2292 - val_loss: 2.7352 - val_acc: 0.1875\n",
            "Epoch 41/250\n",
            "89/89 [==============================] - 15s 167ms/step - loss: 2.3495 - acc: 0.2385 - val_loss: 2.7427 - val_acc: 0.1961\n",
            "Epoch 42/250\n",
            "89/89 [==============================] - 15s 168ms/step - loss: 2.3476 - acc: 0.2278 - val_loss: 2.7668 - val_acc: 0.1832\n",
            "Epoch 43/250\n",
            "89/89 [==============================] - 16s 171ms/step - loss: 2.4240 - acc: 0.2264 - val_loss: 2.7476 - val_acc: 0.1875\n",
            "Epoch 44/250\n",
            "89/89 [==============================] - 16s 176ms/step - loss: 2.3620 - acc: 0.2321 - val_loss: 2.7711 - val_acc: 0.1746\n",
            "Epoch 45/250\n",
            "89/89 [==============================] - 16s 177ms/step - loss: 2.3772 - acc: 0.2186 - val_loss: 2.7232 - val_acc: 0.1897\n",
            "Epoch 46/250\n",
            "89/89 [==============================] - 16s 171ms/step - loss: 2.3462 - acc: 0.2292 - val_loss: 2.7544 - val_acc: 0.1789\n",
            "Epoch 47/250\n",
            "89/89 [==============================] - 16s 171ms/step - loss: 2.3740 - acc: 0.2271 - val_loss: 2.7809 - val_acc: 0.1789\n",
            "Epoch 48/250\n",
            "89/89 [==============================] - 16s 173ms/step - loss: 2.3852 - acc: 0.2285 - val_loss: 2.7638 - val_acc: 0.1875\n",
            "Epoch 49/250\n",
            "89/89 [==============================] - 11s 116ms/step - loss: 2.3499 - acc: 0.2342 - val_loss: 2.7383 - val_acc: 0.1832\n",
            "Epoch 50/250\n",
            "89/89 [==============================] - 16s 174ms/step - loss: 2.3926 - acc: 0.2219 - val_loss: 2.7608 - val_acc: 0.1789\n",
            "Epoch 51/250\n",
            "89/89 [==============================] - 16s 173ms/step - loss: 2.3596 - acc: 0.2307 - val_loss: 2.7451 - val_acc: 0.1832\n",
            "Epoch 52/250\n",
            "89/89 [==============================] - 16s 172ms/step - loss: 2.3809 - acc: 0.2236 - val_loss: 2.7550 - val_acc: 0.1810\n",
            "Epoch 53/250\n",
            "89/89 [==============================] - 16s 173ms/step - loss: 2.3644 - acc: 0.2385 - val_loss: 2.7410 - val_acc: 0.1767\n",
            "Epoch 54/250\n",
            "89/89 [==============================] - 10s 109ms/step - loss: 2.2889 - acc: 0.2420 - val_loss: 2.7582 - val_acc: 0.1918\n",
            "Epoch 55/250\n",
            "89/89 [==============================] - 16s 172ms/step - loss: 2.4132 - acc: 0.2094 - val_loss: 2.7456 - val_acc: 0.1897\n",
            "Epoch 56/250\n",
            "89/89 [==============================] - 15s 163ms/step - loss: 2.3694 - acc: 0.2406 - val_loss: 2.7571 - val_acc: 0.1918\n",
            "Epoch 57/250\n",
            "89/89 [==============================] - 15s 167ms/step - loss: 2.3655 - acc: 0.2292 - val_loss: 2.7428 - val_acc: 0.1832\n",
            "Epoch 58/250\n",
            "89/89 [==============================] - 16s 171ms/step - loss: 2.3711 - acc: 0.2292 - val_loss: 2.7097 - val_acc: 0.1961\n",
            "Epoch 59/250\n",
            "89/89 [==============================] - 16s 172ms/step - loss: 2.3576 - acc: 0.2257 - val_loss: 2.7467 - val_acc: 0.1897\n",
            "Epoch 60/250\n",
            "89/89 [==============================] - 16s 174ms/step - loss: 2.3816 - acc: 0.2484 - val_loss: 2.7375 - val_acc: 0.1940\n",
            "Epoch 61/250\n",
            "89/89 [==============================] - 16s 171ms/step - loss: 2.3291 - acc: 0.2278 - val_loss: 2.7496 - val_acc: 0.1918\n",
            "Epoch 62/250\n",
            "89/89 [==============================] - 15s 164ms/step - loss: 2.4188 - acc: 0.2108 - val_loss: 2.7401 - val_acc: 0.1918\n",
            "Epoch 63/250\n",
            "89/89 [==============================] - 11s 117ms/step - loss: 2.3548 - acc: 0.2172 - val_loss: 2.7547 - val_acc: 0.1875\n",
            "Epoch 64/250\n",
            "89/89 [==============================] - 15s 164ms/step - loss: 2.3742 - acc: 0.2278 - val_loss: 2.7147 - val_acc: 0.1897\n",
            "Epoch 65/250\n",
            "89/89 [==============================] - 16s 171ms/step - loss: 2.3661 - acc: 0.2300 - val_loss: 2.7636 - val_acc: 0.1789\n",
            "Epoch 66/250\n",
            "89/89 [==============================] - 16s 172ms/step - loss: 2.3532 - acc: 0.2335 - val_loss: 2.7417 - val_acc: 0.1875\n",
            "Epoch 67/250\n",
            "89/89 [==============================] - 16s 174ms/step - loss: 2.2906 - acc: 0.2463 - val_loss: 2.7355 - val_acc: 0.1875\n",
            "Epoch 68/250\n",
            "89/89 [==============================] - 16s 175ms/step - loss: 2.3954 - acc: 0.2243 - val_loss: 2.7266 - val_acc: 0.1810\n",
            "Epoch 69/250\n",
            "89/89 [==============================] - 15s 166ms/step - loss: 2.3505 - acc: 0.2349 - val_loss: 2.7375 - val_acc: 0.1875\n",
            "Epoch 70/250\n",
            "89/89 [==============================] - 16s 171ms/step - loss: 2.3637 - acc: 0.2179 - val_loss: 2.7342 - val_acc: 0.1853\n",
            "Epoch 71/250\n",
            "89/89 [==============================] - 16s 173ms/step - loss: 2.3393 - acc: 0.2434 - val_loss: 2.7691 - val_acc: 0.1853\n",
            "Epoch 72/250\n",
            "89/89 [==============================] - 16s 176ms/step - loss: 2.3672 - acc: 0.2300 - val_loss: 2.7684 - val_acc: 0.1767\n",
            "Epoch 73/250\n",
            "89/89 [==============================] - 16s 176ms/step - loss: 2.3353 - acc: 0.2342 - val_loss: 2.7211 - val_acc: 0.1832\n",
            "Epoch 74/250\n",
            "89/89 [==============================] - 15s 166ms/step - loss: 2.3466 - acc: 0.2413 - val_loss: 2.7367 - val_acc: 0.1853\n",
            "Epoch 75/250\n",
            "89/89 [==============================] - 13s 135ms/step - loss: 2.3520 - acc: 0.2374 - val_loss: 2.7498 - val_acc: 0.1832\n",
            "Epoch 76/250\n",
            "89/89 [==============================] - 15s 169ms/step - loss: 2.3172 - acc: 0.2612 - val_loss: 2.7459 - val_acc: 0.1875\n",
            "Epoch 77/250\n",
            "89/89 [==============================] - 16s 173ms/step - loss: 2.3175 - acc: 0.2576 - val_loss: 2.7488 - val_acc: 0.1853\n",
            "Epoch 78/250\n",
            "89/89 [==============================] - 16s 176ms/step - loss: 2.3306 - acc: 0.2257 - val_loss: 2.7290 - val_acc: 0.1875\n",
            "Epoch 79/250\n",
            "89/89 [==============================] - 16s 173ms/step - loss: 2.3609 - acc: 0.2370 - val_loss: 2.7570 - val_acc: 0.1746\n",
            "Epoch 80/250\n",
            "89/89 [==============================] - 16s 172ms/step - loss: 2.4024 - acc: 0.2229 - val_loss: 2.7370 - val_acc: 0.1897\n",
            "Epoch 81/250\n",
            "89/89 [==============================] - 16s 174ms/step - loss: 2.3365 - acc: 0.2292 - val_loss: 2.7460 - val_acc: 0.1789\n",
            "Epoch 82/250\n",
            "89/89 [==============================] - 16s 172ms/step - loss: 2.3429 - acc: 0.2229 - val_loss: 2.7570 - val_acc: 0.1832\n",
            "Epoch 83/250\n",
            "89/89 [==============================] - 16s 175ms/step - loss: 2.3947 - acc: 0.2150 - val_loss: 2.7624 - val_acc: 0.1789\n",
            "Epoch 84/250\n",
            "89/89 [==============================] - 15s 164ms/step - loss: 2.3682 - acc: 0.2406 - val_loss: 2.7486 - val_acc: 0.1875\n",
            "Epoch 85/250\n",
            "89/89 [==============================] - 15s 169ms/step - loss: 2.3630 - acc: 0.2285 - val_loss: 2.7442 - val_acc: 0.1703\n",
            "Epoch 86/250\n",
            "89/89 [==============================] - 16s 170ms/step - loss: 2.3021 - acc: 0.2498 - val_loss: 2.7612 - val_acc: 0.1853\n",
            "Epoch 87/250\n",
            "89/89 [==============================] - 16s 171ms/step - loss: 2.3591 - acc: 0.2463 - val_loss: 2.7473 - val_acc: 0.1918\n",
            "Epoch 88/250\n",
            "89/89 [==============================] - 11s 117ms/step - loss: 2.3562 - acc: 0.2292 - val_loss: 2.7553 - val_acc: 0.1875\n",
            "Epoch 89/250\n",
            "89/89 [==============================] - 16s 171ms/step - loss: 2.3574 - acc: 0.2399 - val_loss: 2.7386 - val_acc: 0.1875\n",
            "Epoch 90/250\n",
            "89/89 [==============================] - 16s 171ms/step - loss: 2.3279 - acc: 0.2342 - val_loss: 2.7312 - val_acc: 0.1810\n",
            "Epoch 91/250\n",
            "89/89 [==============================] - 16s 170ms/step - loss: 2.3791 - acc: 0.2221 - val_loss: 2.7109 - val_acc: 0.1853\n",
            "Epoch 92/250\n",
            "89/89 [==============================] - 15s 161ms/step - loss: 2.3676 - acc: 0.2143 - val_loss: 2.7389 - val_acc: 0.1832\n",
            "Epoch 93/250\n",
            "89/89 [==============================] - 15s 164ms/step - loss: 2.3580 - acc: 0.2385 - val_loss: 2.7599 - val_acc: 0.1961\n",
            "Epoch 94/250\n",
            "89/89 [==============================] - 16s 178ms/step - loss: 2.3840 - acc: 0.2236 - val_loss: 2.7414 - val_acc: 0.1789\n",
            "Epoch 95/250\n",
            "89/89 [==============================] - 15s 169ms/step - loss: 2.3001 - acc: 0.2512 - val_loss: 2.7563 - val_acc: 0.1810\n",
            "Epoch 96/250\n",
            "89/89 [==============================] - 15s 169ms/step - loss: 2.3091 - acc: 0.2427 - val_loss: 2.7265 - val_acc: 0.1810\n",
            "Epoch 97/250\n",
            "89/89 [==============================] - 16s 171ms/step - loss: 2.3436 - acc: 0.2378 - val_loss: 2.7507 - val_acc: 0.1789\n",
            "Epoch 98/250\n",
            "89/89 [==============================] - 15s 160ms/step - loss: 2.3257 - acc: 0.2335 - val_loss: 2.7177 - val_acc: 0.1897\n",
            "Epoch 99/250\n",
            "89/89 [==============================] - 15s 166ms/step - loss: 2.3407 - acc: 0.2300 - val_loss: 2.7795 - val_acc: 0.1810\n",
            "Epoch 100/250\n",
            "89/89 [==============================] - 15s 169ms/step - loss: 2.3337 - acc: 0.2307 - val_loss: 2.7503 - val_acc: 0.1789\n",
            "Epoch 101/250\n",
            "89/89 [==============================] - 16s 171ms/step - loss: 2.3070 - acc: 0.2498 - val_loss: 2.7512 - val_acc: 0.1789\n",
            "Epoch 102/250\n",
            "89/89 [==============================] - 16s 173ms/step - loss: 2.3688 - acc: 0.2158 - val_loss: 2.7318 - val_acc: 0.1789\n",
            "Epoch 103/250\n",
            "89/89 [==============================] - 16s 175ms/step - loss: 2.2913 - acc: 0.2434 - val_loss: 2.7351 - val_acc: 0.1810\n",
            "Epoch 104/250\n",
            "89/89 [==============================] - 13s 145ms/step - loss: 2.3105 - acc: 0.2477 - val_loss: 2.7465 - val_acc: 0.1767\n",
            "Epoch 105/250\n",
            "89/89 [==============================] - 15s 166ms/step - loss: 2.3546 - acc: 0.2449 - val_loss: 2.7456 - val_acc: 0.1767\n",
            "Epoch 106/250\n",
            "89/89 [==============================] - 15s 167ms/step - loss: 2.3312 - acc: 0.2335 - val_loss: 2.7161 - val_acc: 0.1832\n",
            "Epoch 107/250\n",
            "89/89 [==============================] - 16s 171ms/step - loss: 2.3430 - acc: 0.2420 - val_loss: 2.7108 - val_acc: 0.1832\n",
            "Epoch 108/250\n",
            "89/89 [==============================] - 16s 172ms/step - loss: 2.3186 - acc: 0.2321 - val_loss: 2.7396 - val_acc: 0.1810\n",
            "Epoch 109/250\n",
            "89/89 [==============================] - 16s 173ms/step - loss: 2.3199 - acc: 0.2264 - val_loss: 2.7122 - val_acc: 0.1875\n",
            "Epoch 110/250\n",
            "89/89 [==============================] - 15s 167ms/step - loss: 2.3323 - acc: 0.2406 - val_loss: 2.6903 - val_acc: 0.1832\n",
            "Epoch 111/250\n",
            "89/89 [==============================] - 15s 166ms/step - loss: 2.3110 - acc: 0.2441 - val_loss: 2.7103 - val_acc: 0.1853\n",
            "Epoch 112/250\n",
            "89/89 [==============================] - 15s 170ms/step - loss: 2.3329 - acc: 0.2342 - val_loss: 2.7180 - val_acc: 0.1789\n",
            "Epoch 113/250\n",
            "89/89 [==============================] - 16s 171ms/step - loss: 2.3249 - acc: 0.2434 - val_loss: 2.7145 - val_acc: 0.1832\n",
            "Epoch 114/250\n",
            "89/89 [==============================] - 16s 172ms/step - loss: 2.3647 - acc: 0.2413 - val_loss: 2.7451 - val_acc: 0.1853\n",
            "Epoch 115/250\n",
            "89/89 [==============================] - 10s 110ms/step - loss: 2.2949 - acc: 0.2342 - val_loss: 2.7494 - val_acc: 0.1853\n",
            "Epoch 116/250\n",
            "89/89 [==============================] - 11s 115ms/step - loss: 2.3341 - acc: 0.2292 - val_loss: 2.7366 - val_acc: 0.1746\n",
            "Epoch 117/250\n",
            "89/89 [==============================] - 16s 169ms/step - loss: 2.3717 - acc: 0.2292 - val_loss: 2.7712 - val_acc: 0.1703\n",
            "Epoch 118/250\n",
            "89/89 [==============================] - 11s 116ms/step - loss: 2.3131 - acc: 0.2413 - val_loss: 2.7226 - val_acc: 0.1810\n",
            "Epoch 119/250\n",
            "89/89 [==============================] - 15s 169ms/step - loss: 2.3058 - acc: 0.2512 - val_loss: 2.7311 - val_acc: 0.1746\n",
            "Epoch 120/250\n",
            "89/89 [==============================] - 16s 171ms/step - loss: 2.2984 - acc: 0.2477 - val_loss: 2.7301 - val_acc: 0.1767\n",
            "Epoch 121/250\n",
            "89/89 [==============================] - 11s 117ms/step - loss: 2.3374 - acc: 0.2271 - val_loss: 2.7753 - val_acc: 0.1724\n",
            "Epoch 122/250\n",
            "89/89 [==============================] - 16s 174ms/step - loss: 2.2783 - acc: 0.2470 - val_loss: 2.7537 - val_acc: 0.1853\n",
            "Epoch 123/250\n",
            "89/89 [==============================] - 17s 183ms/step - loss: 2.2785 - acc: 0.2385 - val_loss: 2.7319 - val_acc: 0.1853\n",
            "Epoch 124/250\n",
            "89/89 [==============================] - 15s 166ms/step - loss: 2.3455 - acc: 0.2264 - val_loss: 2.7590 - val_acc: 0.1789\n",
            "Epoch 125/250\n",
            "89/89 [==============================] - 16s 173ms/step - loss: 2.3322 - acc: 0.2420 - val_loss: 2.7629 - val_acc: 0.1746\n",
            "Epoch 126/250\n",
            "89/89 [==============================] - 16s 173ms/step - loss: 2.3133 - acc: 0.2314 - val_loss: 2.7276 - val_acc: 0.1810\n",
            "Epoch 127/250\n",
            "89/89 [==============================] - 16s 173ms/step - loss: 2.3434 - acc: 0.2392 - val_loss: 2.7306 - val_acc: 0.1789\n",
            "Epoch 128/250\n",
            "89/89 [==============================] - 15s 167ms/step - loss: 2.3388 - acc: 0.2300 - val_loss: 2.7072 - val_acc: 0.1853\n",
            "Epoch 129/250\n",
            "89/89 [==============================] - 15s 163ms/step - loss: 2.3567 - acc: 0.2456 - val_loss: 2.6998 - val_acc: 0.1897\n",
            "Epoch 130/250\n",
            "89/89 [==============================] - 11s 116ms/step - loss: 2.3080 - acc: 0.2186 - val_loss: 2.7237 - val_acc: 0.1832\n",
            "Epoch 131/250\n",
            "89/89 [==============================] - 15s 164ms/step - loss: 2.3350 - acc: 0.2292 - val_loss: 2.7376 - val_acc: 0.1789\n",
            "Epoch 132/250\n",
            "89/89 [==============================] - 16s 170ms/step - loss: 2.3253 - acc: 0.2285 - val_loss: 2.7339 - val_acc: 0.1853\n",
            "Epoch 133/250\n",
            "89/89 [==============================] - 11s 115ms/step - loss: 2.3465 - acc: 0.2143 - val_loss: 2.7056 - val_acc: 0.1832\n",
            "Epoch 134/250\n",
            "89/89 [==============================] - 16s 171ms/step - loss: 2.3400 - acc: 0.2236 - val_loss: 2.7159 - val_acc: 0.1789\n",
            "Epoch 135/250\n",
            "89/89 [==============================] - 16s 170ms/step - loss: 2.3319 - acc: 0.2200 - val_loss: 2.7379 - val_acc: 0.1810\n",
            "Epoch 136/250\n",
            "89/89 [==============================] - 16s 172ms/step - loss: 2.3309 - acc: 0.2413 - val_loss: 2.7495 - val_acc: 0.1746\n",
            "Epoch 137/250\n",
            "89/89 [==============================] - 16s 173ms/step - loss: 2.2799 - acc: 0.2569 - val_loss: 2.7159 - val_acc: 0.1746\n",
            "Epoch 138/250\n",
            "89/89 [==============================] - 15s 167ms/step - loss: 2.3189 - acc: 0.2441 - val_loss: 2.6972 - val_acc: 0.1767\n",
            "Epoch 139/250\n",
            "89/89 [==============================] - 15s 165ms/step - loss: 2.2974 - acc: 0.2321 - val_loss: 2.7172 - val_acc: 0.1746\n",
            "Epoch 140/250\n",
            "89/89 [==============================] - 16s 172ms/step - loss: 2.3674 - acc: 0.2328 - val_loss: 2.7050 - val_acc: 0.1810\n",
            "Epoch 141/250\n",
            "89/89 [==============================] - 16s 171ms/step - loss: 2.2960 - acc: 0.2463 - val_loss: 2.7055 - val_acc: 0.1832\n",
            "Epoch 142/250\n",
            "89/89 [==============================] - 16s 170ms/step - loss: 2.3694 - acc: 0.2172 - val_loss: 2.7104 - val_acc: 0.1832\n",
            "Epoch 143/250\n",
            "89/89 [==============================] - 16s 170ms/step - loss: 2.3209 - acc: 0.2385 - val_loss: 2.7077 - val_acc: 0.1875\n",
            "Epoch 144/250\n",
            "89/89 [==============================] - 15s 160ms/step - loss: 2.3318 - acc: 0.2385 - val_loss: 2.7568 - val_acc: 0.1832\n",
            "Epoch 145/250\n",
            "89/89 [==============================] - 15s 164ms/step - loss: 2.3351 - acc: 0.2349 - val_loss: 2.7548 - val_acc: 0.1746\n",
            "Epoch 146/250\n",
            "89/89 [==============================] - 11s 115ms/step - loss: 2.2904 - acc: 0.2458 - val_loss: 2.7339 - val_acc: 0.1810\n",
            "Epoch 147/250\n",
            "89/89 [==============================] - 15s 164ms/step - loss: 2.3019 - acc: 0.2491 - val_loss: 2.6876 - val_acc: 0.1832\n",
            "Epoch 148/250\n",
            "89/89 [==============================] - 16s 169ms/step - loss: 2.3433 - acc: 0.2399 - val_loss: 2.6877 - val_acc: 0.1832\n",
            "Epoch 149/250\n",
            "89/89 [==============================] - 16s 171ms/step - loss: 2.3039 - acc: 0.2427 - val_loss: 2.7268 - val_acc: 0.1789\n",
            "Epoch 150/250\n",
            "89/89 [==============================] - 16s 171ms/step - loss: 2.2987 - acc: 0.2484 - val_loss: 2.7105 - val_acc: 0.1897\n",
            "Epoch 151/250\n",
            "89/89 [==============================] - 16s 171ms/step - loss: 2.3158 - acc: 0.2321 - val_loss: 2.7182 - val_acc: 0.1832\n",
            "Epoch 152/250\n",
            "89/89 [==============================] - 15s 163ms/step - loss: 2.2996 - acc: 0.2420 - val_loss: 2.7073 - val_acc: 0.1789\n",
            "Epoch 153/250\n",
            "89/89 [==============================] - 15s 168ms/step - loss: 2.3138 - acc: 0.2463 - val_loss: 2.7235 - val_acc: 0.1832\n",
            "Epoch 154/250\n",
            "89/89 [==============================] - 15s 169ms/step - loss: 2.3713 - acc: 0.2278 - val_loss: 2.6878 - val_acc: 0.1875\n",
            "Epoch 155/250\n",
            "89/89 [==============================] - 16s 171ms/step - loss: 2.3472 - acc: 0.2236 - val_loss: 2.6871 - val_acc: 0.1853\n",
            "Epoch 156/250\n",
            "89/89 [==============================] - 16s 171ms/step - loss: 2.2882 - acc: 0.2420 - val_loss: 2.7180 - val_acc: 0.1875\n",
            "Epoch 157/250\n",
            "89/89 [==============================] - 16s 171ms/step - loss: 2.3193 - acc: 0.2484 - val_loss: 2.6965 - val_acc: 0.1918\n",
            "Epoch 158/250\n",
            "89/89 [==============================] - 11s 119ms/step - loss: 2.2764 - acc: 0.2399 - val_loss: 2.6830 - val_acc: 0.1940\n",
            "Epoch 159/250\n",
            "89/89 [==============================] - 16s 176ms/step - loss: 2.2771 - acc: 0.2484 - val_loss: 2.7183 - val_acc: 0.1767\n",
            "Epoch 160/250\n",
            "89/89 [==============================] - 16s 171ms/step - loss: 2.3227 - acc: 0.2434 - val_loss: 2.7313 - val_acc: 0.1789\n",
            "Epoch 161/250\n",
            "89/89 [==============================] - 16s 174ms/step - loss: 2.2988 - acc: 0.2392 - val_loss: 2.7230 - val_acc: 0.1832\n",
            "Epoch 162/250\n",
            "89/89 [==============================] - 11s 117ms/step - loss: 2.3638 - acc: 0.2292 - val_loss: 2.7244 - val_acc: 0.1703\n",
            "Epoch 163/250\n",
            "89/89 [==============================] - 16s 174ms/step - loss: 2.2885 - acc: 0.2314 - val_loss: 2.7275 - val_acc: 0.1810\n",
            "Epoch 164/250\n",
            "89/89 [==============================] - 16s 170ms/step - loss: 2.3114 - acc: 0.2427 - val_loss: 2.7447 - val_acc: 0.1767\n",
            "Epoch 165/250\n",
            "89/89 [==============================] - 11s 116ms/step - loss: 2.2923 - acc: 0.2555 - val_loss: 2.7559 - val_acc: 0.1724\n",
            "Epoch 166/250\n",
            "89/89 [==============================] - 15s 162ms/step - loss: 2.3376 - acc: 0.2370 - val_loss: 2.7118 - val_acc: 0.1918\n",
            "Epoch 167/250\n",
            "89/89 [==============================] - 16s 170ms/step - loss: 2.2868 - acc: 0.2512 - val_loss: 2.7187 - val_acc: 0.1767\n",
            "Epoch 168/250\n",
            "89/89 [==============================] - 16s 172ms/step - loss: 2.3152 - acc: 0.2434 - val_loss: 2.7338 - val_acc: 0.1681\n",
            "Epoch 169/250\n",
            "89/89 [==============================] - 16s 173ms/step - loss: 2.2851 - acc: 0.2598 - val_loss: 2.6979 - val_acc: 0.1724\n",
            "Epoch 170/250\n",
            "89/89 [==============================] - 11s 116ms/step - loss: 2.3011 - acc: 0.2399 - val_loss: 2.7118 - val_acc: 0.1832\n",
            "Epoch 171/250\n",
            "89/89 [==============================] - 16s 171ms/step - loss: 2.3224 - acc: 0.2484 - val_loss: 2.7018 - val_acc: 0.1832\n",
            "Epoch 172/250\n",
            "89/89 [==============================] - 16s 171ms/step - loss: 2.2853 - acc: 0.2477 - val_loss: 2.7272 - val_acc: 0.1767\n",
            "Epoch 173/250\n",
            "89/89 [==============================] - 15s 168ms/step - loss: 2.3002 - acc: 0.2434 - val_loss: 2.7416 - val_acc: 0.1789\n",
            "Epoch 174/250\n",
            "89/89 [==============================] - 15s 162ms/step - loss: 2.2783 - acc: 0.2520 - val_loss: 2.7316 - val_acc: 0.1767\n",
            "Epoch 175/250\n",
            "89/89 [==============================] - 11s 114ms/step - loss: 2.2884 - acc: 0.2413 - val_loss: 2.7411 - val_acc: 0.1832\n",
            "Epoch 176/250\n",
            "89/89 [==============================] - 15s 161ms/step - loss: 2.2760 - acc: 0.2647 - val_loss: 2.7261 - val_acc: 0.1875\n",
            "Epoch 177/250\n",
            "89/89 [==============================] - 16s 169ms/step - loss: 2.2905 - acc: 0.2534 - val_loss: 2.7126 - val_acc: 0.1789\n",
            "Epoch 178/250\n",
            "89/89 [==============================] - 15s 168ms/step - loss: 2.2880 - acc: 0.2491 - val_loss: 2.7447 - val_acc: 0.1746\n",
            "Epoch 179/250\n",
            "89/89 [==============================] - 16s 172ms/step - loss: 2.2808 - acc: 0.2427 - val_loss: 2.7102 - val_acc: 0.1832\n",
            "Epoch 180/250\n",
            "89/89 [==============================] - 16s 171ms/step - loss: 2.3294 - acc: 0.2470 - val_loss: 2.7395 - val_acc: 0.1832\n",
            "Epoch 181/250\n",
            "89/89 [==============================] - 15s 166ms/step - loss: 2.3029 - acc: 0.2420 - val_loss: 2.7007 - val_acc: 0.1789\n",
            "Epoch 182/250\n",
            "89/89 [==============================] - 15s 163ms/step - loss: 2.3015 - acc: 0.2399 - val_loss: 2.7391 - val_acc: 0.1724\n",
            "Epoch 183/250\n",
            "89/89 [==============================] - 16s 170ms/step - loss: 2.2953 - acc: 0.2307 - val_loss: 2.7339 - val_acc: 0.1875\n",
            "Epoch 184/250\n",
            "89/89 [==============================] - 15s 169ms/step - loss: 2.2704 - acc: 0.2576 - val_loss: 2.7206 - val_acc: 0.1940\n",
            "Epoch 185/250\n",
            "89/89 [==============================] - 16s 172ms/step - loss: 2.2331 - acc: 0.2711 - val_loss: 2.7271 - val_acc: 0.1875\n",
            "Epoch 186/250\n",
            "89/89 [==============================] - 16s 172ms/step - loss: 2.2781 - acc: 0.2505 - val_loss: 2.7420 - val_acc: 0.1703\n",
            "Epoch 187/250\n",
            "89/89 [==============================] - 15s 162ms/step - loss: 2.2989 - acc: 0.2463 - val_loss: 2.7396 - val_acc: 0.1746\n",
            "Epoch 188/250\n",
            "89/89 [==============================] - 15s 167ms/step - loss: 2.2493 - acc: 0.2456 - val_loss: 2.7237 - val_acc: 0.1767\n",
            "Epoch 189/250\n",
            "89/89 [==============================] - 16s 170ms/step - loss: 2.2433 - acc: 0.2498 - val_loss: 2.7460 - val_acc: 0.1832\n",
            "Epoch 190/250\n",
            "89/89 [==============================] - 16s 173ms/step - loss: 2.2466 - acc: 0.2413 - val_loss: 2.7413 - val_acc: 0.1746\n",
            "Epoch 191/250\n",
            "89/89 [==============================] - 16s 172ms/step - loss: 2.3209 - acc: 0.2143 - val_loss: 2.7615 - val_acc: 0.1767\n",
            "Epoch 192/250\n",
            "89/89 [==============================] - 15s 168ms/step - loss: 2.3326 - acc: 0.2392 - val_loss: 2.7430 - val_acc: 0.1746\n",
            "Epoch 193/250\n",
            "89/89 [==============================] - 15s 163ms/step - loss: 2.3213 - acc: 0.2470 - val_loss: 2.7322 - val_acc: 0.1810\n",
            "Epoch 194/250\n",
            "89/89 [==============================] - 16s 171ms/step - loss: 2.2809 - acc: 0.2363 - val_loss: 2.7344 - val_acc: 0.1724\n",
            "Epoch 195/250\n",
            "89/89 [==============================] - 16s 169ms/step - loss: 2.3138 - acc: 0.2314 - val_loss: 2.7068 - val_acc: 0.1789\n",
            "Epoch 196/250\n",
            "89/89 [==============================] - 16s 172ms/step - loss: 2.3112 - acc: 0.2378 - val_loss: 2.7544 - val_acc: 0.1789\n",
            "Epoch 197/250\n",
            "89/89 [==============================] - 16s 171ms/step - loss: 2.2459 - acc: 0.2711 - val_loss: 2.7712 - val_acc: 0.1810\n",
            "Epoch 198/250\n",
            "89/89 [==============================] - 15s 168ms/step - loss: 2.2896 - acc: 0.2491 - val_loss: 2.7410 - val_acc: 0.1853\n",
            "Epoch 199/250\n",
            "89/89 [==============================] - 16s 170ms/step - loss: 2.3250 - acc: 0.2356 - val_loss: 2.7392 - val_acc: 0.1897\n",
            "Epoch 200/250\n",
            "89/89 [==============================] - 10s 111ms/step - loss: 2.2359 - acc: 0.2598 - val_loss: 2.7403 - val_acc: 0.1832\n",
            "Epoch 201/250\n",
            "89/89 [==============================] - 15s 165ms/step - loss: 2.2864 - acc: 0.2505 - val_loss: 2.7279 - val_acc: 0.1789\n",
            "Epoch 202/250\n",
            "89/89 [==============================] - 15s 167ms/step - loss: 2.3075 - acc: 0.2250 - val_loss: 2.7397 - val_acc: 0.1918\n",
            "Epoch 203/250\n",
            "89/89 [==============================] - 16s 170ms/step - loss: 2.3218 - acc: 0.2328 - val_loss: 2.7491 - val_acc: 0.1983\n",
            "Epoch 204/250\n",
            "89/89 [==============================] - 16s 170ms/step - loss: 2.3046 - acc: 0.2356 - val_loss: 2.7503 - val_acc: 0.1832\n",
            "Epoch 205/250\n",
            "89/89 [==============================] - 16s 172ms/step - loss: 2.2545 - acc: 0.2512 - val_loss: 2.7319 - val_acc: 0.1746\n",
            "Epoch 206/250\n",
            "89/89 [==============================] - 16s 170ms/step - loss: 2.2971 - acc: 0.2370 - val_loss: 2.7501 - val_acc: 0.1767\n",
            "Epoch 207/250\n",
            "89/89 [==============================] - 15s 163ms/step - loss: 2.2369 - acc: 0.2512 - val_loss: 2.7230 - val_acc: 0.1746\n",
            "Epoch 208/250\n",
            "89/89 [==============================] - 15s 169ms/step - loss: 2.2842 - acc: 0.2527 - val_loss: 2.7292 - val_acc: 0.1767\n",
            "Epoch 209/250\n",
            "89/89 [==============================] - 16s 172ms/step - loss: 2.2894 - acc: 0.2434 - val_loss: 2.7423 - val_acc: 0.1767\n",
            "Epoch 210/250\n",
            "89/89 [==============================] - 16s 178ms/step - loss: 2.2890 - acc: 0.2534 - val_loss: 2.7208 - val_acc: 0.1853\n",
            "Epoch 211/250\n",
            "89/89 [==============================] - 16s 173ms/step - loss: 2.3046 - acc: 0.2378 - val_loss: 2.7492 - val_acc: 0.1767\n",
            "Epoch 212/250\n",
            "89/89 [==============================] - 15s 163ms/step - loss: 2.3074 - acc: 0.2463 - val_loss: 2.7549 - val_acc: 0.1832\n",
            "Epoch 213/250\n",
            "89/89 [==============================] - 16s 169ms/step - loss: 2.3283 - acc: 0.2349 - val_loss: 2.7446 - val_acc: 0.1810\n",
            "Epoch 214/250\n",
            "89/89 [==============================] - 16s 169ms/step - loss: 2.2625 - acc: 0.2520 - val_loss: 2.7289 - val_acc: 0.1789\n",
            "Epoch 215/250\n",
            "89/89 [==============================] - 16s 172ms/step - loss: 2.2661 - acc: 0.2441 - val_loss: 2.7401 - val_acc: 0.1810\n",
            "Epoch 216/250\n",
            "89/89 [==============================] - 16s 181ms/step - loss: 2.2601 - acc: 0.2456 - val_loss: 2.7200 - val_acc: 0.1853\n",
            "Epoch 217/250\n",
            "89/89 [==============================] - 15s 164ms/step - loss: 2.3227 - acc: 0.2307 - val_loss: 2.7592 - val_acc: 0.1724\n",
            "Epoch 218/250\n",
            "89/89 [==============================] - 10s 112ms/step - loss: 2.3004 - acc: 0.2484 - val_loss: 2.7838 - val_acc: 0.1724\n",
            "Epoch 219/250\n",
            "89/89 [==============================] - 15s 164ms/step - loss: 2.2629 - acc: 0.2427 - val_loss: 2.7475 - val_acc: 0.1724\n",
            "Epoch 220/250\n",
            "89/89 [==============================] - 15s 168ms/step - loss: 2.2132 - acc: 0.2683 - val_loss: 2.7314 - val_acc: 0.1746\n",
            "Epoch 221/250\n",
            "89/89 [==============================] - 16s 170ms/step - loss: 2.2840 - acc: 0.2534 - val_loss: 2.7537 - val_acc: 0.1789\n",
            "Epoch 222/250\n",
            "89/89 [==============================] - 16s 172ms/step - loss: 2.2343 - acc: 0.2598 - val_loss: 2.7572 - val_acc: 0.1746\n",
            "Epoch 223/250\n",
            "89/89 [==============================] - 16s 172ms/step - loss: 2.2508 - acc: 0.2413 - val_loss: 2.7414 - val_acc: 0.1767\n",
            "Epoch 224/250\n",
            "89/89 [==============================] - 10s 110ms/step - loss: 2.2763 - acc: 0.2598 - val_loss: 2.7507 - val_acc: 0.1724\n",
            "Epoch 225/250\n",
            "89/89 [==============================] - 16s 170ms/step - loss: 2.2797 - acc: 0.2548 - val_loss: 2.7254 - val_acc: 0.1789\n",
            "Epoch 226/250\n",
            "89/89 [==============================] - 11s 116ms/step - loss: 2.2820 - acc: 0.2498 - val_loss: 2.6857 - val_acc: 0.1961\n",
            "Epoch 227/250\n",
            "89/89 [==============================] - 16s 171ms/step - loss: 2.2510 - acc: 0.2598 - val_loss: 2.7135 - val_acc: 0.1853\n",
            "Epoch 228/250\n",
            "89/89 [==============================] - 16s 171ms/step - loss: 2.2757 - acc: 0.2505 - val_loss: 2.7425 - val_acc: 0.1746\n",
            "Epoch 229/250\n",
            "89/89 [==============================] - 16s 175ms/step - loss: 2.2710 - acc: 0.2363 - val_loss: 2.7566 - val_acc: 0.1746\n",
            "Epoch 230/250\n",
            "89/89 [==============================] - 15s 160ms/step - loss: 2.2647 - acc: 0.2427 - val_loss: 2.7184 - val_acc: 0.1810\n",
            "Epoch 231/250\n",
            "89/89 [==============================] - 15s 167ms/step - loss: 2.2338 - acc: 0.2413 - val_loss: 2.7188 - val_acc: 0.1810\n",
            "Epoch 232/250\n",
            "89/89 [==============================] - 16s 170ms/step - loss: 2.2730 - acc: 0.2463 - val_loss: 2.7100 - val_acc: 0.1853\n",
            "Epoch 233/250\n",
            "89/89 [==============================] - 16s 173ms/step - loss: 2.2787 - acc: 0.2427 - val_loss: 2.7382 - val_acc: 0.1875\n",
            "Epoch 234/250\n",
            "89/89 [==============================] - 16s 171ms/step - loss: 2.3302 - acc: 0.2399 - val_loss: 2.7479 - val_acc: 0.1767\n",
            "Epoch 235/250\n",
            "89/89 [==============================] - 16s 180ms/step - loss: 2.3047 - acc: 0.2328 - val_loss: 2.7308 - val_acc: 0.1810\n",
            "Epoch 236/250\n",
            "89/89 [==============================] - 15s 165ms/step - loss: 2.2884 - acc: 0.2576 - val_loss: 2.7377 - val_acc: 0.1853\n",
            "Epoch 237/250\n",
            "89/89 [==============================] - 16s 170ms/step - loss: 2.2688 - acc: 0.2555 - val_loss: 2.7319 - val_acc: 0.1810\n",
            "Epoch 238/250\n",
            "89/89 [==============================] - 16s 172ms/step - loss: 2.2648 - acc: 0.2427 - val_loss: 2.7553 - val_acc: 0.1746\n",
            "Epoch 239/250\n",
            "89/89 [==============================] - 16s 174ms/step - loss: 2.2484 - acc: 0.2399 - val_loss: 2.7476 - val_acc: 0.1853\n",
            "Epoch 240/250\n",
            "89/89 [==============================] - 15s 165ms/step - loss: 2.2793 - acc: 0.2285 - val_loss: 2.7362 - val_acc: 0.1810\n",
            "Epoch 241/250\n",
            "89/89 [==============================] - 10s 107ms/step - loss: 2.2332 - acc: 0.2534 - val_loss: 2.7482 - val_acc: 0.1724\n",
            "Epoch 242/250\n",
            "89/89 [==============================] - 15s 167ms/step - loss: 2.3364 - acc: 0.2434 - val_loss: 2.7518 - val_acc: 0.1810\n",
            "Epoch 243/250\n",
            "89/89 [==============================] - 10s 107ms/step - loss: 2.2894 - acc: 0.2349 - val_loss: 2.7563 - val_acc: 0.1746\n",
            "Epoch 244/250\n",
            "89/89 [==============================] - 15s 167ms/step - loss: 2.2787 - acc: 0.2498 - val_loss: 2.7607 - val_acc: 0.1724\n",
            "Epoch 245/250\n",
            "89/89 [==============================] - 15s 164ms/step - loss: 2.2685 - acc: 0.2420 - val_loss: 2.7561 - val_acc: 0.1746\n",
            "Epoch 246/250\n",
            "89/89 [==============================] - 15s 169ms/step - loss: 2.3078 - acc: 0.2449 - val_loss: 2.7363 - val_acc: 0.1767\n",
            "Epoch 247/250\n",
            "89/89 [==============================] - 11s 116ms/step - loss: 2.3069 - acc: 0.2378 - val_loss: 2.7173 - val_acc: 0.1724\n",
            "Epoch 248/250\n",
            "89/89 [==============================] - 16s 170ms/step - loss: 2.2523 - acc: 0.2562 - val_loss: 2.7412 - val_acc: 0.1703\n",
            "Epoch 249/250\n",
            "89/89 [==============================] - 15s 169ms/step - loss: 2.2481 - acc: 0.2470 - val_loss: 2.7227 - val_acc: 0.1767\n",
            "Epoch 250/250\n",
            "89/89 [==============================] - 16s 173ms/step - loss: 2.2554 - acc: 0.2463 - val_loss: 2.7708 - val_acc: 0.1703\n"
          ]
        }
      ]
    },
    {
      "cell_type": "code",
      "source": [
        "acc = history.history['acc']\n",
        "val_acc = history.history['val_acc']\n",
        "loss = history.history['loss']\n",
        "val_loss = history.history['val_loss']\n",
        "\n",
        "epochs_x = range(len(acc))\n",
        "\n",
        "plt.plot(epochs_x, acc, 'mo', label='Training acc')\n",
        "plt.plot(epochs_x, val_acc, 'k', label='Validation acc')\n",
        "plt.title('Training and validation accuracy')\n",
        "plt.legend()\n",
        "\n",
        "plt.figure()\n",
        "\n",
        "plt.plot(epochs_x, loss, 'mo', label='Training loss')\n",
        "plt.plot(epochs_x, val_loss, 'k', label='Validation loss')\n",
        "plt.title('Training and validation loss')\n",
        "plt.legend()\n",
        "\n",
        "plt.show()"
      ],
      "metadata": {
        "id": "kwylTJpTP5XI",
        "colab": {
          "base_uri": "https://localhost:8080/",
          "height": 545
        },
        "outputId": "a6deaa16-a68d-4bfe-92d7-d5112d3c11b0"
      },
      "execution_count": 16,
      "outputs": [
        {
          "output_type": "display_data",
          "data": {
            "text/plain": [
              "<Figure size 432x288 with 1 Axes>"
            ],
            "image/png": "[encoded data removed]"
          },
          "metadata": {
            "needs_background": "light"
          }
        },
        {
          "output_type": "display_data",
          "data": {
            "text/plain": [
              "<Figure size 432x288 with 1 Axes>"
            ],
            "image/png": "[encoded data removed]"
          },
          "metadata": {
            "needs_background": "light"
          }
        }
      ]
    },
    {
      "cell_type": "markdown",
      "source": [
        "#Download the model"
      ],
      "metadata": {
        "id": "lD-vKaoHQAFd"
      }
    },
    {
      "cell_type": "code",
      "source": [
        "os.makedirs('/content/drive/My Drive/cut_panoramic/Model', exist_ok=True)\n",
        "model.save('/content/drive/My Drive/cut_panoramic/Model/Classification/Female/FF3_Train_Unfreeze.h5')"
      ],
      "metadata": {
        "id": "74dL7-HLP_Sh"
      },
      "execution_count": 17,
      "outputs": []
    },
    {
      "cell_type": "code",
      "source": [
        "# from google.colab import files\n",
        "# files.download('/content/drive/My Drive/cut_panoramic/Model/22_รอบที่2_Flimpano_Female125_250.h5')"
      ],
      "metadata": {
        "id": "qcPW-brHQDpc"
      },
      "execution_count": 18,
      "outputs": []
    }
  ]
}