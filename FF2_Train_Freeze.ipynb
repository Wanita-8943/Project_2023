{
  "nbformat": 4,
  "nbformat_minor": 0,
  "metadata": {
    "colab": {
      "provenance": [],
      "machine_shape": "hm",
      "include_colab_link": true
    },
    "kernelspec": {
      "name": "python3",
      "display_name": "Python 3"
    },
    "language_info": {
      "name": "python"
    },
    "accelerator": "GPU",
    "gpuClass": "standard"
  },
  "cells": [
    {
      "cell_type": "markdown",
      "metadata": {
        "id": "view-in-github",
        "colab_type": "text"
      },
      "source": [
        "<a href=\"https://colab.research.google.com/github/Wanita-8943/Project_2023/blob/main/FF2_Train_Freeze.ipynb\" target=\"_parent\"><img src=\"https://colab.research.google.com/assets/colab-badge.svg\" alt=\"Open In Colab\"/></a>"
      ]
    },
    {
      "cell_type": "code",
      "execution_count": 1,
      "metadata": {
        "id": "KKSs7cyoPHcD"
      },
      "outputs": [],
      "source": [
        "import pandas as pd\n",
        "import shutil"
      ]
    },
    {
      "cell_type": "code",
      "source": [
        "from google.colab import drive\n",
        "drive.mount('/content/drive')"
      ],
      "metadata": {
        "colab": {
          "base_uri": "https://localhost:8080/"
        },
        "id": "7LoeZxmVPMxp",
        "outputId": "c4b238de-547d-4432-9ee4-80c2bb128e03"
      },
      "execution_count": 2,
      "outputs": [
        {
          "output_type": "stream",
          "name": "stdout",
          "text": [
            "Mounted at /content/drive\n"
          ]
        }
      ]
    },
    {
      "cell_type": "code",
      "source": [
        "from tensorflow.keras import models\n",
        "from tensorflow.keras import layers\n",
        "from tensorflow.keras import optimizers\n",
        "import os\n",
        "import glob\n",
        "import shutil\n",
        "import sys\n",
        "import numpy as np\n",
        "from skimage.io import imread\n",
        "import matplotlib.pyplot as plt\n",
        "from IPython.display import Image\n",
        "%matplotlib inline"
      ],
      "metadata": {
        "id": "1pX9g1HxPM2f"
      },
      "execution_count": 3,
      "outputs": []
    },
    {
      "cell_type": "code",
      "source": [
        "batch_size = 16\n",
        "width = 150\n",
        "height = 150\n",
        "epochs = 250\n",
        "NUM_TRAIN = 1425\n",
        "NUM_TEST = 475\n",
        "dropout_rate = 0.2\n",
        "input_shape = (height, width, 3)"
      ],
      "metadata": {
        "id": "eSFtvGyvPM6O"
      },
      "execution_count": 4,
      "outputs": []
    },
    {
      "cell_type": "code",
      "source": [
        "#ดึงข้อมูลใน Github มาใช้\n",
        "import os\n",
        "%cd /content\n",
        "if not os.path.isdir(\"efficientnet_keras_transfer_learning\"):\n",
        " !git clone https://github.com/Wanita-8943/efficientnet_keras_transfer_learning\n",
        "%cd efficientnet_keras_transfer_learning/"
      ],
      "metadata": {
        "colab": {
          "base_uri": "https://localhost:8080/"
        },
        "id": "lb4K4CsMPNAW",
        "outputId": "630a9ee4-6ff5-4884-8c8a-be7b8ae036de"
      },
      "execution_count": 5,
      "outputs": [
        {
          "output_type": "stream",
          "name": "stdout",
          "text": [
            "/content\n",
            "Cloning into 'efficientnet_keras_transfer_learning'...\n",
            "remote: Enumerating objects: 837, done.\u001b[K\n",
            "remote: Total 837 (delta 0), reused 0 (delta 0), pack-reused 837\u001b[K\n",
            "Receiving objects: 100% (837/837), 13.85 MiB | 19.70 MiB/s, done.\n",
            "Resolving deltas: 100% (497/497), done.\n",
            "/content/efficientnet_keras_transfer_learning\n"
          ]
        }
      ]
    },
    {
      "cell_type": "code",
      "source": [
        "# Options: EfficientNetB0, EfficientNetB1, EfficientNetB2, EfficientNetB3\n",
        "# Higher the number, the more complex the model is.\n",
        "from efficientnet import EfficientNetB0 as Net\n",
        "from efficientnet import center_crop_and_resize, preprocess_input"
      ],
      "metadata": {
        "id": "eyBg0dLKPND3"
      },
      "execution_count": 6,
      "outputs": []
    },
    {
      "cell_type": "code",
      "source": [
        "base_dir = '/content/drive/MyDrive/TVT_Female125'\n",
        "os.makedirs(base_dir, exist_ok=True)\n",
        "\n",
        "# Directories for our training,\n",
        "# validation and test splits\n",
        "train_dir = os.path.join(base_dir, 'train')\n",
        "os.makedirs(train_dir, exist_ok=True)\n",
        "validation_dir = os.path.join(base_dir, 'validation')\n",
        "os.makedirs(validation_dir, exist_ok=True)\n",
        "test_dir = os.path.join(base_dir, 'test')\n",
        "os.makedirs(test_dir, exist_ok=True)"
      ],
      "metadata": {
        "id": "Jwpq_-KvPef8"
      },
      "execution_count": 7,
      "outputs": []
    },
    {
      "cell_type": "markdown",
      "source": [
        "#load model"
      ],
      "metadata": {
        "id": "od-ZSNm5PoGy"
      }
    },
    {
      "cell_type": "code",
      "source": [
        "import sys\n",
        "sys.path.append('/content/drive/MyDrive/cut_panoramic/Model/Classification/Female/11_รอบแรก_Flimpano_Female125_250.h5')\n",
        "\n",
        "from efficientnet.layers import Swish, DropConnect\n",
        "from efficientnet.model import ConvKernalInitializer\n",
        "from tensorflow.keras.utils import get_custom_objects\n",
        "\n",
        "get_custom_objects().update({\n",
        "    'ConvKernalInitializer': ConvKernalInitializer,\n",
        "    'Swish': Swish,\n",
        "    'DropConnect':DropConnect\n",
        "})"
      ],
      "metadata": {
        "id": "n5iPL5MNPkhE"
      },
      "execution_count": 8,
      "outputs": []
    },
    {
      "cell_type": "code",
      "source": [
        "#load model \n",
        "from tensorflow.keras.models import load_model\n",
        "model = load_model('/content/drive/MyDrive/cut_panoramic/Model/Classification/Female/11_รอบแรก_Flimpano_Female125_250.h5')\n",
        "height = width = model.input_shape[1]"
      ],
      "metadata": {
        "id": "plYz49xMPkly",
        "colab": {
          "base_uri": "https://localhost:8080/"
        },
        "outputId": "19b817af-e36c-480b-817a-7f57536253e3"
      },
      "execution_count": 9,
      "outputs": [
        {
          "output_type": "stream",
          "name": "stderr",
          "text": [
            "WARNING:tensorflow:From /usr/local/lib/python3.8/dist-packages/tensorflow/python/autograph/pyct/static_analysis/liveness.py:83: Analyzer.lamba_check (from tensorflow.python.autograph.pyct.static_analysis.liveness) is deprecated and will be removed after 2023-09-23.\n",
            "Instructions for updating:\n",
            "Lambda fuctions will be no more assumed to be used in the statement where they are used, or at least in the same block. https://github.com/tensorflow/tensorflow/issues/56089\n"
          ]
        }
      ]
    },
    {
      "cell_type": "code",
      "source": [
        "model.summary()"
      ],
      "metadata": {
        "colab": {
          "base_uri": "https://localhost:8080/"
        },
        "id": "z6IOPBflFbvc",
        "outputId": "b55cdad4-aa0d-44a7-a79c-d81131cfe504"
      },
      "execution_count": 10,
      "outputs": [
        {
          "output_type": "stream",
          "name": "stdout",
          "text": [
            "Model: \"sequential_2\"\n",
            "_________________________________________________________________\n",
            " Layer (type)                Output Shape              Param #   \n",
            "=================================================================\n",
            " efficientnet-b0 (Functional  (None, 5, 5, 1280)       4049564   \n",
            " )                                                               \n",
            "                                                                 \n",
            " gap (GlobalMaxPooling2D)    (None, 1280)              0         \n",
            "                                                                 \n",
            " dropout_out (Dropout)       (None, 1280)              0         \n",
            "                                                                 \n",
            " fc_out (Dense)              (None, 19)                24339     \n",
            "                                                                 \n",
            "=================================================================\n",
            "Total params: 4,073,903\n",
            "Trainable params: 24,339\n",
            "Non-trainable params: 4,049,564\n",
            "_________________________________________________________________\n"
          ]
        }
      ]
    },
    {
      "cell_type": "code",
      "source": [
        "# Train ด้วย ImageDataGenerator ของ Keras ซึ่งจะเพิ่มข้อมูลเสริมระหว่างการฝึกเพื่อลดโอกาสเกิด overfitting\n",
        "#overfitting เกิดจากข้อมูลที่ซับซ้อนกันเกินไป\n",
        "from tensorflow.keras.preprocessing.image import ImageDataGenerator\n",
        "\n",
        "train_datagen = ImageDataGenerator(\n",
        "      rescale=1./255, #โมเดลส่วนใหญ่ต้องใช้ RGB ในช่วง 0–1\n",
        "      rotation_range=40,\n",
        "      width_shift_range=0.2,\n",
        "      height_shift_range=0.2,\n",
        "      shear_range=0.2,\n",
        "      zoom_range=0.2,\n",
        "      horizontal_flip=True,\n",
        "      fill_mode='nearest')\n",
        "\n",
        "# Note that the validation data should not be augmented!\n",
        "test_datagen = ImageDataGenerator(rescale=1./255)\n",
        "\n",
        "train_generator = train_datagen.flow_from_directory(\n",
        "        # This is the target directory #ไดเรกเป้าหมาย\n",
        "        train_dir,\n",
        "        # รูปภาพทั้งหมดจะถูกปรับขนาดตามความสูงและความกว้างของเป้าหมาย\n",
        "        target_size=(height, width),\n",
        "        batch_size=batch_size,\n",
        "        # Since we use categorical_crossentropy loss, we need categorical labels\n",
        "        #เนื่องจากเราใช้ categorical_crossentropy loss เราจึงต้องมีป้ายกำกับตามหมวดหมู่\n",
        "        class_mode='categorical')\n",
        "\n",
        "validation_generator = test_datagen.flow_from_directory( #การดึงภาพจาก Directory มาเข้าโมเดล \n",
        "        validation_dir,\n",
        "        target_size=(height, width),\n",
        "        batch_size=batch_size,\n",
        "        class_mode='categorical')"
      ],
      "metadata": {
        "colab": {
          "base_uri": "https://localhost:8080/"
        },
        "id": "KBMZbdr2Pgw4",
        "outputId": "ab663abe-b369-408d-9a44-192434464869"
      },
      "execution_count": 11,
      "outputs": [
        {
          "output_type": "stream",
          "name": "stdout",
          "text": [
            "Found 1425 images belonging to 19 classes.\n",
            "Found 475 images belonging to 19 classes.\n"
          ]
        }
      ]
    },
    {
      "cell_type": "code",
      "source": [
        "history = model.fit_generator(\n",
        "      train_generator,\n",
        "      steps_per_epoch= NUM_TRAIN //batch_size,\n",
        "      epochs=epochs,\n",
        "      validation_data=validation_generator,\n",
        "      validation_steps= NUM_TEST //batch_size,\n",
        "      verbose=1,\n",
        "      use_multiprocessing=True,\n",
        "      workers=4)"
      ],
      "metadata": {
        "colab": {
          "base_uri": "https://localhost:8080/"
        },
        "id": "C9Cf1dwyP1PD",
        "outputId": "ab9bf55d-d04d-4929-97e8-def352f03b93"
      },
      "execution_count": 12,
      "outputs": [
        {
          "output_type": "stream",
          "name": "stderr",
          "text": [
            "<ipython-input-12-caa7b37242a8>:1: UserWarning: `Model.fit_generator` is deprecated and will be removed in a future version. Please use `Model.fit`, which supports generators.\n",
            "  history = model.fit_generator(\n"
          ]
        },
        {
          "output_type": "stream",
          "name": "stdout",
          "text": [
            "Epoch 1/250\n",
            "89/89 [==============================] - 324s 3s/step - loss: 2.6955 - acc: 0.1732 - val_loss: 2.7298 - val_acc: 0.1616\n",
            "Epoch 2/250\n",
            "89/89 [==============================] - 15s 166ms/step - loss: 2.6436 - acc: 0.1959 - val_loss: 2.6994 - val_acc: 0.1638\n",
            "Epoch 3/250\n",
            "89/89 [==============================] - 11s 118ms/step - loss: 2.6791 - acc: 0.1867 - val_loss: 2.7206 - val_acc: 0.1638\n",
            "Epoch 4/250\n",
            "89/89 [==============================] - 15s 162ms/step - loss: 2.6423 - acc: 0.2072 - val_loss: 2.7257 - val_acc: 0.1681\n",
            "Epoch 5/250\n",
            "89/89 [==============================] - 10s 111ms/step - loss: 2.6014 - acc: 0.1924 - val_loss: 2.7167 - val_acc: 0.1638\n",
            "Epoch 6/250\n",
            "89/89 [==============================] - 14s 158ms/step - loss: 2.6584 - acc: 0.2030 - val_loss: 2.7109 - val_acc: 0.1767\n",
            "Epoch 7/250\n",
            "89/89 [==============================] - 15s 166ms/step - loss: 2.6519 - acc: 0.1895 - val_loss: 2.7467 - val_acc: 0.1681\n",
            "Epoch 8/250\n",
            "89/89 [==============================] - 15s 166ms/step - loss: 2.6544 - acc: 0.1859 - val_loss: 2.7052 - val_acc: 0.1767\n",
            "Epoch 9/250\n",
            "89/89 [==============================] - 15s 169ms/step - loss: 2.6791 - acc: 0.1838 - val_loss: 2.7240 - val_acc: 0.1638\n",
            "Epoch 10/250\n",
            "89/89 [==============================] - 15s 168ms/step - loss: 2.5894 - acc: 0.1952 - val_loss: 2.7588 - val_acc: 0.1552\n",
            "Epoch 11/250\n",
            "89/89 [==============================] - 16s 172ms/step - loss: 2.6524 - acc: 0.1888 - val_loss: 2.7381 - val_acc: 0.1616\n",
            "Epoch 12/250\n",
            "89/89 [==============================] - 10s 105ms/step - loss: 2.6205 - acc: 0.1980 - val_loss: 2.7242 - val_acc: 0.1638\n",
            "Epoch 13/250\n",
            "89/89 [==============================] - 11s 116ms/step - loss: 2.6351 - acc: 0.1831 - val_loss: 2.7345 - val_acc: 0.1681\n",
            "Epoch 14/250\n",
            "89/89 [==============================] - 16s 173ms/step - loss: 2.6443 - acc: 0.1994 - val_loss: 2.7279 - val_acc: 0.1681\n",
            "Epoch 15/250\n",
            "89/89 [==============================] - 16s 170ms/step - loss: 2.6639 - acc: 0.1888 - val_loss: 2.7063 - val_acc: 0.1767\n",
            "Epoch 16/250\n",
            "89/89 [==============================] - 16s 172ms/step - loss: 2.6780 - acc: 0.1902 - val_loss: 2.7122 - val_acc: 0.1703\n",
            "Epoch 17/250\n",
            "89/89 [==============================] - 15s 163ms/step - loss: 2.6088 - acc: 0.1938 - val_loss: 2.6966 - val_acc: 0.1746\n",
            "Epoch 18/250\n",
            "89/89 [==============================] - 15s 163ms/step - loss: 2.6363 - acc: 0.1718 - val_loss: 2.7365 - val_acc: 0.1703\n",
            "Epoch 19/250\n",
            "89/89 [==============================] - 15s 168ms/step - loss: 2.6337 - acc: 0.1760 - val_loss: 2.7210 - val_acc: 0.1724\n",
            "Epoch 20/250\n",
            "89/89 [==============================] - 16s 169ms/step - loss: 2.5973 - acc: 0.1888 - val_loss: 2.7180 - val_acc: 0.1659\n",
            "Epoch 21/250\n",
            "89/89 [==============================] - 16s 175ms/step - loss: 2.6016 - acc: 0.1973 - val_loss: 2.7080 - val_acc: 0.1746\n",
            "Epoch 22/250\n",
            "89/89 [==============================] - 16s 173ms/step - loss: 2.6438 - acc: 0.1916 - val_loss: 2.7133 - val_acc: 0.1724\n",
            "Epoch 23/250\n",
            "89/89 [==============================] - 15s 163ms/step - loss: 2.6166 - acc: 0.2030 - val_loss: 2.7059 - val_acc: 0.1724\n",
            "Epoch 24/250\n",
            "89/89 [==============================] - 11s 114ms/step - loss: 2.6002 - acc: 0.1973 - val_loss: 2.7210 - val_acc: 0.1746\n",
            "Epoch 25/250\n",
            "89/89 [==============================] - 15s 167ms/step - loss: 2.6801 - acc: 0.1810 - val_loss: 2.7303 - val_acc: 0.1703\n",
            "Epoch 26/250\n",
            "89/89 [==============================] - 16s 178ms/step - loss: 2.7040 - acc: 0.1781 - val_loss: 2.7355 - val_acc: 0.1659\n",
            "Epoch 27/250\n",
            "89/89 [==============================] - 16s 171ms/step - loss: 2.5878 - acc: 0.1845 - val_loss: 2.7370 - val_acc: 0.1767\n",
            "Epoch 28/250\n",
            "89/89 [==============================] - 17s 184ms/step - loss: 2.6424 - acc: 0.1888 - val_loss: 2.7289 - val_acc: 0.1703\n",
            "Epoch 29/250\n",
            "89/89 [==============================] - 16s 175ms/step - loss: 2.5976 - acc: 0.1902 - val_loss: 2.7196 - val_acc: 0.1746\n",
            "Epoch 30/250\n",
            "89/89 [==============================] - 15s 166ms/step - loss: 2.6644 - acc: 0.1789 - val_loss: 2.7200 - val_acc: 0.1724\n",
            "Epoch 31/250\n",
            "89/89 [==============================] - 15s 169ms/step - loss: 2.5800 - acc: 0.1959 - val_loss: 2.7335 - val_acc: 0.1703\n",
            "Epoch 32/250\n",
            "89/89 [==============================] - 16s 172ms/step - loss: 2.6183 - acc: 0.1859 - val_loss: 2.7256 - val_acc: 0.1746\n",
            "Epoch 33/250\n",
            "89/89 [==============================] - 16s 175ms/step - loss: 2.6049 - acc: 0.1845 - val_loss: 2.7048 - val_acc: 0.1767\n",
            "Epoch 34/250\n",
            "89/89 [==============================] - 16s 172ms/step - loss: 2.6646 - acc: 0.1739 - val_loss: 2.7043 - val_acc: 0.1724\n",
            "Epoch 35/250\n",
            "89/89 [==============================] - 15s 168ms/step - loss: 2.6429 - acc: 0.1930 - val_loss: 2.7066 - val_acc: 0.1789\n",
            "Epoch 36/250\n",
            "89/89 [==============================] - 15s 162ms/step - loss: 2.6209 - acc: 0.1817 - val_loss: 2.6910 - val_acc: 0.1767\n",
            "Epoch 37/250\n",
            "89/89 [==============================] - 16s 171ms/step - loss: 2.6285 - acc: 0.1824 - val_loss: 2.7133 - val_acc: 0.1703\n",
            "Epoch 38/250\n",
            "89/89 [==============================] - 16s 171ms/step - loss: 2.6580 - acc: 0.1831 - val_loss: 2.7040 - val_acc: 0.1746\n",
            "Epoch 39/250\n",
            "89/89 [==============================] - 16s 171ms/step - loss: 2.6602 - acc: 0.1810 - val_loss: 2.6900 - val_acc: 0.1767\n",
            "Epoch 40/250\n",
            "89/89 [==============================] - 16s 176ms/step - loss: 2.6229 - acc: 0.2016 - val_loss: 2.7262 - val_acc: 0.1746\n",
            "Epoch 41/250\n",
            "89/89 [==============================] - 15s 167ms/step - loss: 2.6297 - acc: 0.2079 - val_loss: 2.7298 - val_acc: 0.1746\n",
            "Epoch 42/250\n",
            "89/89 [==============================] - 10s 109ms/step - loss: 2.6223 - acc: 0.2001 - val_loss: 2.7480 - val_acc: 0.1746\n",
            "Epoch 43/250\n",
            "89/89 [==============================] - 15s 167ms/step - loss: 2.5773 - acc: 0.1945 - val_loss: 2.7484 - val_acc: 0.1724\n",
            "Epoch 44/250\n",
            "89/89 [==============================] - 15s 166ms/step - loss: 2.6301 - acc: 0.1859 - val_loss: 2.7296 - val_acc: 0.1659\n",
            "Epoch 45/250\n",
            "89/89 [==============================] - 16s 171ms/step - loss: 2.5914 - acc: 0.2009 - val_loss: 2.7052 - val_acc: 0.1810\n",
            "Epoch 46/250\n",
            "89/89 [==============================] - 16s 173ms/step - loss: 2.5855 - acc: 0.1994 - val_loss: 2.7083 - val_acc: 0.1897\n",
            "Epoch 47/250\n",
            "89/89 [==============================] - 16s 175ms/step - loss: 2.5978 - acc: 0.1930 - val_loss: 2.7069 - val_acc: 0.1810\n",
            "Epoch 48/250\n",
            "89/89 [==============================] - 16s 173ms/step - loss: 2.6640 - acc: 0.1803 - val_loss: 2.7331 - val_acc: 0.1810\n",
            "Epoch 49/250\n",
            "89/89 [==============================] - 10s 107ms/step - loss: 2.6101 - acc: 0.1895 - val_loss: 2.7085 - val_acc: 0.1897\n",
            "Epoch 50/250\n",
            "89/89 [==============================] - 11s 118ms/step - loss: 2.6040 - acc: 0.1930 - val_loss: 2.7222 - val_acc: 0.1875\n",
            "Epoch 51/250\n",
            "89/89 [==============================] - 16s 172ms/step - loss: 2.6035 - acc: 0.1930 - val_loss: 2.6922 - val_acc: 0.1897\n",
            "Epoch 52/250\n",
            "89/89 [==============================] - 16s 173ms/step - loss: 2.6183 - acc: 0.1973 - val_loss: 2.7187 - val_acc: 0.1810\n",
            "Epoch 53/250\n",
            "89/89 [==============================] - 15s 164ms/step - loss: 2.5639 - acc: 0.2051 - val_loss: 2.7248 - val_acc: 0.1918\n",
            "Epoch 54/250\n",
            "89/89 [==============================] - 15s 163ms/step - loss: 2.6426 - acc: 0.1789 - val_loss: 2.7288 - val_acc: 0.1918\n",
            "Epoch 55/250\n",
            "89/89 [==============================] - 10s 113ms/step - loss: 2.5765 - acc: 0.1938 - val_loss: 2.7180 - val_acc: 0.1789\n",
            "Epoch 56/250\n",
            "89/89 [==============================] - 10s 107ms/step - loss: 2.5719 - acc: 0.1895 - val_loss: 2.7308 - val_acc: 0.1832\n",
            "Epoch 57/250\n",
            "89/89 [==============================] - 10s 111ms/step - loss: 2.5683 - acc: 0.1959 - val_loss: 2.7171 - val_acc: 0.1789\n",
            "Epoch 58/250\n",
            "89/89 [==============================] - 16s 171ms/step - loss: 2.5732 - acc: 0.1987 - val_loss: 2.7179 - val_acc: 0.1789\n",
            "Epoch 59/250\n",
            "89/89 [==============================] - 11s 117ms/step - loss: 2.5697 - acc: 0.1987 - val_loss: 2.7281 - val_acc: 0.1875\n",
            "Epoch 60/250\n",
            "89/89 [==============================] - 16s 169ms/step - loss: 2.5585 - acc: 0.1909 - val_loss: 2.7267 - val_acc: 0.1853\n",
            "Epoch 61/250\n",
            "89/89 [==============================] - 15s 163ms/step - loss: 2.5777 - acc: 0.1987 - val_loss: 2.7023 - val_acc: 0.1875\n",
            "Epoch 62/250\n",
            "89/89 [==============================] - 16s 171ms/step - loss: 2.5646 - acc: 0.1852 - val_loss: 2.7199 - val_acc: 0.1767\n",
            "Epoch 63/250\n",
            "89/89 [==============================] - 11s 119ms/step - loss: 2.6365 - acc: 0.1945 - val_loss: 2.7430 - val_acc: 0.1746\n",
            "Epoch 64/250\n",
            "89/89 [==============================] - 16s 173ms/step - loss: 2.6496 - acc: 0.1923 - val_loss: 2.7176 - val_acc: 0.1746\n",
            "Epoch 65/250\n",
            "89/89 [==============================] - 16s 175ms/step - loss: 2.5496 - acc: 0.2023 - val_loss: 2.7011 - val_acc: 0.1703\n",
            "Epoch 66/250\n",
            "89/89 [==============================] - 16s 174ms/step - loss: 2.6062 - acc: 0.1895 - val_loss: 2.6951 - val_acc: 0.1832\n",
            "Epoch 67/250\n",
            "89/89 [==============================] - 11s 122ms/step - loss: 2.5810 - acc: 0.1994 - val_loss: 2.6970 - val_acc: 0.1853\n",
            "Epoch 68/250\n",
            "89/89 [==============================] - 11s 120ms/step - loss: 2.5901 - acc: 0.1803 - val_loss: 2.7194 - val_acc: 0.1853\n",
            "Epoch 69/250\n",
            "89/89 [==============================] - 11s 117ms/step - loss: 2.5792 - acc: 0.1902 - val_loss: 2.7205 - val_acc: 0.1810\n",
            "Epoch 70/250\n",
            "89/89 [==============================] - 16s 171ms/step - loss: 2.5582 - acc: 0.1881 - val_loss: 2.7553 - val_acc: 0.1767\n",
            "Epoch 71/250\n",
            "89/89 [==============================] - 16s 172ms/step - loss: 2.5197 - acc: 0.2001 - val_loss: 2.7494 - val_acc: 0.1767\n",
            "Epoch 72/250\n",
            "89/89 [==============================] - 16s 174ms/step - loss: 2.5798 - acc: 0.1987 - val_loss: 2.6892 - val_acc: 0.1832\n",
            "Epoch 73/250\n",
            "89/89 [==============================] - 16s 177ms/step - loss: 2.5962 - acc: 0.1760 - val_loss: 2.7161 - val_acc: 0.1832\n",
            "Epoch 74/250\n",
            "89/89 [==============================] - 16s 171ms/step - loss: 2.5755 - acc: 0.1945 - val_loss: 2.7275 - val_acc: 0.1810\n",
            "Epoch 75/250\n",
            "89/89 [==============================] - 15s 168ms/step - loss: 2.5526 - acc: 0.1930 - val_loss: 2.7142 - val_acc: 0.1767\n",
            "Epoch 76/250\n",
            "89/89 [==============================] - 11s 115ms/step - loss: 2.5759 - acc: 0.1980 - val_loss: 2.7518 - val_acc: 0.1659\n",
            "Epoch 77/250\n",
            "89/89 [==============================] - 15s 167ms/step - loss: 2.5490 - acc: 0.1945 - val_loss: 2.7214 - val_acc: 0.1724\n",
            "Epoch 78/250\n",
            "89/89 [==============================] - 16s 174ms/step - loss: 2.5908 - acc: 0.1966 - val_loss: 2.7172 - val_acc: 0.1875\n",
            "Epoch 79/250\n",
            "89/89 [==============================] - 16s 175ms/step - loss: 2.5666 - acc: 0.2030 - val_loss: 2.7136 - val_acc: 0.1810\n",
            "Epoch 80/250\n",
            "89/89 [==============================] - 16s 175ms/step - loss: 2.5924 - acc: 0.1923 - val_loss: 2.7240 - val_acc: 0.1767\n",
            "Epoch 81/250\n",
            "89/89 [==============================] - 16s 173ms/step - loss: 2.4829 - acc: 0.2165 - val_loss: 2.7208 - val_acc: 0.1703\n",
            "Epoch 82/250\n",
            "89/89 [==============================] - 15s 163ms/step - loss: 2.5885 - acc: 0.2087 - val_loss: 2.7447 - val_acc: 0.1703\n",
            "Epoch 83/250\n",
            "89/89 [==============================] - 15s 167ms/step - loss: 2.5125 - acc: 0.2058 - val_loss: 2.7603 - val_acc: 0.1746\n",
            "Epoch 84/250\n",
            "89/89 [==============================] - 16s 173ms/step - loss: 2.5319 - acc: 0.1868 - val_loss: 2.7285 - val_acc: 0.1746\n",
            "Epoch 85/250\n",
            "89/89 [==============================] - 16s 175ms/step - loss: 2.5520 - acc: 0.1909 - val_loss: 2.7105 - val_acc: 0.1875\n",
            "Epoch 86/250\n",
            "89/89 [==============================] - 16s 173ms/step - loss: 2.5132 - acc: 0.2221 - val_loss: 2.7193 - val_acc: 0.1875\n",
            "Epoch 87/250\n",
            "89/89 [==============================] - 15s 167ms/step - loss: 2.5893 - acc: 0.1824 - val_loss: 2.7233 - val_acc: 0.1897\n",
            "Epoch 88/250\n",
            "89/89 [==============================] - 10s 111ms/step - loss: 2.5852 - acc: 0.1938 - val_loss: 2.7481 - val_acc: 0.1789\n",
            "Epoch 89/250\n",
            "89/89 [==============================] - 16s 169ms/step - loss: 2.5704 - acc: 0.1895 - val_loss: 2.7351 - val_acc: 0.1875\n",
            "Epoch 90/250\n",
            "89/89 [==============================] - 16s 170ms/step - loss: 2.5446 - acc: 0.1874 - val_loss: 2.7231 - val_acc: 0.1897\n",
            "Epoch 91/250\n",
            "89/89 [==============================] - 16s 173ms/step - loss: 2.4982 - acc: 0.1973 - val_loss: 2.7278 - val_acc: 0.1789\n",
            "Epoch 92/250\n",
            "89/89 [==============================] - 16s 175ms/step - loss: 2.5517 - acc: 0.1916 - val_loss: 2.7285 - val_acc: 0.1875\n",
            "Epoch 93/250\n",
            "89/89 [==============================] - 16s 177ms/step - loss: 2.5564 - acc: 0.1923 - val_loss: 2.7305 - val_acc: 0.1853\n",
            "Epoch 94/250\n",
            "89/89 [==============================] - 16s 175ms/step - loss: 2.5267 - acc: 0.2051 - val_loss: 2.7284 - val_acc: 0.1853\n",
            "Epoch 95/250\n",
            "89/89 [==============================] - 16s 175ms/step - loss: 2.5599 - acc: 0.1973 - val_loss: 2.7207 - val_acc: 0.1875\n",
            "Epoch 96/250\n",
            "89/89 [==============================] - 16s 175ms/step - loss: 2.5214 - acc: 0.1980 - val_loss: 2.7474 - val_acc: 0.1810\n",
            "Epoch 97/250\n",
            "89/89 [==============================] - 11s 119ms/step - loss: 2.5622 - acc: 0.2030 - val_loss: 2.7389 - val_acc: 0.1853\n",
            "Epoch 98/250\n",
            "89/89 [==============================] - 11s 117ms/step - loss: 2.5497 - acc: 0.2108 - val_loss: 2.7311 - val_acc: 0.1853\n",
            "Epoch 99/250\n",
            "89/89 [==============================] - 16s 169ms/step - loss: 2.5254 - acc: 0.1987 - val_loss: 2.7539 - val_acc: 0.1746\n",
            "Epoch 100/250\n",
            "89/89 [==============================] - 16s 174ms/step - loss: 2.5214 - acc: 0.2023 - val_loss: 2.6955 - val_acc: 0.1832\n",
            "Epoch 101/250\n",
            "89/89 [==============================] - 16s 175ms/step - loss: 2.5580 - acc: 0.2072 - val_loss: 2.7279 - val_acc: 0.1789\n",
            "Epoch 102/250\n",
            "89/89 [==============================] - 16s 172ms/step - loss: 2.5108 - acc: 0.2087 - val_loss: 2.7155 - val_acc: 0.1940\n",
            "Epoch 103/250\n",
            "89/89 [==============================] - 15s 162ms/step - loss: 2.5268 - acc: 0.1959 - val_loss: 2.7057 - val_acc: 0.1853\n",
            "Epoch 104/250\n",
            "89/89 [==============================] - 16s 173ms/step - loss: 2.5213 - acc: 0.2079 - val_loss: 2.7240 - val_acc: 0.1789\n",
            "Epoch 105/250\n",
            "89/89 [==============================] - 16s 171ms/step - loss: 2.4866 - acc: 0.2072 - val_loss: 2.7248 - val_acc: 0.1789\n",
            "Epoch 106/250\n",
            "89/89 [==============================] - 16s 175ms/step - loss: 2.5723 - acc: 0.1895 - val_loss: 2.7246 - val_acc: 0.1853\n",
            "Epoch 107/250\n",
            "89/89 [==============================] - 16s 174ms/step - loss: 2.5463 - acc: 0.2016 - val_loss: 2.6936 - val_acc: 0.1875\n",
            "Epoch 108/250\n",
            "89/89 [==============================] - 15s 167ms/step - loss: 2.5986 - acc: 0.1810 - val_loss: 2.6872 - val_acc: 0.1832\n",
            "Epoch 109/250\n",
            "89/89 [==============================] - 15s 167ms/step - loss: 2.4899 - acc: 0.1930 - val_loss: 2.7072 - val_acc: 0.1832\n",
            "Epoch 110/250\n",
            "89/89 [==============================] - 16s 173ms/step - loss: 2.5160 - acc: 0.1845 - val_loss: 2.7271 - val_acc: 0.1853\n",
            "Epoch 111/250\n",
            "89/89 [==============================] - 16s 173ms/step - loss: 2.5438 - acc: 0.1923 - val_loss: 2.7193 - val_acc: 0.1875\n",
            "Epoch 112/250\n",
            "89/89 [==============================] - 16s 173ms/step - loss: 2.4985 - acc: 0.2101 - val_loss: 2.7358 - val_acc: 0.1832\n",
            "Epoch 113/250\n",
            "89/89 [==============================] - 15s 168ms/step - loss: 2.5318 - acc: 0.2030 - val_loss: 2.7129 - val_acc: 0.1810\n",
            "Epoch 114/250\n",
            "89/89 [==============================] - 15s 165ms/step - loss: 2.4709 - acc: 0.2051 - val_loss: 2.7087 - val_acc: 0.1789\n",
            "Epoch 115/250\n",
            "89/89 [==============================] - 16s 171ms/step - loss: 2.5137 - acc: 0.2115 - val_loss: 2.7191 - val_acc: 0.1897\n",
            "Epoch 116/250\n",
            "89/89 [==============================] - 16s 173ms/step - loss: 2.5034 - acc: 0.1994 - val_loss: 2.7476 - val_acc: 0.1832\n",
            "Epoch 117/250\n",
            "89/89 [==============================] - 11s 118ms/step - loss: 2.5778 - acc: 0.1966 - val_loss: 2.7317 - val_acc: 0.1832\n",
            "Epoch 118/250\n",
            "89/89 [==============================] - 16s 176ms/step - loss: 2.5141 - acc: 0.2094 - val_loss: 2.7107 - val_acc: 0.1853\n",
            "Epoch 119/250\n",
            "89/89 [==============================] - 16s 180ms/step - loss: 2.5174 - acc: 0.2079 - val_loss: 2.7143 - val_acc: 0.1853\n",
            "Epoch 120/250\n",
            "89/89 [==============================] - 16s 171ms/step - loss: 2.5402 - acc: 0.2009 - val_loss: 2.7304 - val_acc: 0.1832\n",
            "Epoch 121/250\n",
            "89/89 [==============================] - 15s 165ms/step - loss: 2.5707 - acc: 0.1909 - val_loss: 2.7217 - val_acc: 0.1853\n",
            "Epoch 122/250\n",
            "89/89 [==============================] - 11s 118ms/step - loss: 2.5149 - acc: 0.2072 - val_loss: 2.7241 - val_acc: 0.1810\n",
            "Epoch 123/250\n",
            "89/89 [==============================] - 15s 167ms/step - loss: 2.4963 - acc: 0.1994 - val_loss: 2.7310 - val_acc: 0.1789\n",
            "Epoch 124/250\n",
            "89/89 [==============================] - 16s 178ms/step - loss: 2.5099 - acc: 0.2023 - val_loss: 2.7143 - val_acc: 0.1853\n",
            "Epoch 125/250\n",
            "89/89 [==============================] - 16s 173ms/step - loss: 2.4752 - acc: 0.1994 - val_loss: 2.7238 - val_acc: 0.1810\n",
            "Epoch 126/250\n",
            "89/89 [==============================] - 16s 175ms/step - loss: 2.5399 - acc: 0.1980 - val_loss: 2.7219 - val_acc: 0.1832\n",
            "Epoch 127/250\n",
            "89/89 [==============================] - 16s 173ms/step - loss: 2.5244 - acc: 0.1938 - val_loss: 2.6916 - val_acc: 0.1810\n",
            "Epoch 128/250\n",
            "89/89 [==============================] - 15s 165ms/step - loss: 2.5378 - acc: 0.2030 - val_loss: 2.6998 - val_acc: 0.1875\n",
            "Epoch 129/250\n",
            "89/89 [==============================] - 16s 172ms/step - loss: 2.4934 - acc: 0.2207 - val_loss: 2.7351 - val_acc: 0.1897\n",
            "Epoch 130/250\n",
            "89/89 [==============================] - 16s 170ms/step - loss: 2.4585 - acc: 0.2349 - val_loss: 2.7325 - val_acc: 0.1789\n",
            "Epoch 131/250\n",
            "89/89 [==============================] - 16s 174ms/step - loss: 2.4962 - acc: 0.2108 - val_loss: 2.7017 - val_acc: 0.1875\n",
            "Epoch 132/250\n",
            "89/89 [==============================] - 16s 174ms/step - loss: 2.5008 - acc: 0.2150 - val_loss: 2.7050 - val_acc: 0.1875\n",
            "Epoch 133/250\n",
            "89/89 [==============================] - 16s 169ms/step - loss: 2.4471 - acc: 0.2179 - val_loss: 2.7304 - val_acc: 0.1789\n",
            "Epoch 134/250\n",
            "89/89 [==============================] - 16s 172ms/step - loss: 2.5492 - acc: 0.1930 - val_loss: 2.7190 - val_acc: 0.1918\n",
            "Epoch 135/250\n",
            "89/89 [==============================] - 16s 174ms/step - loss: 2.4717 - acc: 0.2264 - val_loss: 2.7249 - val_acc: 0.1789\n",
            "Epoch 136/250\n",
            "89/89 [==============================] - 16s 173ms/step - loss: 2.4963 - acc: 0.1959 - val_loss: 2.6989 - val_acc: 0.1961\n",
            "Epoch 137/250\n",
            "89/89 [==============================] - 16s 177ms/step - loss: 2.5137 - acc: 0.2193 - val_loss: 2.7179 - val_acc: 0.1789\n",
            "Epoch 138/250\n",
            "89/89 [==============================] - 15s 166ms/step - loss: 2.4808 - acc: 0.2016 - val_loss: 2.7167 - val_acc: 0.2004\n",
            "Epoch 139/250\n",
            "89/89 [==============================] - 16s 170ms/step - loss: 2.5102 - acc: 0.2051 - val_loss: 2.7098 - val_acc: 0.1897\n",
            "Epoch 140/250\n",
            "89/89 [==============================] - 16s 171ms/step - loss: 2.5178 - acc: 0.2065 - val_loss: 2.7135 - val_acc: 0.1897\n",
            "Epoch 141/250\n",
            "89/89 [==============================] - 16s 174ms/step - loss: 2.5088 - acc: 0.2058 - val_loss: 2.7014 - val_acc: 0.1918\n",
            "Epoch 142/250\n",
            "89/89 [==============================] - 11s 119ms/step - loss: 2.4259 - acc: 0.2236 - val_loss: 2.7145 - val_acc: 0.1983\n",
            "Epoch 143/250\n",
            "89/89 [==============================] - 16s 177ms/step - loss: 2.4490 - acc: 0.2257 - val_loss: 2.7275 - val_acc: 0.1897\n",
            "Epoch 144/250\n",
            "89/89 [==============================] - 16s 176ms/step - loss: 2.5206 - acc: 0.1973 - val_loss: 2.7304 - val_acc: 0.1940\n",
            "Epoch 145/250\n",
            "89/89 [==============================] - 16s 172ms/step - loss: 2.4820 - acc: 0.2087 - val_loss: 2.7133 - val_acc: 0.1875\n",
            "Epoch 146/250\n",
            "89/89 [==============================] - 15s 166ms/step - loss: 2.4998 - acc: 0.1994 - val_loss: 2.7179 - val_acc: 0.1853\n",
            "Epoch 147/250\n",
            "89/89 [==============================] - 16s 173ms/step - loss: 2.4529 - acc: 0.2172 - val_loss: 2.7019 - val_acc: 0.1918\n",
            "Epoch 148/250\n",
            "89/89 [==============================] - 16s 171ms/step - loss: 2.4725 - acc: 0.2037 - val_loss: 2.7432 - val_acc: 0.1832\n",
            "Epoch 149/250\n",
            "89/89 [==============================] - 16s 174ms/step - loss: 2.5052 - acc: 0.2051 - val_loss: 2.7342 - val_acc: 0.1875\n",
            "Epoch 150/250\n",
            "89/89 [==============================] - 16s 174ms/step - loss: 2.4859 - acc: 0.2030 - val_loss: 2.7219 - val_acc: 0.1940\n",
            "Epoch 151/250\n",
            "89/89 [==============================] - 15s 166ms/step - loss: 2.5068 - acc: 0.1973 - val_loss: 2.7331 - val_acc: 0.1875\n",
            "Epoch 152/250\n",
            "89/89 [==============================] - 11s 116ms/step - loss: 2.5278 - acc: 0.2009 - val_loss: 2.7296 - val_acc: 0.1875\n",
            "Epoch 153/250\n",
            "89/89 [==============================] - 15s 164ms/step - loss: 2.4828 - acc: 0.1895 - val_loss: 2.7509 - val_acc: 0.1832\n",
            "Epoch 154/250\n",
            "89/89 [==============================] - 15s 168ms/step - loss: 2.4867 - acc: 0.1980 - val_loss: 2.7385 - val_acc: 0.1810\n",
            "Epoch 155/250\n",
            "89/89 [==============================] - 16s 170ms/step - loss: 2.4507 - acc: 0.2356 - val_loss: 2.7321 - val_acc: 0.1983\n",
            "Epoch 156/250\n",
            "89/89 [==============================] - 16s 174ms/step - loss: 2.4642 - acc: 0.2193 - val_loss: 2.6936 - val_acc: 0.1918\n",
            "Epoch 157/250\n",
            "89/89 [==============================] - 16s 176ms/step - loss: 2.5333 - acc: 0.2087 - val_loss: 2.6695 - val_acc: 0.1961\n",
            "Epoch 158/250\n",
            "89/89 [==============================] - 15s 167ms/step - loss: 2.4931 - acc: 0.1895 - val_loss: 2.7008 - val_acc: 0.1897\n",
            "Epoch 159/250\n",
            "89/89 [==============================] - 16s 175ms/step - loss: 2.4363 - acc: 0.2271 - val_loss: 2.7076 - val_acc: 0.1875\n",
            "Epoch 160/250\n",
            "89/89 [==============================] - 16s 174ms/step - loss: 2.5178 - acc: 0.2150 - val_loss: 2.7006 - val_acc: 0.1940\n",
            "Epoch 161/250\n",
            "89/89 [==============================] - 11s 114ms/step - loss: 2.4626 - acc: 0.2079 - val_loss: 2.7242 - val_acc: 0.1918\n",
            "Epoch 162/250\n",
            "89/89 [==============================] - 16s 173ms/step - loss: 2.4842 - acc: 0.2143 - val_loss: 2.6944 - val_acc: 0.2004\n",
            "Epoch 163/250\n",
            "89/89 [==============================] - 16s 172ms/step - loss: 2.5075 - acc: 0.2158 - val_loss: 2.7040 - val_acc: 0.1961\n",
            "Epoch 164/250\n",
            "89/89 [==============================] - 15s 164ms/step - loss: 2.4472 - acc: 0.2065 - val_loss: 2.7096 - val_acc: 0.1961\n",
            "Epoch 165/250\n",
            "89/89 [==============================] - 16s 174ms/step - loss: 2.4530 - acc: 0.2200 - val_loss: 2.7087 - val_acc: 0.1940\n",
            "Epoch 166/250\n",
            "89/89 [==============================] - 16s 175ms/step - loss: 2.4970 - acc: 0.2030 - val_loss: 2.7173 - val_acc: 0.1918\n",
            "Epoch 167/250\n",
            "89/89 [==============================] - 16s 175ms/step - loss: 2.4926 - acc: 0.2200 - val_loss: 2.7106 - val_acc: 0.1940\n",
            "Epoch 168/250\n",
            "89/89 [==============================] - 16s 173ms/step - loss: 2.4897 - acc: 0.2158 - val_loss: 2.6810 - val_acc: 0.1940\n",
            "Epoch 169/250\n",
            "89/89 [==============================] - 10s 106ms/step - loss: 2.4489 - acc: 0.2143 - val_loss: 2.7025 - val_acc: 0.1940\n",
            "Epoch 170/250\n",
            "89/89 [==============================] - 16s 173ms/step - loss: 2.4888 - acc: 0.2001 - val_loss: 2.7080 - val_acc: 0.1961\n",
            "Epoch 171/250\n",
            "89/89 [==============================] - 10s 109ms/step - loss: 2.4779 - acc: 0.2079 - val_loss: 2.6919 - val_acc: 0.1918\n",
            "Epoch 172/250\n",
            "89/89 [==============================] - 16s 173ms/step - loss: 2.4559 - acc: 0.2250 - val_loss: 2.7084 - val_acc: 0.1897\n",
            "Epoch 173/250\n",
            "89/89 [==============================] - 11s 117ms/step - loss: 2.3833 - acc: 0.2385 - val_loss: 2.6985 - val_acc: 0.1875\n",
            "Epoch 174/250\n",
            "89/89 [==============================] - 15s 168ms/step - loss: 2.4630 - acc: 0.2172 - val_loss: 2.6988 - val_acc: 0.1983\n",
            "Epoch 175/250\n",
            "89/89 [==============================] - 16s 172ms/step - loss: 2.4758 - acc: 0.2044 - val_loss: 2.6956 - val_acc: 0.1983\n",
            "Epoch 176/250\n",
            "89/89 [==============================] - 16s 175ms/step - loss: 2.4390 - acc: 0.2221 - val_loss: 2.7196 - val_acc: 0.2026\n",
            "Epoch 177/250\n",
            "89/89 [==============================] - 16s 175ms/step - loss: 2.4507 - acc: 0.2200 - val_loss: 2.6906 - val_acc: 0.1983\n",
            "Epoch 178/250\n",
            "89/89 [==============================] - 16s 171ms/step - loss: 2.4754 - acc: 0.2143 - val_loss: 2.6837 - val_acc: 0.2026\n",
            "Epoch 179/250\n",
            "89/89 [==============================] - 15s 168ms/step - loss: 2.4617 - acc: 0.1930 - val_loss: 2.7041 - val_acc: 0.1961\n",
            "Epoch 180/250\n",
            "89/89 [==============================] - 16s 171ms/step - loss: 2.5197 - acc: 0.2186 - val_loss: 2.7146 - val_acc: 0.1961\n",
            "Epoch 181/250\n",
            "89/89 [==============================] - 16s 174ms/step - loss: 2.4339 - acc: 0.2236 - val_loss: 2.7116 - val_acc: 0.1983\n",
            "Epoch 182/250\n",
            "89/89 [==============================] - 16s 175ms/step - loss: 2.4724 - acc: 0.2087 - val_loss: 2.7056 - val_acc: 0.2004\n",
            "Epoch 183/250\n",
            "89/89 [==============================] - 16s 171ms/step - loss: 2.4811 - acc: 0.1973 - val_loss: 2.7225 - val_acc: 0.1940\n",
            "Epoch 184/250\n",
            "89/89 [==============================] - 11s 112ms/step - loss: 2.4780 - acc: 0.2129 - val_loss: 2.7210 - val_acc: 0.1853\n",
            "Epoch 185/250\n",
            "89/89 [==============================] - 16s 169ms/step - loss: 2.4531 - acc: 0.2108 - val_loss: 2.7233 - val_acc: 0.1918\n",
            "Epoch 186/250\n",
            "89/89 [==============================] - 15s 167ms/step - loss: 2.4533 - acc: 0.2051 - val_loss: 2.6946 - val_acc: 0.1983\n",
            "Epoch 187/250\n",
            "89/89 [==============================] - 16s 173ms/step - loss: 2.4598 - acc: 0.2186 - val_loss: 2.6946 - val_acc: 0.1983\n",
            "Epoch 188/250\n",
            "89/89 [==============================] - 16s 172ms/step - loss: 2.4787 - acc: 0.2136 - val_loss: 2.6952 - val_acc: 0.2004\n",
            "Epoch 189/250\n",
            "89/89 [==============================] - 16s 176ms/step - loss: 2.4721 - acc: 0.2115 - val_loss: 2.7159 - val_acc: 0.1875\n",
            "Epoch 190/250\n",
            "89/89 [==============================] - 11s 117ms/step - loss: 2.4695 - acc: 0.2172 - val_loss: 2.7041 - val_acc: 0.1897\n",
            "Epoch 191/250\n",
            "89/89 [==============================] - 16s 176ms/step - loss: 2.4431 - acc: 0.2143 - val_loss: 2.7055 - val_acc: 0.1897\n",
            "Epoch 192/250\n",
            "89/89 [==============================] - 16s 171ms/step - loss: 2.4619 - acc: 0.2150 - val_loss: 2.7258 - val_acc: 0.1853\n",
            "Epoch 193/250\n",
            "89/89 [==============================] - 15s 166ms/step - loss: 2.4886 - acc: 0.2009 - val_loss: 2.7083 - val_acc: 0.1961\n",
            "Epoch 194/250\n",
            "89/89 [==============================] - 16s 172ms/step - loss: 2.4261 - acc: 0.2115 - val_loss: 2.7064 - val_acc: 0.1940\n",
            "Epoch 195/250\n",
            "89/89 [==============================] - 16s 174ms/step - loss: 2.4608 - acc: 0.2051 - val_loss: 2.6822 - val_acc: 0.1983\n",
            "Epoch 196/250\n",
            "89/89 [==============================] - 16s 174ms/step - loss: 2.4391 - acc: 0.2264 - val_loss: 2.7190 - val_acc: 0.1940\n",
            "Epoch 197/250\n",
            "89/89 [==============================] - 16s 174ms/step - loss: 2.4625 - acc: 0.2094 - val_loss: 2.6992 - val_acc: 0.1940\n",
            "Epoch 198/250\n",
            "89/89 [==============================] - 15s 166ms/step - loss: 2.4507 - acc: 0.2065 - val_loss: 2.7135 - val_acc: 0.1875\n",
            "Epoch 199/250\n",
            "89/89 [==============================] - 16s 172ms/step - loss: 2.5097 - acc: 0.2044 - val_loss: 2.7013 - val_acc: 0.1983\n",
            "Epoch 200/250\n",
            "89/89 [==============================] - 16s 172ms/step - loss: 2.4487 - acc: 0.2229 - val_loss: 2.7017 - val_acc: 0.1961\n",
            "Epoch 201/250\n",
            "89/89 [==============================] - 16s 176ms/step - loss: 2.4252 - acc: 0.2108 - val_loss: 2.7042 - val_acc: 0.1918\n",
            "Epoch 202/250\n",
            "89/89 [==============================] - 16s 175ms/step - loss: 2.5102 - acc: 0.2072 - val_loss: 2.7280 - val_acc: 0.1810\n",
            "Epoch 203/250\n",
            "89/89 [==============================] - 15s 166ms/step - loss: 2.4015 - acc: 0.2129 - val_loss: 2.7507 - val_acc: 0.1789\n",
            "Epoch 204/250\n",
            "89/89 [==============================] - 15s 168ms/step - loss: 2.4459 - acc: 0.2129 - val_loss: 2.7387 - val_acc: 0.1875\n",
            "Epoch 205/250\n",
            "89/89 [==============================] - 16s 171ms/step - loss: 2.4558 - acc: 0.2094 - val_loss: 2.7238 - val_acc: 0.1940\n",
            "Epoch 206/250\n",
            "89/89 [==============================] - 16s 174ms/step - loss: 2.3719 - acc: 0.2420 - val_loss: 2.7023 - val_acc: 0.2069\n",
            "Epoch 207/250\n",
            "89/89 [==============================] - 16s 174ms/step - loss: 2.4544 - acc: 0.1867 - val_loss: 2.7134 - val_acc: 0.1853\n",
            "Epoch 208/250\n",
            "89/89 [==============================] - 16s 174ms/step - loss: 2.4500 - acc: 0.2129 - val_loss: 2.7172 - val_acc: 0.1940\n",
            "Epoch 209/250\n",
            "89/89 [==============================] - 16s 171ms/step - loss: 2.3902 - acc: 0.2200 - val_loss: 2.6949 - val_acc: 0.1897\n",
            "Epoch 210/250\n",
            "89/89 [==============================] - 16s 174ms/step - loss: 2.4354 - acc: 0.2271 - val_loss: 2.7114 - val_acc: 0.1875\n",
            "Epoch 211/250\n",
            "89/89 [==============================] - 16s 173ms/step - loss: 2.4544 - acc: 0.2122 - val_loss: 2.6828 - val_acc: 0.1983\n",
            "Epoch 212/250\n",
            "89/89 [==============================] - 10s 110ms/step - loss: 2.4288 - acc: 0.2136 - val_loss: 2.7087 - val_acc: 0.1940\n",
            "Epoch 213/250\n",
            "89/89 [==============================] - 16s 174ms/step - loss: 2.4592 - acc: 0.2108 - val_loss: 2.7193 - val_acc: 0.1940\n",
            "Epoch 214/250\n",
            "89/89 [==============================] - 15s 166ms/step - loss: 2.4327 - acc: 0.2158 - val_loss: 2.7084 - val_acc: 0.1832\n",
            "Epoch 215/250\n",
            "89/89 [==============================] - 16s 170ms/step - loss: 2.4442 - acc: 0.2150 - val_loss: 2.7152 - val_acc: 0.1961\n",
            "Epoch 216/250\n",
            "89/89 [==============================] - 16s 170ms/step - loss: 2.4343 - acc: 0.2243 - val_loss: 2.7090 - val_acc: 0.1897\n",
            "Epoch 217/250\n",
            "89/89 [==============================] - 16s 172ms/step - loss: 2.4392 - acc: 0.2179 - val_loss: 2.7120 - val_acc: 0.1961\n",
            "Epoch 218/250\n",
            "89/89 [==============================] - 16s 173ms/step - loss: 2.4443 - acc: 0.2122 - val_loss: 2.7128 - val_acc: 0.1940\n",
            "Epoch 219/250\n",
            "89/89 [==============================] - 15s 168ms/step - loss: 2.4211 - acc: 0.2221 - val_loss: 2.7249 - val_acc: 0.1940\n",
            "Epoch 220/250\n",
            "89/89 [==============================] - 15s 167ms/step - loss: 2.4329 - acc: 0.2363 - val_loss: 2.6928 - val_acc: 0.1961\n",
            "Epoch 221/250\n",
            "89/89 [==============================] - 16s 172ms/step - loss: 2.3997 - acc: 0.2264 - val_loss: 2.7065 - val_acc: 0.1853\n",
            "Epoch 222/250\n",
            "89/89 [==============================] - 16s 171ms/step - loss: 2.4448 - acc: 0.2285 - val_loss: 2.7279 - val_acc: 0.1897\n",
            "Epoch 223/250\n",
            "89/89 [==============================] - 11s 118ms/step - loss: 2.4191 - acc: 0.2150 - val_loss: 2.7217 - val_acc: 0.1918\n",
            "Epoch 224/250\n",
            "89/89 [==============================] - 16s 172ms/step - loss: 2.4009 - acc: 0.2158 - val_loss: 2.7168 - val_acc: 0.1940\n",
            "Epoch 225/250\n",
            "89/89 [==============================] - 16s 174ms/step - loss: 2.4108 - acc: 0.2349 - val_loss: 2.6980 - val_acc: 0.2026\n",
            "Epoch 226/250\n",
            "89/89 [==============================] - 17s 182ms/step - loss: 2.4184 - acc: 0.2300 - val_loss: 2.7160 - val_acc: 0.1983\n",
            "Epoch 227/250\n",
            "89/89 [==============================] - 10s 107ms/step - loss: 2.4185 - acc: 0.2413 - val_loss: 2.7351 - val_acc: 0.1918\n",
            "Epoch 228/250\n",
            "89/89 [==============================] - 16s 172ms/step - loss: 2.4287 - acc: 0.2072 - val_loss: 2.7103 - val_acc: 0.1940\n",
            "Epoch 229/250\n",
            "89/89 [==============================] - 11s 117ms/step - loss: 2.4203 - acc: 0.2072 - val_loss: 2.7414 - val_acc: 0.1832\n",
            "Epoch 230/250\n",
            "89/89 [==============================] - 11s 115ms/step - loss: 2.4215 - acc: 0.2214 - val_loss: 2.7232 - val_acc: 0.1897\n",
            "Epoch 231/250\n",
            "89/89 [==============================] - 12s 127ms/step - loss: 2.4563 - acc: 0.2165 - val_loss: 2.7302 - val_acc: 0.1875\n",
            "Epoch 232/250\n",
            "89/89 [==============================] - 16s 176ms/step - loss: 2.4375 - acc: 0.2328 - val_loss: 2.7326 - val_acc: 0.1832\n",
            "Epoch 233/250\n",
            "89/89 [==============================] - 11s 115ms/step - loss: 2.4260 - acc: 0.2179 - val_loss: 2.7234 - val_acc: 0.1875\n",
            "Epoch 234/250\n",
            "89/89 [==============================] - 15s 165ms/step - loss: 2.3565 - acc: 0.2307 - val_loss: 2.6975 - val_acc: 0.1875\n",
            "Epoch 235/250\n",
            "89/89 [==============================] - 16s 173ms/step - loss: 2.4113 - acc: 0.2179 - val_loss: 2.6991 - val_acc: 0.1983\n",
            "Epoch 236/250\n",
            "89/89 [==============================] - 16s 171ms/step - loss: 2.3915 - acc: 0.2207 - val_loss: 2.7132 - val_acc: 0.1961\n",
            "Epoch 237/250\n",
            "89/89 [==============================] - 16s 175ms/step - loss: 2.4048 - acc: 0.2229 - val_loss: 2.7108 - val_acc: 0.1983\n",
            "Epoch 238/250\n",
            "89/89 [==============================] - 16s 172ms/step - loss: 2.3903 - acc: 0.2165 - val_loss: 2.7151 - val_acc: 0.1983\n",
            "Epoch 239/250\n",
            "89/89 [==============================] - 16s 171ms/step - loss: 2.4147 - acc: 0.2122 - val_loss: 2.7150 - val_acc: 0.1918\n",
            "Epoch 240/250\n",
            "89/89 [==============================] - 11s 118ms/step - loss: 2.4096 - acc: 0.2143 - val_loss: 2.7057 - val_acc: 0.1810\n",
            "Epoch 241/250\n",
            "89/89 [==============================] - 16s 175ms/step - loss: 2.4414 - acc: 0.2101 - val_loss: 2.7274 - val_acc: 0.1875\n",
            "Epoch 242/250\n",
            "89/89 [==============================] - 16s 174ms/step - loss: 2.3817 - acc: 0.2278 - val_loss: 2.7203 - val_acc: 0.1897\n",
            "Epoch 243/250\n",
            "89/89 [==============================] - 16s 176ms/step - loss: 2.4341 - acc: 0.2087 - val_loss: 2.7349 - val_acc: 0.1940\n",
            "Epoch 244/250\n",
            "89/89 [==============================] - 16s 176ms/step - loss: 2.4297 - acc: 0.2094 - val_loss: 2.7305 - val_acc: 0.1940\n",
            "Epoch 245/250\n",
            "89/89 [==============================] - 15s 168ms/step - loss: 2.3870 - acc: 0.2307 - val_loss: 2.7006 - val_acc: 0.1961\n",
            "Epoch 246/250\n",
            "89/89 [==============================] - 16s 174ms/step - loss: 2.3922 - acc: 0.2214 - val_loss: 2.7429 - val_acc: 0.1918\n",
            "Epoch 247/250\n",
            "89/89 [==============================] - 16s 172ms/step - loss: 2.4231 - acc: 0.2094 - val_loss: 2.7387 - val_acc: 0.1875\n",
            "Epoch 248/250\n",
            "89/89 [==============================] - 15s 165ms/step - loss: 2.4094 - acc: 0.2307 - val_loss: 2.7523 - val_acc: 0.1875\n",
            "Epoch 249/250\n",
            "89/89 [==============================] - 16s 173ms/step - loss: 2.3858 - acc: 0.2307 - val_loss: 2.7664 - val_acc: 0.1832\n",
            "Epoch 250/250\n",
            "89/89 [==============================] - 16s 174ms/step - loss: 2.3987 - acc: 0.2300 - val_loss: 2.7369 - val_acc: 0.1961\n"
          ]
        }
      ]
    },
    {
      "cell_type": "code",
      "source": [
        "acc = history.history['acc']\n",
        "val_acc = history.history['val_acc']\n",
        "loss = history.history['loss']\n",
        "val_loss = history.history['val_loss']\n",
        "\n",
        "epochs_x = range(len(acc))\n",
        "\n",
        "plt.plot(epochs_x, acc, 'mo', label='Training acc')\n",
        "plt.plot(epochs_x, val_acc, 'k', label='Validation acc')\n",
        "plt.title('Training and validation accuracy')\n",
        "plt.legend()\n",
        "\n",
        "plt.figure()\n",
        "\n",
        "plt.plot(epochs_x, loss, 'mo', label='Training loss')\n",
        "plt.plot(epochs_x, val_loss, 'k', label='Validation loss')\n",
        "plt.title('Training and validation loss')\n",
        "plt.legend()\n",
        "\n",
        "plt.show()"
      ],
      "metadata": {
        "id": "kwylTJpTP5XI",
        "colab": {
          "base_uri": "https://localhost:8080/",
          "height": 545
        },
        "outputId": "05db0204-5771-46d5-d5d6-ad589970919b"
      },
      "execution_count": 13,
      "outputs": [
        {
          "output_type": "display_data",
          "data": {
            "text/plain": [
              "<Figure size 432x288 with 1 Axes>"
            ],
            "image/png": "[encoded data removed]"
          },
          "metadata": {
            "needs_background": "light"
          }
        },
        {
          "output_type": "display_data",
          "data": {
            "text/plain": [
              "<Figure size 432x288 with 1 Axes>"
            ],
            "image/png": "[encoded data removed]"
          },
          "metadata": {
            "needs_background": "light"
          }
        }
      ]
    },
    {
      "cell_type": "markdown",
      "source": [
        "#Download the model"
      ],
      "metadata": {
        "id": "lD-vKaoHQAFd"
      }
    },
    {
      "cell_type": "code",
      "source": [
        "os.makedirs('/content/drive/My Drive/cut_panoramic/Model', exist_ok=True)\n",
        "model.save('/content/drive/My Drive/cut_panoramic/Model/Classification/Female/FF2_Train_Freeze.h5')"
      ],
      "metadata": {
        "id": "74dL7-HLP_Sh"
      },
      "execution_count": 14,
      "outputs": []
    },
    {
      "cell_type": "code",
      "source": [
        "# from google.colab import files\n",
        "# files.download('/content/drive/My Drive/cut_panoramic/Model/22_รอบที่2_Flimpano_Female125_250.h5')"
      ],
      "metadata": {
        "id": "qcPW-brHQDpc"
      },
      "execution_count": 15,
      "outputs": []
    }
  ]
}