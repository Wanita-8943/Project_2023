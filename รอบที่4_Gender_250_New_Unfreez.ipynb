{
  "nbformat": 4,
  "nbformat_minor": 0,
  "metadata": {
    "colab": {
      "provenance": [],
      "include_colab_link": true
    },
    "kernelspec": {
      "name": "python3",
      "display_name": "Python 3"
    },
    "language_info": {
      "name": "python"
    },
    "accelerator": "GPU",
    "gpuClass": "standard"
  },
  "cells": [
    {
      "cell_type": "markdown",
      "metadata": {
        "id": "view-in-github",
        "colab_type": "text"
      },
      "source": [
        "<a href=\"https://colab.research.google.com/github/Wanita-8943/Project_2023/blob/main/%E0%B8%A3%E0%B8%AD%E0%B8%9A%E0%B8%97%E0%B8%B5%E0%B9%884_Gender_250_New_Unfreez.ipynb\" target=\"_parent\"><img src=\"https://colab.research.google.com/assets/colab-badge.svg\" alt=\"Open In Colab\"/></a>"
      ]
    },
    {
      "cell_type": "code",
      "execution_count": 1,
      "metadata": {
        "id": "KKSs7cyoPHcD"
      },
      "outputs": [],
      "source": [
        "import pandas as pd\n",
        "import shutil"
      ]
    },
    {
      "cell_type": "code",
      "source": [
        "from google.colab import drive\n",
        "drive.mount('/content/drive')"
      ],
      "metadata": {
        "colab": {
          "base_uri": "https://localhost:8080/"
        },
        "id": "Klm1B91QlvKd",
        "outputId": "12bf207f-2923-4762-f586-0bd24f6913f4"
      },
      "execution_count": 2,
      "outputs": [
        {
          "output_type": "stream",
          "name": "stdout",
          "text": [
            "Mounted at /content/drive\n"
          ]
        }
      ]
    },
    {
      "cell_type": "code",
      "source": [
        "from tensorflow.keras import models\n",
        "from tensorflow.keras import layers\n",
        "from tensorflow.keras import optimizers\n",
        "import os\n",
        "import glob\n",
        "import shutil\n",
        "import sys\n",
        "import numpy as np\n",
        "from skimage.io import imread\n",
        "import matplotlib.pyplot as plt\n",
        "from IPython.display import Image\n",
        "%matplotlib inline"
      ],
      "metadata": {
        "id": "1pX9g1HxPM2f"
      },
      "execution_count": 3,
      "outputs": []
    },
    {
      "cell_type": "code",
      "source": [
        "batch_size = 16\n",
        "width = 150\n",
        "height = 150\n",
        "epochs = 250\n",
        "NUM_TRAIN = 2850\n",
        "NUM_TEST = 950\n",
        "dropout_rate = 0.2\n",
        "input_shape = (height, width, 3)"
      ],
      "metadata": {
        "id": "eSFtvGyvPM6O"
      },
      "execution_count": 4,
      "outputs": []
    },
    {
      "cell_type": "code",
      "source": [
        "#ดึงข้อมูลใน Github มาใช้\n",
        "import os\n",
        "%cd /content\n",
        "if not os.path.isdir(\"efficientnet_keras_transfer_learning\"):\n",
        " !git clone https://github.com/Wanita-8943/efficientnet_keras_transfer_learning\n",
        "%cd efficientnet_keras_transfer_learning/"
      ],
      "metadata": {
        "colab": {
          "base_uri": "https://localhost:8080/"
        },
        "id": "lb4K4CsMPNAW",
        "outputId": "8a48ca4c-b781-421b-db30-cab3cdefe53e"
      },
      "execution_count": 5,
      "outputs": [
        {
          "output_type": "stream",
          "name": "stdout",
          "text": [
            "/content\n",
            "Cloning into 'efficientnet_keras_transfer_learning'...\n",
            "remote: Enumerating objects: 837, done.\u001b[K\n",
            "remote: Counting objects: 100% (359/359), done.\u001b[K\n",
            "remote: Compressing objects: 100% (124/124), done.\u001b[K\n",
            "remote: Total 837 (delta 255), reused 328 (delta 235), pack-reused 478\u001b[K\n",
            "Receiving objects: 100% (837/837), 13.82 MiB | 15.86 MiB/s, done.\n",
            "Resolving deltas: 100% (495/495), done.\n",
            "/content/efficientnet_keras_transfer_learning\n"
          ]
        }
      ]
    },
    {
      "cell_type": "code",
      "source": [
        "# Options: EfficientNetB0, EfficientNetB1, EfficientNetB2, EfficientNetB3\n",
        "# Higher the number, the more complex the model is.\n",
        "from efficientnet import EfficientNetB0 as Net\n",
        "from efficientnet import center_crop_and_resize, preprocess_input"
      ],
      "metadata": {
        "id": "eyBg0dLKPND3"
      },
      "execution_count": 6,
      "outputs": []
    },
    {
      "cell_type": "code",
      "source": [
        "# loading pretrained conv base model\n",
        "# โหลดโมเดล มาโดยตัด output ของโมเดลออก เเต่ยังใช้ input อันเดิม\n",
        "# เเละโหลด weight ของโมเดล มาด้วยที่ชื่อว่า imagenet\n",
        "conv_base = Net(weights='imagenet', include_top=False, input_shape=input_shape)"
      ],
      "metadata": {
        "colab": {
          "base_uri": "https://localhost:8080/"
        },
        "id": "9VBe9W9-H54h",
        "outputId": "679a5d58-c709-45bc-ec4d-c3634a6a024a"
      },
      "execution_count": 7,
      "outputs": [
        {
          "output_type": "stream",
          "name": "stderr",
          "text": [
            "WARNING:tensorflow:From /usr/local/lib/python3.8/dist-packages/tensorflow/python/autograph/pyct/static_analysis/liveness.py:83: Analyzer.lamba_check (from tensorflow.python.autograph.pyct.static_analysis.liveness) is deprecated and will be removed after 2023-09-23.\n",
            "Instructions for updating:\n",
            "Lambda fuctions will be no more assumed to be used in the statement where they are used, or at least in the same block. https://github.com/tensorflow/tensorflow/issues/56089\n"
          ]
        },
        {
          "output_type": "stream",
          "name": "stdout",
          "text": [
            "Downloading data from https://github.com/qubvel/efficientnet/releases/download/v0.0.1/efficientnet-b0_imagenet_1000_notop.h5\n",
            "16717576/16717576 [==============================] - 0s 0us/step\n"
          ]
        }
      ]
    },
    {
      "cell_type": "code",
      "source": [
        "base_dir = '/content/drive/MyDrive/TVT_Gender'\n",
        "os.makedirs(base_dir, exist_ok=True)\n",
        "\n",
        "# Directories for our training,\n",
        "# validation and test splits\n",
        "train_dir = os.path.join(base_dir, 'train')\n",
        "os.makedirs(train_dir, exist_ok=True)\n",
        "validation_dir = os.path.join(base_dir, 'validation')\n",
        "os.makedirs(validation_dir, exist_ok=True)\n",
        "test_dir = os.path.join(base_dir, 'test')\n",
        "os.makedirs(test_dir, exist_ok=True)"
      ],
      "metadata": {
        "id": "Jwpq_-KvPef8"
      },
      "execution_count": 8,
      "outputs": []
    },
    {
      "cell_type": "markdown",
      "source": [
        "#load model"
      ],
      "metadata": {
        "id": "od-ZSNm5PoGy"
      }
    },
    {
      "cell_type": "code",
      "source": [
        "import sys\n",
        "sys.path.append('/content/drive/MyDrive/cut_panoramic/Model/Classification/Gender/3_รอบที่3_Gender_250_New_Unfreez.h5')\n",
        "\n",
        "from efficientnet.layers import Swish, DropConnect\n",
        "from efficientnet.model import ConvKernalInitializer\n",
        "from tensorflow.keras.utils import get_custom_objects\n",
        "\n",
        "get_custom_objects().update({\n",
        "    'ConvKernalInitializer': ConvKernalInitializer,\n",
        "    'Swish': Swish,\n",
        "    'DropConnect':DropConnect\n",
        "})"
      ],
      "metadata": {
        "id": "n5iPL5MNPkhE"
      },
      "execution_count": 9,
      "outputs": []
    },
    {
      "cell_type": "code",
      "source": [
        "#load model \n",
        "from tensorflow.keras.models import load_model\n",
        "model = load_model('/content/drive/MyDrive/cut_panoramic/Model//Classification/Gender/3_รอบที่3_Gender_250_New_Unfreez.h5')\n",
        "height = width = model.input_shape[1]"
      ],
      "metadata": {
        "id": "plYz49xMPkly",
        "colab": {
          "base_uri": "https://localhost:8080/"
        },
        "outputId": "1cdf8b79-49d1-4087-e289-73619e5f199b"
      },
      "execution_count": 10,
      "outputs": [
        {
          "output_type": "stream",
          "name": "stderr",
          "text": [
            "WARNING:tensorflow:Error in loading the saved optimizer state. As a result, your model is starting with a freshly initialized optimizer.\n"
          ]
        }
      ]
    },
    {
      "cell_type": "code",
      "source": [
        "model.summary()"
      ],
      "metadata": {
        "colab": {
          "base_uri": "https://localhost:8080/"
        },
        "id": "z6IOPBflFbvc",
        "outputId": "14772da8-cc63-492e-ec8e-992fbf722fa5"
      },
      "execution_count": 11,
      "outputs": [
        {
          "output_type": "stream",
          "name": "stdout",
          "text": [
            "Model: \"sequential\"\n",
            "_________________________________________________________________\n",
            " Layer (type)                Output Shape              Param #   \n",
            "=================================================================\n",
            " efficientnet-b0 (Functional  (None, 5, 5, 1280)       4049564   \n",
            " )                                                               \n",
            "                                                                 \n",
            " gap (GlobalMaxPooling2D)    (None, 1280)              0         \n",
            "                                                                 \n",
            " dropout_out (Dropout)       (None, 1280)              0         \n",
            "                                                                 \n",
            " fc_out (Dense)              (None, 2)                 2562      \n",
            "                                                                 \n",
            "=================================================================\n",
            "Total params: 4,052,126\n",
            "Trainable params: 4,010,110\n",
            "Non-trainable params: 42,016\n",
            "_________________________________________________________________\n"
          ]
        }
      ]
    },
    {
      "cell_type": "code",
      "source": [
        "# Train ด้วย ImageDataGenerator ของ Keras ซึ่งจะเพิ่มข้อมูลเสริมระหว่างการฝึกเพื่อลดโอกาสเกิด overfitting\n",
        "#overfitting เกิดจากข้อมูลที่ซับซ้อนกันเกินไป\n",
        "from tensorflow.keras.preprocessing.image import ImageDataGenerator\n",
        "\n",
        "train_datagen = ImageDataGenerator(\n",
        "      rescale=1./255, #โมเดลส่วนใหญ่ต้องใช้ RGB ในช่วง 0–1\n",
        "      rotation_range=40,\n",
        "      width_shift_range=0.2,\n",
        "      height_shift_range=0.2,\n",
        "      shear_range=0.2,\n",
        "      zoom_range=0.2,\n",
        "      horizontal_flip=True,\n",
        "      fill_mode='nearest')\n",
        "\n",
        "# Note that the validation data should not be augmented!\n",
        "test_datagen = ImageDataGenerator(rescale=1./255)\n",
        "\n",
        "train_generator = train_datagen.flow_from_directory(\n",
        "        # This is the target directory #ไดเรกเป้าหมาย\n",
        "        train_dir,\n",
        "        # รูปภาพทั้งหมดจะถูกปรับขนาดตามความสูงและความกว้างของเป้าหมาย\n",
        "        target_size=(height, width),\n",
        "        batch_size=batch_size,\n",
        "        # Since we use categorical_crossentropy loss, we need categorical labels\n",
        "        #เนื่องจากเราใช้ categorical_crossentropy loss เราจึงต้องมีป้ายกำกับตามหมวดหมู่\n",
        "        class_mode='categorical')\n",
        "\n",
        "validation_generator = test_datagen.flow_from_directory( #การดึงภาพจาก Directory มาเข้าโมเดล \n",
        "        validation_dir,\n",
        "        target_size=(height, width),\n",
        "        batch_size=batch_size,\n",
        "        class_mode='categorical')"
      ],
      "metadata": {
        "colab": {
          "base_uri": "https://localhost:8080/"
        },
        "id": "KBMZbdr2Pgw4",
        "outputId": "89d66125-c756-4376-9634-0187c2e1b344"
      },
      "execution_count": 12,
      "outputs": [
        {
          "output_type": "stream",
          "name": "stdout",
          "text": [
            "Found 2850 images belonging to 2 classes.\n",
            "Found 950 images belonging to 2 classes.\n"
          ]
        }
      ]
    },
    {
      "cell_type": "code",
      "source": [
        "history = model.fit_generator(\n",
        "      train_generator,\n",
        "      steps_per_epoch= NUM_TRAIN //batch_size,\n",
        "      epochs=epochs,\n",
        "      validation_data=validation_generator,\n",
        "      validation_steps= NUM_TEST //batch_size,\n",
        "      verbose=1,\n",
        "      use_multiprocessing=True,\n",
        "      workers=4)"
      ],
      "metadata": {
        "colab": {
          "base_uri": "https://localhost:8080/"
        },
        "id": "C9Cf1dwyP1PD",
        "outputId": "e98861f9-10dd-4181-b8db-e618604c9445"
      },
      "execution_count": 13,
      "outputs": [
        {
          "output_type": "stream",
          "name": "stderr",
          "text": [
            "<ipython-input-13-caa7b37242a8>:1: UserWarning: `Model.fit_generator` is deprecated and will be removed in a future version. Please use `Model.fit`, which supports generators.\n",
            "  history = model.fit_generator(\n"
          ]
        },
        {
          "output_type": "stream",
          "name": "stdout",
          "text": [
            "Epoch 1/250\n",
            "178/178 [==============================] - 438s 2s/step - loss: 1.3042 - acc: 0.5561 - val_loss: 1.1303 - val_acc: 0.5477\n",
            "Epoch 2/250\n",
            "178/178 [==============================] - 53s 287ms/step - loss: 1.2093 - acc: 0.5783 - val_loss: 1.0358 - val_acc: 0.5551\n",
            "Epoch 3/250\n",
            "178/178 [==============================] - 54s 297ms/step - loss: 1.0746 - acc: 0.6196 - val_loss: 0.9548 - val_acc: 0.5975\n",
            "Epoch 4/250\n",
            "178/178 [==============================] - 51s 285ms/step - loss: 1.0141 - acc: 0.6394 - val_loss: 0.7574 - val_acc: 0.6737\n",
            "Epoch 5/250\n",
            "178/178 [==============================] - 51s 282ms/step - loss: 0.9629 - acc: 0.6291 - val_loss: 0.8055 - val_acc: 0.6737\n",
            "Epoch 6/250\n",
            "178/178 [==============================] - 53s 296ms/step - loss: 0.9230 - acc: 0.6623 - val_loss: 0.7850 - val_acc: 0.6843\n",
            "Epoch 7/250\n",
            "178/178 [==============================] - 51s 283ms/step - loss: 0.8751 - acc: 0.6595 - val_loss: 0.8546 - val_acc: 0.6684\n",
            "Epoch 8/250\n",
            "178/178 [==============================] - 51s 284ms/step - loss: 0.8712 - acc: 0.6644 - val_loss: 0.7524 - val_acc: 0.6896\n",
            "Epoch 9/250\n",
            "178/178 [==============================] - 52s 290ms/step - loss: 0.8210 - acc: 0.6782 - val_loss: 0.7410 - val_acc: 0.6960\n",
            "Epoch 10/250\n",
            "178/178 [==============================] - 51s 283ms/step - loss: 0.8119 - acc: 0.6930 - val_loss: 0.7949 - val_acc: 0.6811\n",
            "Epoch 11/250\n",
            "178/178 [==============================] - 51s 282ms/step - loss: 0.7858 - acc: 0.6972 - val_loss: 0.7552 - val_acc: 0.6939\n",
            "Epoch 12/250\n",
            "178/178 [==============================] - 54s 300ms/step - loss: 0.7444 - acc: 0.7096 - val_loss: 0.6945 - val_acc: 0.7129\n",
            "Epoch 13/250\n",
            "178/178 [==============================] - 51s 280ms/step - loss: 0.7402 - acc: 0.7082 - val_loss: 0.8727 - val_acc: 0.6790\n",
            "Epoch 14/250\n",
            "178/178 [==============================] - 51s 280ms/step - loss: 0.7391 - acc: 0.7032 - val_loss: 0.7975 - val_acc: 0.6928\n",
            "Epoch 15/250\n",
            "178/178 [==============================] - 51s 281ms/step - loss: 0.7233 - acc: 0.7085 - val_loss: 0.9273 - val_acc: 0.6600\n",
            "Epoch 16/250\n",
            "178/178 [==============================] - 51s 280ms/step - loss: 0.6731 - acc: 0.7272 - val_loss: 0.9217 - val_acc: 0.6610\n",
            "Epoch 17/250\n",
            "178/178 [==============================] - 53s 292ms/step - loss: 0.6920 - acc: 0.7159 - val_loss: 0.8746 - val_acc: 0.6716\n",
            "Epoch 18/250\n",
            "178/178 [==============================] - 51s 281ms/step - loss: 0.6344 - acc: 0.7445 - val_loss: 0.7427 - val_acc: 0.6917\n",
            "Epoch 19/250\n",
            "178/178 [==============================] - 51s 281ms/step - loss: 0.6434 - acc: 0.7445 - val_loss: 0.7874 - val_acc: 0.6758\n",
            "Epoch 20/250\n",
            "178/178 [==============================] - 52s 286ms/step - loss: 0.6335 - acc: 0.7357 - val_loss: 0.6983 - val_acc: 0.7108\n",
            "Epoch 21/250\n",
            "178/178 [==============================] - 51s 284ms/step - loss: 0.6502 - acc: 0.7308 - val_loss: 0.6690 - val_acc: 0.7161\n",
            "Epoch 22/250\n",
            "178/178 [==============================] - 53s 288ms/step - loss: 0.6152 - acc: 0.7350 - val_loss: 0.7215 - val_acc: 0.7076\n",
            "Epoch 23/250\n",
            "178/178 [==============================] - 54s 298ms/step - loss: 0.5913 - acc: 0.7502 - val_loss: 0.7734 - val_acc: 0.6960\n",
            "Epoch 24/250\n",
            "178/178 [==============================] - 51s 284ms/step - loss: 0.5809 - acc: 0.7445 - val_loss: 0.6546 - val_acc: 0.7299\n",
            "Epoch 25/250\n",
            "178/178 [==============================] - 52s 290ms/step - loss: 0.6053 - acc: 0.7495 - val_loss: 0.8312 - val_acc: 0.6875\n",
            "Epoch 26/250\n",
            "178/178 [==============================] - 55s 306ms/step - loss: 0.5623 - acc: 0.7629 - val_loss: 0.7709 - val_acc: 0.7013\n",
            "Epoch 27/250\n",
            "178/178 [==============================] - 52s 288ms/step - loss: 0.5379 - acc: 0.7742 - val_loss: 0.6367 - val_acc: 0.7309\n",
            "Epoch 28/250\n",
            "178/178 [==============================] - 53s 291ms/step - loss: 0.5153 - acc: 0.7713 - val_loss: 0.6448 - val_acc: 0.7299\n",
            "Epoch 29/250\n",
            "178/178 [==============================] - 57s 315ms/step - loss: 0.5271 - acc: 0.7742 - val_loss: 0.5501 - val_acc: 0.7638\n",
            "Epoch 30/250\n",
            "178/178 [==============================] - 52s 292ms/step - loss: 0.5441 - acc: 0.7646 - val_loss: 0.6777 - val_acc: 0.7256\n",
            "Epoch 31/250\n",
            "178/178 [==============================] - 52s 290ms/step - loss: 0.5328 - acc: 0.7625 - val_loss: 0.5874 - val_acc: 0.7447\n",
            "Epoch 32/250\n",
            "178/178 [==============================] - 52s 290ms/step - loss: 0.5222 - acc: 0.7883 - val_loss: 0.5767 - val_acc: 0.7511\n",
            "Epoch 33/250\n",
            "178/178 [==============================] - 52s 290ms/step - loss: 0.5353 - acc: 0.7766 - val_loss: 0.5159 - val_acc: 0.7606\n",
            "Epoch 34/250\n",
            "178/178 [==============================] - 54s 297ms/step - loss: 0.4973 - acc: 0.7752 - val_loss: 0.5782 - val_acc: 0.7447\n",
            "Epoch 35/250\n",
            "178/178 [==============================] - 51s 283ms/step - loss: 0.4933 - acc: 0.7812 - val_loss: 0.4928 - val_acc: 0.7712\n",
            "Epoch 36/250\n",
            "178/178 [==============================] - 52s 290ms/step - loss: 0.4595 - acc: 0.7943 - val_loss: 0.5014 - val_acc: 0.7691\n",
            "Epoch 37/250\n",
            "178/178 [==============================] - 55s 301ms/step - loss: 0.4687 - acc: 0.7936 - val_loss: 0.4354 - val_acc: 0.7966\n",
            "Epoch 38/250\n",
            "178/178 [==============================] - 52s 289ms/step - loss: 0.4638 - acc: 0.7957 - val_loss: 0.4760 - val_acc: 0.7797\n",
            "Epoch 39/250\n",
            "178/178 [==============================] - 54s 296ms/step - loss: 0.4666 - acc: 0.7932 - val_loss: 0.4783 - val_acc: 0.7871\n",
            "Epoch 40/250\n",
            "178/178 [==============================] - 51s 284ms/step - loss: 0.4466 - acc: 0.7999 - val_loss: 0.5418 - val_acc: 0.7701\n",
            "Epoch 41/250\n",
            "178/178 [==============================] - 52s 287ms/step - loss: 0.4300 - acc: 0.8105 - val_loss: 0.4513 - val_acc: 0.7977\n",
            "Epoch 42/250\n",
            "178/178 [==============================] - 54s 297ms/step - loss: 0.4463 - acc: 0.8056 - val_loss: 0.4371 - val_acc: 0.7987\n",
            "Epoch 43/250\n",
            "178/178 [==============================] - 51s 280ms/step - loss: 0.4417 - acc: 0.8077 - val_loss: 0.4431 - val_acc: 0.7977\n",
            "Epoch 44/250\n",
            "178/178 [==============================] - 47s 260ms/step - loss: 0.4182 - acc: 0.8183 - val_loss: 0.4569 - val_acc: 0.7903\n",
            "Epoch 45/250\n",
            "178/178 [==============================] - 51s 281ms/step - loss: 0.4311 - acc: 0.8165 - val_loss: 0.4063 - val_acc: 0.8061\n",
            "Epoch 46/250\n",
            "178/178 [==============================] - 51s 282ms/step - loss: 0.4098 - acc: 0.8140 - val_loss: 0.4097 - val_acc: 0.8104\n",
            "Epoch 47/250\n",
            "178/178 [==============================] - 51s 285ms/step - loss: 0.4136 - acc: 0.8133 - val_loss: 0.4140 - val_acc: 0.8083\n",
            "Epoch 48/250\n",
            "178/178 [==============================] - 51s 284ms/step - loss: 0.3935 - acc: 0.8222 - val_loss: 0.4036 - val_acc: 0.8072\n",
            "Epoch 49/250\n",
            "178/178 [==============================] - 51s 280ms/step - loss: 0.4116 - acc: 0.8193 - val_loss: 0.4038 - val_acc: 0.8114\n",
            "Epoch 50/250\n",
            "178/178 [==============================] - 51s 282ms/step - loss: 0.4040 - acc: 0.8292 - val_loss: 0.4138 - val_acc: 0.8146\n",
            "Epoch 51/250\n",
            "178/178 [==============================] - 51s 284ms/step - loss: 0.3959 - acc: 0.8310 - val_loss: 0.4489 - val_acc: 0.7966\n",
            "Epoch 52/250\n",
            "178/178 [==============================] - 51s 282ms/step - loss: 0.3813 - acc: 0.8405 - val_loss: 0.4100 - val_acc: 0.8093\n",
            "Epoch 53/250\n",
            "178/178 [==============================] - 51s 284ms/step - loss: 0.3821 - acc: 0.8405 - val_loss: 0.4201 - val_acc: 0.8104\n",
            "Epoch 54/250\n",
            "178/178 [==============================] - 53s 291ms/step - loss: 0.3855 - acc: 0.8264 - val_loss: 0.4244 - val_acc: 0.8083\n",
            "Epoch 55/250\n",
            "178/178 [==============================] - 51s 284ms/step - loss: 0.3855 - acc: 0.8352 - val_loss: 0.4169 - val_acc: 0.8104\n",
            "Epoch 56/250\n",
            "178/178 [==============================] - 52s 283ms/step - loss: 0.3702 - acc: 0.8433 - val_loss: 0.4059 - val_acc: 0.8157\n",
            "Epoch 57/250\n",
            "178/178 [==============================] - 50s 277ms/step - loss: 0.3651 - acc: 0.8476 - val_loss: 0.4273 - val_acc: 0.8104\n",
            "Epoch 58/250\n",
            "178/178 [==============================] - 52s 283ms/step - loss: 0.3719 - acc: 0.8486 - val_loss: 0.4192 - val_acc: 0.8061\n",
            "Epoch 59/250\n",
            "178/178 [==============================] - 51s 280ms/step - loss: 0.3562 - acc: 0.8483 - val_loss: 0.4522 - val_acc: 0.7924\n",
            "Epoch 60/250\n",
            "178/178 [==============================] - 51s 284ms/step - loss: 0.3605 - acc: 0.8500 - val_loss: 0.4269 - val_acc: 0.8051\n",
            "Epoch 61/250\n",
            "178/178 [==============================] - 52s 291ms/step - loss: 0.3614 - acc: 0.8529 - val_loss: 0.4196 - val_acc: 0.8114\n",
            "Epoch 62/250\n",
            "178/178 [==============================] - 50s 278ms/step - loss: 0.3561 - acc: 0.8490 - val_loss: 0.4605 - val_acc: 0.7956\n",
            "Epoch 63/250\n",
            "178/178 [==============================] - 52s 283ms/step - loss: 0.3431 - acc: 0.8490 - val_loss: 0.4347 - val_acc: 0.8125\n",
            "Epoch 64/250\n",
            "178/178 [==============================] - 53s 288ms/step - loss: 0.3551 - acc: 0.8486 - val_loss: 0.3829 - val_acc: 0.8358\n",
            "Epoch 65/250\n",
            "178/178 [==============================] - 52s 286ms/step - loss: 0.3394 - acc: 0.8550 - val_loss: 0.4114 - val_acc: 0.8231\n",
            "Epoch 66/250\n",
            "178/178 [==============================] - 47s 258ms/step - loss: 0.3190 - acc: 0.8582 - val_loss: 0.4565 - val_acc: 0.8136\n",
            "Epoch 67/250\n",
            "178/178 [==============================] - 53s 284ms/step - loss: 0.3295 - acc: 0.8603 - val_loss: 0.4261 - val_acc: 0.8178\n",
            "Epoch 68/250\n",
            "178/178 [==============================] - 52s 286ms/step - loss: 0.3238 - acc: 0.8649 - val_loss: 0.4339 - val_acc: 0.8189\n",
            "Epoch 69/250\n",
            "178/178 [==============================] - 50s 279ms/step - loss: 0.3316 - acc: 0.8564 - val_loss: 0.4148 - val_acc: 0.8369\n",
            "Epoch 70/250\n",
            "178/178 [==============================] - 52s 285ms/step - loss: 0.3205 - acc: 0.8620 - val_loss: 0.4014 - val_acc: 0.8379\n",
            "Epoch 71/250\n",
            "178/178 [==============================] - 51s 281ms/step - loss: 0.3095 - acc: 0.8709 - val_loss: 0.4517 - val_acc: 0.8210\n",
            "Epoch 72/250\n",
            "178/178 [==============================] - 53s 290ms/step - loss: 0.3294 - acc: 0.8645 - val_loss: 0.3859 - val_acc: 0.8485\n",
            "Epoch 73/250\n",
            "178/178 [==============================] - 60s 332ms/step - loss: 0.3178 - acc: 0.8645 - val_loss: 0.4060 - val_acc: 0.8379\n",
            "Epoch 74/250\n",
            "178/178 [==============================] - 54s 292ms/step - loss: 0.3145 - acc: 0.8613 - val_loss: 0.4017 - val_acc: 0.8347\n",
            "Epoch 75/250\n",
            "178/178 [==============================] - 53s 293ms/step - loss: 0.3063 - acc: 0.8723 - val_loss: 0.4255 - val_acc: 0.8273\n",
            "Epoch 76/250\n",
            "178/178 [==============================] - 52s 286ms/step - loss: 0.3158 - acc: 0.8712 - val_loss: 0.3998 - val_acc: 0.8369\n",
            "Epoch 77/250\n",
            "178/178 [==============================] - 51s 283ms/step - loss: 0.3041 - acc: 0.8694 - val_loss: 0.3978 - val_acc: 0.8326\n",
            "Epoch 78/250\n",
            "178/178 [==============================] - 52s 281ms/step - loss: 0.2938 - acc: 0.8829 - val_loss: 0.4044 - val_acc: 0.8369\n",
            "Epoch 79/250\n",
            "178/178 [==============================] - 53s 289ms/step - loss: 0.3025 - acc: 0.8786 - val_loss: 0.4544 - val_acc: 0.8146\n",
            "Epoch 80/250\n",
            "178/178 [==============================] - 52s 286ms/step - loss: 0.2898 - acc: 0.8754 - val_loss: 0.3815 - val_acc: 0.8496\n",
            "Epoch 81/250\n",
            "178/178 [==============================] - 52s 285ms/step - loss: 0.2879 - acc: 0.8776 - val_loss: 0.4141 - val_acc: 0.8326\n",
            "Epoch 82/250\n",
            "178/178 [==============================] - 53s 290ms/step - loss: 0.2775 - acc: 0.8836 - val_loss: 0.4037 - val_acc: 0.8252\n",
            "Epoch 83/250\n",
            "178/178 [==============================] - 53s 290ms/step - loss: 0.2815 - acc: 0.8804 - val_loss: 0.3916 - val_acc: 0.8379\n",
            "Epoch 84/250\n",
            "178/178 [==============================] - 53s 295ms/step - loss: 0.2837 - acc: 0.8867 - val_loss: 0.4141 - val_acc: 0.8358\n",
            "Epoch 85/250\n",
            "178/178 [==============================] - 54s 297ms/step - loss: 0.2638 - acc: 0.8885 - val_loss: 0.4363 - val_acc: 0.8231\n",
            "Epoch 86/250\n",
            "178/178 [==============================] - 51s 283ms/step - loss: 0.2963 - acc: 0.8769 - val_loss: 0.4134 - val_acc: 0.8326\n",
            "Epoch 87/250\n",
            "178/178 [==============================] - 51s 282ms/step - loss: 0.2869 - acc: 0.8846 - val_loss: 0.4468 - val_acc: 0.8157\n",
            "Epoch 88/250\n",
            "178/178 [==============================] - 51s 280ms/step - loss: 0.2780 - acc: 0.8874 - val_loss: 0.4035 - val_acc: 0.8316\n",
            "Epoch 89/250\n",
            "178/178 [==============================] - 51s 280ms/step - loss: 0.2742 - acc: 0.8797 - val_loss: 0.4351 - val_acc: 0.8294\n",
            "Epoch 90/250\n",
            "178/178 [==============================] - 51s 283ms/step - loss: 0.2596 - acc: 0.8934 - val_loss: 0.4452 - val_acc: 0.8231\n",
            "Epoch 91/250\n",
            "178/178 [==============================] - 52s 286ms/step - loss: 0.2816 - acc: 0.8878 - val_loss: 0.4178 - val_acc: 0.8400\n",
            "Epoch 92/250\n",
            "178/178 [==============================] - 47s 261ms/step - loss: 0.2668 - acc: 0.8906 - val_loss: 0.4464 - val_acc: 0.8294\n",
            "Epoch 93/250\n",
            "178/178 [==============================] - 53s 287ms/step - loss: 0.2631 - acc: 0.8860 - val_loss: 0.4516 - val_acc: 0.8273\n",
            "Epoch 94/250\n",
            "178/178 [==============================] - 51s 283ms/step - loss: 0.2530 - acc: 0.9016 - val_loss: 0.4713 - val_acc: 0.8220\n",
            "Epoch 95/250\n",
            "178/178 [==============================] - 51s 282ms/step - loss: 0.2692 - acc: 0.8945 - val_loss: 0.4835 - val_acc: 0.8167\n",
            "Epoch 96/250\n",
            "178/178 [==============================] - 51s 282ms/step - loss: 0.2475 - acc: 0.9012 - val_loss: 0.4694 - val_acc: 0.8263\n",
            "Epoch 97/250\n",
            "178/178 [==============================] - 51s 283ms/step - loss: 0.2469 - acc: 0.8998 - val_loss: 0.4427 - val_acc: 0.8326\n",
            "Epoch 98/250\n",
            "178/178 [==============================] - 51s 282ms/step - loss: 0.2383 - acc: 0.9076 - val_loss: 0.4682 - val_acc: 0.8347\n",
            "Epoch 99/250\n",
            "178/178 [==============================] - 51s 282ms/step - loss: 0.2553 - acc: 0.8973 - val_loss: 0.4160 - val_acc: 0.8485\n",
            "Epoch 100/250\n",
            "178/178 [==============================] - 53s 287ms/step - loss: 0.2316 - acc: 0.9061 - val_loss: 0.4390 - val_acc: 0.8422\n",
            "Epoch 101/250\n",
            "178/178 [==============================] - 53s 289ms/step - loss: 0.2449 - acc: 0.8987 - val_loss: 0.4105 - val_acc: 0.8496\n",
            "Epoch 102/250\n",
            "178/178 [==============================] - 52s 286ms/step - loss: 0.2421 - acc: 0.9012 - val_loss: 0.4378 - val_acc: 0.8294\n",
            "Epoch 103/250\n",
            "178/178 [==============================] - 51s 282ms/step - loss: 0.2293 - acc: 0.9061 - val_loss: 0.5056 - val_acc: 0.8220\n",
            "Epoch 104/250\n",
            "178/178 [==============================] - 52s 288ms/step - loss: 0.2233 - acc: 0.9072 - val_loss: 0.4734 - val_acc: 0.8326\n",
            "Epoch 105/250\n",
            "178/178 [==============================] - 53s 291ms/step - loss: 0.2380 - acc: 0.9061 - val_loss: 0.4151 - val_acc: 0.8496\n",
            "Epoch 106/250\n",
            "178/178 [==============================] - 51s 282ms/step - loss: 0.2396 - acc: 0.9016 - val_loss: 0.4434 - val_acc: 0.8390\n",
            "Epoch 107/250\n",
            "178/178 [==============================] - 51s 284ms/step - loss: 0.2390 - acc: 0.9044 - val_loss: 0.4715 - val_acc: 0.8294\n",
            "Epoch 108/250\n",
            "178/178 [==============================] - 49s 274ms/step - loss: 0.2253 - acc: 0.9023 - val_loss: 0.4440 - val_acc: 0.8422\n",
            "Epoch 109/250\n",
            "178/178 [==============================] - 51s 282ms/step - loss: 0.2300 - acc: 0.9068 - val_loss: 0.4631 - val_acc: 0.8379\n",
            "Epoch 110/250\n",
            "178/178 [==============================] - 51s 279ms/step - loss: 0.2240 - acc: 0.9023 - val_loss: 0.4974 - val_acc: 0.8294\n",
            "Epoch 111/250\n",
            "178/178 [==============================] - 50s 278ms/step - loss: 0.2300 - acc: 0.9037 - val_loss: 0.5043 - val_acc: 0.8263\n",
            "Epoch 112/250\n",
            "178/178 [==============================] - 54s 293ms/step - loss: 0.2299 - acc: 0.9100 - val_loss: 0.4710 - val_acc: 0.8347\n",
            "Epoch 113/250\n",
            "178/178 [==============================] - 51s 284ms/step - loss: 0.2215 - acc: 0.9100 - val_loss: 0.4585 - val_acc: 0.8379\n",
            "Epoch 114/250\n",
            "178/178 [==============================] - 52s 287ms/step - loss: 0.2174 - acc: 0.9083 - val_loss: 0.4356 - val_acc: 0.8453\n",
            "Epoch 115/250\n",
            "178/178 [==============================] - 50s 277ms/step - loss: 0.2090 - acc: 0.9160 - val_loss: 0.4688 - val_acc: 0.8369\n",
            "Epoch 116/250\n",
            "178/178 [==============================] - 51s 284ms/step - loss: 0.2258 - acc: 0.9125 - val_loss: 0.4393 - val_acc: 0.8453\n",
            "Epoch 117/250\n",
            "178/178 [==============================] - 51s 280ms/step - loss: 0.2027 - acc: 0.9143 - val_loss: 0.4200 - val_acc: 0.8506\n",
            "Epoch 118/250\n",
            "178/178 [==============================] - 51s 281ms/step - loss: 0.2146 - acc: 0.9128 - val_loss: 0.4355 - val_acc: 0.8453\n",
            "Epoch 119/250\n",
            "178/178 [==============================] - 51s 282ms/step - loss: 0.2059 - acc: 0.9111 - val_loss: 0.4345 - val_acc: 0.8538\n",
            "Epoch 120/250\n",
            "178/178 [==============================] - 51s 277ms/step - loss: 0.2012 - acc: 0.9167 - val_loss: 0.4718 - val_acc: 0.8411\n",
            "Epoch 121/250\n",
            "178/178 [==============================] - 50s 278ms/step - loss: 0.1879 - acc: 0.9241 - val_loss: 0.5221 - val_acc: 0.8252\n",
            "Epoch 122/250\n",
            "178/178 [==============================] - 50s 279ms/step - loss: 0.1955 - acc: 0.9252 - val_loss: 0.4788 - val_acc: 0.8453\n",
            "Epoch 123/250\n",
            "178/178 [==============================] - 50s 278ms/step - loss: 0.1835 - acc: 0.9273 - val_loss: 0.4863 - val_acc: 0.8379\n",
            "Epoch 124/250\n",
            "178/178 [==============================] - 51s 279ms/step - loss: 0.1887 - acc: 0.9203 - val_loss: 0.4512 - val_acc: 0.8549\n",
            "Epoch 125/250\n",
            "178/178 [==============================] - 45s 250ms/step - loss: 0.1839 - acc: 0.9231 - val_loss: 0.5047 - val_acc: 0.8411\n",
            "Epoch 126/250\n",
            "178/178 [==============================] - 52s 284ms/step - loss: 0.2048 - acc: 0.9213 - val_loss: 0.5035 - val_acc: 0.8422\n",
            "Epoch 127/250\n",
            "178/178 [==============================] - 51s 279ms/step - loss: 0.1994 - acc: 0.9252 - val_loss: 0.4522 - val_acc: 0.8549\n",
            "Epoch 128/250\n",
            "178/178 [==============================] - 52s 281ms/step - loss: 0.1945 - acc: 0.9174 - val_loss: 0.4853 - val_acc: 0.8517\n",
            "Epoch 129/250\n",
            "178/178 [==============================] - 51s 282ms/step - loss: 0.2039 - acc: 0.9217 - val_loss: 0.4727 - val_acc: 0.8549\n",
            "Epoch 130/250\n",
            "178/178 [==============================] - 51s 281ms/step - loss: 0.1848 - acc: 0.9234 - val_loss: 0.4751 - val_acc: 0.8581\n",
            "Epoch 131/250\n",
            "178/178 [==============================] - 51s 282ms/step - loss: 0.1838 - acc: 0.9273 - val_loss: 0.5204 - val_acc: 0.8242\n",
            "Epoch 132/250\n",
            "178/178 [==============================] - 52s 285ms/step - loss: 0.1847 - acc: 0.9259 - val_loss: 0.5010 - val_acc: 0.8369\n",
            "Epoch 133/250\n",
            "178/178 [==============================] - 53s 287ms/step - loss: 0.2027 - acc: 0.9192 - val_loss: 0.4942 - val_acc: 0.8453\n",
            "Epoch 134/250\n",
            "178/178 [==============================] - 51s 284ms/step - loss: 0.1869 - acc: 0.9245 - val_loss: 0.4499 - val_acc: 0.8559\n",
            "Epoch 135/250\n",
            "178/178 [==============================] - 51s 281ms/step - loss: 0.1856 - acc: 0.9263 - val_loss: 0.4414 - val_acc: 0.8644\n",
            "Epoch 136/250\n",
            "178/178 [==============================] - 53s 289ms/step - loss: 0.1842 - acc: 0.9298 - val_loss: 0.4505 - val_acc: 0.8655\n",
            "Epoch 137/250\n",
            "178/178 [==============================] - 52s 289ms/step - loss: 0.1802 - acc: 0.9308 - val_loss: 0.4572 - val_acc: 0.8612\n",
            "Epoch 138/250\n",
            "178/178 [==============================] - 51s 279ms/step - loss: 0.1560 - acc: 0.9375 - val_loss: 0.5124 - val_acc: 0.8464\n",
            "Epoch 139/250\n",
            "178/178 [==============================] - 52s 282ms/step - loss: 0.1745 - acc: 0.9305 - val_loss: 0.4647 - val_acc: 0.8591\n",
            "Epoch 140/250\n",
            "178/178 [==============================] - 50s 273ms/step - loss: 0.1927 - acc: 0.9206 - val_loss: 0.4823 - val_acc: 0.8570\n",
            "Epoch 141/250\n",
            "178/178 [==============================] - 51s 280ms/step - loss: 0.1674 - acc: 0.9344 - val_loss: 0.4866 - val_acc: 0.8612\n",
            "Epoch 142/250\n",
            "178/178 [==============================] - 53s 290ms/step - loss: 0.1737 - acc: 0.9333 - val_loss: 0.5343 - val_acc: 0.8485\n",
            "Epoch 143/250\n",
            "178/178 [==============================] - 52s 289ms/step - loss: 0.1702 - acc: 0.9308 - val_loss: 0.5762 - val_acc: 0.8347\n",
            "Epoch 144/250\n",
            "178/178 [==============================] - 53s 291ms/step - loss: 0.1737 - acc: 0.9287 - val_loss: 0.5614 - val_acc: 0.8517\n",
            "Epoch 145/250\n",
            "178/178 [==============================] - 51s 282ms/step - loss: 0.1718 - acc: 0.9323 - val_loss: 0.5270 - val_acc: 0.8517\n",
            "Epoch 146/250\n",
            "178/178 [==============================] - 50s 276ms/step - loss: 0.1689 - acc: 0.9372 - val_loss: 0.5104 - val_acc: 0.8538\n",
            "Epoch 147/250\n",
            "178/178 [==============================] - 51s 281ms/step - loss: 0.1478 - acc: 0.9464 - val_loss: 0.5028 - val_acc: 0.8612\n",
            "Epoch 148/250\n",
            "178/178 [==============================] - 51s 281ms/step - loss: 0.1465 - acc: 0.9418 - val_loss: 0.5030 - val_acc: 0.8581\n",
            "Epoch 149/250\n",
            "178/178 [==============================] - 51s 281ms/step - loss: 0.1673 - acc: 0.9312 - val_loss: 0.5538 - val_acc: 0.8422\n",
            "Epoch 150/250\n",
            "178/178 [==============================] - 51s 282ms/step - loss: 0.1741 - acc: 0.9277 - val_loss: 0.5592 - val_acc: 0.8422\n",
            "Epoch 151/250\n",
            "178/178 [==============================] - 51s 281ms/step - loss: 0.1530 - acc: 0.9390 - val_loss: 0.5053 - val_acc: 0.8655\n",
            "Epoch 152/250\n",
            "178/178 [==============================] - 50s 277ms/step - loss: 0.1430 - acc: 0.9411 - val_loss: 0.5199 - val_acc: 0.8612\n",
            "Epoch 153/250\n",
            "178/178 [==============================] - 51s 282ms/step - loss: 0.1564 - acc: 0.9397 - val_loss: 0.5439 - val_acc: 0.8538\n",
            "Epoch 154/250\n",
            "178/178 [==============================] - 51s 283ms/step - loss: 0.1431 - acc: 0.9418 - val_loss: 0.5930 - val_acc: 0.8496\n",
            "Epoch 155/250\n",
            "178/178 [==============================] - 53s 290ms/step - loss: 0.1473 - acc: 0.9411 - val_loss: 0.6239 - val_acc: 0.8464\n",
            "Epoch 156/250\n",
            "178/178 [==============================] - 53s 292ms/step - loss: 0.1551 - acc: 0.9397 - val_loss: 0.5845 - val_acc: 0.8591\n",
            "Epoch 157/250\n",
            "178/178 [==============================] - 53s 291ms/step - loss: 0.1582 - acc: 0.9382 - val_loss: 0.5965 - val_acc: 0.8506\n",
            "Epoch 158/250\n",
            "178/178 [==============================] - 52s 289ms/step - loss: 0.1453 - acc: 0.9460 - val_loss: 0.5233 - val_acc: 0.8676\n",
            "Epoch 159/250\n",
            "178/178 [==============================] - 52s 290ms/step - loss: 0.1509 - acc: 0.9379 - val_loss: 0.5681 - val_acc: 0.8453\n",
            "Epoch 160/250\n",
            "178/178 [==============================] - 52s 286ms/step - loss: 0.1260 - acc: 0.9506 - val_loss: 0.5894 - val_acc: 0.8411\n",
            "Epoch 161/250\n",
            "178/178 [==============================] - 51s 281ms/step - loss: 0.1596 - acc: 0.9386 - val_loss: 0.5357 - val_acc: 0.8623\n",
            "Epoch 162/250\n",
            "178/178 [==============================] - 51s 283ms/step - loss: 0.1612 - acc: 0.9347 - val_loss: 0.5030 - val_acc: 0.8655\n",
            "Epoch 163/250\n",
            "178/178 [==============================] - 52s 284ms/step - loss: 0.1495 - acc: 0.9397 - val_loss: 0.5676 - val_acc: 0.8496\n",
            "Epoch 164/250\n",
            "178/178 [==============================] - 52s 284ms/step - loss: 0.1512 - acc: 0.9372 - val_loss: 0.5171 - val_acc: 0.8559\n",
            "Epoch 165/250\n",
            "178/178 [==============================] - 51s 282ms/step - loss: 0.1254 - acc: 0.9513 - val_loss: 0.5100 - val_acc: 0.8581\n",
            "Epoch 166/250\n",
            "178/178 [==============================] - 52s 289ms/step - loss: 0.1205 - acc: 0.9548 - val_loss: 0.5423 - val_acc: 0.8633\n",
            "Epoch 167/250\n",
            "178/178 [==============================] - 51s 281ms/step - loss: 0.1266 - acc: 0.9492 - val_loss: 0.5541 - val_acc: 0.8570\n",
            "Epoch 168/250\n",
            "178/178 [==============================] - 50s 279ms/step - loss: 0.1595 - acc: 0.9428 - val_loss: 0.5273 - val_acc: 0.8549\n",
            "Epoch 169/250\n",
            "178/178 [==============================] - 51s 283ms/step - loss: 0.1406 - acc: 0.9492 - val_loss: 0.5472 - val_acc: 0.8581\n",
            "Epoch 170/250\n",
            "178/178 [==============================] - 51s 284ms/step - loss: 0.1272 - acc: 0.9488 - val_loss: 0.5402 - val_acc: 0.8549\n",
            "Epoch 171/250\n",
            "178/178 [==============================] - 51s 282ms/step - loss: 0.1404 - acc: 0.9474 - val_loss: 0.6227 - val_acc: 0.8400\n",
            "Epoch 172/250\n",
            "178/178 [==============================] - 51s 281ms/step - loss: 0.1244 - acc: 0.9580 - val_loss: 0.5478 - val_acc: 0.8549\n",
            "Epoch 173/250\n",
            "178/178 [==============================] - 51s 280ms/step - loss: 0.1292 - acc: 0.9517 - val_loss: 0.5522 - val_acc: 0.8581\n",
            "Epoch 174/250\n",
            "178/178 [==============================] - 50s 279ms/step - loss: 0.1466 - acc: 0.9432 - val_loss: 0.5091 - val_acc: 0.8602\n",
            "Epoch 175/250\n",
            "178/178 [==============================] - 51s 280ms/step - loss: 0.1184 - acc: 0.9552 - val_loss: 0.5489 - val_acc: 0.8559\n",
            "Epoch 176/250\n",
            "178/178 [==============================] - 50s 276ms/step - loss: 0.1346 - acc: 0.9478 - val_loss: 0.5526 - val_acc: 0.8602\n",
            "Epoch 177/250\n",
            "178/178 [==============================] - 50s 276ms/step - loss: 0.1188 - acc: 0.9555 - val_loss: 0.6108 - val_acc: 0.8538\n",
            "Epoch 178/250\n",
            "178/178 [==============================] - 50s 278ms/step - loss: 0.1353 - acc: 0.9488 - val_loss: 0.5836 - val_acc: 0.8538\n",
            "Epoch 179/250\n",
            "178/178 [==============================] - 51s 285ms/step - loss: 0.1384 - acc: 0.9450 - val_loss: 0.6208 - val_acc: 0.8602\n",
            "Epoch 180/250\n",
            "178/178 [==============================] - 50s 278ms/step - loss: 0.1237 - acc: 0.9495 - val_loss: 0.5524 - val_acc: 0.8591\n",
            "Epoch 181/250\n",
            "178/178 [==============================] - 50s 277ms/step - loss: 0.1346 - acc: 0.9471 - val_loss: 0.5464 - val_acc: 0.8538\n",
            "Epoch 182/250\n",
            "178/178 [==============================] - 49s 273ms/step - loss: 0.1221 - acc: 0.9531 - val_loss: 0.5604 - val_acc: 0.8464\n",
            "Epoch 183/250\n",
            "178/178 [==============================] - 51s 280ms/step - loss: 0.1278 - acc: 0.9531 - val_loss: 0.5433 - val_acc: 0.8655\n",
            "Epoch 184/250\n",
            "178/178 [==============================] - 50s 278ms/step - loss: 0.1228 - acc: 0.9524 - val_loss: 0.5822 - val_acc: 0.8496\n",
            "Epoch 185/250\n",
            "178/178 [==============================] - 50s 277ms/step - loss: 0.1163 - acc: 0.9559 - val_loss: 0.6245 - val_acc: 0.8400\n",
            "Epoch 186/250\n",
            "178/178 [==============================] - 50s 279ms/step - loss: 0.1196 - acc: 0.9584 - val_loss: 0.5497 - val_acc: 0.8602\n",
            "Epoch 187/250\n",
            "178/178 [==============================] - 49s 272ms/step - loss: 0.1158 - acc: 0.9506 - val_loss: 0.5332 - val_acc: 0.8623\n",
            "Epoch 188/250\n",
            "178/178 [==============================] - 51s 278ms/step - loss: 0.1170 - acc: 0.9538 - val_loss: 0.5410 - val_acc: 0.8665\n",
            "Epoch 189/250\n",
            "178/178 [==============================] - 50s 277ms/step - loss: 0.1120 - acc: 0.9587 - val_loss: 0.6095 - val_acc: 0.8623\n",
            "Epoch 190/250\n",
            "178/178 [==============================] - 50s 276ms/step - loss: 0.1077 - acc: 0.9580 - val_loss: 0.5959 - val_acc: 0.8612\n",
            "Epoch 191/250\n",
            "178/178 [==============================] - 49s 273ms/step - loss: 0.1252 - acc: 0.9527 - val_loss: 0.6304 - val_acc: 0.8581\n",
            "Epoch 192/250\n",
            "178/178 [==============================] - 50s 273ms/step - loss: 0.0975 - acc: 0.9633 - val_loss: 0.6490 - val_acc: 0.8517\n",
            "Epoch 193/250\n",
            "178/178 [==============================] - 50s 277ms/step - loss: 0.1210 - acc: 0.9524 - val_loss: 0.6372 - val_acc: 0.8591\n",
            "Epoch 194/250\n",
            "178/178 [==============================] - 50s 275ms/step - loss: 0.0930 - acc: 0.9644 - val_loss: 0.6877 - val_acc: 0.8464\n",
            "Epoch 195/250\n",
            "178/178 [==============================] - 50s 278ms/step - loss: 0.1142 - acc: 0.9545 - val_loss: 0.6166 - val_acc: 0.8570\n",
            "Epoch 196/250\n",
            "178/178 [==============================] - 50s 277ms/step - loss: 0.1144 - acc: 0.9601 - val_loss: 0.5624 - val_acc: 0.8612\n",
            "Epoch 197/250\n",
            "178/178 [==============================] - 51s 284ms/step - loss: 0.1176 - acc: 0.9555 - val_loss: 0.5712 - val_acc: 0.8644\n",
            "Epoch 198/250\n",
            "178/178 [==============================] - 50s 278ms/step - loss: 0.1051 - acc: 0.9594 - val_loss: 0.5869 - val_acc: 0.8570\n",
            "Epoch 199/250\n",
            "178/178 [==============================] - 50s 275ms/step - loss: 0.1163 - acc: 0.9552 - val_loss: 0.5902 - val_acc: 0.8655\n",
            "Epoch 200/250\n",
            "178/178 [==============================] - 49s 273ms/step - loss: 0.1096 - acc: 0.9577 - val_loss: 0.5835 - val_acc: 0.8623\n",
            "Epoch 201/250\n",
            "178/178 [==============================] - 50s 279ms/step - loss: 0.0972 - acc: 0.9584 - val_loss: 0.5404 - val_acc: 0.8665\n",
            "Epoch 202/250\n",
            "178/178 [==============================] - 50s 278ms/step - loss: 0.1022 - acc: 0.9633 - val_loss: 0.5334 - val_acc: 0.8602\n",
            "Epoch 203/250\n",
            "178/178 [==============================] - 50s 274ms/step - loss: 0.1156 - acc: 0.9591 - val_loss: 0.6230 - val_acc: 0.8506\n",
            "Epoch 204/250\n",
            "178/178 [==============================] - 50s 278ms/step - loss: 0.1034 - acc: 0.9622 - val_loss: 0.5476 - val_acc: 0.8644\n",
            "Epoch 205/250\n",
            "178/178 [==============================] - 53s 290ms/step - loss: 0.1094 - acc: 0.9580 - val_loss: 0.5642 - val_acc: 0.8549\n",
            "Epoch 206/250\n",
            "178/178 [==============================] - 52s 284ms/step - loss: 0.0950 - acc: 0.9629 - val_loss: 0.5827 - val_acc: 0.8570\n",
            "Epoch 207/250\n",
            "178/178 [==============================] - 53s 290ms/step - loss: 0.1002 - acc: 0.9612 - val_loss: 0.6122 - val_acc: 0.8581\n",
            "Epoch 208/250\n",
            "178/178 [==============================] - 50s 279ms/step - loss: 0.1099 - acc: 0.9598 - val_loss: 0.6565 - val_acc: 0.8432\n",
            "Epoch 209/250\n",
            "178/178 [==============================] - 51s 282ms/step - loss: 0.0950 - acc: 0.9619 - val_loss: 0.5682 - val_acc: 0.8697\n",
            "Epoch 210/250\n",
            "178/178 [==============================] - 51s 282ms/step - loss: 0.0869 - acc: 0.9637 - val_loss: 0.6185 - val_acc: 0.8581\n",
            "Epoch 211/250\n",
            "178/178 [==============================] - 51s 281ms/step - loss: 0.0924 - acc: 0.9647 - val_loss: 0.5845 - val_acc: 0.8559\n",
            "Epoch 212/250\n",
            "178/178 [==============================] - 49s 273ms/step - loss: 0.0989 - acc: 0.9647 - val_loss: 0.5785 - val_acc: 0.8633\n",
            "Epoch 213/250\n",
            "178/178 [==============================] - 50s 269ms/step - loss: 0.1071 - acc: 0.9559 - val_loss: 0.5639 - val_acc: 0.8665\n",
            "Epoch 214/250\n",
            "178/178 [==============================] - 50s 276ms/step - loss: 0.1025 - acc: 0.9591 - val_loss: 0.5816 - val_acc: 0.8708\n",
            "Epoch 215/250\n",
            "178/178 [==============================] - 50s 277ms/step - loss: 0.1004 - acc: 0.9633 - val_loss: 0.6496 - val_acc: 0.8549\n",
            "Epoch 216/250\n",
            "178/178 [==============================] - 51s 281ms/step - loss: 0.1035 - acc: 0.9615 - val_loss: 0.6504 - val_acc: 0.8559\n",
            "Epoch 217/250\n",
            "178/178 [==============================] - 51s 279ms/step - loss: 0.0852 - acc: 0.9668 - val_loss: 0.6656 - val_acc: 0.8591\n",
            "Epoch 218/250\n",
            "178/178 [==============================] - 50s 277ms/step - loss: 0.0904 - acc: 0.9637 - val_loss: 0.7106 - val_acc: 0.8485\n",
            "Epoch 219/250\n",
            "178/178 [==============================] - 51s 281ms/step - loss: 0.0945 - acc: 0.9619 - val_loss: 0.6589 - val_acc: 0.8655\n",
            "Epoch 220/250\n",
            "178/178 [==============================] - 50s 278ms/step - loss: 0.1080 - acc: 0.9562 - val_loss: 0.6432 - val_acc: 0.8655\n",
            "Epoch 221/250\n",
            "178/178 [==============================] - 50s 277ms/step - loss: 0.0955 - acc: 0.9626 - val_loss: 0.6186 - val_acc: 0.8676\n",
            "Epoch 222/250\n",
            "178/178 [==============================] - 50s 277ms/step - loss: 0.0940 - acc: 0.9665 - val_loss: 0.6101 - val_acc: 0.8676\n",
            "Epoch 223/250\n",
            "178/178 [==============================] - 50s 275ms/step - loss: 0.0907 - acc: 0.9647 - val_loss: 0.6101 - val_acc: 0.8644\n",
            "Epoch 224/250\n",
            "178/178 [==============================] - 46s 255ms/step - loss: 0.0942 - acc: 0.9658 - val_loss: 0.6321 - val_acc: 0.8559\n",
            "Epoch 225/250\n",
            "178/178 [==============================] - 47s 255ms/step - loss: 0.0965 - acc: 0.9644 - val_loss: 0.6237 - val_acc: 0.8644\n",
            "Epoch 226/250\n",
            "178/178 [==============================] - 50s 276ms/step - loss: 0.0867 - acc: 0.9637 - val_loss: 0.6228 - val_acc: 0.8686\n",
            "Epoch 227/250\n",
            "178/178 [==============================] - 51s 276ms/step - loss: 0.0810 - acc: 0.9658 - val_loss: 0.6521 - val_acc: 0.8602\n",
            "Epoch 228/250\n",
            "178/178 [==============================] - 51s 278ms/step - loss: 0.0806 - acc: 0.9661 - val_loss: 0.6436 - val_acc: 0.8559\n",
            "Epoch 229/250\n",
            "178/178 [==============================] - 50s 276ms/step - loss: 0.0844 - acc: 0.9640 - val_loss: 0.6057 - val_acc: 0.8739\n",
            "Epoch 230/250\n",
            "178/178 [==============================] - 50s 275ms/step - loss: 0.0890 - acc: 0.9682 - val_loss: 0.6159 - val_acc: 0.8623\n",
            "Epoch 231/250\n",
            "178/178 [==============================] - 48s 262ms/step - loss: 0.0844 - acc: 0.9654 - val_loss: 0.6367 - val_acc: 0.8612\n",
            "Epoch 232/250\n",
            "178/178 [==============================] - 51s 276ms/step - loss: 0.1003 - acc: 0.9633 - val_loss: 0.6589 - val_acc: 0.8612\n",
            "Epoch 233/250\n",
            "178/178 [==============================] - 49s 274ms/step - loss: 0.0847 - acc: 0.9665 - val_loss: 0.7017 - val_acc: 0.8633\n",
            "Epoch 234/250\n",
            "178/178 [==============================] - 52s 282ms/step - loss: 0.0910 - acc: 0.9658 - val_loss: 0.6388 - val_acc: 0.8686\n",
            "Epoch 235/250\n",
            "178/178 [==============================] - 51s 284ms/step - loss: 0.0796 - acc: 0.9682 - val_loss: 0.6385 - val_acc: 0.8697\n",
            "Epoch 236/250\n",
            "178/178 [==============================] - 51s 281ms/step - loss: 0.0812 - acc: 0.9721 - val_loss: 0.6380 - val_acc: 0.8655\n",
            "Epoch 237/250\n",
            "178/178 [==============================] - 50s 275ms/step - loss: 0.0887 - acc: 0.9644 - val_loss: 0.6332 - val_acc: 0.8697\n",
            "Epoch 238/250\n",
            "178/178 [==============================] - 50s 276ms/step - loss: 0.0814 - acc: 0.9672 - val_loss: 0.7296 - val_acc: 0.8570\n",
            "Epoch 239/250\n",
            "178/178 [==============================] - 51s 275ms/step - loss: 0.0968 - acc: 0.9654 - val_loss: 0.6848 - val_acc: 0.8718\n",
            "Epoch 240/250\n",
            "178/178 [==============================] - 51s 278ms/step - loss: 0.0928 - acc: 0.9647 - val_loss: 0.7107 - val_acc: 0.8570\n",
            "Epoch 241/250\n",
            "178/178 [==============================] - 51s 283ms/step - loss: 0.0810 - acc: 0.9700 - val_loss: 0.6549 - val_acc: 0.8665\n",
            "Epoch 242/250\n",
            "178/178 [==============================] - 50s 279ms/step - loss: 0.0750 - acc: 0.9725 - val_loss: 0.6905 - val_acc: 0.8591\n",
            "Epoch 243/250\n",
            "178/178 [==============================] - 51s 280ms/step - loss: 0.0887 - acc: 0.9704 - val_loss: 0.6832 - val_acc: 0.8644\n",
            "Epoch 244/250\n",
            "178/178 [==============================] - 51s 280ms/step - loss: 0.0741 - acc: 0.9735 - val_loss: 0.6715 - val_acc: 0.8602\n",
            "Epoch 245/250\n",
            "178/178 [==============================] - 50s 276ms/step - loss: 0.0838 - acc: 0.9704 - val_loss: 0.6758 - val_acc: 0.8655\n",
            "Epoch 246/250\n",
            "178/178 [==============================] - 52s 281ms/step - loss: 0.0690 - acc: 0.9728 - val_loss: 0.6349 - val_acc: 0.8612\n",
            "Epoch 247/250\n",
            "178/178 [==============================] - 50s 274ms/step - loss: 0.0745 - acc: 0.9711 - val_loss: 0.6406 - val_acc: 0.8750\n",
            "Epoch 248/250\n",
            "178/178 [==============================] - 50s 278ms/step - loss: 0.0605 - acc: 0.9799 - val_loss: 0.7170 - val_acc: 0.8496\n",
            "Epoch 249/250\n",
            "178/178 [==============================] - 49s 268ms/step - loss: 0.0791 - acc: 0.9697 - val_loss: 0.6574 - val_acc: 0.8581\n",
            "Epoch 250/250\n",
            "178/178 [==============================] - 51s 276ms/step - loss: 0.0715 - acc: 0.9746 - val_loss: 0.6722 - val_acc: 0.8708\n"
          ]
        }
      ]
    },
    {
      "cell_type": "code",
      "source": [
        "acc = history.history['acc']\n",
        "val_acc = history.history['val_acc']\n",
        "loss = history.history['loss']\n",
        "val_loss = history.history['val_loss']\n",
        "\n",
        "epochs_x = range(len(acc))\n",
        "\n",
        "plt.plot(epochs_x, acc, 'go', label='Training acc')\n",
        "plt.plot(epochs_x, val_acc, 'k', label='Validation acc')\n",
        "plt.title('Training and validation accuracy')\n",
        "plt.legend()\n",
        "\n",
        "plt.figure()\n",
        "\n",
        "plt.plot(epochs_x, loss, 'go', label='Training loss')\n",
        "plt.plot(epochs_x, val_loss, 'k', label='Validation loss')\n",
        "plt.title('Training and validation loss')\n",
        "plt.legend()\n",
        "\n",
        "plt.show()"
      ],
      "metadata": {
        "id": "kwylTJpTP5XI",
        "colab": {
          "base_uri": "https://localhost:8080/",
          "height": 545
        },
        "outputId": "044a96fa-9547-4fa4-dab2-46bf0464bc19"
      },
      "execution_count": 14,
      "outputs": [
        {
          "output_type": "display_data",
          "data": {
            "text/plain": [
              "<Figure size 432x288 with 1 Axes>"
            ],
            "image/png": "[encoded data removed]"
          },
          "metadata": {
            "needs_background": "light"
          }
        },
        {
          "output_type": "display_data",
          "data": {
            "text/plain": [
              "<Figure size 432x288 with 1 Axes>"
            ],
            "image/png": "[encoded data removed]"
          },
          "metadata": {
            "needs_background": "light"
          }
        }
      ]
    },
    {
      "cell_type": "markdown",
      "source": [
        "#Download the model"
      ],
      "metadata": {
        "id": "lD-vKaoHQAFd"
      }
    },
    {
      "cell_type": "code",
      "source": [
        "os.makedirs('/content/drive/My Drive/cut_panoramic/Model', exist_ok=True)\n",
        "model.save('/content/drive/My Drive/cut_panoramic/Model/Classification/Gender/4_รอบที่4_Gender_250_New_Unfreez.h5')"
      ],
      "metadata": {
        "id": "74dL7-HLP_Sh"
      },
      "execution_count": 15,
      "outputs": []
    },
    {
      "cell_type": "code",
      "source": [
        "# from google.colab import files\n",
        "# files.download('/content/drive/My Drive/cut_panoramic/Model/2_รอบที่2_Gender_250.h5')"
      ],
      "metadata": {
        "id": "qcPW-brHQDpc"
      },
      "execution_count": null,
      "outputs": []
    },
    {
      "cell_type": "code",
      "source": [],
      "metadata": {
        "id": "r5WoXVo8mVpF"
      },
      "execution_count": null,
      "outputs": []
    }
  ]
}