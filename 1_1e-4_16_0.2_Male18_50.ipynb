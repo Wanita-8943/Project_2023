{
  "nbformat": 4,
  "nbformat_minor": 0,
  "metadata": {
    "colab": {
      "provenance": [],
      "include_colab_link": true
    },
    "kernelspec": {
      "name": "python3",
      "display_name": "Python 3"
    },
    "language_info": {
      "name": "python"
    },
    "accelerator": "GPU",
    "gpuClass": "standard"
  },
  "cells": [
    {
      "cell_type": "markdown",
      "metadata": {
        "id": "view-in-github",
        "colab_type": "text"
      },
      "source": [
        "<a href=\"https://colab.research.google.com/github/Wanita-8943/Project_2023/blob/main/1_1e-4_16_0.2_Male18_50.ipynb\" target=\"_parent\"><img src=\"https://colab.research.google.com/assets/colab-badge.svg\" alt=\"Open In Colab\"/></a>"
      ]
    },
    {
      "cell_type": "markdown",
      "source": [
        "#เรียกใช้ CSV"
      ],
      "metadata": {
        "id": "ow7eWoNw6U-c"
      }
    },
    {
      "cell_type": "code",
      "source": [
        "import pandas as pd\n",
        "import shutil"
      ],
      "metadata": {
        "id": "DlQ2oT7cIR6o"
      },
      "execution_count": 49,
      "outputs": []
    },
    {
      "cell_type": "code",
      "source": [
        "from google.colab import drive\n",
        "drive.mount('/content/drive')"
      ],
      "metadata": {
        "colab": {
          "base_uri": "https://localhost:8080/"
        },
        "id": "1_2Fe8u81d5r",
        "outputId": "e4b7877f-2725-4bbb-ed31-dbffda66a230"
      },
      "execution_count": 50,
      "outputs": [
        {
          "output_type": "stream",
          "name": "stdout",
          "text": [
            "Drive already mounted at /content/drive; to attempt to forcibly remount, call drive.mount(\"/content/drive\", force_remount=True).\n"
          ]
        }
      ]
    },
    {
      "cell_type": "markdown",
      "source": [
        "#Imports"
      ],
      "metadata": {
        "id": "5qxePnnn7TGW"
      }
    },
    {
      "cell_type": "code",
      "source": [
        "from tensorflow.keras import models\n",
        "from tensorflow.keras import layers\n",
        "from tensorflow.keras import optimizers\n",
        "import os\n",
        "import glob\n",
        "import shutil\n",
        "import sys\n",
        "import numpy as np\n",
        "from skimage.io import imread\n",
        "import matplotlib.pyplot as plt\n",
        "from IPython.display import Image\n",
        "%matplotlib inline"
      ],
      "metadata": {
        "id": "D-hCRloc3t39"
      },
      "execution_count": 51,
      "outputs": []
    },
    {
      "cell_type": "code",
      "source": [
        "import tensorflow as tf\n",
        "from tensorflow.keras import Sequential\n",
        "from tensorflow.keras.layers import Dense\n",
        "from tensorflow.keras.optimizers import Adam\n",
        "from tensorflow.keras import backend as K"
      ],
      "metadata": {
        "id": "YZWXwjXeGxZP"
      },
      "execution_count": 52,
      "outputs": []
    },
    {
      "cell_type": "markdown",
      "source": [
        "#กำหนดค่าพารามิเตอร์\n"
      ],
      "metadata": {
        "id": "RooqSdBc7QHC"
      }
    },
    {
      "cell_type": "code",
      "source": [
        "batch_size = 16\n",
        "width = 150\n",
        "height = 150\n",
        "epochs = 50\n",
        "NUM_TRAIN = 1425\n",
        "NUM_TEST = 475\n",
        "dropout_rate = 0.2\n",
        "input_shape = (height, width, 3)"
      ],
      "metadata": {
        "id": "thDb7U9B3xOo"
      },
      "execution_count": 53,
      "outputs": []
    },
    {
      "cell_type": "markdown",
      "source": [
        "#Clone efficientnet repo\n"
      ],
      "metadata": {
        "id": "pumGmy6f3eSW"
      }
    },
    {
      "cell_type": "code",
      "source": [
        "#ดึงข้อมูลใน Github มาใช้\n",
        "import os\n",
        "%cd /content\n",
        "if not os.path.isdir(\"efficientnet_keras_transfer_learning\"):\n",
        " !git clone https://github.com/Wanita-8943/efficientnet_keras_transfer_learning\n",
        "%cd efficientnet_keras_transfer_learning/"
      ],
      "metadata": {
        "colab": {
          "base_uri": "https://localhost:8080/"
        },
        "id": "P7iy2f8n16p0",
        "outputId": "4dec544a-6efa-4d7b-a895-51b04e17b3c8"
      },
      "execution_count": 54,
      "outputs": [
        {
          "output_type": "stream",
          "name": "stdout",
          "text": [
            "/content\n",
            "/content/efficientnet_keras_transfer_learning\n"
          ]
        }
      ]
    },
    {
      "cell_type": "code",
      "source": [
        "import keras"
      ],
      "metadata": {
        "id": "Vbdblwbv89fe"
      },
      "execution_count": 55,
      "outputs": []
    },
    {
      "cell_type": "code",
      "source": [
        "import tensorflow as tf\n",
        "print(tf.__version__)"
      ],
      "metadata": {
        "id": "vnLrobY_-GCx",
        "outputId": "95a4fe3a-5be1-4342-a330-aeb540e62843",
        "colab": {
          "base_uri": "https://localhost:8080/"
        }
      },
      "execution_count": 56,
      "outputs": [
        {
          "output_type": "stream",
          "name": "stdout",
          "text": [
            "2.11.0\n"
          ]
        }
      ]
    },
    {
      "cell_type": "code",
      "source": [
        "# Options: EfficientNetB0, EfficientNetB1, EfficientNetB2, EfficientNetB3\n",
        "# Higher the number, the more complex the model is.\n",
        "from efficientnet import EfficientNetB0 as Net\n",
        "from efficientnet import center_crop_and_resize, preprocess_input"
      ],
      "metadata": {
        "id": "tjZBRnfo3bN0"
      },
      "execution_count": 57,
      "outputs": []
    },
    {
      "cell_type": "code",
      "source": [
        "# loading pretrained conv base model\n",
        "# โหลดโมเดล มาโดยตัด output ของโมเดลออก เเต่ยังใช้ input อันเดิม\n",
        "# เเละโหลด weight ของโมเดล มาด้วยที่ชื่อว่า imagenet\n",
        "conv_base = Net(weights='imagenet', include_top=False, input_shape=input_shape)"
      ],
      "metadata": {
        "id": "hNZAzbDp3lgA"
      },
      "execution_count": 58,
      "outputs": []
    },
    {
      "cell_type": "code",
      "source": [
        "model = models.Sequential()\n",
        "model.add(conv_base)\n",
        "model.add(layers.GlobalMaxPooling2D(name=\"gap\"))\n",
        "# model.add(layers.Flatten(name=\"flatten\"))\n",
        "if dropout_rate > 0:\n",
        "    model.add(layers.Dropout(dropout_rate, name=\"dropout_out\"))\n",
        "# model.add(layers.Dense(256, activation='relu', name=\"fc1\"))\n",
        "model.add(layers.Dense(19, activation='softmax', name=\"fc_out\"))\n",
        "model.add(layers.Dense(1))"
      ],
      "metadata": {
        "id": "yWNKfQUt5rga"
      },
      "execution_count": 59,
      "outputs": []
    },
    {
      "cell_type": "code",
      "source": [
        "model.summary()"
      ],
      "metadata": {
        "id": "NadBB12251jh",
        "outputId": "6b0f0b97-cf57-4efe-eaf8-1fbb9912f58f",
        "colab": {
          "base_uri": "https://localhost:8080/"
        }
      },
      "execution_count": 60,
      "outputs": [
        {
          "output_type": "stream",
          "name": "stdout",
          "text": [
            "Model: \"sequential_2\"\n",
            "_________________________________________________________________\n",
            " Layer (type)                Output Shape              Param #   \n",
            "=================================================================\n",
            " efficientnet-b0 (Functional  (None, 5, 5, 1280)       4049564   \n",
            " )                                                               \n",
            "                                                                 \n",
            " gap (GlobalMaxPooling2D)    (None, 1280)              0         \n",
            "                                                                 \n",
            " dropout_out (Dropout)       (None, 1280)              0         \n",
            "                                                                 \n",
            " fc_out (Dense)              (None, 19)                24339     \n",
            "                                                                 \n",
            " dense_2 (Dense)             (None, 1)                 20        \n",
            "                                                                 \n",
            "=================================================================\n",
            "Total params: 4,073,923\n",
            "Trainable params: 4,031,907\n",
            "Non-trainable params: 42,016\n",
            "_________________________________________________________________\n"
          ]
        }
      ]
    },
    {
      "cell_type": "code",
      "source": [
        "print('This is the number of trainable layers '\n",
        "      'before freezing the conv base:', len(model.trainable_weights))\n",
        "\n",
        "conv_base.trainable = False\n",
        "\n",
        "print('This is the number of trainable layers '\n",
        "      'after freezing the conv base:', len(model.trainable_weights))"
      ],
      "metadata": {
        "id": "GepWq3yy53t5",
        "outputId": "fee1fa7c-0085-452b-e646-76dcb1c1c3a1",
        "colab": {
          "base_uri": "https://localhost:8080/"
        }
      },
      "execution_count": 61,
      "outputs": [
        {
          "output_type": "stream",
          "name": "stdout",
          "text": [
            "This is the number of trainable layers before freezing the conv base: 215\n",
            "This is the number of trainable layers after freezing the conv base: 4\n"
          ]
        }
      ]
    },
    {
      "cell_type": "code",
      "source": [
        "conv_base.summary() #ดู Summary"
      ],
      "metadata": {
        "colab": {
          "base_uri": "https://localhost:8080/"
        },
        "id": "iD76D6c_79py",
        "outputId": "205c4c1a-508b-44f0-a451-abf0e3c1bda0"
      },
      "execution_count": 62,
      "outputs": [
        {
          "output_type": "stream",
          "name": "stdout",
          "text": [
            "Model: \"efficientnet-b0\"\n",
            "__________________________________________________________________________________________________\n",
            " Layer (type)                   Output Shape         Param #     Connected to                     \n",
            "==================================================================================================\n",
            " input_3 (InputLayer)           [(None, 150, 150, 3  0           []                               \n",
            "                                )]                                                                \n",
            "                                                                                                  \n",
            " conv2d_130 (Conv2D)            (None, 75, 75, 32)   864         ['input_3[0][0]']                \n",
            "                                                                                                  \n",
            " batch_normalization_98 (BatchN  (None, 75, 75, 32)  128         ['conv2d_130[0][0]']             \n",
            " ormalization)                                                                                    \n",
            "                                                                                                  \n",
            " swish_98 (Swish)               (None, 75, 75, 32)   0           ['batch_normalization_98[0][0]'] \n",
            "                                                                                                  \n",
            " depthwise_conv2d_32 (Depthwise  (None, 75, 75, 32)  288         ['swish_98[0][0]']               \n",
            " Conv2D)                                                                                          \n",
            "                                                                                                  \n",
            " batch_normalization_99 (BatchN  (None, 75, 75, 32)  128         ['depthwise_conv2d_32[0][0]']    \n",
            " ormalization)                                                                                    \n",
            "                                                                                                  \n",
            " swish_99 (Swish)               (None, 75, 75, 32)   0           ['batch_normalization_99[0][0]'] \n",
            "                                                                                                  \n",
            " lambda_32 (Lambda)             (None, 1, 1, 32)     0           ['swish_99[0][0]']               \n",
            "                                                                                                  \n",
            " conv2d_131 (Conv2D)            (None, 1, 1, 8)      264         ['lambda_32[0][0]']              \n",
            "                                                                                                  \n",
            " swish_100 (Swish)              (None, 1, 1, 8)      0           ['conv2d_131[0][0]']             \n",
            "                                                                                                  \n",
            " conv2d_132 (Conv2D)            (None, 1, 1, 32)     288         ['swish_100[0][0]']              \n",
            "                                                                                                  \n",
            " activation_32 (Activation)     (None, 1, 1, 32)     0           ['conv2d_132[0][0]']             \n",
            "                                                                                                  \n",
            " multiply_32 (Multiply)         (None, 75, 75, 32)   0           ['activation_32[0][0]',          \n",
            "                                                                  'swish_99[0][0]']               \n",
            "                                                                                                  \n",
            " conv2d_133 (Conv2D)            (None, 75, 75, 16)   512         ['multiply_32[0][0]']            \n",
            "                                                                                                  \n",
            " batch_normalization_100 (Batch  (None, 75, 75, 16)  64          ['conv2d_133[0][0]']             \n",
            " Normalization)                                                                                   \n",
            "                                                                                                  \n",
            " conv2d_134 (Conv2D)            (None, 75, 75, 96)   1536        ['batch_normalization_100[0][0]']\n",
            "                                                                                                  \n",
            " batch_normalization_101 (Batch  (None, 75, 75, 96)  384         ['conv2d_134[0][0]']             \n",
            " Normalization)                                                                                   \n",
            "                                                                                                  \n",
            " swish_101 (Swish)              (None, 75, 75, 96)   0           ['batch_normalization_101[0][0]']\n",
            "                                                                                                  \n",
            " depthwise_conv2d_33 (Depthwise  (None, 38, 38, 96)  864         ['swish_101[0][0]']              \n",
            " Conv2D)                                                                                          \n",
            "                                                                                                  \n",
            " batch_normalization_102 (Batch  (None, 38, 38, 96)  384         ['depthwise_conv2d_33[0][0]']    \n",
            " Normalization)                                                                                   \n",
            "                                                                                                  \n",
            " swish_102 (Swish)              (None, 38, 38, 96)   0           ['batch_normalization_102[0][0]']\n",
            "                                                                                                  \n",
            " lambda_33 (Lambda)             (None, 1, 1, 96)     0           ['swish_102[0][0]']              \n",
            "                                                                                                  \n",
            " conv2d_135 (Conv2D)            (None, 1, 1, 4)      388         ['lambda_33[0][0]']              \n",
            "                                                                                                  \n",
            " swish_103 (Swish)              (None, 1, 1, 4)      0           ['conv2d_135[0][0]']             \n",
            "                                                                                                  \n",
            " conv2d_136 (Conv2D)            (None, 1, 1, 96)     480         ['swish_103[0][0]']              \n",
            "                                                                                                  \n",
            " activation_33 (Activation)     (None, 1, 1, 96)     0           ['conv2d_136[0][0]']             \n",
            "                                                                                                  \n",
            " multiply_33 (Multiply)         (None, 38, 38, 96)   0           ['activation_33[0][0]',          \n",
            "                                                                  'swish_102[0][0]']              \n",
            "                                                                                                  \n",
            " conv2d_137 (Conv2D)            (None, 38, 38, 24)   2304        ['multiply_33[0][0]']            \n",
            "                                                                                                  \n",
            " batch_normalization_103 (Batch  (None, 38, 38, 24)  96          ['conv2d_137[0][0]']             \n",
            " Normalization)                                                                                   \n",
            "                                                                                                  \n",
            " conv2d_138 (Conv2D)            (None, 38, 38, 144)  3456        ['batch_normalization_103[0][0]']\n",
            "                                                                                                  \n",
            " batch_normalization_104 (Batch  (None, 38, 38, 144)  576        ['conv2d_138[0][0]']             \n",
            " Normalization)                                                                                   \n",
            "                                                                                                  \n",
            " swish_104 (Swish)              (None, 38, 38, 144)  0           ['batch_normalization_104[0][0]']\n",
            "                                                                                                  \n",
            " depthwise_conv2d_34 (Depthwise  (None, 38, 38, 144)  1296       ['swish_104[0][0]']              \n",
            " Conv2D)                                                                                          \n",
            "                                                                                                  \n",
            " batch_normalization_105 (Batch  (None, 38, 38, 144)  576        ['depthwise_conv2d_34[0][0]']    \n",
            " Normalization)                                                                                   \n",
            "                                                                                                  \n",
            " swish_105 (Swish)              (None, 38, 38, 144)  0           ['batch_normalization_105[0][0]']\n",
            "                                                                                                  \n",
            " lambda_34 (Lambda)             (None, 1, 1, 144)    0           ['swish_105[0][0]']              \n",
            "                                                                                                  \n",
            " conv2d_139 (Conv2D)            (None, 1, 1, 6)      870         ['lambda_34[0][0]']              \n",
            "                                                                                                  \n",
            " swish_106 (Swish)              (None, 1, 1, 6)      0           ['conv2d_139[0][0]']             \n",
            "                                                                                                  \n",
            " conv2d_140 (Conv2D)            (None, 1, 1, 144)    1008        ['swish_106[0][0]']              \n",
            "                                                                                                  \n",
            " activation_34 (Activation)     (None, 1, 1, 144)    0           ['conv2d_140[0][0]']             \n",
            "                                                                                                  \n",
            " multiply_34 (Multiply)         (None, 38, 38, 144)  0           ['activation_34[0][0]',          \n",
            "                                                                  'swish_105[0][0]']              \n",
            "                                                                                                  \n",
            " conv2d_141 (Conv2D)            (None, 38, 38, 24)   3456        ['multiply_34[0][0]']            \n",
            "                                                                                                  \n",
            " batch_normalization_106 (Batch  (None, 38, 38, 24)  96          ['conv2d_141[0][0]']             \n",
            " Normalization)                                                                                   \n",
            "                                                                                                  \n",
            " drop_connect_18 (DropConnect)  (None, 38, 38, 24)   0           ['batch_normalization_106[0][0]']\n",
            "                                                                                                  \n",
            " add_18 (Add)                   (None, 38, 38, 24)   0           ['drop_connect_18[0][0]',        \n",
            "                                                                  'batch_normalization_103[0][0]']\n",
            "                                                                                                  \n",
            " conv2d_142 (Conv2D)            (None, 38, 38, 144)  3456        ['add_18[0][0]']                 \n",
            "                                                                                                  \n",
            " batch_normalization_107 (Batch  (None, 38, 38, 144)  576        ['conv2d_142[0][0]']             \n",
            " Normalization)                                                                                   \n",
            "                                                                                                  \n",
            " swish_107 (Swish)              (None, 38, 38, 144)  0           ['batch_normalization_107[0][0]']\n",
            "                                                                                                  \n",
            " depthwise_conv2d_35 (Depthwise  (None, 19, 19, 144)  3600       ['swish_107[0][0]']              \n",
            " Conv2D)                                                                                          \n",
            "                                                                                                  \n",
            " batch_normalization_108 (Batch  (None, 19, 19, 144)  576        ['depthwise_conv2d_35[0][0]']    \n",
            " Normalization)                                                                                   \n",
            "                                                                                                  \n",
            " swish_108 (Swish)              (None, 19, 19, 144)  0           ['batch_normalization_108[0][0]']\n",
            "                                                                                                  \n",
            " lambda_35 (Lambda)             (None, 1, 1, 144)    0           ['swish_108[0][0]']              \n",
            "                                                                                                  \n",
            " conv2d_143 (Conv2D)            (None, 1, 1, 6)      870         ['lambda_35[0][0]']              \n",
            "                                                                                                  \n",
            " swish_109 (Swish)              (None, 1, 1, 6)      0           ['conv2d_143[0][0]']             \n",
            "                                                                                                  \n",
            " conv2d_144 (Conv2D)            (None, 1, 1, 144)    1008        ['swish_109[0][0]']              \n",
            "                                                                                                  \n",
            " activation_35 (Activation)     (None, 1, 1, 144)    0           ['conv2d_144[0][0]']             \n",
            "                                                                                                  \n",
            " multiply_35 (Multiply)         (None, 19, 19, 144)  0           ['activation_35[0][0]',          \n",
            "                                                                  'swish_108[0][0]']              \n",
            "                                                                                                  \n",
            " conv2d_145 (Conv2D)            (None, 19, 19, 40)   5760        ['multiply_35[0][0]']            \n",
            "                                                                                                  \n",
            " batch_normalization_109 (Batch  (None, 19, 19, 40)  160         ['conv2d_145[0][0]']             \n",
            " Normalization)                                                                                   \n",
            "                                                                                                  \n",
            " conv2d_146 (Conv2D)            (None, 19, 19, 240)  9600        ['batch_normalization_109[0][0]']\n",
            "                                                                                                  \n",
            " batch_normalization_110 (Batch  (None, 19, 19, 240)  960        ['conv2d_146[0][0]']             \n",
            " Normalization)                                                                                   \n",
            "                                                                                                  \n",
            " swish_110 (Swish)              (None, 19, 19, 240)  0           ['batch_normalization_110[0][0]']\n",
            "                                                                                                  \n",
            " depthwise_conv2d_36 (Depthwise  (None, 19, 19, 240)  6000       ['swish_110[0][0]']              \n",
            " Conv2D)                                                                                          \n",
            "                                                                                                  \n",
            " batch_normalization_111 (Batch  (None, 19, 19, 240)  960        ['depthwise_conv2d_36[0][0]']    \n",
            " Normalization)                                                                                   \n",
            "                                                                                                  \n",
            " swish_111 (Swish)              (None, 19, 19, 240)  0           ['batch_normalization_111[0][0]']\n",
            "                                                                                                  \n",
            " lambda_36 (Lambda)             (None, 1, 1, 240)    0           ['swish_111[0][0]']              \n",
            "                                                                                                  \n",
            " conv2d_147 (Conv2D)            (None, 1, 1, 10)     2410        ['lambda_36[0][0]']              \n",
            "                                                                                                  \n",
            " swish_112 (Swish)              (None, 1, 1, 10)     0           ['conv2d_147[0][0]']             \n",
            "                                                                                                  \n",
            " conv2d_148 (Conv2D)            (None, 1, 1, 240)    2640        ['swish_112[0][0]']              \n",
            "                                                                                                  \n",
            " activation_36 (Activation)     (None, 1, 1, 240)    0           ['conv2d_148[0][0]']             \n",
            "                                                                                                  \n",
            " multiply_36 (Multiply)         (None, 19, 19, 240)  0           ['activation_36[0][0]',          \n",
            "                                                                  'swish_111[0][0]']              \n",
            "                                                                                                  \n",
            " conv2d_149 (Conv2D)            (None, 19, 19, 40)   9600        ['multiply_36[0][0]']            \n",
            "                                                                                                  \n",
            " batch_normalization_112 (Batch  (None, 19, 19, 40)  160         ['conv2d_149[0][0]']             \n",
            " Normalization)                                                                                   \n",
            "                                                                                                  \n",
            " drop_connect_19 (DropConnect)  (None, 19, 19, 40)   0           ['batch_normalization_112[0][0]']\n",
            "                                                                                                  \n",
            " add_19 (Add)                   (None, 19, 19, 40)   0           ['drop_connect_19[0][0]',        \n",
            "                                                                  'batch_normalization_109[0][0]']\n",
            "                                                                                                  \n",
            " conv2d_150 (Conv2D)            (None, 19, 19, 240)  9600        ['add_19[0][0]']                 \n",
            "                                                                                                  \n",
            " batch_normalization_113 (Batch  (None, 19, 19, 240)  960        ['conv2d_150[0][0]']             \n",
            " Normalization)                                                                                   \n",
            "                                                                                                  \n",
            " swish_113 (Swish)              (None, 19, 19, 240)  0           ['batch_normalization_113[0][0]']\n",
            "                                                                                                  \n",
            " depthwise_conv2d_37 (Depthwise  (None, 10, 10, 240)  2160       ['swish_113[0][0]']              \n",
            " Conv2D)                                                                                          \n",
            "                                                                                                  \n",
            " batch_normalization_114 (Batch  (None, 10, 10, 240)  960        ['depthwise_conv2d_37[0][0]']    \n",
            " Normalization)                                                                                   \n",
            "                                                                                                  \n",
            " swish_114 (Swish)              (None, 10, 10, 240)  0           ['batch_normalization_114[0][0]']\n",
            "                                                                                                  \n",
            " lambda_37 (Lambda)             (None, 1, 1, 240)    0           ['swish_114[0][0]']              \n",
            "                                                                                                  \n",
            " conv2d_151 (Conv2D)            (None, 1, 1, 10)     2410        ['lambda_37[0][0]']              \n",
            "                                                                                                  \n",
            " swish_115 (Swish)              (None, 1, 1, 10)     0           ['conv2d_151[0][0]']             \n",
            "                                                                                                  \n",
            " conv2d_152 (Conv2D)            (None, 1, 1, 240)    2640        ['swish_115[0][0]']              \n",
            "                                                                                                  \n",
            " activation_37 (Activation)     (None, 1, 1, 240)    0           ['conv2d_152[0][0]']             \n",
            "                                                                                                  \n",
            " multiply_37 (Multiply)         (None, 10, 10, 240)  0           ['activation_37[0][0]',          \n",
            "                                                                  'swish_114[0][0]']              \n",
            "                                                                                                  \n",
            " conv2d_153 (Conv2D)            (None, 10, 10, 80)   19200       ['multiply_37[0][0]']            \n",
            "                                                                                                  \n",
            " batch_normalization_115 (Batch  (None, 10, 10, 80)  320         ['conv2d_153[0][0]']             \n",
            " Normalization)                                                                                   \n",
            "                                                                                                  \n",
            " conv2d_154 (Conv2D)            (None, 10, 10, 480)  38400       ['batch_normalization_115[0][0]']\n",
            "                                                                                                  \n",
            " batch_normalization_116 (Batch  (None, 10, 10, 480)  1920       ['conv2d_154[0][0]']             \n",
            " Normalization)                                                                                   \n",
            "                                                                                                  \n",
            " swish_116 (Swish)              (None, 10, 10, 480)  0           ['batch_normalization_116[0][0]']\n",
            "                                                                                                  \n",
            " depthwise_conv2d_38 (Depthwise  (None, 10, 10, 480)  4320       ['swish_116[0][0]']              \n",
            " Conv2D)                                                                                          \n",
            "                                                                                                  \n",
            " batch_normalization_117 (Batch  (None, 10, 10, 480)  1920       ['depthwise_conv2d_38[0][0]']    \n",
            " Normalization)                                                                                   \n",
            "                                                                                                  \n",
            " swish_117 (Swish)              (None, 10, 10, 480)  0           ['batch_normalization_117[0][0]']\n",
            "                                                                                                  \n",
            " lambda_38 (Lambda)             (None, 1, 1, 480)    0           ['swish_117[0][0]']              \n",
            "                                                                                                  \n",
            " conv2d_155 (Conv2D)            (None, 1, 1, 20)     9620        ['lambda_38[0][0]']              \n",
            "                                                                                                  \n",
            " swish_118 (Swish)              (None, 1, 1, 20)     0           ['conv2d_155[0][0]']             \n",
            "                                                                                                  \n",
            " conv2d_156 (Conv2D)            (None, 1, 1, 480)    10080       ['swish_118[0][0]']              \n",
            "                                                                                                  \n",
            " activation_38 (Activation)     (None, 1, 1, 480)    0           ['conv2d_156[0][0]']             \n",
            "                                                                                                  \n",
            " multiply_38 (Multiply)         (None, 10, 10, 480)  0           ['activation_38[0][0]',          \n",
            "                                                                  'swish_117[0][0]']              \n",
            "                                                                                                  \n",
            " conv2d_157 (Conv2D)            (None, 10, 10, 80)   38400       ['multiply_38[0][0]']            \n",
            "                                                                                                  \n",
            " batch_normalization_118 (Batch  (None, 10, 10, 80)  320         ['conv2d_157[0][0]']             \n",
            " Normalization)                                                                                   \n",
            "                                                                                                  \n",
            " drop_connect_20 (DropConnect)  (None, 10, 10, 80)   0           ['batch_normalization_118[0][0]']\n",
            "                                                                                                  \n",
            " add_20 (Add)                   (None, 10, 10, 80)   0           ['drop_connect_20[0][0]',        \n",
            "                                                                  'batch_normalization_115[0][0]']\n",
            "                                                                                                  \n",
            " conv2d_158 (Conv2D)            (None, 10, 10, 480)  38400       ['add_20[0][0]']                 \n",
            "                                                                                                  \n",
            " batch_normalization_119 (Batch  (None, 10, 10, 480)  1920       ['conv2d_158[0][0]']             \n",
            " Normalization)                                                                                   \n",
            "                                                                                                  \n",
            " swish_119 (Swish)              (None, 10, 10, 480)  0           ['batch_normalization_119[0][0]']\n",
            "                                                                                                  \n",
            " depthwise_conv2d_39 (Depthwise  (None, 10, 10, 480)  4320       ['swish_119[0][0]']              \n",
            " Conv2D)                                                                                          \n",
            "                                                                                                  \n",
            " batch_normalization_120 (Batch  (None, 10, 10, 480)  1920       ['depthwise_conv2d_39[0][0]']    \n",
            " Normalization)                                                                                   \n",
            "                                                                                                  \n",
            " swish_120 (Swish)              (None, 10, 10, 480)  0           ['batch_normalization_120[0][0]']\n",
            "                                                                                                  \n",
            " lambda_39 (Lambda)             (None, 1, 1, 480)    0           ['swish_120[0][0]']              \n",
            "                                                                                                  \n",
            " conv2d_159 (Conv2D)            (None, 1, 1, 20)     9620        ['lambda_39[0][0]']              \n",
            "                                                                                                  \n",
            " swish_121 (Swish)              (None, 1, 1, 20)     0           ['conv2d_159[0][0]']             \n",
            "                                                                                                  \n",
            " conv2d_160 (Conv2D)            (None, 1, 1, 480)    10080       ['swish_121[0][0]']              \n",
            "                                                                                                  \n",
            " activation_39 (Activation)     (None, 1, 1, 480)    0           ['conv2d_160[0][0]']             \n",
            "                                                                                                  \n",
            " multiply_39 (Multiply)         (None, 10, 10, 480)  0           ['activation_39[0][0]',          \n",
            "                                                                  'swish_120[0][0]']              \n",
            "                                                                                                  \n",
            " conv2d_161 (Conv2D)            (None, 10, 10, 80)   38400       ['multiply_39[0][0]']            \n",
            "                                                                                                  \n",
            " batch_normalization_121 (Batch  (None, 10, 10, 80)  320         ['conv2d_161[0][0]']             \n",
            " Normalization)                                                                                   \n",
            "                                                                                                  \n",
            " drop_connect_21 (DropConnect)  (None, 10, 10, 80)   0           ['batch_normalization_121[0][0]']\n",
            "                                                                                                  \n",
            " add_21 (Add)                   (None, 10, 10, 80)   0           ['drop_connect_21[0][0]',        \n",
            "                                                                  'add_20[0][0]']                 \n",
            "                                                                                                  \n",
            " conv2d_162 (Conv2D)            (None, 10, 10, 480)  38400       ['add_21[0][0]']                 \n",
            "                                                                                                  \n",
            " batch_normalization_122 (Batch  (None, 10, 10, 480)  1920       ['conv2d_162[0][0]']             \n",
            " Normalization)                                                                                   \n",
            "                                                                                                  \n",
            " swish_122 (Swish)              (None, 10, 10, 480)  0           ['batch_normalization_122[0][0]']\n",
            "                                                                                                  \n",
            " depthwise_conv2d_40 (Depthwise  (None, 10, 10, 480)  12000      ['swish_122[0][0]']              \n",
            " Conv2D)                                                                                          \n",
            "                                                                                                  \n",
            " batch_normalization_123 (Batch  (None, 10, 10, 480)  1920       ['depthwise_conv2d_40[0][0]']    \n",
            " Normalization)                                                                                   \n",
            "                                                                                                  \n",
            " swish_123 (Swish)              (None, 10, 10, 480)  0           ['batch_normalization_123[0][0]']\n",
            "                                                                                                  \n",
            " lambda_40 (Lambda)             (None, 1, 1, 480)    0           ['swish_123[0][0]']              \n",
            "                                                                                                  \n",
            " conv2d_163 (Conv2D)            (None, 1, 1, 20)     9620        ['lambda_40[0][0]']              \n",
            "                                                                                                  \n",
            " swish_124 (Swish)              (None, 1, 1, 20)     0           ['conv2d_163[0][0]']             \n",
            "                                                                                                  \n",
            " conv2d_164 (Conv2D)            (None, 1, 1, 480)    10080       ['swish_124[0][0]']              \n",
            "                                                                                                  \n",
            " activation_40 (Activation)     (None, 1, 1, 480)    0           ['conv2d_164[0][0]']             \n",
            "                                                                                                  \n",
            " multiply_40 (Multiply)         (None, 10, 10, 480)  0           ['activation_40[0][0]',          \n",
            "                                                                  'swish_123[0][0]']              \n",
            "                                                                                                  \n",
            " conv2d_165 (Conv2D)            (None, 10, 10, 112)  53760       ['multiply_40[0][0]']            \n",
            "                                                                                                  \n",
            " batch_normalization_124 (Batch  (None, 10, 10, 112)  448        ['conv2d_165[0][0]']             \n",
            " Normalization)                                                                                   \n",
            "                                                                                                  \n",
            " conv2d_166 (Conv2D)            (None, 10, 10, 672)  75264       ['batch_normalization_124[0][0]']\n",
            "                                                                                                  \n",
            " batch_normalization_125 (Batch  (None, 10, 10, 672)  2688       ['conv2d_166[0][0]']             \n",
            " Normalization)                                                                                   \n",
            "                                                                                                  \n",
            " swish_125 (Swish)              (None, 10, 10, 672)  0           ['batch_normalization_125[0][0]']\n",
            "                                                                                                  \n",
            " depthwise_conv2d_41 (Depthwise  (None, 10, 10, 672)  16800      ['swish_125[0][0]']              \n",
            " Conv2D)                                                                                          \n",
            "                                                                                                  \n",
            " batch_normalization_126 (Batch  (None, 10, 10, 672)  2688       ['depthwise_conv2d_41[0][0]']    \n",
            " Normalization)                                                                                   \n",
            "                                                                                                  \n",
            " swish_126 (Swish)              (None, 10, 10, 672)  0           ['batch_normalization_126[0][0]']\n",
            "                                                                                                  \n",
            " lambda_41 (Lambda)             (None, 1, 1, 672)    0           ['swish_126[0][0]']              \n",
            "                                                                                                  \n",
            " conv2d_167 (Conv2D)            (None, 1, 1, 28)     18844       ['lambda_41[0][0]']              \n",
            "                                                                                                  \n",
            " swish_127 (Swish)              (None, 1, 1, 28)     0           ['conv2d_167[0][0]']             \n",
            "                                                                                                  \n",
            " conv2d_168 (Conv2D)            (None, 1, 1, 672)    19488       ['swish_127[0][0]']              \n",
            "                                                                                                  \n",
            " activation_41 (Activation)     (None, 1, 1, 672)    0           ['conv2d_168[0][0]']             \n",
            "                                                                                                  \n",
            " multiply_41 (Multiply)         (None, 10, 10, 672)  0           ['activation_41[0][0]',          \n",
            "                                                                  'swish_126[0][0]']              \n",
            "                                                                                                  \n",
            " conv2d_169 (Conv2D)            (None, 10, 10, 112)  75264       ['multiply_41[0][0]']            \n",
            "                                                                                                  \n",
            " batch_normalization_127 (Batch  (None, 10, 10, 112)  448        ['conv2d_169[0][0]']             \n",
            " Normalization)                                                                                   \n",
            "                                                                                                  \n",
            " drop_connect_22 (DropConnect)  (None, 10, 10, 112)  0           ['batch_normalization_127[0][0]']\n",
            "                                                                                                  \n",
            " add_22 (Add)                   (None, 10, 10, 112)  0           ['drop_connect_22[0][0]',        \n",
            "                                                                  'batch_normalization_124[0][0]']\n",
            "                                                                                                  \n",
            " conv2d_170 (Conv2D)            (None, 10, 10, 672)  75264       ['add_22[0][0]']                 \n",
            "                                                                                                  \n",
            " batch_normalization_128 (Batch  (None, 10, 10, 672)  2688       ['conv2d_170[0][0]']             \n",
            " Normalization)                                                                                   \n",
            "                                                                                                  \n",
            " swish_128 (Swish)              (None, 10, 10, 672)  0           ['batch_normalization_128[0][0]']\n",
            "                                                                                                  \n",
            " depthwise_conv2d_42 (Depthwise  (None, 10, 10, 672)  16800      ['swish_128[0][0]']              \n",
            " Conv2D)                                                                                          \n",
            "                                                                                                  \n",
            " batch_normalization_129 (Batch  (None, 10, 10, 672)  2688       ['depthwise_conv2d_42[0][0]']    \n",
            " Normalization)                                                                                   \n",
            "                                                                                                  \n",
            " swish_129 (Swish)              (None, 10, 10, 672)  0           ['batch_normalization_129[0][0]']\n",
            "                                                                                                  \n",
            " lambda_42 (Lambda)             (None, 1, 1, 672)    0           ['swish_129[0][0]']              \n",
            "                                                                                                  \n",
            " conv2d_171 (Conv2D)            (None, 1, 1, 28)     18844       ['lambda_42[0][0]']              \n",
            "                                                                                                  \n",
            " swish_130 (Swish)              (None, 1, 1, 28)     0           ['conv2d_171[0][0]']             \n",
            "                                                                                                  \n",
            " conv2d_172 (Conv2D)            (None, 1, 1, 672)    19488       ['swish_130[0][0]']              \n",
            "                                                                                                  \n",
            " activation_42 (Activation)     (None, 1, 1, 672)    0           ['conv2d_172[0][0]']             \n",
            "                                                                                                  \n",
            " multiply_42 (Multiply)         (None, 10, 10, 672)  0           ['activation_42[0][0]',          \n",
            "                                                                  'swish_129[0][0]']              \n",
            "                                                                                                  \n",
            " conv2d_173 (Conv2D)            (None, 10, 10, 112)  75264       ['multiply_42[0][0]']            \n",
            "                                                                                                  \n",
            " batch_normalization_130 (Batch  (None, 10, 10, 112)  448        ['conv2d_173[0][0]']             \n",
            " Normalization)                                                                                   \n",
            "                                                                                                  \n",
            " drop_connect_23 (DropConnect)  (None, 10, 10, 112)  0           ['batch_normalization_130[0][0]']\n",
            "                                                                                                  \n",
            " add_23 (Add)                   (None, 10, 10, 112)  0           ['drop_connect_23[0][0]',        \n",
            "                                                                  'add_22[0][0]']                 \n",
            "                                                                                                  \n",
            " conv2d_174 (Conv2D)            (None, 10, 10, 672)  75264       ['add_23[0][0]']                 \n",
            "                                                                                                  \n",
            " batch_normalization_131 (Batch  (None, 10, 10, 672)  2688       ['conv2d_174[0][0]']             \n",
            " Normalization)                                                                                   \n",
            "                                                                                                  \n",
            " swish_131 (Swish)              (None, 10, 10, 672)  0           ['batch_normalization_131[0][0]']\n",
            "                                                                                                  \n",
            " depthwise_conv2d_43 (Depthwise  (None, 5, 5, 672)   16800       ['swish_131[0][0]']              \n",
            " Conv2D)                                                                                          \n",
            "                                                                                                  \n",
            " batch_normalization_132 (Batch  (None, 5, 5, 672)   2688        ['depthwise_conv2d_43[0][0]']    \n",
            " Normalization)                                                                                   \n",
            "                                                                                                  \n",
            " swish_132 (Swish)              (None, 5, 5, 672)    0           ['batch_normalization_132[0][0]']\n",
            "                                                                                                  \n",
            " lambda_43 (Lambda)             (None, 1, 1, 672)    0           ['swish_132[0][0]']              \n",
            "                                                                                                  \n",
            " conv2d_175 (Conv2D)            (None, 1, 1, 28)     18844       ['lambda_43[0][0]']              \n",
            "                                                                                                  \n",
            " swish_133 (Swish)              (None, 1, 1, 28)     0           ['conv2d_175[0][0]']             \n",
            "                                                                                                  \n",
            " conv2d_176 (Conv2D)            (None, 1, 1, 672)    19488       ['swish_133[0][0]']              \n",
            "                                                                                                  \n",
            " activation_43 (Activation)     (None, 1, 1, 672)    0           ['conv2d_176[0][0]']             \n",
            "                                                                                                  \n",
            " multiply_43 (Multiply)         (None, 5, 5, 672)    0           ['activation_43[0][0]',          \n",
            "                                                                  'swish_132[0][0]']              \n",
            "                                                                                                  \n",
            " conv2d_177 (Conv2D)            (None, 5, 5, 192)    129024      ['multiply_43[0][0]']            \n",
            "                                                                                                  \n",
            " batch_normalization_133 (Batch  (None, 5, 5, 192)   768         ['conv2d_177[0][0]']             \n",
            " Normalization)                                                                                   \n",
            "                                                                                                  \n",
            " conv2d_178 (Conv2D)            (None, 5, 5, 1152)   221184      ['batch_normalization_133[0][0]']\n",
            "                                                                                                  \n",
            " batch_normalization_134 (Batch  (None, 5, 5, 1152)  4608        ['conv2d_178[0][0]']             \n",
            " Normalization)                                                                                   \n",
            "                                                                                                  \n",
            " swish_134 (Swish)              (None, 5, 5, 1152)   0           ['batch_normalization_134[0][0]']\n",
            "                                                                                                  \n",
            " depthwise_conv2d_44 (Depthwise  (None, 5, 5, 1152)  28800       ['swish_134[0][0]']              \n",
            " Conv2D)                                                                                          \n",
            "                                                                                                  \n",
            " batch_normalization_135 (Batch  (None, 5, 5, 1152)  4608        ['depthwise_conv2d_44[0][0]']    \n",
            " Normalization)                                                                                   \n",
            "                                                                                                  \n",
            " swish_135 (Swish)              (None, 5, 5, 1152)   0           ['batch_normalization_135[0][0]']\n",
            "                                                                                                  \n",
            " lambda_44 (Lambda)             (None, 1, 1, 1152)   0           ['swish_135[0][0]']              \n",
            "                                                                                                  \n",
            " conv2d_179 (Conv2D)            (None, 1, 1, 48)     55344       ['lambda_44[0][0]']              \n",
            "                                                                                                  \n",
            " swish_136 (Swish)              (None, 1, 1, 48)     0           ['conv2d_179[0][0]']             \n",
            "                                                                                                  \n",
            " conv2d_180 (Conv2D)            (None, 1, 1, 1152)   56448       ['swish_136[0][0]']              \n",
            "                                                                                                  \n",
            " activation_44 (Activation)     (None, 1, 1, 1152)   0           ['conv2d_180[0][0]']             \n",
            "                                                                                                  \n",
            " multiply_44 (Multiply)         (None, 5, 5, 1152)   0           ['activation_44[0][0]',          \n",
            "                                                                  'swish_135[0][0]']              \n",
            "                                                                                                  \n",
            " conv2d_181 (Conv2D)            (None, 5, 5, 192)    221184      ['multiply_44[0][0]']            \n",
            "                                                                                                  \n",
            " batch_normalization_136 (Batch  (None, 5, 5, 192)   768         ['conv2d_181[0][0]']             \n",
            " Normalization)                                                                                   \n",
            "                                                                                                  \n",
            " drop_connect_24 (DropConnect)  (None, 5, 5, 192)    0           ['batch_normalization_136[0][0]']\n",
            "                                                                                                  \n",
            " add_24 (Add)                   (None, 5, 5, 192)    0           ['drop_connect_24[0][0]',        \n",
            "                                                                  'batch_normalization_133[0][0]']\n",
            "                                                                                                  \n",
            " conv2d_182 (Conv2D)            (None, 5, 5, 1152)   221184      ['add_24[0][0]']                 \n",
            "                                                                                                  \n",
            " batch_normalization_137 (Batch  (None, 5, 5, 1152)  4608        ['conv2d_182[0][0]']             \n",
            " Normalization)                                                                                   \n",
            "                                                                                                  \n",
            " swish_137 (Swish)              (None, 5, 5, 1152)   0           ['batch_normalization_137[0][0]']\n",
            "                                                                                                  \n",
            " depthwise_conv2d_45 (Depthwise  (None, 5, 5, 1152)  28800       ['swish_137[0][0]']              \n",
            " Conv2D)                                                                                          \n",
            "                                                                                                  \n",
            " batch_normalization_138 (Batch  (None, 5, 5, 1152)  4608        ['depthwise_conv2d_45[0][0]']    \n",
            " Normalization)                                                                                   \n",
            "                                                                                                  \n",
            " swish_138 (Swish)              (None, 5, 5, 1152)   0           ['batch_normalization_138[0][0]']\n",
            "                                                                                                  \n",
            " lambda_45 (Lambda)             (None, 1, 1, 1152)   0           ['swish_138[0][0]']              \n",
            "                                                                                                  \n",
            " conv2d_183 (Conv2D)            (None, 1, 1, 48)     55344       ['lambda_45[0][0]']              \n",
            "                                                                                                  \n",
            " swish_139 (Swish)              (None, 1, 1, 48)     0           ['conv2d_183[0][0]']             \n",
            "                                                                                                  \n",
            " conv2d_184 (Conv2D)            (None, 1, 1, 1152)   56448       ['swish_139[0][0]']              \n",
            "                                                                                                  \n",
            " activation_45 (Activation)     (None, 1, 1, 1152)   0           ['conv2d_184[0][0]']             \n",
            "                                                                                                  \n",
            " multiply_45 (Multiply)         (None, 5, 5, 1152)   0           ['activation_45[0][0]',          \n",
            "                                                                  'swish_138[0][0]']              \n",
            "                                                                                                  \n",
            " conv2d_185 (Conv2D)            (None, 5, 5, 192)    221184      ['multiply_45[0][0]']            \n",
            "                                                                                                  \n",
            " batch_normalization_139 (Batch  (None, 5, 5, 192)   768         ['conv2d_185[0][0]']             \n",
            " Normalization)                                                                                   \n",
            "                                                                                                  \n",
            " drop_connect_25 (DropConnect)  (None, 5, 5, 192)    0           ['batch_normalization_139[0][0]']\n",
            "                                                                                                  \n",
            " add_25 (Add)                   (None, 5, 5, 192)    0           ['drop_connect_25[0][0]',        \n",
            "                                                                  'add_24[0][0]']                 \n",
            "                                                                                                  \n",
            " conv2d_186 (Conv2D)            (None, 5, 5, 1152)   221184      ['add_25[0][0]']                 \n",
            "                                                                                                  \n",
            " batch_normalization_140 (Batch  (None, 5, 5, 1152)  4608        ['conv2d_186[0][0]']             \n",
            " Normalization)                                                                                   \n",
            "                                                                                                  \n",
            " swish_140 (Swish)              (None, 5, 5, 1152)   0           ['batch_normalization_140[0][0]']\n",
            "                                                                                                  \n",
            " depthwise_conv2d_46 (Depthwise  (None, 5, 5, 1152)  28800       ['swish_140[0][0]']              \n",
            " Conv2D)                                                                                          \n",
            "                                                                                                  \n",
            " batch_normalization_141 (Batch  (None, 5, 5, 1152)  4608        ['depthwise_conv2d_46[0][0]']    \n",
            " Normalization)                                                                                   \n",
            "                                                                                                  \n",
            " swish_141 (Swish)              (None, 5, 5, 1152)   0           ['batch_normalization_141[0][0]']\n",
            "                                                                                                  \n",
            " lambda_46 (Lambda)             (None, 1, 1, 1152)   0           ['swish_141[0][0]']              \n",
            "                                                                                                  \n",
            " conv2d_187 (Conv2D)            (None, 1, 1, 48)     55344       ['lambda_46[0][0]']              \n",
            "                                                                                                  \n",
            " swish_142 (Swish)              (None, 1, 1, 48)     0           ['conv2d_187[0][0]']             \n",
            "                                                                                                  \n",
            " conv2d_188 (Conv2D)            (None, 1, 1, 1152)   56448       ['swish_142[0][0]']              \n",
            "                                                                                                  \n",
            " activation_46 (Activation)     (None, 1, 1, 1152)   0           ['conv2d_188[0][0]']             \n",
            "                                                                                                  \n",
            " multiply_46 (Multiply)         (None, 5, 5, 1152)   0           ['activation_46[0][0]',          \n",
            "                                                                  'swish_141[0][0]']              \n",
            "                                                                                                  \n",
            " conv2d_189 (Conv2D)            (None, 5, 5, 192)    221184      ['multiply_46[0][0]']            \n",
            "                                                                                                  \n",
            " batch_normalization_142 (Batch  (None, 5, 5, 192)   768         ['conv2d_189[0][0]']             \n",
            " Normalization)                                                                                   \n",
            "                                                                                                  \n",
            " drop_connect_26 (DropConnect)  (None, 5, 5, 192)    0           ['batch_normalization_142[0][0]']\n",
            "                                                                                                  \n",
            " add_26 (Add)                   (None, 5, 5, 192)    0           ['drop_connect_26[0][0]',        \n",
            "                                                                  'add_25[0][0]']                 \n",
            "                                                                                                  \n",
            " conv2d_190 (Conv2D)            (None, 5, 5, 1152)   221184      ['add_26[0][0]']                 \n",
            "                                                                                                  \n",
            " batch_normalization_143 (Batch  (None, 5, 5, 1152)  4608        ['conv2d_190[0][0]']             \n",
            " Normalization)                                                                                   \n",
            "                                                                                                  \n",
            " swish_143 (Swish)              (None, 5, 5, 1152)   0           ['batch_normalization_143[0][0]']\n",
            "                                                                                                  \n",
            " depthwise_conv2d_47 (Depthwise  (None, 5, 5, 1152)  10368       ['swish_143[0][0]']              \n",
            " Conv2D)                                                                                          \n",
            "                                                                                                  \n",
            " batch_normalization_144 (Batch  (None, 5, 5, 1152)  4608        ['depthwise_conv2d_47[0][0]']    \n",
            " Normalization)                                                                                   \n",
            "                                                                                                  \n",
            " swish_144 (Swish)              (None, 5, 5, 1152)   0           ['batch_normalization_144[0][0]']\n",
            "                                                                                                  \n",
            " lambda_47 (Lambda)             (None, 1, 1, 1152)   0           ['swish_144[0][0]']              \n",
            "                                                                                                  \n",
            " conv2d_191 (Conv2D)            (None, 1, 1, 48)     55344       ['lambda_47[0][0]']              \n",
            "                                                                                                  \n",
            " swish_145 (Swish)              (None, 1, 1, 48)     0           ['conv2d_191[0][0]']             \n",
            "                                                                                                  \n",
            " conv2d_192 (Conv2D)            (None, 1, 1, 1152)   56448       ['swish_145[0][0]']              \n",
            "                                                                                                  \n",
            " activation_47 (Activation)     (None, 1, 1, 1152)   0           ['conv2d_192[0][0]']             \n",
            "                                                                                                  \n",
            " multiply_47 (Multiply)         (None, 5, 5, 1152)   0           ['activation_47[0][0]',          \n",
            "                                                                  'swish_144[0][0]']              \n",
            "                                                                                                  \n",
            " conv2d_193 (Conv2D)            (None, 5, 5, 320)    368640      ['multiply_47[0][0]']            \n",
            "                                                                                                  \n",
            " batch_normalization_145 (Batch  (None, 5, 5, 320)   1280        ['conv2d_193[0][0]']             \n",
            " Normalization)                                                                                   \n",
            "                                                                                                  \n",
            " conv2d_194 (Conv2D)            (None, 5, 5, 1280)   409600      ['batch_normalization_145[0][0]']\n",
            "                                                                                                  \n",
            " batch_normalization_146 (Batch  (None, 5, 5, 1280)  5120        ['conv2d_194[0][0]']             \n",
            " Normalization)                                                                                   \n",
            "                                                                                                  \n",
            " swish_146 (Swish)              (None, 5, 5, 1280)   0           ['batch_normalization_146[0][0]']\n",
            "                                                                                                  \n",
            "==================================================================================================\n",
            "Total params: 4,049,564\n",
            "Trainable params: 0\n",
            "Non-trainable params: 4,049,564\n",
            "__________________________________________________________________________________________________\n"
          ]
        }
      ]
    },
    {
      "cell_type": "markdown",
      "source": [
        "#สร้างโฟลเดอร์ Train Valodation และ Test"
      ],
      "metadata": {
        "id": "J36J9EAE7qSB"
      }
    },
    {
      "cell_type": "code",
      "source": [
        "df = pd.read_csv (r'/content/drive/MyDrive/cut_panoramic/Data/New_Data_Male125.csv')\n",
        "df"
      ],
      "metadata": {
        "colab": {
          "base_uri": "https://localhost:8080/",
          "height": 424
        },
        "id": "skoKhKJDngAZ",
        "outputId": "ab735579-de19-4e11-b2ff-e9c7b03c60bd"
      },
      "execution_count": 63,
      "outputs": [
        {
          "output_type": "execute_result",
          "data": {
            "text/plain": [
              "      Fig_Age  Fig_Person_Sex  Age(year) Class  Class_Re       Filename  \\\n",
              "0           1               1          7  Y07M         0       VV03.jpg   \n",
              "1           2               1          7  Y07M         0  Flip_VV03.jpg   \n",
              "2           3               2          7  Y07M         0       VV04.jpg   \n",
              "3           4               2          7  Y07M         0  Flip_VV04.jpg   \n",
              "4           5               3          7  Y07M         0       VV05.jpg   \n",
              "...       ...             ...        ...   ...       ...            ...   \n",
              "2370      121              77         25  Y25M        18  Flip_J463.jpg   \n",
              "2371      122              78         25  Y25M        18       J464.jpg   \n",
              "2372      123              78         25  Y25M        18  Flip_J464.jpg   \n",
              "2373      124              79         25  Y25M        18       J465.jpg   \n",
              "2374      125              79         25  Y25M        18  Flip_J465.jpg   \n",
              "\n",
              "                                          Path_filename     Sex Floder  \n",
              "0     /content/drive/My Drive/TVT_Male125/train/Y07M...  เพศชาย   Both  \n",
              "1     /content/drive/My Drive/TVT_Male125/train/Y07M...  เพศชาย   Both  \n",
              "2     /content/drive/My Drive/TVT_Male125/train/Y07M...  เพศชาย   Both  \n",
              "3     /content/drive/My Drive/TVT_Male125/train/Y07M...  เพศชาย   Both  \n",
              "4     /content/drive/My Drive/TVT_Male125/train/Y07M...  เพศชาย   Both  \n",
              "...                                                 ...     ...    ...  \n",
              "2370  /content/drive/My Drive/TVT_Male125/test/Y25M/...  เพศชาย   Both  \n",
              "2371  /content/drive/My Drive/TVT_Male125/test/Y25M/...  เพศชาย   Both  \n",
              "2372  /content/drive/My Drive/TVT_Male125/test/Y25M/...  เพศชาย   Both  \n",
              "2373  /content/drive/My Drive/TVT_Male125/test/Y25M/...  เพศชาย   Both  \n",
              "2374  /content/drive/My Drive/TVT_Male125/test/Y25M/...  เพศชาย   Both  \n",
              "\n",
              "[2375 rows x 9 columns]"
            ],
            "text/html": [
              "\n",
              "  <div id=\"df-b7aaa946-bf9d-4336-93c6-b949c3c6b204\">\n",
              "    <div class=\"colab-df-container\">\n",
              "      <div>\n",
              "<style scoped>\n",
              "    .dataframe tbody tr th:only-of-type {\n",
              "        vertical-align: middle;\n",
              "    }\n",
              "\n",
              "    .dataframe tbody tr th {\n",
              "        vertical-align: top;\n",
              "    }\n",
              "\n",
              "    .dataframe thead th {\n",
              "        text-align: right;\n",
              "    }\n",
              "</style>\n",
              "<table border=\"1\" class=\"dataframe\">\n",
              "  <thead>\n",
              "    <tr style=\"text-align: right;\">\n",
              "      <th></th>\n",
              "      <th>Fig_Age</th>\n",
              "      <th>Fig_Person_Sex</th>\n",
              "      <th>Age(year)</th>\n",
              "      <th>Class</th>\n",
              "      <th>Class_Re</th>\n",
              "      <th>Filename</th>\n",
              "      <th>Path_filename</th>\n",
              "      <th>Sex</th>\n",
              "      <th>Floder</th>\n",
              "    </tr>\n",
              "  </thead>\n",
              "  <tbody>\n",
              "    <tr>\n",
              "      <th>0</th>\n",
              "      <td>1</td>\n",
              "      <td>1</td>\n",
              "      <td>7</td>\n",
              "      <td>Y07M</td>\n",
              "      <td>0</td>\n",
              "      <td>VV03.jpg</td>\n",
              "      <td>/content/drive/My Drive/TVT_Male125/train/Y07M...</td>\n",
              "      <td>เพศชาย</td>\n",
              "      <td>Both</td>\n",
              "    </tr>\n",
              "    <tr>\n",
              "      <th>1</th>\n",
              "      <td>2</td>\n",
              "      <td>1</td>\n",
              "      <td>7</td>\n",
              "      <td>Y07M</td>\n",
              "      <td>0</td>\n",
              "      <td>Flip_VV03.jpg</td>\n",
              "      <td>/content/drive/My Drive/TVT_Male125/train/Y07M...</td>\n",
              "      <td>เพศชาย</td>\n",
              "      <td>Both</td>\n",
              "    </tr>\n",
              "    <tr>\n",
              "      <th>2</th>\n",
              "      <td>3</td>\n",
              "      <td>2</td>\n",
              "      <td>7</td>\n",
              "      <td>Y07M</td>\n",
              "      <td>0</td>\n",
              "      <td>VV04.jpg</td>\n",
              "      <td>/content/drive/My Drive/TVT_Male125/train/Y07M...</td>\n",
              "      <td>เพศชาย</td>\n",
              "      <td>Both</td>\n",
              "    </tr>\n",
              "    <tr>\n",
              "      <th>3</th>\n",
              "      <td>4</td>\n",
              "      <td>2</td>\n",
              "      <td>7</td>\n",
              "      <td>Y07M</td>\n",
              "      <td>0</td>\n",
              "      <td>Flip_VV04.jpg</td>\n",
              "      <td>/content/drive/My Drive/TVT_Male125/train/Y07M...</td>\n",
              "      <td>เพศชาย</td>\n",
              "      <td>Both</td>\n",
              "    </tr>\n",
              "    <tr>\n",
              "      <th>4</th>\n",
              "      <td>5</td>\n",
              "      <td>3</td>\n",
              "      <td>7</td>\n",
              "      <td>Y07M</td>\n",
              "      <td>0</td>\n",
              "      <td>VV05.jpg</td>\n",
              "      <td>/content/drive/My Drive/TVT_Male125/train/Y07M...</td>\n",
              "      <td>เพศชาย</td>\n",
              "      <td>Both</td>\n",
              "    </tr>\n",
              "    <tr>\n",
              "      <th>...</th>\n",
              "      <td>...</td>\n",
              "      <td>...</td>\n",
              "      <td>...</td>\n",
              "      <td>...</td>\n",
              "      <td>...</td>\n",
              "      <td>...</td>\n",
              "      <td>...</td>\n",
              "      <td>...</td>\n",
              "      <td>...</td>\n",
              "    </tr>\n",
              "    <tr>\n",
              "      <th>2370</th>\n",
              "      <td>121</td>\n",
              "      <td>77</td>\n",
              "      <td>25</td>\n",
              "      <td>Y25M</td>\n",
              "      <td>18</td>\n",
              "      <td>Flip_J463.jpg</td>\n",
              "      <td>/content/drive/My Drive/TVT_Male125/test/Y25M/...</td>\n",
              "      <td>เพศชาย</td>\n",
              "      <td>Both</td>\n",
              "    </tr>\n",
              "    <tr>\n",
              "      <th>2371</th>\n",
              "      <td>122</td>\n",
              "      <td>78</td>\n",
              "      <td>25</td>\n",
              "      <td>Y25M</td>\n",
              "      <td>18</td>\n",
              "      <td>J464.jpg</td>\n",
              "      <td>/content/drive/My Drive/TVT_Male125/test/Y25M/...</td>\n",
              "      <td>เพศชาย</td>\n",
              "      <td>Both</td>\n",
              "    </tr>\n",
              "    <tr>\n",
              "      <th>2372</th>\n",
              "      <td>123</td>\n",
              "      <td>78</td>\n",
              "      <td>25</td>\n",
              "      <td>Y25M</td>\n",
              "      <td>18</td>\n",
              "      <td>Flip_J464.jpg</td>\n",
              "      <td>/content/drive/My Drive/TVT_Male125/test/Y25M/...</td>\n",
              "      <td>เพศชาย</td>\n",
              "      <td>Both</td>\n",
              "    </tr>\n",
              "    <tr>\n",
              "      <th>2373</th>\n",
              "      <td>124</td>\n",
              "      <td>79</td>\n",
              "      <td>25</td>\n",
              "      <td>Y25M</td>\n",
              "      <td>18</td>\n",
              "      <td>J465.jpg</td>\n",
              "      <td>/content/drive/My Drive/TVT_Male125/test/Y25M/...</td>\n",
              "      <td>เพศชาย</td>\n",
              "      <td>Both</td>\n",
              "    </tr>\n",
              "    <tr>\n",
              "      <th>2374</th>\n",
              "      <td>125</td>\n",
              "      <td>79</td>\n",
              "      <td>25</td>\n",
              "      <td>Y25M</td>\n",
              "      <td>18</td>\n",
              "      <td>Flip_J465.jpg</td>\n",
              "      <td>/content/drive/My Drive/TVT_Male125/test/Y25M/...</td>\n",
              "      <td>เพศชาย</td>\n",
              "      <td>Both</td>\n",
              "    </tr>\n",
              "  </tbody>\n",
              "</table>\n",
              "<p>2375 rows × 9 columns</p>\n",
              "</div>\n",
              "      <button class=\"colab-df-convert\" onclick=\"convertToInteractive('df-b7aaa946-bf9d-4336-93c6-b949c3c6b204')\"\n",
              "              title=\"Convert this dataframe to an interactive table.\"\n",
              "              style=\"display:none;\">\n",
              "        \n",
              "  <svg xmlns=\"http://www.w3.org/2000/svg\" height=\"24px\"viewBox=\"0 0 24 24\"\n",
              "       width=\"24px\">\n",
              "    <path d=\"M0 0h24v24H0V0z\" fill=\"none\"/>\n",
              "    <path d=\"M18.56 5.44l.94 2.06.94-2.06 2.06-.94-2.06-.94-.94-2.06-.94 2.06-2.06.94zm-11 1L8.5 8.5l.94-2.06 2.06-.94-2.06-.94L8.5 2.5l-.94 2.06-2.06.94zm10 10l.94 2.06.94-2.06 2.06-.94-2.06-.94-.94-2.06-.94 2.06-2.06.94z\"/><path d=\"M17.41 7.96l-1.37-1.37c-.4-.4-.92-.59-1.43-.59-.52 0-1.04.2-1.43.59L10.3 9.45l-7.72 7.72c-.78.78-.78 2.05 0 2.83L4 21.41c.39.39.9.59 1.41.59.51 0 1.02-.2 1.41-.59l7.78-7.78 2.81-2.81c.8-.78.8-2.07 0-2.86zM5.41 20L4 18.59l7.72-7.72 1.47 1.35L5.41 20z\"/>\n",
              "  </svg>\n",
              "      </button>\n",
              "      \n",
              "  <style>\n",
              "    .colab-df-container {\n",
              "      display:flex;\n",
              "      flex-wrap:wrap;\n",
              "      gap: 12px;\n",
              "    }\n",
              "\n",
              "    .colab-df-convert {\n",
              "      background-color: #E8F0FE;\n",
              "      border: none;\n",
              "      border-radius: 50%;\n",
              "      cursor: pointer;\n",
              "      display: none;\n",
              "      fill: #1967D2;\n",
              "      height: 32px;\n",
              "      padding: 0 0 0 0;\n",
              "      width: 32px;\n",
              "    }\n",
              "\n",
              "    .colab-df-convert:hover {\n",
              "      background-color: #E2EBFA;\n",
              "      box-shadow: 0px 1px 2px rgba(60, 64, 67, 0.3), 0px 1px 3px 1px rgba(60, 64, 67, 0.15);\n",
              "      fill: #174EA6;\n",
              "    }\n",
              "\n",
              "    [theme=dark] .colab-df-convert {\n",
              "      background-color: #3B4455;\n",
              "      fill: #D2E3FC;\n",
              "    }\n",
              "\n",
              "    [theme=dark] .colab-df-convert:hover {\n",
              "      background-color: #434B5C;\n",
              "      box-shadow: 0px 1px 3px 1px rgba(0, 0, 0, 0.15);\n",
              "      filter: drop-shadow(0px 1px 2px rgba(0, 0, 0, 0.3));\n",
              "      fill: #FFFFFF;\n",
              "    }\n",
              "  </style>\n",
              "\n",
              "      <script>\n",
              "        const buttonEl =\n",
              "          document.querySelector('#df-b7aaa946-bf9d-4336-93c6-b949c3c6b204 button.colab-df-convert');\n",
              "        buttonEl.style.display =\n",
              "          google.colab.kernel.accessAllowed ? 'block' : 'none';\n",
              "\n",
              "        async function convertToInteractive(key) {\n",
              "          const element = document.querySelector('#df-b7aaa946-bf9d-4336-93c6-b949c3c6b204');\n",
              "          const dataTable =\n",
              "            await google.colab.kernel.invokeFunction('convertToInteractive',\n",
              "                                                     [key], {});\n",
              "          if (!dataTable) return;\n",
              "\n",
              "          const docLinkHtml = 'Like what you see? Visit the ' +\n",
              "            '<a target=\"_blank\" href=https://colab.research.google.com/notebooks/data_table.ipynb>data table notebook</a>'\n",
              "            + ' to learn more about interactive tables.';\n",
              "          element.innerHTML = '';\n",
              "          dataTable['output_type'] = 'display_data';\n",
              "          await google.colab.output.renderOutput(dataTable, element);\n",
              "          const docLink = document.createElement('div');\n",
              "          docLink.innerHTML = docLinkHtml;\n",
              "          element.appendChild(docLink);\n",
              "        }\n",
              "      </script>\n",
              "    </div>\n",
              "  </div>\n",
              "  "
            ]
          },
          "metadata": {},
          "execution_count": 63
        }
      ]
    },
    {
      "cell_type": "code",
      "source": [
        "train = df[df['Fig_Age'].between(1,75)]\n",
        "val = df[df['Fig_Age'].between(76,100)]"
      ],
      "metadata": {
        "id": "Z1zBw01Gl8Ac"
      },
      "execution_count": 64,
      "outputs": []
    },
    {
      "cell_type": "code",
      "source": [
        "DATA_PATH = \"/content/drive/My Drive/TVT_Male125\"\n",
        "os.chdir(DATA_PATH)\n",
        "train_dir = os.path.join(DATA_PATH, 'train')\n",
        "print(train_dir)\n",
        "validation_dir = os.path.join(DATA_PATH, 'validation')\n",
        "print(validation_dir)"
      ],
      "metadata": {
        "colab": {
          "base_uri": "https://localhost:8080/"
        },
        "id": "QL0g-8iOnMC4",
        "outputId": "6dc7cfda-a4eb-4958-fbe7-e2e15ecc7e06"
      },
      "execution_count": 65,
      "outputs": [
        {
          "output_type": "stream",
          "name": "stdout",
          "text": [
            "/content/drive/My Drive/TVT_Male125/train\n",
            "/content/drive/My Drive/TVT_Male125/validation\n"
          ]
        }
      ]
    },
    {
      "cell_type": "markdown",
      "source": [
        "\n",
        "#Train"
      ],
      "metadata": {
        "id": "bWEnlTSwazL5"
      }
    },
    {
      "cell_type": "code",
      "source": [
        "# Train ด้วย ImageDataGenerator ของ Keras ซึ่งจะเพิ่มข้อมูลเสริมระหว่างการฝึกเพื่อลดโอกาสเกิด overfitting\n",
        "#overfitting เกิดจากข้อมูลที่ซับซ้อนกันเกินไป\n",
        "from tensorflow.keras.preprocessing.image import ImageDataGenerator\n",
        "\n",
        "train_datagen = ImageDataGenerator(\n",
        "      rescale=1./255, #โมเดลส่วนใหญ่ต้องใช้ RGB ในช่วง 0–1\n",
        "      rotation_range=40,\n",
        "      width_shift_range=0.2,\n",
        "      height_shift_range=0.2,\n",
        "      shear_range=0.2,\n",
        "      zoom_range=0.2,\n",
        "      horizontal_flip=True,\n",
        "      fill_mode='nearest')\n",
        "\n",
        "# Note that the validation data should not be augmented!\n",
        "test_datagen = ImageDataGenerator(rescale=1./255)"
      ],
      "metadata": {
        "id": "xGPrsn9no_pa"
      },
      "execution_count": 66,
      "outputs": []
    },
    {
      "cell_type": "code",
      "source": [
        "train_generator = train_datagen.flow_from_dataframe(\n",
        "        dataframe = train,\n",
        "        directory = train_dir,\n",
        "        x_col = 'Path_filename',\n",
        "        y_col = 'Class_Re',\n",
        "        class_mode = 'other',\n",
        "        target_size=(height, width),\n",
        "        batch_size=batch_size)\n",
        "\n",
        "validation_generator = test_datagen.flow_from_dataframe(\n",
        "        dataframe = val,\n",
        "        directory = validation_dir,\n",
        "        x_col = 'Path_filename',\n",
        "        y_col = 'Class_Re',\n",
        "        class_mode = 'other',\n",
        "        target_size=(height, width),\n",
        "        batch_size=batch_size)"
      ],
      "metadata": {
        "colab": {
          "base_uri": "https://localhost:8080/"
        },
        "id": "8nVlmAszntK_",
        "outputId": "f4739f10-1590-4b2a-d9ab-510acf678f58"
      },
      "execution_count": 67,
      "outputs": [
        {
          "output_type": "stream",
          "name": "stdout",
          "text": [
            "Found 1425 validated image filenames.\n",
            "Found 475 validated image filenames.\n"
          ]
        }
      ]
    },
    {
      "cell_type": "code",
      "source": [
        "model.compile(loss='mse',\n",
        "          optimizer=Adam(learning_rate=1e-2),\n",
        "          metrics=['mae'])\n",
        "history = model.fit_generator(\n",
        "      train_generator,\n",
        "      steps_per_epoch= NUM_TRAIN //batch_size,\n",
        "      epochs=epochs,\n",
        "      validation_data=validation_generator,\n",
        "      validation_steps= NUM_TEST //batch_size,\n",
        "      verbose=1,\n",
        "      use_multiprocessing=True,\n",
        "      workers=4)"
      ],
      "metadata": {
        "id": "N6qUmmF856ZE",
        "outputId": "2d9ce85d-461f-42bc-fded-a7ccb5ae0023",
        "colab": {
          "base_uri": "https://localhost:8080/"
        }
      },
      "execution_count": 73,
      "outputs": [
        {
          "output_type": "stream",
          "name": "stderr",
          "text": [
            "<ipython-input-73-dbe5250147b4>:4: UserWarning: `Model.fit_generator` is deprecated and will be removed in a future version. Please use `Model.fit`, which supports generators.\n",
            "  history = model.fit_generator(\n"
          ]
        },
        {
          "output_type": "stream",
          "name": "stdout",
          "text": [
            "Epoch 1/50\n",
            "89/89 [==============================] - 33s 279ms/step - loss: 75.4626 - mae: 7.1433 - val_loss: 65.3380 - val_mae: 6.6155\n",
            "Epoch 2/50\n",
            "89/89 [==============================] - 25s 271ms/step - loss: 56.7353 - mae: 6.1446 - val_loss: 49.6124 - val_mae: 5.7755\n",
            "Epoch 3/50\n",
            "89/89 [==============================] - 26s 284ms/step - loss: 45.0237 - mae: 5.5444 - val_loss: 40.9631 - val_mae: 5.3399\n",
            "Epoch 4/50\n",
            "89/89 [==============================] - 20s 220ms/step - loss: 37.6574 - mae: 5.1527 - val_loss: 35.3378 - val_mae: 5.0205\n",
            "Epoch 5/50\n",
            "89/89 [==============================] - 22s 230ms/step - loss: 33.4728 - mae: 4.9245 - val_loss: 32.5123 - val_mae: 4.8951\n",
            "Epoch 6/50\n",
            "89/89 [==============================] - 25s 272ms/step - loss: 31.5172 - mae: 4.8264 - val_loss: 30.9593 - val_mae: 4.7885\n",
            "Epoch 7/50\n",
            "89/89 [==============================] - 26s 287ms/step - loss: 30.6726 - mae: 4.7817 - val_loss: 30.4612 - val_mae: 4.7677\n",
            "Epoch 8/50\n",
            "89/89 [==============================] - 27s 297ms/step - loss: 30.1960 - mae: 4.7560 - val_loss: 30.2249 - val_mae: 4.7679\n",
            "Epoch 9/50\n",
            "89/89 [==============================] - 27s 293ms/step - loss: 30.1424 - mae: 4.7580 - val_loss: 30.1292 - val_mae: 4.7490\n",
            "Epoch 10/50\n",
            "89/89 [==============================] - 26s 281ms/step - loss: 30.1094 - mae: 4.7487 - val_loss: 29.8434 - val_mae: 4.7197\n",
            "Epoch 11/50\n",
            "89/89 [==============================] - 25s 274ms/step - loss: 29.9126 - mae: 4.7317 - val_loss: 30.0390 - val_mae: 4.7498\n",
            "Epoch 12/50\n",
            "89/89 [==============================] - 25s 274ms/step - loss: 29.9411 - mae: 4.7335 - val_loss: 29.9508 - val_mae: 4.7442\n",
            "Epoch 13/50\n",
            "89/89 [==============================] - 21s 223ms/step - loss: 30.1326 - mae: 4.7476 - val_loss: 30.2002 - val_mae: 4.7654\n",
            "Epoch 14/50\n",
            "89/89 [==============================] - 26s 291ms/step - loss: 30.0147 - mae: 4.7394 - val_loss: 29.7699 - val_mae: 4.7166\n",
            "Epoch 15/50\n",
            "89/89 [==============================] - 20s 221ms/step - loss: 29.8724 - mae: 4.7234 - val_loss: 29.9547 - val_mae: 4.7392\n",
            "Epoch 16/50\n",
            "89/89 [==============================] - 21s 225ms/step - loss: 30.0434 - mae: 4.7391 - val_loss: 30.3005 - val_mae: 4.7605\n",
            "Epoch 17/50\n",
            "89/89 [==============================] - 25s 273ms/step - loss: 29.9982 - mae: 4.7338 - val_loss: 29.8347 - val_mae: 4.7272\n",
            "Epoch 18/50\n",
            "89/89 [==============================] - 25s 274ms/step - loss: 29.9533 - mae: 4.7314 - val_loss: 29.9433 - val_mae: 4.7382\n",
            "Epoch 19/50\n",
            "89/89 [==============================] - 26s 283ms/step - loss: 29.8290 - mae: 4.7212 - val_loss: 29.9211 - val_mae: 4.7376\n",
            "Epoch 20/50\n",
            "89/89 [==============================] - 25s 274ms/step - loss: 30.0866 - mae: 4.7496 - val_loss: 29.7196 - val_mae: 4.7063\n",
            "Epoch 21/50\n",
            "89/89 [==============================] - 25s 278ms/step - loss: 30.0021 - mae: 4.7371 - val_loss: 29.8983 - val_mae: 4.7358\n",
            "Epoch 22/50\n",
            "89/89 [==============================] - 25s 274ms/step - loss: 30.1222 - mae: 4.7504 - val_loss: 29.5807 - val_mae: 4.7003\n",
            "Epoch 23/50\n",
            "89/89 [==============================] - 26s 289ms/step - loss: 29.8958 - mae: 4.7274 - val_loss: 29.8031 - val_mae: 4.7192\n",
            "Epoch 24/50\n",
            "89/89 [==============================] - 22s 235ms/step - loss: 29.9521 - mae: 4.7358 - val_loss: 30.1653 - val_mae: 4.7654\n",
            "Epoch 25/50\n",
            "89/89 [==============================] - 21s 219ms/step - loss: 30.0172 - mae: 4.7389 - val_loss: 29.9747 - val_mae: 4.7378\n",
            "Epoch 26/50\n",
            "89/89 [==============================] - 27s 292ms/step - loss: 30.1168 - mae: 4.7497 - val_loss: 30.2068 - val_mae: 4.7589\n",
            "Epoch 27/50\n",
            "89/89 [==============================] - 26s 290ms/step - loss: 30.1067 - mae: 4.7522 - val_loss: 29.8673 - val_mae: 4.7265\n",
            "Epoch 28/50\n",
            "89/89 [==============================] - 25s 278ms/step - loss: 30.0301 - mae: 4.7412 - val_loss: 30.0091 - val_mae: 4.7451\n",
            "Epoch 29/50\n",
            "89/89 [==============================] - 27s 296ms/step - loss: 29.9227 - mae: 4.7318 - val_loss: 30.0084 - val_mae: 4.7428\n",
            "Epoch 30/50\n",
            "89/89 [==============================] - 27s 298ms/step - loss: 30.1234 - mae: 4.7510 - val_loss: 29.9263 - val_mae: 4.7293\n",
            "Epoch 31/50\n",
            "89/89 [==============================] - 26s 287ms/step - loss: 30.1226 - mae: 4.7494 - val_loss: 30.0250 - val_mae: 4.7405\n",
            "Epoch 32/50\n",
            "89/89 [==============================] - 27s 295ms/step - loss: 29.9777 - mae: 4.7374 - val_loss: 29.8539 - val_mae: 4.7281\n",
            "Epoch 33/50\n",
            "89/89 [==============================] - 27s 293ms/step - loss: 30.0871 - mae: 4.7470 - val_loss: 30.1644 - val_mae: 4.7459\n",
            "Epoch 34/50\n",
            "89/89 [==============================] - 27s 294ms/step - loss: 29.9287 - mae: 4.7370 - val_loss: 30.0187 - val_mae: 4.7414\n",
            "Epoch 35/50\n",
            "89/89 [==============================] - 27s 295ms/step - loss: 29.9653 - mae: 4.7382 - val_loss: 30.4113 - val_mae: 4.7818\n",
            "Epoch 36/50\n",
            "89/89 [==============================] - 27s 292ms/step - loss: 30.0706 - mae: 4.7447 - val_loss: 29.7074 - val_mae: 4.7087\n",
            "Epoch 37/50\n",
            "89/89 [==============================] - 26s 285ms/step - loss: 30.0666 - mae: 4.7437 - val_loss: 30.0732 - val_mae: 4.7408\n",
            "Epoch 38/50\n",
            "89/89 [==============================] - 27s 297ms/step - loss: 30.0721 - mae: 4.7475 - val_loss: 30.1153 - val_mae: 4.7487\n",
            "Epoch 39/50\n",
            "89/89 [==============================] - 26s 282ms/step - loss: 30.0358 - mae: 4.7412 - val_loss: 30.0072 - val_mae: 4.7355\n",
            "Epoch 40/50\n",
            "89/89 [==============================] - 25s 272ms/step - loss: 29.9170 - mae: 4.7325 - val_loss: 30.0287 - val_mae: 4.7439\n",
            "Epoch 41/50\n",
            "89/89 [==============================] - 25s 276ms/step - loss: 30.0487 - mae: 4.7477 - val_loss: 30.2075 - val_mae: 4.7595\n",
            "Epoch 42/50\n",
            "89/89 [==============================] - 25s 273ms/step - loss: 30.1043 - mae: 4.7502 - val_loss: 30.2790 - val_mae: 4.7714\n",
            "Epoch 43/50\n",
            "89/89 [==============================] - 20s 214ms/step - loss: 30.0662 - mae: 4.7448 - val_loss: 29.8344 - val_mae: 4.7193\n",
            "Epoch 44/50\n",
            "89/89 [==============================] - 22s 239ms/step - loss: 30.0335 - mae: 4.7411 - val_loss: 30.1491 - val_mae: 4.7588\n",
            "Epoch 45/50\n",
            "89/89 [==============================] - 26s 289ms/step - loss: 30.0338 - mae: 4.7436 - val_loss: 30.0712 - val_mae: 4.7445\n",
            "Epoch 46/50\n",
            "89/89 [==============================] - 21s 224ms/step - loss: 29.9659 - mae: 4.7361 - val_loss: 29.9328 - val_mae: 4.7366\n",
            "Epoch 47/50\n",
            "89/89 [==============================] - 26s 291ms/step - loss: 29.9638 - mae: 4.7363 - val_loss: 30.0314 - val_mae: 4.7502\n",
            "Epoch 48/50\n",
            "89/89 [==============================] - 25s 276ms/step - loss: 30.0099 - mae: 4.7385 - val_loss: 30.1027 - val_mae: 4.7534\n",
            "Epoch 49/50\n",
            "89/89 [==============================] - 27s 292ms/step - loss: 30.0977 - mae: 4.7516 - val_loss: 30.2199 - val_mae: 4.7630\n",
            "Epoch 50/50\n",
            "89/89 [==============================] - 25s 277ms/step - loss: 30.0603 - mae: 4.7512 - val_loss: 29.9624 - val_mae: 4.7400\n"
          ]
        }
      ]
    },
    {
      "cell_type": "code",
      "source": [
        "loss = history.history['loss']\n",
        "val_loss = history.history['val_loss']\n",
        "mae = history.history['mae']\n",
        "val_mae = history.history['val_mae']\n",
        "\n",
        "\n",
        "epochs_x = range(len(loss))\n",
        "\n",
        "\n",
        "plt.plot(epochs_x, mae, 'co', label='Training MAE')\n",
        "plt.plot(epochs_x, val_mae, 'k', label='Validation MAE')\n",
        "plt.title('Training and validation MeanAbsoluteError')\n",
        "plt.legend()\n",
        "\n",
        "plt.figure()\n",
        "plt.plot(epochs_x, loss, 'co', label='Training loss')\n",
        "plt.plot(epochs_x, val_loss, 'k', label='Validation loss')\n",
        "plt.title('Training and validation loss')\n",
        "plt.legend()\n",
        "\n",
        "plt.show()"
      ],
      "metadata": {
        "id": "Y3K89-CM-dfg",
        "colab": {
          "base_uri": "https://localhost:8080/",
          "height": 545
        },
        "outputId": "249fa3d9-5243-40cd-a030-dbed5573f88e"
      },
      "execution_count": 74,
      "outputs": [
        {
          "output_type": "display_data",
          "data": {
            "text/plain": [
              "<Figure size 432x288 with 1 Axes>"
            ],
            "image/png": "[encoded data removed]"
          },
          "metadata": {
            "needs_background": "light"
          }
        },
        {
          "output_type": "display_data",
          "data": {
            "text/plain": [
              "<Figure size 432x288 with 1 Axes>"
            ],
            "image/png": "[encoded data removed]"
          },
          "metadata": {
            "needs_background": "light"
          }
        }
      ]
    },
    {
      "cell_type": "code",
      "source": [
        "epochs_x"
      ],
      "metadata": {
        "id": "N_sP_ZmSY-Jv",
        "outputId": "d52ba3aa-7342-4fbc-e0a4-c7b9c526e432",
        "colab": {
          "base_uri": "https://localhost:8080/"
        }
      },
      "execution_count": 70,
      "outputs": [
        {
          "output_type": "execute_result",
          "data": {
            "text/plain": [
              "range(0, 50)"
            ]
          },
          "metadata": {},
          "execution_count": 70
        }
      ]
    },
    {
      "cell_type": "markdown",
      "source": [
        "#Download the model\n"
      ],
      "metadata": {
        "id": "R19IJQSYoW7J"
      }
    },
    {
      "cell_type": "code",
      "source": [
        "os.makedirs('/content/drive/My Drive/cut_panoramic/Model', exist_ok=True)\n",
        "model.save('/content/drive/My Drive/cut_panoramic/Model/1e-2_16_0.2_Male18_50.h5')"
      ],
      "metadata": {
        "id": "Zed4TdFcG2iJ"
      },
      "execution_count": 75,
      "outputs": []
    },
    {
      "cell_type": "markdown",
      "source": [],
      "metadata": {
        "id": "n5YxZ-5QjQ0-"
      }
    },
    {
      "cell_type": "code",
      "source": [
        "# from google.colab import files\n",
        "# files.download('/content/drive/My Drive/cut_panoramic/Model/1.1_รอบแรก_Flimpano_Male125_250.h5')"
      ],
      "metadata": {
        "id": "P5eMxm1NV-oY"
      },
      "execution_count": 72,
      "outputs": []
    },
    {
      "cell_type": "code",
      "source": [
        "\n"
      ],
      "metadata": {
        "id": "wY_pDlxkRwxS"
      },
      "execution_count": 72,
      "outputs": []
    }
  ]
}