{
  "nbformat": 4,
  "nbformat_minor": 0,
  "metadata": {
    "colab": {
      "provenance": [],
      "include_colab_link": true
    },
    "kernelspec": {
      "name": "python3",
      "display_name": "Python 3"
    },
    "language_info": {
      "name": "python"
    },
    "accelerator": "GPU",
    "gpuClass": "standard"
  },
  "cells": [
    {
      "cell_type": "markdown",
      "metadata": {
        "id": "view-in-github",
        "colab_type": "text"
      },
      "source": [
        "<a href=\"https://colab.research.google.com/github/Wanita-8943/Project_2023/blob/main/All4_1e_4_16_0_2_All_250_New_Unfreez.ipynb\" target=\"_parent\"><img src=\"https://colab.research.google.com/assets/colab-badge.svg\" alt=\"Open In Colab\"/></a>"
      ]
    },
    {
      "cell_type": "markdown",
      "source": [
        "#เรียกใช้ CSV"
      ],
      "metadata": {
        "id": "ow7eWoNw6U-c"
      }
    },
    {
      "cell_type": "code",
      "execution_count": 1,
      "metadata": {
        "id": "z8o_VVNXzcL8"
      },
      "outputs": [],
      "source": [
        "import pandas as pd\n",
        "import shutil"
      ]
    },
    {
      "cell_type": "code",
      "source": [
        "from google.colab import drive\n",
        "drive.mount('/content/drive')"
      ],
      "metadata": {
        "colab": {
          "base_uri": "https://localhost:8080/"
        },
        "id": "1_2Fe8u81d5r",
        "outputId": "6086583a-f402-4779-b2b1-7868b352d256"
      },
      "execution_count": 2,
      "outputs": [
        {
          "output_type": "stream",
          "name": "stdout",
          "text": [
            "Mounted at /content/drive\n"
          ]
        }
      ]
    },
    {
      "cell_type": "markdown",
      "source": [
        "#Imports"
      ],
      "metadata": {
        "id": "5qxePnnn7TGW"
      }
    },
    {
      "cell_type": "code",
      "source": [
        "from tensorflow.keras import models\n",
        "from tensorflow.keras import layers\n",
        "from tensorflow.keras import optimizers\n",
        "import os\n",
        "import glob\n",
        "import shutil\n",
        "import sys\n",
        "import numpy as np\n",
        "from skimage.io import imread\n",
        "import matplotlib.pyplot as plt\n",
        "from IPython.display import Image\n",
        "%matplotlib inline"
      ],
      "metadata": {
        "id": "D-hCRloc3t39"
      },
      "execution_count": 3,
      "outputs": []
    },
    {
      "cell_type": "code",
      "source": [
        "import tensorflow as tf\n",
        "from tensorflow.keras import Sequential\n",
        "from tensorflow.keras.layers import Dense\n",
        "from tensorflow.keras.optimizers import Adam\n",
        "from tensorflow.keras import backend as K"
      ],
      "metadata": {
        "id": "YZWXwjXeGxZP"
      },
      "execution_count": 4,
      "outputs": []
    },
    {
      "cell_type": "markdown",
      "source": [
        "#กำหนดค่าพารามิเตอร์\n"
      ],
      "metadata": {
        "id": "RooqSdBc7QHC"
      }
    },
    {
      "cell_type": "code",
      "source": [
        "batch_size = 16\n",
        "width = 150\n",
        "height = 150\n",
        "epochs = 250\n",
        "NUM_TRAIN = 2850\n",
        "NUM_TEST = 950\n",
        "dropout_rate = 0.2\n",
        "input_shape = (height, width, 3)"
      ],
      "metadata": {
        "id": "thDb7U9B3xOo"
      },
      "execution_count": 5,
      "outputs": []
    },
    {
      "cell_type": "markdown",
      "source": [
        "#Clone efficientnet repo\n"
      ],
      "metadata": {
        "id": "pumGmy6f3eSW"
      }
    },
    {
      "cell_type": "code",
      "source": [
        "#ดึงข้อมูลใน Github มาใช้\n",
        "import os\n",
        "%cd /content\n",
        "if not os.path.isdir(\"efficientnet_keras_transfer_learning\"):\n",
        " !git clone https://github.com/Wanita-8943/efficientnet_keras_transfer_learning\n",
        "%cd efficientnet_keras_transfer_learning/\n"
      ],
      "metadata": {
        "colab": {
          "base_uri": "https://localhost:8080/"
        },
        "id": "P7iy2f8n16p0",
        "outputId": "522f7d24-e1e5-40c0-bb58-ea15ddd0263d"
      },
      "execution_count": 6,
      "outputs": [
        {
          "output_type": "stream",
          "name": "stdout",
          "text": [
            "/content\n",
            "Cloning into 'efficientnet_keras_transfer_learning'...\n",
            "remote: Enumerating objects: 837, done.\u001b[K\n",
            "remote: Counting objects: 100% (359/359), done.\u001b[K\n",
            "remote: Compressing objects: 100% (124/124), done.\u001b[K\n",
            "remote: Total 837 (delta 255), reused 328 (delta 235), pack-reused 478\u001b[K\n",
            "Receiving objects: 100% (837/837), 13.82 MiB | 6.95 MiB/s, done.\n",
            "Resolving deltas: 100% (495/495), done.\n",
            "/content/efficientnet_keras_transfer_learning\n"
          ]
        }
      ]
    },
    {
      "cell_type": "code",
      "source": [
        "# Options: EfficientNetB0, EfficientNetB1, EfficientNetB2, EfficientNetB3\n",
        "# Higher the number, the more complex the model is.\n",
        "from efficientnet import EfficientNetB0 as Net\n",
        "from efficientnet import center_crop_and_resize, preprocess_input"
      ],
      "metadata": {
        "id": "tjZBRnfo3bN0"
      },
      "execution_count": 7,
      "outputs": []
    },
    {
      "cell_type": "code",
      "source": [
        "# loading pretrained conv base model\n",
        "# โหลดโมเดล มาโดยตัด output ของโมเดลออก เเต่ยังใช้ input อันเดิม\n",
        "# เเละโหลด weight ของโมเดล มาด้วยที่ชื่อว่า imagenet\n",
        "conv_base = Net(weights='imagenet', include_top=False, input_shape=input_shape)"
      ],
      "metadata": {
        "colab": {
          "base_uri": "https://localhost:8080/"
        },
        "id": "r8BN74_JJdfj",
        "outputId": "fe389975-ccbe-44ac-8afd-441928c072b4"
      },
      "execution_count": 8,
      "outputs": [
        {
          "output_type": "stream",
          "name": "stderr",
          "text": [
            "WARNING:tensorflow:From /usr/local/lib/python3.8/dist-packages/tensorflow/python/autograph/pyct/static_analysis/liveness.py:83: Analyzer.lamba_check (from tensorflow.python.autograph.pyct.static_analysis.liveness) is deprecated and will be removed after 2023-09-23.\n",
            "Instructions for updating:\n",
            "Lambda fuctions will be no more assumed to be used in the statement where they are used, or at least in the same block. https://github.com/tensorflow/tensorflow/issues/56089\n"
          ]
        },
        {
          "output_type": "stream",
          "name": "stdout",
          "text": [
            "Downloading data from https://github.com/qubvel/efficientnet/releases/download/v0.0.1/efficientnet-b0_imagenet_1000_notop.h5\n",
            "16717576/16717576 [==============================] - 1s 0us/step\n"
          ]
        }
      ]
    },
    {
      "cell_type": "markdown",
      "source": [
        "#load model\n"
      ],
      "metadata": {
        "id": "PdNWyD-QYkzK"
      }
    },
    {
      "cell_type": "code",
      "source": [
        "import sys\n",
        "sys.path.append('/content/drive/MyDrive/cut_panoramic/Model/3Re_All_1G_1e-4_16_0.2_250.h5')\n",
        "\n",
        "from efficientnet.layers import Swish, DropConnect\n",
        "from efficientnet.model import ConvKernalInitializer\n",
        "from tensorflow.keras.utils import get_custom_objects\n",
        "\n",
        "get_custom_objects().update({\n",
        "    'ConvKernalInitializer': ConvKernalInitializer,\n",
        "    'Swish': Swish,\n",
        "    'DropConnect':DropConnect\n",
        "})"
      ],
      "metadata": {
        "id": "_gPnx2UvYf5A"
      },
      "execution_count": 9,
      "outputs": []
    },
    {
      "cell_type": "code",
      "source": [
        "#load model \n",
        "from tensorflow.keras.models import load_model\n",
        "model = load_model('/content/drive/MyDrive/cut_panoramic/Model/3Re_All_1G_1e-4_16_0.2_250.h5')\n",
        "height = width = model.input_shape[1]"
      ],
      "metadata": {
        "id": "Nu93WzFUYm9e"
      },
      "execution_count": 10,
      "outputs": []
    },
    {
      "cell_type": "code",
      "source": [
        "model.summary()"
      ],
      "metadata": {
        "id": "gp5EbyyXYvc6",
        "colab": {
          "base_uri": "https://localhost:8080/"
        },
        "outputId": "b8a3a09b-d3a9-41fd-c439-f553733a3b00"
      },
      "execution_count": 11,
      "outputs": [
        {
          "output_type": "stream",
          "name": "stdout",
          "text": [
            "Model: \"sequential\"\n",
            "_________________________________________________________________\n",
            " Layer (type)                Output Shape              Param #   \n",
            "=================================================================\n",
            " efficientnet-b0 (Functional  (None, 5, 5, 1280)       4049564   \n",
            " )                                                               \n",
            "                                                                 \n",
            " gap (GlobalMaxPooling2D)    (None, 1280)              0         \n",
            "                                                                 \n",
            " dropout_out (Dropout)       (None, 1280)              0         \n",
            "                                                                 \n",
            " fc_out (Dense)              (None, 19)                24339     \n",
            "                                                                 \n",
            " dense (Dense)               (None, 1)                 20        \n",
            "                                                                 \n",
            "=================================================================\n",
            "Total params: 4,073,923\n",
            "Trainable params: 24,359\n",
            "Non-trainable params: 4,049,564\n",
            "_________________________________________________________________\n"
          ]
        }
      ]
    },
    {
      "cell_type": "code",
      "source": [
        "df = pd.read_csv (r'/content/drive/MyDrive/cut_panoramic/Data/All_Re.csv')\n",
        "df"
      ],
      "metadata": {
        "id": "q1Dc131_Y3uA",
        "colab": {
          "base_uri": "https://localhost:8080/",
          "height": 661
        },
        "outputId": "62cf4b36-7939-4f9a-e0ae-cdf38b0c4153"
      },
      "execution_count": 12,
      "outputs": [
        {
          "output_type": "execute_result",
          "data": {
            "text/plain": [
              "      Fig_Age  Fig_Person_Sex  Age(year) Class  Class_Re       Filename  \\\n",
              "0           1               1          7  Y07F         1         V1.jpg   \n",
              "1           2               1          7  Y07F         1    Flip_V1.jpg   \n",
              "2           3               2          7  Y07F         1         V2.jpg   \n",
              "3           4               2          7  Y07F         1    Flip_V2.jpg   \n",
              "4           5               3          7  Y07F         1         V3.jpg   \n",
              "...       ...             ...        ...   ...       ...            ...   \n",
              "4745      121              77         25  Y25M        19  Flip_J463.jpg   \n",
              "4746      122              78         25  Y25M        19       J464.jpg   \n",
              "4747      123              78         25  Y25M        19  Flip_J464.jpg   \n",
              "4748      124              79         25  Y25M        19       J465.jpg   \n",
              "4749      125              79         25  Y25M        19  Flip_J465.jpg   \n",
              "\n",
              "                                          Path_filename     Sex Floder  \n",
              "0     /content/drive/My Drive/TVT_Gender/train/Femal...  Female   Both  \n",
              "1     /content/drive/My Drive/TVT_Gender/train/Femal...  Female   Both  \n",
              "2     /content/drive/My Drive/TVT_Gender/train/Femal...  Female   Both  \n",
              "3     /content/drive/My Drive/TVT_Gender/train/Femal...  Female   Both  \n",
              "4     /content/drive/My Drive/TVT_Gender/train/Femal...  Female   Both  \n",
              "...                                                 ...     ...    ...  \n",
              "4745  /content/drive/My Drive/TVT_Gender/test/Male/F...    Male   Both  \n",
              "4746  /content/drive/My Drive/TVT_Gender/test/Male/J...    Male   Both  \n",
              "4747  /content/drive/My Drive/TVT_Gender/test/Male/F...    Male   Both  \n",
              "4748  /content/drive/My Drive/TVT_Gender/test/Male/J...    Male   Both  \n",
              "4749  /content/drive/My Drive/TVT_Gender/test/Male/F...    Male   Both  \n",
              "\n",
              "[4750 rows x 9 columns]"
            ],
            "text/html": [
              "\n",
              "  <div id=\"df-efa70b39-9240-426b-a52b-f8ec1e302b29\">\n",
              "    <div class=\"colab-df-container\">\n",
              "      <div>\n",
              "<style scoped>\n",
              "    .dataframe tbody tr th:only-of-type {\n",
              "        vertical-align: middle;\n",
              "    }\n",
              "\n",
              "    .dataframe tbody tr th {\n",
              "        vertical-align: top;\n",
              "    }\n",
              "\n",
              "    .dataframe thead th {\n",
              "        text-align: right;\n",
              "    }\n",
              "</style>\n",
              "<table border=\"1\" class=\"dataframe\">\n",
              "  <thead>\n",
              "    <tr style=\"text-align: right;\">\n",
              "      <th></th>\n",
              "      <th>Fig_Age</th>\n",
              "      <th>Fig_Person_Sex</th>\n",
              "      <th>Age(year)</th>\n",
              "      <th>Class</th>\n",
              "      <th>Class_Re</th>\n",
              "      <th>Filename</th>\n",
              "      <th>Path_filename</th>\n",
              "      <th>Sex</th>\n",
              "      <th>Floder</th>\n",
              "    </tr>\n",
              "  </thead>\n",
              "  <tbody>\n",
              "    <tr>\n",
              "      <th>0</th>\n",
              "      <td>1</td>\n",
              "      <td>1</td>\n",
              "      <td>7</td>\n",
              "      <td>Y07F</td>\n",
              "      <td>1</td>\n",
              "      <td>V1.jpg</td>\n",
              "      <td>/content/drive/My Drive/TVT_Gender/train/Femal...</td>\n",
              "      <td>Female</td>\n",
              "      <td>Both</td>\n",
              "    </tr>\n",
              "    <tr>\n",
              "      <th>1</th>\n",
              "      <td>2</td>\n",
              "      <td>1</td>\n",
              "      <td>7</td>\n",
              "      <td>Y07F</td>\n",
              "      <td>1</td>\n",
              "      <td>Flip_V1.jpg</td>\n",
              "      <td>/content/drive/My Drive/TVT_Gender/train/Femal...</td>\n",
              "      <td>Female</td>\n",
              "      <td>Both</td>\n",
              "    </tr>\n",
              "    <tr>\n",
              "      <th>2</th>\n",
              "      <td>3</td>\n",
              "      <td>2</td>\n",
              "      <td>7</td>\n",
              "      <td>Y07F</td>\n",
              "      <td>1</td>\n",
              "      <td>V2.jpg</td>\n",
              "      <td>/content/drive/My Drive/TVT_Gender/train/Femal...</td>\n",
              "      <td>Female</td>\n",
              "      <td>Both</td>\n",
              "    </tr>\n",
              "    <tr>\n",
              "      <th>3</th>\n",
              "      <td>4</td>\n",
              "      <td>2</td>\n",
              "      <td>7</td>\n",
              "      <td>Y07F</td>\n",
              "      <td>1</td>\n",
              "      <td>Flip_V2.jpg</td>\n",
              "      <td>/content/drive/My Drive/TVT_Gender/train/Femal...</td>\n",
              "      <td>Female</td>\n",
              "      <td>Both</td>\n",
              "    </tr>\n",
              "    <tr>\n",
              "      <th>4</th>\n",
              "      <td>5</td>\n",
              "      <td>3</td>\n",
              "      <td>7</td>\n",
              "      <td>Y07F</td>\n",
              "      <td>1</td>\n",
              "      <td>V3.jpg</td>\n",
              "      <td>/content/drive/My Drive/TVT_Gender/train/Femal...</td>\n",
              "      <td>Female</td>\n",
              "      <td>Both</td>\n",
              "    </tr>\n",
              "    <tr>\n",
              "      <th>...</th>\n",
              "      <td>...</td>\n",
              "      <td>...</td>\n",
              "      <td>...</td>\n",
              "      <td>...</td>\n",
              "      <td>...</td>\n",
              "      <td>...</td>\n",
              "      <td>...</td>\n",
              "      <td>...</td>\n",
              "      <td>...</td>\n",
              "    </tr>\n",
              "    <tr>\n",
              "      <th>4745</th>\n",
              "      <td>121</td>\n",
              "      <td>77</td>\n",
              "      <td>25</td>\n",
              "      <td>Y25M</td>\n",
              "      <td>19</td>\n",
              "      <td>Flip_J463.jpg</td>\n",
              "      <td>/content/drive/My Drive/TVT_Gender/test/Male/F...</td>\n",
              "      <td>Male</td>\n",
              "      <td>Both</td>\n",
              "    </tr>\n",
              "    <tr>\n",
              "      <th>4746</th>\n",
              "      <td>122</td>\n",
              "      <td>78</td>\n",
              "      <td>25</td>\n",
              "      <td>Y25M</td>\n",
              "      <td>19</td>\n",
              "      <td>J464.jpg</td>\n",
              "      <td>/content/drive/My Drive/TVT_Gender/test/Male/J...</td>\n",
              "      <td>Male</td>\n",
              "      <td>Both</td>\n",
              "    </tr>\n",
              "    <tr>\n",
              "      <th>4747</th>\n",
              "      <td>123</td>\n",
              "      <td>78</td>\n",
              "      <td>25</td>\n",
              "      <td>Y25M</td>\n",
              "      <td>19</td>\n",
              "      <td>Flip_J464.jpg</td>\n",
              "      <td>/content/drive/My Drive/TVT_Gender/test/Male/F...</td>\n",
              "      <td>Male</td>\n",
              "      <td>Both</td>\n",
              "    </tr>\n",
              "    <tr>\n",
              "      <th>4748</th>\n",
              "      <td>124</td>\n",
              "      <td>79</td>\n",
              "      <td>25</td>\n",
              "      <td>Y25M</td>\n",
              "      <td>19</td>\n",
              "      <td>J465.jpg</td>\n",
              "      <td>/content/drive/My Drive/TVT_Gender/test/Male/J...</td>\n",
              "      <td>Male</td>\n",
              "      <td>Both</td>\n",
              "    </tr>\n",
              "    <tr>\n",
              "      <th>4749</th>\n",
              "      <td>125</td>\n",
              "      <td>79</td>\n",
              "      <td>25</td>\n",
              "      <td>Y25M</td>\n",
              "      <td>19</td>\n",
              "      <td>Flip_J465.jpg</td>\n",
              "      <td>/content/drive/My Drive/TVT_Gender/test/Male/F...</td>\n",
              "      <td>Male</td>\n",
              "      <td>Both</td>\n",
              "    </tr>\n",
              "  </tbody>\n",
              "</table>\n",
              "<p>4750 rows × 9 columns</p>\n",
              "</div>\n",
              "      <button class=\"colab-df-convert\" onclick=\"convertToInteractive('df-efa70b39-9240-426b-a52b-f8ec1e302b29')\"\n",
              "              title=\"Convert this dataframe to an interactive table.\"\n",
              "              style=\"display:none;\">\n",
              "        \n",
              "  <svg xmlns=\"http://www.w3.org/2000/svg\" height=\"24px\"viewBox=\"0 0 24 24\"\n",
              "       width=\"24px\">\n",
              "    <path d=\"M0 0h24v24H0V0z\" fill=\"none\"/>\n",
              "    <path d=\"M18.56 5.44l.94 2.06.94-2.06 2.06-.94-2.06-.94-.94-2.06-.94 2.06-2.06.94zm-11 1L8.5 8.5l.94-2.06 2.06-.94-2.06-.94L8.5 2.5l-.94 2.06-2.06.94zm10 10l.94 2.06.94-2.06 2.06-.94-2.06-.94-.94-2.06-.94 2.06-2.06.94z\"/><path d=\"M17.41 7.96l-1.37-1.37c-.4-.4-.92-.59-1.43-.59-.52 0-1.04.2-1.43.59L10.3 9.45l-7.72 7.72c-.78.78-.78 2.05 0 2.83L4 21.41c.39.39.9.59 1.41.59.51 0 1.02-.2 1.41-.59l7.78-7.78 2.81-2.81c.8-.78.8-2.07 0-2.86zM5.41 20L4 18.59l7.72-7.72 1.47 1.35L5.41 20z\"/>\n",
              "  </svg>\n",
              "      </button>\n",
              "      \n",
              "  <style>\n",
              "    .colab-df-container {\n",
              "      display:flex;\n",
              "      flex-wrap:wrap;\n",
              "      gap: 12px;\n",
              "    }\n",
              "\n",
              "    .colab-df-convert {\n",
              "      background-color: #E8F0FE;\n",
              "      border: none;\n",
              "      border-radius: 50%;\n",
              "      cursor: pointer;\n",
              "      display: none;\n",
              "      fill: #1967D2;\n",
              "      height: 32px;\n",
              "      padding: 0 0 0 0;\n",
              "      width: 32px;\n",
              "    }\n",
              "\n",
              "    .colab-df-convert:hover {\n",
              "      background-color: #E2EBFA;\n",
              "      box-shadow: 0px 1px 2px rgba(60, 64, 67, 0.3), 0px 1px 3px 1px rgba(60, 64, 67, 0.15);\n",
              "      fill: #174EA6;\n",
              "    }\n",
              "\n",
              "    [theme=dark] .colab-df-convert {\n",
              "      background-color: #3B4455;\n",
              "      fill: #D2E3FC;\n",
              "    }\n",
              "\n",
              "    [theme=dark] .colab-df-convert:hover {\n",
              "      background-color: #434B5C;\n",
              "      box-shadow: 0px 1px 3px 1px rgba(0, 0, 0, 0.15);\n",
              "      filter: drop-shadow(0px 1px 2px rgba(0, 0, 0, 0.3));\n",
              "      fill: #FFFFFF;\n",
              "    }\n",
              "  </style>\n",
              "\n",
              "      <script>\n",
              "        const buttonEl =\n",
              "          document.querySelector('#df-efa70b39-9240-426b-a52b-f8ec1e302b29 button.colab-df-convert');\n",
              "        buttonEl.style.display =\n",
              "          google.colab.kernel.accessAllowed ? 'block' : 'none';\n",
              "\n",
              "        async function convertToInteractive(key) {\n",
              "          const element = document.querySelector('#df-efa70b39-9240-426b-a52b-f8ec1e302b29');\n",
              "          const dataTable =\n",
              "            await google.colab.kernel.invokeFunction('convertToInteractive',\n",
              "                                                     [key], {});\n",
              "          if (!dataTable) return;\n",
              "\n",
              "          const docLinkHtml = 'Like what you see? Visit the ' +\n",
              "            '<a target=\"_blank\" href=https://colab.research.google.com/notebooks/data_table.ipynb>data table notebook</a>'\n",
              "            + ' to learn more about interactive tables.';\n",
              "          element.innerHTML = '';\n",
              "          dataTable['output_type'] = 'display_data';\n",
              "          await google.colab.output.renderOutput(dataTable, element);\n",
              "          const docLink = document.createElement('div');\n",
              "          docLink.innerHTML = docLinkHtml;\n",
              "          element.appendChild(docLink);\n",
              "        }\n",
              "      </script>\n",
              "    </div>\n",
              "  </div>\n",
              "  "
            ]
          },
          "metadata": {},
          "execution_count": 12
        }
      ]
    },
    {
      "cell_type": "code",
      "source": [
        "train = df[df['Fig_Age'].between(1,75)]\n",
        "val = df[df['Fig_Age'].between(76,100)]"
      ],
      "metadata": {
        "id": "Z1zBw01Gl8Ac"
      },
      "execution_count": 13,
      "outputs": []
    },
    {
      "cell_type": "code",
      "source": [
        "DATA_PATH = \"/content/drive/My Drive/TVT_Gender\"\n",
        "os.chdir(DATA_PATH)\n",
        "train_dir = os.path.join(DATA_PATH, 'train')\n",
        "print(train_dir)\n",
        "validation_dir = os.path.join(DATA_PATH, 'validation')\n",
        "print(validation_dir)"
      ],
      "metadata": {
        "colab": {
          "base_uri": "https://localhost:8080/"
        },
        "id": "QL0g-8iOnMC4",
        "outputId": "11c52cbb-9668-48d8-b441-f23349c97437"
      },
      "execution_count": 14,
      "outputs": [
        {
          "output_type": "stream",
          "name": "stdout",
          "text": [
            "/content/drive/My Drive/TVT_Gender/train\n",
            "/content/drive/My Drive/TVT_Gender/validation\n"
          ]
        }
      ]
    },
    {
      "cell_type": "markdown",
      "source": [
        "\n",
        "#Train"
      ],
      "metadata": {
        "id": "bWEnlTSwazL5"
      }
    },
    {
      "cell_type": "code",
      "source": [
        "# Train ด้วย ImageDataGenerator ของ Keras ซึ่งจะเพิ่มข้อมูลเสริมระหว่างการฝึกเพื่อลดโอกาสเกิด overfitting\n",
        "#overfitting เกิดจากข้อมูลที่ซับซ้อนกันเกินไป\n",
        "from tensorflow.keras.preprocessing.image import ImageDataGenerator\n",
        "\n",
        "train_datagen = ImageDataGenerator(\n",
        "      rescale=1./255, #โมเดลส่วนใหญ่ต้องใช้ RGB ในช่วง 0–1\n",
        "      rotation_range=40,\n",
        "      width_shift_range=0.2,\n",
        "      height_shift_range=0.2,\n",
        "      shear_range=0.2,\n",
        "      zoom_range=0.2,\n",
        "      horizontal_flip=True,\n",
        "      fill_mode='nearest')\n",
        "\n",
        "# Note that the validation data should not be augmented!\n",
        "test_datagen = ImageDataGenerator(rescale=1./255)"
      ],
      "metadata": {
        "id": "xGPrsn9no_pa"
      },
      "execution_count": 15,
      "outputs": []
    },
    {
      "cell_type": "code",
      "source": [
        "train_generator = train_datagen.flow_from_dataframe(\n",
        "        dataframe = train,\n",
        "        directory = train_dir,\n",
        "        x_col = 'Path_filename',\n",
        "        y_col = 'Class_Re',\n",
        "        class_mode = 'other',\n",
        "        target_size=(height, width),\n",
        "        batch_size=batch_size)\n",
        "\n",
        "validation_generator = test_datagen.flow_from_dataframe(\n",
        "        dataframe = val,\n",
        "        directory = validation_dir,\n",
        "        x_col = 'Path_filename',\n",
        "        y_col = 'Class_Re',\n",
        "        class_mode = 'other',\n",
        "        target_size=(height, width),\n",
        "        batch_size=batch_size)"
      ],
      "metadata": {
        "colab": {
          "base_uri": "https://localhost:8080/"
        },
        "id": "8nVlmAszntK_",
        "outputId": "2870c323-7ee7-4cef-b02d-89e2f427704d"
      },
      "execution_count": 16,
      "outputs": [
        {
          "output_type": "stream",
          "name": "stdout",
          "text": [
            "Found 2850 validated image filenames.\n",
            "Found 950 validated image filenames.\n"
          ]
        }
      ]
    },
    {
      "cell_type": "code",
      "source": [
        "# multiply_16\n",
        "# set 'multiply_16' and following layers trainable\n",
        "model.trainable = True\n",
        "\n",
        "set_trainable = False\n",
        "for layer in conv_base.layers:\n",
        "    if layer.name == 'multiply_16':\n",
        "        set_trainable = True\n",
        "    if set_trainable:\n",
        "        layer.trainable = True\n",
        "    else:\n",
        "        layer.trainable = False  "
      ],
      "metadata": {
        "id": "RY14olxmJj92"
      },
      "execution_count": 17,
      "outputs": []
    },
    {
      "cell_type": "code",
      "source": [
        "model.summary()"
      ],
      "metadata": {
        "colab": {
          "base_uri": "https://localhost:8080/"
        },
        "id": "zzCdn3X4Jm_E",
        "outputId": "69cb1c28-fcb6-4129-afc5-19dc7aaf386d"
      },
      "execution_count": 18,
      "outputs": [
        {
          "output_type": "stream",
          "name": "stdout",
          "text": [
            "Model: \"sequential\"\n",
            "_________________________________________________________________\n",
            " Layer (type)                Output Shape              Param #   \n",
            "=================================================================\n",
            " efficientnet-b0 (Functional  (None, 5, 5, 1280)       4049564   \n",
            " )                                                               \n",
            "                                                                 \n",
            " gap (GlobalMaxPooling2D)    (None, 1280)              0         \n",
            "                                                                 \n",
            " dropout_out (Dropout)       (None, 1280)              0         \n",
            "                                                                 \n",
            " fc_out (Dense)              (None, 19)                24339     \n",
            "                                                                 \n",
            " dense (Dense)               (None, 1)                 20        \n",
            "                                                                 \n",
            "=================================================================\n",
            "Total params: 4,073,923\n",
            "Trainable params: 4,031,907\n",
            "Non-trainable params: 42,016\n",
            "_________________________________________________________________\n"
          ]
        }
      ]
    },
    {
      "cell_type": "code",
      "source": [
        "model.compile(loss='mse',\n",
        "          optimizer=Adam(learning_rate=1e-4),\n",
        "          metrics=['mae'])\n",
        "history = model.fit_generator(\n",
        "      train_generator,\n",
        "      steps_per_epoch= NUM_TRAIN //batch_size,\n",
        "      epochs=epochs,\n",
        "      validation_data=validation_generator,\n",
        "      validation_steps= NUM_TEST //batch_size,\n",
        "      verbose=1,\n",
        "      use_multiprocessing=True,\n",
        "      workers=4)"
      ],
      "metadata": {
        "id": "N6qUmmF856ZE",
        "outputId": "705c6e29-e0ff-44f1-bfd3-2397bbbe9aee",
        "colab": {
          "base_uri": "https://localhost:8080/"
        }
      },
      "execution_count": 19,
      "outputs": [
        {
          "output_type": "stream",
          "name": "stderr",
          "text": [
            "<ipython-input-19-f59104fd3985>:4: UserWarning: `Model.fit_generator` is deprecated and will be removed in a future version. Please use `Model.fit`, which supports generators.\n",
            "  history = model.fit_generator(\n"
          ]
        },
        {
          "output_type": "stream",
          "name": "stdout",
          "text": [
            "Epoch 1/250\n",
            "178/178 [==============================] - 619s 3s/step - loss: 30.0574 - mae: 4.7425 - val_loss: 29.8570 - val_mae: 4.7236\n",
            "Epoch 2/250\n",
            "178/178 [==============================] - 54s 300ms/step - loss: 29.9892 - mae: 4.7372 - val_loss: 30.1081 - val_mae: 4.7522\n",
            "Epoch 3/250\n",
            "178/178 [==============================] - 51s 284ms/step - loss: 29.9495 - mae: 4.7312 - val_loss: 30.0678 - val_mae: 4.7416\n",
            "Epoch 4/250\n",
            "178/178 [==============================] - 50s 276ms/step - loss: 30.0125 - mae: 4.7379 - val_loss: 30.0402 - val_mae: 4.7395\n",
            "Epoch 5/250\n",
            "178/178 [==============================] - 51s 280ms/step - loss: 30.0051 - mae: 4.7376 - val_loss: 30.0986 - val_mae: 4.7470\n",
            "Epoch 6/250\n",
            "178/178 [==============================] - 51s 279ms/step - loss: 30.0065 - mae: 4.7376 - val_loss: 30.0498 - val_mae: 4.7406\n",
            "Epoch 7/250\n",
            "178/178 [==============================] - 52s 290ms/step - loss: 29.9618 - mae: 4.7331 - val_loss: 30.0096 - val_mae: 4.7385\n",
            "Epoch 8/250\n",
            "178/178 [==============================] - 51s 281ms/step - loss: 30.0362 - mae: 4.7412 - val_loss: 29.9873 - val_mae: 4.7332\n",
            "Epoch 9/250\n",
            "178/178 [==============================] - 52s 282ms/step - loss: 29.9505 - mae: 4.7324 - val_loss: 30.0616 - val_mae: 4.7397\n",
            "Epoch 10/250\n",
            "178/178 [==============================] - 51s 279ms/step - loss: 30.0024 - mae: 4.7377 - val_loss: 29.8923 - val_mae: 4.7270\n",
            "Epoch 11/250\n",
            "178/178 [==============================] - 51s 279ms/step - loss: 29.9910 - mae: 4.7364 - val_loss: 30.1283 - val_mae: 4.7493\n",
            "Epoch 12/250\n",
            "178/178 [==============================] - 51s 281ms/step - loss: 30.0307 - mae: 4.7413 - val_loss: 30.0447 - val_mae: 4.7418\n",
            "Epoch 13/250\n",
            "178/178 [==============================] - 55s 303ms/step - loss: 30.0274 - mae: 4.7409 - val_loss: 29.8983 - val_mae: 4.7248\n",
            "Epoch 14/250\n",
            "178/178 [==============================] - 51s 282ms/step - loss: 29.9941 - mae: 4.7367 - val_loss: 29.9439 - val_mae: 4.7323\n",
            "Epoch 15/250\n",
            "178/178 [==============================] - 50s 276ms/step - loss: 29.9964 - mae: 4.7388 - val_loss: 29.8602 - val_mae: 4.7228\n",
            "Epoch 16/250\n",
            "178/178 [==============================] - 52s 283ms/step - loss: 29.9305 - mae: 4.7293 - val_loss: 30.0911 - val_mae: 4.7460\n",
            "Epoch 17/250\n",
            "178/178 [==============================] - 50s 279ms/step - loss: 29.5114 - mae: 4.6861 - val_loss: 22.5013 - val_mae: 4.0174\n",
            "Epoch 18/250\n",
            "178/178 [==============================] - 53s 293ms/step - loss: 19.3812 - mae: 3.5242 - val_loss: 23.6117 - val_mae: 3.7578\n",
            "Epoch 19/250\n",
            "178/178 [==============================] - 52s 285ms/step - loss: 18.3288 - mae: 3.3773 - val_loss: 24.0081 - val_mae: 3.8030\n",
            "Epoch 20/250\n",
            "178/178 [==============================] - 51s 280ms/step - loss: 17.4860 - mae: 3.3052 - val_loss: 17.4794 - val_mae: 3.2958\n",
            "Epoch 21/250\n",
            "178/178 [==============================] - 55s 300ms/step - loss: 17.6396 - mae: 3.2988 - val_loss: 20.8892 - val_mae: 3.5974\n",
            "Epoch 22/250\n",
            "178/178 [==============================] - 53s 295ms/step - loss: 17.1779 - mae: 3.2635 - val_loss: 32.2090 - val_mae: 4.5276\n",
            "Epoch 23/250\n",
            "178/178 [==============================] - 54s 300ms/step - loss: 16.9234 - mae: 3.2405 - val_loss: 20.3256 - val_mae: 3.5603\n",
            "Epoch 24/250\n",
            "178/178 [==============================] - 51s 283ms/step - loss: 16.1116 - mae: 3.1318 - val_loss: 23.6414 - val_mae: 3.8564\n",
            "Epoch 25/250\n",
            "178/178 [==============================] - 53s 291ms/step - loss: 16.0960 - mae: 3.1264 - val_loss: 26.7953 - val_mae: 4.1051\n",
            "Epoch 26/250\n",
            "178/178 [==============================] - 52s 286ms/step - loss: 15.9905 - mae: 3.1290 - val_loss: 20.9372 - val_mae: 3.6419\n",
            "Epoch 27/250\n",
            "178/178 [==============================] - 53s 289ms/step - loss: 15.6738 - mae: 3.0844 - val_loss: 27.3895 - val_mae: 4.1905\n",
            "Epoch 28/250\n",
            "178/178 [==============================] - 52s 287ms/step - loss: 15.5290 - mae: 3.0763 - val_loss: 26.2839 - val_mae: 4.1085\n",
            "Epoch 29/250\n",
            "178/178 [==============================] - 53s 289ms/step - loss: 15.4700 - mae: 3.0702 - val_loss: 23.0103 - val_mae: 3.8647\n",
            "Epoch 30/250\n",
            "178/178 [==============================] - 55s 304ms/step - loss: 15.3063 - mae: 3.0496 - val_loss: 20.8922 - val_mae: 3.6589\n",
            "Epoch 31/250\n",
            "178/178 [==============================] - 51s 282ms/step - loss: 15.2786 - mae: 3.0572 - val_loss: 20.7897 - val_mae: 3.6453\n",
            "Epoch 32/250\n",
            "178/178 [==============================] - 51s 280ms/step - loss: 14.9492 - mae: 3.0155 - val_loss: 22.8150 - val_mae: 3.8319\n",
            "Epoch 33/250\n",
            "178/178 [==============================] - 54s 298ms/step - loss: 14.7579 - mae: 2.9912 - val_loss: 26.4953 - val_mae: 4.1850\n",
            "Epoch 34/250\n",
            "178/178 [==============================] - 50s 277ms/step - loss: 14.7129 - mae: 2.9755 - val_loss: 24.2613 - val_mae: 3.9972\n",
            "Epoch 35/250\n",
            "178/178 [==============================] - 51s 283ms/step - loss: 14.5528 - mae: 2.9678 - val_loss: 18.4792 - val_mae: 3.4423\n",
            "Epoch 36/250\n",
            "178/178 [==============================] - 52s 290ms/step - loss: 14.3808 - mae: 2.9464 - val_loss: 16.0880 - val_mae: 3.1751\n",
            "Epoch 37/250\n",
            "178/178 [==============================] - 50s 274ms/step - loss: 14.2494 - mae: 2.9259 - val_loss: 21.0429 - val_mae: 3.7100\n",
            "Epoch 38/250\n",
            "178/178 [==============================] - 50s 275ms/step - loss: 14.1047 - mae: 2.9021 - val_loss: 25.1568 - val_mae: 4.0728\n",
            "Epoch 39/250\n",
            "178/178 [==============================] - 52s 286ms/step - loss: 13.9259 - mae: 2.8745 - val_loss: 20.5149 - val_mae: 3.6769\n",
            "Epoch 40/250\n",
            "178/178 [==============================] - 49s 273ms/step - loss: 13.9279 - mae: 2.8703 - val_loss: 18.8852 - val_mae: 3.4875\n",
            "Epoch 41/250\n",
            "178/178 [==============================] - 51s 276ms/step - loss: 13.6494 - mae: 2.8319 - val_loss: 16.5828 - val_mae: 3.2519\n",
            "Epoch 42/250\n",
            "178/178 [==============================] - 50s 276ms/step - loss: 13.4847 - mae: 2.8061 - val_loss: 23.8319 - val_mae: 3.9587\n",
            "Epoch 43/250\n",
            "178/178 [==============================] - 49s 273ms/step - loss: 13.3075 - mae: 2.7794 - val_loss: 16.6106 - val_mae: 3.2462\n",
            "Epoch 44/250\n",
            "178/178 [==============================] - 49s 273ms/step - loss: 13.1933 - mae: 2.7634 - val_loss: 19.6404 - val_mae: 3.5765\n",
            "Epoch 45/250\n",
            "178/178 [==============================] - 51s 276ms/step - loss: 13.1033 - mae: 2.7547 - val_loss: 14.5623 - val_mae: 3.0167\n",
            "Epoch 46/250\n",
            "178/178 [==============================] - 52s 286ms/step - loss: 12.9027 - mae: 2.7376 - val_loss: 14.5113 - val_mae: 2.9907\n",
            "Epoch 47/250\n",
            "178/178 [==============================] - 50s 278ms/step - loss: 12.7273 - mae: 2.7060 - val_loss: 19.3687 - val_mae: 3.5586\n",
            "Epoch 48/250\n",
            "178/178 [==============================] - 51s 280ms/step - loss: 12.8113 - mae: 2.7329 - val_loss: 14.6994 - val_mae: 3.0161\n",
            "Epoch 49/250\n",
            "178/178 [==============================] - 50s 277ms/step - loss: 12.5531 - mae: 2.6897 - val_loss: 17.4739 - val_mae: 3.3158\n",
            "Epoch 50/250\n",
            "178/178 [==============================] - 52s 283ms/step - loss: 12.4269 - mae: 2.6786 - val_loss: 14.5879 - val_mae: 3.0075\n",
            "Epoch 51/250\n",
            "178/178 [==============================] - 52s 284ms/step - loss: 12.1920 - mae: 2.6319 - val_loss: 18.4054 - val_mae: 3.4256\n",
            "Epoch 52/250\n",
            "178/178 [==============================] - 53s 287ms/step - loss: 12.1352 - mae: 2.6221 - val_loss: 15.4673 - val_mae: 3.1180\n",
            "Epoch 53/250\n",
            "178/178 [==============================] - 53s 287ms/step - loss: 11.9979 - mae: 2.6119 - val_loss: 20.1689 - val_mae: 3.6003\n",
            "Epoch 54/250\n",
            "178/178 [==============================] - 52s 287ms/step - loss: 11.9078 - mae: 2.6041 - val_loss: 13.1599 - val_mae: 2.8402\n",
            "Epoch 55/250\n",
            "178/178 [==============================] - 51s 284ms/step - loss: 11.7333 - mae: 2.5819 - val_loss: 18.7919 - val_mae: 3.5013\n",
            "Epoch 56/250\n",
            "178/178 [==============================] - 51s 281ms/step - loss: 11.6828 - mae: 2.5851 - val_loss: 16.7985 - val_mae: 3.3045\n",
            "Epoch 57/250\n",
            "178/178 [==============================] - 51s 281ms/step - loss: 11.5281 - mae: 2.5589 - val_loss: 17.2456 - val_mae: 3.3315\n",
            "Epoch 58/250\n",
            "178/178 [==============================] - 51s 283ms/step - loss: 11.4291 - mae: 2.5520 - val_loss: 17.3465 - val_mae: 3.3885\n",
            "Epoch 59/250\n",
            "178/178 [==============================] - 52s 287ms/step - loss: 11.2688 - mae: 2.5339 - val_loss: 13.1490 - val_mae: 2.8784\n",
            "Epoch 60/250\n",
            "178/178 [==============================] - 51s 283ms/step - loss: 11.2378 - mae: 2.5251 - val_loss: 14.1219 - val_mae: 3.0141\n",
            "Epoch 61/250\n",
            "178/178 [==============================] - 51s 280ms/step - loss: 11.1177 - mae: 2.5146 - val_loss: 13.5056 - val_mae: 2.9341\n",
            "Epoch 62/250\n",
            "178/178 [==============================] - 51s 279ms/step - loss: 10.9589 - mae: 2.4873 - val_loss: 25.0532 - val_mae: 4.0792\n",
            "Epoch 63/250\n",
            "178/178 [==============================] - 51s 277ms/step - loss: 10.8789 - mae: 2.4848 - val_loss: 16.6395 - val_mae: 3.2750\n",
            "Epoch 64/250\n",
            "178/178 [==============================] - 51s 279ms/step - loss: 10.7516 - mae: 2.4641 - val_loss: 14.1111 - val_mae: 3.0185\n",
            "Epoch 65/250\n",
            "178/178 [==============================] - 50s 275ms/step - loss: 10.6997 - mae: 2.4629 - val_loss: 14.5278 - val_mae: 3.0357\n",
            "Epoch 66/250\n",
            "178/178 [==============================] - 50s 276ms/step - loss: 10.5079 - mae: 2.4361 - val_loss: 13.8357 - val_mae: 2.9835\n",
            "Epoch 67/250\n",
            "178/178 [==============================] - 50s 277ms/step - loss: 10.4051 - mae: 2.4266 - val_loss: 14.9628 - val_mae: 3.1023\n",
            "Epoch 68/250\n",
            "178/178 [==============================] - 49s 272ms/step - loss: 10.2785 - mae: 2.4052 - val_loss: 16.1920 - val_mae: 3.2111\n",
            "Epoch 69/250\n",
            "178/178 [==============================] - 50s 278ms/step - loss: 10.3980 - mae: 2.4354 - val_loss: 11.4793 - val_mae: 2.6623\n",
            "Epoch 70/250\n",
            "178/178 [==============================] - 51s 281ms/step - loss: 10.3776 - mae: 2.4407 - val_loss: 16.6864 - val_mae: 3.2687\n",
            "Epoch 71/250\n",
            "178/178 [==============================] - 50s 274ms/step - loss: 10.0943 - mae: 2.3952 - val_loss: 14.4398 - val_mae: 3.0415\n",
            "Epoch 72/250\n",
            "178/178 [==============================] - 50s 275ms/step - loss: 10.0016 - mae: 2.3804 - val_loss: 11.5862 - val_mae: 2.6795\n",
            "Epoch 73/250\n",
            "178/178 [==============================] - 50s 279ms/step - loss: 9.9408 - mae: 2.3697 - val_loss: 12.7346 - val_mae: 2.8362\n",
            "Epoch 74/250\n",
            "178/178 [==============================] - 49s 273ms/step - loss: 9.8787 - mae: 2.3638 - val_loss: 12.2644 - val_mae: 2.7939\n",
            "Epoch 75/250\n",
            "178/178 [==============================] - 50s 275ms/step - loss: 9.6890 - mae: 2.3336 - val_loss: 12.6851 - val_mae: 2.8349\n",
            "Epoch 76/250\n",
            "178/178 [==============================] - 50s 276ms/step - loss: 9.5824 - mae: 2.3087 - val_loss: 11.3131 - val_mae: 2.6781\n",
            "Epoch 77/250\n",
            "178/178 [==============================] - 50s 274ms/step - loss: 9.5455 - mae: 2.3184 - val_loss: 15.8022 - val_mae: 3.1865\n",
            "Epoch 78/250\n",
            "178/178 [==============================] - 51s 283ms/step - loss: 9.3732 - mae: 2.2859 - val_loss: 13.7604 - val_mae: 2.9756\n",
            "Epoch 79/250\n",
            "178/178 [==============================] - 50s 274ms/step - loss: 9.4961 - mae: 2.3189 - val_loss: 12.4667 - val_mae: 2.7992\n",
            "Epoch 80/250\n",
            "178/178 [==============================] - 53s 289ms/step - loss: 9.2350 - mae: 2.2716 - val_loss: 11.6138 - val_mae: 2.6684\n",
            "Epoch 81/250\n",
            "178/178 [==============================] - 50s 279ms/step - loss: 9.1942 - mae: 2.2713 - val_loss: 11.1716 - val_mae: 2.6499\n",
            "Epoch 82/250\n",
            "178/178 [==============================] - 50s 277ms/step - loss: 9.0198 - mae: 2.2399 - val_loss: 12.5467 - val_mae: 2.8311\n",
            "Epoch 83/250\n",
            "178/178 [==============================] - 50s 279ms/step - loss: 8.9585 - mae: 2.2303 - val_loss: 13.0366 - val_mae: 2.8910\n",
            "Epoch 84/250\n",
            "178/178 [==============================] - 51s 283ms/step - loss: 8.9111 - mae: 2.2246 - val_loss: 12.7712 - val_mae: 2.8387\n",
            "Epoch 85/250\n",
            "178/178 [==============================] - 52s 283ms/step - loss: 8.7613 - mae: 2.2001 - val_loss: 10.8866 - val_mae: 2.6355\n",
            "Epoch 86/250\n",
            "178/178 [==============================] - 51s 280ms/step - loss: 8.7031 - mae: 2.2042 - val_loss: 14.6427 - val_mae: 3.0536\n",
            "Epoch 87/250\n",
            "178/178 [==============================] - 51s 280ms/step - loss: 8.6371 - mae: 2.1946 - val_loss: 11.9165 - val_mae: 2.7379\n",
            "Epoch 88/250\n",
            "178/178 [==============================] - 51s 279ms/step - loss: 8.5386 - mae: 2.1905 - val_loss: 10.8062 - val_mae: 2.5815\n",
            "Epoch 89/250\n",
            "178/178 [==============================] - 52s 285ms/step - loss: 8.3948 - mae: 2.1618 - val_loss: 11.1624 - val_mae: 2.6439\n",
            "Epoch 90/250\n",
            "178/178 [==============================] - 50s 277ms/step - loss: 8.3599 - mae: 2.1605 - val_loss: 10.9934 - val_mae: 2.5980\n",
            "Epoch 91/250\n",
            "178/178 [==============================] - 51s 280ms/step - loss: 8.5380 - mae: 2.1891 - val_loss: 12.6125 - val_mae: 2.8224\n",
            "Epoch 92/250\n",
            "178/178 [==============================] - 51s 281ms/step - loss: 8.4231 - mae: 2.1868 - val_loss: 12.1872 - val_mae: 2.7893\n",
            "Epoch 93/250\n",
            "178/178 [==============================] - 50s 277ms/step - loss: 8.1970 - mae: 2.1506 - val_loss: 12.2518 - val_mae: 2.7779\n",
            "Epoch 94/250\n",
            "178/178 [==============================] - 52s 281ms/step - loss: 8.1610 - mae: 2.1534 - val_loss: 14.6675 - val_mae: 3.0618\n",
            "Epoch 95/250\n",
            "178/178 [==============================] - 51s 281ms/step - loss: 7.9470 - mae: 2.1094 - val_loss: 12.9866 - val_mae: 2.8770\n",
            "Epoch 96/250\n",
            "178/178 [==============================] - 51s 282ms/step - loss: 7.8984 - mae: 2.1086 - val_loss: 10.8704 - val_mae: 2.6265\n",
            "Epoch 97/250\n",
            "178/178 [==============================] - 51s 280ms/step - loss: 7.8647 - mae: 2.1036 - val_loss: 10.9352 - val_mae: 2.6355\n",
            "Epoch 98/250\n",
            "178/178 [==============================] - 49s 270ms/step - loss: 7.8531 - mae: 2.1041 - val_loss: 11.2764 - val_mae: 2.6747\n",
            "Epoch 99/250\n",
            "178/178 [==============================] - 52s 284ms/step - loss: 7.6660 - mae: 2.0694 - val_loss: 11.1402 - val_mae: 2.6688\n",
            "Epoch 100/250\n",
            "178/178 [==============================] - 51s 279ms/step - loss: 7.6473 - mae: 2.0712 - val_loss: 12.6969 - val_mae: 2.8566\n",
            "Epoch 101/250\n",
            "178/178 [==============================] - 51s 281ms/step - loss: 7.5904 - mae: 2.0687 - val_loss: 10.2027 - val_mae: 2.5332\n",
            "Epoch 102/250\n",
            "178/178 [==============================] - 47s 261ms/step - loss: 7.4680 - mae: 2.0474 - val_loss: 12.9678 - val_mae: 2.8685\n",
            "Epoch 103/250\n",
            "178/178 [==============================] - 52s 283ms/step - loss: 7.4283 - mae: 2.0466 - val_loss: 18.0679 - val_mae: 3.3707\n",
            "Epoch 104/250\n",
            "178/178 [==============================] - 51s 281ms/step - loss: 7.3513 - mae: 2.0345 - val_loss: 10.6929 - val_mae: 2.5980\n",
            "Epoch 105/250\n",
            "178/178 [==============================] - 51s 281ms/step - loss: 7.2742 - mae: 2.0228 - val_loss: 10.8357 - val_mae: 2.6493\n",
            "Epoch 106/250\n",
            "178/178 [==============================] - 52s 280ms/step - loss: 7.1903 - mae: 2.0062 - val_loss: 11.0224 - val_mae: 2.6511\n",
            "Epoch 107/250\n",
            "178/178 [==============================] - 52s 282ms/step - loss: 7.1434 - mae: 2.0000 - val_loss: 10.4237 - val_mae: 2.5764\n",
            "Epoch 108/250\n",
            "178/178 [==============================] - 51s 281ms/step - loss: 7.0171 - mae: 1.9792 - val_loss: 10.0402 - val_mae: 2.5344\n",
            "Epoch 109/250\n",
            "178/178 [==============================] - 51s 280ms/step - loss: 7.0015 - mae: 1.9781 - val_loss: 10.5710 - val_mae: 2.5765\n",
            "Epoch 110/250\n",
            "178/178 [==============================] - 50s 277ms/step - loss: 6.9711 - mae: 1.9768 - val_loss: 11.5779 - val_mae: 2.7050\n",
            "Epoch 111/250\n",
            "178/178 [==============================] - 51s 280ms/step - loss: 6.8665 - mae: 1.9619 - val_loss: 9.3040 - val_mae: 2.4133\n",
            "Epoch 112/250\n",
            "178/178 [==============================] - 51s 280ms/step - loss: 6.7711 - mae: 1.9473 - val_loss: 10.4149 - val_mae: 2.5564\n",
            "Epoch 113/250\n",
            "178/178 [==============================] - 50s 279ms/step - loss: 6.7398 - mae: 1.9345 - val_loss: 11.0143 - val_mae: 2.6352\n",
            "Epoch 114/250\n",
            "178/178 [==============================] - 52s 282ms/step - loss: 6.8765 - mae: 1.9556 - val_loss: 9.2395 - val_mae: 2.4150\n",
            "Epoch 115/250\n",
            "178/178 [==============================] - 51s 281ms/step - loss: 6.7111 - mae: 1.9552 - val_loss: 12.1542 - val_mae: 2.7366\n",
            "Epoch 116/250\n",
            "178/178 [==============================] - 51s 281ms/step - loss: 6.6485 - mae: 1.9361 - val_loss: 10.2389 - val_mae: 2.5477\n",
            "Epoch 117/250\n",
            "178/178 [==============================] - 50s 278ms/step - loss: 6.5522 - mae: 1.9126 - val_loss: 9.6143 - val_mae: 2.4644\n",
            "Epoch 118/250\n",
            "178/178 [==============================] - 50s 278ms/step - loss: 6.4739 - mae: 1.9093 - val_loss: 8.6089 - val_mae: 2.3119\n",
            "Epoch 119/250\n",
            "178/178 [==============================] - 50s 278ms/step - loss: 6.3607 - mae: 1.8825 - val_loss: 9.1735 - val_mae: 2.3826\n",
            "Epoch 120/250\n",
            "178/178 [==============================] - 52s 285ms/step - loss: 6.2817 - mae: 1.8635 - val_loss: 10.3116 - val_mae: 2.5434\n",
            "Epoch 121/250\n",
            "178/178 [==============================] - 48s 260ms/step - loss: 6.3180 - mae: 1.8791 - val_loss: 11.2733 - val_mae: 2.6725\n",
            "Epoch 122/250\n",
            "178/178 [==============================] - 51s 282ms/step - loss: 6.1317 - mae: 1.8401 - val_loss: 10.3802 - val_mae: 2.5604\n",
            "Epoch 123/250\n",
            "178/178 [==============================] - 46s 252ms/step - loss: 6.2027 - mae: 1.8602 - val_loss: 10.7419 - val_mae: 2.5723\n",
            "Epoch 124/250\n",
            "178/178 [==============================] - 52s 285ms/step - loss: 6.0730 - mae: 1.8491 - val_loss: 9.9487 - val_mae: 2.5176\n",
            "Epoch 125/250\n",
            "178/178 [==============================] - 50s 278ms/step - loss: 5.9811 - mae: 1.8308 - val_loss: 9.0228 - val_mae: 2.3945\n",
            "Epoch 126/250\n",
            "178/178 [==============================] - 51s 282ms/step - loss: 5.9103 - mae: 1.8174 - val_loss: 8.8096 - val_mae: 2.3670\n",
            "Epoch 127/250\n",
            "178/178 [==============================] - 51s 279ms/step - loss: 5.9132 - mae: 1.8303 - val_loss: 9.6930 - val_mae: 2.4908\n",
            "Epoch 128/250\n",
            "178/178 [==============================] - 51s 280ms/step - loss: 6.2993 - mae: 1.9161 - val_loss: 13.0591 - val_mae: 2.8242\n",
            "Epoch 129/250\n",
            "178/178 [==============================] - 50s 278ms/step - loss: 5.9278 - mae: 1.8419 - val_loss: 10.2925 - val_mae: 2.5024\n",
            "Epoch 130/250\n",
            "178/178 [==============================] - 51s 281ms/step - loss: 5.7876 - mae: 1.8082 - val_loss: 12.8656 - val_mae: 2.8196\n",
            "Epoch 131/250\n",
            "178/178 [==============================] - 51s 283ms/step - loss: 5.7320 - mae: 1.8036 - val_loss: 10.4638 - val_mae: 2.5350\n",
            "Epoch 132/250\n",
            "178/178 [==============================] - 53s 288ms/step - loss: 5.6106 - mae: 1.7747 - val_loss: 9.0363 - val_mae: 2.3487\n",
            "Epoch 133/250\n",
            "178/178 [==============================] - 51s 281ms/step - loss: 5.5988 - mae: 1.7721 - val_loss: 10.7014 - val_mae: 2.5669\n",
            "Epoch 134/250\n",
            "178/178 [==============================] - 51s 284ms/step - loss: 5.5740 - mae: 1.7764 - val_loss: 12.0027 - val_mae: 2.7305\n",
            "Epoch 135/250\n",
            "178/178 [==============================] - 51s 285ms/step - loss: 5.4734 - mae: 1.7509 - val_loss: 8.9750 - val_mae: 2.3915\n",
            "Epoch 136/250\n",
            "178/178 [==============================] - 51s 283ms/step - loss: 5.5166 - mae: 1.7718 - val_loss: 8.6450 - val_mae: 2.3089\n",
            "Epoch 137/250\n",
            "178/178 [==============================] - 52s 287ms/step - loss: 5.3542 - mae: 1.7418 - val_loss: 7.3367 - val_mae: 2.1289\n",
            "Epoch 138/250\n",
            "178/178 [==============================] - 52s 287ms/step - loss: 5.3409 - mae: 1.7352 - val_loss: 8.8479 - val_mae: 2.3340\n",
            "Epoch 139/250\n",
            "178/178 [==============================] - 52s 290ms/step - loss: 5.2571 - mae: 1.7178 - val_loss: 8.5783 - val_mae: 2.2809\n",
            "Epoch 140/250\n",
            "178/178 [==============================] - 51s 281ms/step - loss: 5.2832 - mae: 1.7295 - val_loss: 10.9962 - val_mae: 2.5925\n",
            "Epoch 141/250\n",
            "178/178 [==============================] - 52s 285ms/step - loss: 5.2058 - mae: 1.7112 - val_loss: 7.9795 - val_mae: 2.2240\n",
            "Epoch 142/250\n",
            "178/178 [==============================] - 52s 286ms/step - loss: 5.2032 - mae: 1.7208 - val_loss: 9.2601 - val_mae: 2.3628\n",
            "Epoch 143/250\n",
            "178/178 [==============================] - 54s 295ms/step - loss: 5.1128 - mae: 1.6963 - val_loss: 8.5887 - val_mae: 2.2964\n",
            "Epoch 144/250\n",
            "178/178 [==============================] - 52s 286ms/step - loss: 5.0311 - mae: 1.6849 - val_loss: 6.9964 - val_mae: 2.1022\n",
            "Epoch 145/250\n",
            "178/178 [==============================] - 48s 266ms/step - loss: 5.1082 - mae: 1.6980 - val_loss: 9.5126 - val_mae: 2.3978\n",
            "Epoch 146/250\n",
            "178/178 [==============================] - 52s 287ms/step - loss: 4.9920 - mae: 1.6856 - val_loss: 7.9984 - val_mae: 2.2421\n",
            "Epoch 147/250\n",
            "178/178 [==============================] - 52s 285ms/step - loss: 5.0143 - mae: 1.6821 - val_loss: 8.8475 - val_mae: 2.3551\n",
            "Epoch 148/250\n",
            "178/178 [==============================] - 52s 287ms/step - loss: 4.8869 - mae: 1.6594 - val_loss: 8.9230 - val_mae: 2.3607\n",
            "Epoch 149/250\n",
            "178/178 [==============================] - 52s 286ms/step - loss: 5.0025 - mae: 1.6897 - val_loss: 14.6779 - val_mae: 2.9699\n",
            "Epoch 150/250\n",
            "178/178 [==============================] - 51s 283ms/step - loss: 4.8397 - mae: 1.6536 - val_loss: 8.1543 - val_mae: 2.2825\n",
            "Epoch 151/250\n",
            "178/178 [==============================] - 53s 289ms/step - loss: 4.7234 - mae: 1.6316 - val_loss: 9.8562 - val_mae: 2.4869\n",
            "Epoch 152/250\n",
            "178/178 [==============================] - 53s 292ms/step - loss: 4.7178 - mae: 1.6314 - val_loss: 10.3036 - val_mae: 2.5284\n",
            "Epoch 153/250\n",
            "178/178 [==============================] - 53s 291ms/step - loss: 4.7106 - mae: 1.6294 - val_loss: 8.7430 - val_mae: 2.3343\n",
            "Epoch 154/250\n",
            "178/178 [==============================] - 53s 294ms/step - loss: 4.6416 - mae: 1.6078 - val_loss: 7.2624 - val_mae: 2.0889\n",
            "Epoch 155/250\n",
            "178/178 [==============================] - 53s 293ms/step - loss: 4.8104 - mae: 1.6572 - val_loss: 6.9959 - val_mae: 2.0797\n",
            "Epoch 156/250\n",
            "178/178 [==============================] - 53s 292ms/step - loss: 4.7827 - mae: 1.6594 - val_loss: 8.9534 - val_mae: 2.3432\n",
            "Epoch 157/250\n",
            "178/178 [==============================] - 54s 297ms/step - loss: 4.5900 - mae: 1.6096 - val_loss: 7.8812 - val_mae: 2.1921\n",
            "Epoch 158/250\n",
            "178/178 [==============================] - 52s 288ms/step - loss: 4.5716 - mae: 1.6155 - val_loss: 10.3366 - val_mae: 2.4892\n",
            "Epoch 159/250\n",
            "178/178 [==============================] - 52s 288ms/step - loss: 4.4646 - mae: 1.5843 - val_loss: 9.0446 - val_mae: 2.3068\n",
            "Epoch 160/250\n",
            "178/178 [==============================] - 52s 289ms/step - loss: 4.5045 - mae: 1.5895 - val_loss: 7.8240 - val_mae: 2.1815\n",
            "Epoch 161/250\n",
            "178/178 [==============================] - 51s 284ms/step - loss: 4.3847 - mae: 1.5635 - val_loss: 8.4224 - val_mae: 2.2650\n",
            "Epoch 162/250\n",
            "178/178 [==============================] - 53s 288ms/step - loss: 4.3316 - mae: 1.5628 - val_loss: 7.4000 - val_mae: 2.1470\n",
            "Epoch 163/250\n",
            "178/178 [==============================] - 52s 287ms/step - loss: 4.2303 - mae: 1.5331 - val_loss: 8.6431 - val_mae: 2.2724\n",
            "Epoch 164/250\n",
            "178/178 [==============================] - 52s 290ms/step - loss: 4.2243 - mae: 1.5416 - val_loss: 8.2041 - val_mae: 2.2296\n",
            "Epoch 165/250\n",
            "178/178 [==============================] - 52s 286ms/step - loss: 4.2004 - mae: 1.5355 - val_loss: 7.9793 - val_mae: 2.1896\n",
            "Epoch 166/250\n",
            "178/178 [==============================] - 52s 287ms/step - loss: 4.1767 - mae: 1.5283 - val_loss: 7.2037 - val_mae: 2.1045\n",
            "Epoch 167/250\n",
            "178/178 [==============================] - 53s 293ms/step - loss: 4.1522 - mae: 1.5325 - val_loss: 9.7907 - val_mae: 2.4592\n",
            "Epoch 168/250\n",
            "178/178 [==============================] - 53s 291ms/step - loss: 4.0859 - mae: 1.5128 - val_loss: 8.1146 - val_mae: 2.2126\n",
            "Epoch 169/250\n",
            "178/178 [==============================] - 53s 294ms/step - loss: 4.0650 - mae: 1.5192 - val_loss: 7.1826 - val_mae: 2.0921\n",
            "Epoch 170/250\n",
            "178/178 [==============================] - 53s 295ms/step - loss: 4.0499 - mae: 1.5169 - val_loss: 8.1368 - val_mae: 2.2111\n",
            "Epoch 171/250\n",
            "178/178 [==============================] - 52s 287ms/step - loss: 3.9764 - mae: 1.4901 - val_loss: 7.6754 - val_mae: 2.1731\n",
            "Epoch 172/250\n",
            "178/178 [==============================] - 52s 286ms/step - loss: 4.0256 - mae: 1.5159 - val_loss: 8.1914 - val_mae: 2.2286\n",
            "Epoch 173/250\n",
            "178/178 [==============================] - 52s 286ms/step - loss: 3.8812 - mae: 1.4839 - val_loss: 8.1625 - val_mae: 2.2496\n",
            "Epoch 174/250\n",
            "178/178 [==============================] - 52s 286ms/step - loss: 3.8321 - mae: 1.4740 - val_loss: 6.8442 - val_mae: 2.0579\n",
            "Epoch 175/250\n",
            "178/178 [==============================] - 52s 284ms/step - loss: 3.8891 - mae: 1.4888 - val_loss: 6.4492 - val_mae: 2.0110\n",
            "Epoch 176/250\n",
            "178/178 [==============================] - 52s 287ms/step - loss: 3.8477 - mae: 1.4790 - val_loss: 9.1529 - val_mae: 2.3683\n",
            "Epoch 177/250\n",
            "178/178 [==============================] - 53s 293ms/step - loss: 3.7958 - mae: 1.4684 - val_loss: 7.2270 - val_mae: 2.1305\n",
            "Epoch 178/250\n",
            "178/178 [==============================] - 54s 299ms/step - loss: 3.6691 - mae: 1.4339 - val_loss: 6.5262 - val_mae: 2.0292\n",
            "Epoch 179/250\n",
            "178/178 [==============================] - 53s 295ms/step - loss: 3.7912 - mae: 1.4760 - val_loss: 7.1763 - val_mae: 2.0830\n",
            "Epoch 180/250\n",
            "178/178 [==============================] - 54s 300ms/step - loss: 3.7873 - mae: 1.4679 - val_loss: 7.4897 - val_mae: 2.1328\n",
            "Epoch 181/250\n",
            "178/178 [==============================] - 53s 292ms/step - loss: 3.6331 - mae: 1.4285 - val_loss: 7.8629 - val_mae: 2.2146\n",
            "Epoch 182/250\n",
            "178/178 [==============================] - 51s 281ms/step - loss: 3.6197 - mae: 1.4337 - val_loss: 7.6798 - val_mae: 2.1999\n",
            "Epoch 183/250\n",
            "178/178 [==============================] - 51s 281ms/step - loss: 3.5347 - mae: 1.4144 - val_loss: 9.2680 - val_mae: 2.3760\n",
            "Epoch 184/250\n",
            "178/178 [==============================] - 52s 288ms/step - loss: 3.5423 - mae: 1.4165 - val_loss: 9.7595 - val_mae: 2.4304\n",
            "Epoch 185/250\n",
            "178/178 [==============================] - 53s 290ms/step - loss: 3.5430 - mae: 1.4149 - val_loss: 8.5030 - val_mae: 2.2574\n",
            "Epoch 186/250\n",
            "178/178 [==============================] - 53s 291ms/step - loss: 3.4179 - mae: 1.3854 - val_loss: 9.8474 - val_mae: 2.4210\n",
            "Epoch 187/250\n",
            "178/178 [==============================] - 51s 281ms/step - loss: 3.5687 - mae: 1.4285 - val_loss: 7.3189 - val_mae: 2.1247\n",
            "Epoch 188/250\n",
            "178/178 [==============================] - 51s 282ms/step - loss: 3.3935 - mae: 1.3898 - val_loss: 6.8812 - val_mae: 2.0724\n",
            "Epoch 189/250\n",
            "178/178 [==============================] - 51s 283ms/step - loss: 3.3760 - mae: 1.3782 - val_loss: 5.5859 - val_mae: 1.8698\n",
            "Epoch 190/250\n",
            "178/178 [==============================] - 51s 282ms/step - loss: 3.4110 - mae: 1.3942 - val_loss: 6.9267 - val_mae: 2.0702\n",
            "Epoch 191/250\n",
            "178/178 [==============================] - 51s 283ms/step - loss: 3.3203 - mae: 1.3751 - val_loss: 6.8823 - val_mae: 2.0729\n",
            "Epoch 192/250\n",
            "178/178 [==============================] - 51s 284ms/step - loss: 3.4372 - mae: 1.4087 - val_loss: 5.1027 - val_mae: 1.8002\n",
            "Epoch 193/250\n",
            "178/178 [==============================] - 52s 284ms/step - loss: 3.3603 - mae: 1.3707 - val_loss: 6.7308 - val_mae: 2.0659\n",
            "Epoch 194/250\n",
            "178/178 [==============================] - 52s 289ms/step - loss: 3.2818 - mae: 1.3685 - val_loss: 7.4532 - val_mae: 2.1358\n",
            "Epoch 195/250\n",
            "178/178 [==============================] - 53s 290ms/step - loss: 3.2401 - mae: 1.3628 - val_loss: 7.0542 - val_mae: 2.0676\n",
            "Epoch 196/250\n",
            "178/178 [==============================] - 49s 269ms/step - loss: 3.1890 - mae: 1.3362 - val_loss: 7.3746 - val_mae: 2.1285\n",
            "Epoch 197/250\n",
            "178/178 [==============================] - 52s 286ms/step - loss: 3.1968 - mae: 1.3524 - val_loss: 6.6121 - val_mae: 2.0151\n",
            "Epoch 198/250\n",
            "178/178 [==============================] - 53s 291ms/step - loss: 3.0755 - mae: 1.3198 - val_loss: 6.7470 - val_mae: 2.0327\n",
            "Epoch 199/250\n",
            "178/178 [==============================] - 51s 283ms/step - loss: 3.1076 - mae: 1.3250 - val_loss: 8.1247 - val_mae: 2.2189\n",
            "Epoch 200/250\n",
            "178/178 [==============================] - 52s 287ms/step - loss: 3.0418 - mae: 1.3129 - val_loss: 8.9397 - val_mae: 2.3404\n",
            "Epoch 201/250\n",
            "178/178 [==============================] - 51s 284ms/step - loss: 3.0364 - mae: 1.3101 - val_loss: 7.1032 - val_mae: 2.0828\n",
            "Epoch 202/250\n",
            "178/178 [==============================] - 52s 289ms/step - loss: 3.0797 - mae: 1.3155 - val_loss: 9.0010 - val_mae: 2.3176\n",
            "Epoch 203/250\n",
            "178/178 [==============================] - 51s 283ms/step - loss: 3.0303 - mae: 1.3079 - val_loss: 6.5887 - val_mae: 2.0053\n",
            "Epoch 204/250\n",
            "178/178 [==============================] - 52s 286ms/step - loss: 2.9796 - mae: 1.3053 - val_loss: 5.1094 - val_mae: 1.7856\n",
            "Epoch 205/250\n",
            "178/178 [==============================] - 52s 285ms/step - loss: 3.0327 - mae: 1.3075 - val_loss: 12.2562 - val_mae: 2.7833\n",
            "Epoch 206/250\n",
            "178/178 [==============================] - 52s 289ms/step - loss: 3.0786 - mae: 1.3218 - val_loss: 6.3778 - val_mae: 1.9647\n",
            "Epoch 207/250\n",
            "178/178 [==============================] - 53s 295ms/step - loss: 2.9129 - mae: 1.2829 - val_loss: 8.5367 - val_mae: 2.2439\n",
            "Epoch 208/250\n",
            "178/178 [==============================] - 52s 287ms/step - loss: 2.8914 - mae: 1.2762 - val_loss: 6.8280 - val_mae: 2.0673\n",
            "Epoch 209/250\n",
            "178/178 [==============================] - 51s 283ms/step - loss: 2.8759 - mae: 1.2760 - val_loss: 5.1136 - val_mae: 1.7831\n",
            "Epoch 210/250\n",
            "178/178 [==============================] - 52s 283ms/step - loss: 2.8841 - mae: 1.2747 - val_loss: 5.3018 - val_mae: 1.8312\n",
            "Epoch 211/250\n",
            "178/178 [==============================] - 51s 284ms/step - loss: 2.8332 - mae: 1.2646 - val_loss: 6.5404 - val_mae: 1.9932\n",
            "Epoch 212/250\n",
            "178/178 [==============================] - 47s 261ms/step - loss: 2.8071 - mae: 1.2512 - val_loss: 6.8207 - val_mae: 2.0271\n",
            "Epoch 213/250\n",
            "178/178 [==============================] - 53s 293ms/step - loss: 2.7732 - mae: 1.2565 - val_loss: 8.6713 - val_mae: 2.2765\n",
            "Epoch 214/250\n",
            "178/178 [==============================] - 52s 285ms/step - loss: 3.3033 - mae: 1.3868 - val_loss: 5.8370 - val_mae: 1.8944\n",
            "Epoch 215/250\n",
            "178/178 [==============================] - 51s 279ms/step - loss: 3.1660 - mae: 1.3575 - val_loss: 5.6644 - val_mae: 1.8546\n",
            "Epoch 216/250\n",
            "178/178 [==============================] - 50s 278ms/step - loss: 2.9239 - mae: 1.2998 - val_loss: 6.2634 - val_mae: 1.9543\n",
            "Epoch 217/250\n",
            "178/178 [==============================] - 51s 281ms/step - loss: 2.8922 - mae: 1.2867 - val_loss: 6.9426 - val_mae: 2.0461\n",
            "Epoch 218/250\n",
            "178/178 [==============================] - 51s 279ms/step - loss: 2.8251 - mae: 1.2774 - val_loss: 5.9415 - val_mae: 1.8930\n",
            "Epoch 219/250\n",
            "178/178 [==============================] - 50s 277ms/step - loss: 2.6859 - mae: 1.2381 - val_loss: 6.0618 - val_mae: 1.9124\n",
            "Epoch 220/250\n",
            "178/178 [==============================] - 51s 281ms/step - loss: 2.7385 - mae: 1.2546 - val_loss: 7.0109 - val_mae: 2.0463\n",
            "Epoch 221/250\n",
            "178/178 [==============================] - 50s 275ms/step - loss: 2.6534 - mae: 1.2321 - val_loss: 6.9033 - val_mae: 2.0440\n",
            "Epoch 222/250\n",
            "178/178 [==============================] - 51s 282ms/step - loss: 2.5967 - mae: 1.2203 - val_loss: 7.0599 - val_mae: 2.0454\n",
            "Epoch 223/250\n",
            "178/178 [==============================] - 51s 279ms/step - loss: 2.5459 - mae: 1.2054 - val_loss: 6.2411 - val_mae: 1.9316\n",
            "Epoch 224/250\n",
            "178/178 [==============================] - 50s 277ms/step - loss: 2.8199 - mae: 1.2723 - val_loss: 7.9797 - val_mae: 2.1821\n",
            "Epoch 225/250\n",
            "178/178 [==============================] - 51s 281ms/step - loss: 2.6975 - mae: 1.2509 - val_loss: 5.3976 - val_mae: 1.8102\n",
            "Epoch 226/250\n",
            "178/178 [==============================] - 51s 281ms/step - loss: 2.6167 - mae: 1.2340 - val_loss: 5.8439 - val_mae: 1.8808\n",
            "Epoch 227/250\n",
            "178/178 [==============================] - 52s 287ms/step - loss: 2.6451 - mae: 1.2422 - val_loss: 6.4004 - val_mae: 1.9526\n",
            "Epoch 228/250\n",
            "178/178 [==============================] - 50s 277ms/step - loss: 2.4784 - mae: 1.1896 - val_loss: 6.0130 - val_mae: 1.8999\n",
            "Epoch 229/250\n",
            "178/178 [==============================] - 52s 286ms/step - loss: 2.4880 - mae: 1.1941 - val_loss: 4.8825 - val_mae: 1.7484\n",
            "Epoch 230/250\n",
            "178/178 [==============================] - 52s 287ms/step - loss: 2.4684 - mae: 1.1970 - val_loss: 5.6098 - val_mae: 1.8601\n",
            "Epoch 231/250\n",
            "178/178 [==============================] - 54s 297ms/step - loss: 2.5630 - mae: 1.2204 - val_loss: 5.5296 - val_mae: 1.8279\n",
            "Epoch 232/250\n",
            "178/178 [==============================] - 51s 284ms/step - loss: 2.5879 - mae: 1.2226 - val_loss: 4.8583 - val_mae: 1.7392\n",
            "Epoch 233/250\n",
            "178/178 [==============================] - 51s 282ms/step - loss: 2.4386 - mae: 1.1887 - val_loss: 5.0497 - val_mae: 1.7532\n",
            "Epoch 234/250\n",
            "178/178 [==============================] - 52s 287ms/step - loss: 2.3643 - mae: 1.1695 - val_loss: 5.7408 - val_mae: 1.8481\n",
            "Epoch 235/250\n",
            "178/178 [==============================] - 53s 288ms/step - loss: 2.4044 - mae: 1.1803 - val_loss: 6.4590 - val_mae: 1.9619\n",
            "Epoch 236/250\n",
            "178/178 [==============================] - 52s 285ms/step - loss: 2.3592 - mae: 1.1577 - val_loss: 5.8780 - val_mae: 1.8706\n",
            "Epoch 237/250\n",
            "178/178 [==============================] - 53s 287ms/step - loss: 2.3289 - mae: 1.1620 - val_loss: 5.9623 - val_mae: 1.8954\n",
            "Epoch 238/250\n",
            "178/178 [==============================] - 53s 291ms/step - loss: 2.3613 - mae: 1.1674 - val_loss: 6.4725 - val_mae: 1.9749\n",
            "Epoch 239/250\n",
            "178/178 [==============================] - 50s 278ms/step - loss: 2.3307 - mae: 1.1586 - val_loss: 5.5471 - val_mae: 1.8225\n",
            "Epoch 240/250\n",
            "178/178 [==============================] - 51s 279ms/step - loss: 2.3325 - mae: 1.1560 - val_loss: 5.6068 - val_mae: 1.8455\n",
            "Epoch 241/250\n",
            "178/178 [==============================] - 51s 281ms/step - loss: 2.3572 - mae: 1.1680 - val_loss: 5.8720 - val_mae: 1.8973\n",
            "Epoch 242/250\n",
            "178/178 [==============================] - 51s 283ms/step - loss: 2.2595 - mae: 1.1435 - val_loss: 5.3843 - val_mae: 1.8124\n",
            "Epoch 243/250\n",
            "178/178 [==============================] - 53s 294ms/step - loss: 2.3138 - mae: 1.1604 - val_loss: 7.5246 - val_mae: 2.1238\n",
            "Epoch 244/250\n",
            "178/178 [==============================] - 48s 263ms/step - loss: 2.3119 - mae: 1.1554 - val_loss: 6.9518 - val_mae: 2.0235\n",
            "Epoch 245/250\n",
            "178/178 [==============================] - 51s 281ms/step - loss: 2.2538 - mae: 1.1369 - val_loss: 6.3694 - val_mae: 1.9310\n",
            "Epoch 246/250\n",
            "178/178 [==============================] - 51s 281ms/step - loss: 2.2681 - mae: 1.1463 - val_loss: 6.2761 - val_mae: 1.9228\n",
            "Epoch 247/250\n",
            "178/178 [==============================] - 51s 279ms/step - loss: 2.2347 - mae: 1.1320 - val_loss: 5.8155 - val_mae: 1.9005\n",
            "Epoch 248/250\n",
            "178/178 [==============================] - 51s 282ms/step - loss: 2.6081 - mae: 1.2351 - val_loss: 6.3674 - val_mae: 1.9487\n",
            "Epoch 249/250\n",
            "178/178 [==============================] - 51s 281ms/step - loss: 2.3262 - mae: 1.1673 - val_loss: 6.4021 - val_mae: 1.9415\n",
            "Epoch 250/250\n",
            "178/178 [==============================] - 52s 284ms/step - loss: 2.2074 - mae: 1.1296 - val_loss: 5.6952 - val_mae: 1.8465\n"
          ]
        }
      ]
    },
    {
      "cell_type": "code",
      "source": [
        "loss = history.history['loss']\n",
        "val_loss = history.history['val_loss']\n",
        "mae = history.history['mae']\n",
        "val_mae = history.history['val_mae']\n",
        "\n",
        "\n",
        "epochs_x = range(len(loss))\n",
        "\n",
        "\n",
        "plt.plot(epochs_x, mae, 'o', color ='darkviolet', label='Training MAE')\n",
        "plt.plot(epochs_x, val_mae, 'k', label='Validation MAE')\n",
        "plt.title('Training and validation MeanAbsoluteError')\n",
        "plt.legend()\n",
        "\n",
        "plt.figure()\n",
        "plt.plot(epochs_x, loss, 'o', color ='darkviolet', label='Training loss')\n",
        "plt.plot(epochs_x, val_loss, 'k', label='Validation loss')\n",
        "plt.title('Training and validation loss')\n",
        "plt.legend()\n",
        "\n",
        "plt.show()"
      ],
      "metadata": {
        "id": "Y3K89-CM-dfg",
        "colab": {
          "base_uri": "https://localhost:8080/",
          "height": 545
        },
        "outputId": "ddfd36d7-d288-453e-ed16-15a45a6023fb"
      },
      "execution_count": 20,
      "outputs": [
        {
          "output_type": "display_data",
          "data": {
            "text/plain": [
              "<Figure size 432x288 with 1 Axes>"
            ],
            "image/png": "[encoded data removed]"
          },
          "metadata": {
            "needs_background": "light"
          }
        },
        {
          "output_type": "display_data",
          "data": {
            "text/plain": [
              "<Figure size 432x288 with 1 Axes>"
            ],
            "image/png": "[encoded data removed]"
          },
          "metadata": {
            "needs_background": "light"
          }
        }
      ]
    },
    {
      "cell_type": "code",
      "source": [
        "epochs_x"
      ],
      "metadata": {
        "id": "N_sP_ZmSY-Jv",
        "colab": {
          "base_uri": "https://localhost:8080/"
        },
        "outputId": "37af5f01-4ea7-423a-9ef9-5a8d6650548e"
      },
      "execution_count": 21,
      "outputs": [
        {
          "output_type": "execute_result",
          "data": {
            "text/plain": [
              "range(0, 250)"
            ]
          },
          "metadata": {},
          "execution_count": 21
        }
      ]
    },
    {
      "cell_type": "markdown",
      "source": [
        "#Download the model\n"
      ],
      "metadata": {
        "id": "R19IJQSYoW7J"
      }
    },
    {
      "cell_type": "code",
      "source": [
        "os.makedirs('/content/drive/My Drive/cut_panoramic/Model', exist_ok=True)\n",
        "model.save('/content/drive/My Drive/cut_panoramic/Model/4Re_All_1G_1e-4_16_0.2_250_New_Unfreez.h5')"
      ],
      "metadata": {
        "id": "Zed4TdFcG2iJ"
      },
      "execution_count": 22,
      "outputs": []
    },
    {
      "cell_type": "markdown",
      "source": [],
      "metadata": {
        "id": "n5YxZ-5QjQ0-"
      }
    },
    {
      "cell_type": "code",
      "source": [
        "# from google.colab import files\n",
        "# files.download('/content/drive/My Drive/cut_panoramic/Model/1.1_รอบแรก_Flimpano_Male125_250.h5')"
      ],
      "metadata": {
        "id": "P5eMxm1NV-oY"
      },
      "execution_count": null,
      "outputs": []
    },
    {
      "cell_type": "code",
      "source": [
        "\n"
      ],
      "metadata": {
        "id": "wY_pDlxkRwxS"
      },
      "execution_count": null,
      "outputs": []
    }
  ]
}