{
  "nbformat": 4,
  "nbformat_minor": 0,
  "metadata": {
    "colab": {
      "provenance": [],
      "include_colab_link": true
    },
    "kernelspec": {
      "name": "python3",
      "display_name": "Python 3"
    },
    "language_info": {
      "name": "python"
    },
    "accelerator": "GPU",
    "gpuClass": "standard"
  },
  "cells": [
    {
      "cell_type": "markdown",
      "metadata": {
        "id": "view-in-github",
        "colab_type": "text"
      },
      "source": [
        "<a href=\"https://colab.research.google.com/github/Wanita-8943/Project_2023/blob/main/G3_Train_Unfreez_Model.compile.ipynb.ipynb\" target=\"_parent\"><img src=\"https://colab.research.google.com/assets/colab-badge.svg\" alt=\"Open In Colab\"/></a>"
      ]
    },
    {
      "cell_type": "code",
      "execution_count": 1,
      "metadata": {
        "id": "KKSs7cyoPHcD"
      },
      "outputs": [],
      "source": [
        "import pandas as pd\n",
        "import shutil"
      ]
    },
    {
      "cell_type": "code",
      "source": [
        "from google.colab import drive\n",
        "drive.mount('/content/drive')"
      ],
      "metadata": {
        "colab": {
          "base_uri": "https://localhost:8080/"
        },
        "id": "Klm1B91QlvKd",
        "outputId": "525ee86b-0666-4947-fac4-f43f4d56e6b4"
      },
      "execution_count": 2,
      "outputs": [
        {
          "output_type": "stream",
          "name": "stdout",
          "text": [
            "Mounted at /content/drive\n"
          ]
        }
      ]
    },
    {
      "cell_type": "code",
      "source": [
        "from tensorflow.keras import models\n",
        "from tensorflow.keras import layers\n",
        "from tensorflow.keras import optimizers\n",
        "import os\n",
        "import glob\n",
        "import shutil\n",
        "import sys\n",
        "import numpy as np\n",
        "from skimage.io import imread\n",
        "import matplotlib.pyplot as plt\n",
        "from IPython.display import Image\n",
        "%matplotlib inline"
      ],
      "metadata": {
        "id": "1pX9g1HxPM2f"
      },
      "execution_count": 3,
      "outputs": []
    },
    {
      "cell_type": "code",
      "source": [
        "batch_size = 16\n",
        "width = 150\n",
        "height = 150\n",
        "epochs = 250\n",
        "NUM_TRAIN = 2850\n",
        "NUM_TEST = 950\n",
        "dropout_rate = 0.2\n",
        "input_shape = (height, width, 3)"
      ],
      "metadata": {
        "id": "eSFtvGyvPM6O"
      },
      "execution_count": 4,
      "outputs": []
    },
    {
      "cell_type": "code",
      "source": [
        "#ดึงข้อมูลใน Github มาใช้\n",
        "import os\n",
        "%cd /content\n",
        "if not os.path.isdir(\"efficientnet_keras_transfer_learning\"):\n",
        " !git clone https://github.com/Wanita-8943/efficientnet_keras_transfer_learning\n",
        "%cd efficientnet_keras_transfer_learning/"
      ],
      "metadata": {
        "colab": {
          "base_uri": "https://localhost:8080/"
        },
        "id": "lb4K4CsMPNAW",
        "outputId": "31c64ebe-4a39-4a91-cce7-a8da4bf048db"
      },
      "execution_count": 5,
      "outputs": [
        {
          "output_type": "stream",
          "name": "stdout",
          "text": [
            "/content\n",
            "Cloning into 'efficientnet_keras_transfer_learning'...\n",
            "remote: Enumerating objects: 837, done.\u001b[K\n",
            "remote: Counting objects: 100% (359/359), done.\u001b[K\n",
            "remote: Compressing objects: 100% (124/124), done.\u001b[K\n",
            "remote: Total 837 (delta 255), reused 328 (delta 235), pack-reused 478\u001b[K\n",
            "Receiving objects: 100% (837/837), 13.82 MiB | 28.24 MiB/s, done.\n",
            "Resolving deltas: 100% (495/495), done.\n",
            "/content/efficientnet_keras_transfer_learning\n"
          ]
        }
      ]
    },
    {
      "cell_type": "code",
      "source": [
        "# Options: EfficientNetB0, EfficientNetB1, EfficientNetB2, EfficientNetB3\n",
        "# Higher the number, the more complex the model is.\n",
        "from efficientnet import EfficientNetB0 as Net\n",
        "from efficientnet import center_crop_and_resize, preprocess_input"
      ],
      "metadata": {
        "id": "eyBg0dLKPND3"
      },
      "execution_count": 6,
      "outputs": []
    },
    {
      "cell_type": "code",
      "source": [
        "# loading pretrained conv base model\n",
        "# โหลดโมเดล มาโดยตัด output ของโมเดลออก เเต่ยังใช้ input อันเดิม\n",
        "# เเละโหลด weight ของโมเดล มาด้วยที่ชื่อว่า imagenet\n",
        "conv_base = Net(weights='imagenet', include_top=False, input_shape=input_shape)"
      ],
      "metadata": {
        "colab": {
          "base_uri": "https://localhost:8080/"
        },
        "id": "9VBe9W9-H54h",
        "outputId": "b22285fc-075e-4d5f-93cd-8a397e6d24a4"
      },
      "execution_count": 7,
      "outputs": [
        {
          "output_type": "stream",
          "name": "stderr",
          "text": [
            "WARNING:tensorflow:From /usr/local/lib/python3.8/dist-packages/tensorflow/python/autograph/pyct/static_analysis/liveness.py:83: Analyzer.lamba_check (from tensorflow.python.autograph.pyct.static_analysis.liveness) is deprecated and will be removed after 2023-09-23.\n",
            "Instructions for updating:\n",
            "Lambda fuctions will be no more assumed to be used in the statement where they are used, or at least in the same block. https://github.com/tensorflow/tensorflow/issues/56089\n"
          ]
        },
        {
          "output_type": "stream",
          "name": "stdout",
          "text": [
            "Downloading data from https://github.com/qubvel/efficientnet/releases/download/v0.0.1/efficientnet-b0_imagenet_1000_notop.h5\n",
            "16717576/16717576 [==============================] - 1s 0us/step\n"
          ]
        }
      ]
    },
    {
      "cell_type": "code",
      "source": [
        "base_dir = '/content/drive/MyDrive/TVT_Gender'\n",
        "os.makedirs(base_dir, exist_ok=True)\n",
        "\n",
        "# Directories for our training,\n",
        "# validation and test splits\n",
        "train_dir = os.path.join(base_dir, 'train')\n",
        "os.makedirs(train_dir, exist_ok=True)\n",
        "validation_dir = os.path.join(base_dir, 'validation')\n",
        "os.makedirs(validation_dir, exist_ok=True)\n",
        "test_dir = os.path.join(base_dir, 'test')\n",
        "os.makedirs(test_dir, exist_ok=True)"
      ],
      "metadata": {
        "id": "Jwpq_-KvPef8"
      },
      "execution_count": 8,
      "outputs": []
    },
    {
      "cell_type": "markdown",
      "source": [
        "#load model"
      ],
      "metadata": {
        "id": "od-ZSNm5PoGy"
      }
    },
    {
      "cell_type": "code",
      "source": [
        "import sys\n",
        "sys.path.append('/content/drive/MyDrive/cut_panoramic/Model/Classification/Gender/2_รอบที่2_Gender_250.h5')\n",
        "\n",
        "from efficientnet.layers import Swish, DropConnect\n",
        "from efficientnet.model import ConvKernalInitializer\n",
        "from tensorflow.keras.utils import get_custom_objects\n",
        "\n",
        "get_custom_objects().update({\n",
        "    'ConvKernalInitializer': ConvKernalInitializer,\n",
        "    'Swish': Swish,\n",
        "    'DropConnect':DropConnect\n",
        "})"
      ],
      "metadata": {
        "id": "n5iPL5MNPkhE"
      },
      "execution_count": 9,
      "outputs": []
    },
    {
      "cell_type": "code",
      "source": [
        "#load model \n",
        "from tensorflow.keras.models import load_model\n",
        "model = load_model('/content/drive/MyDrive/cut_panoramic/Model/Classification/Gender/2_รอบที่2_Gender_250.h5')\n",
        "height = width = model.input_shape[1]"
      ],
      "metadata": {
        "id": "plYz49xMPkly"
      },
      "execution_count": 10,
      "outputs": []
    },
    {
      "cell_type": "code",
      "source": [
        "model.summary()"
      ],
      "metadata": {
        "colab": {
          "base_uri": "https://localhost:8080/"
        },
        "id": "z6IOPBflFbvc",
        "outputId": "a0e7b24d-84c2-4df5-9b92-5143f49ac5f8"
      },
      "execution_count": 11,
      "outputs": [
        {
          "output_type": "stream",
          "name": "stdout",
          "text": [
            "Model: \"sequential\"\n",
            "_________________________________________________________________\n",
            " Layer (type)                Output Shape              Param #   \n",
            "=================================================================\n",
            " efficientnet-b0 (Functional  (None, 5, 5, 1280)       4049564   \n",
            " )                                                               \n",
            "                                                                 \n",
            " gap (GlobalMaxPooling2D)    (None, 1280)              0         \n",
            "                                                                 \n",
            " dropout_out (Dropout)       (None, 1280)              0         \n",
            "                                                                 \n",
            " fc_out (Dense)              (None, 2)                 2562      \n",
            "                                                                 \n",
            "=================================================================\n",
            "Total params: 4,052,126\n",
            "Trainable params: 2,562\n",
            "Non-trainable params: 4,049,564\n",
            "_________________________________________________________________\n"
          ]
        }
      ]
    },
    {
      "cell_type": "code",
      "source": [
        "# Train ด้วย ImageDataGenerator ของ Keras ซึ่งจะเพิ่มข้อมูลเสริมระหว่างการฝึกเพื่อลดโอกาสเกิด overfitting\n",
        "#overfitting เกิดจากข้อมูลที่ซับซ้อนกันเกินไป\n",
        "from tensorflow.keras.preprocessing.image import ImageDataGenerator\n",
        "\n",
        "train_datagen = ImageDataGenerator(\n",
        "      rescale=1./255, #โมเดลส่วนใหญ่ต้องใช้ RGB ในช่วง 0–1\n",
        "      rotation_range=40,\n",
        "      width_shift_range=0.2,\n",
        "      height_shift_range=0.2,\n",
        "      shear_range=0.2,\n",
        "      zoom_range=0.2,\n",
        "      horizontal_flip=True,\n",
        "      fill_mode='nearest')\n",
        "\n",
        "# Note that the validation data should not be augmented!\n",
        "test_datagen = ImageDataGenerator(rescale=1./255)\n",
        "\n",
        "train_generator = train_datagen.flow_from_directory(\n",
        "        # This is the target directory #ไดเรกเป้าหมาย\n",
        "        train_dir,\n",
        "        # รูปภาพทั้งหมดจะถูกปรับขนาดตามความสูงและความกว้างของเป้าหมาย\n",
        "        target_size=(height, width),\n",
        "        batch_size=batch_size,\n",
        "        # Since we use categorical_crossentropy loss, we need categorical labels\n",
        "        #เนื่องจากเราใช้ categorical_crossentropy loss เราจึงต้องมีป้ายกำกับตามหมวดหมู่\n",
        "        class_mode='categorical')\n",
        "\n",
        "validation_generator = test_datagen.flow_from_directory( #การดึงภาพจาก Directory มาเข้าโมเดล \n",
        "        validation_dir,\n",
        "        target_size=(height, width),\n",
        "        batch_size=batch_size,\n",
        "        class_mode='categorical')"
      ],
      "metadata": {
        "colab": {
          "base_uri": "https://localhost:8080/"
        },
        "id": "KBMZbdr2Pgw4",
        "outputId": "79efcb37-6030-4229-a399-e5ea1d88fc1f"
      },
      "execution_count": 12,
      "outputs": [
        {
          "output_type": "stream",
          "name": "stdout",
          "text": [
            "Found 2850 images belonging to 2 classes.\n",
            "Found 950 images belonging to 2 classes.\n"
          ]
        }
      ]
    },
    {
      "cell_type": "code",
      "source": [
        "# multiply_16\n",
        "# set 'multiply_16' and following layers trainable\n",
        "model.trainable = True\n",
        "\n",
        "set_trainable = False\n",
        "for layer in conv_base.layers:\n",
        "    if layer.name == 'multiply_16':\n",
        "        set_trainable = True\n",
        "    if set_trainable:\n",
        "        layer.trainable = True\n",
        "    else:\n",
        "        layer.trainable = False  "
      ],
      "metadata": {
        "id": "A0yv7vmgGhSI"
      },
      "execution_count": 13,
      "outputs": []
    },
    {
      "cell_type": "code",
      "source": [
        "model.summary()"
      ],
      "metadata": {
        "colab": {
          "base_uri": "https://localhost:8080/"
        },
        "id": "lJReTlOCGkRE",
        "outputId": "c237f235-63f3-4c3e-d43b-49e6b41395cd"
      },
      "execution_count": 14,
      "outputs": [
        {
          "output_type": "stream",
          "name": "stdout",
          "text": [
            "Model: \"sequential\"\n",
            "_________________________________________________________________\n",
            " Layer (type)                Output Shape              Param #   \n",
            "=================================================================\n",
            " efficientnet-b0 (Functional  (None, 5, 5, 1280)       4049564   \n",
            " )                                                               \n",
            "                                                                 \n",
            " gap (GlobalMaxPooling2D)    (None, 1280)              0         \n",
            "                                                                 \n",
            " dropout_out (Dropout)       (None, 1280)              0         \n",
            "                                                                 \n",
            " fc_out (Dense)              (None, 2)                 2562      \n",
            "                                                                 \n",
            "=================================================================\n",
            "Total params: 4,052,126\n",
            "Trainable params: 4,010,110\n",
            "Non-trainable params: 42,016\n",
            "_________________________________________________________________\n"
          ]
        }
      ]
    },
    {
      "cell_type": "code",
      "source": [
        "model.compile(loss='categorical_crossentropy',\n",
        "              optimizer=optimizers.RMSprop(learning_rate=2e-5),\n",
        "              metrics=['acc'])\n",
        "history = model.fit_generator(\n",
        "      train_generator,\n",
        "      steps_per_epoch= NUM_TRAIN //batch_size,\n",
        "      epochs=epochs,\n",
        "      validation_data=validation_generator,\n",
        "      validation_steps= NUM_TEST //batch_size,\n",
        "      verbose=1,\n",
        "      use_multiprocessing=True,\n",
        "      workers=4)"
      ],
      "metadata": {
        "colab": {
          "base_uri": "https://localhost:8080/"
        },
        "id": "C9Cf1dwyP1PD",
        "outputId": "cbc2140e-3f26-4e42-f7ea-0ed76580ea41"
      },
      "execution_count": 15,
      "outputs": [
        {
          "output_type": "stream",
          "name": "stderr",
          "text": [
            "<ipython-input-15-95ae5648fc7b>:4: UserWarning: `Model.fit_generator` is deprecated and will be removed in a future version. Please use `Model.fit`, which supports generators.\n",
            "  history = model.fit_generator(\n"
          ]
        },
        {
          "output_type": "stream",
          "name": "stdout",
          "text": [
            "Epoch 1/250\n",
            "178/178 [==============================] - 229s 1s/step - loss: 1.3030 - acc: 0.5480 - val_loss: 1.2996 - val_acc: 0.5392\n",
            "Epoch 2/250\n",
            "178/178 [==============================] - 48s 265ms/step - loss: 1.1125 - acc: 0.6006 - val_loss: 1.0115 - val_acc: 0.5498\n",
            "Epoch 3/250\n",
            "178/178 [==============================] - 48s 263ms/step - loss: 1.0055 - acc: 0.6253 - val_loss: 0.9506 - val_acc: 0.5742\n",
            "Epoch 4/250\n",
            "178/178 [==============================] - 48s 267ms/step - loss: 0.9961 - acc: 0.6179 - val_loss: 0.7565 - val_acc: 0.6494\n",
            "Epoch 5/250\n",
            "178/178 [==============================] - 48s 268ms/step - loss: 0.8980 - acc: 0.6478 - val_loss: 0.8069 - val_acc: 0.6504\n",
            "Epoch 6/250\n",
            "178/178 [==============================] - 46s 256ms/step - loss: 0.8928 - acc: 0.6440 - val_loss: 0.8421 - val_acc: 0.6504\n",
            "Epoch 7/250\n",
            "178/178 [==============================] - 48s 260ms/step - loss: 0.8502 - acc: 0.6560 - val_loss: 0.9285 - val_acc: 0.6419\n",
            "Epoch 8/250\n",
            "178/178 [==============================] - 48s 269ms/step - loss: 0.8069 - acc: 0.6789 - val_loss: 0.8893 - val_acc: 0.6483\n",
            "Epoch 9/250\n",
            "178/178 [==============================] - 48s 265ms/step - loss: 0.7772 - acc: 0.6969 - val_loss: 0.7667 - val_acc: 0.6769\n",
            "Epoch 10/250\n",
            "178/178 [==============================] - 48s 264ms/step - loss: 0.7802 - acc: 0.6927 - val_loss: 0.7182 - val_acc: 0.6875\n",
            "Epoch 11/250\n",
            "178/178 [==============================] - 48s 262ms/step - loss: 0.7513 - acc: 0.6994 - val_loss: 0.7904 - val_acc: 0.6737\n",
            "Epoch 12/250\n",
            "178/178 [==============================] - 48s 264ms/step - loss: 0.7290 - acc: 0.7050 - val_loss: 0.7485 - val_acc: 0.6875\n",
            "Epoch 13/250\n",
            "178/178 [==============================] - 48s 264ms/step - loss: 0.7442 - acc: 0.7015 - val_loss: 0.7473 - val_acc: 0.6875\n",
            "Epoch 14/250\n",
            "178/178 [==============================] - 48s 264ms/step - loss: 0.6990 - acc: 0.7156 - val_loss: 0.7123 - val_acc: 0.6960\n",
            "Epoch 15/250\n",
            "178/178 [==============================] - 48s 261ms/step - loss: 0.7073 - acc: 0.7050 - val_loss: 0.7330 - val_acc: 0.6864\n",
            "Epoch 16/250\n",
            "178/178 [==============================] - 48s 266ms/step - loss: 0.6583 - acc: 0.7371 - val_loss: 0.6313 - val_acc: 0.7193\n",
            "Epoch 17/250\n",
            "178/178 [==============================] - 48s 268ms/step - loss: 0.6558 - acc: 0.7234 - val_loss: 0.6721 - val_acc: 0.7108\n",
            "Epoch 18/250\n",
            "178/178 [==============================] - 48s 267ms/step - loss: 0.6393 - acc: 0.7382 - val_loss: 0.7054 - val_acc: 0.7055\n",
            "Epoch 19/250\n",
            "178/178 [==============================] - 48s 261ms/step - loss: 0.6195 - acc: 0.7428 - val_loss: 0.5863 - val_acc: 0.7405\n",
            "Epoch 20/250\n",
            "178/178 [==============================] - 48s 263ms/step - loss: 0.5884 - acc: 0.7586 - val_loss: 0.7444 - val_acc: 0.6907\n",
            "Epoch 21/250\n",
            "178/178 [==============================] - 48s 266ms/step - loss: 0.5914 - acc: 0.7516 - val_loss: 0.6510 - val_acc: 0.7235\n",
            "Epoch 22/250\n",
            "178/178 [==============================] - 48s 264ms/step - loss: 0.5865 - acc: 0.7534 - val_loss: 0.7321 - val_acc: 0.6992\n",
            "Epoch 23/250\n",
            "178/178 [==============================] - 48s 268ms/step - loss: 0.5806 - acc: 0.7519 - val_loss: 0.5671 - val_acc: 0.7447\n",
            "Epoch 24/250\n",
            "178/178 [==============================] - 48s 262ms/step - loss: 0.5968 - acc: 0.7417 - val_loss: 0.7970 - val_acc: 0.6864\n",
            "Epoch 25/250\n",
            "178/178 [==============================] - 48s 267ms/step - loss: 0.5751 - acc: 0.7622 - val_loss: 0.6918 - val_acc: 0.7246\n",
            "Epoch 26/250\n",
            "178/178 [==============================] - 48s 263ms/step - loss: 0.5454 - acc: 0.7710 - val_loss: 0.8286 - val_acc: 0.6674\n",
            "Epoch 27/250\n",
            "178/178 [==============================] - 48s 263ms/step - loss: 0.5663 - acc: 0.7530 - val_loss: 0.7777 - val_acc: 0.6790\n",
            "Epoch 28/250\n",
            "178/178 [==============================] - 48s 268ms/step - loss: 0.5314 - acc: 0.7773 - val_loss: 0.7124 - val_acc: 0.7044\n",
            "Epoch 29/250\n",
            "178/178 [==============================] - 49s 271ms/step - loss: 0.5425 - acc: 0.7646 - val_loss: 0.8040 - val_acc: 0.6684\n",
            "Epoch 30/250\n",
            "178/178 [==============================] - 49s 270ms/step - loss: 0.4995 - acc: 0.7812 - val_loss: 0.6079 - val_acc: 0.7394\n",
            "Epoch 31/250\n",
            "178/178 [==============================] - 50s 274ms/step - loss: 0.4995 - acc: 0.7721 - val_loss: 0.7588 - val_acc: 0.6928\n",
            "Epoch 32/250\n",
            "178/178 [==============================] - 49s 273ms/step - loss: 0.4821 - acc: 0.7911 - val_loss: 0.7151 - val_acc: 0.6992\n",
            "Epoch 33/250\n",
            "178/178 [==============================] - 50s 274ms/step - loss: 0.4843 - acc: 0.7904 - val_loss: 0.5854 - val_acc: 0.7574\n",
            "Epoch 34/250\n",
            "178/178 [==============================] - 49s 269ms/step - loss: 0.4888 - acc: 0.7865 - val_loss: 0.5827 - val_acc: 0.7468\n",
            "Epoch 35/250\n",
            "178/178 [==============================] - 50s 273ms/step - loss: 0.4636 - acc: 0.7996 - val_loss: 0.5435 - val_acc: 0.7564\n",
            "Epoch 36/250\n",
            "178/178 [==============================] - 49s 274ms/step - loss: 0.4899 - acc: 0.7872 - val_loss: 0.5050 - val_acc: 0.7712\n",
            "Epoch 37/250\n",
            "178/178 [==============================] - 49s 271ms/step - loss: 0.4626 - acc: 0.7996 - val_loss: 0.5259 - val_acc: 0.7606\n",
            "Epoch 38/250\n",
            "178/178 [==============================] - 48s 263ms/step - loss: 0.4648 - acc: 0.7943 - val_loss: 0.4419 - val_acc: 0.7966\n",
            "Epoch 39/250\n",
            "178/178 [==============================] - 48s 266ms/step - loss: 0.4425 - acc: 0.8045 - val_loss: 0.5547 - val_acc: 0.7532\n",
            "Epoch 40/250\n",
            "178/178 [==============================] - 48s 266ms/step - loss: 0.4390 - acc: 0.8042 - val_loss: 0.5374 - val_acc: 0.7627\n",
            "Epoch 41/250\n",
            "178/178 [==============================] - 50s 276ms/step - loss: 0.4401 - acc: 0.8024 - val_loss: 0.4799 - val_acc: 0.7691\n",
            "Epoch 42/250\n",
            "178/178 [==============================] - 49s 272ms/step - loss: 0.4252 - acc: 0.8116 - val_loss: 0.5076 - val_acc: 0.7680\n",
            "Epoch 43/250\n",
            "178/178 [==============================] - 50s 278ms/step - loss: 0.4451 - acc: 0.8045 - val_loss: 0.5048 - val_acc: 0.7659\n",
            "Epoch 44/250\n",
            "178/178 [==============================] - 50s 273ms/step - loss: 0.4368 - acc: 0.8017 - val_loss: 0.4202 - val_acc: 0.7998\n",
            "Epoch 45/250\n",
            "178/178 [==============================] - 49s 272ms/step - loss: 0.4334 - acc: 0.8024 - val_loss: 0.4421 - val_acc: 0.7966\n",
            "Epoch 46/250\n",
            "178/178 [==============================] - 50s 277ms/step - loss: 0.4161 - acc: 0.8162 - val_loss: 0.4863 - val_acc: 0.7733\n",
            "Epoch 47/250\n",
            "178/178 [==============================] - 50s 276ms/step - loss: 0.4094 - acc: 0.8197 - val_loss: 0.4395 - val_acc: 0.7966\n",
            "Epoch 48/250\n",
            "178/178 [==============================] - 49s 271ms/step - loss: 0.4010 - acc: 0.8169 - val_loss: 0.4845 - val_acc: 0.7775\n",
            "Epoch 49/250\n",
            "178/178 [==============================] - 49s 269ms/step - loss: 0.3837 - acc: 0.8303 - val_loss: 0.4563 - val_acc: 0.7913\n",
            "Epoch 50/250\n",
            "178/178 [==============================] - 51s 278ms/step - loss: 0.3760 - acc: 0.8296 - val_loss: 0.4331 - val_acc: 0.8030\n",
            "Epoch 51/250\n",
            "178/178 [==============================] - 50s 276ms/step - loss: 0.3688 - acc: 0.8412 - val_loss: 0.4722 - val_acc: 0.7903\n",
            "Epoch 52/250\n",
            "178/178 [==============================] - 50s 279ms/step - loss: 0.3710 - acc: 0.8352 - val_loss: 0.4955 - val_acc: 0.7744\n",
            "Epoch 53/250\n",
            "178/178 [==============================] - 50s 278ms/step - loss: 0.3903 - acc: 0.8324 - val_loss: 0.4032 - val_acc: 0.8210\n",
            "Epoch 54/250\n",
            "178/178 [==============================] - 51s 284ms/step - loss: 0.3644 - acc: 0.8405 - val_loss: 0.4025 - val_acc: 0.8189\n",
            "Epoch 55/250\n",
            "178/178 [==============================] - 52s 287ms/step - loss: 0.3929 - acc: 0.8310 - val_loss: 0.4452 - val_acc: 0.7828\n",
            "Epoch 56/250\n",
            "178/178 [==============================] - 52s 290ms/step - loss: 0.3786 - acc: 0.8313 - val_loss: 0.4722 - val_acc: 0.7850\n",
            "Epoch 57/250\n",
            "178/178 [==============================] - 50s 277ms/step - loss: 0.3621 - acc: 0.8440 - val_loss: 0.4928 - val_acc: 0.7765\n",
            "Epoch 58/250\n",
            "178/178 [==============================] - 51s 282ms/step - loss: 0.3717 - acc: 0.8398 - val_loss: 0.3955 - val_acc: 0.8167\n",
            "Epoch 59/250\n",
            "178/178 [==============================] - 51s 279ms/step - loss: 0.3556 - acc: 0.8522 - val_loss: 0.4632 - val_acc: 0.7956\n",
            "Epoch 60/250\n",
            "178/178 [==============================] - 52s 288ms/step - loss: 0.3530 - acc: 0.8483 - val_loss: 0.4623 - val_acc: 0.7892\n",
            "Epoch 61/250\n",
            "178/178 [==============================] - 48s 265ms/step - loss: 0.3454 - acc: 0.8504 - val_loss: 0.4530 - val_acc: 0.8030\n",
            "Epoch 62/250\n",
            "178/178 [==============================] - 52s 286ms/step - loss: 0.3327 - acc: 0.8649 - val_loss: 0.3841 - val_acc: 0.8273\n",
            "Epoch 63/250\n",
            "178/178 [==============================] - 50s 276ms/step - loss: 0.3477 - acc: 0.8465 - val_loss: 0.4354 - val_acc: 0.8051\n",
            "Epoch 64/250\n",
            "178/178 [==============================] - 47s 257ms/step - loss: 0.3390 - acc: 0.8539 - val_loss: 0.4048 - val_acc: 0.8199\n",
            "Epoch 65/250\n",
            "178/178 [==============================] - 51s 278ms/step - loss: 0.3409 - acc: 0.8507 - val_loss: 0.4213 - val_acc: 0.8072\n",
            "Epoch 66/250\n",
            "178/178 [==============================] - 50s 277ms/step - loss: 0.3332 - acc: 0.8560 - val_loss: 0.3983 - val_acc: 0.8189\n",
            "Epoch 67/250\n",
            "178/178 [==============================] - 50s 274ms/step - loss: 0.3276 - acc: 0.8546 - val_loss: 0.4116 - val_acc: 0.8167\n",
            "Epoch 68/250\n",
            "178/178 [==============================] - 50s 278ms/step - loss: 0.3088 - acc: 0.8740 - val_loss: 0.4154 - val_acc: 0.8167\n",
            "Epoch 69/250\n",
            "178/178 [==============================] - 50s 279ms/step - loss: 0.3215 - acc: 0.8627 - val_loss: 0.4605 - val_acc: 0.8008\n",
            "Epoch 70/250\n",
            "178/178 [==============================] - 51s 281ms/step - loss: 0.3224 - acc: 0.8582 - val_loss: 0.4342 - val_acc: 0.7966\n",
            "Epoch 71/250\n",
            "178/178 [==============================] - 50s 276ms/step - loss: 0.3106 - acc: 0.8687 - val_loss: 0.3979 - val_acc: 0.8189\n",
            "Epoch 72/250\n",
            "178/178 [==============================] - 50s 279ms/step - loss: 0.3205 - acc: 0.8613 - val_loss: 0.4225 - val_acc: 0.8019\n",
            "Epoch 73/250\n",
            "178/178 [==============================] - 50s 277ms/step - loss: 0.2977 - acc: 0.8744 - val_loss: 0.4154 - val_acc: 0.8083\n",
            "Epoch 74/250\n",
            "178/178 [==============================] - 50s 278ms/step - loss: 0.3063 - acc: 0.8716 - val_loss: 0.3980 - val_acc: 0.8273\n",
            "Epoch 75/250\n",
            "178/178 [==============================] - 47s 254ms/step - loss: 0.3103 - acc: 0.8652 - val_loss: 0.3859 - val_acc: 0.8316\n",
            "Epoch 76/250\n",
            "178/178 [==============================] - 50s 278ms/step - loss: 0.2956 - acc: 0.8744 - val_loss: 0.4481 - val_acc: 0.8019\n",
            "Epoch 77/250\n",
            "178/178 [==============================] - 50s 277ms/step - loss: 0.2909 - acc: 0.8850 - val_loss: 0.4029 - val_acc: 0.8199\n",
            "Epoch 78/250\n",
            "178/178 [==============================] - 52s 283ms/step - loss: 0.2974 - acc: 0.8758 - val_loss: 0.3866 - val_acc: 0.8337\n",
            "Epoch 79/250\n",
            "178/178 [==============================] - 51s 280ms/step - loss: 0.3003 - acc: 0.8740 - val_loss: 0.3686 - val_acc: 0.8432\n",
            "Epoch 80/250\n",
            "178/178 [==============================] - 52s 282ms/step - loss: 0.2745 - acc: 0.8853 - val_loss: 0.3724 - val_acc: 0.8453\n",
            "Epoch 81/250\n",
            "178/178 [==============================] - 50s 276ms/step - loss: 0.2912 - acc: 0.8790 - val_loss: 0.3999 - val_acc: 0.8220\n",
            "Epoch 82/250\n",
            "178/178 [==============================] - 51s 280ms/step - loss: 0.2935 - acc: 0.8804 - val_loss: 0.4139 - val_acc: 0.8189\n",
            "Epoch 83/250\n",
            "178/178 [==============================] - 46s 257ms/step - loss: 0.2756 - acc: 0.8857 - val_loss: 0.4132 - val_acc: 0.8326\n",
            "Epoch 84/250\n",
            "178/178 [==============================] - 53s 288ms/step - loss: 0.2839 - acc: 0.8804 - val_loss: 0.3756 - val_acc: 0.8411\n",
            "Epoch 85/250\n",
            "178/178 [==============================] - 50s 279ms/step - loss: 0.2835 - acc: 0.8836 - val_loss: 0.3848 - val_acc: 0.8358\n",
            "Epoch 86/250\n",
            "178/178 [==============================] - 51s 283ms/step - loss: 0.2630 - acc: 0.8906 - val_loss: 0.3924 - val_acc: 0.8453\n",
            "Epoch 87/250\n",
            "178/178 [==============================] - 50s 278ms/step - loss: 0.2824 - acc: 0.8825 - val_loss: 0.3806 - val_acc: 0.8422\n",
            "Epoch 88/250\n",
            "178/178 [==============================] - 50s 277ms/step - loss: 0.2763 - acc: 0.8888 - val_loss: 0.4127 - val_acc: 0.8252\n",
            "Epoch 89/250\n",
            "178/178 [==============================] - 51s 285ms/step - loss: 0.2653 - acc: 0.8931 - val_loss: 0.4127 - val_acc: 0.8263\n",
            "Epoch 90/250\n",
            "178/178 [==============================] - 50s 277ms/step - loss: 0.2888 - acc: 0.8867 - val_loss: 0.3782 - val_acc: 0.8496\n",
            "Epoch 91/250\n",
            "178/178 [==============================] - 50s 277ms/step - loss: 0.2688 - acc: 0.8966 - val_loss: 0.3902 - val_acc: 0.8400\n",
            "Epoch 92/250\n",
            "178/178 [==============================] - 51s 282ms/step - loss: 0.2691 - acc: 0.8878 - val_loss: 0.3832 - val_acc: 0.8506\n",
            "Epoch 93/250\n",
            "178/178 [==============================] - 53s 288ms/step - loss: 0.2482 - acc: 0.8994 - val_loss: 0.4272 - val_acc: 0.8305\n",
            "Epoch 94/250\n",
            "178/178 [==============================] - 50s 278ms/step - loss: 0.2597 - acc: 0.8934 - val_loss: 0.3941 - val_acc: 0.8453\n",
            "Epoch 95/250\n",
            "178/178 [==============================] - 50s 277ms/step - loss: 0.2586 - acc: 0.8948 - val_loss: 0.3881 - val_acc: 0.8570\n",
            "Epoch 96/250\n",
            "178/178 [==============================] - 50s 279ms/step - loss: 0.2550 - acc: 0.8938 - val_loss: 0.4103 - val_acc: 0.8400\n",
            "Epoch 97/250\n",
            "178/178 [==============================] - 51s 282ms/step - loss: 0.2521 - acc: 0.8966 - val_loss: 0.4110 - val_acc: 0.8443\n",
            "Epoch 98/250\n",
            "178/178 [==============================] - 50s 276ms/step - loss: 0.2445 - acc: 0.8998 - val_loss: 0.4151 - val_acc: 0.8453\n",
            "Epoch 99/250\n",
            "178/178 [==============================] - 52s 283ms/step - loss: 0.2502 - acc: 0.9001 - val_loss: 0.4434 - val_acc: 0.8369\n",
            "Epoch 100/250\n",
            "178/178 [==============================] - 50s 277ms/step - loss: 0.2617 - acc: 0.8910 - val_loss: 0.4151 - val_acc: 0.8432\n",
            "Epoch 101/250\n",
            "178/178 [==============================] - 51s 280ms/step - loss: 0.2388 - acc: 0.8999 - val_loss: 0.4275 - val_acc: 0.8358\n",
            "Epoch 102/250\n",
            "178/178 [==============================] - 51s 282ms/step - loss: 0.2600 - acc: 0.8927 - val_loss: 0.4177 - val_acc: 0.8475\n",
            "Epoch 103/250\n",
            "178/178 [==============================] - 50s 273ms/step - loss: 0.2261 - acc: 0.9065 - val_loss: 0.4166 - val_acc: 0.8528\n",
            "Epoch 104/250\n",
            "178/178 [==============================] - 50s 278ms/step - loss: 0.2329 - acc: 0.9044 - val_loss: 0.4878 - val_acc: 0.8294\n",
            "Epoch 105/250\n",
            "178/178 [==============================] - 51s 281ms/step - loss: 0.2335 - acc: 0.9033 - val_loss: 0.4221 - val_acc: 0.8453\n",
            "Epoch 106/250\n",
            "178/178 [==============================] - 51s 280ms/step - loss: 0.2293 - acc: 0.9090 - val_loss: 0.4687 - val_acc: 0.8305\n",
            "Epoch 107/250\n",
            "178/178 [==============================] - 51s 281ms/step - loss: 0.2342 - acc: 0.8991 - val_loss: 0.4451 - val_acc: 0.8358\n",
            "Epoch 108/250\n",
            "178/178 [==============================] - 50s 277ms/step - loss: 0.2091 - acc: 0.9206 - val_loss: 0.4613 - val_acc: 0.8422\n",
            "Epoch 109/250\n",
            "178/178 [==============================] - 50s 277ms/step - loss: 0.2396 - acc: 0.9001 - val_loss: 0.4631 - val_acc: 0.8337\n",
            "Epoch 110/250\n",
            "178/178 [==============================] - 52s 288ms/step - loss: 0.2139 - acc: 0.9153 - val_loss: 0.4564 - val_acc: 0.8347\n",
            "Epoch 111/250\n",
            "178/178 [==============================] - 50s 278ms/step - loss: 0.2269 - acc: 0.9061 - val_loss: 0.4743 - val_acc: 0.8284\n",
            "Epoch 112/250\n",
            "178/178 [==============================] - 50s 279ms/step - loss: 0.2123 - acc: 0.9139 - val_loss: 0.4654 - val_acc: 0.8347\n",
            "Epoch 113/250\n",
            "178/178 [==============================] - 51s 280ms/step - loss: 0.2130 - acc: 0.9128 - val_loss: 0.4618 - val_acc: 0.8432\n",
            "Epoch 114/250\n",
            "178/178 [==============================] - 51s 284ms/step - loss: 0.2280 - acc: 0.9104 - val_loss: 0.4224 - val_acc: 0.8496\n",
            "Epoch 115/250\n",
            "178/178 [==============================] - 49s 273ms/step - loss: 0.2216 - acc: 0.9093 - val_loss: 0.4413 - val_acc: 0.8485\n",
            "Epoch 116/250\n",
            "178/178 [==============================] - 50s 276ms/step - loss: 0.2166 - acc: 0.9097 - val_loss: 0.4476 - val_acc: 0.8369\n",
            "Epoch 117/250\n",
            "178/178 [==============================] - 51s 283ms/step - loss: 0.2111 - acc: 0.9107 - val_loss: 0.4446 - val_acc: 0.8464\n",
            "Epoch 118/250\n",
            "178/178 [==============================] - 50s 275ms/step - loss: 0.2027 - acc: 0.9111 - val_loss: 0.4601 - val_acc: 0.8400\n",
            "Epoch 119/250\n",
            "178/178 [==============================] - 50s 275ms/step - loss: 0.2146 - acc: 0.9114 - val_loss: 0.4735 - val_acc: 0.8379\n",
            "Epoch 120/250\n",
            "178/178 [==============================] - 51s 276ms/step - loss: 0.2054 - acc: 0.9146 - val_loss: 0.4630 - val_acc: 0.8443\n",
            "Epoch 121/250\n",
            "178/178 [==============================] - 53s 291ms/step - loss: 0.1961 - acc: 0.9227 - val_loss: 0.4632 - val_acc: 0.8411\n",
            "Epoch 122/250\n",
            "178/178 [==============================] - 51s 279ms/step - loss: 0.2103 - acc: 0.9174 - val_loss: 0.4978 - val_acc: 0.8485\n",
            "Epoch 123/250\n",
            "178/178 [==============================] - 50s 275ms/step - loss: 0.2043 - acc: 0.9206 - val_loss: 0.5023 - val_acc: 0.8390\n",
            "Epoch 124/250\n",
            "178/178 [==============================] - 50s 275ms/step - loss: 0.2082 - acc: 0.9199 - val_loss: 0.4678 - val_acc: 0.8528\n",
            "Epoch 125/250\n",
            "178/178 [==============================] - 50s 276ms/step - loss: 0.2047 - acc: 0.9174 - val_loss: 0.4866 - val_acc: 0.8453\n",
            "Epoch 126/250\n",
            "178/178 [==============================] - 50s 276ms/step - loss: 0.1859 - acc: 0.9241 - val_loss: 0.4899 - val_acc: 0.8517\n",
            "Epoch 127/250\n",
            "178/178 [==============================] - 50s 277ms/step - loss: 0.1740 - acc: 0.9270 - val_loss: 0.5688 - val_acc: 0.8316\n",
            "Epoch 128/250\n",
            "178/178 [==============================] - 50s 276ms/step - loss: 0.2031 - acc: 0.9181 - val_loss: 0.5138 - val_acc: 0.8337\n",
            "Epoch 129/250\n",
            "178/178 [==============================] - 52s 286ms/step - loss: 0.2050 - acc: 0.9220 - val_loss: 0.5172 - val_acc: 0.8379\n",
            "Epoch 130/250\n",
            "178/178 [==============================] - 51s 279ms/step - loss: 0.1814 - acc: 0.9284 - val_loss: 0.4675 - val_acc: 0.8528\n",
            "Epoch 131/250\n",
            "178/178 [==============================] - 50s 275ms/step - loss: 0.2016 - acc: 0.9178 - val_loss: 0.4753 - val_acc: 0.8400\n",
            "Epoch 132/250\n",
            "178/178 [==============================] - 51s 278ms/step - loss: 0.1902 - acc: 0.9199 - val_loss: 0.4887 - val_acc: 0.8517\n",
            "Epoch 133/250\n",
            "178/178 [==============================] - 50s 276ms/step - loss: 0.1708 - acc: 0.9372 - val_loss: 0.5260 - val_acc: 0.8369\n",
            "Epoch 134/250\n",
            "178/178 [==============================] - 51s 280ms/step - loss: 0.1852 - acc: 0.9263 - val_loss: 0.5256 - val_acc: 0.8453\n",
            "Epoch 135/250\n",
            "178/178 [==============================] - 53s 293ms/step - loss: 0.1785 - acc: 0.9273 - val_loss: 0.4715 - val_acc: 0.8496\n",
            "Epoch 136/250\n",
            "178/178 [==============================] - 51s 280ms/step - loss: 0.1793 - acc: 0.9294 - val_loss: 0.5539 - val_acc: 0.8411\n",
            "Epoch 137/250\n",
            "178/178 [==============================] - 50s 276ms/step - loss: 0.1768 - acc: 0.9319 - val_loss: 0.5082 - val_acc: 0.8422\n",
            "Epoch 138/250\n",
            "178/178 [==============================] - 50s 278ms/step - loss: 0.1750 - acc: 0.9340 - val_loss: 0.5325 - val_acc: 0.8379\n",
            "Epoch 139/250\n",
            "178/178 [==============================] - 50s 276ms/step - loss: 0.1530 - acc: 0.9425 - val_loss: 0.4998 - val_acc: 0.8549\n",
            "Epoch 140/250\n",
            "178/178 [==============================] - 50s 276ms/step - loss: 0.1726 - acc: 0.9305 - val_loss: 0.4929 - val_acc: 0.8538\n",
            "Epoch 141/250\n",
            "178/178 [==============================] - 50s 278ms/step - loss: 0.1546 - acc: 0.9397 - val_loss: 0.5079 - val_acc: 0.8549\n",
            "Epoch 142/250\n",
            "178/178 [==============================] - 52s 289ms/step - loss: 0.1709 - acc: 0.9315 - val_loss: 0.4882 - val_acc: 0.8528\n",
            "Epoch 143/250\n",
            "178/178 [==============================] - 51s 279ms/step - loss: 0.1774 - acc: 0.9252 - val_loss: 0.4878 - val_acc: 0.8422\n",
            "Epoch 144/250\n",
            "178/178 [==============================] - 53s 287ms/step - loss: 0.1700 - acc: 0.9337 - val_loss: 0.4696 - val_acc: 0.8506\n",
            "Epoch 145/250\n",
            "178/178 [==============================] - 50s 277ms/step - loss: 0.1537 - acc: 0.9411 - val_loss: 0.5498 - val_acc: 0.8411\n",
            "Epoch 146/250\n",
            "178/178 [==============================] - 50s 277ms/step - loss: 0.1658 - acc: 0.9323 - val_loss: 0.5314 - val_acc: 0.8464\n",
            "Epoch 147/250\n",
            "178/178 [==============================] - 51s 281ms/step - loss: 0.1727 - acc: 0.9259 - val_loss: 0.5473 - val_acc: 0.8369\n",
            "Epoch 148/250\n",
            "178/178 [==============================] - 50s 276ms/step - loss: 0.1748 - acc: 0.9344 - val_loss: 0.5390 - val_acc: 0.8337\n",
            "Epoch 149/250\n",
            "178/178 [==============================] - 53s 292ms/step - loss: 0.1632 - acc: 0.9358 - val_loss: 0.5706 - val_acc: 0.8337\n",
            "Epoch 150/250\n",
            "178/178 [==============================] - 51s 281ms/step - loss: 0.1491 - acc: 0.9379 - val_loss: 0.5223 - val_acc: 0.8411\n",
            "Epoch 151/250\n",
            "178/178 [==============================] - 50s 276ms/step - loss: 0.1302 - acc: 0.9510 - val_loss: 0.5733 - val_acc: 0.8422\n",
            "Epoch 152/250\n",
            "178/178 [==============================] - 50s 276ms/step - loss: 0.1634 - acc: 0.9375 - val_loss: 0.5445 - val_acc: 0.8337\n",
            "Epoch 153/250\n",
            "178/178 [==============================] - 50s 276ms/step - loss: 0.1550 - acc: 0.9411 - val_loss: 0.5133 - val_acc: 0.8411\n",
            "Epoch 154/250\n",
            "178/178 [==============================] - 50s 278ms/step - loss: 0.1517 - acc: 0.9439 - val_loss: 0.5167 - val_acc: 0.8485\n",
            "Epoch 155/250\n",
            "178/178 [==============================] - 50s 276ms/step - loss: 0.1771 - acc: 0.9301 - val_loss: 0.5479 - val_acc: 0.8305\n",
            "Epoch 156/250\n",
            "178/178 [==============================] - 50s 279ms/step - loss: 0.1603 - acc: 0.9351 - val_loss: 0.5552 - val_acc: 0.8326\n",
            "Epoch 157/250\n",
            "178/178 [==============================] - 49s 272ms/step - loss: 0.1486 - acc: 0.9400 - val_loss: 0.5599 - val_acc: 0.8390\n",
            "Epoch 158/250\n",
            "178/178 [==============================] - 52s 290ms/step - loss: 0.1411 - acc: 0.9450 - val_loss: 0.5318 - val_acc: 0.8538\n",
            "Epoch 159/250\n",
            "178/178 [==============================] - 52s 288ms/step - loss: 0.1379 - acc: 0.9446 - val_loss: 0.5550 - val_acc: 0.8400\n",
            "Epoch 160/250\n",
            "178/178 [==============================] - 50s 276ms/step - loss: 0.1570 - acc: 0.9386 - val_loss: 0.5396 - val_acc: 0.8528\n",
            "Epoch 161/250\n",
            "178/178 [==============================] - 54s 293ms/step - loss: 0.1464 - acc: 0.9390 - val_loss: 0.5243 - val_acc: 0.8400\n",
            "Epoch 162/250\n",
            "178/178 [==============================] - 52s 280ms/step - loss: 0.1447 - acc: 0.9404 - val_loss: 0.5594 - val_acc: 0.8326\n",
            "Epoch 163/250\n",
            "178/178 [==============================] - 51s 278ms/step - loss: 0.1325 - acc: 0.9492 - val_loss: 0.6323 - val_acc: 0.8347\n",
            "Epoch 164/250\n",
            "178/178 [==============================] - 51s 279ms/step - loss: 0.1431 - acc: 0.9425 - val_loss: 0.5358 - val_acc: 0.8538\n",
            "Epoch 165/250\n",
            "178/178 [==============================] - 51s 279ms/step - loss: 0.1385 - acc: 0.9435 - val_loss: 0.5797 - val_acc: 0.8496\n",
            "Epoch 166/250\n",
            "178/178 [==============================] - 50s 278ms/step - loss: 0.1553 - acc: 0.9351 - val_loss: 0.5535 - val_acc: 0.8475\n",
            "Epoch 167/250\n",
            "178/178 [==============================] - 55s 297ms/step - loss: 0.1334 - acc: 0.9467 - val_loss: 0.5279 - val_acc: 0.8538\n",
            "Epoch 168/250\n",
            "178/178 [==============================] - 51s 280ms/step - loss: 0.1352 - acc: 0.9453 - val_loss: 0.6290 - val_acc: 0.8422\n",
            "Epoch 169/250\n",
            "178/178 [==============================] - 50s 276ms/step - loss: 0.1364 - acc: 0.9481 - val_loss: 0.5684 - val_acc: 0.8528\n",
            "Epoch 170/250\n",
            "178/178 [==============================] - 45s 251ms/step - loss: 0.1497 - acc: 0.9418 - val_loss: 0.5854 - val_acc: 0.8528\n",
            "Epoch 171/250\n",
            "178/178 [==============================] - 51s 277ms/step - loss: 0.1329 - acc: 0.9460 - val_loss: 0.5504 - val_acc: 0.8475\n",
            "Epoch 172/250\n",
            "178/178 [==============================] - 51s 283ms/step - loss: 0.1228 - acc: 0.9545 - val_loss: 0.5101 - val_acc: 0.8559\n",
            "Epoch 173/250\n",
            "178/178 [==============================] - 52s 290ms/step - loss: 0.1280 - acc: 0.9510 - val_loss: 0.5324 - val_acc: 0.8591\n",
            "Epoch 174/250\n",
            "178/178 [==============================] - 50s 275ms/step - loss: 0.1300 - acc: 0.9481 - val_loss: 0.5127 - val_acc: 0.8644\n",
            "Epoch 175/250\n",
            "178/178 [==============================] - 49s 273ms/step - loss: 0.1442 - acc: 0.9464 - val_loss: 0.5504 - val_acc: 0.8538\n",
            "Epoch 176/250\n",
            "178/178 [==============================] - 49s 271ms/step - loss: 0.1273 - acc: 0.9531 - val_loss: 0.5449 - val_acc: 0.8581\n",
            "Epoch 177/250\n",
            "178/178 [==============================] - 46s 252ms/step - loss: 0.1269 - acc: 0.9464 - val_loss: 0.5326 - val_acc: 0.8549\n",
            "Epoch 178/250\n",
            "178/178 [==============================] - 52s 286ms/step - loss: 0.1219 - acc: 0.9488 - val_loss: 0.5169 - val_acc: 0.8581\n",
            "Epoch 179/250\n",
            "178/178 [==============================] - 50s 278ms/step - loss: 0.1388 - acc: 0.9450 - val_loss: 0.5696 - val_acc: 0.8496\n",
            "Epoch 180/250\n",
            "178/178 [==============================] - 49s 270ms/step - loss: 0.1225 - acc: 0.9517 - val_loss: 0.5432 - val_acc: 0.8591\n",
            "Epoch 181/250\n",
            "178/178 [==============================] - 50s 270ms/step - loss: 0.1356 - acc: 0.9499 - val_loss: 0.5335 - val_acc: 0.8602\n",
            "Epoch 182/250\n",
            "178/178 [==============================] - 49s 269ms/step - loss: 0.1291 - acc: 0.9495 - val_loss: 0.5453 - val_acc: 0.8591\n",
            "Epoch 183/250\n",
            "178/178 [==============================] - 51s 283ms/step - loss: 0.1149 - acc: 0.9524 - val_loss: 0.5495 - val_acc: 0.8623\n",
            "Epoch 184/250\n",
            "178/178 [==============================] - 47s 256ms/step - loss: 0.1289 - acc: 0.9527 - val_loss: 0.5788 - val_acc: 0.8581\n",
            "Epoch 185/250\n",
            "178/178 [==============================] - 49s 272ms/step - loss: 0.1107 - acc: 0.9566 - val_loss: 0.5981 - val_acc: 0.8570\n",
            "Epoch 186/250\n",
            "178/178 [==============================] - 49s 273ms/step - loss: 0.1375 - acc: 0.9488 - val_loss: 0.5908 - val_acc: 0.8506\n",
            "Epoch 187/250\n",
            "178/178 [==============================] - 50s 277ms/step - loss: 0.1178 - acc: 0.9577 - val_loss: 0.5703 - val_acc: 0.8549\n",
            "Epoch 188/250\n",
            "178/178 [==============================] - 49s 271ms/step - loss: 0.1122 - acc: 0.9548 - val_loss: 0.5829 - val_acc: 0.8591\n",
            "Epoch 189/250\n",
            "178/178 [==============================] - 53s 286ms/step - loss: 0.1115 - acc: 0.9538 - val_loss: 0.5990 - val_acc: 0.8559\n",
            "Epoch 190/250\n",
            "178/178 [==============================] - 49s 272ms/step - loss: 0.1147 - acc: 0.9548 - val_loss: 0.5786 - val_acc: 0.8559\n",
            "Epoch 191/250\n",
            "178/178 [==============================] - 50s 276ms/step - loss: 0.1115 - acc: 0.9570 - val_loss: 0.5830 - val_acc: 0.8528\n",
            "Epoch 192/250\n",
            "178/178 [==============================] - 49s 273ms/step - loss: 0.1208 - acc: 0.9594 - val_loss: 0.5603 - val_acc: 0.8623\n",
            "Epoch 193/250\n",
            "178/178 [==============================] - 51s 279ms/step - loss: 0.1138 - acc: 0.9527 - val_loss: 0.5738 - val_acc: 0.8602\n",
            "Epoch 194/250\n",
            "178/178 [==============================] - 50s 274ms/step - loss: 0.1119 - acc: 0.9531 - val_loss: 0.5860 - val_acc: 0.8475\n",
            "Epoch 195/250\n",
            "178/178 [==============================] - 50s 278ms/step - loss: 0.1179 - acc: 0.9534 - val_loss: 0.5658 - val_acc: 0.8528\n",
            "Epoch 196/250\n",
            "178/178 [==============================] - 50s 276ms/step - loss: 0.1174 - acc: 0.9520 - val_loss: 0.5808 - val_acc: 0.8633\n",
            "Epoch 197/250\n",
            "178/178 [==============================] - 51s 279ms/step - loss: 0.1299 - acc: 0.9478 - val_loss: 0.5675 - val_acc: 0.8612\n",
            "Epoch 198/250\n",
            "178/178 [==============================] - 48s 268ms/step - loss: 0.1170 - acc: 0.9552 - val_loss: 0.5811 - val_acc: 0.8591\n",
            "Epoch 199/250\n",
            "178/178 [==============================] - 51s 278ms/step - loss: 0.1180 - acc: 0.9555 - val_loss: 0.5917 - val_acc: 0.8570\n",
            "Epoch 200/250\n",
            "178/178 [==============================] - 51s 280ms/step - loss: 0.1173 - acc: 0.9552 - val_loss: 0.7911 - val_acc: 0.8199\n",
            "Epoch 201/250\n",
            "178/178 [==============================] - 49s 273ms/step - loss: 0.1063 - acc: 0.9591 - val_loss: 0.5797 - val_acc: 0.8528\n",
            "Epoch 202/250\n",
            "178/178 [==============================] - 47s 261ms/step - loss: 0.0964 - acc: 0.9633 - val_loss: 0.5738 - val_acc: 0.8602\n",
            "Epoch 203/250\n",
            "178/178 [==============================] - 49s 270ms/step - loss: 0.1113 - acc: 0.9552 - val_loss: 0.6426 - val_acc: 0.8453\n",
            "Epoch 204/250\n",
            "178/178 [==============================] - 49s 269ms/step - loss: 0.1024 - acc: 0.9612 - val_loss: 0.6144 - val_acc: 0.8506\n",
            "Epoch 205/250\n",
            "178/178 [==============================] - 52s 285ms/step - loss: 0.1065 - acc: 0.9605 - val_loss: 0.5854 - val_acc: 0.8591\n",
            "Epoch 206/250\n",
            "178/178 [==============================] - 49s 273ms/step - loss: 0.0994 - acc: 0.9654 - val_loss: 0.5881 - val_acc: 0.8655\n",
            "Epoch 207/250\n",
            "178/178 [==============================] - 49s 269ms/step - loss: 0.1030 - acc: 0.9591 - val_loss: 0.6532 - val_acc: 0.8506\n",
            "Epoch 208/250\n",
            "178/178 [==============================] - 49s 269ms/step - loss: 0.1081 - acc: 0.9555 - val_loss: 0.6321 - val_acc: 0.8549\n",
            "Epoch 209/250\n",
            "178/178 [==============================] - 48s 268ms/step - loss: 0.0925 - acc: 0.9615 - val_loss: 0.5536 - val_acc: 0.8676\n",
            "Epoch 210/250\n",
            "178/178 [==============================] - 49s 273ms/step - loss: 0.0996 - acc: 0.9591 - val_loss: 0.5827 - val_acc: 0.8655\n",
            "Epoch 211/250\n",
            "178/178 [==============================] - 52s 285ms/step - loss: 0.0924 - acc: 0.9615 - val_loss: 0.6956 - val_acc: 0.8390\n",
            "Epoch 212/250\n",
            "178/178 [==============================] - 49s 270ms/step - loss: 0.1060 - acc: 0.9584 - val_loss: 0.6547 - val_acc: 0.8591\n",
            "Epoch 213/250\n",
            "178/178 [==============================] - 49s 268ms/step - loss: 0.0895 - acc: 0.9661 - val_loss: 0.6340 - val_acc: 0.8665\n",
            "Epoch 214/250\n",
            "178/178 [==============================] - 50s 273ms/step - loss: 0.0966 - acc: 0.9633 - val_loss: 0.5906 - val_acc: 0.8591\n",
            "Epoch 215/250\n",
            "178/178 [==============================] - 50s 275ms/step - loss: 0.0935 - acc: 0.9661 - val_loss: 0.6107 - val_acc: 0.8506\n",
            "Epoch 216/250\n",
            "178/178 [==============================] - 49s 273ms/step - loss: 0.0948 - acc: 0.9629 - val_loss: 0.5875 - val_acc: 0.8644\n",
            "Epoch 217/250\n",
            "178/178 [==============================] - 49s 273ms/step - loss: 0.0983 - acc: 0.9598 - val_loss: 0.6258 - val_acc: 0.8453\n",
            "Epoch 218/250\n",
            "178/178 [==============================] - 49s 270ms/step - loss: 0.0992 - acc: 0.9608 - val_loss: 0.5772 - val_acc: 0.8718\n",
            "Epoch 219/250\n",
            "178/178 [==============================] - 49s 269ms/step - loss: 0.0969 - acc: 0.9605 - val_loss: 0.5895 - val_acc: 0.8623\n",
            "Epoch 220/250\n",
            "178/178 [==============================] - 49s 270ms/step - loss: 0.1250 - acc: 0.9555 - val_loss: 0.6294 - val_acc: 0.8528\n",
            "Epoch 221/250\n",
            "178/178 [==============================] - 51s 283ms/step - loss: 0.0940 - acc: 0.9647 - val_loss: 0.5727 - val_acc: 0.8655\n",
            "Epoch 222/250\n",
            "178/178 [==============================] - 51s 278ms/step - loss: 0.0974 - acc: 0.9615 - val_loss: 0.5538 - val_acc: 0.8708\n",
            "Epoch 223/250\n",
            "178/178 [==============================] - 50s 273ms/step - loss: 0.0940 - acc: 0.9651 - val_loss: 0.6411 - val_acc: 0.8549\n",
            "Epoch 224/250\n",
            "178/178 [==============================] - 48s 267ms/step - loss: 0.0991 - acc: 0.9612 - val_loss: 0.5929 - val_acc: 0.8633\n",
            "Epoch 225/250\n",
            "178/178 [==============================] - 53s 291ms/step - loss: 0.0964 - acc: 0.9629 - val_loss: 0.5567 - val_acc: 0.8686\n",
            "Epoch 226/250\n",
            "178/178 [==============================] - 49s 269ms/step - loss: 0.0980 - acc: 0.9640 - val_loss: 0.5634 - val_acc: 0.8676\n",
            "Epoch 227/250\n",
            "178/178 [==============================] - 50s 274ms/step - loss: 0.1019 - acc: 0.9594 - val_loss: 0.5894 - val_acc: 0.8633\n",
            "Epoch 228/250\n",
            "178/178 [==============================] - 49s 272ms/step - loss: 0.0919 - acc: 0.9647 - val_loss: 0.6389 - val_acc: 0.8559\n",
            "Epoch 229/250\n",
            "178/178 [==============================] - 46s 255ms/step - loss: 0.0845 - acc: 0.9689 - val_loss: 0.5860 - val_acc: 0.8612\n",
            "Epoch 230/250\n",
            "178/178 [==============================] - 52s 276ms/step - loss: 0.0929 - acc: 0.9668 - val_loss: 0.6009 - val_acc: 0.8591\n",
            "Epoch 231/250\n",
            "178/178 [==============================] - 49s 268ms/step - loss: 0.1028 - acc: 0.9612 - val_loss: 0.5948 - val_acc: 0.8644\n",
            "Epoch 232/250\n",
            "178/178 [==============================] - 50s 272ms/step - loss: 0.0983 - acc: 0.9633 - val_loss: 0.5724 - val_acc: 0.8591\n",
            "Epoch 233/250\n",
            "178/178 [==============================] - 49s 274ms/step - loss: 0.0821 - acc: 0.9686 - val_loss: 0.5990 - val_acc: 0.8644\n",
            "Epoch 234/250\n",
            "178/178 [==============================] - 51s 283ms/step - loss: 0.0959 - acc: 0.9675 - val_loss: 0.5327 - val_acc: 0.8686\n",
            "Epoch 235/250\n",
            "178/178 [==============================] - 49s 272ms/step - loss: 0.0879 - acc: 0.9668 - val_loss: 0.6183 - val_acc: 0.8602\n",
            "Epoch 236/250\n",
            "178/178 [==============================] - 49s 270ms/step - loss: 0.0739 - acc: 0.9742 - val_loss: 0.5888 - val_acc: 0.8602\n",
            "Epoch 237/250\n",
            "178/178 [==============================] - 49s 269ms/step - loss: 0.0717 - acc: 0.9714 - val_loss: 0.6725 - val_acc: 0.8422\n",
            "Epoch 238/250\n",
            "178/178 [==============================] - 49s 271ms/step - loss: 0.0855 - acc: 0.9697 - val_loss: 0.6236 - val_acc: 0.8559\n",
            "Epoch 239/250\n",
            "178/178 [==============================] - 51s 280ms/step - loss: 0.0872 - acc: 0.9668 - val_loss: 0.6721 - val_acc: 0.8517\n",
            "Epoch 240/250\n",
            "178/178 [==============================] - 50s 275ms/step - loss: 0.0924 - acc: 0.9622 - val_loss: 0.6652 - val_acc: 0.8559\n",
            "Epoch 241/250\n",
            "178/178 [==============================] - 49s 271ms/step - loss: 0.0868 - acc: 0.9693 - val_loss: 0.7350 - val_acc: 0.8422\n",
            "Epoch 242/250\n",
            "178/178 [==============================] - 49s 272ms/step - loss: 0.0985 - acc: 0.9654 - val_loss: 0.7052 - val_acc: 0.8559\n",
            "Epoch 243/250\n",
            "178/178 [==============================] - 49s 268ms/step - loss: 0.0759 - acc: 0.9704 - val_loss: 0.7449 - val_acc: 0.8517\n",
            "Epoch 244/250\n",
            "178/178 [==============================] - 51s 284ms/step - loss: 0.0813 - acc: 0.9689 - val_loss: 0.6674 - val_acc: 0.8644\n",
            "Epoch 245/250\n",
            "178/178 [==============================] - 49s 272ms/step - loss: 0.0837 - acc: 0.9651 - val_loss: 0.6518 - val_acc: 0.8549\n",
            "Epoch 246/250\n",
            "178/178 [==============================] - 49s 272ms/step - loss: 0.1018 - acc: 0.9622 - val_loss: 0.6442 - val_acc: 0.8612\n",
            "Epoch 247/250\n",
            "178/178 [==============================] - 49s 272ms/step - loss: 0.0785 - acc: 0.9711 - val_loss: 0.5959 - val_acc: 0.8612\n",
            "Epoch 248/250\n",
            "178/178 [==============================] - 49s 272ms/step - loss: 0.0707 - acc: 0.9718 - val_loss: 0.6845 - val_acc: 0.8602\n",
            "Epoch 249/250\n",
            "178/178 [==============================] - 47s 254ms/step - loss: 0.0674 - acc: 0.9749 - val_loss: 0.6249 - val_acc: 0.8633\n",
            "Epoch 250/250\n",
            "178/178 [==============================] - 50s 275ms/step - loss: 0.0807 - acc: 0.9700 - val_loss: 0.6505 - val_acc: 0.8581\n"
          ]
        }
      ]
    },
    {
      "cell_type": "code",
      "source": [
        "acc = history.history['acc']\n",
        "val_acc = history.history['val_acc']\n",
        "loss = history.history['loss']\n",
        "val_loss = history.history['val_loss']\n",
        "\n",
        "epochs_x = range(len(acc))\n",
        "\n",
        "plt.plot(epochs_x, acc, 'go', label='Training acc')\n",
        "plt.plot(epochs_x, val_acc, 'k', label='Validation acc')\n",
        "plt.title('Training and validation accuracy')\n",
        "plt.legend()\n",
        "\n",
        "plt.figure()\n",
        "\n",
        "plt.plot(epochs_x, loss, 'go', label='Training loss')\n",
        "plt.plot(epochs_x, val_loss, 'k', label='Validation loss')\n",
        "plt.title('Training and validation loss')\n",
        "plt.legend()\n",
        "\n",
        "plt.show()"
      ],
      "metadata": {
        "id": "kwylTJpTP5XI",
        "colab": {
          "base_uri": "https://localhost:8080/",
          "height": 545
        },
        "outputId": "2105671f-63a6-4550-8493-80b800d58d77"
      },
      "execution_count": 16,
      "outputs": [
        {
          "output_type": "display_data",
          "data": {
            "text/plain": [
              "<Figure size 432x288 with 1 Axes>"
            ],
            "image/png": "[encoded data removed]"
          },
          "metadata": {
            "needs_background": "light"
          }
        },
        {
          "output_type": "display_data",
          "data": {
            "text/plain": [
              "<Figure size 432x288 with 1 Axes>"
            ],
            "image/png": "[encoded data removed]"
          },
          "metadata": {
            "needs_background": "light"
          }
        }
      ]
    },
    {
      "cell_type": "markdown",
      "source": [
        "#Download the model"
      ],
      "metadata": {
        "id": "lD-vKaoHQAFd"
      }
    },
    {
      "cell_type": "code",
      "source": [
        "os.makedirs('/content/drive/My Drive/cut_panoramic/Model', exist_ok=True)\n",
        "model.save('/content/drive/My Drive/cut_panoramic/Model/Classification/Gender/New_3_รอบที่3_Gender_250_New_Unfreez.h5')"
      ],
      "metadata": {
        "id": "74dL7-HLP_Sh"
      },
      "execution_count": 17,
      "outputs": []
    },
    {
      "cell_type": "code",
      "source": [
        "# from google.colab import files\n",
        "# files.download('/content/drive/My Drive/cut_panoramic/Model/2_รอบที่2_Gender_250.h5')"
      ],
      "metadata": {
        "id": "qcPW-brHQDpc"
      },
      "execution_count": 18,
      "outputs": []
    },
    {
      "cell_type": "code",
      "source": [],
      "metadata": {
        "id": "r5WoXVo8mVpF"
      },
      "execution_count": 18,
      "outputs": []
    }
  ]
}