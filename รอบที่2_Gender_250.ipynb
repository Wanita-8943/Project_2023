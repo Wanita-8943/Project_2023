{
  "nbformat": 4,
  "nbformat_minor": 0,
  "metadata": {
    "colab": {
      "provenance": [],
      "include_colab_link": true
    },
    "kernelspec": {
      "name": "python3",
      "display_name": "Python 3"
    },
    "language_info": {
      "name": "python"
    },
    "accelerator": "GPU",
    "gpuClass": "standard"
  },
  "cells": [
    {
      "cell_type": "markdown",
      "metadata": {
        "id": "view-in-github",
        "colab_type": "text"
      },
      "source": [
        "<a href=\"https://colab.research.google.com/github/Wanita-8943/Project_2023/blob/main/%E0%B8%A3%E0%B8%AD%E0%B8%9A%E0%B8%97%E0%B8%B5%E0%B9%882_Gender_250.ipynb\" target=\"_parent\"><img src=\"https://colab.research.google.com/assets/colab-badge.svg\" alt=\"Open In Colab\"/></a>"
      ]
    },
    {
      "cell_type": "code",
      "execution_count": 1,
      "metadata": {
        "id": "KKSs7cyoPHcD"
      },
      "outputs": [],
      "source": [
        "import pandas as pd\n",
        "import shutil"
      ]
    },
    {
      "cell_type": "code",
      "source": [
        "from google.colab import drive\n",
        "drive.mount('/content/drive')"
      ],
      "metadata": {
        "colab": {
          "base_uri": "https://localhost:8080/"
        },
        "id": "Klm1B91QlvKd",
        "outputId": "d8d18c44-4df9-4d30-996c-e6546149f953"
      },
      "execution_count": 2,
      "outputs": [
        {
          "output_type": "stream",
          "name": "stdout",
          "text": [
            "Mounted at /content/drive\n"
          ]
        }
      ]
    },
    {
      "cell_type": "code",
      "source": [
        "from tensorflow.keras import models\n",
        "from tensorflow.keras import layers\n",
        "from tensorflow.keras import optimizers\n",
        "import os\n",
        "import glob\n",
        "import shutil\n",
        "import sys\n",
        "import numpy as np\n",
        "from skimage.io import imread\n",
        "import matplotlib.pyplot as plt\n",
        "from IPython.display import Image\n",
        "%matplotlib inline"
      ],
      "metadata": {
        "id": "1pX9g1HxPM2f"
      },
      "execution_count": 3,
      "outputs": []
    },
    {
      "cell_type": "code",
      "source": [
        "batch_size = 16\n",
        "width = 150\n",
        "height = 150\n",
        "epochs = 250\n",
        "NUM_TRAIN = 2850\n",
        "NUM_TEST = 950\n",
        "dropout_rate = 0.2\n",
        "input_shape = (height, width, 3)"
      ],
      "metadata": {
        "id": "eSFtvGyvPM6O"
      },
      "execution_count": 4,
      "outputs": []
    },
    {
      "cell_type": "code",
      "source": [
        "#ดึงข้อมูลใน Github มาใช้\n",
        "import os\n",
        "%cd /content\n",
        "if not os.path.isdir(\"efficientnet_keras_transfer_learning\"):\n",
        " !git clone https://github.com/Wanita-8943/efficientnet_keras_transfer_learning\n",
        "%cd efficientnet_keras_transfer_learning/"
      ],
      "metadata": {
        "colab": {
          "base_uri": "https://localhost:8080/"
        },
        "id": "lb4K4CsMPNAW",
        "outputId": "739e054e-dca3-49a7-f20d-522714ba9fcd"
      },
      "execution_count": 5,
      "outputs": [
        {
          "output_type": "stream",
          "name": "stdout",
          "text": [
            "/content\n",
            "Cloning into 'efficientnet_keras_transfer_learning'...\n",
            "remote: Enumerating objects: 837, done.\u001b[K\n",
            "remote: Counting objects: 100% (359/359), done.\u001b[K\n",
            "remote: Compressing objects: 100% (124/124), done.\u001b[K\n",
            "remote: Total 837 (delta 255), reused 328 (delta 235), pack-reused 478\u001b[K\n",
            "Receiving objects: 100% (837/837), 13.82 MiB | 18.19 MiB/s, done.\n",
            "Resolving deltas: 100% (495/495), done.\n",
            "/content/efficientnet_keras_transfer_learning\n"
          ]
        }
      ]
    },
    {
      "cell_type": "code",
      "source": [
        "# Options: EfficientNetB0, EfficientNetB1, EfficientNetB2, EfficientNetB3\n",
        "# Higher the number, the more complex the model is.\n",
        "from efficientnet import EfficientNetB0 as Net\n",
        "from efficientnet import center_crop_and_resize, preprocess_input"
      ],
      "metadata": {
        "id": "eyBg0dLKPND3"
      },
      "execution_count": 6,
      "outputs": []
    },
    {
      "cell_type": "code",
      "source": [
        "base_dir = '/content/drive/MyDrive/TVT_Gender'\n",
        "os.makedirs(base_dir, exist_ok=True)\n",
        "\n",
        "# Directories for our training,\n",
        "# validation and test splits\n",
        "train_dir = os.path.join(base_dir, 'train')\n",
        "os.makedirs(train_dir, exist_ok=True)\n",
        "validation_dir = os.path.join(base_dir, 'validation')\n",
        "os.makedirs(validation_dir, exist_ok=True)\n",
        "test_dir = os.path.join(base_dir, 'test')\n",
        "os.makedirs(test_dir, exist_ok=True)"
      ],
      "metadata": {
        "id": "Jwpq_-KvPef8"
      },
      "execution_count": 7,
      "outputs": []
    },
    {
      "cell_type": "markdown",
      "source": [
        "#load model"
      ],
      "metadata": {
        "id": "od-ZSNm5PoGy"
      }
    },
    {
      "cell_type": "code",
      "source": [
        "import sys\n",
        "sys.path.append('/content/drive/MyDrive/cut_panoramic/Model/1_รอบแรก_Gender_250.h5')\n",
        "\n",
        "from efficientnet.layers import Swish, DropConnect\n",
        "from efficientnet.model import ConvKernalInitializer\n",
        "from tensorflow.keras.utils import get_custom_objects\n",
        "\n",
        "get_custom_objects().update({\n",
        "    'ConvKernalInitializer': ConvKernalInitializer,\n",
        "    'Swish': Swish,\n",
        "    'DropConnect':DropConnect\n",
        "})"
      ],
      "metadata": {
        "id": "n5iPL5MNPkhE"
      },
      "execution_count": 8,
      "outputs": []
    },
    {
      "cell_type": "code",
      "source": [
        "#load model \n",
        "from tensorflow.keras.models import load_model\n",
        "model = load_model('/content/drive/MyDrive/cut_panoramic/Model/1_รอบแรก_Gender_250.h5')\n",
        "height = width = model.input_shape[1]"
      ],
      "metadata": {
        "id": "plYz49xMPkly",
        "colab": {
          "base_uri": "https://localhost:8080/"
        },
        "outputId": "c4799001-4ed4-4218-de43-e80221b6a834"
      },
      "execution_count": 9,
      "outputs": [
        {
          "output_type": "stream",
          "name": "stderr",
          "text": [
            "WARNING:tensorflow:From /usr/local/lib/python3.8/dist-packages/tensorflow/python/autograph/pyct/static_analysis/liveness.py:83: Analyzer.lamba_check (from tensorflow.python.autograph.pyct.static_analysis.liveness) is deprecated and will be removed after 2023-09-23.\n",
            "Instructions for updating:\n",
            "Lambda fuctions will be no more assumed to be used in the statement where they are used, or at least in the same block. https://github.com/tensorflow/tensorflow/issues/56089\n"
          ]
        }
      ]
    },
    {
      "cell_type": "code",
      "source": [
        "model.summary()"
      ],
      "metadata": {
        "colab": {
          "base_uri": "https://localhost:8080/"
        },
        "id": "z6IOPBflFbvc",
        "outputId": "00fc1f1d-2bda-4970-f2bf-bf2afcaf8c22"
      },
      "execution_count": 10,
      "outputs": [
        {
          "output_type": "stream",
          "name": "stdout",
          "text": [
            "Model: \"sequential\"\n",
            "_________________________________________________________________\n",
            " Layer (type)                Output Shape              Param #   \n",
            "=================================================================\n",
            " efficientnet-b0 (Functional  (None, 5, 5, 1280)       4049564   \n",
            " )                                                               \n",
            "                                                                 \n",
            " gap (GlobalMaxPooling2D)    (None, 1280)              0         \n",
            "                                                                 \n",
            " dropout_out (Dropout)       (None, 1280)              0         \n",
            "                                                                 \n",
            " fc_out (Dense)              (None, 2)                 2562      \n",
            "                                                                 \n",
            "=================================================================\n",
            "Total params: 4,052,126\n",
            "Trainable params: 2,562\n",
            "Non-trainable params: 4,049,564\n",
            "_________________________________________________________________\n"
          ]
        }
      ]
    },
    {
      "cell_type": "code",
      "source": [
        "# Train ด้วย ImageDataGenerator ของ Keras ซึ่งจะเพิ่มข้อมูลเสริมระหว่างการฝึกเพื่อลดโอกาสเกิด overfitting\n",
        "#overfitting เกิดจากข้อมูลที่ซับซ้อนกันเกินไป\n",
        "from tensorflow.keras.preprocessing.image import ImageDataGenerator\n",
        "\n",
        "train_datagen = ImageDataGenerator(\n",
        "      rescale=1./255, #โมเดลส่วนใหญ่ต้องใช้ RGB ในช่วง 0–1\n",
        "      rotation_range=40,\n",
        "      width_shift_range=0.2,\n",
        "      height_shift_range=0.2,\n",
        "      shear_range=0.2,\n",
        "      zoom_range=0.2,\n",
        "      horizontal_flip=True,\n",
        "      fill_mode='nearest')\n",
        "\n",
        "# Note that the validation data should not be augmented!\n",
        "test_datagen = ImageDataGenerator(rescale=1./255)\n",
        "\n",
        "train_generator = train_datagen.flow_from_directory(\n",
        "        # This is the target directory #ไดเรกเป้าหมาย\n",
        "        train_dir,\n",
        "        # รูปภาพทั้งหมดจะถูกปรับขนาดตามความสูงและความกว้างของเป้าหมาย\n",
        "        target_size=(height, width),\n",
        "        batch_size=batch_size,\n",
        "        # Since we use categorical_crossentropy loss, we need categorical labels\n",
        "        #เนื่องจากเราใช้ categorical_crossentropy loss เราจึงต้องมีป้ายกำกับตามหมวดหมู่\n",
        "        class_mode='categorical')\n",
        "\n",
        "validation_generator = test_datagen.flow_from_directory( #การดึงภาพจาก Directory มาเข้าโมเดล \n",
        "        validation_dir,\n",
        "        target_size=(height, width),\n",
        "        batch_size=batch_size,\n",
        "        class_mode='categorical')"
      ],
      "metadata": {
        "colab": {
          "base_uri": "https://localhost:8080/"
        },
        "id": "KBMZbdr2Pgw4",
        "outputId": "dc0d0f4d-dc35-49c2-f8c8-e698a16f621b"
      },
      "execution_count": 11,
      "outputs": [
        {
          "output_type": "stream",
          "name": "stdout",
          "text": [
            "Found 2850 images belonging to 2 classes.\n",
            "Found 950 images belonging to 2 classes.\n"
          ]
        }
      ]
    },
    {
      "cell_type": "code",
      "source": [
        "history = model.fit_generator(\n",
        "      train_generator,\n",
        "      steps_per_epoch= NUM_TRAIN //batch_size,\n",
        "      epochs=epochs,\n",
        "      validation_data=validation_generator,\n",
        "      validation_steps= NUM_TEST //batch_size,\n",
        "      verbose=1,\n",
        "      use_multiprocessing=True,\n",
        "      workers=4)"
      ],
      "metadata": {
        "colab": {
          "base_uri": "https://localhost:8080/"
        },
        "id": "C9Cf1dwyP1PD",
        "outputId": "524f7b70-87d9-4d9f-f610-5aca75f0312c"
      },
      "execution_count": 12,
      "outputs": [
        {
          "output_type": "stream",
          "name": "stderr",
          "text": [
            "<ipython-input-12-caa7b37242a8>:1: UserWarning: `Model.fit_generator` is deprecated and will be removed in a future version. Please use `Model.fit`, which supports generators.\n",
            "  history = model.fit_generator(\n"
          ]
        },
        {
          "output_type": "stream",
          "name": "stdout",
          "text": [
            "Epoch 1/250\n",
            "178/178 [==============================] - 487s 3s/step - loss: 0.6040 - acc: 0.6729 - val_loss: 0.5720 - val_acc: 0.7097\n",
            "Epoch 2/250\n",
            "178/178 [==============================] - 45s 250ms/step - loss: 0.6199 - acc: 0.6694 - val_loss: 0.5643 - val_acc: 0.7097\n",
            "Epoch 3/250\n",
            "178/178 [==============================] - 44s 240ms/step - loss: 0.6126 - acc: 0.6687 - val_loss: 0.5635 - val_acc: 0.7140\n",
            "Epoch 4/250\n",
            "178/178 [==============================] - 43s 241ms/step - loss: 0.5992 - acc: 0.6891 - val_loss: 0.5926 - val_acc: 0.6928\n",
            "Epoch 5/250\n",
            "178/178 [==============================] - 44s 247ms/step - loss: 0.6018 - acc: 0.6824 - val_loss: 0.5701 - val_acc: 0.7055\n",
            "Epoch 6/250\n",
            "178/178 [==============================] - 44s 246ms/step - loss: 0.6082 - acc: 0.6729 - val_loss: 0.5644 - val_acc: 0.7076\n",
            "Epoch 7/250\n",
            "178/178 [==============================] - 44s 243ms/step - loss: 0.6143 - acc: 0.6722 - val_loss: 0.5608 - val_acc: 0.7161\n",
            "Epoch 8/250\n",
            "178/178 [==============================] - 44s 246ms/step - loss: 0.6181 - acc: 0.6764 - val_loss: 0.5798 - val_acc: 0.7002\n",
            "Epoch 9/250\n",
            "178/178 [==============================] - 39s 212ms/step - loss: 0.6060 - acc: 0.6658 - val_loss: 0.5924 - val_acc: 0.6917\n",
            "Epoch 10/250\n",
            "178/178 [==============================] - 44s 243ms/step - loss: 0.6006 - acc: 0.6796 - val_loss: 0.5686 - val_acc: 0.7076\n",
            "Epoch 11/250\n",
            "178/178 [==============================] - 44s 245ms/step - loss: 0.6106 - acc: 0.6768 - val_loss: 0.5673 - val_acc: 0.7097\n",
            "Epoch 12/250\n",
            "178/178 [==============================] - 44s 239ms/step - loss: 0.6064 - acc: 0.6817 - val_loss: 0.5683 - val_acc: 0.7087\n",
            "Epoch 13/250\n",
            "178/178 [==============================] - 43s 240ms/step - loss: 0.6113 - acc: 0.6701 - val_loss: 0.5770 - val_acc: 0.6992\n",
            "Epoch 14/250\n",
            "178/178 [==============================] - 40s 224ms/step - loss: 0.6174 - acc: 0.6630 - val_loss: 0.5509 - val_acc: 0.7278\n",
            "Epoch 15/250\n",
            "178/178 [==============================] - 42s 233ms/step - loss: 0.6063 - acc: 0.6778 - val_loss: 0.5713 - val_acc: 0.7087\n",
            "Epoch 16/250\n",
            "178/178 [==============================] - 43s 236ms/step - loss: 0.6101 - acc: 0.6704 - val_loss: 0.5589 - val_acc: 0.7172\n",
            "Epoch 17/250\n",
            "178/178 [==============================] - 43s 242ms/step - loss: 0.6195 - acc: 0.6644 - val_loss: 0.5630 - val_acc: 0.7108\n",
            "Epoch 18/250\n",
            "178/178 [==============================] - 44s 244ms/step - loss: 0.6147 - acc: 0.6676 - val_loss: 0.5747 - val_acc: 0.7034\n",
            "Epoch 19/250\n",
            "178/178 [==============================] - 44s 245ms/step - loss: 0.6229 - acc: 0.6616 - val_loss: 0.5642 - val_acc: 0.7140\n",
            "Epoch 20/250\n",
            "178/178 [==============================] - 45s 250ms/step - loss: 0.6178 - acc: 0.6623 - val_loss: 0.5581 - val_acc: 0.7161\n",
            "Epoch 21/250\n",
            "178/178 [==============================] - 45s 251ms/step - loss: 0.6004 - acc: 0.6704 - val_loss: 0.5613 - val_acc: 0.7161\n",
            "Epoch 22/250\n",
            "178/178 [==============================] - 45s 249ms/step - loss: 0.5994 - acc: 0.6821 - val_loss: 0.5670 - val_acc: 0.7129\n",
            "Epoch 23/250\n",
            "178/178 [==============================] - 44s 240ms/step - loss: 0.6013 - acc: 0.6867 - val_loss: 0.5600 - val_acc: 0.7193\n",
            "Epoch 24/250\n",
            "178/178 [==============================] - 43s 239ms/step - loss: 0.6062 - acc: 0.6771 - val_loss: 0.5724 - val_acc: 0.7055\n",
            "Epoch 25/250\n",
            "178/178 [==============================] - 45s 247ms/step - loss: 0.5962 - acc: 0.6831 - val_loss: 0.5582 - val_acc: 0.7193\n",
            "Epoch 26/250\n",
            "178/178 [==============================] - 46s 252ms/step - loss: 0.6073 - acc: 0.6697 - val_loss: 0.5574 - val_acc: 0.7193\n",
            "Epoch 27/250\n",
            "178/178 [==============================] - 45s 251ms/step - loss: 0.6058 - acc: 0.6673 - val_loss: 0.5487 - val_acc: 0.7288\n",
            "Epoch 28/250\n",
            "178/178 [==============================] - 45s 251ms/step - loss: 0.6189 - acc: 0.6676 - val_loss: 0.5756 - val_acc: 0.7013\n",
            "Epoch 29/250\n",
            "178/178 [==============================] - 45s 252ms/step - loss: 0.6192 - acc: 0.6528 - val_loss: 0.5463 - val_acc: 0.7288\n",
            "Epoch 30/250\n",
            "178/178 [==============================] - 44s 241ms/step - loss: 0.6168 - acc: 0.6651 - val_loss: 0.5562 - val_acc: 0.7214\n",
            "Epoch 31/250\n",
            "178/178 [==============================] - 45s 247ms/step - loss: 0.6012 - acc: 0.6877 - val_loss: 0.5643 - val_acc: 0.7172\n",
            "Epoch 32/250\n",
            "178/178 [==============================] - 45s 252ms/step - loss: 0.6085 - acc: 0.6725 - val_loss: 0.5616 - val_acc: 0.7129\n",
            "Epoch 33/250\n",
            "178/178 [==============================] - 45s 251ms/step - loss: 0.6276 - acc: 0.6478 - val_loss: 0.5505 - val_acc: 0.7288\n",
            "Epoch 34/250\n",
            "178/178 [==============================] - 45s 253ms/step - loss: 0.6180 - acc: 0.6623 - val_loss: 0.5537 - val_acc: 0.7246\n",
            "Epoch 35/250\n",
            "178/178 [==============================] - 45s 248ms/step - loss: 0.6019 - acc: 0.6780 - val_loss: 0.5613 - val_acc: 0.7172\n",
            "Epoch 36/250\n",
            "178/178 [==============================] - 44s 239ms/step - loss: 0.6099 - acc: 0.6775 - val_loss: 0.5625 - val_acc: 0.7150\n",
            "Epoch 37/250\n",
            "178/178 [==============================] - 43s 240ms/step - loss: 0.6083 - acc: 0.6807 - val_loss: 0.5420 - val_acc: 0.7299\n",
            "Epoch 38/250\n",
            "178/178 [==============================] - 45s 250ms/step - loss: 0.6159 - acc: 0.6658 - val_loss: 0.5721 - val_acc: 0.7055\n",
            "Epoch 39/250\n",
            "178/178 [==============================] - 45s 252ms/step - loss: 0.5985 - acc: 0.6835 - val_loss: 0.5552 - val_acc: 0.7182\n",
            "Epoch 40/250\n",
            "178/178 [==============================] - 45s 252ms/step - loss: 0.6181 - acc: 0.6620 - val_loss: 0.5851 - val_acc: 0.6917\n",
            "Epoch 41/250\n",
            "178/178 [==============================] - 45s 251ms/step - loss: 0.6102 - acc: 0.6694 - val_loss: 0.5635 - val_acc: 0.7129\n",
            "Epoch 42/250\n",
            "178/178 [==============================] - 44s 242ms/step - loss: 0.6058 - acc: 0.6740 - val_loss: 0.5667 - val_acc: 0.7097\n",
            "Epoch 43/250\n",
            "178/178 [==============================] - 43s 236ms/step - loss: 0.6192 - acc: 0.6683 - val_loss: 0.5519 - val_acc: 0.7246\n",
            "Epoch 44/250\n",
            "178/178 [==============================] - 43s 238ms/step - loss: 0.6148 - acc: 0.6637 - val_loss: 0.5451 - val_acc: 0.7288\n",
            "Epoch 45/250\n",
            "178/178 [==============================] - 38s 212ms/step - loss: 0.5986 - acc: 0.6740 - val_loss: 0.5516 - val_acc: 0.7267\n",
            "Epoch 46/250\n",
            "178/178 [==============================] - 43s 241ms/step - loss: 0.5989 - acc: 0.6785 - val_loss: 0.5652 - val_acc: 0.7108\n",
            "Epoch 47/250\n",
            "178/178 [==============================] - 44s 243ms/step - loss: 0.6157 - acc: 0.6680 - val_loss: 0.5729 - val_acc: 0.7023\n",
            "Epoch 48/250\n",
            "178/178 [==============================] - 46s 255ms/step - loss: 0.5932 - acc: 0.6821 - val_loss: 0.5579 - val_acc: 0.7203\n",
            "Epoch 49/250\n",
            "178/178 [==============================] - 46s 254ms/step - loss: 0.6099 - acc: 0.6722 - val_loss: 0.5595 - val_acc: 0.7203\n",
            "Epoch 50/250\n",
            "178/178 [==============================] - 45s 250ms/step - loss: 0.6112 - acc: 0.6680 - val_loss: 0.5621 - val_acc: 0.7182\n",
            "Epoch 51/250\n",
            "178/178 [==============================] - 45s 245ms/step - loss: 0.5984 - acc: 0.6800 - val_loss: 0.5465 - val_acc: 0.7267\n",
            "Epoch 52/250\n",
            "178/178 [==============================] - 45s 248ms/step - loss: 0.6079 - acc: 0.6810 - val_loss: 0.5696 - val_acc: 0.7108\n",
            "Epoch 53/250\n",
            "178/178 [==============================] - 46s 253ms/step - loss: 0.6129 - acc: 0.6680 - val_loss: 0.5500 - val_acc: 0.7246\n",
            "Epoch 54/250\n",
            "178/178 [==============================] - 46s 254ms/step - loss: 0.6022 - acc: 0.6673 - val_loss: 0.5533 - val_acc: 0.7150\n",
            "Epoch 55/250\n",
            "178/178 [==============================] - 45s 251ms/step - loss: 0.6191 - acc: 0.6591 - val_loss: 0.5500 - val_acc: 0.7193\n",
            "Epoch 56/250\n",
            "178/178 [==============================] - 44s 243ms/step - loss: 0.6126 - acc: 0.6722 - val_loss: 0.5541 - val_acc: 0.7193\n",
            "Epoch 57/250\n",
            "178/178 [==============================] - 45s 248ms/step - loss: 0.6030 - acc: 0.6651 - val_loss: 0.5544 - val_acc: 0.7214\n",
            "Epoch 58/250\n",
            "178/178 [==============================] - 45s 252ms/step - loss: 0.6006 - acc: 0.6807 - val_loss: 0.5555 - val_acc: 0.7140\n",
            "Epoch 59/250\n",
            "178/178 [==============================] - 46s 256ms/step - loss: 0.6041 - acc: 0.6810 - val_loss: 0.5839 - val_acc: 0.6981\n",
            "Epoch 60/250\n",
            "178/178 [==============================] - 45s 251ms/step - loss: 0.6107 - acc: 0.6595 - val_loss: 0.5591 - val_acc: 0.7172\n",
            "Epoch 61/250\n",
            "178/178 [==============================] - 45s 247ms/step - loss: 0.6019 - acc: 0.6810 - val_loss: 0.5711 - val_acc: 0.7108\n",
            "Epoch 62/250\n",
            "178/178 [==============================] - 44s 242ms/step - loss: 0.6125 - acc: 0.6722 - val_loss: 0.5464 - val_acc: 0.7267\n",
            "Epoch 63/250\n",
            "178/178 [==============================] - 45s 250ms/step - loss: 0.5986 - acc: 0.6764 - val_loss: 0.5534 - val_acc: 0.7225\n",
            "Epoch 64/250\n",
            "178/178 [==============================] - 45s 248ms/step - loss: 0.6005 - acc: 0.6800 - val_loss: 0.5507 - val_acc: 0.7193\n",
            "Epoch 65/250\n",
            "178/178 [==============================] - 46s 255ms/step - loss: 0.5889 - acc: 0.6937 - val_loss: 0.5645 - val_acc: 0.7140\n",
            "Epoch 66/250\n",
            "178/178 [==============================] - 45s 252ms/step - loss: 0.6043 - acc: 0.6743 - val_loss: 0.5427 - val_acc: 0.7267\n",
            "Epoch 67/250\n",
            "178/178 [==============================] - 45s 246ms/step - loss: 0.6009 - acc: 0.6694 - val_loss: 0.5452 - val_acc: 0.7235\n",
            "Epoch 68/250\n",
            "178/178 [==============================] - 44s 243ms/step - loss: 0.5988 - acc: 0.6824 - val_loss: 0.5401 - val_acc: 0.7299\n",
            "Epoch 69/250\n",
            "178/178 [==============================] - 46s 253ms/step - loss: 0.6038 - acc: 0.6835 - val_loss: 0.5358 - val_acc: 0.7341\n",
            "Epoch 70/250\n",
            "178/178 [==============================] - 46s 255ms/step - loss: 0.6111 - acc: 0.6658 - val_loss: 0.5669 - val_acc: 0.7108\n",
            "Epoch 71/250\n",
            "178/178 [==============================] - 45s 252ms/step - loss: 0.6092 - acc: 0.6687 - val_loss: 0.5467 - val_acc: 0.7235\n",
            "Epoch 72/250\n",
            "178/178 [==============================] - 45s 245ms/step - loss: 0.6110 - acc: 0.6725 - val_loss: 0.5692 - val_acc: 0.7066\n",
            "Epoch 73/250\n",
            "178/178 [==============================] - 44s 246ms/step - loss: 0.6075 - acc: 0.6757 - val_loss: 0.5617 - val_acc: 0.7161\n",
            "Epoch 74/250\n",
            "178/178 [==============================] - 46s 252ms/step - loss: 0.6058 - acc: 0.6736 - val_loss: 0.5727 - val_acc: 0.7034\n",
            "Epoch 75/250\n",
            "178/178 [==============================] - 46s 254ms/step - loss: 0.6088 - acc: 0.6768 - val_loss: 0.5486 - val_acc: 0.7214\n",
            "Epoch 76/250\n",
            "178/178 [==============================] - 46s 258ms/step - loss: 0.6004 - acc: 0.6821 - val_loss: 0.5424 - val_acc: 0.7288\n",
            "Epoch 77/250\n",
            "178/178 [==============================] - 46s 257ms/step - loss: 0.6080 - acc: 0.6747 - val_loss: 0.5378 - val_acc: 0.7320\n",
            "Epoch 78/250\n",
            "178/178 [==============================] - 46s 249ms/step - loss: 0.5865 - acc: 0.6856 - val_loss: 0.5587 - val_acc: 0.7182\n",
            "Epoch 79/250\n",
            "178/178 [==============================] - 45s 248ms/step - loss: 0.6074 - acc: 0.6782 - val_loss: 0.5502 - val_acc: 0.7256\n",
            "Epoch 80/250\n",
            "178/178 [==============================] - 46s 257ms/step - loss: 0.6031 - acc: 0.6817 - val_loss: 0.5446 - val_acc: 0.7235\n",
            "Epoch 81/250\n",
            "178/178 [==============================] - 46s 256ms/step - loss: 0.6076 - acc: 0.6687 - val_loss: 0.5455 - val_acc: 0.7256\n",
            "Epoch 82/250\n",
            "178/178 [==============================] - 46s 256ms/step - loss: 0.5984 - acc: 0.6800 - val_loss: 0.5401 - val_acc: 0.7267\n",
            "Epoch 83/250\n",
            "178/178 [==============================] - 46s 251ms/step - loss: 0.6057 - acc: 0.6644 - val_loss: 0.5401 - val_acc: 0.7267\n",
            "Epoch 84/250\n",
            "178/178 [==============================] - 44s 243ms/step - loss: 0.6126 - acc: 0.6687 - val_loss: 0.5498 - val_acc: 0.7225\n",
            "Epoch 85/250\n",
            "178/178 [==============================] - 46s 253ms/step - loss: 0.5968 - acc: 0.6715 - val_loss: 0.5525 - val_acc: 0.7256\n",
            "Epoch 86/250\n",
            "178/178 [==============================] - 44s 245ms/step - loss: 0.6071 - acc: 0.6800 - val_loss: 0.5426 - val_acc: 0.7278\n",
            "Epoch 87/250\n",
            "178/178 [==============================] - 45s 247ms/step - loss: 0.6158 - acc: 0.6627 - val_loss: 0.5425 - val_acc: 0.7267\n",
            "Epoch 88/250\n",
            "178/178 [==============================] - 45s 249ms/step - loss: 0.6035 - acc: 0.6838 - val_loss: 0.5424 - val_acc: 0.7225\n",
            "Epoch 89/250\n",
            "178/178 [==============================] - 45s 252ms/step - loss: 0.6182 - acc: 0.6584 - val_loss: 0.5475 - val_acc: 0.7203\n",
            "Epoch 90/250\n",
            "178/178 [==============================] - 43s 236ms/step - loss: 0.6032 - acc: 0.6849 - val_loss: 0.5402 - val_acc: 0.7278\n",
            "Epoch 91/250\n",
            "178/178 [==============================] - 44s 246ms/step - loss: 0.5974 - acc: 0.6810 - val_loss: 0.5561 - val_acc: 0.7214\n",
            "Epoch 92/250\n",
            "178/178 [==============================] - 45s 248ms/step - loss: 0.5970 - acc: 0.6771 - val_loss: 0.5362 - val_acc: 0.7394\n",
            "Epoch 93/250\n",
            "178/178 [==============================] - 45s 249ms/step - loss: 0.6055 - acc: 0.6796 - val_loss: 0.5477 - val_acc: 0.7172\n",
            "Epoch 94/250\n",
            "178/178 [==============================] - 45s 248ms/step - loss: 0.5897 - acc: 0.6905 - val_loss: 0.5374 - val_acc: 0.7362\n",
            "Epoch 95/250\n",
            "178/178 [==============================] - 40s 216ms/step - loss: 0.5973 - acc: 0.6835 - val_loss: 0.5555 - val_acc: 0.7225\n",
            "Epoch 96/250\n",
            "178/178 [==============================] - 45s 249ms/step - loss: 0.6010 - acc: 0.6835 - val_loss: 0.5409 - val_acc: 0.7246\n",
            "Epoch 97/250\n",
            "178/178 [==============================] - 44s 244ms/step - loss: 0.6169 - acc: 0.6623 - val_loss: 0.5464 - val_acc: 0.7214\n",
            "Epoch 98/250\n",
            "178/178 [==============================] - 44s 238ms/step - loss: 0.6101 - acc: 0.6814 - val_loss: 0.5403 - val_acc: 0.7246\n",
            "Epoch 99/250\n",
            "178/178 [==============================] - 43s 238ms/step - loss: 0.5905 - acc: 0.6912 - val_loss: 0.5483 - val_acc: 0.7150\n",
            "Epoch 100/250\n",
            "178/178 [==============================] - 45s 247ms/step - loss: 0.6153 - acc: 0.6701 - val_loss: 0.5564 - val_acc: 0.7203\n",
            "Epoch 101/250\n",
            "178/178 [==============================] - 45s 249ms/step - loss: 0.6135 - acc: 0.6690 - val_loss: 0.5466 - val_acc: 0.7225\n",
            "Epoch 102/250\n",
            "178/178 [==============================] - 45s 249ms/step - loss: 0.5996 - acc: 0.6853 - val_loss: 0.5570 - val_acc: 0.7193\n",
            "Epoch 103/250\n",
            "178/178 [==============================] - 45s 251ms/step - loss: 0.6037 - acc: 0.6701 - val_loss: 0.5387 - val_acc: 0.7278\n",
            "Epoch 104/250\n",
            "178/178 [==============================] - 41s 220ms/step - loss: 0.6164 - acc: 0.6630 - val_loss: 0.5568 - val_acc: 0.7150\n",
            "Epoch 105/250\n",
            "178/178 [==============================] - 45s 250ms/step - loss: 0.5934 - acc: 0.6824 - val_loss: 0.5442 - val_acc: 0.7225\n",
            "Epoch 106/250\n",
            "178/178 [==============================] - 45s 249ms/step - loss: 0.5918 - acc: 0.6867 - val_loss: 0.5722 - val_acc: 0.7087\n",
            "Epoch 107/250\n",
            "178/178 [==============================] - 44s 240ms/step - loss: 0.5973 - acc: 0.6775 - val_loss: 0.5461 - val_acc: 0.7203\n",
            "Epoch 108/250\n",
            "178/178 [==============================] - 43s 238ms/step - loss: 0.5917 - acc: 0.6821 - val_loss: 0.5573 - val_acc: 0.7203\n",
            "Epoch 109/250\n",
            "178/178 [==============================] - 45s 249ms/step - loss: 0.6006 - acc: 0.6694 - val_loss: 0.5511 - val_acc: 0.7172\n",
            "Epoch 110/250\n",
            "178/178 [==============================] - 45s 251ms/step - loss: 0.5850 - acc: 0.7011 - val_loss: 0.5629 - val_acc: 0.7182\n",
            "Epoch 111/250\n",
            "178/178 [==============================] - 45s 249ms/step - loss: 0.5911 - acc: 0.6895 - val_loss: 0.5618 - val_acc: 0.7182\n",
            "Epoch 112/250\n",
            "178/178 [==============================] - 44s 245ms/step - loss: 0.6000 - acc: 0.6796 - val_loss: 0.5527 - val_acc: 0.7203\n",
            "Epoch 113/250\n",
            "178/178 [==============================] - 43s 239ms/step - loss: 0.6011 - acc: 0.6835 - val_loss: 0.5449 - val_acc: 0.7278\n",
            "Epoch 114/250\n",
            "178/178 [==============================] - 44s 245ms/step - loss: 0.5871 - acc: 0.6920 - val_loss: 0.5391 - val_acc: 0.7299\n",
            "Epoch 115/250\n",
            "178/178 [==============================] - 45s 249ms/step - loss: 0.5926 - acc: 0.6920 - val_loss: 0.5516 - val_acc: 0.7225\n",
            "Epoch 116/250\n",
            "178/178 [==============================] - 45s 250ms/step - loss: 0.5992 - acc: 0.6838 - val_loss: 0.5440 - val_acc: 0.7246\n",
            "Epoch 117/250\n",
            "178/178 [==============================] - 45s 247ms/step - loss: 0.6042 - acc: 0.6877 - val_loss: 0.5520 - val_acc: 0.7246\n",
            "Epoch 118/250\n",
            "178/178 [==============================] - 44s 238ms/step - loss: 0.6118 - acc: 0.6800 - val_loss: 0.5623 - val_acc: 0.7161\n",
            "Epoch 119/250\n",
            "178/178 [==============================] - 44s 244ms/step - loss: 0.6121 - acc: 0.6701 - val_loss: 0.5423 - val_acc: 0.7309\n",
            "Epoch 120/250\n",
            "178/178 [==============================] - 45s 249ms/step - loss: 0.5972 - acc: 0.6824 - val_loss: 0.5582 - val_acc: 0.7161\n",
            "Epoch 121/250\n",
            "178/178 [==============================] - 45s 248ms/step - loss: 0.5963 - acc: 0.6761 - val_loss: 0.5632 - val_acc: 0.7140\n",
            "Epoch 122/250\n",
            "178/178 [==============================] - 45s 248ms/step - loss: 0.6184 - acc: 0.6588 - val_loss: 0.5534 - val_acc: 0.7267\n",
            "Epoch 123/250\n",
            "178/178 [==============================] - 44s 239ms/step - loss: 0.6076 - acc: 0.6789 - val_loss: 0.5601 - val_acc: 0.7161\n",
            "Epoch 124/250\n",
            "178/178 [==============================] - 44s 244ms/step - loss: 0.5998 - acc: 0.6821 - val_loss: 0.5580 - val_acc: 0.7182\n",
            "Epoch 125/250\n",
            "178/178 [==============================] - 45s 250ms/step - loss: 0.5994 - acc: 0.6778 - val_loss: 0.5772 - val_acc: 0.6960\n",
            "Epoch 126/250\n",
            "178/178 [==============================] - 45s 249ms/step - loss: 0.6007 - acc: 0.6711 - val_loss: 0.5666 - val_acc: 0.7119\n",
            "Epoch 127/250\n",
            "178/178 [==============================] - 45s 248ms/step - loss: 0.6009 - acc: 0.6831 - val_loss: 0.5749 - val_acc: 0.7002\n",
            "Epoch 128/250\n",
            "178/178 [==============================] - 44s 246ms/step - loss: 0.6031 - acc: 0.6683 - val_loss: 0.5648 - val_acc: 0.7108\n",
            "Epoch 129/250\n",
            "178/178 [==============================] - 43s 235ms/step - loss: 0.6078 - acc: 0.6722 - val_loss: 0.5615 - val_acc: 0.7214\n",
            "Epoch 130/250\n",
            "178/178 [==============================] - 43s 239ms/step - loss: 0.6053 - acc: 0.6733 - val_loss: 0.5475 - val_acc: 0.7214\n",
            "Epoch 131/250\n",
            "178/178 [==============================] - 41s 225ms/step - loss: 0.5969 - acc: 0.6828 - val_loss: 0.5441 - val_acc: 0.7288\n",
            "Epoch 132/250\n",
            "178/178 [==============================] - 45s 243ms/step - loss: 0.5966 - acc: 0.6948 - val_loss: 0.5584 - val_acc: 0.7150\n",
            "Epoch 133/250\n",
            "178/178 [==============================] - 45s 250ms/step - loss: 0.5932 - acc: 0.6789 - val_loss: 0.5433 - val_acc: 0.7309\n",
            "Epoch 134/250\n",
            "178/178 [==============================] - 45s 250ms/step - loss: 0.6111 - acc: 0.6708 - val_loss: 0.5459 - val_acc: 0.7278\n",
            "Epoch 135/250\n",
            "178/178 [==============================] - 45s 250ms/step - loss: 0.6085 - acc: 0.6644 - val_loss: 0.5424 - val_acc: 0.7267\n",
            "Epoch 136/250\n",
            "178/178 [==============================] - 45s 248ms/step - loss: 0.6021 - acc: 0.6687 - val_loss: 0.5596 - val_acc: 0.7150\n",
            "Epoch 137/250\n",
            "178/178 [==============================] - 44s 242ms/step - loss: 0.6085 - acc: 0.6634 - val_loss: 0.5569 - val_acc: 0.7182\n",
            "Epoch 138/250\n",
            "178/178 [==============================] - 44s 241ms/step - loss: 0.6017 - acc: 0.6690 - val_loss: 0.5450 - val_acc: 0.7235\n",
            "Epoch 139/250\n",
            "178/178 [==============================] - 43s 241ms/step - loss: 0.5945 - acc: 0.6884 - val_loss: 0.5412 - val_acc: 0.7203\n",
            "Epoch 140/250\n",
            "178/178 [==============================] - 45s 250ms/step - loss: 0.6003 - acc: 0.6810 - val_loss: 0.5628 - val_acc: 0.7193\n",
            "Epoch 141/250\n",
            "178/178 [==============================] - 45s 249ms/step - loss: 0.5946 - acc: 0.6835 - val_loss: 0.5405 - val_acc: 0.7278\n",
            "Epoch 142/250\n",
            "178/178 [==============================] - 45s 251ms/step - loss: 0.5939 - acc: 0.6807 - val_loss: 0.5484 - val_acc: 0.7246\n",
            "Epoch 143/250\n",
            "178/178 [==============================] - 41s 225ms/step - loss: 0.5928 - acc: 0.6874 - val_loss: 0.5566 - val_acc: 0.7172\n",
            "Epoch 144/250\n",
            "178/178 [==============================] - 46s 251ms/step - loss: 0.5984 - acc: 0.6775 - val_loss: 0.5404 - val_acc: 0.7246\n",
            "Epoch 145/250\n",
            "178/178 [==============================] - 45s 250ms/step - loss: 0.6131 - acc: 0.6750 - val_loss: 0.5463 - val_acc: 0.7235\n",
            "Epoch 146/250\n",
            "178/178 [==============================] - 45s 247ms/step - loss: 0.5929 - acc: 0.6810 - val_loss: 0.5439 - val_acc: 0.7235\n",
            "Epoch 147/250\n",
            "178/178 [==============================] - 45s 244ms/step - loss: 0.5902 - acc: 0.6902 - val_loss: 0.5620 - val_acc: 0.7140\n",
            "Epoch 148/250\n",
            "178/178 [==============================] - 43s 238ms/step - loss: 0.6059 - acc: 0.6718 - val_loss: 0.5386 - val_acc: 0.7288\n",
            "Epoch 149/250\n",
            "178/178 [==============================] - 45s 249ms/step - loss: 0.6096 - acc: 0.6676 - val_loss: 0.5436 - val_acc: 0.7246\n",
            "Epoch 150/250\n",
            "178/178 [==============================] - 45s 252ms/step - loss: 0.6011 - acc: 0.6835 - val_loss: 0.5505 - val_acc: 0.7246\n",
            "Epoch 151/250\n",
            "178/178 [==============================] - 45s 250ms/step - loss: 0.6001 - acc: 0.6740 - val_loss: 0.5409 - val_acc: 0.7235\n",
            "Epoch 152/250\n",
            "178/178 [==============================] - 45s 246ms/step - loss: 0.6058 - acc: 0.6722 - val_loss: 0.5435 - val_acc: 0.7256\n",
            "Epoch 153/250\n",
            "178/178 [==============================] - 43s 238ms/step - loss: 0.6025 - acc: 0.6821 - val_loss: 0.5541 - val_acc: 0.7214\n",
            "Epoch 154/250\n",
            "178/178 [==============================] - 46s 254ms/step - loss: 0.5935 - acc: 0.6853 - val_loss: 0.5504 - val_acc: 0.7225\n",
            "Epoch 155/250\n",
            "178/178 [==============================] - 45s 250ms/step - loss: 0.5962 - acc: 0.6863 - val_loss: 0.5650 - val_acc: 0.7129\n",
            "Epoch 156/250\n",
            "178/178 [==============================] - 45s 251ms/step - loss: 0.5936 - acc: 0.6789 - val_loss: 0.5618 - val_acc: 0.7129\n",
            "Epoch 157/250\n",
            "178/178 [==============================] - 45s 249ms/step - loss: 0.6140 - acc: 0.6651 - val_loss: 0.5492 - val_acc: 0.7203\n",
            "Epoch 158/250\n",
            "178/178 [==============================] - 44s 244ms/step - loss: 0.5871 - acc: 0.6856 - val_loss: 0.5601 - val_acc: 0.7140\n",
            "Epoch 159/250\n",
            "178/178 [==============================] - 44s 238ms/step - loss: 0.6072 - acc: 0.6757 - val_loss: 0.5535 - val_acc: 0.7182\n",
            "Epoch 160/250\n",
            "178/178 [==============================] - 45s 251ms/step - loss: 0.5949 - acc: 0.6831 - val_loss: 0.5458 - val_acc: 0.7256\n",
            "Epoch 161/250\n",
            "178/178 [==============================] - 45s 254ms/step - loss: 0.6024 - acc: 0.6849 - val_loss: 0.5417 - val_acc: 0.7256\n",
            "Epoch 162/250\n",
            "178/178 [==============================] - 45s 250ms/step - loss: 0.5926 - acc: 0.6835 - val_loss: 0.5410 - val_acc: 0.7267\n",
            "Epoch 163/250\n",
            "178/178 [==============================] - 45s 249ms/step - loss: 0.6091 - acc: 0.6757 - val_loss: 0.5589 - val_acc: 0.7150\n",
            "Epoch 164/250\n",
            "178/178 [==============================] - 44s 242ms/step - loss: 0.5950 - acc: 0.6874 - val_loss: 0.5471 - val_acc: 0.7246\n",
            "Epoch 165/250\n",
            "178/178 [==============================] - 43s 239ms/step - loss: 0.5986 - acc: 0.6831 - val_loss: 0.5369 - val_acc: 0.7299\n",
            "Epoch 166/250\n",
            "178/178 [==============================] - 45s 249ms/step - loss: 0.6095 - acc: 0.6683 - val_loss: 0.5755 - val_acc: 0.6981\n",
            "Epoch 167/250\n",
            "178/178 [==============================] - 45s 250ms/step - loss: 0.6166 - acc: 0.6637 - val_loss: 0.5416 - val_acc: 0.7278\n",
            "Epoch 168/250\n",
            "178/178 [==============================] - 45s 251ms/step - loss: 0.5985 - acc: 0.6930 - val_loss: 0.5466 - val_acc: 0.7235\n",
            "Epoch 169/250\n",
            "178/178 [==============================] - 45s 251ms/step - loss: 0.6010 - acc: 0.6814 - val_loss: 0.5401 - val_acc: 0.7256\n",
            "Epoch 170/250\n",
            "178/178 [==============================] - 45s 245ms/step - loss: 0.5946 - acc: 0.6743 - val_loss: 0.5625 - val_acc: 0.7129\n",
            "Epoch 171/250\n",
            "178/178 [==============================] - 43s 237ms/step - loss: 0.6013 - acc: 0.6828 - val_loss: 0.5641 - val_acc: 0.7150\n",
            "Epoch 172/250\n",
            "178/178 [==============================] - 44s 241ms/step - loss: 0.5999 - acc: 0.6782 - val_loss: 0.5587 - val_acc: 0.7140\n",
            "Epoch 173/250\n",
            "178/178 [==============================] - 45s 252ms/step - loss: 0.6047 - acc: 0.6810 - val_loss: 0.5404 - val_acc: 0.7256\n",
            "Epoch 174/250\n",
            "178/178 [==============================] - 45s 249ms/step - loss: 0.6080 - acc: 0.6853 - val_loss: 0.5710 - val_acc: 0.7108\n",
            "Epoch 175/250\n",
            "178/178 [==============================] - 45s 251ms/step - loss: 0.5992 - acc: 0.6807 - val_loss: 0.5679 - val_acc: 0.7097\n",
            "Epoch 176/250\n",
            "178/178 [==============================] - 45s 247ms/step - loss: 0.5989 - acc: 0.6789 - val_loss: 0.5570 - val_acc: 0.7172\n",
            "Epoch 177/250\n",
            "178/178 [==============================] - 44s 241ms/step - loss: 0.6087 - acc: 0.6743 - val_loss: 0.5697 - val_acc: 0.7076\n",
            "Epoch 178/250\n",
            "178/178 [==============================] - 44s 241ms/step - loss: 0.6023 - acc: 0.6785 - val_loss: 0.5716 - val_acc: 0.6992\n",
            "Epoch 179/250\n",
            "178/178 [==============================] - 45s 250ms/step - loss: 0.6122 - acc: 0.6701 - val_loss: 0.5894 - val_acc: 0.6822\n",
            "Epoch 180/250\n",
            "178/178 [==============================] - 45s 250ms/step - loss: 0.6066 - acc: 0.6782 - val_loss: 0.5743 - val_acc: 0.7044\n",
            "Epoch 181/250\n",
            "178/178 [==============================] - 45s 248ms/step - loss: 0.6033 - acc: 0.6718 - val_loss: 0.5704 - val_acc: 0.7055\n",
            "Epoch 182/250\n",
            "178/178 [==============================] - 45s 244ms/step - loss: 0.6094 - acc: 0.6665 - val_loss: 0.5533 - val_acc: 0.7256\n",
            "Epoch 183/250\n",
            "178/178 [==============================] - 43s 239ms/step - loss: 0.6001 - acc: 0.6793 - val_loss: 0.5565 - val_acc: 0.7225\n",
            "Epoch 184/250\n",
            "178/178 [==============================] - 45s 250ms/step - loss: 0.6063 - acc: 0.6704 - val_loss: 0.5726 - val_acc: 0.7023\n",
            "Epoch 185/250\n",
            "178/178 [==============================] - 41s 229ms/step - loss: 0.6038 - acc: 0.6870 - val_loss: 0.5438 - val_acc: 0.7235\n",
            "Epoch 186/250\n",
            "178/178 [==============================] - 45s 249ms/step - loss: 0.5938 - acc: 0.6934 - val_loss: 0.5545 - val_acc: 0.7193\n",
            "Epoch 187/250\n",
            "178/178 [==============================] - 45s 248ms/step - loss: 0.5894 - acc: 0.6856 - val_loss: 0.5639 - val_acc: 0.7150\n",
            "Epoch 188/250\n",
            "178/178 [==============================] - 45s 251ms/step - loss: 0.5983 - acc: 0.6870 - val_loss: 0.5416 - val_acc: 0.7214\n",
            "Epoch 189/250\n",
            "178/178 [==============================] - 45s 248ms/step - loss: 0.6061 - acc: 0.6634 - val_loss: 0.5550 - val_acc: 0.7256\n",
            "Epoch 190/250\n",
            "178/178 [==============================] - 44s 239ms/step - loss: 0.6032 - acc: 0.6842 - val_loss: 0.5463 - val_acc: 0.7225\n",
            "Epoch 191/250\n",
            "178/178 [==============================] - 44s 243ms/step - loss: 0.6069 - acc: 0.6708 - val_loss: 0.5445 - val_acc: 0.7225\n",
            "Epoch 192/250\n",
            "178/178 [==============================] - 45s 248ms/step - loss: 0.5933 - acc: 0.6884 - val_loss: 0.5478 - val_acc: 0.7225\n",
            "Epoch 193/250\n",
            "178/178 [==============================] - 45s 249ms/step - loss: 0.5942 - acc: 0.6814 - val_loss: 0.5551 - val_acc: 0.7203\n",
            "Epoch 194/250\n",
            "178/178 [==============================] - 45s 248ms/step - loss: 0.6077 - acc: 0.6577 - val_loss: 0.5911 - val_acc: 0.6801\n",
            "Epoch 195/250\n",
            "178/178 [==============================] - 45s 250ms/step - loss: 0.5925 - acc: 0.6927 - val_loss: 0.5980 - val_acc: 0.6706\n",
            "Epoch 196/250\n",
            "178/178 [==============================] - 45s 249ms/step - loss: 0.5920 - acc: 0.6824 - val_loss: 0.5360 - val_acc: 0.7309\n",
            "Epoch 197/250\n",
            "178/178 [==============================] - 44s 238ms/step - loss: 0.6056 - acc: 0.6796 - val_loss: 0.5482 - val_acc: 0.7193\n",
            "Epoch 198/250\n",
            "178/178 [==============================] - 45s 249ms/step - loss: 0.6013 - acc: 0.6747 - val_loss: 0.5457 - val_acc: 0.7203\n",
            "Epoch 199/250\n",
            "178/178 [==============================] - 45s 251ms/step - loss: 0.5924 - acc: 0.6853 - val_loss: 0.5496 - val_acc: 0.7235\n",
            "Epoch 200/250\n",
            "178/178 [==============================] - 45s 251ms/step - loss: 0.6053 - acc: 0.6800 - val_loss: 0.5658 - val_acc: 0.7087\n",
            "Epoch 201/250\n",
            "178/178 [==============================] - 45s 249ms/step - loss: 0.5994 - acc: 0.6761 - val_loss: 0.5532 - val_acc: 0.7161\n",
            "Epoch 202/250\n",
            "178/178 [==============================] - 45s 245ms/step - loss: 0.5969 - acc: 0.6800 - val_loss: 0.5416 - val_acc: 0.7235\n",
            "Epoch 203/250\n",
            "178/178 [==============================] - 43s 239ms/step - loss: 0.5800 - acc: 0.7018 - val_loss: 0.5447 - val_acc: 0.7193\n",
            "Epoch 204/250\n",
            "178/178 [==============================] - 45s 249ms/step - loss: 0.5950 - acc: 0.6923 - val_loss: 0.5517 - val_acc: 0.7193\n",
            "Epoch 205/250\n",
            "178/178 [==============================] - 46s 253ms/step - loss: 0.6016 - acc: 0.6715 - val_loss: 0.5429 - val_acc: 0.7203\n",
            "Epoch 206/250\n",
            "178/178 [==============================] - 45s 250ms/step - loss: 0.6029 - acc: 0.6740 - val_loss: 0.5433 - val_acc: 0.7225\n",
            "Epoch 207/250\n",
            "178/178 [==============================] - 42s 233ms/step - loss: 0.5972 - acc: 0.6747 - val_loss: 0.5312 - val_acc: 0.7278\n",
            "Epoch 208/250\n",
            "178/178 [==============================] - 46s 253ms/step - loss: 0.5880 - acc: 0.6923 - val_loss: 0.5371 - val_acc: 0.7256\n",
            "Epoch 209/250\n",
            "178/178 [==============================] - 44s 240ms/step - loss: 0.6028 - acc: 0.6708 - val_loss: 0.5436 - val_acc: 0.7235\n",
            "Epoch 210/250\n",
            "178/178 [==============================] - 42s 234ms/step - loss: 0.5971 - acc: 0.6803 - val_loss: 0.5382 - val_acc: 0.7267\n",
            "Epoch 211/250\n",
            "178/178 [==============================] - 43s 236ms/step - loss: 0.5943 - acc: 0.6793 - val_loss: 0.5447 - val_acc: 0.7203\n",
            "Epoch 212/250\n",
            "178/178 [==============================] - 44s 245ms/step - loss: 0.5954 - acc: 0.6903 - val_loss: 0.5457 - val_acc: 0.7182\n",
            "Epoch 213/250\n",
            "178/178 [==============================] - 45s 247ms/step - loss: 0.5913 - acc: 0.6870 - val_loss: 0.5362 - val_acc: 0.7278\n",
            "Epoch 214/250\n",
            "178/178 [==============================] - 44s 246ms/step - loss: 0.5941 - acc: 0.6923 - val_loss: 0.5548 - val_acc: 0.7193\n",
            "Epoch 215/250\n",
            "178/178 [==============================] - 43s 235ms/step - loss: 0.6070 - acc: 0.6725 - val_loss: 0.5432 - val_acc: 0.7246\n",
            "Epoch 216/250\n",
            "178/178 [==============================] - 43s 236ms/step - loss: 0.5840 - acc: 0.6909 - val_loss: 0.5395 - val_acc: 0.7235\n",
            "Epoch 217/250\n",
            "178/178 [==============================] - 45s 249ms/step - loss: 0.6065 - acc: 0.6669 - val_loss: 0.5403 - val_acc: 0.7246\n",
            "Epoch 218/250\n",
            "178/178 [==============================] - 45s 248ms/step - loss: 0.5948 - acc: 0.6853 - val_loss: 0.5698 - val_acc: 0.7055\n",
            "Epoch 219/250\n",
            "178/178 [==============================] - 45s 249ms/step - loss: 0.5861 - acc: 0.6905 - val_loss: 0.5465 - val_acc: 0.7182\n",
            "Epoch 220/250\n",
            "178/178 [==============================] - 44s 239ms/step - loss: 0.6053 - acc: 0.6750 - val_loss: 0.5409 - val_acc: 0.7225\n",
            "Epoch 221/250\n",
            "178/178 [==============================] - 43s 237ms/step - loss: 0.5992 - acc: 0.6782 - val_loss: 0.5601 - val_acc: 0.7140\n",
            "Epoch 222/250\n",
            "178/178 [==============================] - 45s 249ms/step - loss: 0.6042 - acc: 0.6754 - val_loss: 0.5585 - val_acc: 0.7161\n",
            "Epoch 223/250\n",
            "178/178 [==============================] - 45s 251ms/step - loss: 0.6103 - acc: 0.6764 - val_loss: 0.5608 - val_acc: 0.7108\n",
            "Epoch 224/250\n",
            "178/178 [==============================] - 45s 249ms/step - loss: 0.5986 - acc: 0.6782 - val_loss: 0.5426 - val_acc: 0.7235\n",
            "Epoch 225/250\n",
            "178/178 [==============================] - 44s 246ms/step - loss: 0.5932 - acc: 0.6807 - val_loss: 0.5373 - val_acc: 0.7256\n",
            "Epoch 226/250\n",
            "178/178 [==============================] - 44s 246ms/step - loss: 0.5955 - acc: 0.6860 - val_loss: 0.5664 - val_acc: 0.7044\n",
            "Epoch 227/250\n",
            "178/178 [==============================] - 43s 237ms/step - loss: 0.5984 - acc: 0.6828 - val_loss: 0.5531 - val_acc: 0.7203\n",
            "Epoch 228/250\n",
            "178/178 [==============================] - 45s 252ms/step - loss: 0.6059 - acc: 0.6736 - val_loss: 0.5449 - val_acc: 0.7235\n",
            "Epoch 229/250\n",
            "178/178 [==============================] - 45s 252ms/step - loss: 0.5986 - acc: 0.6733 - val_loss: 0.5648 - val_acc: 0.7076\n",
            "Epoch 230/250\n",
            "178/178 [==============================] - 45s 251ms/step - loss: 0.6018 - acc: 0.6768 - val_loss: 0.5381 - val_acc: 0.7256\n",
            "Epoch 231/250\n",
            "178/178 [==============================] - 45s 246ms/step - loss: 0.5986 - acc: 0.6771 - val_loss: 0.5427 - val_acc: 0.7320\n",
            "Epoch 232/250\n",
            "178/178 [==============================] - 44s 245ms/step - loss: 0.5992 - acc: 0.6828 - val_loss: 0.5728 - val_acc: 0.7023\n",
            "Epoch 233/250\n",
            "178/178 [==============================] - 44s 240ms/step - loss: 0.6069 - acc: 0.6694 - val_loss: 0.5583 - val_acc: 0.7119\n",
            "Epoch 234/250\n",
            "178/178 [==============================] - 45s 247ms/step - loss: 0.5950 - acc: 0.6817 - val_loss: 0.5559 - val_acc: 0.7119\n",
            "Epoch 235/250\n",
            "178/178 [==============================] - 45s 250ms/step - loss: 0.6020 - acc: 0.6782 - val_loss: 0.5571 - val_acc: 0.7140\n",
            "Epoch 236/250\n",
            "178/178 [==============================] - 45s 250ms/step - loss: 0.5972 - acc: 0.6796 - val_loss: 0.5699 - val_acc: 0.7034\n",
            "Epoch 237/250\n",
            "178/178 [==============================] - 45s 247ms/step - loss: 0.5889 - acc: 0.6916 - val_loss: 0.5498 - val_acc: 0.7150\n",
            "Epoch 238/250\n",
            "178/178 [==============================] - 44s 243ms/step - loss: 0.5990 - acc: 0.6793 - val_loss: 0.5486 - val_acc: 0.7172\n",
            "Epoch 239/250\n",
            "178/178 [==============================] - 43s 236ms/step - loss: 0.6015 - acc: 0.6736 - val_loss: 0.5452 - val_acc: 0.7225\n",
            "Epoch 240/250\n",
            "178/178 [==============================] - 43s 237ms/step - loss: 0.6006 - acc: 0.6764 - val_loss: 0.5406 - val_acc: 0.7299\n",
            "Epoch 241/250\n",
            "178/178 [==============================] - 43s 237ms/step - loss: 0.5926 - acc: 0.6891 - val_loss: 0.5480 - val_acc: 0.7203\n",
            "Epoch 242/250\n",
            "178/178 [==============================] - 44s 246ms/step - loss: 0.5992 - acc: 0.6785 - val_loss: 0.5387 - val_acc: 0.7214\n",
            "Epoch 243/250\n",
            "178/178 [==============================] - 45s 249ms/step - loss: 0.6012 - acc: 0.6810 - val_loss: 0.5576 - val_acc: 0.7108\n",
            "Epoch 244/250\n",
            "178/178 [==============================] - 45s 251ms/step - loss: 0.5894 - acc: 0.6815 - val_loss: 0.5812 - val_acc: 0.6981\n",
            "Epoch 245/250\n",
            "178/178 [==============================] - 45s 244ms/step - loss: 0.5911 - acc: 0.6828 - val_loss: 0.5659 - val_acc: 0.7066\n",
            "Epoch 246/250\n",
            "178/178 [==============================] - 43s 237ms/step - loss: 0.6125 - acc: 0.6641 - val_loss: 0.5493 - val_acc: 0.7214\n",
            "Epoch 247/250\n",
            "178/178 [==============================] - 42s 235ms/step - loss: 0.6058 - acc: 0.6793 - val_loss: 0.5491 - val_acc: 0.7225\n",
            "Epoch 248/250\n",
            "178/178 [==============================] - 45s 251ms/step - loss: 0.5886 - acc: 0.6870 - val_loss: 0.5413 - val_acc: 0.7309\n",
            "Epoch 249/250\n",
            "178/178 [==============================] - 45s 252ms/step - loss: 0.6037 - acc: 0.6757 - val_loss: 0.5426 - val_acc: 0.7278\n",
            "Epoch 250/250\n",
            "178/178 [==============================] - 45s 249ms/step - loss: 0.5986 - acc: 0.6856 - val_loss: 0.5396 - val_acc: 0.7288\n"
          ]
        }
      ]
    },
    {
      "cell_type": "code",
      "source": [
        "acc = history.history['acc']\n",
        "val_acc = history.history['val_acc']\n",
        "loss = history.history['loss']\n",
        "val_loss = history.history['val_loss']\n",
        "\n",
        "epochs_x = range(len(acc))\n",
        "\n",
        "plt.plot(epochs_x, acc, 'go', label='Training acc')\n",
        "plt.plot(epochs_x, val_acc, 'k', label='Validation acc')\n",
        "plt.title('Training and validation accuracy')\n",
        "plt.legend()\n",
        "\n",
        "plt.figure()\n",
        "\n",
        "plt.plot(epochs_x, loss, 'go', label='Training loss')\n",
        "plt.plot(epochs_x, val_loss, 'k', label='Validation loss')\n",
        "plt.title('Training and validation loss')\n",
        "plt.legend()\n",
        "\n",
        "plt.show()"
      ],
      "metadata": {
        "id": "kwylTJpTP5XI",
        "colab": {
          "base_uri": "https://localhost:8080/",
          "height": 545
        },
        "outputId": "48643024-9601-4a7e-8a8a-8e1b2d63ce9e"
      },
      "execution_count": 13,
      "outputs": [
        {
          "output_type": "display_data",
          "data": {
            "text/plain": [
              "<Figure size 432x288 with 1 Axes>"
            ],
            "image/png": "[encoded data removed]"
          },
          "metadata": {
            "needs_background": "light"
          }
        },
        {
          "output_type": "display_data",
          "data": {
            "text/plain": [
              "<Figure size 432x288 with 1 Axes>"
            ],
            "image/png": "[encoded data removed]"
          },
          "metadata": {
            "needs_background": "light"
          }
        }
      ]
    },
    {
      "cell_type": "markdown",
      "source": [
        "#Download the model"
      ],
      "metadata": {
        "id": "lD-vKaoHQAFd"
      }
    },
    {
      "cell_type": "code",
      "source": [
        "os.makedirs('/content/drive/My Drive/cut_panoramic/Model', exist_ok=True)\n",
        "model.save('/content/drive/My Drive/cut_panoramic/Model/2_รอบที่2_Gender_250.h5')"
      ],
      "metadata": {
        "id": "74dL7-HLP_Sh"
      },
      "execution_count": 14,
      "outputs": []
    },
    {
      "cell_type": "code",
      "source": [
        "# from google.colab import files\n",
        "# files.download('/content/drive/My Drive/cut_panoramic/Model/2_รอบที่2_Gender_250.h5')"
      ],
      "metadata": {
        "id": "qcPW-brHQDpc"
      },
      "execution_count": 15,
      "outputs": []
    },
    {
      "cell_type": "code",
      "source": [],
      "metadata": {
        "id": "r5WoXVo8mVpF"
      },
      "execution_count": 15,
      "outputs": []
    }
  ]
}