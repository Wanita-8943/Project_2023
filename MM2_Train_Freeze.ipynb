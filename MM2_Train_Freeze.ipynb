{
  "nbformat": 4,
  "nbformat_minor": 0,
  "metadata": {
    "colab": {
      "provenance": [],
      "include_colab_link": true
    },
    "kernelspec": {
      "name": "python3",
      "display_name": "Python 3"
    },
    "language_info": {
      "name": "python"
    },
    "accelerator": "GPU",
    "gpuClass": "standard"
  },
  "cells": [
    {
      "cell_type": "markdown",
      "metadata": {
        "id": "view-in-github",
        "colab_type": "text"
      },
      "source": [
        "<a href=\"https://colab.research.google.com/github/Wanita-8943/Project_2023/blob/main/MM2_Train_Freeze.ipynb\" target=\"_parent\"><img src=\"https://colab.research.google.com/assets/colab-badge.svg\" alt=\"Open In Colab\"/></a>"
      ]
    },
    {
      "cell_type": "code",
      "execution_count": 1,
      "metadata": {
        "id": "KKSs7cyoPHcD"
      },
      "outputs": [],
      "source": [
        "import pandas as pd\n",
        "import shutil"
      ]
    },
    {
      "cell_type": "code",
      "source": [
        "from google.colab import drive\n",
        "drive.mount('/content/drive')"
      ],
      "metadata": {
        "colab": {
          "base_uri": "https://localhost:8080/"
        },
        "id": "7LoeZxmVPMxp",
        "outputId": "6b79a232-6d1b-41a5-bfcf-7628baea2ccc"
      },
      "execution_count": 2,
      "outputs": [
        {
          "output_type": "stream",
          "name": "stdout",
          "text": [
            "Mounted at /content/drive\n"
          ]
        }
      ]
    },
    {
      "cell_type": "code",
      "source": [
        "from tensorflow.keras import models\n",
        "from tensorflow.keras import layers\n",
        "from tensorflow.keras import optimizers\n",
        "import os\n",
        "import glob\n",
        "import shutil\n",
        "import sys\n",
        "import numpy as np\n",
        "from skimage.io import imread\n",
        "import matplotlib.pyplot as plt\n",
        "from IPython.display import Image\n",
        "%matplotlib inline"
      ],
      "metadata": {
        "id": "1pX9g1HxPM2f"
      },
      "execution_count": 3,
      "outputs": []
    },
    {
      "cell_type": "code",
      "source": [
        "batch_size = 16\n",
        "width = 150\n",
        "height = 150\n",
        "epochs = 250\n",
        "NUM_TRAIN = 1425\n",
        "NUM_TEST = 475\n",
        "dropout_rate = 0.2\n",
        "input_shape = (height, width, 3)"
      ],
      "metadata": {
        "id": "eSFtvGyvPM6O"
      },
      "execution_count": 4,
      "outputs": []
    },
    {
      "cell_type": "code",
      "source": [
        "#ดึงข้อมูลใน Github มาใช้\n",
        "import os\n",
        "%cd /content\n",
        "if not os.path.isdir(\"efficientnet_keras_transfer_learning\"):\n",
        " !git clone https://github.com/Wanita-8943/efficientnet_keras_transfer_learning\n",
        "%cd efficientnet_keras_transfer_learning/"
      ],
      "metadata": {
        "colab": {
          "base_uri": "https://localhost:8080/"
        },
        "id": "lb4K4CsMPNAW",
        "outputId": "056ca190-3e29-416a-e327-ff507a3fd036"
      },
      "execution_count": 5,
      "outputs": [
        {
          "output_type": "stream",
          "name": "stdout",
          "text": [
            "/content\n",
            "Cloning into 'efficientnet_keras_transfer_learning'...\n",
            "remote: Enumerating objects: 837, done.\u001b[K\n",
            "remote: Total 837 (delta 0), reused 0 (delta 0), pack-reused 837\u001b[K\n",
            "Receiving objects: 100% (837/837), 13.85 MiB | 16.99 MiB/s, done.\n",
            "Resolving deltas: 100% (497/497), done.\n",
            "/content/efficientnet_keras_transfer_learning\n"
          ]
        }
      ]
    },
    {
      "cell_type": "code",
      "source": [
        "# Options: EfficientNetB0, EfficientNetB1, EfficientNetB2, EfficientNetB3\n",
        "# Higher the number, the more complex the model is.\n",
        "from efficientnet import EfficientNetB0 as Net\n",
        "from efficientnet import center_crop_and_resize, preprocess_input"
      ],
      "metadata": {
        "id": "eyBg0dLKPND3"
      },
      "execution_count": 6,
      "outputs": []
    },
    {
      "cell_type": "code",
      "source": [
        "base_dir = '/content/drive/MyDrive/TVT_Male125'\n",
        "os.makedirs(base_dir, exist_ok=True)\n",
        "\n",
        "# Directories for our training,\n",
        "# validation and test splits\n",
        "train_dir = os.path.join(base_dir, 'train')\n",
        "os.makedirs(train_dir, exist_ok=True)\n",
        "validation_dir = os.path.join(base_dir, 'validation')\n",
        "os.makedirs(validation_dir, exist_ok=True)\n",
        "test_dir = os.path.join(base_dir, 'test')\n",
        "os.makedirs(test_dir, exist_ok=True)"
      ],
      "metadata": {
        "id": "Jwpq_-KvPef8"
      },
      "execution_count": 7,
      "outputs": []
    },
    {
      "cell_type": "markdown",
      "source": [
        "#load model"
      ],
      "metadata": {
        "id": "od-ZSNm5PoGy"
      }
    },
    {
      "cell_type": "code",
      "source": [
        "import sys\n",
        "sys.path.append('/content/drive/MyDrive/cut_panoramic/Model/Classification/Male/11_รอบแรก_Flimpano_Male125_250.h5')\n",
        "\n",
        "from efficientnet.layers import Swish, DropConnect\n",
        "from efficientnet.model import ConvKernalInitializer\n",
        "from tensorflow.keras.utils import get_custom_objects\n",
        "\n",
        "get_custom_objects().update({\n",
        "    'ConvKernalInitializer': ConvKernalInitializer,\n",
        "    'Swish': Swish,\n",
        "    'DropConnect':DropConnect\n",
        "})"
      ],
      "metadata": {
        "id": "n5iPL5MNPkhE"
      },
      "execution_count": 8,
      "outputs": []
    },
    {
      "cell_type": "code",
      "source": [
        "#load model \n",
        "from tensorflow.keras.models import load_model\n",
        "model = load_model('/content/drive/MyDrive/cut_panoramic/Model/Classification/Male/11_รอบแรก_Flimpano_Male125_250.h5')\n",
        "height = width = model.input_shape[1]"
      ],
      "metadata": {
        "id": "plYz49xMPkly",
        "colab": {
          "base_uri": "https://localhost:8080/"
        },
        "outputId": "ad22a5b5-c7b5-49a6-95df-ce938347eb74"
      },
      "execution_count": 9,
      "outputs": [
        {
          "output_type": "stream",
          "name": "stderr",
          "text": [
            "WARNING:tensorflow:From /usr/local/lib/python3.8/dist-packages/tensorflow/python/autograph/pyct/static_analysis/liveness.py:83: Analyzer.lamba_check (from tensorflow.python.autograph.pyct.static_analysis.liveness) is deprecated and will be removed after 2023-09-23.\n",
            "Instructions for updating:\n",
            "Lambda fuctions will be no more assumed to be used in the statement where they are used, or at least in the same block. https://github.com/tensorflow/tensorflow/issues/56089\n"
          ]
        }
      ]
    },
    {
      "cell_type": "code",
      "source": [
        "model.summary()"
      ],
      "metadata": {
        "colab": {
          "base_uri": "https://localhost:8080/"
        },
        "id": "z6IOPBflFbvc",
        "outputId": "f75db5ad-3627-4811-a683-dda70c17cd79"
      },
      "execution_count": 10,
      "outputs": [
        {
          "output_type": "stream",
          "name": "stdout",
          "text": [
            "Model: \"sequential\"\n",
            "_________________________________________________________________\n",
            " Layer (type)                Output Shape              Param #   \n",
            "=================================================================\n",
            " efficientnet-b0 (Functional  (None, 5, 5, 1280)       4049564   \n",
            " )                                                               \n",
            "                                                                 \n",
            " gap (GlobalMaxPooling2D)    (None, 1280)              0         \n",
            "                                                                 \n",
            " dropout_out (Dropout)       (None, 1280)              0         \n",
            "                                                                 \n",
            " fc_out (Dense)              (None, 19)                24339     \n",
            "                                                                 \n",
            "=================================================================\n",
            "Total params: 4,073,903\n",
            "Trainable params: 24,339\n",
            "Non-trainable params: 4,049,564\n",
            "_________________________________________________________________\n"
          ]
        }
      ]
    },
    {
      "cell_type": "code",
      "source": [
        "# Train ด้วย ImageDataGenerator ของ Keras ซึ่งจะเพิ่มข้อมูลเสริมระหว่างการฝึกเพื่อลดโอกาสเกิด overfitting\n",
        "#overfitting เกิดจากข้อมูลที่ซับซ้อนกันเกินไป\n",
        "from tensorflow.keras.preprocessing.image import ImageDataGenerator\n",
        "\n",
        "train_datagen = ImageDataGenerator(\n",
        "      rescale=1./255, #โมเดลส่วนใหญ่ต้องใช้ RGB ในช่วง 0–1\n",
        "      rotation_range=40,\n",
        "      width_shift_range=0.2,\n",
        "      height_shift_range=0.2,\n",
        "      shear_range=0.2,\n",
        "      zoom_range=0.2,\n",
        "      horizontal_flip=True,\n",
        "      fill_mode='nearest')\n",
        "\n",
        "# Note that the validation data should not be augmented!\n",
        "test_datagen = ImageDataGenerator(rescale=1./255)\n",
        "\n",
        "train_generator = train_datagen.flow_from_directory(\n",
        "        # This is the target directory #ไดเรกเป้าหมาย\n",
        "        train_dir,\n",
        "        # รูปภาพทั้งหมดจะถูกปรับขนาดตามความสูงและความกว้างของเป้าหมาย\n",
        "        target_size=(height, width),\n",
        "        batch_size=batch_size,\n",
        "        # Since we use categorical_crossentropy loss, we need categorical labels\n",
        "        #เนื่องจากเราใช้ categorical_crossentropy loss เราจึงต้องมีป้ายกำกับตามหมวดหมู่\n",
        "        class_mode='categorical')\n",
        "\n",
        "validation_generator = test_datagen.flow_from_directory( #การดึงภาพจาก Directory มาเข้าโมเดล \n",
        "        validation_dir,\n",
        "        target_size=(height, width),\n",
        "        batch_size=batch_size,\n",
        "        class_mode='categorical')"
      ],
      "metadata": {
        "colab": {
          "base_uri": "https://localhost:8080/"
        },
        "id": "KBMZbdr2Pgw4",
        "outputId": "2b40791c-b7e8-4631-8c65-e9f408fa4d67"
      },
      "execution_count": 11,
      "outputs": [
        {
          "output_type": "stream",
          "name": "stdout",
          "text": [
            "Found 1425 images belonging to 19 classes.\n",
            "Found 475 images belonging to 19 classes.\n"
          ]
        }
      ]
    },
    {
      "cell_type": "code",
      "source": [
        "history = model.fit_generator(\n",
        "      train_generator,\n",
        "      steps_per_epoch= NUM_TRAIN //batch_size,\n",
        "      epochs=epochs,\n",
        "      validation_data=validation_generator,\n",
        "      validation_steps= NUM_TEST //batch_size,\n",
        "      verbose=1,\n",
        "      use_multiprocessing=True,\n",
        "      workers=4)"
      ],
      "metadata": {
        "colab": {
          "base_uri": "https://localhost:8080/"
        },
        "id": "C9Cf1dwyP1PD",
        "outputId": "e3626eb7-05f8-449d-e0c3-c38fc8564bcc"
      },
      "execution_count": 12,
      "outputs": [
        {
          "output_type": "stream",
          "name": "stderr",
          "text": [
            "<ipython-input-12-caa7b37242a8>:1: UserWarning: `Model.fit_generator` is deprecated and will be removed in a future version. Please use `Model.fit`, which supports generators.\n",
            "  history = model.fit_generator(\n"
          ]
        },
        {
          "output_type": "stream",
          "name": "stdout",
          "text": [
            "Epoch 1/250\n",
            "89/89 [==============================] - 342s 4s/step - loss: 2.6407 - acc: 0.1824 - val_loss: 2.6382 - val_acc: 0.1810\n",
            "Epoch 2/250\n",
            "89/89 [==============================] - 27s 293ms/step - loss: 2.6653 - acc: 0.1703 - val_loss: 2.6224 - val_acc: 0.1767\n",
            "Epoch 3/250\n",
            "89/89 [==============================] - 27s 300ms/step - loss: 2.6012 - acc: 0.1732 - val_loss: 2.6301 - val_acc: 0.1767\n",
            "Epoch 4/250\n",
            "89/89 [==============================] - 27s 298ms/step - loss: 2.5767 - acc: 0.1895 - val_loss: 2.6323 - val_acc: 0.1767\n",
            "Epoch 5/250\n",
            "89/89 [==============================] - 27s 301ms/step - loss: 2.5987 - acc: 0.1781 - val_loss: 2.6445 - val_acc: 0.1767\n",
            "Epoch 6/250\n",
            "89/89 [==============================] - 26s 291ms/step - loss: 2.6561 - acc: 0.1774 - val_loss: 2.6147 - val_acc: 0.1853\n",
            "Epoch 7/250\n",
            "89/89 [==============================] - 26s 285ms/step - loss: 2.6334 - acc: 0.1746 - val_loss: 2.6226 - val_acc: 0.1832\n",
            "Epoch 8/250\n",
            "89/89 [==============================] - 26s 281ms/step - loss: 2.6340 - acc: 0.1760 - val_loss: 2.6324 - val_acc: 0.1853\n",
            "Epoch 9/250\n",
            "89/89 [==============================] - 26s 281ms/step - loss: 2.5869 - acc: 0.1831 - val_loss: 2.6430 - val_acc: 0.1724\n",
            "Epoch 10/250\n",
            "89/89 [==============================] - 21s 228ms/step - loss: 2.5569 - acc: 0.2016 - val_loss: 2.6368 - val_acc: 0.1746\n",
            "Epoch 11/250\n",
            "89/89 [==============================] - 26s 284ms/step - loss: 2.6085 - acc: 0.1789 - val_loss: 2.6155 - val_acc: 0.1789\n",
            "Epoch 12/250\n",
            "89/89 [==============================] - 27s 298ms/step - loss: 2.5623 - acc: 0.1945 - val_loss: 2.6089 - val_acc: 0.1789\n",
            "Epoch 13/250\n",
            "89/89 [==============================] - 26s 284ms/step - loss: 2.6028 - acc: 0.1838 - val_loss: 2.6152 - val_acc: 0.1875\n",
            "Epoch 14/250\n",
            "89/89 [==============================] - 26s 281ms/step - loss: 2.5842 - acc: 0.1831 - val_loss: 2.6084 - val_acc: 0.1832\n",
            "Epoch 15/250\n",
            "89/89 [==============================] - 26s 288ms/step - loss: 2.5644 - acc: 0.1874 - val_loss: 2.6078 - val_acc: 0.1853\n",
            "Epoch 16/250\n",
            "89/89 [==============================] - 26s 280ms/step - loss: 2.5832 - acc: 0.1796 - val_loss: 2.6208 - val_acc: 0.1767\n",
            "Epoch 17/250\n",
            "89/89 [==============================] - 21s 224ms/step - loss: 2.6316 - acc: 0.1689 - val_loss: 2.6318 - val_acc: 0.1810\n",
            "Epoch 18/250\n",
            "89/89 [==============================] - 27s 298ms/step - loss: 2.6117 - acc: 0.1817 - val_loss: 2.6478 - val_acc: 0.1832\n",
            "Epoch 19/250\n",
            "89/89 [==============================] - 27s 300ms/step - loss: 2.5794 - acc: 0.1916 - val_loss: 2.6361 - val_acc: 0.1853\n",
            "Epoch 20/250\n",
            "89/89 [==============================] - 27s 303ms/step - loss: 2.5918 - acc: 0.2023 - val_loss: 2.6435 - val_acc: 0.1810\n",
            "Epoch 21/250\n",
            "89/89 [==============================] - 27s 296ms/step - loss: 2.5964 - acc: 0.1774 - val_loss: 2.6576 - val_acc: 0.1789\n",
            "Epoch 22/250\n",
            "89/89 [==============================] - 21s 226ms/step - loss: 2.5202 - acc: 0.1916 - val_loss: 2.6287 - val_acc: 0.1789\n",
            "Epoch 23/250\n",
            "89/89 [==============================] - 27s 297ms/step - loss: 2.6101 - acc: 0.1703 - val_loss: 2.6271 - val_acc: 0.1767\n",
            "Epoch 24/250\n",
            "89/89 [==============================] - 26s 287ms/step - loss: 2.5007 - acc: 0.2122 - val_loss: 2.6318 - val_acc: 0.1703\n",
            "Epoch 25/250\n",
            "89/89 [==============================] - 27s 292ms/step - loss: 2.6408 - acc: 0.1753 - val_loss: 2.6303 - val_acc: 0.1789\n",
            "Epoch 26/250\n",
            "89/89 [==============================] - 26s 280ms/step - loss: 2.5603 - acc: 0.1810 - val_loss: 2.6376 - val_acc: 0.1767\n",
            "Epoch 27/250\n",
            "89/89 [==============================] - 25s 273ms/step - loss: 2.5857 - acc: 0.1973 - val_loss: 2.6328 - val_acc: 0.1767\n",
            "Epoch 28/250\n",
            "89/89 [==============================] - 26s 290ms/step - loss: 2.5434 - acc: 0.2001 - val_loss: 2.6353 - val_acc: 0.1703\n",
            "Epoch 29/250\n",
            "89/89 [==============================] - 25s 275ms/step - loss: 2.5788 - acc: 0.1810 - val_loss: 2.6277 - val_acc: 0.1789\n",
            "Epoch 30/250\n",
            "89/89 [==============================] - 27s 291ms/step - loss: 2.5483 - acc: 0.1909 - val_loss: 2.6249 - val_acc: 0.1789\n",
            "Epoch 31/250\n",
            "89/89 [==============================] - 25s 277ms/step - loss: 2.5542 - acc: 0.1895 - val_loss: 2.6284 - val_acc: 0.1810\n",
            "Epoch 32/250\n",
            "89/89 [==============================] - 26s 282ms/step - loss: 2.5501 - acc: 0.1980 - val_loss: 2.6563 - val_acc: 0.1746\n",
            "Epoch 33/250\n",
            "89/89 [==============================] - 27s 301ms/step - loss: 2.6061 - acc: 0.1945 - val_loss: 2.6520 - val_acc: 0.1703\n",
            "Epoch 34/250\n",
            "89/89 [==============================] - 26s 281ms/step - loss: 2.5161 - acc: 0.2058 - val_loss: 2.6351 - val_acc: 0.1789\n",
            "Epoch 35/250\n",
            "89/89 [==============================] - 27s 295ms/step - loss: 2.5798 - acc: 0.1867 - val_loss: 2.6317 - val_acc: 0.1810\n",
            "Epoch 36/250\n",
            "89/89 [==============================] - 27s 296ms/step - loss: 2.5203 - acc: 0.2072 - val_loss: 2.6394 - val_acc: 0.1767\n",
            "Epoch 37/250\n",
            "89/89 [==============================] - 27s 294ms/step - loss: 2.6107 - acc: 0.1767 - val_loss: 2.6280 - val_acc: 0.1746\n",
            "Epoch 38/250\n",
            "89/89 [==============================] - 21s 227ms/step - loss: 2.6039 - acc: 0.1760 - val_loss: 2.6444 - val_acc: 0.1767\n",
            "Epoch 39/250\n",
            "89/89 [==============================] - 27s 287ms/step - loss: 2.5452 - acc: 0.1923 - val_loss: 2.6228 - val_acc: 0.1703\n",
            "Epoch 40/250\n",
            "89/89 [==============================] - 27s 293ms/step - loss: 2.5780 - acc: 0.1845 - val_loss: 2.6306 - val_acc: 0.1767\n",
            "Epoch 41/250\n",
            "89/89 [==============================] - 27s 292ms/step - loss: 2.5433 - acc: 0.2016 - val_loss: 2.6315 - val_acc: 0.1724\n",
            "Epoch 42/250\n",
            "89/89 [==============================] - 28s 304ms/step - loss: 2.5214 - acc: 0.1980 - val_loss: 2.6165 - val_acc: 0.1810\n",
            "Epoch 43/250\n",
            "89/89 [==============================] - 22s 242ms/step - loss: 2.5562 - acc: 0.2094 - val_loss: 2.6203 - val_acc: 0.1832\n",
            "Epoch 44/250\n",
            "89/89 [==============================] - 20s 221ms/step - loss: 2.5850 - acc: 0.1753 - val_loss: 2.6247 - val_acc: 0.1810\n",
            "Epoch 45/250\n",
            "89/89 [==============================] - 27s 300ms/step - loss: 2.5618 - acc: 0.1909 - val_loss: 2.6223 - val_acc: 0.1703\n",
            "Epoch 46/250\n",
            "89/89 [==============================] - 27s 298ms/step - loss: 2.5927 - acc: 0.1789 - val_loss: 2.6231 - val_acc: 0.1832\n",
            "Epoch 47/250\n",
            "89/89 [==============================] - 21s 233ms/step - loss: 2.5311 - acc: 0.1831 - val_loss: 2.6077 - val_acc: 0.1746\n",
            "Epoch 48/250\n",
            "89/89 [==============================] - 26s 275ms/step - loss: 2.5567 - acc: 0.1930 - val_loss: 2.6040 - val_acc: 0.1746\n",
            "Epoch 49/250\n",
            "89/89 [==============================] - 27s 291ms/step - loss: 2.5689 - acc: 0.1909 - val_loss: 2.6268 - val_acc: 0.1746\n",
            "Epoch 50/250\n",
            "89/89 [==============================] - 27s 301ms/step - loss: 2.5243 - acc: 0.1959 - val_loss: 2.6154 - val_acc: 0.1746\n",
            "Epoch 51/250\n",
            "89/89 [==============================] - 27s 300ms/step - loss: 2.5962 - acc: 0.1888 - val_loss: 2.6216 - val_acc: 0.1767\n",
            "Epoch 52/250\n",
            "89/89 [==============================] - 27s 299ms/step - loss: 2.5459 - acc: 0.1803 - val_loss: 2.6346 - val_acc: 0.1832\n",
            "Epoch 53/250\n",
            "89/89 [==============================] - 22s 243ms/step - loss: 2.4939 - acc: 0.1987 - val_loss: 2.6214 - val_acc: 0.1789\n",
            "Epoch 54/250\n",
            "89/89 [==============================] - 27s 300ms/step - loss: 2.4983 - acc: 0.1838 - val_loss: 2.6212 - val_acc: 0.1810\n",
            "Epoch 55/250\n",
            "89/89 [==============================] - 25s 279ms/step - loss: 2.5452 - acc: 0.1930 - val_loss: 2.6257 - val_acc: 0.1789\n",
            "Epoch 56/250\n",
            "89/89 [==============================] - 27s 299ms/step - loss: 2.5123 - acc: 0.2044 - val_loss: 2.6264 - val_acc: 0.1789\n",
            "Epoch 57/250\n",
            "89/89 [==============================] - 27s 301ms/step - loss: 2.5263 - acc: 0.1994 - val_loss: 2.6355 - val_acc: 0.1724\n",
            "Epoch 58/250\n",
            "89/89 [==============================] - 22s 235ms/step - loss: 2.6317 - acc: 0.1838 - val_loss: 2.6348 - val_acc: 0.1703\n",
            "Epoch 59/250\n",
            "89/89 [==============================] - 27s 296ms/step - loss: 2.5299 - acc: 0.2001 - val_loss: 2.6365 - val_acc: 0.1767\n",
            "Epoch 60/250\n",
            "89/89 [==============================] - 27s 298ms/step - loss: 2.5809 - acc: 0.1824 - val_loss: 2.6354 - val_acc: 0.1703\n",
            "Epoch 61/250\n",
            "89/89 [==============================] - 27s 293ms/step - loss: 2.5534 - acc: 0.2094 - val_loss: 2.6314 - val_acc: 0.1724\n",
            "Epoch 62/250\n",
            "89/89 [==============================] - 27s 296ms/step - loss: 2.5283 - acc: 0.2030 - val_loss: 2.6237 - val_acc: 0.1789\n",
            "Epoch 63/250\n",
            "89/89 [==============================] - 27s 300ms/step - loss: 2.5393 - acc: 0.1952 - val_loss: 2.6230 - val_acc: 0.1703\n",
            "Epoch 64/250\n",
            "89/89 [==============================] - 26s 282ms/step - loss: 2.5252 - acc: 0.1888 - val_loss: 2.6476 - val_acc: 0.1659\n",
            "Epoch 65/250\n",
            "89/89 [==============================] - 27s 293ms/step - loss: 2.5170 - acc: 0.2065 - val_loss: 2.6173 - val_acc: 0.1767\n",
            "Epoch 66/250\n",
            "89/89 [==============================] - 25s 278ms/step - loss: 2.5505 - acc: 0.1923 - val_loss: 2.6370 - val_acc: 0.1724\n",
            "Epoch 67/250\n",
            "89/89 [==============================] - 27s 295ms/step - loss: 2.5235 - acc: 0.2172 - val_loss: 2.6156 - val_acc: 0.1659\n",
            "Epoch 68/250\n",
            "89/89 [==============================] - 20s 222ms/step - loss: 2.5024 - acc: 0.1966 - val_loss: 2.6182 - val_acc: 0.1703\n",
            "Epoch 69/250\n",
            "89/89 [==============================] - 26s 281ms/step - loss: 2.4923 - acc: 0.1938 - val_loss: 2.6223 - val_acc: 0.1767\n",
            "Epoch 70/250\n",
            "89/89 [==============================] - 27s 297ms/step - loss: 2.5345 - acc: 0.1938 - val_loss: 2.6117 - val_acc: 0.1638\n",
            "Epoch 71/250\n",
            "89/89 [==============================] - 22s 240ms/step - loss: 2.4971 - acc: 0.1966 - val_loss: 2.6436 - val_acc: 0.1746\n",
            "Epoch 72/250\n",
            "89/89 [==============================] - 27s 299ms/step - loss: 2.5256 - acc: 0.1952 - val_loss: 2.6427 - val_acc: 0.1767\n",
            "Epoch 73/250\n",
            "89/89 [==============================] - 27s 296ms/step - loss: 2.5065 - acc: 0.1909 - val_loss: 2.6214 - val_acc: 0.1767\n",
            "Epoch 74/250\n",
            "89/89 [==============================] - 27s 301ms/step - loss: 2.5337 - acc: 0.1945 - val_loss: 2.6208 - val_acc: 0.1746\n",
            "Epoch 75/250\n",
            "89/89 [==============================] - 26s 285ms/step - loss: 2.4974 - acc: 0.2037 - val_loss: 2.6287 - val_acc: 0.1767\n",
            "Epoch 76/250\n",
            "89/89 [==============================] - 25s 280ms/step - loss: 2.5452 - acc: 0.1902 - val_loss: 2.6249 - val_acc: 0.1767\n",
            "Epoch 77/250\n",
            "89/89 [==============================] - 20s 220ms/step - loss: 2.4841 - acc: 0.2001 - val_loss: 2.6391 - val_acc: 0.1681\n",
            "Epoch 78/250\n",
            "89/89 [==============================] - 22s 245ms/step - loss: 2.5164 - acc: 0.2065 - val_loss: 2.6423 - val_acc: 0.1681\n",
            "Epoch 79/250\n",
            "89/89 [==============================] - 25s 276ms/step - loss: 2.4800 - acc: 0.2101 - val_loss: 2.6540 - val_acc: 0.1681\n",
            "Epoch 80/250\n",
            "89/89 [==============================] - 25s 276ms/step - loss: 2.4973 - acc: 0.2044 - val_loss: 2.6344 - val_acc: 0.1724\n",
            "Epoch 81/250\n",
            "89/89 [==============================] - 26s 277ms/step - loss: 2.4758 - acc: 0.2108 - val_loss: 2.6171 - val_acc: 0.1810\n",
            "Epoch 82/250\n",
            "89/89 [==============================] - 26s 283ms/step - loss: 2.5383 - acc: 0.1859 - val_loss: 2.6399 - val_acc: 0.1724\n",
            "Epoch 83/250\n",
            "89/89 [==============================] - 27s 301ms/step - loss: 2.5359 - acc: 0.1909 - val_loss: 2.6605 - val_acc: 0.1681\n",
            "Epoch 84/250\n",
            "89/89 [==============================] - 27s 297ms/step - loss: 2.5328 - acc: 0.2023 - val_loss: 2.6404 - val_acc: 0.1767\n",
            "Epoch 85/250\n",
            "89/89 [==============================] - 27s 300ms/step - loss: 2.5186 - acc: 0.1945 - val_loss: 2.6333 - val_acc: 0.1724\n",
            "Epoch 86/250\n",
            "89/89 [==============================] - 27s 296ms/step - loss: 2.4608 - acc: 0.2030 - val_loss: 2.6307 - val_acc: 0.1767\n",
            "Epoch 87/250\n",
            "89/89 [==============================] - 26s 287ms/step - loss: 2.5054 - acc: 0.1930 - val_loss: 2.6180 - val_acc: 0.1746\n",
            "Epoch 88/250\n",
            "89/89 [==============================] - 25s 274ms/step - loss: 2.5223 - acc: 0.1959 - val_loss: 2.6406 - val_acc: 0.1746\n",
            "Epoch 89/250\n",
            "89/89 [==============================] - 21s 234ms/step - loss: 2.5330 - acc: 0.1831 - val_loss: 2.6327 - val_acc: 0.1681\n",
            "Epoch 90/250\n",
            "89/89 [==============================] - 25s 280ms/step - loss: 2.4564 - acc: 0.2001 - val_loss: 2.6437 - val_acc: 0.1703\n",
            "Epoch 91/250\n",
            "89/89 [==============================] - 26s 291ms/step - loss: 2.4867 - acc: 0.1909 - val_loss: 2.6466 - val_acc: 0.1659\n",
            "Epoch 92/250\n",
            "89/89 [==============================] - 27s 294ms/step - loss: 2.4884 - acc: 0.2016 - val_loss: 2.6411 - val_acc: 0.1681\n",
            "Epoch 93/250\n",
            "89/89 [==============================] - 25s 278ms/step - loss: 2.5069 - acc: 0.2037 - val_loss: 2.6405 - val_acc: 0.1746\n",
            "Epoch 94/250\n",
            "89/89 [==============================] - 26s 287ms/step - loss: 2.4230 - acc: 0.2165 - val_loss: 2.6426 - val_acc: 0.1746\n",
            "Epoch 95/250\n",
            "89/89 [==============================] - 28s 304ms/step - loss: 2.4796 - acc: 0.2122 - val_loss: 2.6368 - val_acc: 0.1810\n",
            "Epoch 96/250\n",
            "89/89 [==============================] - 27s 295ms/step - loss: 2.4967 - acc: 0.1938 - val_loss: 2.6066 - val_acc: 0.1703\n",
            "Epoch 97/250\n",
            "89/89 [==============================] - 26s 280ms/step - loss: 2.5077 - acc: 0.1987 - val_loss: 2.6197 - val_acc: 0.1746\n",
            "Epoch 98/250\n",
            "89/89 [==============================] - 20s 219ms/step - loss: 2.4654 - acc: 0.1987 - val_loss: 2.6309 - val_acc: 0.1789\n",
            "Epoch 99/250\n",
            "89/89 [==============================] - 22s 238ms/step - loss: 2.4761 - acc: 0.2058 - val_loss: 2.6256 - val_acc: 0.1767\n",
            "Epoch 100/250\n",
            "89/89 [==============================] - 25s 276ms/step - loss: 2.4541 - acc: 0.2051 - val_loss: 2.6495 - val_acc: 0.1681\n",
            "Epoch 101/250\n",
            "89/89 [==============================] - 25s 276ms/step - loss: 2.5381 - acc: 0.1874 - val_loss: 2.6119 - val_acc: 0.1724\n",
            "Epoch 102/250\n",
            "89/89 [==============================] - 20s 220ms/step - loss: 2.4157 - acc: 0.2023 - val_loss: 2.6426 - val_acc: 0.1659\n",
            "Epoch 103/250\n",
            "89/89 [==============================] - 27s 292ms/step - loss: 2.4768 - acc: 0.2023 - val_loss: 2.6417 - val_acc: 0.1746\n",
            "Epoch 104/250\n",
            "89/89 [==============================] - 26s 284ms/step - loss: 2.4984 - acc: 0.1923 - val_loss: 2.6292 - val_acc: 0.1746\n",
            "Epoch 105/250\n",
            "89/89 [==============================] - 26s 286ms/step - loss: 2.4547 - acc: 0.2108 - val_loss: 2.6284 - val_acc: 0.1681\n",
            "Epoch 106/250\n",
            "89/89 [==============================] - 25s 277ms/step - loss: 2.4911 - acc: 0.2023 - val_loss: 2.6305 - val_acc: 0.1681\n",
            "Epoch 107/250\n",
            "89/89 [==============================] - 20s 221ms/step - loss: 2.4416 - acc: 0.2101 - val_loss: 2.6352 - val_acc: 0.1746\n",
            "Epoch 108/250\n",
            "89/89 [==============================] - 27s 297ms/step - loss: 2.4503 - acc: 0.2016 - val_loss: 2.6265 - val_acc: 0.1724\n",
            "Epoch 109/250\n",
            "89/89 [==============================] - 27s 299ms/step - loss: 2.4770 - acc: 0.2001 - val_loss: 2.6062 - val_acc: 0.1746\n",
            "Epoch 110/250\n",
            "89/89 [==============================] - 26s 282ms/step - loss: 2.5300 - acc: 0.1810 - val_loss: 2.6208 - val_acc: 0.1789\n",
            "Epoch 111/250\n",
            "89/89 [==============================] - 27s 293ms/step - loss: 2.4878 - acc: 0.2065 - val_loss: 2.6456 - val_acc: 0.1659\n",
            "Epoch 112/250\n",
            "89/89 [==============================] - 27s 297ms/step - loss: 2.5031 - acc: 0.1973 - val_loss: 2.6329 - val_acc: 0.1703\n",
            "Epoch 113/250\n",
            "89/89 [==============================] - 25s 277ms/step - loss: 2.4432 - acc: 0.2058 - val_loss: 2.6292 - val_acc: 0.1703\n",
            "Epoch 114/250\n",
            "89/89 [==============================] - 27s 297ms/step - loss: 2.4683 - acc: 0.1987 - val_loss: 2.6022 - val_acc: 0.1767\n",
            "Epoch 115/250\n",
            "89/89 [==============================] - 25s 279ms/step - loss: 2.4654 - acc: 0.1888 - val_loss: 2.6433 - val_acc: 0.1724\n",
            "Epoch 116/250\n",
            "89/89 [==============================] - 26s 291ms/step - loss: 2.4666 - acc: 0.2001 - val_loss: 2.6406 - val_acc: 0.1853\n",
            "Epoch 117/250\n",
            "89/89 [==============================] - 25s 278ms/step - loss: 2.5163 - acc: 0.2143 - val_loss: 2.6248 - val_acc: 0.1789\n",
            "Epoch 118/250\n",
            "89/89 [==============================] - 26s 284ms/step - loss: 2.4278 - acc: 0.2023 - val_loss: 2.6579 - val_acc: 0.1681\n",
            "Epoch 119/250\n",
            "89/89 [==============================] - 20s 220ms/step - loss: 2.5260 - acc: 0.1859 - val_loss: 2.6696 - val_acc: 0.1724\n",
            "Epoch 120/250\n",
            "89/89 [==============================] - 27s 305ms/step - loss: 2.4666 - acc: 0.2129 - val_loss: 2.6329 - val_acc: 0.1810\n",
            "Epoch 121/250\n",
            "89/89 [==============================] - 27s 293ms/step - loss: 2.5046 - acc: 0.1930 - val_loss: 2.6317 - val_acc: 0.1853\n",
            "Epoch 122/250\n",
            "89/89 [==============================] - 28s 303ms/step - loss: 2.4415 - acc: 0.2065 - val_loss: 2.6296 - val_acc: 0.1746\n",
            "Epoch 123/250\n",
            "89/89 [==============================] - 29s 319ms/step - loss: 2.4276 - acc: 0.2193 - val_loss: 2.6432 - val_acc: 0.1703\n",
            "Epoch 124/250\n",
            "89/89 [==============================] - 23s 255ms/step - loss: 2.4594 - acc: 0.2051 - val_loss: 2.6686 - val_acc: 0.1703\n",
            "Epoch 125/250\n",
            "89/89 [==============================] - 26s 280ms/step - loss: 2.5012 - acc: 0.2009 - val_loss: 2.6508 - val_acc: 0.1767\n",
            "Epoch 126/250\n",
            "89/89 [==============================] - 26s 284ms/step - loss: 2.4294 - acc: 0.1980 - val_loss: 2.6331 - val_acc: 0.1810\n",
            "Epoch 127/250\n",
            "89/89 [==============================] - 26s 281ms/step - loss: 2.4604 - acc: 0.1959 - val_loss: 2.6523 - val_acc: 0.1746\n",
            "Epoch 128/250\n",
            "89/89 [==============================] - 25s 276ms/step - loss: 2.3931 - acc: 0.2172 - val_loss: 2.6415 - val_acc: 0.1724\n",
            "Epoch 129/250\n",
            "89/89 [==============================] - 26s 289ms/step - loss: 2.4650 - acc: 0.2122 - val_loss: 2.6660 - val_acc: 0.1703\n",
            "Epoch 130/250\n",
            "89/89 [==============================] - 27s 294ms/step - loss: 2.4895 - acc: 0.1987 - val_loss: 2.6486 - val_acc: 0.1789\n",
            "Epoch 131/250\n",
            "89/89 [==============================] - 27s 300ms/step - loss: 2.4105 - acc: 0.2072 - val_loss: 2.6299 - val_acc: 0.1746\n",
            "Epoch 132/250\n",
            "89/89 [==============================] - 25s 279ms/step - loss: 2.4532 - acc: 0.2122 - val_loss: 2.6413 - val_acc: 0.1767\n",
            "Epoch 133/250\n",
            "89/89 [==============================] - 25s 277ms/step - loss: 2.4555 - acc: 0.1987 - val_loss: 2.6422 - val_acc: 0.1746\n",
            "Epoch 134/250\n",
            "89/89 [==============================] - 26s 285ms/step - loss: 2.4134 - acc: 0.2072 - val_loss: 2.6294 - val_acc: 0.1940\n",
            "Epoch 135/250\n",
            "89/89 [==============================] - 20s 220ms/step - loss: 2.4091 - acc: 0.2221 - val_loss: 2.6419 - val_acc: 0.1897\n",
            "Epoch 136/250\n",
            "89/89 [==============================] - 27s 287ms/step - loss: 2.4453 - acc: 0.2016 - val_loss: 2.6434 - val_acc: 0.1789\n",
            "Epoch 137/250\n",
            "89/89 [==============================] - 27s 300ms/step - loss: 2.4226 - acc: 0.2158 - val_loss: 2.6205 - val_acc: 0.1853\n",
            "Epoch 138/250\n",
            "89/89 [==============================] - 27s 297ms/step - loss: 2.4499 - acc: 0.2207 - val_loss: 2.6438 - val_acc: 0.1767\n",
            "Epoch 139/250\n",
            "89/89 [==============================] - 27s 299ms/step - loss: 2.4144 - acc: 0.2058 - val_loss: 2.6461 - val_acc: 0.1789\n",
            "Epoch 140/250\n",
            "89/89 [==============================] - 26s 290ms/step - loss: 2.5016 - acc: 0.2030 - val_loss: 2.6503 - val_acc: 0.1746\n",
            "Epoch 141/250\n",
            "89/89 [==============================] - 27s 296ms/step - loss: 2.4806 - acc: 0.2087 - val_loss: 2.6641 - val_acc: 0.1724\n",
            "Epoch 142/250\n",
            "89/89 [==============================] - 26s 281ms/step - loss: 2.4573 - acc: 0.2058 - val_loss: 2.6338 - val_acc: 0.1767\n",
            "Epoch 143/250\n",
            "89/89 [==============================] - 20s 219ms/step - loss: 2.4692 - acc: 0.2094 - val_loss: 2.6323 - val_acc: 0.1810\n",
            "Epoch 144/250\n",
            "89/89 [==============================] - 22s 239ms/step - loss: 2.4336 - acc: 0.2101 - val_loss: 2.6376 - val_acc: 0.1789\n",
            "Epoch 145/250\n",
            "89/89 [==============================] - 25s 280ms/step - loss: 2.4485 - acc: 0.1980 - val_loss: 2.6557 - val_acc: 0.1789\n",
            "Epoch 146/250\n",
            "89/89 [==============================] - 25s 277ms/step - loss: 2.4575 - acc: 0.2136 - val_loss: 2.6526 - val_acc: 0.1746\n",
            "Epoch 147/250\n",
            "89/89 [==============================] - 21s 222ms/step - loss: 2.4247 - acc: 0.2193 - val_loss: 2.6446 - val_acc: 0.1746\n",
            "Epoch 148/250\n",
            "89/89 [==============================] - 26s 281ms/step - loss: 2.4269 - acc: 0.2087 - val_loss: 2.6376 - val_acc: 0.1767\n",
            "Epoch 149/250\n",
            "89/89 [==============================] - 27s 297ms/step - loss: 2.4424 - acc: 0.1945 - val_loss: 2.6420 - val_acc: 0.1703\n",
            "Epoch 150/250\n",
            "89/89 [==============================] - 27s 300ms/step - loss: 2.4566 - acc: 0.2122 - val_loss: 2.6258 - val_acc: 0.1724\n",
            "Epoch 151/250\n",
            "89/89 [==============================] - 27s 298ms/step - loss: 2.3964 - acc: 0.2087 - val_loss: 2.6478 - val_acc: 0.1746\n",
            "Epoch 152/250\n",
            "89/89 [==============================] - 21s 227ms/step - loss: 2.4547 - acc: 0.2179 - val_loss: 2.6315 - val_acc: 0.1789\n",
            "Epoch 153/250\n",
            "89/89 [==============================] - 26s 279ms/step - loss: 2.4387 - acc: 0.2087 - val_loss: 2.6557 - val_acc: 0.1746\n",
            "Epoch 154/250\n",
            "89/89 [==============================] - 27s 291ms/step - loss: 2.4391 - acc: 0.2342 - val_loss: 2.6539 - val_acc: 0.1724\n",
            "Epoch 155/250\n",
            "89/89 [==============================] - 27s 297ms/step - loss: 2.4690 - acc: 0.1952 - val_loss: 2.6371 - val_acc: 0.1746\n",
            "Epoch 156/250\n",
            "89/89 [==============================] - 26s 289ms/step - loss: 2.4191 - acc: 0.2058 - val_loss: 2.6303 - val_acc: 0.1810\n",
            "Epoch 157/250\n",
            "89/89 [==============================] - 27s 298ms/step - loss: 2.4469 - acc: 0.2016 - val_loss: 2.6291 - val_acc: 0.1789\n",
            "Epoch 158/250\n",
            "89/89 [==============================] - 28s 307ms/step - loss: 2.4495 - acc: 0.2101 - val_loss: 2.6479 - val_acc: 0.1789\n",
            "Epoch 159/250\n",
            "89/89 [==============================] - 27s 294ms/step - loss: 2.3762 - acc: 0.2186 - val_loss: 2.6572 - val_acc: 0.1789\n",
            "Epoch 160/250\n",
            "89/89 [==============================] - 20s 222ms/step - loss: 2.4335 - acc: 0.2079 - val_loss: 2.6335 - val_acc: 0.1746\n",
            "Epoch 161/250\n",
            "89/89 [==============================] - 25s 279ms/step - loss: 2.4460 - acc: 0.2172 - val_loss: 2.6223 - val_acc: 0.1810\n",
            "Epoch 162/250\n",
            "89/89 [==============================] - 25s 275ms/step - loss: 2.4088 - acc: 0.2001 - val_loss: 2.6436 - val_acc: 0.1789\n",
            "Epoch 163/250\n",
            "89/89 [==============================] - 25s 280ms/step - loss: 2.3946 - acc: 0.2136 - val_loss: 2.6390 - val_acc: 0.1875\n",
            "Epoch 164/250\n",
            "89/89 [==============================] - 26s 280ms/step - loss: 2.4433 - acc: 0.2179 - val_loss: 2.6557 - val_acc: 0.1918\n",
            "Epoch 165/250\n",
            "89/89 [==============================] - 27s 297ms/step - loss: 2.3837 - acc: 0.2300 - val_loss: 2.6462 - val_acc: 0.1897\n",
            "Epoch 166/250\n",
            "89/89 [==============================] - 26s 283ms/step - loss: 2.4683 - acc: 0.1952 - val_loss: 2.6438 - val_acc: 0.1789\n",
            "Epoch 167/250\n",
            "89/89 [==============================] - 21s 223ms/step - loss: 2.3793 - acc: 0.2335 - val_loss: 2.6262 - val_acc: 0.1875\n",
            "Epoch 168/250\n",
            "89/89 [==============================] - 27s 300ms/step - loss: 2.4027 - acc: 0.2129 - val_loss: 2.6637 - val_acc: 0.1832\n",
            "Epoch 169/250\n",
            "89/89 [==============================] - 26s 282ms/step - loss: 2.3924 - acc: 0.2165 - val_loss: 2.6318 - val_acc: 0.1875\n",
            "Epoch 170/250\n",
            "89/89 [==============================] - 26s 286ms/step - loss: 2.4240 - acc: 0.2101 - val_loss: 2.6406 - val_acc: 0.1832\n",
            "Epoch 171/250\n",
            "89/89 [==============================] - 27s 297ms/step - loss: 2.4028 - acc: 0.2335 - val_loss: 2.6362 - val_acc: 0.1810\n",
            "Epoch 172/250\n",
            "89/89 [==============================] - 26s 289ms/step - loss: 2.4198 - acc: 0.2101 - val_loss: 2.6572 - val_acc: 0.1789\n",
            "Epoch 173/250\n",
            "89/89 [==============================] - 27s 294ms/step - loss: 2.3995 - acc: 0.2037 - val_loss: 2.6367 - val_acc: 0.1810\n",
            "Epoch 174/250\n",
            "89/89 [==============================] - 27s 297ms/step - loss: 2.4295 - acc: 0.2051 - val_loss: 2.6518 - val_acc: 0.1832\n",
            "Epoch 175/250\n",
            "89/89 [==============================] - 28s 303ms/step - loss: 2.3554 - acc: 0.2243 - val_loss: 2.6473 - val_acc: 0.1810\n",
            "Epoch 176/250\n",
            "89/89 [==============================] - 27s 298ms/step - loss: 2.4352 - acc: 0.2129 - val_loss: 2.6392 - val_acc: 0.1810\n",
            "Epoch 177/250\n",
            "89/89 [==============================] - 26s 284ms/step - loss: 2.4533 - acc: 0.2087 - val_loss: 2.6277 - val_acc: 0.1875\n",
            "Epoch 178/250\n",
            "89/89 [==============================] - 21s 224ms/step - loss: 2.4006 - acc: 0.2264 - val_loss: 2.6640 - val_acc: 0.1746\n",
            "Epoch 179/250\n",
            "89/89 [==============================] - 22s 237ms/step - loss: 2.3994 - acc: 0.2349 - val_loss: 2.6600 - val_acc: 0.1875\n",
            "Epoch 180/250\n",
            "89/89 [==============================] - 26s 276ms/step - loss: 2.4232 - acc: 0.2079 - val_loss: 2.6683 - val_acc: 0.1789\n",
            "Epoch 181/250\n",
            "89/89 [==============================] - 25s 275ms/step - loss: 2.3455 - acc: 0.2370 - val_loss: 2.6363 - val_acc: 0.1832\n",
            "Epoch 182/250\n",
            "89/89 [==============================] - 26s 277ms/step - loss: 2.3773 - acc: 0.2122 - val_loss: 2.6465 - val_acc: 0.1810\n",
            "Epoch 183/250\n",
            "89/89 [==============================] - 27s 288ms/step - loss: 2.4017 - acc: 0.2250 - val_loss: 2.6568 - val_acc: 0.1810\n",
            "Epoch 184/250\n",
            "89/89 [==============================] - 27s 296ms/step - loss: 2.3941 - acc: 0.2094 - val_loss: 2.6547 - val_acc: 0.1767\n",
            "Epoch 185/250\n",
            "89/89 [==============================] - 27s 301ms/step - loss: 2.4385 - acc: 0.2172 - val_loss: 2.6389 - val_acc: 0.1832\n",
            "Epoch 186/250\n",
            "89/89 [==============================] - 27s 299ms/step - loss: 2.3942 - acc: 0.2165 - val_loss: 2.6523 - val_acc: 0.1832\n",
            "Epoch 187/250\n",
            "89/89 [==============================] - 26s 285ms/step - loss: 2.4000 - acc: 0.2158 - val_loss: 2.6393 - val_acc: 0.1853\n",
            "Epoch 188/250\n",
            "89/89 [==============================] - 25s 277ms/step - loss: 2.3941 - acc: 0.2257 - val_loss: 2.6354 - val_acc: 0.1853\n",
            "Epoch 189/250\n",
            "89/89 [==============================] - 27s 297ms/step - loss: 2.4504 - acc: 0.2122 - val_loss: 2.6475 - val_acc: 0.1810\n",
            "Epoch 190/250\n",
            "89/89 [==============================] - 22s 245ms/step - loss: 2.3866 - acc: 0.2186 - val_loss: 2.6552 - val_acc: 0.1789\n",
            "Epoch 191/250\n",
            "89/89 [==============================] - 23s 253ms/step - loss: 2.3801 - acc: 0.2108 - val_loss: 2.6363 - val_acc: 0.1875\n",
            "Epoch 192/250\n",
            "89/89 [==============================] - 26s 279ms/step - loss: 2.4060 - acc: 0.2122 - val_loss: 2.6637 - val_acc: 0.1724\n",
            "Epoch 193/250\n",
            "89/89 [==============================] - 26s 288ms/step - loss: 2.3964 - acc: 0.2179 - val_loss: 2.6051 - val_acc: 0.1810\n",
            "Epoch 194/250\n",
            "89/89 [==============================] - 26s 280ms/step - loss: 2.3929 - acc: 0.2193 - val_loss: 2.6620 - val_acc: 0.1853\n",
            "Epoch 195/250\n",
            "89/89 [==============================] - 25s 278ms/step - loss: 2.4909 - acc: 0.1902 - val_loss: 2.6416 - val_acc: 0.1853\n",
            "Epoch 196/250\n",
            "89/89 [==============================] - 22s 244ms/step - loss: 2.3680 - acc: 0.2214 - val_loss: 2.6511 - val_acc: 0.1853\n",
            "Epoch 197/250\n",
            "89/89 [==============================] - 25s 277ms/step - loss: 2.3703 - acc: 0.2257 - val_loss: 2.6503 - val_acc: 0.1918\n",
            "Epoch 198/250\n",
            "89/89 [==============================] - 26s 292ms/step - loss: 2.3716 - acc: 0.2143 - val_loss: 2.6445 - val_acc: 0.1897\n",
            "Epoch 199/250\n",
            "89/89 [==============================] - 27s 293ms/step - loss: 2.3983 - acc: 0.2278 - val_loss: 2.6358 - val_acc: 0.1940\n",
            "Epoch 200/250\n",
            "89/89 [==============================] - 27s 299ms/step - loss: 2.3619 - acc: 0.2200 - val_loss: 2.6490 - val_acc: 0.1853\n",
            "Epoch 201/250\n",
            "89/89 [==============================] - 27s 299ms/step - loss: 2.3461 - acc: 0.2292 - val_loss: 2.6481 - val_acc: 0.1767\n",
            "Epoch 202/250\n",
            "89/89 [==============================] - 27s 294ms/step - loss: 2.3173 - acc: 0.2370 - val_loss: 2.6468 - val_acc: 0.1810\n",
            "Epoch 203/250\n",
            "89/89 [==============================] - 26s 280ms/step - loss: 2.3935 - acc: 0.2214 - val_loss: 2.6594 - val_acc: 0.1853\n",
            "Epoch 204/250\n",
            "89/89 [==============================] - 25s 279ms/step - loss: 2.3856 - acc: 0.2236 - val_loss: 2.6673 - val_acc: 0.1897\n",
            "Epoch 205/250\n",
            "89/89 [==============================] - 27s 295ms/step - loss: 2.4468 - acc: 0.2079 - val_loss: 2.6428 - val_acc: 0.1875\n",
            "Epoch 206/250\n",
            "89/89 [==============================] - 27s 296ms/step - loss: 2.3438 - acc: 0.2257 - val_loss: 2.6573 - val_acc: 0.1789\n",
            "Epoch 207/250\n",
            "89/89 [==============================] - 26s 287ms/step - loss: 2.3804 - acc: 0.2243 - val_loss: 2.6321 - val_acc: 0.1853\n",
            "Epoch 208/250\n",
            "89/89 [==============================] - 27s 297ms/step - loss: 2.4375 - acc: 0.2172 - val_loss: 2.6524 - val_acc: 0.1897\n",
            "Epoch 209/250\n",
            "89/89 [==============================] - 21s 228ms/step - loss: 2.4492 - acc: 0.2044 - val_loss: 2.6347 - val_acc: 0.1832\n",
            "Epoch 210/250\n",
            "89/89 [==============================] - 27s 298ms/step - loss: 2.3503 - acc: 0.2200 - val_loss: 2.6515 - val_acc: 0.1832\n",
            "Epoch 211/250\n",
            "89/89 [==============================] - 27s 293ms/step - loss: 2.3457 - acc: 0.2136 - val_loss: 2.6459 - val_acc: 0.1832\n",
            "Epoch 212/250\n",
            "89/89 [==============================] - 26s 280ms/step - loss: 2.4089 - acc: 0.2229 - val_loss: 2.6516 - val_acc: 0.1832\n",
            "Epoch 213/250\n",
            "89/89 [==============================] - 25s 275ms/step - loss: 2.3497 - acc: 0.2278 - val_loss: 2.6497 - val_acc: 0.1940\n",
            "Epoch 214/250\n",
            "89/89 [==============================] - 26s 284ms/step - loss: 2.3889 - acc: 0.2186 - val_loss: 2.6687 - val_acc: 0.1832\n",
            "Epoch 215/250\n",
            "89/89 [==============================] - 32s 347ms/step - loss: 2.3680 - acc: 0.2328 - val_loss: 2.6821 - val_acc: 0.1875\n",
            "Epoch 216/250\n",
            "89/89 [==============================] - 27s 299ms/step - loss: 2.3697 - acc: 0.2200 - val_loss: 2.6528 - val_acc: 0.1940\n",
            "Epoch 217/250\n",
            "89/89 [==============================] - 26s 286ms/step - loss: 2.3321 - acc: 0.2342 - val_loss: 2.6748 - val_acc: 0.1767\n",
            "Epoch 218/250\n",
            "89/89 [==============================] - 27s 299ms/step - loss: 2.3855 - acc: 0.2150 - val_loss: 2.6655 - val_acc: 0.1853\n",
            "Epoch 219/250\n",
            "89/89 [==============================] - 26s 283ms/step - loss: 2.4206 - acc: 0.2214 - val_loss: 2.6710 - val_acc: 0.1853\n",
            "Epoch 220/250\n",
            "89/89 [==============================] - 27s 293ms/step - loss: 2.3987 - acc: 0.2257 - val_loss: 2.6527 - val_acc: 0.1832\n",
            "Epoch 221/250\n",
            "89/89 [==============================] - 25s 276ms/step - loss: 2.3253 - acc: 0.2349 - val_loss: 2.6668 - val_acc: 0.1897\n",
            "Epoch 222/250\n",
            "89/89 [==============================] - 28s 306ms/step - loss: 2.3845 - acc: 0.2143 - val_loss: 2.6661 - val_acc: 0.1810\n",
            "Epoch 223/250\n",
            "89/89 [==============================] - 26s 289ms/step - loss: 2.3419 - acc: 0.2328 - val_loss: 2.6770 - val_acc: 0.1746\n",
            "Epoch 224/250\n",
            "89/89 [==============================] - 27s 301ms/step - loss: 2.3329 - acc: 0.2314 - val_loss: 2.6466 - val_acc: 0.1767\n",
            "Epoch 225/250\n",
            "89/89 [==============================] - 27s 295ms/step - loss: 2.3907 - acc: 0.2044 - val_loss: 2.6764 - val_acc: 0.1810\n",
            "Epoch 226/250\n",
            "89/89 [==============================] - 27s 292ms/step - loss: 2.4046 - acc: 0.2108 - val_loss: 2.6602 - val_acc: 0.1832\n",
            "Epoch 227/250\n",
            "89/89 [==============================] - 22s 240ms/step - loss: 2.3980 - acc: 0.2079 - val_loss: 2.6785 - val_acc: 0.1767\n",
            "Epoch 228/250\n",
            "89/89 [==============================] - 26s 280ms/step - loss: 2.4670 - acc: 0.1867 - val_loss: 2.6561 - val_acc: 0.1810\n",
            "Epoch 229/250\n",
            "89/89 [==============================] - 25s 278ms/step - loss: 2.3992 - acc: 0.2150 - val_loss: 2.6545 - val_acc: 0.1789\n",
            "Epoch 230/250\n",
            "89/89 [==============================] - 25s 277ms/step - loss: 2.4043 - acc: 0.2179 - val_loss: 2.6690 - val_acc: 0.1832\n",
            "Epoch 231/250\n",
            "89/89 [==============================] - 26s 280ms/step - loss: 2.3838 - acc: 0.2136 - val_loss: 2.6658 - val_acc: 0.1853\n",
            "Epoch 232/250\n",
            "89/89 [==============================] - 25s 277ms/step - loss: 2.3665 - acc: 0.2108 - val_loss: 2.6443 - val_acc: 0.1897\n",
            "Epoch 233/250\n",
            "89/89 [==============================] - 25s 278ms/step - loss: 2.4000 - acc: 0.2165 - val_loss: 2.6328 - val_acc: 0.1875\n",
            "Epoch 234/250\n",
            "89/89 [==============================] - 23s 248ms/step - loss: 2.4045 - acc: 0.2172 - val_loss: 2.6485 - val_acc: 0.1767\n",
            "Epoch 235/250\n",
            "89/89 [==============================] - 26s 288ms/step - loss: 2.3552 - acc: 0.2186 - val_loss: 2.6422 - val_acc: 0.1724\n",
            "Epoch 236/250\n",
            "89/89 [==============================] - 25s 279ms/step - loss: 2.3309 - acc: 0.2370 - val_loss: 2.6316 - val_acc: 0.1810\n",
            "Epoch 237/250\n",
            "89/89 [==============================] - 25s 277ms/step - loss: 2.3807 - acc: 0.2207 - val_loss: 2.6351 - val_acc: 0.1746\n",
            "Epoch 238/250\n",
            "89/89 [==============================] - 25s 283ms/step - loss: 2.3691 - acc: 0.2370 - val_loss: 2.6197 - val_acc: 0.1789\n",
            "Epoch 239/250\n",
            "89/89 [==============================] - 26s 281ms/step - loss: 2.3185 - acc: 0.2590 - val_loss: 2.6668 - val_acc: 0.1767\n",
            "Epoch 240/250\n",
            "89/89 [==============================] - 29s 316ms/step - loss: 2.3693 - acc: 0.2143 - val_loss: 2.6647 - val_acc: 0.1703\n",
            "Epoch 241/250\n",
            "89/89 [==============================] - 26s 288ms/step - loss: 2.3322 - acc: 0.2257 - val_loss: 2.6667 - val_acc: 0.1767\n",
            "Epoch 242/250\n",
            "89/89 [==============================] - 26s 281ms/step - loss: 2.3365 - acc: 0.2278 - val_loss: 2.6572 - val_acc: 0.1724\n",
            "Epoch 243/250\n",
            "89/89 [==============================] - 27s 296ms/step - loss: 2.3735 - acc: 0.2221 - val_loss: 2.6645 - val_acc: 0.1746\n",
            "Epoch 244/250\n",
            "89/89 [==============================] - 27s 295ms/step - loss: 2.3039 - acc: 0.2349 - val_loss: 2.6893 - val_acc: 0.1875\n",
            "Epoch 245/250\n",
            "89/89 [==============================] - 28s 302ms/step - loss: 2.3474 - acc: 0.2236 - val_loss: 2.6531 - val_acc: 0.1746\n",
            "Epoch 246/250\n",
            "89/89 [==============================] - 26s 288ms/step - loss: 2.3618 - acc: 0.2378 - val_loss: 2.6547 - val_acc: 0.1897\n",
            "Epoch 247/250\n",
            "89/89 [==============================] - 25s 275ms/step - loss: 2.3859 - acc: 0.2349 - val_loss: 2.6429 - val_acc: 0.1832\n",
            "Epoch 248/250\n",
            "89/89 [==============================] - 27s 298ms/step - loss: 2.3818 - acc: 0.2129 - val_loss: 2.6569 - val_acc: 0.1810\n",
            "Epoch 249/250\n",
            "89/89 [==============================] - 27s 295ms/step - loss: 2.3373 - acc: 0.2328 - val_loss: 2.6557 - val_acc: 0.1832\n",
            "Epoch 250/250\n",
            "89/89 [==============================] - 27s 294ms/step - loss: 2.3751 - acc: 0.2285 - val_loss: 2.6509 - val_acc: 0.1767\n"
          ]
        }
      ]
    },
    {
      "cell_type": "code",
      "source": [
        "acc = history.history['acc']\n",
        "val_acc = history.history['val_acc']\n",
        "loss = history.history['loss']\n",
        "val_loss = history.history['val_loss']\n",
        "\n",
        "epochs_x = range(len(acc))\n",
        "\n",
        "plt.plot(epochs_x, acc, 'co', label='Training acc')\n",
        "plt.plot(epochs_x, val_acc, 'k', label='Validation acc')\n",
        "plt.title('Training and validation accuracy')\n",
        "plt.legend()\n",
        "\n",
        "plt.figure()\n",
        "\n",
        "plt.plot(epochs_x, loss, 'co', label='Training loss')\n",
        "plt.plot(epochs_x, val_loss, 'k', label='Validation loss')\n",
        "plt.title('Training and validation loss')\n",
        "plt.legend()\n",
        "\n",
        "plt.show()"
      ],
      "metadata": {
        "id": "kwylTJpTP5XI",
        "colab": {
          "base_uri": "https://localhost:8080/",
          "height": 545
        },
        "outputId": "04734a9a-c277-490f-aa65-b3980d3579f2"
      },
      "execution_count": 13,
      "outputs": [
        {
          "output_type": "display_data",
          "data": {
            "text/plain": [
              "<Figure size 432x288 with 1 Axes>"
            ],
            "image/png": "[encoded data removed]"
          },
          "metadata": {
            "needs_background": "light"
          }
        },
        {
          "output_type": "display_data",
          "data": {
            "text/plain": [
              "<Figure size 432x288 with 1 Axes>"
            ],
            "image/png": "[encoded data removed]"
          },
          "metadata": {
            "needs_background": "light"
          }
        }
      ]
    },
    {
      "cell_type": "markdown",
      "source": [
        "#Download the model"
      ],
      "metadata": {
        "id": "lD-vKaoHQAFd"
      }
    },
    {
      "cell_type": "code",
      "source": [
        "os.makedirs('/content/drive/My Drive/cut_panoramic/Model', exist_ok=True)\n",
        "model.save('/content/drive/My Drive/cut_panoramic/Model/Classification/Male/MM2_Train_Freeze.h5')"
      ],
      "metadata": {
        "id": "74dL7-HLP_Sh"
      },
      "execution_count": 14,
      "outputs": []
    },
    {
      "cell_type": "code",
      "source": [
        "# from google.colab import files\n",
        "# files.download('/content/drive/My Drive/cut_panoramic/Model/2.2_รอบที่2_Flimpano_Male125_250.h5')"
      ],
      "metadata": {
        "id": "qcPW-brHQDpc"
      },
      "execution_count": 15,
      "outputs": []
    },
    {
      "cell_type": "code",
      "source": [],
      "metadata": {
        "id": "swFWe5619e7a"
      },
      "execution_count": 15,
      "outputs": []
    }
  ]
}