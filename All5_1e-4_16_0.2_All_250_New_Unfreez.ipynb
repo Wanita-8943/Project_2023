{
  "nbformat": 4,
  "nbformat_minor": 0,
  "metadata": {
    "colab": {
      "provenance": [],
      "include_colab_link": true
    },
    "kernelspec": {
      "name": "python3",
      "display_name": "Python 3"
    },
    "language_info": {
      "name": "python"
    },
    "accelerator": "GPU",
    "gpuClass": "standard"
  },
  "cells": [
    {
      "cell_type": "markdown",
      "metadata": {
        "id": "view-in-github",
        "colab_type": "text"
      },
      "source": [
        "<a href=\"https://colab.research.google.com/github/Wanita-8943/Project_2023/blob/main/All5_1e-4_16_0.2_All_250_New_Unfreez.ipynb\" target=\"_parent\"><img src=\"https://colab.research.google.com/assets/colab-badge.svg\" alt=\"Open In Colab\"/></a>"
      ]
    },
    {
      "cell_type": "markdown",
      "source": [
        "#เรียกใช้ CSV"
      ],
      "metadata": {
        "id": "ow7eWoNw6U-c"
      }
    },
    {
      "cell_type": "code",
      "execution_count": 1,
      "metadata": {
        "id": "z8o_VVNXzcL8"
      },
      "outputs": [],
      "source": [
        "import pandas as pd\n",
        "import shutil"
      ]
    },
    {
      "cell_type": "code",
      "source": [
        "from google.colab import drive\n",
        "drive.mount('/content/drive')"
      ],
      "metadata": {
        "colab": {
          "base_uri": "https://localhost:8080/"
        },
        "id": "1_2Fe8u81d5r",
        "outputId": "8906d295-3262-42f3-dadb-694b4fd7496d"
      },
      "execution_count": 2,
      "outputs": [
        {
          "output_type": "stream",
          "name": "stdout",
          "text": [
            "Mounted at /content/drive\n"
          ]
        }
      ]
    },
    {
      "cell_type": "markdown",
      "source": [
        "#Imports"
      ],
      "metadata": {
        "id": "5qxePnnn7TGW"
      }
    },
    {
      "cell_type": "code",
      "source": [
        "from tensorflow.keras import models\n",
        "from tensorflow.keras import layers\n",
        "from tensorflow.keras import optimizers\n",
        "import os\n",
        "import glob\n",
        "import shutil\n",
        "import sys\n",
        "import numpy as np\n",
        "from skimage.io import imread\n",
        "import matplotlib.pyplot as plt\n",
        "from IPython.display import Image\n",
        "%matplotlib inline"
      ],
      "metadata": {
        "id": "D-hCRloc3t39"
      },
      "execution_count": 3,
      "outputs": []
    },
    {
      "cell_type": "code",
      "source": [
        "import tensorflow as tf\n",
        "from tensorflow.keras import Sequential\n",
        "from tensorflow.keras.layers import Dense\n",
        "from tensorflow.keras.optimizers import Adam\n",
        "from tensorflow.keras import backend as K"
      ],
      "metadata": {
        "id": "YZWXwjXeGxZP"
      },
      "execution_count": 4,
      "outputs": []
    },
    {
      "cell_type": "markdown",
      "source": [
        "#กำหนดค่าพารามิเตอร์\n"
      ],
      "metadata": {
        "id": "RooqSdBc7QHC"
      }
    },
    {
      "cell_type": "code",
      "source": [
        "batch_size = 16\n",
        "width = 150\n",
        "height = 150\n",
        "epochs = 250\n",
        "NUM_TRAIN = 2850\n",
        "NUM_TEST = 950\n",
        "dropout_rate = 0.2\n",
        "input_shape = (height, width, 3)"
      ],
      "metadata": {
        "id": "thDb7U9B3xOo"
      },
      "execution_count": 5,
      "outputs": []
    },
    {
      "cell_type": "markdown",
      "source": [
        "#Clone efficientnet repo\n"
      ],
      "metadata": {
        "id": "pumGmy6f3eSW"
      }
    },
    {
      "cell_type": "code",
      "source": [
        "#ดึงข้อมูลใน Github มาใช้\n",
        "import os\n",
        "%cd /content\n",
        "if not os.path.isdir(\"efficientnet_keras_transfer_learning\"):\n",
        " !git clone https://github.com/Wanita-8943/efficientnet_keras_transfer_learning\n",
        "%cd efficientnet_keras_transfer_learning/\n"
      ],
      "metadata": {
        "colab": {
          "base_uri": "https://localhost:8080/"
        },
        "id": "P7iy2f8n16p0",
        "outputId": "1a1450dd-da79-48d0-933e-c47a016cc22b"
      },
      "execution_count": 6,
      "outputs": [
        {
          "output_type": "stream",
          "name": "stdout",
          "text": [
            "/content\n",
            "Cloning into 'efficientnet_keras_transfer_learning'...\n",
            "remote: Enumerating objects: 837, done.\u001b[K\n",
            "remote: Counting objects: 100% (359/359), done.\u001b[K\n",
            "remote: Compressing objects: 100% (124/124), done.\u001b[K\n",
            "remote: Total 837 (delta 255), reused 328 (delta 235), pack-reused 478\u001b[K\n",
            "Receiving objects: 100% (837/837), 13.82 MiB | 33.21 MiB/s, done.\n",
            "Resolving deltas: 100% (495/495), done.\n",
            "/content/efficientnet_keras_transfer_learning\n"
          ]
        }
      ]
    },
    {
      "cell_type": "code",
      "source": [
        "# Options: EfficientNetB0, EfficientNetB1, EfficientNetB2, EfficientNetB3\n",
        "# Higher the number, the more complex the model is.\n",
        "from efficientnet import EfficientNetB0 as Net\n",
        "from efficientnet import center_crop_and_resize, preprocess_input"
      ],
      "metadata": {
        "id": "tjZBRnfo3bN0"
      },
      "execution_count": 7,
      "outputs": []
    },
    {
      "cell_type": "code",
      "source": [
        "# loading pretrained conv base model\n",
        "# โหลดโมเดล มาโดยตัด output ของโมเดลออก เเต่ยังใช้ input อันเดิม\n",
        "# เเละโหลด weight ของโมเดล มาด้วยที่ชื่อว่า imagenet\n",
        "conv_base = Net(weights='imagenet', include_top=False, input_shape=input_shape)"
      ],
      "metadata": {
        "colab": {
          "base_uri": "https://localhost:8080/"
        },
        "id": "r8BN74_JJdfj",
        "outputId": "bddd63a6-63d1-4ec3-bc47-f765077f16bf"
      },
      "execution_count": 8,
      "outputs": [
        {
          "output_type": "stream",
          "name": "stderr",
          "text": [
            "WARNING:tensorflow:From /usr/local/lib/python3.8/dist-packages/tensorflow/python/autograph/pyct/static_analysis/liveness.py:83: Analyzer.lamba_check (from tensorflow.python.autograph.pyct.static_analysis.liveness) is deprecated and will be removed after 2023-09-23.\n",
            "Instructions for updating:\n",
            "Lambda fuctions will be no more assumed to be used in the statement where they are used, or at least in the same block. https://github.com/tensorflow/tensorflow/issues/56089\n"
          ]
        },
        {
          "output_type": "stream",
          "name": "stdout",
          "text": [
            "Downloading data from https://github.com/qubvel/efficientnet/releases/download/v0.0.1/efficientnet-b0_imagenet_1000_notop.h5\n",
            "16717576/16717576 [==============================] - 0s 0us/step\n"
          ]
        }
      ]
    },
    {
      "cell_type": "markdown",
      "source": [
        "#load model\n"
      ],
      "metadata": {
        "id": "PdNWyD-QYkzK"
      }
    },
    {
      "cell_type": "code",
      "source": [
        "import sys\n",
        "sys.path.append('/content/drive/MyDrive/cut_panoramic/Model/4Re_All_1G_1e-4_16_0.2_250_New_Unfreez.h5')\n",
        "\n",
        "from efficientnet.layers import Swish, DropConnect\n",
        "from efficientnet.model import ConvKernalInitializer\n",
        "from tensorflow.keras.utils import get_custom_objects\n",
        "\n",
        "get_custom_objects().update({\n",
        "    'ConvKernalInitializer': ConvKernalInitializer,\n",
        "    'Swish': Swish,\n",
        "    'DropConnect':DropConnect\n",
        "})"
      ],
      "metadata": {
        "id": "_gPnx2UvYf5A"
      },
      "execution_count": 11,
      "outputs": []
    },
    {
      "cell_type": "code",
      "source": [
        "#load model \n",
        "from tensorflow.keras.models import load_model\n",
        "model = load_model('/content/drive/MyDrive/cut_panoramic/Model/4Re_All_1G_1e-4_16_0.2_250_New_Unfreez.h5')\n",
        "height = width = model.input_shape[1]"
      ],
      "metadata": {
        "id": "Nu93WzFUYm9e"
      },
      "execution_count": 12,
      "outputs": []
    },
    {
      "cell_type": "code",
      "source": [
        "model.summary()"
      ],
      "metadata": {
        "id": "gp5EbyyXYvc6",
        "colab": {
          "base_uri": "https://localhost:8080/"
        },
        "outputId": "b3fa2e30-9481-4124-dbeb-aa2cfa3d07ba"
      },
      "execution_count": 13,
      "outputs": [
        {
          "output_type": "stream",
          "name": "stdout",
          "text": [
            "Model: \"sequential\"\n",
            "_________________________________________________________________\n",
            " Layer (type)                Output Shape              Param #   \n",
            "=================================================================\n",
            " efficientnet-b0 (Functional  (None, 5, 5, 1280)       4049564   \n",
            " )                                                               \n",
            "                                                                 \n",
            " gap (GlobalMaxPooling2D)    (None, 1280)              0         \n",
            "                                                                 \n",
            " dropout_out (Dropout)       (None, 1280)              0         \n",
            "                                                                 \n",
            " fc_out (Dense)              (None, 19)                24339     \n",
            "                                                                 \n",
            " dense (Dense)               (None, 1)                 20        \n",
            "                                                                 \n",
            "=================================================================\n",
            "Total params: 4,073,923\n",
            "Trainable params: 4,031,907\n",
            "Non-trainable params: 42,016\n",
            "_________________________________________________________________\n"
          ]
        }
      ]
    },
    {
      "cell_type": "code",
      "source": [
        "df = pd.read_csv (r'/content/drive/MyDrive/cut_panoramic/Data/All_Re.csv')\n",
        "df"
      ],
      "metadata": {
        "id": "q1Dc131_Y3uA",
        "colab": {
          "base_uri": "https://localhost:8080/",
          "height": 424
        },
        "outputId": "b4b55eb0-d2f1-4388-c9b5-e54516dddd3f"
      },
      "execution_count": 14,
      "outputs": [
        {
          "output_type": "execute_result",
          "data": {
            "text/plain": [
              "      Fig_Age  Fig_Person_Sex  Age(year) Class  Class_Re       Filename  \\\n",
              "0           1               1          7  Y07F         1         V1.jpg   \n",
              "1           2               1          7  Y07F         1    Flip_V1.jpg   \n",
              "2           3               2          7  Y07F         1         V2.jpg   \n",
              "3           4               2          7  Y07F         1    Flip_V2.jpg   \n",
              "4           5               3          7  Y07F         1         V3.jpg   \n",
              "...       ...             ...        ...   ...       ...            ...   \n",
              "4745      121              77         25  Y25M        19  Flip_J463.jpg   \n",
              "4746      122              78         25  Y25M        19       J464.jpg   \n",
              "4747      123              78         25  Y25M        19  Flip_J464.jpg   \n",
              "4748      124              79         25  Y25M        19       J465.jpg   \n",
              "4749      125              79         25  Y25M        19  Flip_J465.jpg   \n",
              "\n",
              "                                          Path_filename     Sex Floder  \n",
              "0     /content/drive/My Drive/TVT_Gender/train/Femal...  Female   Both  \n",
              "1     /content/drive/My Drive/TVT_Gender/train/Femal...  Female   Both  \n",
              "2     /content/drive/My Drive/TVT_Gender/train/Femal...  Female   Both  \n",
              "3     /content/drive/My Drive/TVT_Gender/train/Femal...  Female   Both  \n",
              "4     /content/drive/My Drive/TVT_Gender/train/Femal...  Female   Both  \n",
              "...                                                 ...     ...    ...  \n",
              "4745  /content/drive/My Drive/TVT_Gender/test/Male/F...    Male   Both  \n",
              "4746  /content/drive/My Drive/TVT_Gender/test/Male/J...    Male   Both  \n",
              "4747  /content/drive/My Drive/TVT_Gender/test/Male/F...    Male   Both  \n",
              "4748  /content/drive/My Drive/TVT_Gender/test/Male/J...    Male   Both  \n",
              "4749  /content/drive/My Drive/TVT_Gender/test/Male/F...    Male   Both  \n",
              "\n",
              "[4750 rows x 9 columns]"
            ],
            "text/html": [
              "\n",
              "  <div id=\"df-68ecc85d-e40b-4f21-9bd6-576de881447c\">\n",
              "    <div class=\"colab-df-container\">\n",
              "      <div>\n",
              "<style scoped>\n",
              "    .dataframe tbody tr th:only-of-type {\n",
              "        vertical-align: middle;\n",
              "    }\n",
              "\n",
              "    .dataframe tbody tr th {\n",
              "        vertical-align: top;\n",
              "    }\n",
              "\n",
              "    .dataframe thead th {\n",
              "        text-align: right;\n",
              "    }\n",
              "</style>\n",
              "<table border=\"1\" class=\"dataframe\">\n",
              "  <thead>\n",
              "    <tr style=\"text-align: right;\">\n",
              "      <th></th>\n",
              "      <th>Fig_Age</th>\n",
              "      <th>Fig_Person_Sex</th>\n",
              "      <th>Age(year)</th>\n",
              "      <th>Class</th>\n",
              "      <th>Class_Re</th>\n",
              "      <th>Filename</th>\n",
              "      <th>Path_filename</th>\n",
              "      <th>Sex</th>\n",
              "      <th>Floder</th>\n",
              "    </tr>\n",
              "  </thead>\n",
              "  <tbody>\n",
              "    <tr>\n",
              "      <th>0</th>\n",
              "      <td>1</td>\n",
              "      <td>1</td>\n",
              "      <td>7</td>\n",
              "      <td>Y07F</td>\n",
              "      <td>1</td>\n",
              "      <td>V1.jpg</td>\n",
              "      <td>/content/drive/My Drive/TVT_Gender/train/Femal...</td>\n",
              "      <td>Female</td>\n",
              "      <td>Both</td>\n",
              "    </tr>\n",
              "    <tr>\n",
              "      <th>1</th>\n",
              "      <td>2</td>\n",
              "      <td>1</td>\n",
              "      <td>7</td>\n",
              "      <td>Y07F</td>\n",
              "      <td>1</td>\n",
              "      <td>Flip_V1.jpg</td>\n",
              "      <td>/content/drive/My Drive/TVT_Gender/train/Femal...</td>\n",
              "      <td>Female</td>\n",
              "      <td>Both</td>\n",
              "    </tr>\n",
              "    <tr>\n",
              "      <th>2</th>\n",
              "      <td>3</td>\n",
              "      <td>2</td>\n",
              "      <td>7</td>\n",
              "      <td>Y07F</td>\n",
              "      <td>1</td>\n",
              "      <td>V2.jpg</td>\n",
              "      <td>/content/drive/My Drive/TVT_Gender/train/Femal...</td>\n",
              "      <td>Female</td>\n",
              "      <td>Both</td>\n",
              "    </tr>\n",
              "    <tr>\n",
              "      <th>3</th>\n",
              "      <td>4</td>\n",
              "      <td>2</td>\n",
              "      <td>7</td>\n",
              "      <td>Y07F</td>\n",
              "      <td>1</td>\n",
              "      <td>Flip_V2.jpg</td>\n",
              "      <td>/content/drive/My Drive/TVT_Gender/train/Femal...</td>\n",
              "      <td>Female</td>\n",
              "      <td>Both</td>\n",
              "    </tr>\n",
              "    <tr>\n",
              "      <th>4</th>\n",
              "      <td>5</td>\n",
              "      <td>3</td>\n",
              "      <td>7</td>\n",
              "      <td>Y07F</td>\n",
              "      <td>1</td>\n",
              "      <td>V3.jpg</td>\n",
              "      <td>/content/drive/My Drive/TVT_Gender/train/Femal...</td>\n",
              "      <td>Female</td>\n",
              "      <td>Both</td>\n",
              "    </tr>\n",
              "    <tr>\n",
              "      <th>...</th>\n",
              "      <td>...</td>\n",
              "      <td>...</td>\n",
              "      <td>...</td>\n",
              "      <td>...</td>\n",
              "      <td>...</td>\n",
              "      <td>...</td>\n",
              "      <td>...</td>\n",
              "      <td>...</td>\n",
              "      <td>...</td>\n",
              "    </tr>\n",
              "    <tr>\n",
              "      <th>4745</th>\n",
              "      <td>121</td>\n",
              "      <td>77</td>\n",
              "      <td>25</td>\n",
              "      <td>Y25M</td>\n",
              "      <td>19</td>\n",
              "      <td>Flip_J463.jpg</td>\n",
              "      <td>/content/drive/My Drive/TVT_Gender/test/Male/F...</td>\n",
              "      <td>Male</td>\n",
              "      <td>Both</td>\n",
              "    </tr>\n",
              "    <tr>\n",
              "      <th>4746</th>\n",
              "      <td>122</td>\n",
              "      <td>78</td>\n",
              "      <td>25</td>\n",
              "      <td>Y25M</td>\n",
              "      <td>19</td>\n",
              "      <td>J464.jpg</td>\n",
              "      <td>/content/drive/My Drive/TVT_Gender/test/Male/J...</td>\n",
              "      <td>Male</td>\n",
              "      <td>Both</td>\n",
              "    </tr>\n",
              "    <tr>\n",
              "      <th>4747</th>\n",
              "      <td>123</td>\n",
              "      <td>78</td>\n",
              "      <td>25</td>\n",
              "      <td>Y25M</td>\n",
              "      <td>19</td>\n",
              "      <td>Flip_J464.jpg</td>\n",
              "      <td>/content/drive/My Drive/TVT_Gender/test/Male/F...</td>\n",
              "      <td>Male</td>\n",
              "      <td>Both</td>\n",
              "    </tr>\n",
              "    <tr>\n",
              "      <th>4748</th>\n",
              "      <td>124</td>\n",
              "      <td>79</td>\n",
              "      <td>25</td>\n",
              "      <td>Y25M</td>\n",
              "      <td>19</td>\n",
              "      <td>J465.jpg</td>\n",
              "      <td>/content/drive/My Drive/TVT_Gender/test/Male/J...</td>\n",
              "      <td>Male</td>\n",
              "      <td>Both</td>\n",
              "    </tr>\n",
              "    <tr>\n",
              "      <th>4749</th>\n",
              "      <td>125</td>\n",
              "      <td>79</td>\n",
              "      <td>25</td>\n",
              "      <td>Y25M</td>\n",
              "      <td>19</td>\n",
              "      <td>Flip_J465.jpg</td>\n",
              "      <td>/content/drive/My Drive/TVT_Gender/test/Male/F...</td>\n",
              "      <td>Male</td>\n",
              "      <td>Both</td>\n",
              "    </tr>\n",
              "  </tbody>\n",
              "</table>\n",
              "<p>4750 rows × 9 columns</p>\n",
              "</div>\n",
              "      <button class=\"colab-df-convert\" onclick=\"convertToInteractive('df-68ecc85d-e40b-4f21-9bd6-576de881447c')\"\n",
              "              title=\"Convert this dataframe to an interactive table.\"\n",
              "              style=\"display:none;\">\n",
              "        \n",
              "  <svg xmlns=\"http://www.w3.org/2000/svg\" height=\"24px\"viewBox=\"0 0 24 24\"\n",
              "       width=\"24px\">\n",
              "    <path d=\"M0 0h24v24H0V0z\" fill=\"none\"/>\n",
              "    <path d=\"M18.56 5.44l.94 2.06.94-2.06 2.06-.94-2.06-.94-.94-2.06-.94 2.06-2.06.94zm-11 1L8.5 8.5l.94-2.06 2.06-.94-2.06-.94L8.5 2.5l-.94 2.06-2.06.94zm10 10l.94 2.06.94-2.06 2.06-.94-2.06-.94-.94-2.06-.94 2.06-2.06.94z\"/><path d=\"M17.41 7.96l-1.37-1.37c-.4-.4-.92-.59-1.43-.59-.52 0-1.04.2-1.43.59L10.3 9.45l-7.72 7.72c-.78.78-.78 2.05 0 2.83L4 21.41c.39.39.9.59 1.41.59.51 0 1.02-.2 1.41-.59l7.78-7.78 2.81-2.81c.8-.78.8-2.07 0-2.86zM5.41 20L4 18.59l7.72-7.72 1.47 1.35L5.41 20z\"/>\n",
              "  </svg>\n",
              "      </button>\n",
              "      \n",
              "  <style>\n",
              "    .colab-df-container {\n",
              "      display:flex;\n",
              "      flex-wrap:wrap;\n",
              "      gap: 12px;\n",
              "    }\n",
              "\n",
              "    .colab-df-convert {\n",
              "      background-color: #E8F0FE;\n",
              "      border: none;\n",
              "      border-radius: 50%;\n",
              "      cursor: pointer;\n",
              "      display: none;\n",
              "      fill: #1967D2;\n",
              "      height: 32px;\n",
              "      padding: 0 0 0 0;\n",
              "      width: 32px;\n",
              "    }\n",
              "\n",
              "    .colab-df-convert:hover {\n",
              "      background-color: #E2EBFA;\n",
              "      box-shadow: 0px 1px 2px rgba(60, 64, 67, 0.3), 0px 1px 3px 1px rgba(60, 64, 67, 0.15);\n",
              "      fill: #174EA6;\n",
              "    }\n",
              "\n",
              "    [theme=dark] .colab-df-convert {\n",
              "      background-color: #3B4455;\n",
              "      fill: #D2E3FC;\n",
              "    }\n",
              "\n",
              "    [theme=dark] .colab-df-convert:hover {\n",
              "      background-color: #434B5C;\n",
              "      box-shadow: 0px 1px 3px 1px rgba(0, 0, 0, 0.15);\n",
              "      filter: drop-shadow(0px 1px 2px rgba(0, 0, 0, 0.3));\n",
              "      fill: #FFFFFF;\n",
              "    }\n",
              "  </style>\n",
              "\n",
              "      <script>\n",
              "        const buttonEl =\n",
              "          document.querySelector('#df-68ecc85d-e40b-4f21-9bd6-576de881447c button.colab-df-convert');\n",
              "        buttonEl.style.display =\n",
              "          google.colab.kernel.accessAllowed ? 'block' : 'none';\n",
              "\n",
              "        async function convertToInteractive(key) {\n",
              "          const element = document.querySelector('#df-68ecc85d-e40b-4f21-9bd6-576de881447c');\n",
              "          const dataTable =\n",
              "            await google.colab.kernel.invokeFunction('convertToInteractive',\n",
              "                                                     [key], {});\n",
              "          if (!dataTable) return;\n",
              "\n",
              "          const docLinkHtml = 'Like what you see? Visit the ' +\n",
              "            '<a target=\"_blank\" href=https://colab.research.google.com/notebooks/data_table.ipynb>data table notebook</a>'\n",
              "            + ' to learn more about interactive tables.';\n",
              "          element.innerHTML = '';\n",
              "          dataTable['output_type'] = 'display_data';\n",
              "          await google.colab.output.renderOutput(dataTable, element);\n",
              "          const docLink = document.createElement('div');\n",
              "          docLink.innerHTML = docLinkHtml;\n",
              "          element.appendChild(docLink);\n",
              "        }\n",
              "      </script>\n",
              "    </div>\n",
              "  </div>\n",
              "  "
            ]
          },
          "metadata": {},
          "execution_count": 14
        }
      ]
    },
    {
      "cell_type": "code",
      "source": [
        "train = df[df['Fig_Age'].between(1,75)]\n",
        "val = df[df['Fig_Age'].between(76,100)]"
      ],
      "metadata": {
        "id": "Z1zBw01Gl8Ac"
      },
      "execution_count": 15,
      "outputs": []
    },
    {
      "cell_type": "code",
      "source": [
        "DATA_PATH = \"/content/drive/My Drive/TVT_Gender\"\n",
        "os.chdir(DATA_PATH)\n",
        "train_dir = os.path.join(DATA_PATH, 'train')\n",
        "print(train_dir)\n",
        "validation_dir = os.path.join(DATA_PATH, 'validation')\n",
        "print(validation_dir)"
      ],
      "metadata": {
        "colab": {
          "base_uri": "https://localhost:8080/"
        },
        "id": "QL0g-8iOnMC4",
        "outputId": "c0e1d1f7-4cbf-42e2-bc57-46ecca178fc6"
      },
      "execution_count": 16,
      "outputs": [
        {
          "output_type": "stream",
          "name": "stdout",
          "text": [
            "/content/drive/My Drive/TVT_Gender/train\n",
            "/content/drive/My Drive/TVT_Gender/validation\n"
          ]
        }
      ]
    },
    {
      "cell_type": "markdown",
      "source": [
        "\n",
        "#Train"
      ],
      "metadata": {
        "id": "bWEnlTSwazL5"
      }
    },
    {
      "cell_type": "code",
      "source": [
        "# Train ด้วย ImageDataGenerator ของ Keras ซึ่งจะเพิ่มข้อมูลเสริมระหว่างการฝึกเพื่อลดโอกาสเกิด overfitting\n",
        "#overfitting เกิดจากข้อมูลที่ซับซ้อนกันเกินไป\n",
        "from tensorflow.keras.preprocessing.image import ImageDataGenerator\n",
        "\n",
        "train_datagen = ImageDataGenerator(\n",
        "      rescale=1./255, #โมเดลส่วนใหญ่ต้องใช้ RGB ในช่วง 0–1\n",
        "      rotation_range=40,\n",
        "      width_shift_range=0.2,\n",
        "      height_shift_range=0.2,\n",
        "      shear_range=0.2,\n",
        "      zoom_range=0.2,\n",
        "      horizontal_flip=True,\n",
        "      fill_mode='nearest')\n",
        "\n",
        "# Note that the validation data should not be augmented!\n",
        "test_datagen = ImageDataGenerator(rescale=1./255)"
      ],
      "metadata": {
        "id": "xGPrsn9no_pa"
      },
      "execution_count": 17,
      "outputs": []
    },
    {
      "cell_type": "code",
      "source": [
        "train_generator = train_datagen.flow_from_dataframe(\n",
        "        dataframe = train,\n",
        "        directory = train_dir,\n",
        "        x_col = 'Path_filename',\n",
        "        y_col = 'Class_Re',\n",
        "        class_mode = 'other',\n",
        "        target_size=(height, width),\n",
        "        batch_size=batch_size)\n",
        "\n",
        "validation_generator = test_datagen.flow_from_dataframe(\n",
        "        dataframe = val,\n",
        "        directory = validation_dir,\n",
        "        x_col = 'Path_filename',\n",
        "        y_col = 'Class_Re',\n",
        "        class_mode = 'other',\n",
        "        target_size=(height, width),\n",
        "        batch_size=batch_size)"
      ],
      "metadata": {
        "colab": {
          "base_uri": "https://localhost:8080/"
        },
        "id": "8nVlmAszntK_",
        "outputId": "5bd9c300-0329-443c-e2a1-6298d1fe2472"
      },
      "execution_count": 18,
      "outputs": [
        {
          "output_type": "stream",
          "name": "stdout",
          "text": [
            "Found 2850 validated image filenames.\n",
            "Found 950 validated image filenames.\n"
          ]
        }
      ]
    },
    {
      "cell_type": "code",
      "source": [
        "model.summary()"
      ],
      "metadata": {
        "colab": {
          "base_uri": "https://localhost:8080/"
        },
        "id": "zzCdn3X4Jm_E",
        "outputId": "1ece77d0-20f4-4fb0-8dd6-77a762e51001"
      },
      "execution_count": 19,
      "outputs": [
        {
          "output_type": "stream",
          "name": "stdout",
          "text": [
            "Model: \"sequential\"\n",
            "_________________________________________________________________\n",
            " Layer (type)                Output Shape              Param #   \n",
            "=================================================================\n",
            " efficientnet-b0 (Functional  (None, 5, 5, 1280)       4049564   \n",
            " )                                                               \n",
            "                                                                 \n",
            " gap (GlobalMaxPooling2D)    (None, 1280)              0         \n",
            "                                                                 \n",
            " dropout_out (Dropout)       (None, 1280)              0         \n",
            "                                                                 \n",
            " fc_out (Dense)              (None, 19)                24339     \n",
            "                                                                 \n",
            " dense (Dense)               (None, 1)                 20        \n",
            "                                                                 \n",
            "=================================================================\n",
            "Total params: 4,073,923\n",
            "Trainable params: 4,031,907\n",
            "Non-trainable params: 42,016\n",
            "_________________________________________________________________\n"
          ]
        }
      ]
    },
    {
      "cell_type": "code",
      "source": [
        "model.compile(loss='mse',\n",
        "          optimizer=Adam(learning_rate=1e-4),\n",
        "          metrics=['mae'])\n",
        "history = model.fit_generator(\n",
        "      train_generator,\n",
        "      steps_per_epoch= NUM_TRAIN //batch_size,\n",
        "      epochs=epochs,\n",
        "      validation_data=validation_generator,\n",
        "      validation_steps= NUM_TEST //batch_size,\n",
        "      verbose=1,\n",
        "      use_multiprocessing=True,\n",
        "      workers=4)"
      ],
      "metadata": {
        "id": "N6qUmmF856ZE",
        "outputId": "44453f9b-9fb4-4228-e653-28ebaa95717d",
        "colab": {
          "base_uri": "https://localhost:8080/"
        }
      },
      "execution_count": 20,
      "outputs": [
        {
          "metadata": {
            "tags": null
          },
          "name": "stderr",
          "output_type": "stream",
          "text": [
            "<ipython-input-20-f59104fd3985>:4: UserWarning: `Model.fit_generator` is deprecated and will be removed in a future version. Please use `Model.fit`, which supports generators.\n",
            "  history = model.fit_generator(\n"
          ]
        },
        {
          "output_type": "stream",
          "name": "stdout",
          "text": [
            "Epoch 1/250\n",
            "178/178 [==============================] - 275s 1s/step - loss: 2.2530 - mae: 1.1411 - val_loss: 6.5586 - val_mae: 1.9623\n",
            "Epoch 2/250\n",
            "178/178 [==============================] - 49s 274ms/step - loss: 2.1999 - mae: 1.1368 - val_loss: 6.2520 - val_mae: 1.9023\n",
            "Epoch 3/250\n",
            "178/178 [==============================] - 49s 269ms/step - loss: 2.1349 - mae: 1.1176 - val_loss: 5.2034 - val_mae: 1.7758\n",
            "Epoch 4/250\n",
            "178/178 [==============================] - 49s 271ms/step - loss: 2.2492 - mae: 1.1342 - val_loss: 5.8487 - val_mae: 1.8550\n",
            "Epoch 5/250\n",
            "178/178 [==============================] - 51s 284ms/step - loss: 2.1314 - mae: 1.1161 - val_loss: 5.6426 - val_mae: 1.8109\n",
            "Epoch 6/250\n",
            "178/178 [==============================] - 50s 275ms/step - loss: 2.1696 - mae: 1.1230 - val_loss: 5.4872 - val_mae: 1.7869\n",
            "Epoch 7/250\n",
            "178/178 [==============================] - 50s 277ms/step - loss: 2.1058 - mae: 1.1054 - val_loss: 5.3619 - val_mae: 1.7766\n",
            "Epoch 8/250\n",
            "178/178 [==============================] - 50s 276ms/step - loss: 2.0434 - mae: 1.0868 - val_loss: 4.8731 - val_mae: 1.7112\n",
            "Epoch 9/250\n",
            "178/178 [==============================] - 53s 294ms/step - loss: 2.0153 - mae: 1.0759 - val_loss: 4.7738 - val_mae: 1.6883\n",
            "Epoch 10/250\n",
            "178/178 [==============================] - 51s 277ms/step - loss: 2.1970 - mae: 1.1203 - val_loss: 4.9353 - val_mae: 1.7286\n",
            "Epoch 11/250\n",
            "178/178 [==============================] - 51s 276ms/step - loss: 2.0411 - mae: 1.0790 - val_loss: 4.7625 - val_mae: 1.7117\n",
            "Epoch 12/250\n",
            "178/178 [==============================] - 48s 265ms/step - loss: 2.0203 - mae: 1.0790 - val_loss: 5.8351 - val_mae: 1.8124\n",
            "Epoch 13/250\n",
            "178/178 [==============================] - 49s 271ms/step - loss: 2.0443 - mae: 1.0799 - val_loss: 5.2171 - val_mae: 1.7489\n",
            "Epoch 14/250\n",
            "178/178 [==============================] - 49s 271ms/step - loss: 1.9168 - mae: 1.0549 - val_loss: 6.7084 - val_mae: 1.9721\n",
            "Epoch 15/250\n",
            "178/178 [==============================] - 53s 288ms/step - loss: 1.9644 - mae: 1.0531 - val_loss: 5.7314 - val_mae: 1.8518\n",
            "Epoch 16/250\n",
            "178/178 [==============================] - 49s 270ms/step - loss: 1.9452 - mae: 1.0568 - val_loss: 5.2293 - val_mae: 1.7558\n",
            "Epoch 17/250\n",
            "178/178 [==============================] - 50s 274ms/step - loss: 1.9380 - mae: 1.0509 - val_loss: 5.3092 - val_mae: 1.7507\n",
            "Epoch 18/250\n",
            "178/178 [==============================] - 49s 270ms/step - loss: 1.8510 - mae: 1.0190 - val_loss: 4.6204 - val_mae: 1.6583\n",
            "Epoch 19/250\n",
            "178/178 [==============================] - 50s 278ms/step - loss: 1.8814 - mae: 1.0386 - val_loss: 5.2425 - val_mae: 1.7438\n",
            "Epoch 20/250\n",
            "178/178 [==============================] - 49s 273ms/step - loss: 1.8719 - mae: 1.0350 - val_loss: 5.6451 - val_mae: 1.8174\n",
            "Epoch 21/250\n",
            "178/178 [==============================] - 50s 274ms/step - loss: 1.8213 - mae: 1.0125 - val_loss: 5.1546 - val_mae: 1.7270\n",
            "Epoch 22/250\n",
            "178/178 [==============================] - 49s 270ms/step - loss: 1.8411 - mae: 1.0211 - val_loss: 5.1342 - val_mae: 1.7390\n",
            "Epoch 23/250\n",
            "178/178 [==============================] - 48s 268ms/step - loss: 1.8280 - mae: 1.0144 - val_loss: 5.5389 - val_mae: 1.7985\n",
            "Epoch 24/250\n",
            "178/178 [==============================] - 48s 263ms/step - loss: 1.8113 - mae: 1.0134 - val_loss: 7.2872 - val_mae: 1.9910\n",
            "Epoch 25/250\n",
            "178/178 [==============================] - 49s 267ms/step - loss: 1.8848 - mae: 1.0368 - val_loss: 7.7007 - val_mae: 2.0800\n",
            "Epoch 26/250\n",
            "178/178 [==============================] - 50s 278ms/step - loss: 1.7969 - mae: 1.0121 - val_loss: 7.6488 - val_mae: 2.0532\n",
            "Epoch 27/250\n",
            "178/178 [==============================] - 50s 270ms/step - loss: 1.8081 - mae: 1.0137 - val_loss: 4.4273 - val_mae: 1.6150\n",
            "Epoch 28/250\n",
            "178/178 [==============================] - 49s 270ms/step - loss: 1.7774 - mae: 0.9966 - val_loss: 5.5797 - val_mae: 1.7854\n",
            "Epoch 29/250\n",
            "178/178 [==============================] - 48s 266ms/step - loss: 1.7509 - mae: 0.9729 - val_loss: 6.1763 - val_mae: 1.8681\n",
            "Epoch 30/250\n",
            "178/178 [==============================] - 51s 284ms/step - loss: 1.7189 - mae: 0.9847 - val_loss: 4.8225 - val_mae: 1.6683\n",
            "Epoch 31/250\n",
            "178/178 [==============================] - 49s 270ms/step - loss: 1.7663 - mae: 0.9982 - val_loss: 4.9741 - val_mae: 1.6791\n",
            "Epoch 32/250\n",
            "178/178 [==============================] - 49s 271ms/step - loss: 1.7131 - mae: 0.9751 - val_loss: 5.8143 - val_mae: 1.8231\n",
            "Epoch 33/250\n",
            "178/178 [==============================] - 50s 276ms/step - loss: 1.7827 - mae: 0.9954 - val_loss: 6.4093 - val_mae: 1.9397\n",
            "Epoch 34/250\n",
            "178/178 [==============================] - 48s 266ms/step - loss: 1.6381 - mae: 0.9605 - val_loss: 5.9433 - val_mae: 1.8659\n",
            "Epoch 35/250\n",
            "178/178 [==============================] - 49s 266ms/step - loss: 1.7082 - mae: 0.9835 - val_loss: 4.4478 - val_mae: 1.6076\n",
            "Epoch 36/250\n",
            "178/178 [==============================] - 49s 270ms/step - loss: 1.9791 - mae: 1.0528 - val_loss: 5.0699 - val_mae: 1.7303\n",
            "Epoch 37/250\n",
            "178/178 [==============================] - 51s 282ms/step - loss: 1.7821 - mae: 0.9995 - val_loss: 4.3823 - val_mae: 1.6063\n",
            "Epoch 38/250\n",
            "178/178 [==============================] - 49s 271ms/step - loss: 1.6872 - mae: 0.9847 - val_loss: 5.6598 - val_mae: 1.8355\n",
            "Epoch 39/250\n",
            "178/178 [==============================] - 49s 268ms/step - loss: 1.6338 - mae: 0.9626 - val_loss: 4.6115 - val_mae: 1.6734\n",
            "Epoch 40/250\n",
            "178/178 [==============================] - 48s 267ms/step - loss: 1.6405 - mae: 0.9607 - val_loss: 5.3784 - val_mae: 1.7613\n",
            "Epoch 41/250\n",
            "178/178 [==============================] - 50s 277ms/step - loss: 1.5787 - mae: 0.9431 - val_loss: 5.3070 - val_mae: 1.7625\n",
            "Epoch 42/250\n",
            "178/178 [==============================] - 48s 267ms/step - loss: 1.6280 - mae: 0.9562 - val_loss: 4.5773 - val_mae: 1.6338\n",
            "Epoch 43/250\n",
            "178/178 [==============================] - 48s 266ms/step - loss: 2.0012 - mae: 1.0569 - val_loss: 5.8554 - val_mae: 1.8320\n",
            "Epoch 44/250\n",
            "178/178 [==============================] - 53s 289ms/step - loss: 1.9342 - mae: 1.0491 - val_loss: 4.8152 - val_mae: 1.6638\n",
            "Epoch 45/250\n",
            "178/178 [==============================] - 50s 272ms/step - loss: 1.7709 - mae: 1.0060 - val_loss: 5.3271 - val_mae: 1.7484\n",
            "Epoch 46/250\n",
            "178/178 [==============================] - 50s 273ms/step - loss: 1.6925 - mae: 0.9810 - val_loss: 4.0041 - val_mae: 1.5460\n",
            "Epoch 47/250\n",
            "178/178 [==============================] - 49s 272ms/step - loss: 1.7752 - mae: 1.0080 - val_loss: 4.0697 - val_mae: 1.5571\n",
            "Epoch 48/250\n",
            "178/178 [==============================] - 51s 280ms/step - loss: 1.6461 - mae: 0.9708 - val_loss: 4.6438 - val_mae: 1.6396\n",
            "Epoch 49/250\n",
            "178/178 [==============================] - 49s 270ms/step - loss: 1.6385 - mae: 0.9672 - val_loss: 4.0555 - val_mae: 1.5614\n",
            "Epoch 50/250\n",
            "178/178 [==============================] - 49s 272ms/step - loss: 1.5427 - mae: 0.9393 - val_loss: 4.9894 - val_mae: 1.7036\n",
            "Epoch 51/250\n",
            "178/178 [==============================] - 49s 271ms/step - loss: 1.5508 - mae: 0.9433 - val_loss: 5.0717 - val_mae: 1.7138\n",
            "Epoch 52/250\n",
            "178/178 [==============================] - 51s 282ms/step - loss: 1.5664 - mae: 0.9462 - val_loss: 6.0908 - val_mae: 1.8863\n",
            "Epoch 53/250\n",
            "178/178 [==============================] - 50s 274ms/step - loss: 1.5357 - mae: 0.9280 - val_loss: 5.9329 - val_mae: 1.8220\n",
            "Epoch 54/250\n",
            "178/178 [==============================] - 47s 258ms/step - loss: 1.5726 - mae: 0.9452 - val_loss: 5.1227 - val_mae: 1.7453\n",
            "Epoch 55/250\n",
            "178/178 [==============================] - 53s 296ms/step - loss: 1.5136 - mae: 0.9329 - val_loss: 5.6450 - val_mae: 1.7938\n",
            "Epoch 56/250\n",
            "178/178 [==============================] - 54s 298ms/step - loss: 1.5159 - mae: 0.9286 - val_loss: 6.0259 - val_mae: 1.8533\n",
            "Epoch 57/250\n",
            "178/178 [==============================] - 51s 282ms/step - loss: 1.5399 - mae: 0.9353 - val_loss: 5.8903 - val_mae: 1.8401\n",
            "Epoch 58/250\n",
            "178/178 [==============================] - 52s 283ms/step - loss: 1.4675 - mae: 0.9140 - val_loss: 5.3474 - val_mae: 1.7349\n",
            "Epoch 59/250\n",
            "178/178 [==============================] - 53s 292ms/step - loss: 1.4300 - mae: 0.9042 - val_loss: 5.0982 - val_mae: 1.6985\n",
            "Epoch 60/250\n",
            "178/178 [==============================] - 50s 279ms/step - loss: 1.4189 - mae: 0.9042 - val_loss: 5.8514 - val_mae: 1.8159\n",
            "Epoch 61/250\n",
            "178/178 [==============================] - 50s 278ms/step - loss: 1.4497 - mae: 0.9129 - val_loss: 5.0189 - val_mae: 1.6909\n",
            "Epoch 62/250\n",
            "178/178 [==============================] - 53s 290ms/step - loss: 1.3726 - mae: 0.8953 - val_loss: 5.0929 - val_mae: 1.6904\n",
            "Epoch 63/250\n",
            "178/178 [==============================] - 52s 288ms/step - loss: 1.3664 - mae: 0.8829 - val_loss: 7.4518 - val_mae: 2.0456\n",
            "Epoch 64/250\n",
            "178/178 [==============================] - 53s 292ms/step - loss: 1.4631 - mae: 0.9150 - val_loss: 5.1432 - val_mae: 1.7298\n",
            "Epoch 65/250\n",
            "178/178 [==============================] - 50s 278ms/step - loss: 1.4193 - mae: 0.9076 - val_loss: 6.1909 - val_mae: 1.8805\n",
            "Epoch 66/250\n",
            "178/178 [==============================] - 49s 269ms/step - loss: 1.4368 - mae: 0.9078 - val_loss: 8.3140 - val_mae: 2.1665\n",
            "Epoch 67/250\n",
            "178/178 [==============================] - 50s 275ms/step - loss: 1.4141 - mae: 0.9026 - val_loss: 5.1926 - val_mae: 1.7199\n",
            "Epoch 68/250\n",
            "178/178 [==============================] - 49s 269ms/step - loss: 1.5696 - mae: 0.9406 - val_loss: 4.7811 - val_mae: 1.6522\n",
            "Epoch 69/250\n",
            "178/178 [==============================] - 49s 269ms/step - loss: 1.5485 - mae: 0.9282 - val_loss: 6.0348 - val_mae: 1.8156\n",
            "Epoch 70/250\n",
            "178/178 [==============================] - 49s 270ms/step - loss: 1.3876 - mae: 0.8905 - val_loss: 5.9886 - val_mae: 1.8395\n",
            "Epoch 71/250\n",
            "178/178 [==============================] - 48s 268ms/step - loss: 1.3665 - mae: 0.8936 - val_loss: 5.4525 - val_mae: 1.7314\n",
            "Epoch 72/250\n",
            "178/178 [==============================] - 49s 272ms/step - loss: 1.3628 - mae: 0.8824 - val_loss: 4.5326 - val_mae: 1.6211\n",
            "Epoch 73/250\n",
            "178/178 [==============================] - 46s 256ms/step - loss: 1.3384 - mae: 0.8767 - val_loss: 4.6315 - val_mae: 1.6210\n",
            "Epoch 74/250\n",
            "178/178 [==============================] - 49s 274ms/step - loss: 1.3794 - mae: 0.8991 - val_loss: 6.2554 - val_mae: 1.8595\n",
            "Epoch 75/250\n",
            "178/178 [==============================] - 49s 271ms/step - loss: 1.4307 - mae: 0.9106 - val_loss: 6.0489 - val_mae: 1.8090\n",
            "Epoch 76/250\n",
            "178/178 [==============================] - 48s 266ms/step - loss: 1.2937 - mae: 0.8685 - val_loss: 6.1362 - val_mae: 1.8264\n",
            "Epoch 77/250\n",
            "178/178 [==============================] - 49s 271ms/step - loss: 1.3202 - mae: 0.8750 - val_loss: 5.7712 - val_mae: 1.7986\n",
            "Epoch 78/250\n",
            "178/178 [==============================] - 49s 270ms/step - loss: 1.3254 - mae: 0.8672 - val_loss: 5.7921 - val_mae: 1.8015\n",
            "Epoch 79/250\n",
            "178/178 [==============================] - 50s 273ms/step - loss: 1.3138 - mae: 0.8734 - val_loss: 7.0146 - val_mae: 1.9780\n",
            "Epoch 80/250\n",
            "178/178 [==============================] - 49s 268ms/step - loss: 1.2942 - mae: 0.8634 - val_loss: 7.8085 - val_mae: 2.0803\n",
            "Epoch 81/250\n",
            "178/178 [==============================] - 48s 268ms/step - loss: 1.2486 - mae: 0.8545 - val_loss: 5.7529 - val_mae: 1.7907\n",
            "Epoch 82/250\n",
            "178/178 [==============================] - 49s 267ms/step - loss: 1.2817 - mae: 0.8643 - val_loss: 5.2787 - val_mae: 1.7259\n",
            "Epoch 83/250\n",
            "178/178 [==============================] - 50s 276ms/step - loss: 1.2772 - mae: 0.8618 - val_loss: 5.0794 - val_mae: 1.6757\n",
            "Epoch 84/250\n",
            "178/178 [==============================] - 50s 273ms/step - loss: 1.3192 - mae: 0.8711 - val_loss: 5.8677 - val_mae: 1.8072\n",
            "Epoch 85/250\n",
            "178/178 [==============================] - 49s 270ms/step - loss: 1.2582 - mae: 0.8524 - val_loss: 6.5205 - val_mae: 1.8854\n",
            "Epoch 86/250\n",
            "178/178 [==============================] - 50s 274ms/step - loss: 1.3520 - mae: 0.8700 - val_loss: 5.3662 - val_mae: 1.7095\n",
            "Epoch 87/250\n",
            "178/178 [==============================] - 49s 271ms/step - loss: 1.2291 - mae: 0.8473 - val_loss: 5.4365 - val_mae: 1.7337\n",
            "Epoch 88/250\n",
            "178/178 [==============================] - 49s 271ms/step - loss: 1.3797 - mae: 0.8825 - val_loss: 5.8301 - val_mae: 1.7565\n",
            "Epoch 89/250\n",
            "178/178 [==============================] - 49s 269ms/step - loss: 1.4483 - mae: 0.9032 - val_loss: 6.3615 - val_mae: 1.8542\n",
            "Epoch 90/250\n",
            "178/178 [==============================] - 49s 269ms/step - loss: 1.2883 - mae: 0.8713 - val_loss: 5.6052 - val_mae: 1.7675\n",
            "Epoch 91/250\n",
            "178/178 [==============================] - 48s 265ms/step - loss: 1.3181 - mae: 0.8675 - val_loss: 5.9688 - val_mae: 1.8098\n",
            "Epoch 92/250\n",
            "178/178 [==============================] - 50s 271ms/step - loss: 1.3737 - mae: 0.8785 - val_loss: 6.3881 - val_mae: 1.9000\n",
            "Epoch 93/250\n",
            "178/178 [==============================] - 48s 267ms/step - loss: 1.6634 - mae: 0.9295 - val_loss: 9.2990 - val_mae: 2.2090\n",
            "Epoch 94/250\n",
            "178/178 [==============================] - 49s 268ms/step - loss: 1.5561 - mae: 0.9457 - val_loss: 6.1969 - val_mae: 1.8423\n",
            "Epoch 95/250\n",
            "178/178 [==============================] - 49s 272ms/step - loss: 1.3200 - mae: 0.8863 - val_loss: 5.4690 - val_mae: 1.7647\n",
            "Epoch 96/250\n",
            "178/178 [==============================] - 48s 265ms/step - loss: 1.2966 - mae: 0.8725 - val_loss: 4.4211 - val_mae: 1.6089\n",
            "Epoch 97/250\n",
            "178/178 [==============================] - 50s 275ms/step - loss: 1.4109 - mae: 0.9200 - val_loss: 4.4596 - val_mae: 1.6208\n",
            "Epoch 98/250\n",
            "178/178 [==============================] - 49s 274ms/step - loss: 1.3749 - mae: 0.8786 - val_loss: 4.4064 - val_mae: 1.5950\n",
            "Epoch 99/250\n",
            "178/178 [==============================] - 48s 266ms/step - loss: 1.3245 - mae: 0.8642 - val_loss: 4.1133 - val_mae: 1.5595\n",
            "Epoch 100/250\n",
            "178/178 [==============================] - 49s 268ms/step - loss: 1.1617 - mae: 0.8284 - val_loss: 4.5814 - val_mae: 1.6154\n",
            "Epoch 101/250\n",
            "178/178 [==============================] - 49s 269ms/step - loss: 1.1991 - mae: 0.8307 - val_loss: 5.1954 - val_mae: 1.6990\n",
            "Epoch 102/250\n",
            "178/178 [==============================] - 47s 262ms/step - loss: 1.1375 - mae: 0.8106 - val_loss: 5.1722 - val_mae: 1.6982\n",
            "Epoch 103/250\n",
            "178/178 [==============================] - 49s 269ms/step - loss: 1.1602 - mae: 0.8189 - val_loss: 5.5096 - val_mae: 1.7396\n",
            "Epoch 104/250\n",
            "178/178 [==============================] - 49s 269ms/step - loss: 1.1462 - mae: 0.8142 - val_loss: 4.8271 - val_mae: 1.6514\n",
            "Epoch 105/250\n",
            "178/178 [==============================] - 49s 269ms/step - loss: 1.1901 - mae: 0.8256 - val_loss: 5.0010 - val_mae: 1.6944\n",
            "Epoch 106/250\n",
            "178/178 [==============================] - 48s 267ms/step - loss: 1.2069 - mae: 0.8142 - val_loss: 4.9046 - val_mae: 1.6679\n",
            "Epoch 107/250\n",
            "178/178 [==============================] - 46s 253ms/step - loss: 1.2381 - mae: 0.8136 - val_loss: 5.1689 - val_mae: 1.6935\n",
            "Epoch 108/250\n",
            "178/178 [==============================] - 49s 268ms/step - loss: 1.1274 - mae: 0.8076 - val_loss: 5.2897 - val_mae: 1.7118\n",
            "Epoch 109/250\n",
            "178/178 [==============================] - 50s 272ms/step - loss: 1.0898 - mae: 0.7934 - val_loss: 5.8413 - val_mae: 1.8107\n",
            "Epoch 110/250\n",
            "178/178 [==============================] - 49s 268ms/step - loss: 1.1190 - mae: 0.8025 - val_loss: 6.1174 - val_mae: 1.8679\n",
            "Epoch 111/250\n",
            "178/178 [==============================] - 49s 268ms/step - loss: 1.0647 - mae: 0.7815 - val_loss: 5.0107 - val_mae: 1.6873\n",
            "Epoch 112/250\n",
            "178/178 [==============================] - 48s 267ms/step - loss: 1.0968 - mae: 0.7915 - val_loss: 5.6635 - val_mae: 1.7657\n",
            "Epoch 113/250\n",
            "178/178 [==============================] - 49s 269ms/step - loss: 1.1001 - mae: 0.7975 - val_loss: 5.5974 - val_mae: 1.7498\n",
            "Epoch 114/250\n",
            "178/178 [==============================] - 49s 268ms/step - loss: 1.1934 - mae: 0.8057 - val_loss: 9.2818 - val_mae: 2.2208\n",
            "Epoch 115/250\n",
            "178/178 [==============================] - 49s 269ms/step - loss: 1.2729 - mae: 0.8471 - val_loss: 6.1150 - val_mae: 1.8233\n",
            "Epoch 116/250\n",
            "178/178 [==============================] - 49s 273ms/step - loss: 1.0775 - mae: 0.7954 - val_loss: 5.6709 - val_mae: 1.7560\n",
            "Epoch 117/250\n",
            "178/178 [==============================] - 49s 268ms/step - loss: 1.1447 - mae: 0.8042 - val_loss: 5.9166 - val_mae: 1.7998\n",
            "Epoch 118/250\n",
            "178/178 [==============================] - 48s 267ms/step - loss: 1.0512 - mae: 0.7760 - val_loss: 5.4913 - val_mae: 1.7338\n",
            "Epoch 119/250\n",
            "178/178 [==============================] - 48s 265ms/step - loss: 1.2097 - mae: 0.8231 - val_loss: 5.8872 - val_mae: 1.7923\n",
            "Epoch 120/250\n",
            "178/178 [==============================] - 49s 270ms/step - loss: 1.1099 - mae: 0.8026 - val_loss: 6.4513 - val_mae: 1.8705\n",
            "Epoch 121/250\n",
            "178/178 [==============================] - 50s 271ms/step - loss: 1.0852 - mae: 0.7859 - val_loss: 5.1652 - val_mae: 1.6890\n",
            "Epoch 122/250\n",
            "178/178 [==============================] - 49s 269ms/step - loss: 1.0261 - mae: 0.7637 - val_loss: 4.9001 - val_mae: 1.6443\n",
            "Epoch 123/250\n",
            "178/178 [==============================] - 49s 269ms/step - loss: 1.0060 - mae: 0.7656 - val_loss: 6.1258 - val_mae: 1.8331\n",
            "Epoch 124/250\n",
            "178/178 [==============================] - 48s 266ms/step - loss: 1.0241 - mae: 0.7567 - val_loss: 5.0226 - val_mae: 1.6720\n",
            "Epoch 125/250\n",
            "178/178 [==============================] - 50s 274ms/step - loss: 1.0478 - mae: 0.7641 - val_loss: 5.9948 - val_mae: 1.8398\n",
            "Epoch 126/250\n",
            "178/178 [==============================] - 48s 266ms/step - loss: 0.9767 - mae: 0.7538 - val_loss: 5.9090 - val_mae: 1.7798\n",
            "Epoch 127/250\n",
            "178/178 [==============================] - 50s 270ms/step - loss: 1.0209 - mae: 0.7620 - val_loss: 6.0154 - val_mae: 1.8211\n",
            "Epoch 128/250\n",
            "178/178 [==============================] - 49s 271ms/step - loss: 1.0737 - mae: 0.7710 - val_loss: 5.6893 - val_mae: 1.7688\n",
            "Epoch 129/250\n",
            "178/178 [==============================] - 49s 267ms/step - loss: 1.0691 - mae: 0.7744 - val_loss: 6.0013 - val_mae: 1.7920\n",
            "Epoch 130/250\n",
            "178/178 [==============================] - 48s 271ms/step - loss: 1.1104 - mae: 0.7944 - val_loss: 5.3745 - val_mae: 1.7162\n",
            "Epoch 131/250\n",
            "178/178 [==============================] - 48s 268ms/step - loss: 1.1054 - mae: 0.7806 - val_loss: 5.6606 - val_mae: 1.7536\n",
            "Epoch 132/250\n",
            "178/178 [==============================] - 49s 271ms/step - loss: 1.1049 - mae: 0.7872 - val_loss: 6.6264 - val_mae: 1.8923\n",
            "Epoch 133/250\n",
            "178/178 [==============================] - 50s 274ms/step - loss: 1.0782 - mae: 0.7806 - val_loss: 5.2228 - val_mae: 1.6923\n",
            "Epoch 134/250\n",
            "178/178 [==============================] - 50s 276ms/step - loss: 0.9840 - mae: 0.7487 - val_loss: 4.8512 - val_mae: 1.6345\n",
            "Epoch 135/250\n",
            "178/178 [==============================] - 50s 279ms/step - loss: 1.0517 - mae: 0.7639 - val_loss: 9.6197 - val_mae: 2.1692\n",
            "Epoch 136/250\n",
            "178/178 [==============================] - 49s 268ms/step - loss: 1.0814 - mae: 0.7680 - val_loss: 9.2393 - val_mae: 2.1981\n",
            "Epoch 137/250\n",
            "178/178 [==============================] - 45s 247ms/step - loss: 1.0237 - mae: 0.7642 - val_loss: 8.1993 - val_mae: 2.0772\n",
            "Epoch 138/250\n",
            "178/178 [==============================] - 50s 272ms/step - loss: 1.0073 - mae: 0.7564 - val_loss: 6.1808 - val_mae: 1.8239\n",
            "Epoch 139/250\n",
            "178/178 [==============================] - 49s 271ms/step - loss: 0.9654 - mae: 0.7420 - val_loss: 8.2551 - val_mae: 2.0919\n",
            "Epoch 140/250\n",
            "178/178 [==============================] - 49s 271ms/step - loss: 0.9696 - mae: 0.7388 - val_loss: 5.7985 - val_mae: 1.7731\n",
            "Epoch 141/250\n",
            "178/178 [==============================] - 49s 268ms/step - loss: 1.2198 - mae: 0.7970 - val_loss: 7.5452 - val_mae: 1.9812\n",
            "Epoch 142/250\n",
            "178/178 [==============================] - 46s 253ms/step - loss: 1.4451 - mae: 0.8632 - val_loss: 5.7673 - val_mae: 1.7586\n",
            "Epoch 143/250\n",
            "178/178 [==============================] - 49s 271ms/step - loss: 1.2098 - mae: 0.8117 - val_loss: 6.1086 - val_mae: 1.8171\n",
            "Epoch 144/250\n",
            "178/178 [==============================] - 49s 273ms/step - loss: 1.1304 - mae: 0.7845 - val_loss: 5.7513 - val_mae: 1.7658\n",
            "Epoch 145/250\n",
            "178/178 [==============================] - 50s 277ms/step - loss: 1.0373 - mae: 0.7632 - val_loss: 6.1234 - val_mae: 1.8148\n",
            "Epoch 146/250\n",
            "178/178 [==============================] - 49s 271ms/step - loss: 1.1243 - mae: 0.7628 - val_loss: 6.3914 - val_mae: 1.8511\n",
            "Epoch 147/250\n",
            "178/178 [==============================] - 49s 269ms/step - loss: 1.2857 - mae: 0.8415 - val_loss: 6.0651 - val_mae: 1.7751\n",
            "Epoch 148/250\n",
            "178/178 [==============================] - 50s 277ms/step - loss: 1.2487 - mae: 0.8341 - val_loss: 6.8019 - val_mae: 1.9226\n",
            "Epoch 149/250\n",
            "178/178 [==============================] - 45s 249ms/step - loss: 1.1432 - mae: 0.7912 - val_loss: 5.8468 - val_mae: 1.7914\n",
            "Epoch 150/250\n",
            "178/178 [==============================] - 50s 270ms/step - loss: 1.1439 - mae: 0.7924 - val_loss: 5.4851 - val_mae: 1.7415\n",
            "Epoch 151/250\n",
            "178/178 [==============================] - 49s 270ms/step - loss: 1.0064 - mae: 0.7500 - val_loss: 5.0732 - val_mae: 1.6771\n",
            "Epoch 152/250\n",
            "178/178 [==============================] - 49s 270ms/step - loss: 0.9847 - mae: 0.7397 - val_loss: 5.3840 - val_mae: 1.7100\n",
            "Epoch 153/250\n",
            "178/178 [==============================] - 49s 270ms/step - loss: 1.0294 - mae: 0.7544 - val_loss: 6.0498 - val_mae: 1.8222\n",
            "Epoch 154/250\n",
            "178/178 [==============================] - 49s 270ms/step - loss: 1.0052 - mae: 0.7460 - val_loss: 5.7570 - val_mae: 1.7754\n",
            "Epoch 155/250\n",
            "178/178 [==============================] - 49s 270ms/step - loss: 0.9194 - mae: 0.7144 - val_loss: 5.4525 - val_mae: 1.7251\n",
            "Epoch 156/250\n",
            "178/178 [==============================] - 49s 271ms/step - loss: 0.9590 - mae: 0.7308 - val_loss: 6.2736 - val_mae: 1.8557\n",
            "Epoch 157/250\n",
            "178/178 [==============================] - 49s 269ms/step - loss: 0.9146 - mae: 0.7139 - val_loss: 6.0344 - val_mae: 1.8207\n",
            "Epoch 158/250\n",
            "178/178 [==============================] - 49s 270ms/step - loss: 0.9608 - mae: 0.7337 - val_loss: 6.0180 - val_mae: 1.8028\n",
            "Epoch 159/250\n",
            "178/178 [==============================] - 48s 267ms/step - loss: 1.0322 - mae: 0.7444 - val_loss: 8.1474 - val_mae: 2.1413\n",
            "Epoch 160/250\n",
            "178/178 [==============================] - 45s 247ms/step - loss: 1.0992 - mae: 0.7783 - val_loss: 4.9265 - val_mae: 1.6679\n",
            "Epoch 161/250\n",
            "178/178 [==============================] - 49s 265ms/step - loss: 1.1562 - mae: 0.7618 - val_loss: 5.5299 - val_mae: 1.7549\n",
            "Epoch 162/250\n",
            "178/178 [==============================] - 49s 269ms/step - loss: 0.9474 - mae: 0.7250 - val_loss: 6.4833 - val_mae: 1.8836\n",
            "Epoch 163/250\n",
            "178/178 [==============================] - 48s 268ms/step - loss: 0.9773 - mae: 0.7375 - val_loss: 6.4663 - val_mae: 1.8825\n",
            "Epoch 164/250\n",
            "178/178 [==============================] - 48s 267ms/step - loss: 0.9555 - mae: 0.7231 - val_loss: 6.5505 - val_mae: 1.9008\n",
            "Epoch 165/250\n",
            "178/178 [==============================] - 50s 273ms/step - loss: 1.0545 - mae: 0.7547 - val_loss: 5.2778 - val_mae: 1.7302\n",
            "Epoch 166/250\n",
            "178/178 [==============================] - 49s 269ms/step - loss: 1.0029 - mae: 0.7412 - val_loss: 4.5597 - val_mae: 1.5965\n",
            "Epoch 167/250\n",
            "178/178 [==============================] - 48s 268ms/step - loss: 0.9535 - mae: 0.7309 - val_loss: 4.6178 - val_mae: 1.5819\n",
            "Epoch 168/250\n",
            "178/178 [==============================] - 49s 269ms/step - loss: 0.9415 - mae: 0.7267 - val_loss: 4.9804 - val_mae: 1.6689\n",
            "Epoch 169/250\n",
            "178/178 [==============================] - 49s 268ms/step - loss: 0.8732 - mae: 0.6923 - val_loss: 4.9953 - val_mae: 1.6493\n",
            "Epoch 170/250\n",
            "178/178 [==============================] - 48s 267ms/step - loss: 0.9040 - mae: 0.7076 - val_loss: 5.7554 - val_mae: 1.7686\n",
            "Epoch 171/250\n",
            "178/178 [==============================] - 49s 269ms/step - loss: 1.2569 - mae: 0.7994 - val_loss: 4.2099 - val_mae: 1.5434\n",
            "Epoch 172/250\n",
            "178/178 [==============================] - 49s 269ms/step - loss: 1.3345 - mae: 0.8140 - val_loss: 4.9317 - val_mae: 1.6440\n",
            "Epoch 173/250\n",
            "178/178 [==============================] - 48s 264ms/step - loss: 1.1139 - mae: 0.7692 - val_loss: 5.9826 - val_mae: 1.7925\n",
            "Epoch 174/250\n",
            "178/178 [==============================] - 48s 262ms/step - loss: 1.0460 - mae: 0.7441 - val_loss: 5.6874 - val_mae: 1.7819\n",
            "Epoch 175/250\n",
            "178/178 [==============================] - 47s 262ms/step - loss: 1.1526 - mae: 0.7823 - val_loss: 5.1919 - val_mae: 1.6913\n",
            "Epoch 176/250\n",
            "178/178 [==============================] - 48s 263ms/step - loss: 0.9956 - mae: 0.7449 - val_loss: 6.2287 - val_mae: 1.8407\n",
            "Epoch 177/250\n",
            "178/178 [==============================] - 47s 259ms/step - loss: 1.0122 - mae: 0.7451 - val_loss: 5.0463 - val_mae: 1.6637\n",
            "Epoch 178/250\n",
            "178/178 [==============================] - 48s 263ms/step - loss: 0.9252 - mae: 0.7179 - val_loss: 5.5393 - val_mae: 1.7246\n",
            "Epoch 179/250\n",
            "178/178 [==============================] - 47s 260ms/step - loss: 0.9377 - mae: 0.7199 - val_loss: 6.0369 - val_mae: 1.7988\n",
            "Epoch 180/250\n",
            "178/178 [==============================] - 48s 267ms/step - loss: 1.0116 - mae: 0.7431 - val_loss: 6.7803 - val_mae: 1.9247\n",
            "Epoch 181/250\n",
            "178/178 [==============================] - 47s 262ms/step - loss: 1.0099 - mae: 0.7407 - val_loss: 4.9607 - val_mae: 1.6589\n",
            "Epoch 182/250\n",
            "178/178 [==============================] - 48s 265ms/step - loss: 0.9557 - mae: 0.7250 - val_loss: 5.3713 - val_mae: 1.7234\n",
            "Epoch 183/250\n",
            "178/178 [==============================] - 49s 268ms/step - loss: 0.9989 - mae: 0.7407 - val_loss: 5.9115 - val_mae: 1.7910\n",
            "Epoch 184/250\n",
            "178/178 [==============================] - 48s 262ms/step - loss: 0.9526 - mae: 0.7197 - val_loss: 6.7105 - val_mae: 1.8893\n",
            "Epoch 185/250\n",
            "178/178 [==============================] - 49s 268ms/step - loss: 0.9920 - mae: 0.7389 - val_loss: 7.1386 - val_mae: 1.9553\n",
            "Epoch 186/250\n",
            "178/178 [==============================] - 47s 262ms/step - loss: 0.9223 - mae: 0.7157 - val_loss: 5.2911 - val_mae: 1.7030\n",
            "Epoch 187/250\n",
            "178/178 [==============================] - 49s 266ms/step - loss: 0.8964 - mae: 0.7017 - val_loss: 5.3047 - val_mae: 1.6830\n",
            "Epoch 188/250\n",
            "178/178 [==============================] - 47s 260ms/step - loss: 0.9238 - mae: 0.7081 - val_loss: 4.8603 - val_mae: 1.6432\n",
            "Epoch 189/250\n",
            "178/178 [==============================] - 49s 265ms/step - loss: 0.9875 - mae: 0.7425 - val_loss: 5.5047 - val_mae: 1.7472\n",
            "Epoch 190/250\n",
            "178/178 [==============================] - 48s 263ms/step - loss: 1.1283 - mae: 0.7667 - val_loss: 6.2651 - val_mae: 1.8460\n",
            "Epoch 191/250\n",
            "178/178 [==============================] - 49s 263ms/step - loss: 1.3785 - mae: 0.8046 - val_loss: 6.7022 - val_mae: 1.8477\n",
            "Epoch 192/250\n",
            "178/178 [==============================] - 47s 260ms/step - loss: 1.5457 - mae: 0.8703 - val_loss: 4.2693 - val_mae: 1.5766\n",
            "Epoch 193/250\n",
            "178/178 [==============================] - 49s 264ms/step - loss: 1.6741 - mae: 0.9218 - val_loss: 4.6163 - val_mae: 1.6111\n",
            "Epoch 194/250\n",
            "178/178 [==============================] - 47s 259ms/step - loss: 1.4133 - mae: 0.8487 - val_loss: 4.8014 - val_mae: 1.6541\n",
            "Epoch 195/250\n",
            "178/178 [==============================] - 48s 265ms/step - loss: 1.1772 - mae: 0.7899 - val_loss: 4.3354 - val_mae: 1.5643\n",
            "Epoch 196/250\n",
            "178/178 [==============================] - 48s 263ms/step - loss: 1.2238 - mae: 0.8097 - val_loss: 4.9344 - val_mae: 1.6711\n",
            "Epoch 197/250\n",
            "178/178 [==============================] - 46s 253ms/step - loss: 1.0706 - mae: 0.7564 - val_loss: 4.5416 - val_mae: 1.5966\n",
            "Epoch 198/250\n",
            "178/178 [==============================] - 48s 266ms/step - loss: 1.0714 - mae: 0.7507 - val_loss: 4.8406 - val_mae: 1.6534\n",
            "Epoch 199/250\n",
            "178/178 [==============================] - 47s 262ms/step - loss: 1.0494 - mae: 0.7472 - val_loss: 4.5587 - val_mae: 1.6069\n",
            "Epoch 200/250\n",
            "178/178 [==============================] - 48s 263ms/step - loss: 1.0275 - mae: 0.7443 - val_loss: 4.8009 - val_mae: 1.6410\n",
            "Epoch 201/250\n",
            "178/178 [==============================] - 48s 262ms/step - loss: 1.0721 - mae: 0.7532 - val_loss: 5.0779 - val_mae: 1.6998\n",
            "Epoch 202/250\n",
            "178/178 [==============================] - 50s 276ms/step - loss: 0.9924 - mae: 0.7429 - val_loss: 3.7965 - val_mae: 1.4709\n",
            "Epoch 203/250\n",
            "178/178 [==============================] - 49s 270ms/step - loss: 1.0519 - mae: 0.7569 - val_loss: 4.4070 - val_mae: 1.5640\n",
            "Epoch 204/250\n",
            "178/178 [==============================] - 48s 264ms/step - loss: 0.9917 - mae: 0.7279 - val_loss: 4.7632 - val_mae: 1.6292\n",
            "Epoch 205/250\n",
            "178/178 [==============================] - 48s 267ms/step - loss: 1.0059 - mae: 0.7287 - val_loss: 6.0795 - val_mae: 1.8467\n",
            "Epoch 206/250\n",
            "178/178 [==============================] - 48s 263ms/step - loss: 0.9670 - mae: 0.7251 - val_loss: 5.4417 - val_mae: 1.7573\n",
            "Epoch 207/250\n",
            "178/178 [==============================] - 47s 261ms/step - loss: 0.9759 - mae: 0.7288 - val_loss: 5.0238 - val_mae: 1.6740\n",
            "Epoch 208/250\n",
            "178/178 [==============================] - 49s 267ms/step - loss: 0.9124 - mae: 0.7044 - val_loss: 4.8383 - val_mae: 1.6726\n",
            "Epoch 209/250\n",
            "178/178 [==============================] - 47s 261ms/step - loss: 1.2186 - mae: 0.8232 - val_loss: 4.5301 - val_mae: 1.6095\n",
            "Epoch 210/250\n",
            "178/178 [==============================] - 48s 264ms/step - loss: 1.1045 - mae: 0.7778 - val_loss: 5.5275 - val_mae: 1.7537\n",
            "Epoch 211/250\n",
            "178/178 [==============================] - 48s 263ms/step - loss: 1.0048 - mae: 0.7486 - val_loss: 6.5221 - val_mae: 1.8913\n",
            "Epoch 212/250\n",
            "178/178 [==============================] - 48s 267ms/step - loss: 1.1564 - mae: 0.7731 - val_loss: 5.7663 - val_mae: 1.7766\n",
            "Epoch 213/250\n",
            "178/178 [==============================] - 47s 261ms/step - loss: 1.6292 - mae: 0.8202 - val_loss: 4.9451 - val_mae: 1.6557\n",
            "Epoch 214/250\n",
            "178/178 [==============================] - 48s 266ms/step - loss: 1.0541 - mae: 0.7567 - val_loss: 5.3281 - val_mae: 1.7136\n",
            "Epoch 215/250\n",
            "178/178 [==============================] - 49s 267ms/step - loss: 1.0064 - mae: 0.7444 - val_loss: 5.7505 - val_mae: 1.7827\n",
            "Epoch 216/250\n",
            "178/178 [==============================] - 48s 262ms/step - loss: 0.9570 - mae: 0.7227 - val_loss: 5.3991 - val_mae: 1.7127\n",
            "Epoch 217/250\n",
            "178/178 [==============================] - 48s 264ms/step - loss: 0.9447 - mae: 0.7154 - val_loss: 5.5230 - val_mae: 1.7389\n",
            "Epoch 218/250\n",
            "178/178 [==============================] - 47s 262ms/step - loss: 0.8419 - mae: 0.6805 - val_loss: 6.7676 - val_mae: 1.9216\n",
            "Epoch 219/250\n",
            "178/178 [==============================] - 48s 264ms/step - loss: 1.0142 - mae: 0.7166 - val_loss: 5.4085 - val_mae: 1.7115\n",
            "Epoch 220/250\n",
            "178/178 [==============================] - 48s 265ms/step - loss: 0.9519 - mae: 0.7185 - val_loss: 6.1644 - val_mae: 1.8232\n",
            "Epoch 221/250\n",
            "178/178 [==============================] - 48s 265ms/step - loss: 0.9414 - mae: 0.7130 - val_loss: 6.7324 - val_mae: 1.8928\n",
            "Epoch 222/250\n",
            "178/178 [==============================] - 48s 264ms/step - loss: 0.8524 - mae: 0.6887 - val_loss: 5.6353 - val_mae: 1.7271\n",
            "Epoch 223/250\n",
            "178/178 [==============================] - 48s 263ms/step - loss: 0.9628 - mae: 0.7146 - val_loss: 5.3413 - val_mae: 1.7065\n",
            "Epoch 224/250\n",
            "178/178 [==============================] - 48s 267ms/step - loss: 0.9680 - mae: 0.7061 - val_loss: 5.7153 - val_mae: 1.7651\n",
            "Epoch 225/250\n",
            "178/178 [==============================] - 48s 265ms/step - loss: 0.8678 - mae: 0.6923 - val_loss: 5.6558 - val_mae: 1.7446\n",
            "Epoch 226/250\n",
            "178/178 [==============================] - 49s 272ms/step - loss: 0.9044 - mae: 0.7061 - val_loss: 5.1409 - val_mae: 1.6705\n",
            "Epoch 227/250\n",
            "178/178 [==============================] - 47s 262ms/step - loss: 0.9400 - mae: 0.7026 - val_loss: 6.5473 - val_mae: 1.8636\n",
            "Epoch 228/250\n",
            "178/178 [==============================] - 49s 264ms/step - loss: 0.8249 - mae: 0.6819 - val_loss: 5.7898 - val_mae: 1.7632\n",
            "Epoch 229/250\n",
            "178/178 [==============================] - 49s 268ms/step - loss: 0.8869 - mae: 0.6992 - val_loss: 5.8222 - val_mae: 1.7954\n",
            "Epoch 230/250\n",
            "178/178 [==============================] - 48s 264ms/step - loss: 1.1093 - mae: 0.7359 - val_loss: 8.1881 - val_mae: 2.0706\n",
            "Epoch 231/250\n",
            "178/178 [==============================] - 49s 271ms/step - loss: 0.9818 - mae: 0.7147 - val_loss: 5.0719 - val_mae: 1.6577\n",
            "Epoch 232/250\n",
            "178/178 [==============================] - 49s 268ms/step - loss: 0.8873 - mae: 0.7040 - val_loss: 7.1059 - val_mae: 1.9138\n",
            "Epoch 233/250\n",
            "178/178 [==============================] - 49s 272ms/step - loss: 0.9098 - mae: 0.7094 - val_loss: 5.4195 - val_mae: 1.7179\n",
            "Epoch 234/250\n",
            "178/178 [==============================] - 48s 263ms/step - loss: 0.8849 - mae: 0.6950 - val_loss: 5.3362 - val_mae: 1.7222\n",
            "Epoch 235/250\n",
            "178/178 [==============================] - 50s 271ms/step - loss: 1.2252 - mae: 0.7951 - val_loss: 5.7956 - val_mae: 1.7334\n",
            "Epoch 236/250\n",
            "178/178 [==============================] - 48s 266ms/step - loss: 1.6047 - mae: 0.8387 - val_loss: 4.2147 - val_mae: 1.5149\n",
            "Epoch 237/250\n",
            "178/178 [==============================] - 50s 270ms/step - loss: 1.6029 - mae: 0.8353 - val_loss: 5.0132 - val_mae: 1.6191\n",
            "Epoch 238/250\n",
            "178/178 [==============================] - 48s 266ms/step - loss: 1.4686 - mae: 0.8206 - val_loss: 4.4127 - val_mae: 1.5223\n",
            "Epoch 239/250\n",
            "178/178 [==============================] - 48s 266ms/step - loss: 1.0928 - mae: 0.7696 - val_loss: 4.7420 - val_mae: 1.5738\n",
            "Epoch 240/250\n",
            "178/178 [==============================] - 48s 268ms/step - loss: 0.9777 - mae: 0.7351 - val_loss: 6.0880 - val_mae: 1.7934\n",
            "Epoch 241/250\n",
            "178/178 [==============================] - 49s 266ms/step - loss: 1.0164 - mae: 0.7400 - val_loss: 5.9768 - val_mae: 1.7707\n",
            "Epoch 242/250\n",
            "178/178 [==============================] - 50s 276ms/step - loss: 0.9985 - mae: 0.7414 - val_loss: 5.8144 - val_mae: 1.7780\n",
            "Epoch 243/250\n",
            "178/178 [==============================] - 49s 272ms/step - loss: 1.0820 - mae: 0.7456 - val_loss: 6.6228 - val_mae: 1.8835\n",
            "Epoch 244/250\n",
            "178/178 [==============================] - 51s 279ms/step - loss: 0.9253 - mae: 0.7039 - val_loss: 5.7311 - val_mae: 1.7585\n",
            "Epoch 245/250\n",
            "178/178 [==============================] - 49s 271ms/step - loss: 1.5407 - mae: 0.7768 - val_loss: 5.0377 - val_mae: 1.6498\n",
            "Epoch 246/250\n",
            "178/178 [==============================] - 48s 267ms/step - loss: 1.1437 - mae: 0.7966 - val_loss: 6.3648 - val_mae: 1.8350\n",
            "Epoch 247/250\n",
            "178/178 [==============================] - 48s 264ms/step - loss: 1.3489 - mae: 0.8538 - val_loss: 4.4321 - val_mae: 1.5346\n",
            "Epoch 248/250\n",
            "178/178 [==============================] - 49s 267ms/step - loss: 1.2549 - mae: 0.8036 - val_loss: 4.5549 - val_mae: 1.5546\n",
            "Epoch 249/250\n",
            "178/178 [==============================] - 48s 266ms/step - loss: 1.1518 - mae: 0.7831 - val_loss: 4.4971 - val_mae: 1.5514\n",
            "Epoch 250/250\n",
            "178/178 [==============================] - 49s 269ms/step - loss: 1.1002 - mae: 0.7719 - val_loss: 4.9166 - val_mae: 1.6128\n"
          ]
        }
      ]
    },
    {
      "cell_type": "code",
      "source": [
        "loss = history.history['loss']\n",
        "val_loss = history.history['val_loss']\n",
        "mae = history.history['mae']\n",
        "val_mae = history.history['val_mae']\n",
        "\n",
        "\n",
        "epochs_x = range(len(loss))\n",
        "\n",
        "\n",
        "plt.plot(epochs_x, mae, 'o', color ='darkviolet', label='Training MAE')\n",
        "plt.plot(epochs_x, val_mae, 'k', label='Validation MAE')\n",
        "plt.title('Training and validation MeanAbsoluteError')\n",
        "plt.legend()\n",
        "\n",
        "plt.figure()\n",
        "plt.plot(epochs_x, loss, 'o', color ='darkviolet', label='Training loss')\n",
        "plt.plot(epochs_x, val_loss, 'k', label='Validation loss')\n",
        "plt.title('Training and validation loss')\n",
        "plt.legend()\n",
        "\n",
        "plt.show()"
      ],
      "metadata": {
        "id": "Y3K89-CM-dfg",
        "colab": {
          "base_uri": "https://localhost:8080/",
          "height": 545
        },
        "outputId": "eec83661-22ae-409f-9008-548cfdb26104"
      },
      "execution_count": 21,
      "outputs": [
        {
          "output_type": "display_data",
          "data": {
            "text/plain": [
              "<Figure size 432x288 with 1 Axes>"
            ],
            "image/png": "[encoded data removed]"
          },
          "metadata": {
            "needs_background": "light"
          }
        },
        {
          "output_type": "display_data",
          "data": {
            "text/plain": [
              "<Figure size 432x288 with 1 Axes>"
            ],
            "image/png": "[encoded data removed]"
          },
          "metadata": {
            "needs_background": "light"
          }
        }
      ]
    },
    {
      "cell_type": "code",
      "source": [],
      "metadata": {
        "id": "sI5JVEwwQsjc"
      },
      "execution_count": 21,
      "outputs": []
    },
    {
      "cell_type": "code",
      "source": [
        "epochs_x"
      ],
      "metadata": {
        "id": "N_sP_ZmSY-Jv",
        "colab": {
          "base_uri": "https://localhost:8080/"
        },
        "outputId": "33314b9e-914e-4958-dc05-8ee94eb6d823"
      },
      "execution_count": 22,
      "outputs": [
        {
          "output_type": "execute_result",
          "data": {
            "text/plain": [
              "range(0, 250)"
            ]
          },
          "metadata": {},
          "execution_count": 22
        }
      ]
    },
    {
      "cell_type": "markdown",
      "source": [
        "#Download the model\n"
      ],
      "metadata": {
        "id": "R19IJQSYoW7J"
      }
    },
    {
      "cell_type": "code",
      "source": [
        "os.makedirs('/content/drive/My Drive/cut_panoramic/Model', exist_ok=True)\n",
        "model.save('/content/drive/My Drive/cut_panoramic/Model/5Re_All_1G_1e-4_16_0.2_250_New_Unfreez.h5')"
      ],
      "metadata": {
        "id": "Zed4TdFcG2iJ"
      },
      "execution_count": 23,
      "outputs": []
    },
    {
      "cell_type": "markdown",
      "source": [],
      "metadata": {
        "id": "n5YxZ-5QjQ0-"
      }
    },
    {
      "cell_type": "code",
      "source": [
        "# from google.colab import files\n",
        "# files.download('/content/drive/My Drive/cut_panoramic/Model/1.1_รอบแรก_Flimpano_Male125_250.h5')"
      ],
      "metadata": {
        "id": "P5eMxm1NV-oY"
      },
      "execution_count": 24,
      "outputs": []
    },
    {
      "cell_type": "code",
      "source": [
        "\n"
      ],
      "metadata": {
        "id": "wY_pDlxkRwxS"
      },
      "execution_count": 24,
      "outputs": []
    }
  ]
}