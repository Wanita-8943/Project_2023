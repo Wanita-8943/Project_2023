{
  "nbformat": 4,
  "nbformat_minor": 0,
  "metadata": {
    "colab": {
      "provenance": [],
      "machine_shape": "hm",
      "include_colab_link": true
    },
    "kernelspec": {
      "name": "python3",
      "display_name": "Python 3"
    },
    "language_info": {
      "name": "python"
    },
    "accelerator": "GPU",
    "gpuClass": "premium"
  },
  "cells": [
    {
      "cell_type": "markdown",
      "metadata": {
        "id": "view-in-github",
        "colab_type": "text"
      },
      "source": [
        "<a href=\"https://colab.research.google.com/github/Wanita-8943/Project_2023/blob/main/G2_Train_Freeze.ipynb\" target=\"_parent\"><img src=\"https://colab.research.google.com/assets/colab-badge.svg\" alt=\"Open In Colab\"/></a>"
      ]
    },
    {
      "cell_type": "code",
      "execution_count": 1,
      "metadata": {
        "id": "KKSs7cyoPHcD"
      },
      "outputs": [],
      "source": [
        "import pandas as pd\n",
        "import shutil"
      ]
    },
    {
      "cell_type": "code",
      "source": [
        "from google.colab import drive\n",
        "drive.mount('/content/drive')"
      ],
      "metadata": {
        "colab": {
          "base_uri": "https://localhost:8080/"
        },
        "id": "Klm1B91QlvKd",
        "outputId": "d553f8e4-83ea-411b-b8b7-64786901dde4"
      },
      "execution_count": 2,
      "outputs": [
        {
          "output_type": "stream",
          "name": "stdout",
          "text": [
            "Mounted at /content/drive\n"
          ]
        }
      ]
    },
    {
      "cell_type": "code",
      "source": [
        "from tensorflow.keras import models\n",
        "from tensorflow.keras import layers\n",
        "from tensorflow.keras import optimizers\n",
        "import os\n",
        "import glob\n",
        "import shutil\n",
        "import sys\n",
        "import numpy as np\n",
        "from skimage.io import imread\n",
        "import matplotlib.pyplot as plt\n",
        "from IPython.display import Image\n",
        "%matplotlib inline"
      ],
      "metadata": {
        "id": "1pX9g1HxPM2f"
      },
      "execution_count": 3,
      "outputs": []
    },
    {
      "cell_type": "code",
      "source": [
        "batch_size = 16\n",
        "width = 150\n",
        "height = 150\n",
        "epochs = 250\n",
        "NUM_TRAIN = 2850\n",
        "NUM_TEST = 950\n",
        "dropout_rate = 0.2\n",
        "input_shape = (height, width, 3)"
      ],
      "metadata": {
        "id": "eSFtvGyvPM6O"
      },
      "execution_count": 4,
      "outputs": []
    },
    {
      "cell_type": "code",
      "source": [
        "#ดึงข้อมูลใน Github มาใช้\n",
        "import os\n",
        "%cd /content\n",
        "if not os.path.isdir(\"efficientnet_keras_transfer_learning\"):\n",
        " !git clone https://github.com/Wanita-8943/efficientnet_keras_transfer_learning\n",
        "%cd efficientnet_keras_transfer_learning/"
      ],
      "metadata": {
        "colab": {
          "base_uri": "https://localhost:8080/"
        },
        "id": "lb4K4CsMPNAW",
        "outputId": "b58686a7-e935-458e-b30d-26e66d64bceb"
      },
      "execution_count": 5,
      "outputs": [
        {
          "output_type": "stream",
          "name": "stdout",
          "text": [
            "/content\n",
            "Cloning into 'efficientnet_keras_transfer_learning'...\n",
            "remote: Enumerating objects: 837, done.\u001b[K\n",
            "remote: Total 837 (delta 0), reused 0 (delta 0), pack-reused 837\u001b[K\n",
            "Receiving objects: 100% (837/837), 13.85 MiB | 18.57 MiB/s, done.\n",
            "Resolving deltas: 100% (497/497), done.\n",
            "/content/efficientnet_keras_transfer_learning\n"
          ]
        }
      ]
    },
    {
      "cell_type": "code",
      "source": [
        "# Options: EfficientNetB0, EfficientNetB1, EfficientNetB2, EfficientNetB3\n",
        "# Higher the number, the more complex the model is.\n",
        "from efficientnet import EfficientNetB0 as Net\n",
        "from efficientnet import center_crop_and_resize, preprocess_input"
      ],
      "metadata": {
        "id": "eyBg0dLKPND3"
      },
      "execution_count": 6,
      "outputs": []
    },
    {
      "cell_type": "code",
      "source": [
        "base_dir = '/content/drive/MyDrive/TVT_Gender'\n",
        "os.makedirs(base_dir, exist_ok=True)\n",
        "\n",
        "# Directories for our training,\n",
        "# validation and test splits\n",
        "train_dir = os.path.join(base_dir, 'train')\n",
        "os.makedirs(train_dir, exist_ok=True)\n",
        "validation_dir = os.path.join(base_dir, 'validation')\n",
        "os.makedirs(validation_dir, exist_ok=True)\n",
        "test_dir = os.path.join(base_dir, 'test')\n",
        "os.makedirs(test_dir, exist_ok=True)"
      ],
      "metadata": {
        "id": "Jwpq_-KvPef8"
      },
      "execution_count": 7,
      "outputs": []
    },
    {
      "cell_type": "markdown",
      "source": [
        "#load model"
      ],
      "metadata": {
        "id": "od-ZSNm5PoGy"
      }
    },
    {
      "cell_type": "code",
      "source": [
        "import sys\n",
        "sys.path.append('/content/drive/MyDrive/cut_panoramic/Model/Classification/Gender/1_รอบแรก_Gender_250.h5')\n",
        "\n",
        "from efficientnet.layers import Swish, DropConnect\n",
        "from efficientnet.model import ConvKernalInitializer\n",
        "from tensorflow.keras.utils import get_custom_objects\n",
        "\n",
        "get_custom_objects().update({\n",
        "    'ConvKernalInitializer': ConvKernalInitializer,\n",
        "    'Swish': Swish,\n",
        "    'DropConnect':DropConnect\n",
        "})"
      ],
      "metadata": {
        "id": "n5iPL5MNPkhE"
      },
      "execution_count": 8,
      "outputs": []
    },
    {
      "cell_type": "code",
      "source": [
        "#load model \n",
        "from tensorflow.keras.models import load_model\n",
        "model = load_model('/content/drive/MyDrive/cut_panoramic/Model/Classification/Gender/1_รอบแรก_Gender_250.h5')\n",
        "height = width = model.input_shape[1]"
      ],
      "metadata": {
        "id": "plYz49xMPkly",
        "colab": {
          "base_uri": "https://localhost:8080/"
        },
        "outputId": "f7214734-00dd-4b48-e162-4d610bd4bf0a"
      },
      "execution_count": 9,
      "outputs": [
        {
          "output_type": "stream",
          "name": "stderr",
          "text": [
            "WARNING:tensorflow:From /usr/local/lib/python3.8/dist-packages/tensorflow/python/autograph/pyct/static_analysis/liveness.py:83: Analyzer.lamba_check (from tensorflow.python.autograph.pyct.static_analysis.liveness) is deprecated and will be removed after 2023-09-23.\n",
            "Instructions for updating:\n",
            "Lambda fuctions will be no more assumed to be used in the statement where they are used, or at least in the same block. https://github.com/tensorflow/tensorflow/issues/56089\n"
          ]
        }
      ]
    },
    {
      "cell_type": "code",
      "source": [
        "model.summary()"
      ],
      "metadata": {
        "colab": {
          "base_uri": "https://localhost:8080/"
        },
        "id": "z6IOPBflFbvc",
        "outputId": "47e288df-a0c6-4ec0-aa55-81e4c12bccc2"
      },
      "execution_count": 10,
      "outputs": [
        {
          "output_type": "stream",
          "name": "stdout",
          "text": [
            "Model: \"sequential\"\n",
            "_________________________________________________________________\n",
            " Layer (type)                Output Shape              Param #   \n",
            "=================================================================\n",
            " efficientnet-b0 (Functional  (None, 5, 5, 1280)       4049564   \n",
            " )                                                               \n",
            "                                                                 \n",
            " gap (GlobalMaxPooling2D)    (None, 1280)              0         \n",
            "                                                                 \n",
            " dropout_out (Dropout)       (None, 1280)              0         \n",
            "                                                                 \n",
            " fc_out (Dense)              (None, 2)                 2562      \n",
            "                                                                 \n",
            "=================================================================\n",
            "Total params: 4,052,126\n",
            "Trainable params: 2,562\n",
            "Non-trainable params: 4,049,564\n",
            "_________________________________________________________________\n"
          ]
        }
      ]
    },
    {
      "cell_type": "code",
      "source": [
        "# Train ด้วย ImageDataGenerator ของ Keras ซึ่งจะเพิ่มข้อมูลเสริมระหว่างการฝึกเพื่อลดโอกาสเกิด overfitting\n",
        "#overfitting เกิดจากข้อมูลที่ซับซ้อนกันเกินไป\n",
        "from tensorflow.keras.preprocessing.image import ImageDataGenerator\n",
        "\n",
        "train_datagen = ImageDataGenerator(\n",
        "      rescale=1./255, #โมเดลส่วนใหญ่ต้องใช้ RGB ในช่วง 0–1\n",
        "      rotation_range=40,\n",
        "      width_shift_range=0.2,\n",
        "      height_shift_range=0.2,\n",
        "      shear_range=0.2,\n",
        "      zoom_range=0.2,\n",
        "      horizontal_flip=True,\n",
        "      fill_mode='nearest')\n",
        "\n",
        "# Note that the validation data should not be augmented!\n",
        "test_datagen = ImageDataGenerator(rescale=1./255)\n",
        "\n",
        "train_generator = train_datagen.flow_from_directory(\n",
        "        # This is the target directory #ไดเรกเป้าหมาย\n",
        "        train_dir,\n",
        "        # รูปภาพทั้งหมดจะถูกปรับขนาดตามความสูงและความกว้างของเป้าหมาย\n",
        "        target_size=(height, width),\n",
        "        batch_size=batch_size,\n",
        "        # Since we use categorical_crossentropy loss, we need categorical labels\n",
        "        #เนื่องจากเราใช้ categorical_crossentropy loss เราจึงต้องมีป้ายกำกับตามหมวดหมู่\n",
        "        class_mode='categorical')\n",
        "\n",
        "validation_generator = test_datagen.flow_from_directory( #การดึงภาพจาก Directory มาเข้าโมเดล \n",
        "        validation_dir,\n",
        "        target_size=(height, width),\n",
        "        batch_size=batch_size,\n",
        "        class_mode='categorical')"
      ],
      "metadata": {
        "colab": {
          "base_uri": "https://localhost:8080/"
        },
        "id": "KBMZbdr2Pgw4",
        "outputId": "5aa896c1-3ff5-47c1-eb04-927f26cce50a"
      },
      "execution_count": 11,
      "outputs": [
        {
          "output_type": "stream",
          "name": "stdout",
          "text": [
            "Found 2850 images belonging to 2 classes.\n",
            "Found 950 images belonging to 2 classes.\n"
          ]
        }
      ]
    },
    {
      "cell_type": "code",
      "source": [
        "model.compile(loss='categorical_crossentropy',\n",
        "              optimizer=optimizers.RMSprop(learning_rate=2e-5),\n",
        "              metrics=['acc'])\n",
        "history = model.fit_generator(\n",
        "      train_generator,\n",
        "      steps_per_epoch= NUM_TRAIN //batch_size,\n",
        "      epochs=epochs,\n",
        "      validation_data=validation_generator,\n",
        "      validation_steps= NUM_TEST //batch_size,\n",
        "      verbose=1,\n",
        "      use_multiprocessing=True,\n",
        "      workers=4)"
      ],
      "metadata": {
        "colab": {
          "base_uri": "https://localhost:8080/"
        },
        "id": "C9Cf1dwyP1PD",
        "outputId": "c356e1f5-2e82-496b-cc60-9ef9a00b8f7d"
      },
      "execution_count": 12,
      "outputs": [
        {
          "output_type": "stream",
          "name": "stderr",
          "text": [
            "<ipython-input-12-95ae5648fc7b>:4: UserWarning: `Model.fit_generator` is deprecated and will be removed in a future version. Please use `Model.fit`, which supports generators.\n",
            "  history = model.fit_generator(\n"
          ]
        },
        {
          "output_type": "stream",
          "name": "stdout",
          "text": [
            "Epoch 1/250\n",
            "178/178 [==============================] - 558s 3s/step - loss: 0.6171 - acc: 0.6595 - val_loss: 0.5566 - val_acc: 0.7214\n",
            "Epoch 2/250\n",
            "178/178 [==============================] - 17s 92ms/step - loss: 0.6049 - acc: 0.6778 - val_loss: 0.5748 - val_acc: 0.7034\n",
            "Epoch 3/250\n",
            "178/178 [==============================] - 16s 90ms/step - loss: 0.6208 - acc: 0.6634 - val_loss: 0.5673 - val_acc: 0.7044\n",
            "Epoch 4/250\n",
            "178/178 [==============================] - 16s 90ms/step - loss: 0.6099 - acc: 0.6736 - val_loss: 0.5736 - val_acc: 0.7013\n",
            "Epoch 5/250\n",
            "178/178 [==============================] - 16s 89ms/step - loss: 0.6123 - acc: 0.6676 - val_loss: 0.5917 - val_acc: 0.6886\n",
            "Epoch 6/250\n",
            "178/178 [==============================] - 16s 90ms/step - loss: 0.6164 - acc: 0.6560 - val_loss: 0.5461 - val_acc: 0.7320\n",
            "Epoch 7/250\n",
            "178/178 [==============================] - 16s 90ms/step - loss: 0.6133 - acc: 0.6662 - val_loss: 0.5623 - val_acc: 0.7129\n",
            "Epoch 8/250\n",
            "178/178 [==============================] - 16s 89ms/step - loss: 0.6199 - acc: 0.6658 - val_loss: 0.5768 - val_acc: 0.7034\n",
            "Epoch 9/250\n",
            "178/178 [==============================] - 16s 89ms/step - loss: 0.6136 - acc: 0.6711 - val_loss: 0.5766 - val_acc: 0.7034\n",
            "Epoch 10/250\n",
            "178/178 [==============================] - 16s 90ms/step - loss: 0.6058 - acc: 0.6845 - val_loss: 0.5657 - val_acc: 0.7119\n",
            "Epoch 11/250\n",
            "178/178 [==============================] - 16s 89ms/step - loss: 0.6130 - acc: 0.6704 - val_loss: 0.5438 - val_acc: 0.7352\n",
            "Epoch 12/250\n",
            "178/178 [==============================] - 16s 90ms/step - loss: 0.6148 - acc: 0.6651 - val_loss: 0.5867 - val_acc: 0.6928\n",
            "Epoch 13/250\n",
            "178/178 [==============================] - 16s 90ms/step - loss: 0.6072 - acc: 0.6669 - val_loss: 0.5611 - val_acc: 0.7182\n",
            "Epoch 14/250\n",
            "178/178 [==============================] - 16s 90ms/step - loss: 0.6129 - acc: 0.6658 - val_loss: 0.5374 - val_acc: 0.7394\n",
            "Epoch 15/250\n",
            "178/178 [==============================] - 16s 89ms/step - loss: 0.6134 - acc: 0.6722 - val_loss: 0.5719 - val_acc: 0.7108\n",
            "Epoch 16/250\n",
            "178/178 [==============================] - 17s 91ms/step - loss: 0.6118 - acc: 0.6665 - val_loss: 0.5571 - val_acc: 0.7203\n",
            "Epoch 17/250\n",
            "178/178 [==============================] - 16s 91ms/step - loss: 0.6080 - acc: 0.6662 - val_loss: 0.5684 - val_acc: 0.7108\n",
            "Epoch 18/250\n",
            "178/178 [==============================] - 16s 90ms/step - loss: 0.6237 - acc: 0.6630 - val_loss: 0.5459 - val_acc: 0.7299\n",
            "Epoch 19/250\n",
            "178/178 [==============================] - 16s 89ms/step - loss: 0.6132 - acc: 0.6722 - val_loss: 0.5537 - val_acc: 0.7235\n",
            "Epoch 20/250\n",
            "178/178 [==============================] - 16s 90ms/step - loss: 0.6164 - acc: 0.6683 - val_loss: 0.5554 - val_acc: 0.7193\n",
            "Epoch 21/250\n",
            "178/178 [==============================] - 17s 92ms/step - loss: 0.6124 - acc: 0.6602 - val_loss: 0.5572 - val_acc: 0.7193\n",
            "Epoch 22/250\n",
            "178/178 [==============================] - 16s 90ms/step - loss: 0.6148 - acc: 0.6641 - val_loss: 0.5428 - val_acc: 0.7362\n",
            "Epoch 23/250\n",
            "178/178 [==============================] - 12s 64ms/step - loss: 0.6092 - acc: 0.6715 - val_loss: 0.5443 - val_acc: 0.7299\n",
            "Epoch 24/250\n",
            "178/178 [==============================] - 16s 90ms/step - loss: 0.6147 - acc: 0.6627 - val_loss: 0.5459 - val_acc: 0.7309\n",
            "Epoch 25/250\n",
            "178/178 [==============================] - 16s 90ms/step - loss: 0.6181 - acc: 0.6711 - val_loss: 0.5372 - val_acc: 0.7362\n",
            "Epoch 26/250\n",
            "178/178 [==============================] - 16s 89ms/step - loss: 0.6062 - acc: 0.6725 - val_loss: 0.5442 - val_acc: 0.7267\n",
            "Epoch 27/250\n",
            "178/178 [==============================] - 16s 90ms/step - loss: 0.6183 - acc: 0.6595 - val_loss: 0.5497 - val_acc: 0.7267\n",
            "Epoch 28/250\n",
            "178/178 [==============================] - 16s 90ms/step - loss: 0.6017 - acc: 0.6711 - val_loss: 0.5431 - val_acc: 0.7278\n",
            "Epoch 29/250\n",
            "178/178 [==============================] - 17s 91ms/step - loss: 0.6142 - acc: 0.6743 - val_loss: 0.5539 - val_acc: 0.7203\n",
            "Epoch 30/250\n",
            "178/178 [==============================] - 16s 89ms/step - loss: 0.6083 - acc: 0.6768 - val_loss: 0.5559 - val_acc: 0.7235\n",
            "Epoch 31/250\n",
            "178/178 [==============================] - 17s 91ms/step - loss: 0.6056 - acc: 0.6669 - val_loss: 0.5437 - val_acc: 0.7267\n",
            "Epoch 32/250\n",
            "178/178 [==============================] - 17s 92ms/step - loss: 0.5983 - acc: 0.6775 - val_loss: 0.5596 - val_acc: 0.7203\n",
            "Epoch 33/250\n",
            "178/178 [==============================] - 16s 90ms/step - loss: 0.6136 - acc: 0.6725 - val_loss: 0.5475 - val_acc: 0.7278\n",
            "Epoch 34/250\n",
            "178/178 [==============================] - 16s 90ms/step - loss: 0.5930 - acc: 0.6782 - val_loss: 0.5743 - val_acc: 0.6992\n",
            "Epoch 35/250\n",
            "178/178 [==============================] - 17s 91ms/step - loss: 0.6076 - acc: 0.6729 - val_loss: 0.5433 - val_acc: 0.7267\n",
            "Epoch 36/250\n",
            "178/178 [==============================] - 16s 89ms/step - loss: 0.6100 - acc: 0.6641 - val_loss: 0.5725 - val_acc: 0.7013\n",
            "Epoch 37/250\n",
            "178/178 [==============================] - 17s 91ms/step - loss: 0.6169 - acc: 0.6648 - val_loss: 0.5515 - val_acc: 0.7246\n",
            "Epoch 38/250\n",
            "178/178 [==============================] - 17s 91ms/step - loss: 0.6061 - acc: 0.6704 - val_loss: 0.5431 - val_acc: 0.7246\n",
            "Epoch 39/250\n",
            "178/178 [==============================] - 17s 91ms/step - loss: 0.6163 - acc: 0.6722 - val_loss: 0.5660 - val_acc: 0.7108\n",
            "Epoch 40/250\n",
            "178/178 [==============================] - 17s 91ms/step - loss: 0.6126 - acc: 0.6750 - val_loss: 0.5386 - val_acc: 0.7383\n",
            "Epoch 41/250\n",
            "178/178 [==============================] - 17s 92ms/step - loss: 0.6029 - acc: 0.6750 - val_loss: 0.5423 - val_acc: 0.7373\n",
            "Epoch 42/250\n",
            "178/178 [==============================] - 17s 90ms/step - loss: 0.6099 - acc: 0.6740 - val_loss: 0.5511 - val_acc: 0.7235\n",
            "Epoch 43/250\n",
            "178/178 [==============================] - 17s 91ms/step - loss: 0.5966 - acc: 0.6761 - val_loss: 0.5629 - val_acc: 0.7129\n",
            "Epoch 44/250\n",
            "178/178 [==============================] - 17s 91ms/step - loss: 0.6176 - acc: 0.6648 - val_loss: 0.5420 - val_acc: 0.7362\n",
            "Epoch 45/250\n",
            "178/178 [==============================] - 17s 92ms/step - loss: 0.6147 - acc: 0.6651 - val_loss: 0.5520 - val_acc: 0.7193\n",
            "Epoch 46/250\n",
            "178/178 [==============================] - 16s 90ms/step - loss: 0.6016 - acc: 0.6789 - val_loss: 0.5566 - val_acc: 0.7193\n",
            "Epoch 47/250\n",
            "178/178 [==============================] - 17s 92ms/step - loss: 0.6087 - acc: 0.6750 - val_loss: 0.5569 - val_acc: 0.7203\n",
            "Epoch 48/250\n",
            "178/178 [==============================] - 17s 90ms/step - loss: 0.6240 - acc: 0.6531 - val_loss: 0.5628 - val_acc: 0.7129\n",
            "Epoch 49/250\n",
            "178/178 [==============================] - 17s 93ms/step - loss: 0.5916 - acc: 0.6856 - val_loss: 0.5583 - val_acc: 0.7193\n",
            "Epoch 50/250\n",
            "178/178 [==============================] - 17s 91ms/step - loss: 0.6127 - acc: 0.6740 - val_loss: 0.5700 - val_acc: 0.7066\n",
            "Epoch 51/250\n",
            "178/178 [==============================] - 17s 92ms/step - loss: 0.6113 - acc: 0.6704 - val_loss: 0.5499 - val_acc: 0.7203\n",
            "Epoch 52/250\n",
            "178/178 [==============================] - 16s 90ms/step - loss: 0.6150 - acc: 0.6680 - val_loss: 0.5573 - val_acc: 0.7193\n",
            "Epoch 53/250\n",
            "178/178 [==============================] - 17s 91ms/step - loss: 0.5977 - acc: 0.6898 - val_loss: 0.5516 - val_acc: 0.7225\n",
            "Epoch 54/250\n",
            "178/178 [==============================] - 16s 90ms/step - loss: 0.6113 - acc: 0.6747 - val_loss: 0.5499 - val_acc: 0.7267\n",
            "Epoch 55/250\n",
            "178/178 [==============================] - 16s 89ms/step - loss: 0.6055 - acc: 0.6771 - val_loss: 0.5400 - val_acc: 0.7394\n",
            "Epoch 56/250\n",
            "178/178 [==============================] - 16s 90ms/step - loss: 0.5980 - acc: 0.6800 - val_loss: 0.5460 - val_acc: 0.7320\n",
            "Epoch 57/250\n",
            "178/178 [==============================] - 17s 91ms/step - loss: 0.6008 - acc: 0.6856 - val_loss: 0.5497 - val_acc: 0.7309\n",
            "Epoch 58/250\n",
            "178/178 [==============================] - 17s 95ms/step - loss: 0.6045 - acc: 0.6680 - val_loss: 0.5477 - val_acc: 0.7299\n",
            "Epoch 59/250\n",
            "178/178 [==============================] - 17s 92ms/step - loss: 0.6147 - acc: 0.6669 - val_loss: 0.5599 - val_acc: 0.7182\n",
            "Epoch 60/250\n",
            "178/178 [==============================] - 17s 92ms/step - loss: 0.6124 - acc: 0.6694 - val_loss: 0.5401 - val_acc: 0.7341\n",
            "Epoch 61/250\n",
            "178/178 [==============================] - 12s 64ms/step - loss: 0.6023 - acc: 0.6725 - val_loss: 0.5424 - val_acc: 0.7341\n",
            "Epoch 62/250\n",
            "178/178 [==============================] - 17s 90ms/step - loss: 0.6093 - acc: 0.6715 - val_loss: 0.5480 - val_acc: 0.7331\n",
            "Epoch 63/250\n",
            "178/178 [==============================] - 17s 91ms/step - loss: 0.6007 - acc: 0.6867 - val_loss: 0.5449 - val_acc: 0.7309\n",
            "Epoch 64/250\n",
            "178/178 [==============================] - 17s 91ms/step - loss: 0.5983 - acc: 0.6687 - val_loss: 0.5484 - val_acc: 0.7288\n",
            "Epoch 65/250\n",
            "178/178 [==============================] - 17s 91ms/step - loss: 0.6134 - acc: 0.6620 - val_loss: 0.5460 - val_acc: 0.7288\n",
            "Epoch 66/250\n",
            "178/178 [==============================] - 17s 91ms/step - loss: 0.6023 - acc: 0.6817 - val_loss: 0.5649 - val_acc: 0.7097\n",
            "Epoch 67/250\n",
            "178/178 [==============================] - 17s 92ms/step - loss: 0.6072 - acc: 0.6715 - val_loss: 0.5513 - val_acc: 0.7256\n",
            "Epoch 68/250\n",
            "178/178 [==============================] - 17s 90ms/step - loss: 0.6128 - acc: 0.6584 - val_loss: 0.5617 - val_acc: 0.7108\n",
            "Epoch 69/250\n",
            "178/178 [==============================] - 16s 90ms/step - loss: 0.6020 - acc: 0.6701 - val_loss: 0.5544 - val_acc: 0.7193\n",
            "Epoch 70/250\n",
            "178/178 [==============================] - 17s 91ms/step - loss: 0.6081 - acc: 0.6747 - val_loss: 0.5537 - val_acc: 0.7235\n",
            "Epoch 71/250\n",
            "178/178 [==============================] - 16s 90ms/step - loss: 0.5954 - acc: 0.6902 - val_loss: 0.5593 - val_acc: 0.7140\n",
            "Epoch 72/250\n",
            "178/178 [==============================] - 16s 90ms/step - loss: 0.6089 - acc: 0.6750 - val_loss: 0.5509 - val_acc: 0.7267\n",
            "Epoch 73/250\n",
            "178/178 [==============================] - 17s 91ms/step - loss: 0.6059 - acc: 0.6683 - val_loss: 0.5529 - val_acc: 0.7225\n",
            "Epoch 74/250\n",
            "178/178 [==============================] - 17s 91ms/step - loss: 0.5935 - acc: 0.6845 - val_loss: 0.5606 - val_acc: 0.7150\n",
            "Epoch 75/250\n",
            "178/178 [==============================] - 17s 91ms/step - loss: 0.6123 - acc: 0.6722 - val_loss: 0.5446 - val_acc: 0.7288\n",
            "Epoch 76/250\n",
            "178/178 [==============================] - 17s 91ms/step - loss: 0.6035 - acc: 0.6697 - val_loss: 0.5555 - val_acc: 0.7150\n",
            "Epoch 77/250\n",
            "178/178 [==============================] - 17s 91ms/step - loss: 0.6014 - acc: 0.6775 - val_loss: 0.5471 - val_acc: 0.7256\n",
            "Epoch 78/250\n",
            "178/178 [==============================] - 17s 91ms/step - loss: 0.5972 - acc: 0.6838 - val_loss: 0.5662 - val_acc: 0.7087\n",
            "Epoch 79/250\n",
            "178/178 [==============================] - 17s 92ms/step - loss: 0.6130 - acc: 0.6669 - val_loss: 0.5498 - val_acc: 0.7235\n",
            "Epoch 80/250\n",
            "178/178 [==============================] - 17s 91ms/step - loss: 0.6051 - acc: 0.6676 - val_loss: 0.5622 - val_acc: 0.7129\n",
            "Epoch 81/250\n",
            "178/178 [==============================] - 17s 91ms/step - loss: 0.5990 - acc: 0.6824 - val_loss: 0.5433 - val_acc: 0.7320\n",
            "Epoch 82/250\n",
            "178/178 [==============================] - 17s 91ms/step - loss: 0.6075 - acc: 0.6560 - val_loss: 0.5579 - val_acc: 0.7150\n",
            "Epoch 83/250\n",
            "178/178 [==============================] - 17s 91ms/step - loss: 0.5924 - acc: 0.6856 - val_loss: 0.5449 - val_acc: 0.7299\n",
            "Epoch 84/250\n",
            "178/178 [==============================] - 17s 91ms/step - loss: 0.6061 - acc: 0.6800 - val_loss: 0.5381 - val_acc: 0.7341\n",
            "Epoch 85/250\n",
            "178/178 [==============================] - 17s 91ms/step - loss: 0.6052 - acc: 0.6729 - val_loss: 0.5453 - val_acc: 0.7288\n",
            "Epoch 86/250\n",
            "178/178 [==============================] - 17s 90ms/step - loss: 0.6086 - acc: 0.6764 - val_loss: 0.5451 - val_acc: 0.7320\n",
            "Epoch 87/250\n",
            "178/178 [==============================] - 17s 91ms/step - loss: 0.6084 - acc: 0.6782 - val_loss: 0.5380 - val_acc: 0.7331\n",
            "Epoch 88/250\n",
            "178/178 [==============================] - 17s 90ms/step - loss: 0.6014 - acc: 0.6807 - val_loss: 0.5416 - val_acc: 0.7352\n",
            "Epoch 89/250\n",
            "178/178 [==============================] - 17s 92ms/step - loss: 0.5913 - acc: 0.6747 - val_loss: 0.5480 - val_acc: 0.7235\n",
            "Epoch 90/250\n",
            "178/178 [==============================] - 17s 92ms/step - loss: 0.6079 - acc: 0.6662 - val_loss: 0.5414 - val_acc: 0.7299\n",
            "Epoch 91/250\n",
            "178/178 [==============================] - 17s 91ms/step - loss: 0.6060 - acc: 0.6680 - val_loss: 0.5344 - val_acc: 0.7341\n",
            "Epoch 92/250\n",
            "178/178 [==============================] - 17s 90ms/step - loss: 0.6097 - acc: 0.6701 - val_loss: 0.5522 - val_acc: 0.7225\n",
            "Epoch 93/250\n",
            "178/178 [==============================] - 17s 91ms/step - loss: 0.6082 - acc: 0.6701 - val_loss: 0.5401 - val_acc: 0.7352\n",
            "Epoch 94/250\n",
            "178/178 [==============================] - 17s 91ms/step - loss: 0.5943 - acc: 0.6856 - val_loss: 0.5390 - val_acc: 0.7331\n",
            "Epoch 95/250\n",
            "178/178 [==============================] - 17s 91ms/step - loss: 0.6051 - acc: 0.6768 - val_loss: 0.5431 - val_acc: 0.7341\n",
            "Epoch 96/250\n",
            "178/178 [==============================] - 17s 91ms/step - loss: 0.6149 - acc: 0.6613 - val_loss: 0.5396 - val_acc: 0.7341\n",
            "Epoch 97/250\n",
            "178/178 [==============================] - 17s 91ms/step - loss: 0.5990 - acc: 0.6697 - val_loss: 0.5486 - val_acc: 0.7256\n",
            "Epoch 98/250\n",
            "178/178 [==============================] - 17s 91ms/step - loss: 0.5967 - acc: 0.6761 - val_loss: 0.5499 - val_acc: 0.7267\n",
            "Epoch 99/250\n",
            "178/178 [==============================] - 17s 92ms/step - loss: 0.6092 - acc: 0.6658 - val_loss: 0.5421 - val_acc: 0.7341\n",
            "Epoch 100/250\n",
            "178/178 [==============================] - 16s 90ms/step - loss: 0.5948 - acc: 0.6842 - val_loss: 0.5466 - val_acc: 0.7267\n",
            "Epoch 101/250\n",
            "178/178 [==============================] - 17s 92ms/step - loss: 0.6052 - acc: 0.6736 - val_loss: 0.5645 - val_acc: 0.7097\n",
            "Epoch 102/250\n",
            "178/178 [==============================] - 17s 91ms/step - loss: 0.5938 - acc: 0.6849 - val_loss: 0.5436 - val_acc: 0.7299\n",
            "Epoch 103/250\n",
            "178/178 [==============================] - 17s 91ms/step - loss: 0.6102 - acc: 0.6725 - val_loss: 0.5438 - val_acc: 0.7288\n",
            "Epoch 104/250\n",
            "178/178 [==============================] - 17s 91ms/step - loss: 0.6029 - acc: 0.6718 - val_loss: 0.5394 - val_acc: 0.7394\n",
            "Epoch 105/250\n",
            "178/178 [==============================] - 17s 91ms/step - loss: 0.6055 - acc: 0.6750 - val_loss: 0.5372 - val_acc: 0.7383\n",
            "Epoch 106/250\n",
            "178/178 [==============================] - 17s 93ms/step - loss: 0.6022 - acc: 0.6740 - val_loss: 0.5378 - val_acc: 0.7362\n",
            "Epoch 107/250\n",
            "178/178 [==============================] - 17s 91ms/step - loss: 0.6044 - acc: 0.6796 - val_loss: 0.5362 - val_acc: 0.7362\n",
            "Epoch 108/250\n",
            "178/178 [==============================] - 17s 91ms/step - loss: 0.5945 - acc: 0.6810 - val_loss: 0.5397 - val_acc: 0.7320\n",
            "Epoch 109/250\n",
            "178/178 [==============================] - 17s 91ms/step - loss: 0.5927 - acc: 0.6881 - val_loss: 0.5439 - val_acc: 0.7278\n",
            "Epoch 110/250\n",
            "178/178 [==============================] - 17s 91ms/step - loss: 0.6074 - acc: 0.6637 - val_loss: 0.5436 - val_acc: 0.7235\n",
            "Epoch 111/250\n",
            "178/178 [==============================] - 17s 91ms/step - loss: 0.5980 - acc: 0.6793 - val_loss: 0.5384 - val_acc: 0.7373\n",
            "Epoch 112/250\n",
            "178/178 [==============================] - 17s 91ms/step - loss: 0.6074 - acc: 0.6754 - val_loss: 0.5437 - val_acc: 0.7299\n",
            "Epoch 113/250\n",
            "178/178 [==============================] - 17s 91ms/step - loss: 0.6002 - acc: 0.6803 - val_loss: 0.5398 - val_acc: 0.7320\n",
            "Epoch 114/250\n",
            "178/178 [==============================] - 17s 91ms/step - loss: 0.6042 - acc: 0.6722 - val_loss: 0.5380 - val_acc: 0.7341\n",
            "Epoch 115/250\n",
            "178/178 [==============================] - 12s 63ms/step - loss: 0.6076 - acc: 0.6750 - val_loss: 0.5380 - val_acc: 0.7352\n",
            "Epoch 116/250\n",
            "178/178 [==============================] - 17s 91ms/step - loss: 0.6135 - acc: 0.6701 - val_loss: 0.5429 - val_acc: 0.7214\n",
            "Epoch 117/250\n",
            "178/178 [==============================] - 17s 91ms/step - loss: 0.6017 - acc: 0.6817 - val_loss: 0.5387 - val_acc: 0.7341\n",
            "Epoch 118/250\n",
            "178/178 [==============================] - 17s 91ms/step - loss: 0.6124 - acc: 0.6701 - val_loss: 0.5391 - val_acc: 0.7288\n",
            "Epoch 119/250\n",
            "178/178 [==============================] - 17s 91ms/step - loss: 0.6035 - acc: 0.6736 - val_loss: 0.5366 - val_acc: 0.7320\n",
            "Epoch 120/250\n",
            "178/178 [==============================] - 16s 90ms/step - loss: 0.6049 - acc: 0.6800 - val_loss: 0.5383 - val_acc: 0.7299\n",
            "Epoch 121/250\n",
            "178/178 [==============================] - 17s 91ms/step - loss: 0.5974 - acc: 0.6764 - val_loss: 0.5413 - val_acc: 0.7320\n",
            "Epoch 122/250\n",
            "178/178 [==============================] - 17s 91ms/step - loss: 0.5949 - acc: 0.6891 - val_loss: 0.5396 - val_acc: 0.7267\n",
            "Epoch 123/250\n",
            "178/178 [==============================] - 17s 91ms/step - loss: 0.5961 - acc: 0.6782 - val_loss: 0.5365 - val_acc: 0.7299\n",
            "Epoch 124/250\n",
            "178/178 [==============================] - 17s 91ms/step - loss: 0.5914 - acc: 0.6856 - val_loss: 0.5420 - val_acc: 0.7256\n",
            "Epoch 125/250\n",
            "178/178 [==============================] - 17s 91ms/step - loss: 0.6022 - acc: 0.6729 - val_loss: 0.5385 - val_acc: 0.7299\n",
            "Epoch 126/250\n",
            "178/178 [==============================] - 18s 97ms/step - loss: 0.6017 - acc: 0.6757 - val_loss: 0.5330 - val_acc: 0.7362\n",
            "Epoch 127/250\n",
            "178/178 [==============================] - 17s 91ms/step - loss: 0.6043 - acc: 0.6789 - val_loss: 0.5596 - val_acc: 0.7161\n",
            "Epoch 128/250\n",
            "178/178 [==============================] - 17s 91ms/step - loss: 0.6022 - acc: 0.6747 - val_loss: 0.5409 - val_acc: 0.7278\n",
            "Epoch 129/250\n",
            "178/178 [==============================] - 17s 91ms/step - loss: 0.6054 - acc: 0.6828 - val_loss: 0.5387 - val_acc: 0.7256\n",
            "Epoch 130/250\n",
            "178/178 [==============================] - 17s 91ms/step - loss: 0.6014 - acc: 0.6740 - val_loss: 0.5510 - val_acc: 0.7203\n",
            "Epoch 131/250\n",
            "178/178 [==============================] - 17s 91ms/step - loss: 0.5920 - acc: 0.6853 - val_loss: 0.5459 - val_acc: 0.7256\n",
            "Epoch 132/250\n",
            "178/178 [==============================] - 17s 92ms/step - loss: 0.5953 - acc: 0.6849 - val_loss: 0.5523 - val_acc: 0.7256\n",
            "Epoch 133/250\n",
            "178/178 [==============================] - 17s 91ms/step - loss: 0.5887 - acc: 0.6969 - val_loss: 0.5399 - val_acc: 0.7267\n",
            "Epoch 134/250\n",
            "178/178 [==============================] - 17s 91ms/step - loss: 0.6046 - acc: 0.6814 - val_loss: 0.5327 - val_acc: 0.7362\n",
            "Epoch 135/250\n",
            "178/178 [==============================] - 17s 91ms/step - loss: 0.6026 - acc: 0.6775 - val_loss: 0.5471 - val_acc: 0.7225\n",
            "Epoch 136/250\n",
            "178/178 [==============================] - 17s 91ms/step - loss: 0.6054 - acc: 0.6761 - val_loss: 0.5480 - val_acc: 0.7278\n",
            "Epoch 137/250\n",
            "178/178 [==============================] - 17s 91ms/step - loss: 0.6045 - acc: 0.6718 - val_loss: 0.5399 - val_acc: 0.7278\n",
            "Epoch 138/250\n",
            "178/178 [==============================] - 17s 91ms/step - loss: 0.5942 - acc: 0.6898 - val_loss: 0.5549 - val_acc: 0.7182\n",
            "Epoch 139/250\n",
            "178/178 [==============================] - 17s 90ms/step - loss: 0.5986 - acc: 0.6860 - val_loss: 0.5385 - val_acc: 0.7299\n",
            "Epoch 140/250\n",
            "178/178 [==============================] - 17s 91ms/step - loss: 0.6018 - acc: 0.6796 - val_loss: 0.5487 - val_acc: 0.7235\n",
            "Epoch 141/250\n",
            "178/178 [==============================] - 17s 92ms/step - loss: 0.6023 - acc: 0.6782 - val_loss: 0.5473 - val_acc: 0.7246\n",
            "Epoch 142/250\n",
            "178/178 [==============================] - 17s 91ms/step - loss: 0.5925 - acc: 0.6891 - val_loss: 0.5473 - val_acc: 0.7214\n",
            "Epoch 143/250\n",
            "178/178 [==============================] - 17s 92ms/step - loss: 0.5949 - acc: 0.6764 - val_loss: 0.5455 - val_acc: 0.7235\n",
            "Epoch 144/250\n",
            "178/178 [==============================] - 17s 92ms/step - loss: 0.5990 - acc: 0.6835 - val_loss: 0.5486 - val_acc: 0.7182\n",
            "Epoch 145/250\n",
            "178/178 [==============================] - 17s 91ms/step - loss: 0.5946 - acc: 0.6793 - val_loss: 0.5433 - val_acc: 0.7278\n",
            "Epoch 146/250\n",
            "178/178 [==============================] - 17s 92ms/step - loss: 0.6039 - acc: 0.6722 - val_loss: 0.5419 - val_acc: 0.7320\n",
            "Epoch 147/250\n",
            "178/178 [==============================] - 17s 92ms/step - loss: 0.5933 - acc: 0.6807 - val_loss: 0.5542 - val_acc: 0.7193\n",
            "Epoch 148/250\n",
            "178/178 [==============================] - 17s 91ms/step - loss: 0.5950 - acc: 0.6838 - val_loss: 0.5478 - val_acc: 0.7161\n",
            "Epoch 149/250\n",
            "178/178 [==============================] - 17s 91ms/step - loss: 0.5977 - acc: 0.6789 - val_loss: 0.5457 - val_acc: 0.7225\n",
            "Epoch 150/250\n",
            "178/178 [==============================] - 17s 92ms/step - loss: 0.5967 - acc: 0.6676 - val_loss: 0.5433 - val_acc: 0.7256\n",
            "Epoch 151/250\n",
            "178/178 [==============================] - 17s 90ms/step - loss: 0.6061 - acc: 0.6736 - val_loss: 0.5423 - val_acc: 0.7267\n",
            "Epoch 152/250\n",
            "178/178 [==============================] - 17s 91ms/step - loss: 0.5947 - acc: 0.6835 - val_loss: 0.5690 - val_acc: 0.7044\n",
            "Epoch 153/250\n",
            "178/178 [==============================] - 17s 92ms/step - loss: 0.5949 - acc: 0.6905 - val_loss: 0.5565 - val_acc: 0.7182\n",
            "Epoch 154/250\n",
            "178/178 [==============================] - 17s 91ms/step - loss: 0.5977 - acc: 0.6782 - val_loss: 0.5567 - val_acc: 0.7203\n",
            "Epoch 155/250\n",
            "178/178 [==============================] - 17s 92ms/step - loss: 0.6020 - acc: 0.6754 - val_loss: 0.5454 - val_acc: 0.7203\n",
            "Epoch 156/250\n",
            "178/178 [==============================] - 17s 92ms/step - loss: 0.6001 - acc: 0.6785 - val_loss: 0.5450 - val_acc: 0.7182\n",
            "Epoch 157/250\n",
            "178/178 [==============================] - 17s 91ms/step - loss: 0.6124 - acc: 0.6549 - val_loss: 0.5633 - val_acc: 0.7108\n",
            "Epoch 158/250\n",
            "178/178 [==============================] - 17s 91ms/step - loss: 0.5924 - acc: 0.6807 - val_loss: 0.5533 - val_acc: 0.7203\n",
            "Epoch 159/250\n",
            "178/178 [==============================] - 17s 91ms/step - loss: 0.5992 - acc: 0.6835 - val_loss: 0.5401 - val_acc: 0.7278\n",
            "Epoch 160/250\n",
            "178/178 [==============================] - 16s 90ms/step - loss: 0.6013 - acc: 0.6835 - val_loss: 0.5469 - val_acc: 0.7214\n",
            "Epoch 161/250\n",
            "178/178 [==============================] - 17s 92ms/step - loss: 0.6057 - acc: 0.6838 - val_loss: 0.5352 - val_acc: 0.7256\n",
            "Epoch 162/250\n",
            "178/178 [==============================] - 17s 93ms/step - loss: 0.5929 - acc: 0.6912 - val_loss: 0.5349 - val_acc: 0.7320\n",
            "Epoch 163/250\n",
            "178/178 [==============================] - 17s 92ms/step - loss: 0.5917 - acc: 0.6863 - val_loss: 0.5438 - val_acc: 0.7214\n",
            "Epoch 164/250\n",
            "178/178 [==============================] - 17s 91ms/step - loss: 0.5894 - acc: 0.6845 - val_loss: 0.5533 - val_acc: 0.7203\n",
            "Epoch 165/250\n",
            "178/178 [==============================] - 17s 91ms/step - loss: 0.5961 - acc: 0.6831 - val_loss: 0.5696 - val_acc: 0.7087\n",
            "Epoch 166/250\n",
            "178/178 [==============================] - 17s 91ms/step - loss: 0.6030 - acc: 0.6701 - val_loss: 0.5694 - val_acc: 0.7076\n",
            "Epoch 167/250\n",
            "178/178 [==============================] - 17s 92ms/step - loss: 0.6017 - acc: 0.6740 - val_loss: 0.5594 - val_acc: 0.7119\n",
            "Epoch 168/250\n",
            "178/178 [==============================] - 17s 91ms/step - loss: 0.5959 - acc: 0.6828 - val_loss: 0.5365 - val_acc: 0.7309\n",
            "Epoch 169/250\n",
            "178/178 [==============================] - 17s 91ms/step - loss: 0.5981 - acc: 0.6793 - val_loss: 0.5569 - val_acc: 0.7172\n",
            "Epoch 170/250\n",
            "178/178 [==============================] - 17s 93ms/step - loss: 0.5899 - acc: 0.6877 - val_loss: 0.5445 - val_acc: 0.7172\n",
            "Epoch 171/250\n",
            "178/178 [==============================] - 17s 92ms/step - loss: 0.5873 - acc: 0.6877 - val_loss: 0.5819 - val_acc: 0.6949\n",
            "Epoch 172/250\n",
            "178/178 [==============================] - 17s 91ms/step - loss: 0.6020 - acc: 0.6800 - val_loss: 0.5636 - val_acc: 0.7087\n",
            "Epoch 173/250\n",
            "178/178 [==============================] - 17s 91ms/step - loss: 0.5888 - acc: 0.6863 - val_loss: 0.5601 - val_acc: 0.7119\n",
            "Epoch 174/250\n",
            "178/178 [==============================] - 17s 92ms/step - loss: 0.6041 - acc: 0.6831 - val_loss: 0.5478 - val_acc: 0.7246\n",
            "Epoch 175/250\n",
            "178/178 [==============================] - 16s 90ms/step - loss: 0.5938 - acc: 0.6853 - val_loss: 0.5481 - val_acc: 0.7256\n",
            "Epoch 176/250\n",
            "178/178 [==============================] - 17s 92ms/step - loss: 0.5995 - acc: 0.6909 - val_loss: 0.5740 - val_acc: 0.7002\n",
            "Epoch 177/250\n",
            "178/178 [==============================] - 17s 91ms/step - loss: 0.5932 - acc: 0.6905 - val_loss: 0.5381 - val_acc: 0.7320\n",
            "Epoch 178/250\n",
            "178/178 [==============================] - 17s 91ms/step - loss: 0.6168 - acc: 0.6687 - val_loss: 0.5577 - val_acc: 0.7203\n",
            "Epoch 179/250\n",
            "178/178 [==============================] - 17s 92ms/step - loss: 0.6015 - acc: 0.6789 - val_loss: 0.5493 - val_acc: 0.7246\n",
            "Epoch 180/250\n",
            "178/178 [==============================] - 17s 93ms/step - loss: 0.5973 - acc: 0.6856 - val_loss: 0.5482 - val_acc: 0.7214\n",
            "Epoch 181/250\n",
            "178/178 [==============================] - 16s 90ms/step - loss: 0.6000 - acc: 0.6845 - val_loss: 0.5353 - val_acc: 0.7320\n",
            "Epoch 182/250\n",
            "178/178 [==============================] - 17s 92ms/step - loss: 0.5895 - acc: 0.6944 - val_loss: 0.5387 - val_acc: 0.7246\n",
            "Epoch 183/250\n",
            "178/178 [==============================] - 17s 92ms/step - loss: 0.5956 - acc: 0.6849 - val_loss: 0.5631 - val_acc: 0.7097\n",
            "Epoch 184/250\n",
            "178/178 [==============================] - 17s 90ms/step - loss: 0.5964 - acc: 0.6877 - val_loss: 0.5440 - val_acc: 0.7172\n",
            "Epoch 185/250\n",
            "178/178 [==============================] - 17s 91ms/step - loss: 0.5938 - acc: 0.6969 - val_loss: 0.5432 - val_acc: 0.7214\n",
            "Epoch 186/250\n",
            "178/178 [==============================] - 17s 92ms/step - loss: 0.6091 - acc: 0.6683 - val_loss: 0.5510 - val_acc: 0.7225\n",
            "Epoch 187/250\n",
            "178/178 [==============================] - 17s 92ms/step - loss: 0.5955 - acc: 0.6782 - val_loss: 0.5504 - val_acc: 0.7246\n",
            "Epoch 188/250\n",
            "178/178 [==============================] - 17s 93ms/step - loss: 0.5976 - acc: 0.6771 - val_loss: 0.5511 - val_acc: 0.7225\n",
            "Epoch 189/250\n",
            "178/178 [==============================] - 17s 93ms/step - loss: 0.5956 - acc: 0.6761 - val_loss: 0.5398 - val_acc: 0.7267\n",
            "Epoch 190/250\n",
            "178/178 [==============================] - 17s 93ms/step - loss: 0.5832 - acc: 0.6955 - val_loss: 0.5378 - val_acc: 0.7267\n",
            "Epoch 191/250\n",
            "178/178 [==============================] - 17s 93ms/step - loss: 0.6060 - acc: 0.6764 - val_loss: 0.5502 - val_acc: 0.7193\n",
            "Epoch 192/250\n",
            "178/178 [==============================] - 17s 93ms/step - loss: 0.6005 - acc: 0.6725 - val_loss: 0.5473 - val_acc: 0.7203\n",
            "Epoch 193/250\n",
            "178/178 [==============================] - 17s 93ms/step - loss: 0.6056 - acc: 0.6768 - val_loss: 0.5412 - val_acc: 0.7193\n",
            "Epoch 194/250\n",
            "178/178 [==============================] - 17s 94ms/step - loss: 0.5911 - acc: 0.6845 - val_loss: 0.5511 - val_acc: 0.7246\n",
            "Epoch 195/250\n",
            "178/178 [==============================] - 17s 93ms/step - loss: 0.6017 - acc: 0.6750 - val_loss: 0.5400 - val_acc: 0.7203\n",
            "Epoch 196/250\n",
            "178/178 [==============================] - 17s 93ms/step - loss: 0.5989 - acc: 0.6740 - val_loss: 0.5510 - val_acc: 0.7182\n",
            "Epoch 197/250\n",
            "178/178 [==============================] - 17s 93ms/step - loss: 0.5891 - acc: 0.6842 - val_loss: 0.5727 - val_acc: 0.6992\n",
            "Epoch 198/250\n",
            "178/178 [==============================] - 17s 93ms/step - loss: 0.6017 - acc: 0.6796 - val_loss: 0.5348 - val_acc: 0.7288\n",
            "Epoch 199/250\n",
            "178/178 [==============================] - 17s 94ms/step - loss: 0.6018 - acc: 0.6778 - val_loss: 0.5497 - val_acc: 0.7246\n",
            "Epoch 200/250\n",
            "178/178 [==============================] - 17s 94ms/step - loss: 0.6110 - acc: 0.6757 - val_loss: 0.5516 - val_acc: 0.7203\n",
            "Epoch 201/250\n",
            "178/178 [==============================] - 12s 65ms/step - loss: 0.5871 - acc: 0.6835 - val_loss: 0.5544 - val_acc: 0.7172\n",
            "Epoch 202/250\n",
            "178/178 [==============================] - 17s 92ms/step - loss: 0.5873 - acc: 0.6905 - val_loss: 0.5614 - val_acc: 0.7076\n",
            "Epoch 203/250\n",
            "178/178 [==============================] - 17s 93ms/step - loss: 0.6028 - acc: 0.6853 - val_loss: 0.5547 - val_acc: 0.7172\n",
            "Epoch 204/250\n",
            "178/178 [==============================] - 17s 94ms/step - loss: 0.5959 - acc: 0.6821 - val_loss: 0.5361 - val_acc: 0.7267\n",
            "Epoch 205/250\n",
            "178/178 [==============================] - 17s 93ms/step - loss: 0.5992 - acc: 0.6680 - val_loss: 0.5386 - val_acc: 0.7256\n",
            "Epoch 206/250\n",
            "178/178 [==============================] - 17s 95ms/step - loss: 0.5988 - acc: 0.6810 - val_loss: 0.5437 - val_acc: 0.7256\n",
            "Epoch 207/250\n",
            "178/178 [==============================] - 12s 67ms/step - loss: 0.6046 - acc: 0.6782 - val_loss: 0.5408 - val_acc: 0.7246\n",
            "Epoch 208/250\n",
            "178/178 [==============================] - 17s 94ms/step - loss: 0.5863 - acc: 0.6958 - val_loss: 0.5347 - val_acc: 0.7331\n",
            "Epoch 209/250\n",
            "178/178 [==============================] - 18s 100ms/step - loss: 0.5903 - acc: 0.6905 - val_loss: 0.5479 - val_acc: 0.7203\n",
            "Epoch 210/250\n",
            "178/178 [==============================] - 17s 93ms/step - loss: 0.5899 - acc: 0.6937 - val_loss: 0.5593 - val_acc: 0.7034\n",
            "Epoch 211/250\n",
            "178/178 [==============================] - 17s 93ms/step - loss: 0.5998 - acc: 0.6800 - val_loss: 0.5643 - val_acc: 0.7044\n",
            "Epoch 212/250\n",
            "178/178 [==============================] - 17s 94ms/step - loss: 0.5939 - acc: 0.6867 - val_loss: 0.5547 - val_acc: 0.7129\n",
            "Epoch 213/250\n",
            "178/178 [==============================] - 17s 93ms/step - loss: 0.5894 - acc: 0.6891 - val_loss: 0.5615 - val_acc: 0.7097\n",
            "Epoch 214/250\n",
            "178/178 [==============================] - 17s 93ms/step - loss: 0.5982 - acc: 0.6775 - val_loss: 0.5516 - val_acc: 0.7150\n",
            "Epoch 215/250\n",
            "178/178 [==============================] - 17s 93ms/step - loss: 0.6045 - acc: 0.6708 - val_loss: 0.5437 - val_acc: 0.7246\n",
            "Epoch 216/250\n",
            "178/178 [==============================] - 17s 93ms/step - loss: 0.6051 - acc: 0.6821 - val_loss: 0.5730 - val_acc: 0.7023\n",
            "Epoch 217/250\n",
            "178/178 [==============================] - 17s 94ms/step - loss: 0.5880 - acc: 0.6895 - val_loss: 0.5578 - val_acc: 0.7150\n",
            "Epoch 218/250\n",
            "178/178 [==============================] - 17s 94ms/step - loss: 0.6029 - acc: 0.6775 - val_loss: 0.5612 - val_acc: 0.7172\n",
            "Epoch 219/250\n",
            "178/178 [==============================] - 17s 95ms/step - loss: 0.6062 - acc: 0.6761 - val_loss: 0.5424 - val_acc: 0.7299\n",
            "Epoch 220/250\n",
            "178/178 [==============================] - 17s 93ms/step - loss: 0.5988 - acc: 0.6807 - val_loss: 0.5449 - val_acc: 0.7203\n",
            "Epoch 221/250\n",
            "178/178 [==============================] - 17s 93ms/step - loss: 0.5914 - acc: 0.6930 - val_loss: 0.5377 - val_acc: 0.7278\n",
            "Epoch 222/250\n",
            "178/178 [==============================] - 17s 93ms/step - loss: 0.5983 - acc: 0.6701 - val_loss: 0.5567 - val_acc: 0.7119\n",
            "Epoch 223/250\n",
            "178/178 [==============================] - 17s 93ms/step - loss: 0.6106 - acc: 0.6701 - val_loss: 0.5415 - val_acc: 0.7288\n",
            "Epoch 224/250\n",
            "178/178 [==============================] - 17s 93ms/step - loss: 0.6042 - acc: 0.6680 - val_loss: 0.5401 - val_acc: 0.7309\n",
            "Epoch 225/250\n",
            "178/178 [==============================] - 17s 93ms/step - loss: 0.5963 - acc: 0.6814 - val_loss: 0.5465 - val_acc: 0.7214\n",
            "Epoch 226/250\n",
            "178/178 [==============================] - 17s 93ms/step - loss: 0.5934 - acc: 0.6718 - val_loss: 0.5558 - val_acc: 0.7076\n",
            "Epoch 227/250\n",
            "178/178 [==============================] - 17s 94ms/step - loss: 0.5818 - acc: 0.6888 - val_loss: 0.5621 - val_acc: 0.7161\n",
            "Epoch 228/250\n",
            "178/178 [==============================] - 17s 92ms/step - loss: 0.6023 - acc: 0.6853 - val_loss: 0.5424 - val_acc: 0.7256\n",
            "Epoch 229/250\n",
            "178/178 [==============================] - 17s 93ms/step - loss: 0.5958 - acc: 0.6725 - val_loss: 0.5421 - val_acc: 0.7256\n",
            "Epoch 230/250\n",
            "178/178 [==============================] - 17s 94ms/step - loss: 0.5969 - acc: 0.6796 - val_loss: 0.5482 - val_acc: 0.7225\n",
            "Epoch 231/250\n",
            "178/178 [==============================] - 17s 93ms/step - loss: 0.6106 - acc: 0.6768 - val_loss: 0.5574 - val_acc: 0.7119\n",
            "Epoch 232/250\n",
            "178/178 [==============================] - 17s 93ms/step - loss: 0.5974 - acc: 0.6831 - val_loss: 0.5616 - val_acc: 0.7087\n",
            "Epoch 233/250\n",
            "178/178 [==============================] - 17s 93ms/step - loss: 0.5944 - acc: 0.6895 - val_loss: 0.5488 - val_acc: 0.7193\n",
            "Epoch 234/250\n",
            "178/178 [==============================] - 17s 93ms/step - loss: 0.5950 - acc: 0.6757 - val_loss: 0.5628 - val_acc: 0.7087\n",
            "Epoch 235/250\n",
            "178/178 [==============================] - 17s 94ms/step - loss: 0.5875 - acc: 0.6860 - val_loss: 0.5499 - val_acc: 0.7193\n",
            "Epoch 236/250\n",
            "178/178 [==============================] - 17s 94ms/step - loss: 0.6101 - acc: 0.6722 - val_loss: 0.5591 - val_acc: 0.7097\n",
            "Epoch 237/250\n",
            "178/178 [==============================] - 17s 93ms/step - loss: 0.5991 - acc: 0.6828 - val_loss: 0.5445 - val_acc: 0.7235\n",
            "Epoch 238/250\n",
            "178/178 [==============================] - 17s 93ms/step - loss: 0.5884 - acc: 0.6951 - val_loss: 0.5643 - val_acc: 0.7076\n",
            "Epoch 239/250\n",
            "178/178 [==============================] - 17s 92ms/step - loss: 0.5975 - acc: 0.6778 - val_loss: 0.5646 - val_acc: 0.7034\n",
            "Epoch 240/250\n",
            "178/178 [==============================] - 17s 94ms/step - loss: 0.6011 - acc: 0.6821 - val_loss: 0.5420 - val_acc: 0.7246\n",
            "Epoch 241/250\n",
            "178/178 [==============================] - 17s 94ms/step - loss: 0.5986 - acc: 0.6888 - val_loss: 0.5586 - val_acc: 0.7129\n",
            "Epoch 242/250\n",
            "178/178 [==============================] - 17s 93ms/step - loss: 0.6015 - acc: 0.6898 - val_loss: 0.5395 - val_acc: 0.7299\n",
            "Epoch 243/250\n",
            "178/178 [==============================] - 17s 93ms/step - loss: 0.5985 - acc: 0.6828 - val_loss: 0.5422 - val_acc: 0.7203\n",
            "Epoch 244/250\n",
            "178/178 [==============================] - 17s 94ms/step - loss: 0.5988 - acc: 0.6874 - val_loss: 0.5646 - val_acc: 0.7066\n",
            "Epoch 245/250\n",
            "178/178 [==============================] - 17s 92ms/step - loss: 0.6034 - acc: 0.6627 - val_loss: 0.5599 - val_acc: 0.7097\n",
            "Epoch 246/250\n",
            "178/178 [==============================] - 17s 94ms/step - loss: 0.6087 - acc: 0.6701 - val_loss: 0.5423 - val_acc: 0.7246\n",
            "Epoch 247/250\n",
            "178/178 [==============================] - 17s 94ms/step - loss: 0.5935 - acc: 0.6888 - val_loss: 0.5497 - val_acc: 0.7203\n",
            "Epoch 248/250\n",
            "178/178 [==============================] - 17s 94ms/step - loss: 0.5890 - acc: 0.6863 - val_loss: 0.5526 - val_acc: 0.7203\n",
            "Epoch 249/250\n",
            "178/178 [==============================] - 13s 69ms/step - loss: 0.5876 - acc: 0.6920 - val_loss: 0.5563 - val_acc: 0.7161\n",
            "Epoch 250/250\n",
            "178/178 [==============================] - 17s 94ms/step - loss: 0.6022 - acc: 0.6775 - val_loss: 0.5557 - val_acc: 0.7150\n"
          ]
        }
      ]
    },
    {
      "cell_type": "code",
      "source": [
        "acc = history.history['acc']\n",
        "val_acc = history.history['val_acc']\n",
        "loss = history.history['loss']\n",
        "val_loss = history.history['val_loss']\n",
        "\n",
        "epochs_x = range(len(acc))\n",
        "\n",
        "plt.plot(epochs_x, acc, 'go', label='Training acc')\n",
        "plt.plot(epochs_x, val_acc, 'k', label='Validation acc')\n",
        "plt.title('Training and validation accuracy')\n",
        "plt.legend()\n",
        "\n",
        "plt.figure()\n",
        "\n",
        "plt.plot(epochs_x, loss, 'go', label='Training loss')\n",
        "plt.plot(epochs_x, val_loss, 'k', label='Validation loss')\n",
        "plt.title('Training and validation loss')\n",
        "plt.legend()\n",
        "\n",
        "plt.show()"
      ],
      "metadata": {
        "id": "kwylTJpTP5XI",
        "colab": {
          "base_uri": "https://localhost:8080/",
          "height": 545
        },
        "outputId": "e0694c47-43b6-4658-f858-def97e5ce4c8"
      },
      "execution_count": 13,
      "outputs": [
        {
          "output_type": "display_data",
          "data": {
            "text/plain": [
              "<Figure size 432x288 with 1 Axes>"
            ],
            "image/png": "[encoded data removed]"
          },
          "metadata": {
            "needs_background": "light"
          }
        },
        {
          "output_type": "display_data",
          "data": {
            "text/plain": [
              "<Figure size 432x288 with 1 Axes>"
            ],
            "image/png": "[encoded data removed]"
          },
          "metadata": {
            "needs_background": "light"
          }
        }
      ]
    },
    {
      "cell_type": "markdown",
      "source": [
        "#Download the model"
      ],
      "metadata": {
        "id": "lD-vKaoHQAFd"
      }
    },
    {
      "cell_type": "code",
      "source": [
        "os.makedirs('/content/drive/My Drive/cut_panoramic/Model', exist_ok=True)\n",
        "model.save('/content/drive/My Drive/cut_panoramic/Model/Classification/Gender/G2_Train_Freeze.h5')"
      ],
      "metadata": {
        "id": "74dL7-HLP_Sh"
      },
      "execution_count": 14,
      "outputs": []
    },
    {
      "cell_type": "code",
      "source": [
        "# from google.colab import files\n",
        "# files.download('/content/drive/My Drive/cut_panoramic/Model/2_รอบที่2_Gender_250.h5')"
      ],
      "metadata": {
        "id": "qcPW-brHQDpc"
      },
      "execution_count": 15,
      "outputs": []
    },
    {
      "cell_type": "code",
      "source": [],
      "metadata": {
        "id": "r5WoXVo8mVpF"
      },
      "execution_count": 15,
      "outputs": []
    }
  ]
}