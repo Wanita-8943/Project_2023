{
  "nbformat": 4,
  "nbformat_minor": 0,
  "metadata": {
    "colab": {
      "provenance": [],
      "include_colab_link": true
    },
    "kernelspec": {
      "name": "python3",
      "display_name": "Python 3"
    },
    "language_info": {
      "name": "python"
    },
    "accelerator": "GPU",
    "gpuClass": "standard"
  },
  "cells": [
    {
      "cell_type": "markdown",
      "metadata": {
        "id": "view-in-github",
        "colab_type": "text"
      },
      "source": [
        "<a href=\"https://colab.research.google.com/github/Wanita-8943/Project_2023/blob/main/G2_Train_Freeze.ipynb\" target=\"_parent\"><img src=\"https://colab.research.google.com/assets/colab-badge.svg\" alt=\"Open In Colab\"/></a>"
      ]
    },
    {
      "cell_type": "code",
      "execution_count": 1,
      "metadata": {
        "id": "KKSs7cyoPHcD"
      },
      "outputs": [],
      "source": [
        "import pandas as pd\n",
        "import shutil"
      ]
    },
    {
      "cell_type": "code",
      "source": [
        "from google.colab import drive\n",
        "drive.mount('/content/drive')"
      ],
      "metadata": {
        "colab": {
          "base_uri": "https://localhost:8080/"
        },
        "id": "Klm1B91QlvKd",
        "outputId": "81eaa43e-a6ca-46ef-e0ac-a359565e32fa"
      },
      "execution_count": 2,
      "outputs": [
        {
          "output_type": "stream",
          "name": "stdout",
          "text": [
            "Mounted at /content/drive\n"
          ]
        }
      ]
    },
    {
      "cell_type": "code",
      "source": [
        "from tensorflow.keras import models\n",
        "from tensorflow.keras import layers\n",
        "from tensorflow.keras import optimizers\n",
        "import os\n",
        "import glob\n",
        "import shutil\n",
        "import sys\n",
        "import numpy as np\n",
        "from skimage.io import imread\n",
        "import matplotlib.pyplot as plt\n",
        "from IPython.display import Image\n",
        "%matplotlib inline"
      ],
      "metadata": {
        "id": "1pX9g1HxPM2f"
      },
      "execution_count": 3,
      "outputs": []
    },
    {
      "cell_type": "code",
      "source": [
        "batch_size = 16\n",
        "width = 150\n",
        "height = 150\n",
        "epochs = 250\n",
        "NUM_TRAIN = 2850\n",
        "NUM_TEST = 950\n",
        "dropout_rate = 0.2\n",
        "input_shape = (height, width, 3)"
      ],
      "metadata": {
        "id": "eSFtvGyvPM6O"
      },
      "execution_count": 4,
      "outputs": []
    },
    {
      "cell_type": "code",
      "source": [
        "#ดึงข้อมูลใน Github มาใช้\n",
        "import os\n",
        "%cd /content\n",
        "if not os.path.isdir(\"efficientnet_keras_transfer_learning\"):\n",
        " !git clone https://github.com/Wanita-8943/efficientnet_keras_transfer_learning\n",
        "%cd efficientnet_keras_transfer_learning/"
      ],
      "metadata": {
        "colab": {
          "base_uri": "https://localhost:8080/"
        },
        "id": "lb4K4CsMPNAW",
        "outputId": "6fd29ed1-f0f4-4dca-bf2f-4a20a06ce96c"
      },
      "execution_count": 5,
      "outputs": [
        {
          "output_type": "stream",
          "name": "stdout",
          "text": [
            "/content\n",
            "Cloning into 'efficientnet_keras_transfer_learning'...\n",
            "remote: Enumerating objects: 837, done.\u001b[K\n",
            "remote: Total 837 (delta 0), reused 0 (delta 0), pack-reused 837\u001b[K\n",
            "Receiving objects: 100% (837/837), 13.85 MiB | 2.88 MiB/s, done.\n",
            "Resolving deltas: 100% (497/497), done.\n",
            "/content/efficientnet_keras_transfer_learning\n"
          ]
        }
      ]
    },
    {
      "cell_type": "code",
      "source": [
        "# Options: EfficientNetB0, EfficientNetB1, EfficientNetB2, EfficientNetB3\n",
        "# Higher the number, the more complex the model is.\n",
        "from efficientnet import EfficientNetB0 as Net\n",
        "from efficientnet import center_crop_and_resize, preprocess_input"
      ],
      "metadata": {
        "id": "eyBg0dLKPND3"
      },
      "execution_count": 6,
      "outputs": []
    },
    {
      "cell_type": "code",
      "source": [
        "base_dir = '/content/drive/MyDrive/TVT_Gender'\n",
        "os.makedirs(base_dir, exist_ok=True)\n",
        "\n",
        "# Directories for our training,\n",
        "# validation and test splits\n",
        "train_dir = os.path.join(base_dir, 'train')\n",
        "os.makedirs(train_dir, exist_ok=True)\n",
        "validation_dir = os.path.join(base_dir, 'validation')\n",
        "os.makedirs(validation_dir, exist_ok=True)\n",
        "test_dir = os.path.join(base_dir, 'test')\n",
        "os.makedirs(test_dir, exist_ok=True)"
      ],
      "metadata": {
        "id": "Jwpq_-KvPef8"
      },
      "execution_count": 7,
      "outputs": []
    },
    {
      "cell_type": "markdown",
      "source": [
        "#load model"
      ],
      "metadata": {
        "id": "od-ZSNm5PoGy"
      }
    },
    {
      "cell_type": "code",
      "source": [
        "import sys\n",
        "sys.path.append('/content/drive/MyDrive/cut_panoramic/Model/Classification/Gender/1_รอบแรก_Gender_250.h5')\n",
        "\n",
        "from efficientnet.layers import Swish, DropConnect\n",
        "from efficientnet.model import ConvKernalInitializer\n",
        "from tensorflow.keras.utils import get_custom_objects\n",
        "\n",
        "get_custom_objects().update({\n",
        "    'ConvKernalInitializer': ConvKernalInitializer,\n",
        "    'Swish': Swish,\n",
        "    'DropConnect':DropConnect\n",
        "})"
      ],
      "metadata": {
        "id": "n5iPL5MNPkhE"
      },
      "execution_count": 8,
      "outputs": []
    },
    {
      "cell_type": "code",
      "source": [
        "#load model \n",
        "from tensorflow.keras.models import load_model\n",
        "model = load_model('/content/drive/MyDrive/cut_panoramic/Model/Classification/Gender/1_รอบแรก_Gender_250.h5')\n",
        "height = width = model.input_shape[1]"
      ],
      "metadata": {
        "id": "plYz49xMPkly",
        "colab": {
          "base_uri": "https://localhost:8080/"
        },
        "outputId": "1edb537c-6cbb-4f12-b0e3-d8d48e77e852"
      },
      "execution_count": 9,
      "outputs": [
        {
          "output_type": "stream",
          "name": "stderr",
          "text": [
            "WARNING:tensorflow:From /usr/local/lib/python3.8/dist-packages/tensorflow/python/autograph/pyct/static_analysis/liveness.py:83: Analyzer.lamba_check (from tensorflow.python.autograph.pyct.static_analysis.liveness) is deprecated and will be removed after 2023-09-23.\n",
            "Instructions for updating:\n",
            "Lambda fuctions will be no more assumed to be used in the statement where they are used, or at least in the same block. https://github.com/tensorflow/tensorflow/issues/56089\n"
          ]
        }
      ]
    },
    {
      "cell_type": "code",
      "source": [
        "model.summary()"
      ],
      "metadata": {
        "colab": {
          "base_uri": "https://localhost:8080/"
        },
        "id": "z6IOPBflFbvc",
        "outputId": "af10fd66-3a3a-417c-97b3-3e241ebc6fd2"
      },
      "execution_count": 10,
      "outputs": [
        {
          "output_type": "stream",
          "name": "stdout",
          "text": [
            "Model: \"sequential\"\n",
            "_________________________________________________________________\n",
            " Layer (type)                Output Shape              Param #   \n",
            "=================================================================\n",
            " efficientnet-b0 (Functional  (None, 5, 5, 1280)       4049564   \n",
            " )                                                               \n",
            "                                                                 \n",
            " gap (GlobalMaxPooling2D)    (None, 1280)              0         \n",
            "                                                                 \n",
            " dropout_out (Dropout)       (None, 1280)              0         \n",
            "                                                                 \n",
            " fc_out (Dense)              (None, 2)                 2562      \n",
            "                                                                 \n",
            "=================================================================\n",
            "Total params: 4,052,126\n",
            "Trainable params: 2,562\n",
            "Non-trainable params: 4,049,564\n",
            "_________________________________________________________________\n"
          ]
        }
      ]
    },
    {
      "cell_type": "code",
      "source": [
        "# Train ด้วย ImageDataGenerator ของ Keras ซึ่งจะเพิ่มข้อมูลเสริมระหว่างการฝึกเพื่อลดโอกาสเกิด overfitting\n",
        "#overfitting เกิดจากข้อมูลที่ซับซ้อนกันเกินไป\n",
        "from tensorflow.keras.preprocessing.image import ImageDataGenerator\n",
        "\n",
        "train_datagen = ImageDataGenerator(\n",
        "      rescale=1./255, #โมเดลส่วนใหญ่ต้องใช้ RGB ในช่วง 0–1\n",
        "      rotation_range=40,\n",
        "      width_shift_range=0.2,\n",
        "      height_shift_range=0.2,\n",
        "      shear_range=0.2,\n",
        "      zoom_range=0.2,\n",
        "      horizontal_flip=True,\n",
        "      fill_mode='nearest')\n",
        "\n",
        "# Note that the validation data should not be augmented!\n",
        "test_datagen = ImageDataGenerator(rescale=1./255)\n",
        "\n",
        "train_generator = train_datagen.flow_from_directory(\n",
        "        # This is the target directory #ไดเรกเป้าหมาย\n",
        "        train_dir,\n",
        "        # รูปภาพทั้งหมดจะถูกปรับขนาดตามความสูงและความกว้างของเป้าหมาย\n",
        "        target_size=(height, width),\n",
        "        batch_size=batch_size,\n",
        "        # Since we use categorical_crossentropy loss, we need categorical labels\n",
        "        #เนื่องจากเราใช้ categorical_crossentropy loss เราจึงต้องมีป้ายกำกับตามหมวดหมู่\n",
        "        class_mode='categorical')\n",
        "\n",
        "validation_generator = test_datagen.flow_from_directory( #การดึงภาพจาก Directory มาเข้าโมเดล \n",
        "        validation_dir,\n",
        "        target_size=(height, width),\n",
        "        batch_size=batch_size,\n",
        "        class_mode='categorical')"
      ],
      "metadata": {
        "colab": {
          "base_uri": "https://localhost:8080/"
        },
        "id": "KBMZbdr2Pgw4",
        "outputId": "6bb5d4ea-1eb2-4dd8-fe6b-688814d2e2cd"
      },
      "execution_count": 11,
      "outputs": [
        {
          "output_type": "stream",
          "name": "stdout",
          "text": [
            "Found 2850 images belonging to 2 classes.\n",
            "Found 950 images belonging to 2 classes.\n"
          ]
        }
      ]
    },
    {
      "cell_type": "code",
      "source": [
        "history = model.fit_generator(\n",
        "      train_generator,\n",
        "      steps_per_epoch= NUM_TRAIN //batch_size,\n",
        "      epochs=epochs,\n",
        "      validation_data=validation_generator,\n",
        "      validation_steps= NUM_TEST //batch_size,\n",
        "      verbose=1,\n",
        "      use_multiprocessing=True,\n",
        "      workers=4)"
      ],
      "metadata": {
        "colab": {
          "base_uri": "https://localhost:8080/"
        },
        "id": "C9Cf1dwyP1PD",
        "outputId": "d255f79f-d908-4b9d-b0c2-1e55553345b5"
      },
      "execution_count": 12,
      "outputs": [
        {
          "output_type": "stream",
          "name": "stderr",
          "text": [
            "<ipython-input-12-caa7b37242a8>:1: UserWarning: `Model.fit_generator` is deprecated and will be removed in a future version. Please use `Model.fit`, which supports generators.\n",
            "  history = model.fit_generator(\n"
          ]
        },
        {
          "output_type": "stream",
          "name": "stdout",
          "text": [
            "Epoch 1/250\n",
            "178/178 [==============================] - 322s 2s/step - loss: 0.6124 - acc: 0.6651 - val_loss: 0.5765 - val_acc: 0.7034\n",
            "Epoch 2/250\n",
            "178/178 [==============================] - 45s 247ms/step - loss: 0.6130 - acc: 0.6613 - val_loss: 0.5577 - val_acc: 0.7203\n",
            "Epoch 3/250\n",
            "178/178 [==============================] - 46s 255ms/step - loss: 0.6046 - acc: 0.6764 - val_loss: 0.5729 - val_acc: 0.7013\n",
            "Epoch 4/250\n",
            "178/178 [==============================] - 46s 256ms/step - loss: 0.6184 - acc: 0.6655 - val_loss: 0.5657 - val_acc: 0.7055\n",
            "Epoch 5/250\n",
            "178/178 [==============================] - 46s 251ms/step - loss: 0.6158 - acc: 0.6687 - val_loss: 0.5487 - val_acc: 0.7278\n",
            "Epoch 6/250\n",
            "178/178 [==============================] - 44s 246ms/step - loss: 0.6135 - acc: 0.6648 - val_loss: 0.5547 - val_acc: 0.7225\n",
            "Epoch 7/250\n",
            "178/178 [==============================] - 46s 258ms/step - loss: 0.6192 - acc: 0.6662 - val_loss: 0.5478 - val_acc: 0.7267\n",
            "Epoch 8/250\n",
            "178/178 [==============================] - 46s 257ms/step - loss: 0.6159 - acc: 0.6627 - val_loss: 0.5731 - val_acc: 0.7034\n",
            "Epoch 9/250\n",
            "178/178 [==============================] - 46s 254ms/step - loss: 0.6251 - acc: 0.6609 - val_loss: 0.5405 - val_acc: 0.7415\n",
            "Epoch 10/250\n",
            "178/178 [==============================] - 45s 244ms/step - loss: 0.6079 - acc: 0.6690 - val_loss: 0.5459 - val_acc: 0.7278\n",
            "Epoch 11/250\n",
            "178/178 [==============================] - 42s 232ms/step - loss: 0.6060 - acc: 0.6821 - val_loss: 0.5479 - val_acc: 0.7246\n",
            "Epoch 12/250\n",
            "178/178 [==============================] - 46s 256ms/step - loss: 0.6208 - acc: 0.6609 - val_loss: 0.5537 - val_acc: 0.7182\n",
            "Epoch 13/250\n",
            "178/178 [==============================] - 46s 255ms/step - loss: 0.6111 - acc: 0.6828 - val_loss: 0.5396 - val_acc: 0.7426\n",
            "Epoch 14/250\n",
            "178/178 [==============================] - 46s 253ms/step - loss: 0.6205 - acc: 0.6694 - val_loss: 0.5434 - val_acc: 0.7299\n",
            "Epoch 15/250\n",
            "178/178 [==============================] - 45s 245ms/step - loss: 0.6126 - acc: 0.6750 - val_loss: 0.5506 - val_acc: 0.7235\n",
            "Epoch 16/250\n",
            "178/178 [==============================] - 46s 255ms/step - loss: 0.6151 - acc: 0.6708 - val_loss: 0.5463 - val_acc: 0.7288\n",
            "Epoch 17/250\n",
            "178/178 [==============================] - 46s 256ms/step - loss: 0.6071 - acc: 0.6722 - val_loss: 0.5401 - val_acc: 0.7405\n",
            "Epoch 18/250\n",
            "178/178 [==============================] - 47s 261ms/step - loss: 0.5978 - acc: 0.6849 - val_loss: 0.5445 - val_acc: 0.7331\n",
            "Epoch 19/250\n",
            "178/178 [==============================] - 46s 256ms/step - loss: 0.6161 - acc: 0.6775 - val_loss: 0.5530 - val_acc: 0.7214\n",
            "Epoch 20/250\n",
            "178/178 [==============================] - 46s 254ms/step - loss: 0.6057 - acc: 0.6676 - val_loss: 0.5423 - val_acc: 0.7362\n",
            "Epoch 21/250\n",
            "178/178 [==============================] - 46s 255ms/step - loss: 0.6095 - acc: 0.6676 - val_loss: 0.5485 - val_acc: 0.7256\n",
            "Epoch 22/250\n",
            "178/178 [==============================] - 46s 253ms/step - loss: 0.6168 - acc: 0.6683 - val_loss: 0.5438 - val_acc: 0.7341\n",
            "Epoch 23/250\n",
            "178/178 [==============================] - 44s 246ms/step - loss: 0.6015 - acc: 0.6814 - val_loss: 0.5363 - val_acc: 0.7436\n",
            "Epoch 24/250\n",
            "178/178 [==============================] - 46s 257ms/step - loss: 0.6184 - acc: 0.6609 - val_loss: 0.5520 - val_acc: 0.7235\n",
            "Epoch 25/250\n",
            "178/178 [==============================] - 46s 256ms/step - loss: 0.6062 - acc: 0.6782 - val_loss: 0.5393 - val_acc: 0.7458\n",
            "Epoch 26/250\n",
            "178/178 [==============================] - 46s 255ms/step - loss: 0.6034 - acc: 0.6796 - val_loss: 0.5607 - val_acc: 0.7172\n",
            "Epoch 27/250\n",
            "178/178 [==============================] - 46s 253ms/step - loss: 0.6228 - acc: 0.6722 - val_loss: 0.5509 - val_acc: 0.7235\n",
            "Epoch 28/250\n",
            "178/178 [==============================] - 44s 243ms/step - loss: 0.6093 - acc: 0.6623 - val_loss: 0.5396 - val_acc: 0.7394\n",
            "Epoch 29/250\n",
            "178/178 [==============================] - 46s 256ms/step - loss: 0.6191 - acc: 0.6630 - val_loss: 0.5560 - val_acc: 0.7182\n",
            "Epoch 30/250\n",
            "178/178 [==============================] - 46s 255ms/step - loss: 0.6164 - acc: 0.6641 - val_loss: 0.5668 - val_acc: 0.7108\n",
            "Epoch 31/250\n",
            "178/178 [==============================] - 46s 253ms/step - loss: 0.6176 - acc: 0.6641 - val_loss: 0.5533 - val_acc: 0.7182\n",
            "Epoch 32/250\n",
            "178/178 [==============================] - 45s 246ms/step - loss: 0.6015 - acc: 0.6665 - val_loss: 0.5518 - val_acc: 0.7182\n",
            "Epoch 33/250\n",
            "178/178 [==============================] - 46s 254ms/step - loss: 0.6063 - acc: 0.6733 - val_loss: 0.5406 - val_acc: 0.7341\n",
            "Epoch 34/250\n",
            "178/178 [==============================] - 46s 254ms/step - loss: 0.6192 - acc: 0.6609 - val_loss: 0.5434 - val_acc: 0.7320\n",
            "Epoch 35/250\n",
            "178/178 [==============================] - 45s 250ms/step - loss: 0.5975 - acc: 0.6860 - val_loss: 0.5421 - val_acc: 0.7352\n",
            "Epoch 36/250\n",
            "178/178 [==============================] - 45s 250ms/step - loss: 0.6082 - acc: 0.6761 - val_loss: 0.5588 - val_acc: 0.7161\n",
            "Epoch 37/250\n",
            "178/178 [==============================] - 43s 239ms/step - loss: 0.6132 - acc: 0.6648 - val_loss: 0.5380 - val_acc: 0.7383\n",
            "Epoch 38/250\n",
            "178/178 [==============================] - 45s 247ms/step - loss: 0.6098 - acc: 0.6680 - val_loss: 0.5574 - val_acc: 0.7203\n",
            "Epoch 39/250\n",
            "178/178 [==============================] - 45s 251ms/step - loss: 0.6100 - acc: 0.6620 - val_loss: 0.5584 - val_acc: 0.7161\n",
            "Epoch 40/250\n",
            "178/178 [==============================] - 46s 253ms/step - loss: 0.6045 - acc: 0.6718 - val_loss: 0.5472 - val_acc: 0.7246\n",
            "Epoch 41/250\n",
            "178/178 [==============================] - 46s 254ms/step - loss: 0.6135 - acc: 0.6718 - val_loss: 0.5479 - val_acc: 0.7267\n",
            "Epoch 42/250\n",
            "178/178 [==============================] - 44s 240ms/step - loss: 0.6171 - acc: 0.6609 - val_loss: 0.5393 - val_acc: 0.7299\n",
            "Epoch 43/250\n",
            "178/178 [==============================] - 45s 252ms/step - loss: 0.6089 - acc: 0.6725 - val_loss: 0.5550 - val_acc: 0.7182\n",
            "Epoch 44/250\n",
            "178/178 [==============================] - 45s 251ms/step - loss: 0.5932 - acc: 0.6831 - val_loss: 0.5475 - val_acc: 0.7256\n",
            "Epoch 45/250\n",
            "178/178 [==============================] - 45s 250ms/step - loss: 0.6165 - acc: 0.6609 - val_loss: 0.5481 - val_acc: 0.7299\n",
            "Epoch 46/250\n",
            "178/178 [==============================] - 45s 251ms/step - loss: 0.6239 - acc: 0.6542 - val_loss: 0.5480 - val_acc: 0.7288\n",
            "Epoch 47/250\n",
            "178/178 [==============================] - 44s 240ms/step - loss: 0.6151 - acc: 0.6729 - val_loss: 0.5631 - val_acc: 0.7129\n",
            "Epoch 48/250\n",
            "178/178 [==============================] - 45s 250ms/step - loss: 0.5983 - acc: 0.6807 - val_loss: 0.5374 - val_acc: 0.7394\n",
            "Epoch 49/250\n",
            "178/178 [==============================] - 45s 252ms/step - loss: 0.6053 - acc: 0.6814 - val_loss: 0.5557 - val_acc: 0.7182\n",
            "Epoch 50/250\n",
            "178/178 [==============================] - 45s 251ms/step - loss: 0.6071 - acc: 0.6771 - val_loss: 0.5404 - val_acc: 0.7405\n",
            "Epoch 51/250\n",
            "178/178 [==============================] - 45s 247ms/step - loss: 0.6099 - acc: 0.6775 - val_loss: 0.5364 - val_acc: 0.7362\n",
            "Epoch 52/250\n",
            "178/178 [==============================] - 44s 242ms/step - loss: 0.6178 - acc: 0.6711 - val_loss: 0.5704 - val_acc: 0.7076\n",
            "Epoch 53/250\n",
            "178/178 [==============================] - 45s 251ms/step - loss: 0.6109 - acc: 0.6535 - val_loss: 0.5585 - val_acc: 0.7161\n",
            "Epoch 54/250\n",
            "178/178 [==============================] - 46s 252ms/step - loss: 0.5944 - acc: 0.6856 - val_loss: 0.5629 - val_acc: 0.7161\n",
            "Epoch 55/250\n",
            "178/178 [==============================] - 45s 252ms/step - loss: 0.6103 - acc: 0.6620 - val_loss: 0.5555 - val_acc: 0.7203\n",
            "Epoch 56/250\n",
            "178/178 [==============================] - 44s 240ms/step - loss: 0.6188 - acc: 0.6644 - val_loss: 0.5407 - val_acc: 0.7352\n",
            "Epoch 57/250\n",
            "178/178 [==============================] - 45s 250ms/step - loss: 0.5905 - acc: 0.6856 - val_loss: 0.5324 - val_acc: 0.7373\n",
            "Epoch 58/250\n",
            "178/178 [==============================] - 45s 249ms/step - loss: 0.6027 - acc: 0.6778 - val_loss: 0.5526 - val_acc: 0.7246\n",
            "Epoch 59/250\n",
            "178/178 [==============================] - 45s 252ms/step - loss: 0.6059 - acc: 0.6725 - val_loss: 0.5530 - val_acc: 0.7246\n",
            "Epoch 60/250\n",
            "178/178 [==============================] - 45s 244ms/step - loss: 0.6054 - acc: 0.6807 - val_loss: 0.5470 - val_acc: 0.7225\n",
            "Epoch 61/250\n",
            "178/178 [==============================] - 44s 239ms/step - loss: 0.6013 - acc: 0.6863 - val_loss: 0.5440 - val_acc: 0.7299\n",
            "Epoch 62/250\n",
            "178/178 [==============================] - 45s 251ms/step - loss: 0.6154 - acc: 0.6747 - val_loss: 0.5468 - val_acc: 0.7267\n",
            "Epoch 63/250\n",
            "178/178 [==============================] - 45s 248ms/step - loss: 0.6009 - acc: 0.6860 - val_loss: 0.5364 - val_acc: 0.7362\n",
            "Epoch 64/250\n",
            "178/178 [==============================] - 45s 249ms/step - loss: 0.6137 - acc: 0.6588 - val_loss: 0.5576 - val_acc: 0.7214\n",
            "Epoch 65/250\n",
            "178/178 [==============================] - 45s 245ms/step - loss: 0.5900 - acc: 0.6941 - val_loss: 0.5408 - val_acc: 0.7383\n",
            "Epoch 66/250\n",
            "178/178 [==============================] - 43s 239ms/step - loss: 0.6017 - acc: 0.6810 - val_loss: 0.5478 - val_acc: 0.7256\n",
            "Epoch 67/250\n",
            "178/178 [==============================] - 45s 250ms/step - loss: 0.6125 - acc: 0.6616 - val_loss: 0.5589 - val_acc: 0.7150\n",
            "Epoch 68/250\n",
            "178/178 [==============================] - 45s 252ms/step - loss: 0.6137 - acc: 0.6704 - val_loss: 0.5649 - val_acc: 0.7172\n",
            "Epoch 69/250\n",
            "178/178 [==============================] - 45s 250ms/step - loss: 0.6041 - acc: 0.6694 - val_loss: 0.5567 - val_acc: 0.7172\n",
            "Epoch 70/250\n",
            "178/178 [==============================] - 45s 248ms/step - loss: 0.6155 - acc: 0.6683 - val_loss: 0.5602 - val_acc: 0.7172\n",
            "Epoch 71/250\n",
            "178/178 [==============================] - 43s 238ms/step - loss: 0.5889 - acc: 0.6764 - val_loss: 0.5513 - val_acc: 0.7203\n",
            "Epoch 72/250\n",
            "178/178 [==============================] - 44s 244ms/step - loss: 0.6099 - acc: 0.6641 - val_loss: 0.5480 - val_acc: 0.7267\n",
            "Epoch 73/250\n",
            "178/178 [==============================] - 45s 249ms/step - loss: 0.6032 - acc: 0.6810 - val_loss: 0.5396 - val_acc: 0.7362\n",
            "Epoch 74/250\n",
            "178/178 [==============================] - 46s 253ms/step - loss: 0.6103 - acc: 0.6711 - val_loss: 0.5778 - val_acc: 0.7034\n",
            "Epoch 75/250\n",
            "178/178 [==============================] - 44s 243ms/step - loss: 0.6105 - acc: 0.6641 - val_loss: 0.5559 - val_acc: 0.7193\n",
            "Epoch 76/250\n",
            "178/178 [==============================] - 43s 236ms/step - loss: 0.6157 - acc: 0.6602 - val_loss: 0.5642 - val_acc: 0.7140\n",
            "Epoch 77/250\n",
            "178/178 [==============================] - 44s 242ms/step - loss: 0.5991 - acc: 0.6785 - val_loss: 0.5585 - val_acc: 0.7193\n",
            "Epoch 78/250\n",
            "178/178 [==============================] - 45s 247ms/step - loss: 0.6096 - acc: 0.6676 - val_loss: 0.5673 - val_acc: 0.7076\n",
            "Epoch 79/250\n",
            "178/178 [==============================] - 45s 247ms/step - loss: 0.5959 - acc: 0.6747 - val_loss: 0.5529 - val_acc: 0.7193\n",
            "Epoch 80/250\n",
            "178/178 [==============================] - 44s 245ms/step - loss: 0.5989 - acc: 0.6761 - val_loss: 0.5686 - val_acc: 0.7140\n",
            "Epoch 81/250\n",
            "178/178 [==============================] - 42s 235ms/step - loss: 0.6193 - acc: 0.6634 - val_loss: 0.5462 - val_acc: 0.7267\n",
            "Epoch 82/250\n",
            "178/178 [==============================] - 43s 240ms/step - loss: 0.6133 - acc: 0.6697 - val_loss: 0.5457 - val_acc: 0.7246\n",
            "Epoch 83/250\n",
            "178/178 [==============================] - 45s 248ms/step - loss: 0.5973 - acc: 0.6812 - val_loss: 0.5707 - val_acc: 0.7066\n",
            "Epoch 84/250\n",
            "178/178 [==============================] - 44s 245ms/step - loss: 0.5907 - acc: 0.6898 - val_loss: 0.5419 - val_acc: 0.7352\n",
            "Epoch 85/250\n",
            "178/178 [==============================] - 43s 237ms/step - loss: 0.6101 - acc: 0.6598 - val_loss: 0.5615 - val_acc: 0.7140\n",
            "Epoch 86/250\n",
            "178/178 [==============================] - 42s 236ms/step - loss: 0.6022 - acc: 0.6725 - val_loss: 0.5451 - val_acc: 0.7246\n",
            "Epoch 87/250\n",
            "178/178 [==============================] - 45s 252ms/step - loss: 0.6029 - acc: 0.6761 - val_loss: 0.5581 - val_acc: 0.7203\n",
            "Epoch 88/250\n",
            "178/178 [==============================] - 45s 251ms/step - loss: 0.6005 - acc: 0.6711 - val_loss: 0.5477 - val_acc: 0.7235\n",
            "Epoch 89/250\n",
            "178/178 [==============================] - 44s 244ms/step - loss: 0.6011 - acc: 0.6849 - val_loss: 0.5707 - val_acc: 0.7044\n",
            "Epoch 90/250\n",
            "178/178 [==============================] - 43s 236ms/step - loss: 0.5935 - acc: 0.6817 - val_loss: 0.5679 - val_acc: 0.7076\n",
            "Epoch 91/250\n",
            "178/178 [==============================] - 45s 248ms/step - loss: 0.6000 - acc: 0.6845 - val_loss: 0.5474 - val_acc: 0.7214\n",
            "Epoch 92/250\n",
            "178/178 [==============================] - 45s 249ms/step - loss: 0.6025 - acc: 0.6778 - val_loss: 0.5792 - val_acc: 0.6928\n",
            "Epoch 93/250\n",
            "178/178 [==============================] - 45s 248ms/step - loss: 0.5978 - acc: 0.6754 - val_loss: 0.5535 - val_acc: 0.7193\n",
            "Epoch 94/250\n",
            "178/178 [==============================] - 44s 246ms/step - loss: 0.5873 - acc: 0.6785 - val_loss: 0.5524 - val_acc: 0.7203\n",
            "Epoch 95/250\n",
            "178/178 [==============================] - 44s 239ms/step - loss: 0.6023 - acc: 0.6750 - val_loss: 0.5534 - val_acc: 0.7203\n",
            "Epoch 96/250\n",
            "178/178 [==============================] - 43s 237ms/step - loss: 0.6023 - acc: 0.6782 - val_loss: 0.5777 - val_acc: 0.6949\n",
            "Epoch 97/250\n",
            "178/178 [==============================] - 45s 248ms/step - loss: 0.6070 - acc: 0.6704 - val_loss: 0.5633 - val_acc: 0.7129\n",
            "Epoch 98/250\n",
            "178/178 [==============================] - 45s 248ms/step - loss: 0.5962 - acc: 0.6831 - val_loss: 0.5593 - val_acc: 0.7182\n",
            "Epoch 99/250\n",
            "178/178 [==============================] - 45s 244ms/step - loss: 0.6096 - acc: 0.6683 - val_loss: 0.5688 - val_acc: 0.7076\n",
            "Epoch 100/250\n",
            "178/178 [==============================] - 43s 239ms/step - loss: 0.6072 - acc: 0.6754 - val_loss: 0.5739 - val_acc: 0.6970\n",
            "Epoch 101/250\n",
            "178/178 [==============================] - 45s 247ms/step - loss: 0.6061 - acc: 0.6785 - val_loss: 0.5430 - val_acc: 0.7309\n",
            "Epoch 102/250\n",
            "178/178 [==============================] - 45s 250ms/step - loss: 0.5921 - acc: 0.6888 - val_loss: 0.5597 - val_acc: 0.7150\n",
            "Epoch 103/250\n",
            "178/178 [==============================] - 45s 249ms/step - loss: 0.6052 - acc: 0.6711 - val_loss: 0.5600 - val_acc: 0.7140\n",
            "Epoch 104/250\n",
            "178/178 [==============================] - 45s 248ms/step - loss: 0.5864 - acc: 0.6842 - val_loss: 0.5502 - val_acc: 0.7193\n",
            "Epoch 105/250\n",
            "178/178 [==============================] - 45s 246ms/step - loss: 0.5925 - acc: 0.6958 - val_loss: 0.5411 - val_acc: 0.7341\n",
            "Epoch 106/250\n",
            "178/178 [==============================] - 44s 239ms/step - loss: 0.5853 - acc: 0.6870 - val_loss: 0.5626 - val_acc: 0.7140\n",
            "Epoch 107/250\n",
            "178/178 [==============================] - 43s 237ms/step - loss: 0.5878 - acc: 0.6874 - val_loss: 0.5464 - val_acc: 0.7193\n",
            "Epoch 108/250\n",
            "178/178 [==============================] - 45s 248ms/step - loss: 0.6002 - acc: 0.6747 - val_loss: 0.5432 - val_acc: 0.7267\n",
            "Epoch 109/250\n",
            "178/178 [==============================] - 45s 248ms/step - loss: 0.6015 - acc: 0.6789 - val_loss: 0.5612 - val_acc: 0.7161\n",
            "Epoch 110/250\n",
            "178/178 [==============================] - 44s 247ms/step - loss: 0.5955 - acc: 0.6909 - val_loss: 0.5333 - val_acc: 0.7320\n",
            "Epoch 111/250\n",
            "178/178 [==============================] - 44s 238ms/step - loss: 0.5984 - acc: 0.6701 - val_loss: 0.5553 - val_acc: 0.7182\n",
            "Epoch 112/250\n",
            "178/178 [==============================] - 43s 238ms/step - loss: 0.6166 - acc: 0.6609 - val_loss: 0.5584 - val_acc: 0.7182\n",
            "Epoch 113/250\n",
            "178/178 [==============================] - 44s 245ms/step - loss: 0.6056 - acc: 0.6733 - val_loss: 0.5479 - val_acc: 0.7214\n",
            "Epoch 114/250\n",
            "178/178 [==============================] - 45s 249ms/step - loss: 0.5917 - acc: 0.6920 - val_loss: 0.5627 - val_acc: 0.7140\n",
            "Epoch 115/250\n",
            "178/178 [==============================] - 45s 250ms/step - loss: 0.6055 - acc: 0.6736 - val_loss: 0.5510 - val_acc: 0.7214\n",
            "Epoch 116/250\n",
            "178/178 [==============================] - 45s 249ms/step - loss: 0.6028 - acc: 0.6817 - val_loss: 0.5416 - val_acc: 0.7362\n",
            "Epoch 117/250\n",
            "178/178 [==============================] - 45s 247ms/step - loss: 0.5969 - acc: 0.6842 - val_loss: 0.5506 - val_acc: 0.7161\n",
            "Epoch 118/250\n",
            "178/178 [==============================] - 43s 238ms/step - loss: 0.6023 - acc: 0.6807 - val_loss: 0.5397 - val_acc: 0.7352\n",
            "Epoch 119/250\n",
            "178/178 [==============================] - 45s 248ms/step - loss: 0.6141 - acc: 0.6588 - val_loss: 0.5686 - val_acc: 0.7076\n",
            "Epoch 120/250\n",
            "178/178 [==============================] - 45s 249ms/step - loss: 0.6046 - acc: 0.6637 - val_loss: 0.5583 - val_acc: 0.7203\n",
            "Epoch 121/250\n",
            "178/178 [==============================] - 45s 249ms/step - loss: 0.5992 - acc: 0.6867 - val_loss: 0.5332 - val_acc: 0.7299\n",
            "Epoch 122/250\n",
            "178/178 [==============================] - 44s 243ms/step - loss: 0.5968 - acc: 0.6782 - val_loss: 0.5444 - val_acc: 0.7267\n",
            "Epoch 123/250\n",
            "178/178 [==============================] - 43s 237ms/step - loss: 0.6019 - acc: 0.6814 - val_loss: 0.5445 - val_acc: 0.7246\n",
            "Epoch 124/250\n",
            "178/178 [==============================] - 43s 239ms/step - loss: 0.6040 - acc: 0.6725 - val_loss: 0.5488 - val_acc: 0.7246\n",
            "Epoch 125/250\n",
            "178/178 [==============================] - 45s 249ms/step - loss: 0.5913 - acc: 0.6856 - val_loss: 0.5370 - val_acc: 0.7341\n",
            "Epoch 126/250\n",
            "178/178 [==============================] - 45s 247ms/step - loss: 0.6024 - acc: 0.6768 - val_loss: 0.5505 - val_acc: 0.7246\n",
            "Epoch 127/250\n",
            "178/178 [==============================] - 45s 245ms/step - loss: 0.6018 - acc: 0.6803 - val_loss: 0.5417 - val_acc: 0.7320\n",
            "Epoch 128/250\n",
            "178/178 [==============================] - 43s 239ms/step - loss: 0.5928 - acc: 0.6785 - val_loss: 0.5585 - val_acc: 0.7150\n",
            "Epoch 129/250\n",
            "178/178 [==============================] - 45s 249ms/step - loss: 0.6075 - acc: 0.6697 - val_loss: 0.5489 - val_acc: 0.7246\n",
            "Epoch 130/250\n",
            "178/178 [==============================] - 45s 250ms/step - loss: 0.5973 - acc: 0.6796 - val_loss: 0.5383 - val_acc: 0.7288\n",
            "Epoch 131/250\n",
            "178/178 [==============================] - 45s 249ms/step - loss: 0.6077 - acc: 0.6803 - val_loss: 0.5440 - val_acc: 0.7256\n",
            "Epoch 132/250\n",
            "178/178 [==============================] - 45s 245ms/step - loss: 0.6018 - acc: 0.6718 - val_loss: 0.5499 - val_acc: 0.7214\n",
            "Epoch 133/250\n",
            "178/178 [==============================] - 43s 238ms/step - loss: 0.6031 - acc: 0.6718 - val_loss: 0.5391 - val_acc: 0.7278\n",
            "Epoch 134/250\n",
            "178/178 [==============================] - 43s 240ms/step - loss: 0.6065 - acc: 0.6708 - val_loss: 0.5406 - val_acc: 0.7256\n",
            "Epoch 135/250\n",
            "178/178 [==============================] - 46s 255ms/step - loss: 0.5911 - acc: 0.6849 - val_loss: 0.5441 - val_acc: 0.7246\n",
            "Epoch 136/250\n",
            "178/178 [==============================] - 46s 255ms/step - loss: 0.6159 - acc: 0.6616 - val_loss: 0.5394 - val_acc: 0.7288\n",
            "Epoch 137/250\n",
            "178/178 [==============================] - 46s 254ms/step - loss: 0.6072 - acc: 0.6690 - val_loss: 0.5401 - val_acc: 0.7267\n",
            "Epoch 138/250\n",
            "178/178 [==============================] - 46s 254ms/step - loss: 0.6007 - acc: 0.6796 - val_loss: 0.5430 - val_acc: 0.7235\n",
            "Epoch 139/250\n",
            "178/178 [==============================] - 45s 246ms/step - loss: 0.5972 - acc: 0.6764 - val_loss: 0.5378 - val_acc: 0.7320\n",
            "Epoch 140/250\n",
            "178/178 [==============================] - 46s 255ms/step - loss: 0.6070 - acc: 0.6729 - val_loss: 0.5485 - val_acc: 0.7214\n",
            "Epoch 141/250\n",
            "178/178 [==============================] - 46s 255ms/step - loss: 0.5894 - acc: 0.6807 - val_loss: 0.5420 - val_acc: 0.7299\n",
            "Epoch 142/250\n",
            "178/178 [==============================] - 47s 261ms/step - loss: 0.6039 - acc: 0.6750 - val_loss: 0.5546 - val_acc: 0.7150\n",
            "Epoch 143/250\n",
            "178/178 [==============================] - 44s 241ms/step - loss: 0.5981 - acc: 0.6842 - val_loss: 0.5646 - val_acc: 0.7097\n",
            "Epoch 144/250\n",
            "178/178 [==============================] - 45s 251ms/step - loss: 0.5952 - acc: 0.6754 - val_loss: 0.5445 - val_acc: 0.7299\n",
            "Epoch 145/250\n",
            "178/178 [==============================] - 45s 252ms/step - loss: 0.5912 - acc: 0.6814 - val_loss: 0.5419 - val_acc: 0.7320\n",
            "Epoch 146/250\n",
            "178/178 [==============================] - 45s 250ms/step - loss: 0.5929 - acc: 0.6902 - val_loss: 0.5428 - val_acc: 0.7331\n",
            "Epoch 147/250\n",
            "178/178 [==============================] - 44s 240ms/step - loss: 0.6089 - acc: 0.6817 - val_loss: 0.5369 - val_acc: 0.7341\n",
            "Epoch 148/250\n",
            "178/178 [==============================] - 41s 229ms/step - loss: 0.5975 - acc: 0.6853 - val_loss: 0.5501 - val_acc: 0.7193\n",
            "Epoch 149/250\n",
            "178/178 [==============================] - 43s 239ms/step - loss: 0.6134 - acc: 0.6673 - val_loss: 0.5451 - val_acc: 0.7235\n",
            "Epoch 150/250\n",
            "178/178 [==============================] - 45s 249ms/step - loss: 0.6086 - acc: 0.6683 - val_loss: 0.5565 - val_acc: 0.7161\n",
            "Epoch 151/250\n",
            "178/178 [==============================] - 45s 251ms/step - loss: 0.5935 - acc: 0.6863 - val_loss: 0.5417 - val_acc: 0.7309\n",
            "Epoch 152/250\n",
            "178/178 [==============================] - 45s 250ms/step - loss: 0.5859 - acc: 0.6888 - val_loss: 0.5368 - val_acc: 0.7288\n",
            "Epoch 153/250\n",
            "178/178 [==============================] - 45s 247ms/step - loss: 0.6009 - acc: 0.6725 - val_loss: 0.5390 - val_acc: 0.7278\n",
            "Epoch 154/250\n",
            "178/178 [==============================] - 44s 239ms/step - loss: 0.6053 - acc: 0.6641 - val_loss: 0.5389 - val_acc: 0.7309\n",
            "Epoch 155/250\n",
            "178/178 [==============================] - 45s 250ms/step - loss: 0.5999 - acc: 0.6747 - val_loss: 0.5343 - val_acc: 0.7331\n",
            "Epoch 156/250\n",
            "178/178 [==============================] - 45s 250ms/step - loss: 0.6067 - acc: 0.6764 - val_loss: 0.5369 - val_acc: 0.7320\n",
            "Epoch 157/250\n",
            "178/178 [==============================] - 45s 250ms/step - loss: 0.6014 - acc: 0.6793 - val_loss: 0.5446 - val_acc: 0.7299\n",
            "Epoch 158/250\n",
            "178/178 [==============================] - 45s 247ms/step - loss: 0.5924 - acc: 0.6923 - val_loss: 0.5364 - val_acc: 0.7309\n",
            "Epoch 159/250\n",
            "178/178 [==============================] - 44s 246ms/step - loss: 0.6046 - acc: 0.6821 - val_loss: 0.5402 - val_acc: 0.7288\n",
            "Epoch 160/250\n",
            "178/178 [==============================] - 45s 249ms/step - loss: 0.5905 - acc: 0.7004 - val_loss: 0.5545 - val_acc: 0.7203\n",
            "Epoch 161/250\n",
            "178/178 [==============================] - 45s 251ms/step - loss: 0.5970 - acc: 0.6800 - val_loss: 0.5411 - val_acc: 0.7235\n",
            "Epoch 162/250\n",
            "178/178 [==============================] - 45s 252ms/step - loss: 0.6028 - acc: 0.6814 - val_loss: 0.5473 - val_acc: 0.7246\n",
            "Epoch 163/250\n",
            "178/178 [==============================] - 45s 245ms/step - loss: 0.6026 - acc: 0.6733 - val_loss: 0.5345 - val_acc: 0.7299\n",
            "Epoch 164/250\n",
            "178/178 [==============================] - 44s 244ms/step - loss: 0.5971 - acc: 0.6817 - val_loss: 0.5344 - val_acc: 0.7341\n",
            "Epoch 165/250\n",
            "178/178 [==============================] - 42s 230ms/step - loss: 0.6005 - acc: 0.6715 - val_loss: 0.5401 - val_acc: 0.7256\n",
            "Epoch 166/250\n",
            "178/178 [==============================] - 46s 254ms/step - loss: 0.6043 - acc: 0.6733 - val_loss: 0.5428 - val_acc: 0.7235\n",
            "Epoch 167/250\n",
            "178/178 [==============================] - 46s 254ms/step - loss: 0.6008 - acc: 0.6881 - val_loss: 0.5367 - val_acc: 0.7331\n",
            "Epoch 168/250\n",
            "178/178 [==============================] - 45s 252ms/step - loss: 0.5989 - acc: 0.6909 - val_loss: 0.5360 - val_acc: 0.7309\n",
            "Epoch 169/250\n",
            "178/178 [==============================] - 41s 225ms/step - loss: 0.5986 - acc: 0.6704 - val_loss: 0.5317 - val_acc: 0.7341\n",
            "Epoch 170/250\n",
            "178/178 [==============================] - 46s 252ms/step - loss: 0.5917 - acc: 0.6814 - val_loss: 0.5295 - val_acc: 0.7341\n",
            "Epoch 171/250\n",
            "178/178 [==============================] - 45s 250ms/step - loss: 0.6024 - acc: 0.6757 - val_loss: 0.5428 - val_acc: 0.7267\n",
            "Epoch 172/250\n",
            "178/178 [==============================] - 44s 240ms/step - loss: 0.5974 - acc: 0.6803 - val_loss: 0.5569 - val_acc: 0.7140\n",
            "Epoch 173/250\n",
            "178/178 [==============================] - 44s 245ms/step - loss: 0.6050 - acc: 0.6690 - val_loss: 0.5392 - val_acc: 0.7278\n",
            "Epoch 174/250\n",
            "178/178 [==============================] - 45s 249ms/step - loss: 0.5879 - acc: 0.6874 - val_loss: 0.5417 - val_acc: 0.7309\n",
            "Epoch 175/250\n",
            "178/178 [==============================] - 45s 250ms/step - loss: 0.5825 - acc: 0.6944 - val_loss: 0.5529 - val_acc: 0.7203\n",
            "Epoch 176/250\n",
            "178/178 [==============================] - 47s 257ms/step - loss: 0.6093 - acc: 0.6796 - val_loss: 0.5333 - val_acc: 0.7320\n",
            "Epoch 177/250\n",
            "178/178 [==============================] - 54s 300ms/step - loss: 0.5925 - acc: 0.6831 - val_loss: 0.5415 - val_acc: 0.7246\n",
            "Epoch 178/250\n",
            "178/178 [==============================] - 52s 286ms/step - loss: 0.5922 - acc: 0.6835 - val_loss: 0.5440 - val_acc: 0.7203\n",
            "Epoch 179/250\n",
            "178/178 [==============================] - 49s 273ms/step - loss: 0.6037 - acc: 0.6701 - val_loss: 0.5337 - val_acc: 0.7299\n",
            "Epoch 180/250\n",
            "178/178 [==============================] - 50s 277ms/step - loss: 0.6065 - acc: 0.6680 - val_loss: 0.5458 - val_acc: 0.7256\n",
            "Epoch 181/250\n",
            "178/178 [==============================] - 47s 262ms/step - loss: 0.5982 - acc: 0.6838 - val_loss: 0.5455 - val_acc: 0.7225\n",
            "Epoch 182/250\n",
            "178/178 [==============================] - 46s 258ms/step - loss: 0.5977 - acc: 0.6856 - val_loss: 0.5537 - val_acc: 0.7150\n",
            "Epoch 183/250\n",
            "178/178 [==============================] - 46s 257ms/step - loss: 0.5892 - acc: 0.6870 - val_loss: 0.5455 - val_acc: 0.7246\n",
            "Epoch 184/250\n",
            "178/178 [==============================] - 48s 265ms/step - loss: 0.5947 - acc: 0.6877 - val_loss: 0.5472 - val_acc: 0.7214\n",
            "Epoch 185/250\n",
            "178/178 [==============================] - 41s 226ms/step - loss: 0.6030 - acc: 0.6690 - val_loss: 0.5333 - val_acc: 0.7341\n",
            "Epoch 186/250\n",
            "178/178 [==============================] - 46s 255ms/step - loss: 0.6025 - acc: 0.6771 - val_loss: 0.5381 - val_acc: 0.7278\n",
            "Epoch 187/250\n",
            "178/178 [==============================] - 46s 254ms/step - loss: 0.5969 - acc: 0.6838 - val_loss: 0.5543 - val_acc: 0.7140\n",
            "Epoch 188/250\n",
            "178/178 [==============================] - 46s 252ms/step - loss: 0.6079 - acc: 0.6761 - val_loss: 0.5488 - val_acc: 0.7256\n",
            "Epoch 189/250\n",
            "178/178 [==============================] - 45s 250ms/step - loss: 0.6035 - acc: 0.6637 - val_loss: 0.5658 - val_acc: 0.7055\n",
            "Epoch 190/250\n",
            "178/178 [==============================] - 44s 240ms/step - loss: 0.5920 - acc: 0.6930 - val_loss: 0.5454 - val_acc: 0.7193\n",
            "Epoch 191/250\n",
            "178/178 [==============================] - 46s 255ms/step - loss: 0.6003 - acc: 0.6722 - val_loss: 0.5426 - val_acc: 0.7246\n",
            "Epoch 192/250\n",
            "178/178 [==============================] - 46s 256ms/step - loss: 0.5912 - acc: 0.6916 - val_loss: 0.5381 - val_acc: 0.7288\n",
            "Epoch 193/250\n",
            "178/178 [==============================] - 46s 253ms/step - loss: 0.5971 - acc: 0.6747 - val_loss: 0.5521 - val_acc: 0.7203\n",
            "Epoch 194/250\n",
            "178/178 [==============================] - 45s 246ms/step - loss: 0.5968 - acc: 0.6828 - val_loss: 0.5374 - val_acc: 0.7341\n",
            "Epoch 195/250\n",
            "178/178 [==============================] - 39s 214ms/step - loss: 0.5946 - acc: 0.6912 - val_loss: 0.5660 - val_acc: 0.7044\n",
            "Epoch 196/250\n",
            "178/178 [==============================] - 46s 250ms/step - loss: 0.5859 - acc: 0.6958 - val_loss: 0.5384 - val_acc: 0.7299\n",
            "Epoch 197/250\n",
            "178/178 [==============================] - 45s 247ms/step - loss: 0.5995 - acc: 0.6704 - val_loss: 0.5399 - val_acc: 0.7256\n",
            "Epoch 198/250\n",
            "178/178 [==============================] - 46s 254ms/step - loss: 0.6000 - acc: 0.6718 - val_loss: 0.5348 - val_acc: 0.7352\n",
            "Epoch 199/250\n",
            "178/178 [==============================] - 46s 253ms/step - loss: 0.6063 - acc: 0.6725 - val_loss: 0.5438 - val_acc: 0.7193\n",
            "Epoch 200/250\n",
            "178/178 [==============================] - 46s 252ms/step - loss: 0.5958 - acc: 0.6891 - val_loss: 0.5365 - val_acc: 0.7352\n",
            "Epoch 201/250\n",
            "178/178 [==============================] - 46s 251ms/step - loss: 0.5988 - acc: 0.6853 - val_loss: 0.5552 - val_acc: 0.7193\n",
            "Epoch 202/250\n",
            "178/178 [==============================] - 45s 248ms/step - loss: 0.5926 - acc: 0.6835 - val_loss: 0.5512 - val_acc: 0.7225\n",
            "Epoch 203/250\n",
            "178/178 [==============================] - 45s 252ms/step - loss: 0.5893 - acc: 0.6905 - val_loss: 0.5690 - val_acc: 0.7055\n",
            "Epoch 204/250\n",
            "178/178 [==============================] - 45s 251ms/step - loss: 0.5990 - acc: 0.6838 - val_loss: 0.5394 - val_acc: 0.7256\n",
            "Epoch 205/250\n",
            "178/178 [==============================] - 45s 249ms/step - loss: 0.6070 - acc: 0.6761 - val_loss: 0.5347 - val_acc: 0.7341\n",
            "Epoch 206/250\n",
            "178/178 [==============================] - 44s 241ms/step - loss: 0.5952 - acc: 0.6803 - val_loss: 0.5341 - val_acc: 0.7309\n",
            "Epoch 207/250\n",
            "178/178 [==============================] - 45s 251ms/step - loss: 0.6014 - acc: 0.6775 - val_loss: 0.5360 - val_acc: 0.7309\n",
            "Epoch 208/250\n",
            "178/178 [==============================] - 46s 254ms/step - loss: 0.5966 - acc: 0.6828 - val_loss: 0.5370 - val_acc: 0.7352\n",
            "Epoch 209/250\n",
            "178/178 [==============================] - 46s 253ms/step - loss: 0.5992 - acc: 0.6764 - val_loss: 0.5447 - val_acc: 0.7193\n",
            "Epoch 210/250\n",
            "178/178 [==============================] - 48s 263ms/step - loss: 0.5984 - acc: 0.6835 - val_loss: 0.5556 - val_acc: 0.7119\n",
            "Epoch 211/250\n",
            "178/178 [==============================] - 44s 242ms/step - loss: 0.6067 - acc: 0.6761 - val_loss: 0.5442 - val_acc: 0.7203\n",
            "Epoch 212/250\n",
            "178/178 [==============================] - 46s 253ms/step - loss: 0.5988 - acc: 0.6690 - val_loss: 0.5372 - val_acc: 0.7331\n",
            "Epoch 213/250\n",
            "178/178 [==============================] - 45s 252ms/step - loss: 0.6002 - acc: 0.6842 - val_loss: 0.5349 - val_acc: 0.7362\n",
            "Epoch 214/250\n",
            "178/178 [==============================] - 46s 252ms/step - loss: 0.6064 - acc: 0.6655 - val_loss: 0.5413 - val_acc: 0.7235\n",
            "Epoch 215/250\n",
            "178/178 [==============================] - 45s 249ms/step - loss: 0.6057 - acc: 0.6814 - val_loss: 0.5336 - val_acc: 0.7362\n",
            "Epoch 216/250\n",
            "178/178 [==============================] - 44s 242ms/step - loss: 0.5963 - acc: 0.6775 - val_loss: 0.5543 - val_acc: 0.7182\n",
            "Epoch 217/250\n",
            "178/178 [==============================] - 41s 227ms/step - loss: 0.6054 - acc: 0.6807 - val_loss: 0.5544 - val_acc: 0.7161\n",
            "Epoch 218/250\n",
            "178/178 [==============================] - 45s 249ms/step - loss: 0.5956 - acc: 0.6835 - val_loss: 0.5501 - val_acc: 0.7172\n",
            "Epoch 219/250\n",
            "178/178 [==============================] - 46s 252ms/step - loss: 0.5832 - acc: 0.6920 - val_loss: 0.5538 - val_acc: 0.7140\n",
            "Epoch 220/250\n",
            "178/178 [==============================] - 47s 261ms/step - loss: 0.5889 - acc: 0.6828 - val_loss: 0.5544 - val_acc: 0.7150\n",
            "Epoch 221/250\n",
            "178/178 [==============================] - 45s 251ms/step - loss: 0.6020 - acc: 0.6771 - val_loss: 0.5518 - val_acc: 0.7129\n",
            "Epoch 222/250\n",
            "178/178 [==============================] - 46s 250ms/step - loss: 0.6062 - acc: 0.6729 - val_loss: 0.5475 - val_acc: 0.7214\n",
            "Epoch 223/250\n",
            "178/178 [==============================] - 46s 253ms/step - loss: 0.5929 - acc: 0.6860 - val_loss: 0.5603 - val_acc: 0.7119\n",
            "Epoch 224/250\n",
            "178/178 [==============================] - 46s 252ms/step - loss: 0.5808 - acc: 0.6909 - val_loss: 0.5494 - val_acc: 0.7150\n",
            "Epoch 225/250\n",
            "178/178 [==============================] - 43s 237ms/step - loss: 0.5938 - acc: 0.6803 - val_loss: 0.5563 - val_acc: 0.7129\n",
            "Epoch 226/250\n",
            "178/178 [==============================] - 45s 246ms/step - loss: 0.5912 - acc: 0.6814 - val_loss: 0.5446 - val_acc: 0.7214\n",
            "Epoch 227/250\n",
            "178/178 [==============================] - 45s 248ms/step - loss: 0.5999 - acc: 0.6715 - val_loss: 0.5373 - val_acc: 0.7320\n",
            "Epoch 228/250\n",
            "178/178 [==============================] - 46s 252ms/step - loss: 0.6076 - acc: 0.6711 - val_loss: 0.5448 - val_acc: 0.7256\n",
            "Epoch 229/250\n",
            "178/178 [==============================] - 46s 254ms/step - loss: 0.5977 - acc: 0.6831 - val_loss: 0.5487 - val_acc: 0.7140\n",
            "Epoch 230/250\n",
            "178/178 [==============================] - 46s 253ms/step - loss: 0.5792 - acc: 0.6972 - val_loss: 0.5397 - val_acc: 0.7299\n",
            "Epoch 231/250\n",
            "178/178 [==============================] - 45s 247ms/step - loss: 0.5924 - acc: 0.6838 - val_loss: 0.5658 - val_acc: 0.7044\n",
            "Epoch 232/250\n",
            "178/178 [==============================] - 46s 256ms/step - loss: 0.6009 - acc: 0.6849 - val_loss: 0.5392 - val_acc: 0.7278\n",
            "Epoch 233/250\n",
            "178/178 [==============================] - 46s 252ms/step - loss: 0.5925 - acc: 0.6888 - val_loss: 0.5606 - val_acc: 0.7108\n",
            "Epoch 234/250\n",
            "178/178 [==============================] - 46s 254ms/step - loss: 0.6012 - acc: 0.6793 - val_loss: 0.5637 - val_acc: 0.7044\n",
            "Epoch 235/250\n",
            "178/178 [==============================] - 45s 249ms/step - loss: 0.5996 - acc: 0.6711 - val_loss: 0.5408 - val_acc: 0.7225\n",
            "Epoch 236/250\n",
            "178/178 [==============================] - 44s 241ms/step - loss: 0.6077 - acc: 0.6787 - val_loss: 0.5478 - val_acc: 0.7203\n",
            "Epoch 237/250\n",
            "178/178 [==============================] - 46s 253ms/step - loss: 0.6059 - acc: 0.6701 - val_loss: 0.5462 - val_acc: 0.7193\n",
            "Epoch 238/250\n",
            "178/178 [==============================] - 46s 253ms/step - loss: 0.5930 - acc: 0.6877 - val_loss: 0.5500 - val_acc: 0.7193\n",
            "Epoch 239/250\n",
            "178/178 [==============================] - 46s 254ms/step - loss: 0.6052 - acc: 0.6810 - val_loss: 0.5388 - val_acc: 0.7278\n",
            "Epoch 240/250\n",
            "178/178 [==============================] - 48s 265ms/step - loss: 0.6014 - acc: 0.6807 - val_loss: 0.5352 - val_acc: 0.7373\n",
            "Epoch 241/250\n",
            "178/178 [==============================] - 45s 246ms/step - loss: 0.5973 - acc: 0.6764 - val_loss: 0.5496 - val_acc: 0.7203\n",
            "Epoch 242/250\n",
            "178/178 [==============================] - 46s 254ms/step - loss: 0.5940 - acc: 0.6853 - val_loss: 0.5402 - val_acc: 0.7267\n",
            "Epoch 243/250\n",
            "178/178 [==============================] - 46s 253ms/step - loss: 0.5927 - acc: 0.6909 - val_loss: 0.5321 - val_acc: 0.7320\n",
            "Epoch 244/250\n",
            "178/178 [==============================] - 45s 250ms/step - loss: 0.5932 - acc: 0.6814 - val_loss: 0.5493 - val_acc: 0.7203\n",
            "Epoch 245/250\n",
            "178/178 [==============================] - 45s 242ms/step - loss: 0.5951 - acc: 0.6831 - val_loss: 0.5432 - val_acc: 0.7235\n",
            "Epoch 246/250\n",
            "178/178 [==============================] - 49s 274ms/step - loss: 0.5961 - acc: 0.6740 - val_loss: 0.5479 - val_acc: 0.7182\n",
            "Epoch 247/250\n",
            "178/178 [==============================] - 47s 258ms/step - loss: 0.5919 - acc: 0.6778 - val_loss: 0.5488 - val_acc: 0.7161\n",
            "Epoch 248/250\n",
            "178/178 [==============================] - 47s 259ms/step - loss: 0.5923 - acc: 0.7011 - val_loss: 0.5620 - val_acc: 0.7044\n",
            "Epoch 249/250\n",
            "178/178 [==============================] - 48s 262ms/step - loss: 0.5981 - acc: 0.6807 - val_loss: 0.5706 - val_acc: 0.7002\n",
            "Epoch 250/250\n",
            "178/178 [==============================] - 46s 256ms/step - loss: 0.5963 - acc: 0.6920 - val_loss: 0.5471 - val_acc: 0.7203\n"
          ]
        }
      ]
    },
    {
      "cell_type": "code",
      "source": [
        "acc = history.history['acc']\n",
        "val_acc = history.history['val_acc']\n",
        "loss = history.history['loss']\n",
        "val_loss = history.history['val_loss']\n",
        "\n",
        "epochs_x = range(len(acc))\n",
        "\n",
        "plt.plot(epochs_x, acc, 'go', label='Training acc')\n",
        "plt.plot(epochs_x, val_acc, 'k', label='Validation acc')\n",
        "plt.title('Training and validation accuracy')\n",
        "plt.legend()\n",
        "\n",
        "plt.figure()\n",
        "\n",
        "plt.plot(epochs_x, loss, 'go', label='Training loss')\n",
        "plt.plot(epochs_x, val_loss, 'k', label='Validation loss')\n",
        "plt.title('Training and validation loss')\n",
        "plt.legend()\n",
        "\n",
        "plt.show()"
      ],
      "metadata": {
        "id": "kwylTJpTP5XI",
        "colab": {
          "base_uri": "https://localhost:8080/",
          "height": 545
        },
        "outputId": "88652b12-0019-4b32-ec9b-c7403440f70f"
      },
      "execution_count": 13,
      "outputs": [
        {
          "output_type": "display_data",
          "data": {
            "text/plain": [
              "<Figure size 432x288 with 1 Axes>"
            ],
            "image/png": "[encoded data removed]"
          },
          "metadata": {
            "needs_background": "light"
          }
        },
        {
          "output_type": "display_data",
          "data": {
            "text/plain": [
              "<Figure size 432x288 with 1 Axes>"
            ],
            "image/png": "[encoded data removed]"
          },
          "metadata": {
            "needs_background": "light"
          }
        }
      ]
    },
    {
      "cell_type": "markdown",
      "source": [
        "#Download the model"
      ],
      "metadata": {
        "id": "lD-vKaoHQAFd"
      }
    },
    {
      "cell_type": "code",
      "source": [
        "os.makedirs('/content/drive/My Drive/cut_panoramic/Model', exist_ok=True)\n",
        "model.save('/content/drive/My Drive/cut_panoramic/Model/Classification/Gender/G2_Train_Freeze.h5')"
      ],
      "metadata": {
        "id": "74dL7-HLP_Sh"
      },
      "execution_count": 14,
      "outputs": []
    },
    {
      "cell_type": "code",
      "source": [
        "# from google.colab import files\n",
        "# files.download('/content/drive/My Drive/cut_panoramic/Model/2_รอบที่2_Gender_250.h5')"
      ],
      "metadata": {
        "id": "qcPW-brHQDpc"
      },
      "execution_count": 15,
      "outputs": []
    },
    {
      "cell_type": "code",
      "source": [],
      "metadata": {
        "id": "r5WoXVo8mVpF"
      },
      "execution_count": 15,
      "outputs": []
    }
  ]
}