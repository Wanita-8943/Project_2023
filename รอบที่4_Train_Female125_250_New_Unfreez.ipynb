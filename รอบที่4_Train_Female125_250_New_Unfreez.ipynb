{
  "nbformat": 4,
  "nbformat_minor": 0,
  "metadata": {
    "colab": {
      "provenance": [],
      "include_colab_link": true
    },
    "kernelspec": {
      "name": "python3",
      "display_name": "Python 3"
    },
    "language_info": {
      "name": "python"
    },
    "accelerator": "GPU",
    "gpuClass": "standard"
  },
  "cells": [
    {
      "cell_type": "markdown",
      "metadata": {
        "id": "view-in-github",
        "colab_type": "text"
      },
      "source": [
        "<a href=\"https://colab.research.google.com/github/Wanita-8943/Project_2023/blob/main/%E0%B8%A3%E0%B8%AD%E0%B8%9A%E0%B8%97%E0%B8%B5%E0%B9%884_Train_Female125_250_New_Unfreez.ipynb\" target=\"_parent\"><img src=\"https://colab.research.google.com/assets/colab-badge.svg\" alt=\"Open In Colab\"/></a>"
      ]
    },
    {
      "cell_type": "code",
      "execution_count": 1,
      "metadata": {
        "id": "KKSs7cyoPHcD"
      },
      "outputs": [],
      "source": [
        "import pandas as pd\n",
        "import shutil"
      ]
    },
    {
      "cell_type": "code",
      "source": [
        "from google.colab import drive\n",
        "drive.mount('/content/drive')"
      ],
      "metadata": {
        "colab": {
          "base_uri": "https://localhost:8080/"
        },
        "id": "7LoeZxmVPMxp",
        "outputId": "b5d6b17b-b88f-462e-ad31-0b37713b8770"
      },
      "execution_count": 2,
      "outputs": [
        {
          "output_type": "stream",
          "name": "stdout",
          "text": [
            "Mounted at /content/drive\n"
          ]
        }
      ]
    },
    {
      "cell_type": "code",
      "source": [
        "from tensorflow.keras import models\n",
        "from tensorflow.keras import layers\n",
        "from tensorflow.keras import optimizers\n",
        "import os\n",
        "import glob\n",
        "import shutil\n",
        "import sys\n",
        "import numpy as np\n",
        "from skimage.io import imread\n",
        "import matplotlib.pyplot as plt\n",
        "from IPython.display import Image\n",
        "%matplotlib inline"
      ],
      "metadata": {
        "id": "1pX9g1HxPM2f"
      },
      "execution_count": 3,
      "outputs": []
    },
    {
      "cell_type": "code",
      "source": [
        "batch_size = 16\n",
        "width = 150\n",
        "height = 150\n",
        "epochs = 250\n",
        "NUM_TRAIN = 1425\n",
        "NUM_TEST = 475\n",
        "dropout_rate = 0.2\n",
        "input_shape = (height, width, 3)"
      ],
      "metadata": {
        "id": "eSFtvGyvPM6O"
      },
      "execution_count": 4,
      "outputs": []
    },
    {
      "cell_type": "code",
      "source": [
        "#ดึงข้อมูลใน Github มาใช้\n",
        "import os\n",
        "%cd /content\n",
        "if not os.path.isdir(\"efficientnet_keras_transfer_learning\"):\n",
        " !git clone https://github.com/Wanita-8943/efficientnet_keras_transfer_learning\n",
        "%cd efficientnet_keras_transfer_learning/"
      ],
      "metadata": {
        "colab": {
          "base_uri": "https://localhost:8080/"
        },
        "id": "lb4K4CsMPNAW",
        "outputId": "c63d25c4-f6df-4070-d1cf-352298d18dbb"
      },
      "execution_count": 5,
      "outputs": [
        {
          "output_type": "stream",
          "name": "stdout",
          "text": [
            "/content\n",
            "Cloning into 'efficientnet_keras_transfer_learning'...\n",
            "remote: Enumerating objects: 837, done.\u001b[K\n",
            "remote: Counting objects: 100% (359/359), done.\u001b[K\n",
            "remote: Compressing objects: 100% (124/124), done.\u001b[K\n",
            "remote: Total 837 (delta 255), reused 328 (delta 235), pack-reused 478\u001b[K\n",
            "Receiving objects: 100% (837/837), 13.82 MiB | 997.00 KiB/s, done.\n",
            "Resolving deltas: 100% (495/495), done.\n",
            "/content/efficientnet_keras_transfer_learning\n"
          ]
        }
      ]
    },
    {
      "cell_type": "code",
      "source": [
        "# Options: EfficientNetB0, EfficientNetB1, EfficientNetB2, EfficientNetB3\n",
        "# Higher the number, the more complex the model is.\n",
        "from efficientnet import EfficientNetB0 as Net\n",
        "from efficientnet import center_crop_and_resize, preprocess_input"
      ],
      "metadata": {
        "id": "eyBg0dLKPND3"
      },
      "execution_count": 6,
      "outputs": []
    },
    {
      "cell_type": "code",
      "source": [
        "# loading pretrained conv base model\n",
        "# โหลดโมเดล มาโดยตัด output ของโมเดลออก เเต่ยังใช้ input อันเดิม\n",
        "# เเละโหลด weight ของโมเดล มาด้วยที่ชื่อว่า imagenet\n",
        "conv_base = Net(weights='imagenet', include_top=False, input_shape=input_shape)"
      ],
      "metadata": {
        "colab": {
          "base_uri": "https://localhost:8080/"
        },
        "id": "vk9pa3wQGZSz",
        "outputId": "b1d24fc9-011a-4b15-db50-a89742c9fb45"
      },
      "execution_count": 7,
      "outputs": [
        {
          "output_type": "stream",
          "name": "stderr",
          "text": [
            "WARNING:tensorflow:From /usr/local/lib/python3.8/dist-packages/tensorflow/python/autograph/pyct/static_analysis/liveness.py:83: Analyzer.lamba_check (from tensorflow.python.autograph.pyct.static_analysis.liveness) is deprecated and will be removed after 2023-09-23.\n",
            "Instructions for updating:\n",
            "Lambda fuctions will be no more assumed to be used in the statement where they are used, or at least in the same block. https://github.com/tensorflow/tensorflow/issues/56089\n"
          ]
        },
        {
          "output_type": "stream",
          "name": "stdout",
          "text": [
            "Downloading data from https://github.com/qubvel/efficientnet/releases/download/v0.0.1/efficientnet-b0_imagenet_1000_notop.h5\n",
            "16717576/16717576 [==============================] - 4s 0us/step\n"
          ]
        }
      ]
    },
    {
      "cell_type": "code",
      "source": [
        "base_dir = '/content/drive/MyDrive/TVT_Female125'\n",
        "os.makedirs(base_dir, exist_ok=True)\n",
        "\n",
        "# Directories for our training,\n",
        "# validation and test splits\n",
        "train_dir = os.path.join(base_dir, 'train')\n",
        "os.makedirs(train_dir, exist_ok=True)\n",
        "validation_dir = os.path.join(base_dir, 'validation')\n",
        "os.makedirs(validation_dir, exist_ok=True)\n",
        "test_dir = os.path.join(base_dir, 'test')\n",
        "os.makedirs(test_dir, exist_ok=True)"
      ],
      "metadata": {
        "id": "Jwpq_-KvPef8"
      },
      "execution_count": 8,
      "outputs": []
    },
    {
      "cell_type": "markdown",
      "source": [
        "#load model"
      ],
      "metadata": {
        "id": "od-ZSNm5PoGy"
      }
    },
    {
      "cell_type": "code",
      "source": [
        "import sys\n",
        "sys.path.append('/content/drive/MyDrive/cut_panoramic/Model//Classification/Female/33_รอบที่3_Flimpano_Female125_250_New_Unfreez.h5')\n",
        "\n",
        "from efficientnet.layers import Swish, DropConnect\n",
        "from efficientnet.model import ConvKernalInitializer\n",
        "from tensorflow.keras.utils import get_custom_objects\n",
        "\n",
        "get_custom_objects().update({\n",
        "    'ConvKernalInitializer': ConvKernalInitializer,\n",
        "    'Swish': Swish,\n",
        "    'DropConnect':DropConnect\n",
        "})"
      ],
      "metadata": {
        "id": "n5iPL5MNPkhE"
      },
      "execution_count": 11,
      "outputs": []
    },
    {
      "cell_type": "code",
      "source": [
        "#load model \n",
        "from tensorflow.keras.models import load_model\n",
        "model = load_model('/content/drive/MyDrive/cut_panoramic/Model//Classification/Female/33_รอบที่3_Flimpano_Female125_250_New_Unfreez.h5')\n",
        "height = width = model.input_shape[1]"
      ],
      "metadata": {
        "id": "plYz49xMPkly",
        "colab": {
          "base_uri": "https://localhost:8080/"
        },
        "outputId": "daae1d64-ead5-479d-fdba-451144d1ea0c"
      },
      "execution_count": 12,
      "outputs": [
        {
          "output_type": "stream",
          "name": "stderr",
          "text": [
            "WARNING:tensorflow:Error in loading the saved optimizer state. As a result, your model is starting with a freshly initialized optimizer.\n"
          ]
        }
      ]
    },
    {
      "cell_type": "code",
      "source": [
        "model.summary()"
      ],
      "metadata": {
        "colab": {
          "base_uri": "https://localhost:8080/"
        },
        "id": "z6IOPBflFbvc",
        "outputId": "4e2fc32b-7a37-48e9-ffff-9c6e760c9284"
      },
      "execution_count": 13,
      "outputs": [
        {
          "output_type": "stream",
          "name": "stdout",
          "text": [
            "Model: \"sequential_2\"\n",
            "_________________________________________________________________\n",
            " Layer (type)                Output Shape              Param #   \n",
            "=================================================================\n",
            " efficientnet-b0 (Functional  (None, 5, 5, 1280)       4049564   \n",
            " )                                                               \n",
            "                                                                 \n",
            " gap (GlobalMaxPooling2D)    (None, 1280)              0         \n",
            "                                                                 \n",
            " dropout_out (Dropout)       (None, 1280)              0         \n",
            "                                                                 \n",
            " fc_out (Dense)              (None, 19)                24339     \n",
            "                                                                 \n",
            "=================================================================\n",
            "Total params: 4,073,903\n",
            "Trainable params: 4,031,887\n",
            "Non-trainable params: 42,016\n",
            "_________________________________________________________________\n"
          ]
        }
      ]
    },
    {
      "cell_type": "code",
      "source": [
        "# Train ด้วย ImageDataGenerator ของ Keras ซึ่งจะเพิ่มข้อมูลเสริมระหว่างการฝึกเพื่อลดโอกาสเกิด overfitting\n",
        "#overfitting เกิดจากข้อมูลที่ซับซ้อนกันเกินไป\n",
        "from tensorflow.keras.preprocessing.image import ImageDataGenerator\n",
        "\n",
        "train_datagen = ImageDataGenerator(\n",
        "      rescale=1./255, #โมเดลส่วนใหญ่ต้องใช้ RGB ในช่วง 0–1\n",
        "      rotation_range=40,\n",
        "      width_shift_range=0.2,\n",
        "      height_shift_range=0.2,\n",
        "      shear_range=0.2,\n",
        "      zoom_range=0.2,\n",
        "      horizontal_flip=True,\n",
        "      fill_mode='nearest')\n",
        "\n",
        "# Note that the validation data should not be augmented!\n",
        "test_datagen = ImageDataGenerator(rescale=1./255)\n",
        "\n",
        "train_generator = train_datagen.flow_from_directory(\n",
        "        # This is the target directory #ไดเรกเป้าหมาย\n",
        "        train_dir,\n",
        "        # รูปภาพทั้งหมดจะถูกปรับขนาดตามความสูงและความกว้างของเป้าหมาย\n",
        "        target_size=(height, width),\n",
        "        batch_size=batch_size,\n",
        "        # Since we use categorical_crossentropy loss, we need categorical labels\n",
        "        #เนื่องจากเราใช้ categorical_crossentropy loss เราจึงต้องมีป้ายกำกับตามหมวดหมู่\n",
        "        class_mode='categorical')\n",
        "\n",
        "validation_generator = test_datagen.flow_from_directory( #การดึงภาพจาก Directory มาเข้าโมเดล \n",
        "        validation_dir,\n",
        "        target_size=(height, width),\n",
        "        batch_size=batch_size,\n",
        "        class_mode='categorical')"
      ],
      "metadata": {
        "colab": {
          "base_uri": "https://localhost:8080/"
        },
        "id": "KBMZbdr2Pgw4",
        "outputId": "c84edb0e-56fa-46e6-f6f4-c3217a94708b"
      },
      "execution_count": 14,
      "outputs": [
        {
          "output_type": "stream",
          "name": "stdout",
          "text": [
            "Found 1425 images belonging to 19 classes.\n",
            "Found 475 images belonging to 19 classes.\n"
          ]
        }
      ]
    },
    {
      "cell_type": "code",
      "source": [
        "history = model.fit_generator(\n",
        "      train_generator,\n",
        "      steps_per_epoch= NUM_TRAIN //batch_size,\n",
        "      epochs=epochs,\n",
        "      validation_data=validation_generator,\n",
        "      validation_steps= NUM_TEST //batch_size,\n",
        "      verbose=1,\n",
        "      use_multiprocessing=True,\n",
        "      workers=4)"
      ],
      "metadata": {
        "colab": {
          "base_uri": "https://localhost:8080/"
        },
        "id": "C9Cf1dwyP1PD",
        "outputId": "278ce7da-9d83-416c-8f16-45742d6b8fed"
      },
      "execution_count": 16,
      "outputs": [
        {
          "output_type": "stream",
          "name": "stderr",
          "text": [
            "<ipython-input-16-caa7b37242a8>:1: UserWarning: `Model.fit_generator` is deprecated and will be removed in a future version. Please use `Model.fit`, which supports generators.\n",
            "  history = model.fit_generator(\n"
          ]
        },
        {
          "output_type": "stream",
          "name": "stdout",
          "text": [
            "Epoch 1/250\n",
            "89/89 [==============================] - 410s 4s/step - loss: 28.2502 - acc: 0.0554 - val_loss: 6.5345 - val_acc: 0.0862\n",
            "Epoch 2/250\n",
            "89/89 [==============================] - 25s 274ms/step - loss: 16.6679 - acc: 0.0582 - val_loss: 10.8852 - val_acc: 0.0776\n",
            "Epoch 3/250\n",
            "89/89 [==============================] - 31s 337ms/step - loss: 8.2192 - acc: 0.1107 - val_loss: 11.3539 - val_acc: 0.0754\n",
            "Epoch 4/250\n",
            "89/89 [==============================] - 30s 331ms/step - loss: 4.7415 - acc: 0.1306 - val_loss: 9.7752 - val_acc: 0.0927\n",
            "Epoch 5/250\n",
            "89/89 [==============================] - 30s 331ms/step - loss: 4.0349 - acc: 0.1434 - val_loss: 9.2316 - val_acc: 0.0797\n",
            "Epoch 6/250\n",
            "89/89 [==============================] - 30s 329ms/step - loss: 3.4981 - acc: 0.1540 - val_loss: 8.2885 - val_acc: 0.0905\n",
            "Epoch 7/250\n",
            "89/89 [==============================] - 25s 271ms/step - loss: 3.4709 - acc: 0.1668 - val_loss: 6.2943 - val_acc: 0.1185\n",
            "Epoch 8/250\n",
            "89/89 [==============================] - 32s 352ms/step - loss: 3.3220 - acc: 0.1803 - val_loss: 3.6834 - val_acc: 0.1573\n",
            "Epoch 9/250\n",
            "89/89 [==============================] - 30s 333ms/step - loss: 3.1894 - acc: 0.1739 - val_loss: 3.2161 - val_acc: 0.1595\n",
            "Epoch 10/250\n",
            "89/89 [==============================] - 30s 327ms/step - loss: 3.1380 - acc: 0.1753 - val_loss: 3.4623 - val_acc: 0.1595\n",
            "Epoch 11/250\n",
            "89/89 [==============================] - 26s 283ms/step - loss: 3.0381 - acc: 0.1774 - val_loss: 3.5531 - val_acc: 0.1552\n",
            "Epoch 12/250\n",
            "89/89 [==============================] - 30s 329ms/step - loss: 2.9635 - acc: 0.1838 - val_loss: 3.6371 - val_acc: 0.1552\n",
            "Epoch 13/250\n",
            "89/89 [==============================] - 31s 345ms/step - loss: 2.8858 - acc: 0.1916 - val_loss: 3.8181 - val_acc: 0.1401\n",
            "Epoch 14/250\n",
            "89/89 [==============================] - 30s 327ms/step - loss: 2.8125 - acc: 0.1938 - val_loss: 3.7066 - val_acc: 0.1422\n",
            "Epoch 15/250\n",
            "89/89 [==============================] - 30s 327ms/step - loss: 2.7264 - acc: 0.2009 - val_loss: 3.6641 - val_acc: 0.1530\n",
            "Epoch 16/250\n",
            "89/89 [==============================] - 30s 330ms/step - loss: 2.7537 - acc: 0.1902 - val_loss: 3.5791 - val_acc: 0.1530\n",
            "Epoch 17/250\n",
            "89/89 [==============================] - 30s 317ms/step - loss: 2.6754 - acc: 0.1923 - val_loss: 3.6056 - val_acc: 0.1530\n",
            "Epoch 18/250\n",
            "89/89 [==============================] - 24s 254ms/step - loss: 2.6246 - acc: 0.2016 - val_loss: 3.6352 - val_acc: 0.1466\n",
            "Epoch 19/250\n",
            "89/89 [==============================] - 32s 357ms/step - loss: 2.5342 - acc: 0.2058 - val_loss: 3.4861 - val_acc: 0.1444\n",
            "Epoch 20/250\n",
            "89/89 [==============================] - 30s 328ms/step - loss: 2.5968 - acc: 0.2086 - val_loss: 3.4649 - val_acc: 0.1444\n",
            "Epoch 21/250\n",
            "89/89 [==============================] - 30s 326ms/step - loss: 2.5060 - acc: 0.2158 - val_loss: 3.4143 - val_acc: 0.1552\n",
            "Epoch 22/250\n",
            "89/89 [==============================] - 30s 324ms/step - loss: 2.4819 - acc: 0.2108 - val_loss: 3.3312 - val_acc: 0.1509\n",
            "Epoch 23/250\n",
            "89/89 [==============================] - 29s 315ms/step - loss: 2.4489 - acc: 0.2136 - val_loss: 3.4210 - val_acc: 0.1379\n",
            "Epoch 24/250\n",
            "89/89 [==============================] - 25s 272ms/step - loss: 2.4457 - acc: 0.2108 - val_loss: 3.3531 - val_acc: 0.1272\n",
            "Epoch 25/250\n",
            "89/89 [==============================] - 30s 329ms/step - loss: 2.4303 - acc: 0.2250 - val_loss: 3.4294 - val_acc: 0.1228\n",
            "Epoch 26/250\n",
            "89/89 [==============================] - 30s 326ms/step - loss: 2.4365 - acc: 0.2136 - val_loss: 3.2684 - val_acc: 0.1315\n",
            "Epoch 27/250\n",
            "89/89 [==============================] - 29s 310ms/step - loss: 2.3708 - acc: 0.2278 - val_loss: 3.4221 - val_acc: 0.1336\n",
            "Epoch 28/250\n",
            "89/89 [==============================] - 28s 301ms/step - loss: 2.3204 - acc: 0.2158 - val_loss: 3.2602 - val_acc: 0.1422\n",
            "Epoch 29/250\n",
            "89/89 [==============================] - 28s 305ms/step - loss: 2.3159 - acc: 0.2328 - val_loss: 3.2843 - val_acc: 0.1422\n",
            "Epoch 30/250\n",
            "89/89 [==============================] - 29s 318ms/step - loss: 2.2221 - acc: 0.2569 - val_loss: 3.1279 - val_acc: 0.1422\n",
            "Epoch 31/250\n",
            "89/89 [==============================] - 26s 281ms/step - loss: 2.2462 - acc: 0.2612 - val_loss: 3.2467 - val_acc: 0.1358\n",
            "Epoch 32/250\n",
            "89/89 [==============================] - 30s 329ms/step - loss: 2.2342 - acc: 0.2399 - val_loss: 3.3369 - val_acc: 0.1466\n",
            "Epoch 33/250\n",
            "89/89 [==============================] - 27s 291ms/step - loss: 2.2304 - acc: 0.2342 - val_loss: 3.3962 - val_acc: 0.1509\n",
            "Epoch 34/250\n",
            "89/89 [==============================] - 32s 353ms/step - loss: 2.2193 - acc: 0.2541 - val_loss: 3.4088 - val_acc: 0.1466\n",
            "Epoch 35/250\n",
            "89/89 [==============================] - 29s 311ms/step - loss: 2.1864 - acc: 0.2669 - val_loss: 3.3827 - val_acc: 0.1401\n",
            "Epoch 36/250\n",
            "89/89 [==============================] - 29s 317ms/step - loss: 2.1709 - acc: 0.2569 - val_loss: 3.3282 - val_acc: 0.1444\n",
            "Epoch 37/250\n",
            "89/89 [==============================] - 29s 323ms/step - loss: 2.1567 - acc: 0.2718 - val_loss: 3.1555 - val_acc: 0.1573\n",
            "Epoch 38/250\n",
            "89/89 [==============================] - 30s 325ms/step - loss: 2.1629 - acc: 0.2605 - val_loss: 3.2815 - val_acc: 0.1530\n",
            "Epoch 39/250\n",
            "89/89 [==============================] - 31s 341ms/step - loss: 2.1435 - acc: 0.2690 - val_loss: 3.1959 - val_acc: 0.1487\n",
            "Epoch 40/250\n",
            "89/89 [==============================] - 28s 313ms/step - loss: 2.0715 - acc: 0.2960 - val_loss: 3.2580 - val_acc: 0.1487\n",
            "Epoch 41/250\n",
            "89/89 [==============================] - 29s 322ms/step - loss: 2.1130 - acc: 0.2619 - val_loss: 3.3964 - val_acc: 0.1573\n",
            "Epoch 42/250\n",
            "89/89 [==============================] - 30s 328ms/step - loss: 2.1174 - acc: 0.2661 - val_loss: 3.4407 - val_acc: 0.1530\n",
            "Epoch 43/250\n",
            "89/89 [==============================] - 30s 326ms/step - loss: 2.0534 - acc: 0.2931 - val_loss: 3.3413 - val_acc: 0.1552\n",
            "Epoch 44/250\n",
            "89/89 [==============================] - 32s 350ms/step - loss: 2.0342 - acc: 0.2811 - val_loss: 3.4891 - val_acc: 0.1509\n",
            "Epoch 45/250\n",
            "89/89 [==============================] - 28s 305ms/step - loss: 2.0362 - acc: 0.3073 - val_loss: 3.5647 - val_acc: 0.1509\n",
            "Epoch 46/250\n",
            "89/89 [==============================] - 24s 260ms/step - loss: 2.0318 - acc: 0.3009 - val_loss: 3.4683 - val_acc: 0.1552\n",
            "Epoch 47/250\n",
            "89/89 [==============================] - 29s 309ms/step - loss: 2.0133 - acc: 0.2896 - val_loss: 3.3565 - val_acc: 0.1616\n",
            "Epoch 48/250\n",
            "89/89 [==============================] - 28s 305ms/step - loss: 2.0222 - acc: 0.2903 - val_loss: 3.2499 - val_acc: 0.1552\n",
            "Epoch 49/250\n",
            "89/89 [==============================] - 28s 302ms/step - loss: 2.0165 - acc: 0.3009 - val_loss: 3.3001 - val_acc: 0.1552\n",
            "Epoch 50/250\n",
            "89/89 [==============================] - 31s 343ms/step - loss: 2.0086 - acc: 0.2818 - val_loss: 3.4552 - val_acc: 0.1487\n",
            "Epoch 51/250\n",
            "89/89 [==============================] - 28s 307ms/step - loss: 1.9502 - acc: 0.3094 - val_loss: 3.4336 - val_acc: 0.1573\n",
            "Epoch 52/250\n",
            "89/89 [==============================] - 29s 320ms/step - loss: 1.9405 - acc: 0.3087 - val_loss: 3.4693 - val_acc: 0.1616\n",
            "Epoch 53/250\n",
            "89/89 [==============================] - 30s 327ms/step - loss: 1.8926 - acc: 0.3378 - val_loss: 3.3415 - val_acc: 0.1595\n",
            "Epoch 54/250\n",
            "89/89 [==============================] - 30s 326ms/step - loss: 1.9512 - acc: 0.3059 - val_loss: 3.3868 - val_acc: 0.1616\n",
            "Epoch 55/250\n",
            "89/89 [==============================] - 31s 344ms/step - loss: 1.9604 - acc: 0.3229 - val_loss: 3.3114 - val_acc: 0.1595\n",
            "Epoch 56/250\n",
            "89/89 [==============================] - 30s 330ms/step - loss: 1.9026 - acc: 0.3265 - val_loss: 3.2498 - val_acc: 0.1638\n",
            "Epoch 57/250\n",
            "89/89 [==============================] - 29s 314ms/step - loss: 1.8964 - acc: 0.3201 - val_loss: 3.3000 - val_acc: 0.1595\n",
            "Epoch 58/250\n",
            "89/89 [==============================] - 30s 326ms/step - loss: 1.8843 - acc: 0.3101 - val_loss: 3.3984 - val_acc: 0.1530\n",
            "Epoch 59/250\n",
            "89/89 [==============================] - 30s 328ms/step - loss: 1.8683 - acc: 0.3428 - val_loss: 3.2679 - val_acc: 0.1659\n",
            "Epoch 60/250\n",
            "89/89 [==============================] - 31s 344ms/step - loss: 1.9239 - acc: 0.3322 - val_loss: 3.1979 - val_acc: 0.1616\n",
            "Epoch 61/250\n",
            "89/89 [==============================] - 30s 327ms/step - loss: 1.8487 - acc: 0.3428 - val_loss: 3.0855 - val_acc: 0.1746\n",
            "Epoch 62/250\n",
            "89/89 [==============================] - 31s 337ms/step - loss: 1.8609 - acc: 0.3421 - val_loss: 3.2223 - val_acc: 0.1659\n",
            "Epoch 63/250\n",
            "89/89 [==============================] - 30s 327ms/step - loss: 1.8467 - acc: 0.3428 - val_loss: 3.1551 - val_acc: 0.1703\n",
            "Epoch 64/250\n",
            "89/89 [==============================] - 30s 330ms/step - loss: 1.8498 - acc: 0.3385 - val_loss: 3.2592 - val_acc: 0.1724\n",
            "Epoch 65/250\n",
            "89/89 [==============================] - 32s 351ms/step - loss: 1.8486 - acc: 0.3577 - val_loss: 3.2615 - val_acc: 0.1703\n",
            "Epoch 66/250\n",
            "89/89 [==============================] - 29s 313ms/step - loss: 1.8222 - acc: 0.3549 - val_loss: 3.1422 - val_acc: 0.1638\n",
            "Epoch 67/250\n",
            "89/89 [==============================] - 29s 316ms/step - loss: 1.7996 - acc: 0.3485 - val_loss: 3.1636 - val_acc: 0.1638\n",
            "Epoch 68/250\n",
            "89/89 [==============================] - 23s 255ms/step - loss: 1.7617 - acc: 0.3705 - val_loss: 3.0378 - val_acc: 0.1681\n",
            "Epoch 69/250\n",
            "89/89 [==============================] - 29s 320ms/step - loss: 1.7861 - acc: 0.3463 - val_loss: 3.2170 - val_acc: 0.1638\n",
            "Epoch 70/250\n",
            "89/89 [==============================] - 31s 332ms/step - loss: 1.7628 - acc: 0.3785 - val_loss: 3.0420 - val_acc: 0.1746\n",
            "Epoch 71/250\n",
            "89/89 [==============================] - 30s 331ms/step - loss: 1.7913 - acc: 0.3662 - val_loss: 3.1194 - val_acc: 0.1638\n",
            "Epoch 72/250\n",
            "89/89 [==============================] - 31s 339ms/step - loss: 1.7649 - acc: 0.3719 - val_loss: 3.0802 - val_acc: 0.1746\n",
            "Epoch 73/250\n",
            "89/89 [==============================] - 30s 333ms/step - loss: 1.7742 - acc: 0.3570 - val_loss: 3.1674 - val_acc: 0.1681\n",
            "Epoch 74/250\n",
            "89/89 [==============================] - 26s 278ms/step - loss: 1.7685 - acc: 0.3712 - val_loss: 3.2231 - val_acc: 0.1659\n",
            "Epoch 75/250\n",
            "89/89 [==============================] - 32s 355ms/step - loss: 1.7879 - acc: 0.3705 - val_loss: 3.2367 - val_acc: 0.1681\n",
            "Epoch 76/250\n",
            "89/89 [==============================] - 30s 325ms/step - loss: 1.7246 - acc: 0.3776 - val_loss: 3.1944 - val_acc: 0.1616\n",
            "Epoch 77/250\n",
            "89/89 [==============================] - 30s 327ms/step - loss: 1.7260 - acc: 0.3982 - val_loss: 3.1962 - val_acc: 0.1595\n",
            "Epoch 78/250\n",
            "89/89 [==============================] - 30s 333ms/step - loss: 1.7313 - acc: 0.3754 - val_loss: 3.1064 - val_acc: 0.1659\n",
            "Epoch 79/250\n",
            "89/89 [==============================] - 30s 328ms/step - loss: 1.7268 - acc: 0.3804 - val_loss: 3.0991 - val_acc: 0.1703\n",
            "Epoch 80/250\n",
            "89/89 [==============================] - 25s 270ms/step - loss: 1.6928 - acc: 0.3825 - val_loss: 3.1158 - val_acc: 0.1659\n",
            "Epoch 81/250\n",
            "89/89 [==============================] - 29s 322ms/step - loss: 1.6591 - acc: 0.4024 - val_loss: 3.1789 - val_acc: 0.1681\n",
            "Epoch 82/250\n",
            "89/89 [==============================] - 29s 325ms/step - loss: 1.6414 - acc: 0.4187 - val_loss: 3.2481 - val_acc: 0.1638\n",
            "Epoch 83/250\n",
            "89/89 [==============================] - 29s 321ms/step - loss: 1.6930 - acc: 0.3833 - val_loss: 3.0964 - val_acc: 0.1573\n",
            "Epoch 84/250\n",
            "89/89 [==============================] - 30s 332ms/step - loss: 1.6701 - acc: 0.3953 - val_loss: 3.1895 - val_acc: 0.1595\n",
            "Epoch 85/250\n",
            "89/89 [==============================] - 32s 351ms/step - loss: 1.6331 - acc: 0.4088 - val_loss: 3.2723 - val_acc: 0.1595\n",
            "Epoch 86/250\n",
            "89/89 [==============================] - 29s 309ms/step - loss: 1.6407 - acc: 0.4187 - val_loss: 3.1934 - val_acc: 0.1595\n",
            "Epoch 87/250\n",
            "89/89 [==============================] - 30s 319ms/step - loss: 1.6365 - acc: 0.4102 - val_loss: 3.2023 - val_acc: 0.1595\n",
            "Epoch 88/250\n",
            "89/89 [==============================] - 24s 260ms/step - loss: 1.6730 - acc: 0.4010 - val_loss: 3.2930 - val_acc: 0.1595\n",
            "Epoch 89/250\n",
            "89/89 [==============================] - 28s 305ms/step - loss: 1.6576 - acc: 0.4031 - val_loss: 3.2657 - val_acc: 0.1681\n",
            "Epoch 90/250\n",
            "89/89 [==============================] - 31s 341ms/step - loss: 1.6314 - acc: 0.4123 - val_loss: 3.2521 - val_acc: 0.1552\n",
            "Epoch 91/250\n",
            "89/89 [==============================] - 28s 305ms/step - loss: 1.6513 - acc: 0.4116 - val_loss: 3.2614 - val_acc: 0.1638\n",
            "Epoch 92/250\n",
            "89/89 [==============================] - 24s 263ms/step - loss: 1.5898 - acc: 0.4344 - val_loss: 3.2268 - val_acc: 0.1638\n",
            "Epoch 93/250\n",
            "89/89 [==============================] - 28s 302ms/step - loss: 1.6036 - acc: 0.4414 - val_loss: 3.2088 - val_acc: 0.1573\n",
            "Epoch 94/250\n",
            "89/89 [==============================] - 27s 299ms/step - loss: 1.5376 - acc: 0.4422 - val_loss: 3.3236 - val_acc: 0.1595\n",
            "Epoch 95/250\n",
            "89/89 [==============================] - 27s 300ms/step - loss: 1.5530 - acc: 0.4670 - val_loss: 3.2099 - val_acc: 0.1638\n",
            "Epoch 96/250\n",
            "89/89 [==============================] - 23s 250ms/step - loss: 1.5842 - acc: 0.4500 - val_loss: 3.1580 - val_acc: 0.1681\n",
            "Epoch 97/250\n",
            "89/89 [==============================] - 30s 324ms/step - loss: 1.5635 - acc: 0.4358 - val_loss: 3.1894 - val_acc: 0.1724\n",
            "Epoch 98/250\n",
            "89/89 [==============================] - 30s 329ms/step - loss: 1.5241 - acc: 0.4649 - val_loss: 3.1843 - val_acc: 0.1659\n",
            "Epoch 99/250\n",
            "89/89 [==============================] - 29s 321ms/step - loss: 1.5185 - acc: 0.4457 - val_loss: 3.2083 - val_acc: 0.1616\n",
            "Epoch 100/250\n",
            "89/89 [==============================] - 25s 276ms/step - loss: 1.5168 - acc: 0.4613 - val_loss: 3.2442 - val_acc: 0.1638\n",
            "Epoch 101/250\n",
            "89/89 [==============================] - 29s 324ms/step - loss: 1.4975 - acc: 0.4762 - val_loss: 3.1740 - val_acc: 0.1638\n",
            "Epoch 102/250\n",
            "89/89 [==============================] - 29s 319ms/step - loss: 1.5080 - acc: 0.4634 - val_loss: 3.1871 - val_acc: 0.1746\n",
            "Epoch 103/250\n",
            "89/89 [==============================] - 29s 324ms/step - loss: 1.5111 - acc: 0.4592 - val_loss: 3.1952 - val_acc: 0.1659\n",
            "Epoch 104/250\n",
            "89/89 [==============================] - 29s 318ms/step - loss: 1.5601 - acc: 0.4549 - val_loss: 3.0836 - val_acc: 0.1659\n",
            "Epoch 105/250\n",
            "89/89 [==============================] - 29s 322ms/step - loss: 1.4224 - acc: 0.4940 - val_loss: 3.1075 - val_acc: 0.1638\n",
            "Epoch 106/250\n",
            "89/89 [==============================] - 25s 271ms/step - loss: 1.4589 - acc: 0.4769 - val_loss: 3.1816 - val_acc: 0.1616\n",
            "Epoch 107/250\n",
            "89/89 [==============================] - 25s 269ms/step - loss: 1.4971 - acc: 0.4585 - val_loss: 3.1365 - val_acc: 0.1659\n",
            "Epoch 108/250\n",
            "89/89 [==============================] - 30s 329ms/step - loss: 1.4051 - acc: 0.5032 - val_loss: 3.0412 - val_acc: 0.1832\n",
            "Epoch 109/250\n",
            "89/89 [==============================] - 29s 322ms/step - loss: 1.4393 - acc: 0.4925 - val_loss: 3.0923 - val_acc: 0.1832\n",
            "Epoch 110/250\n",
            "89/89 [==============================] - 30s 332ms/step - loss: 1.4385 - acc: 0.4862 - val_loss: 3.2424 - val_acc: 0.1767\n",
            "Epoch 111/250\n",
            "89/89 [==============================] - 30s 324ms/step - loss: 1.3862 - acc: 0.5049 - val_loss: 3.1656 - val_acc: 0.1703\n",
            "Epoch 112/250\n",
            "89/89 [==============================] - 30s 324ms/step - loss: 1.4404 - acc: 0.4855 - val_loss: 3.1484 - val_acc: 0.1810\n",
            "Epoch 113/250\n",
            "89/89 [==============================] - 30s 332ms/step - loss: 1.4437 - acc: 0.4798 - val_loss: 3.1861 - val_acc: 0.1681\n",
            "Epoch 114/250\n",
            "89/89 [==============================] - 25s 267ms/step - loss: 1.4179 - acc: 0.5138 - val_loss: 3.1778 - val_acc: 0.1703\n",
            "Epoch 115/250\n",
            "89/89 [==============================] - 30s 324ms/step - loss: 1.4062 - acc: 0.5153 - val_loss: 3.2595 - val_acc: 0.1681\n",
            "Epoch 116/250\n",
            "89/89 [==============================] - 30s 327ms/step - loss: 1.3859 - acc: 0.5018 - val_loss: 3.2340 - val_acc: 0.1724\n",
            "Epoch 117/250\n",
            "89/89 [==============================] - 31s 340ms/step - loss: 1.3582 - acc: 0.5295 - val_loss: 3.3839 - val_acc: 0.1810\n",
            "Epoch 118/250\n",
            "89/89 [==============================] - 25s 267ms/step - loss: 1.3301 - acc: 0.5422 - val_loss: 3.3750 - val_acc: 0.1746\n",
            "Epoch 119/250\n",
            "89/89 [==============================] - 25s 277ms/step - loss: 1.2896 - acc: 0.5408 - val_loss: 3.3075 - val_acc: 0.1767\n",
            "Epoch 120/250\n",
            "89/89 [==============================] - 30s 327ms/step - loss: 1.3328 - acc: 0.5295 - val_loss: 3.3318 - val_acc: 0.1832\n",
            "Epoch 121/250\n",
            "89/89 [==============================] - 30s 328ms/step - loss: 1.3451 - acc: 0.5259 - val_loss: 3.3726 - val_acc: 0.1875\n",
            "Epoch 122/250\n",
            "89/89 [==============================] - 30s 328ms/step - loss: 1.2966 - acc: 0.5656 - val_loss: 3.4431 - val_acc: 0.1767\n",
            "Epoch 123/250\n",
            "89/89 [==============================] - 24s 262ms/step - loss: 1.3205 - acc: 0.5302 - val_loss: 3.5315 - val_acc: 0.1810\n",
            "Epoch 124/250\n",
            "89/89 [==============================] - 29s 318ms/step - loss: 1.2965 - acc: 0.5564 - val_loss: 3.5444 - val_acc: 0.1703\n",
            "Epoch 125/250\n",
            "89/89 [==============================] - 29s 317ms/step - loss: 1.2922 - acc: 0.5351 - val_loss: 3.7382 - val_acc: 0.1638\n",
            "Epoch 126/250\n",
            "89/89 [==============================] - 30s 329ms/step - loss: 1.2887 - acc: 0.5465 - val_loss: 3.6771 - val_acc: 0.1746\n",
            "Epoch 127/250\n",
            "89/89 [==============================] - 24s 266ms/step - loss: 1.2868 - acc: 0.5664 - val_loss: 3.6892 - val_acc: 0.1724\n",
            "Epoch 128/250\n",
            "89/89 [==============================] - 28s 306ms/step - loss: 1.2545 - acc: 0.5507 - val_loss: 3.8648 - val_acc: 0.1810\n",
            "Epoch 129/250\n",
            "89/89 [==============================] - 24s 256ms/step - loss: 1.2268 - acc: 0.5678 - val_loss: 3.8198 - val_acc: 0.1681\n",
            "Epoch 130/250\n",
            "89/89 [==============================] - 24s 252ms/step - loss: 1.2501 - acc: 0.5656 - val_loss: 3.7969 - val_acc: 0.1681\n",
            "Epoch 131/250\n",
            "89/89 [==============================] - 30s 325ms/step - loss: 1.2876 - acc: 0.5564 - val_loss: 3.9271 - val_acc: 0.1681\n",
            "Epoch 132/250\n",
            "89/89 [==============================] - 25s 271ms/step - loss: 1.2303 - acc: 0.5628 - val_loss: 3.7993 - val_acc: 0.1810\n",
            "Epoch 133/250\n",
            "89/89 [==============================] - 30s 324ms/step - loss: 1.2643 - acc: 0.5656 - val_loss: 3.5820 - val_acc: 0.1724\n",
            "Epoch 134/250\n",
            "89/89 [==============================] - 25s 278ms/step - loss: 1.1895 - acc: 0.5848 - val_loss: 3.5543 - val_acc: 0.1724\n",
            "Epoch 135/250\n",
            "89/89 [==============================] - 29s 320ms/step - loss: 1.2800 - acc: 0.5685 - val_loss: 3.5490 - val_acc: 0.1703\n",
            "Epoch 136/250\n",
            "89/89 [==============================] - 30s 324ms/step - loss: 1.1960 - acc: 0.5969 - val_loss: 3.5830 - val_acc: 0.1746\n",
            "Epoch 137/250\n",
            "89/89 [==============================] - 29s 314ms/step - loss: 1.2053 - acc: 0.5692 - val_loss: 3.7053 - val_acc: 0.1724\n",
            "Epoch 138/250\n",
            "89/89 [==============================] - 29s 307ms/step - loss: 1.1921 - acc: 0.5848 - val_loss: 3.6143 - val_acc: 0.1789\n",
            "Epoch 139/250\n",
            "89/89 [==============================] - 23s 244ms/step - loss: 1.2094 - acc: 0.5855 - val_loss: 3.7074 - val_acc: 0.1810\n",
            "Epoch 140/250\n",
            "89/89 [==============================] - 29s 324ms/step - loss: 1.1837 - acc: 0.5983 - val_loss: 3.7738 - val_acc: 0.1703\n",
            "Epoch 141/250\n",
            "89/89 [==============================] - 30s 333ms/step - loss: 1.1522 - acc: 0.6040 - val_loss: 3.7147 - val_acc: 0.1659\n",
            "Epoch 142/250\n",
            "89/89 [==============================] - 30s 328ms/step - loss: 1.1461 - acc: 0.6210 - val_loss: 3.8201 - val_acc: 0.1703\n",
            "Epoch 143/250\n",
            "89/89 [==============================] - 30s 331ms/step - loss: 1.1472 - acc: 0.5983 - val_loss: 3.9015 - val_acc: 0.1681\n",
            "Epoch 144/250\n",
            "89/89 [==============================] - 25s 272ms/step - loss: 1.1137 - acc: 0.6125 - val_loss: 3.9705 - val_acc: 0.1681\n",
            "Epoch 145/250\n",
            "89/89 [==============================] - 30s 326ms/step - loss: 1.0944 - acc: 0.6182 - val_loss: 4.0035 - val_acc: 0.1767\n",
            "Epoch 146/250\n",
            "89/89 [==============================] - 25s 274ms/step - loss: 1.1166 - acc: 0.6075 - val_loss: 3.8336 - val_acc: 0.1659\n",
            "Epoch 147/250\n",
            "89/89 [==============================] - 27s 301ms/step - loss: 1.0949 - acc: 0.6267 - val_loss: 3.8063 - val_acc: 0.1681\n",
            "Epoch 148/250\n",
            "89/89 [==============================] - 28s 303ms/step - loss: 1.0985 - acc: 0.6274 - val_loss: 3.8444 - val_acc: 0.1746\n",
            "Epoch 149/250\n",
            "89/89 [==============================] - 29s 319ms/step - loss: 1.0590 - acc: 0.6473 - val_loss: 4.2322 - val_acc: 0.1638\n",
            "Epoch 150/250\n",
            "89/89 [==============================] - 29s 316ms/step - loss: 1.0523 - acc: 0.6373 - val_loss: 4.1634 - val_acc: 0.1746\n",
            "Epoch 151/250\n",
            "89/89 [==============================] - 30s 327ms/step - loss: 1.0895 - acc: 0.6246 - val_loss: 3.9616 - val_acc: 0.1767\n",
            "Epoch 152/250\n",
            "89/89 [==============================] - 29s 323ms/step - loss: 1.0723 - acc: 0.6352 - val_loss: 3.9622 - val_acc: 0.1659\n",
            "Epoch 153/250\n",
            "89/89 [==============================] - 30s 326ms/step - loss: 1.0859 - acc: 0.6267 - val_loss: 3.9561 - val_acc: 0.1638\n",
            "Epoch 154/250\n",
            "89/89 [==============================] - 25s 271ms/step - loss: 1.0366 - acc: 0.6388 - val_loss: 3.9193 - val_acc: 0.1659\n",
            "Epoch 155/250\n",
            "89/89 [==============================] - 28s 303ms/step - loss: 1.0821 - acc: 0.6182 - val_loss: 3.8399 - val_acc: 0.1832\n",
            "Epoch 156/250\n",
            "89/89 [==============================] - 28s 312ms/step - loss: 1.1160 - acc: 0.6210 - val_loss: 4.1247 - val_acc: 0.1724\n",
            "Epoch 157/250\n",
            "89/89 [==============================] - 30s 327ms/step - loss: 1.0415 - acc: 0.6423 - val_loss: 3.9836 - val_acc: 0.1681\n",
            "Epoch 158/250\n",
            "89/89 [==============================] - 30s 329ms/step - loss: 0.9967 - acc: 0.6586 - val_loss: 3.8382 - val_acc: 0.1767\n",
            "Epoch 159/250\n",
            "89/89 [==============================] - 29s 318ms/step - loss: 0.9773 - acc: 0.6707 - val_loss: 3.9349 - val_acc: 0.1746\n",
            "Epoch 160/250\n",
            "89/89 [==============================] - 30s 326ms/step - loss: 0.9695 - acc: 0.6678 - val_loss: 3.8066 - val_acc: 0.1724\n",
            "Epoch 161/250\n",
            "89/89 [==============================] - 30s 329ms/step - loss: 0.9499 - acc: 0.6629 - val_loss: 3.8391 - val_acc: 0.1767\n",
            "Epoch 162/250\n",
            "89/89 [==============================] - 30s 325ms/step - loss: 0.9801 - acc: 0.6678 - val_loss: 4.0218 - val_acc: 0.1746\n",
            "Epoch 163/250\n",
            "89/89 [==============================] - 30s 326ms/step - loss: 0.9870 - acc: 0.6515 - val_loss: 3.8874 - val_acc: 0.1724\n",
            "Epoch 164/250\n",
            "89/89 [==============================] - 30s 323ms/step - loss: 0.9702 - acc: 0.6799 - val_loss: 3.8777 - val_acc: 0.1810\n",
            "Epoch 165/250\n",
            "89/89 [==============================] - 29s 320ms/step - loss: 0.9373 - acc: 0.6700 - val_loss: 3.7836 - val_acc: 0.1810\n",
            "Epoch 166/250\n",
            "89/89 [==============================] - 29s 320ms/step - loss: 0.9450 - acc: 0.6650 - val_loss: 3.9765 - val_acc: 0.1810\n",
            "Epoch 167/250\n",
            "89/89 [==============================] - 29s 322ms/step - loss: 0.9705 - acc: 0.6629 - val_loss: 3.9171 - val_acc: 0.1724\n",
            "Epoch 168/250\n",
            "89/89 [==============================] - 30s 325ms/step - loss: 0.9472 - acc: 0.6692 - val_loss: 3.9284 - val_acc: 0.1810\n",
            "Epoch 169/250\n",
            "89/89 [==============================] - 30s 323ms/step - loss: 0.9255 - acc: 0.6806 - val_loss: 3.8597 - val_acc: 0.1875\n",
            "Epoch 170/250\n",
            "89/89 [==============================] - 30s 323ms/step - loss: 0.8922 - acc: 0.6906 - val_loss: 3.8964 - val_acc: 0.1918\n",
            "Epoch 171/250\n",
            "89/89 [==============================] - 30s 319ms/step - loss: 0.9269 - acc: 0.6941 - val_loss: 4.0408 - val_acc: 0.1853\n",
            "Epoch 172/250\n",
            "89/89 [==============================] - 25s 264ms/step - loss: 0.9156 - acc: 0.6842 - val_loss: 4.2301 - val_acc: 0.1832\n",
            "Epoch 173/250\n",
            "89/89 [==============================] - 29s 322ms/step - loss: 0.8699 - acc: 0.6998 - val_loss: 4.1707 - val_acc: 0.1789\n",
            "Epoch 174/250\n",
            "89/89 [==============================] - 29s 321ms/step - loss: 0.8523 - acc: 0.7026 - val_loss: 4.2811 - val_acc: 0.1789\n",
            "Epoch 175/250\n",
            "89/89 [==============================] - 29s 319ms/step - loss: 0.8541 - acc: 0.7126 - val_loss: 4.2789 - val_acc: 0.1746\n",
            "Epoch 176/250\n",
            "89/89 [==============================] - 30s 324ms/step - loss: 0.8578 - acc: 0.7097 - val_loss: 4.4039 - val_acc: 0.1724\n",
            "Epoch 177/250\n",
            "89/89 [==============================] - 30s 326ms/step - loss: 0.8917 - acc: 0.6884 - val_loss: 4.4643 - val_acc: 0.1767\n",
            "Epoch 178/250\n",
            "89/89 [==============================] - 29s 321ms/step - loss: 0.8305 - acc: 0.7168 - val_loss: 4.3756 - val_acc: 0.1703\n",
            "Epoch 179/250\n",
            "89/89 [==============================] - 29s 312ms/step - loss: 0.8396 - acc: 0.7126 - val_loss: 4.3977 - val_acc: 0.1573\n",
            "Epoch 180/250\n",
            "89/89 [==============================] - 28s 304ms/step - loss: 0.7964 - acc: 0.7339 - val_loss: 4.2368 - val_acc: 0.1832\n",
            "Epoch 181/250\n",
            "89/89 [==============================] - 28s 305ms/step - loss: 0.8114 - acc: 0.7218 - val_loss: 4.3132 - val_acc: 0.1724\n",
            "Epoch 182/250\n",
            "89/89 [==============================] - 29s 323ms/step - loss: 0.8001 - acc: 0.7111 - val_loss: 4.2803 - val_acc: 0.1810\n",
            "Epoch 183/250\n",
            "89/89 [==============================] - 30s 327ms/step - loss: 0.8627 - acc: 0.7019 - val_loss: 4.2240 - val_acc: 0.1746\n",
            "Epoch 184/250\n",
            "89/89 [==============================] - 30s 330ms/step - loss: 0.7733 - acc: 0.7275 - val_loss: 4.6196 - val_acc: 0.1703\n",
            "Epoch 185/250\n",
            "89/89 [==============================] - 30s 326ms/step - loss: 0.7725 - acc: 0.7431 - val_loss: 4.6585 - val_acc: 0.1767\n",
            "Epoch 186/250\n",
            "89/89 [==============================] - 25s 270ms/step - loss: 0.7842 - acc: 0.7324 - val_loss: 4.5471 - val_acc: 0.1746\n",
            "Epoch 187/250\n",
            "89/89 [==============================] - 29s 321ms/step - loss: 0.7864 - acc: 0.7296 - val_loss: 4.5399 - val_acc: 0.1724\n",
            "Epoch 188/250\n",
            "89/89 [==============================] - 29s 323ms/step - loss: 0.8129 - acc: 0.7324 - val_loss: 4.5406 - val_acc: 0.1681\n",
            "Epoch 189/250\n",
            "89/89 [==============================] - 30s 327ms/step - loss: 0.7851 - acc: 0.7317 - val_loss: 4.4772 - val_acc: 0.1767\n",
            "Epoch 190/250\n",
            "89/89 [==============================] - 30s 328ms/step - loss: 0.7561 - acc: 0.7431 - val_loss: 4.3871 - val_acc: 0.1853\n",
            "Epoch 191/250\n",
            "89/89 [==============================] - 30s 327ms/step - loss: 0.7450 - acc: 0.7587 - val_loss: 4.3589 - val_acc: 0.1810\n",
            "Epoch 192/250\n",
            "89/89 [==============================] - 30s 326ms/step - loss: 0.7588 - acc: 0.7253 - val_loss: 4.3163 - val_acc: 0.1918\n",
            "Epoch 193/250\n",
            "89/89 [==============================] - 30s 322ms/step - loss: 0.7965 - acc: 0.7275 - val_loss: 4.2562 - val_acc: 0.1853\n",
            "Epoch 194/250\n",
            "89/89 [==============================] - 30s 325ms/step - loss: 0.7272 - acc: 0.7388 - val_loss: 4.5949 - val_acc: 0.1853\n",
            "Epoch 195/250\n",
            "89/89 [==============================] - 30s 325ms/step - loss: 0.7596 - acc: 0.7395 - val_loss: 4.4526 - val_acc: 0.1724\n",
            "Epoch 196/250\n",
            "89/89 [==============================] - 30s 324ms/step - loss: 0.7177 - acc: 0.7686 - val_loss: 4.4154 - val_acc: 0.1789\n",
            "Epoch 197/250\n",
            "89/89 [==============================] - 31s 333ms/step - loss: 0.7441 - acc: 0.7452 - val_loss: 4.4956 - val_acc: 0.1789\n",
            "Epoch 198/250\n",
            "89/89 [==============================] - 25s 272ms/step - loss: 0.7066 - acc: 0.7608 - val_loss: 4.5743 - val_acc: 0.1832\n",
            "Epoch 199/250\n",
            "89/89 [==============================] - 30s 326ms/step - loss: 0.7077 - acc: 0.7466 - val_loss: 4.5600 - val_acc: 0.1724\n",
            "Epoch 200/250\n",
            "89/89 [==============================] - 30s 322ms/step - loss: 0.6756 - acc: 0.7729 - val_loss: 4.5393 - val_acc: 0.1659\n",
            "Epoch 201/250\n",
            "89/89 [==============================] - 30s 328ms/step - loss: 0.6919 - acc: 0.7658 - val_loss: 4.5933 - val_acc: 0.1703\n",
            "Epoch 202/250\n",
            "89/89 [==============================] - 30s 322ms/step - loss: 0.7100 - acc: 0.7672 - val_loss: 4.5695 - val_acc: 0.1810\n",
            "Epoch 203/250\n",
            "89/89 [==============================] - 30s 323ms/step - loss: 0.6818 - acc: 0.7708 - val_loss: 4.6371 - val_acc: 0.1724\n",
            "Epoch 204/250\n",
            "89/89 [==============================] - 25s 274ms/step - loss: 0.6742 - acc: 0.7686 - val_loss: 4.6025 - val_acc: 0.1681\n",
            "Epoch 205/250\n",
            "89/89 [==============================] - 29s 323ms/step - loss: 0.6725 - acc: 0.7615 - val_loss: 4.5881 - val_acc: 0.1832\n",
            "Epoch 206/250\n",
            "89/89 [==============================] - 25s 267ms/step - loss: 0.6321 - acc: 0.7828 - val_loss: 4.5825 - val_acc: 0.1853\n",
            "Epoch 207/250\n",
            "89/89 [==============================] - 29s 312ms/step - loss: 0.6820 - acc: 0.7644 - val_loss: 4.7122 - val_acc: 0.1853\n",
            "Epoch 208/250\n",
            "89/89 [==============================] - 29s 321ms/step - loss: 0.6380 - acc: 0.7885 - val_loss: 4.8236 - val_acc: 0.1767\n",
            "Epoch 209/250\n",
            "89/89 [==============================] - 29s 320ms/step - loss: 0.6368 - acc: 0.7771 - val_loss: 4.8033 - val_acc: 0.1724\n",
            "Epoch 210/250\n",
            "89/89 [==============================] - 30s 325ms/step - loss: 0.6097 - acc: 0.7842 - val_loss: 4.9299 - val_acc: 0.1810\n",
            "Epoch 211/250\n",
            "89/89 [==============================] - 30s 326ms/step - loss: 0.6183 - acc: 0.7906 - val_loss: 4.8203 - val_acc: 0.1832\n",
            "Epoch 212/250\n",
            "89/89 [==============================] - 30s 328ms/step - loss: 0.6465 - acc: 0.7828 - val_loss: 4.7792 - val_acc: 0.1853\n",
            "Epoch 213/250\n",
            "89/89 [==============================] - 30s 331ms/step - loss: 0.6543 - acc: 0.7757 - val_loss: 4.9518 - val_acc: 0.1832\n",
            "Epoch 214/250\n",
            "89/89 [==============================] - 30s 331ms/step - loss: 0.6251 - acc: 0.7878 - val_loss: 4.8537 - val_acc: 0.1659\n",
            "Epoch 215/250\n",
            "89/89 [==============================] - 30s 325ms/step - loss: 0.5706 - acc: 0.7991 - val_loss: 5.0036 - val_acc: 0.1746\n",
            "Epoch 216/250\n",
            "89/89 [==============================] - 30s 324ms/step - loss: 0.5821 - acc: 0.8055 - val_loss: 5.1016 - val_acc: 0.1616\n",
            "Epoch 217/250\n",
            "89/89 [==============================] - 30s 324ms/step - loss: 0.6177 - acc: 0.7828 - val_loss: 4.9103 - val_acc: 0.1724\n",
            "Epoch 218/250\n",
            "89/89 [==============================] - 30s 326ms/step - loss: 0.6119 - acc: 0.7857 - val_loss: 4.6873 - val_acc: 0.1875\n",
            "Epoch 219/250\n",
            "89/89 [==============================] - 30s 324ms/step - loss: 0.5820 - acc: 0.8020 - val_loss: 4.7415 - val_acc: 0.1897\n",
            "Epoch 220/250\n",
            "89/89 [==============================] - 30s 333ms/step - loss: 0.5831 - acc: 0.7991 - val_loss: 4.7859 - val_acc: 0.1746\n",
            "Epoch 221/250\n",
            "89/89 [==============================] - 30s 315ms/step - loss: 0.5768 - acc: 0.7984 - val_loss: 4.7697 - val_acc: 0.1875\n",
            "Epoch 222/250\n",
            "89/89 [==============================] - 30s 315ms/step - loss: 0.5880 - acc: 0.8041 - val_loss: 4.9324 - val_acc: 0.1681\n",
            "Epoch 223/250\n",
            "89/89 [==============================] - 29s 313ms/step - loss: 0.5682 - acc: 0.8162 - val_loss: 4.8446 - val_acc: 0.1832\n",
            "Epoch 224/250\n",
            "89/89 [==============================] - 24s 264ms/step - loss: 0.5677 - acc: 0.7999 - val_loss: 4.9663 - val_acc: 0.1767\n",
            "Epoch 225/250\n",
            "89/89 [==============================] - 29s 315ms/step - loss: 0.5658 - acc: 0.8084 - val_loss: 4.9523 - val_acc: 0.1853\n",
            "Epoch 226/250\n",
            "89/89 [==============================] - 28s 310ms/step - loss: 0.5673 - acc: 0.8034 - val_loss: 5.1083 - val_acc: 0.1659\n",
            "Epoch 227/250\n",
            "89/89 [==============================] - 29s 320ms/step - loss: 0.5562 - acc: 0.8105 - val_loss: 5.1352 - val_acc: 0.1746\n",
            "Epoch 228/250\n",
            "89/89 [==============================] - 30s 332ms/step - loss: 0.5140 - acc: 0.8261 - val_loss: 5.1104 - val_acc: 0.1703\n",
            "Epoch 229/250\n",
            "89/89 [==============================] - 31s 335ms/step - loss: 0.5678 - acc: 0.8091 - val_loss: 5.1493 - val_acc: 0.1746\n",
            "Epoch 230/250\n",
            "89/89 [==============================] - 30s 324ms/step - loss: 0.5261 - acc: 0.8162 - val_loss: 5.1781 - val_acc: 0.1853\n",
            "Epoch 231/250\n",
            "89/89 [==============================] - 30s 331ms/step - loss: 0.5263 - acc: 0.8183 - val_loss: 4.9113 - val_acc: 0.1724\n",
            "Epoch 232/250\n",
            "89/89 [==============================] - 30s 332ms/step - loss: 0.5162 - acc: 0.8275 - val_loss: 5.1616 - val_acc: 0.1767\n",
            "Epoch 233/250\n",
            "89/89 [==============================] - 30s 326ms/step - loss: 0.4599 - acc: 0.8467 - val_loss: 5.2696 - val_acc: 0.1746\n",
            "Epoch 234/250\n",
            "89/89 [==============================] - 30s 326ms/step - loss: 0.5146 - acc: 0.8290 - val_loss: 4.9589 - val_acc: 0.1703\n",
            "Epoch 235/250\n",
            "89/89 [==============================] - 30s 330ms/step - loss: 0.5055 - acc: 0.8353 - val_loss: 5.0196 - val_acc: 0.1724\n",
            "Epoch 236/250\n",
            "89/89 [==============================] - 30s 326ms/step - loss: 0.4631 - acc: 0.8417 - val_loss: 5.0089 - val_acc: 0.1746\n",
            "Epoch 237/250\n",
            "89/89 [==============================] - 30s 325ms/step - loss: 0.5205 - acc: 0.8183 - val_loss: 5.0707 - val_acc: 0.1703\n",
            "Epoch 238/250\n",
            "89/89 [==============================] - 30s 328ms/step - loss: 0.4810 - acc: 0.8325 - val_loss: 5.1396 - val_acc: 0.1767\n",
            "Epoch 239/250\n",
            "89/89 [==============================] - 30s 331ms/step - loss: 0.4649 - acc: 0.8368 - val_loss: 5.1590 - val_acc: 0.1789\n",
            "Epoch 240/250\n",
            "89/89 [==============================] - 30s 328ms/step - loss: 0.4637 - acc: 0.8417 - val_loss: 4.9208 - val_acc: 0.1767\n",
            "Epoch 241/250\n",
            "89/89 [==============================] - 29s 322ms/step - loss: 0.4578 - acc: 0.8375 - val_loss: 4.9604 - val_acc: 0.1897\n",
            "Epoch 242/250\n",
            "89/89 [==============================] - 30s 327ms/step - loss: 0.4357 - acc: 0.8566 - val_loss: 5.0159 - val_acc: 0.1832\n",
            "Epoch 243/250\n",
            "89/89 [==============================] - 30s 328ms/step - loss: 0.4630 - acc: 0.8403 - val_loss: 5.1714 - val_acc: 0.1767\n",
            "Epoch 244/250\n",
            "89/89 [==============================] - 25s 270ms/step - loss: 0.4525 - acc: 0.8368 - val_loss: 5.0926 - val_acc: 0.1853\n",
            "Epoch 245/250\n",
            "89/89 [==============================] - 30s 325ms/step - loss: 0.4572 - acc: 0.8446 - val_loss: 5.1191 - val_acc: 0.1875\n",
            "Epoch 246/250\n",
            "89/89 [==============================] - 30s 330ms/step - loss: 0.4208 - acc: 0.8652 - val_loss: 5.3307 - val_acc: 0.1703\n",
            "Epoch 247/250\n",
            "89/89 [==============================] - 25s 269ms/step - loss: 0.4440 - acc: 0.8538 - val_loss: 5.2210 - val_acc: 0.1897\n",
            "Epoch 248/250\n",
            "89/89 [==============================] - 25s 272ms/step - loss: 0.4369 - acc: 0.8630 - val_loss: 5.2551 - val_acc: 0.1724\n",
            "Epoch 249/250\n",
            "89/89 [==============================] - 30s 328ms/step - loss: 0.4307 - acc: 0.8595 - val_loss: 5.2689 - val_acc: 0.1789\n",
            "Epoch 250/250\n",
            "89/89 [==============================] - 31s 338ms/step - loss: 0.3948 - acc: 0.8666 - val_loss: 5.2606 - val_acc: 0.1832\n"
          ]
        }
      ]
    },
    {
      "cell_type": "code",
      "source": [
        "acc = history.history['acc']\n",
        "val_acc = history.history['val_acc']\n",
        "loss = history.history['loss']\n",
        "val_loss = history.history['val_loss']\n",
        "\n",
        "epochs_x = range(len(acc))\n",
        "\n",
        "plt.plot(epochs_x, acc, 'mo', label='Training acc')\n",
        "plt.plot(epochs_x, val_acc, 'k', label='Validation acc')\n",
        "plt.title('Training and validation accuracy')\n",
        "plt.legend()\n",
        "\n",
        "plt.figure()\n",
        "\n",
        "plt.plot(epochs_x, loss, 'mo', label='Training loss')\n",
        "plt.plot(epochs_x, val_loss, 'k', label='Validation loss')\n",
        "plt.title('Training and validation loss')\n",
        "plt.legend()\n",
        "\n",
        "plt.show()"
      ],
      "metadata": {
        "id": "kwylTJpTP5XI",
        "colab": {
          "base_uri": "https://localhost:8080/",
          "height": 545
        },
        "outputId": "75f3c92e-830c-40de-9c5c-24c86353da90"
      },
      "execution_count": 17,
      "outputs": [
        {
          "output_type": "display_data",
          "data": {
            "text/plain": [
              "<Figure size 432x288 with 1 Axes>"
            ],
            "image/png": "[encoded data removed]"
          },
          "metadata": {
            "needs_background": "light"
          }
        },
        {
          "output_type": "display_data",
          "data": {
            "text/plain": [
              "<Figure size 432x288 with 1 Axes>"
            ],
            "image/png": "[encoded data removed]"
          },
          "metadata": {
            "needs_background": "light"
          }
        }
      ]
    },
    {
      "cell_type": "markdown",
      "source": [
        "#Download the model"
      ],
      "metadata": {
        "id": "lD-vKaoHQAFd"
      }
    },
    {
      "cell_type": "code",
      "source": [
        "os.makedirs('/content/drive/My Drive/cut_panoramic/Model', exist_ok=True)\n",
        "model.save('/content/drive/My Drive/cut_panoramic/Model//Classification/Female/44_รอบที่4_Flimpano_Female125_250_New_Unfreez.h5')"
      ],
      "metadata": {
        "id": "74dL7-HLP_Sh"
      },
      "execution_count": 18,
      "outputs": []
    },
    {
      "cell_type": "code",
      "source": [
        "# from google.colab import files\n",
        "# files.download('/content/drive/My Drive/cut_panoramic/Model/33_รอบที่3_Flimpano_Female125_250.h5')"
      ],
      "metadata": {
        "id": "qcPW-brHQDpc"
      },
      "execution_count": null,
      "outputs": []
    }
  ]
}